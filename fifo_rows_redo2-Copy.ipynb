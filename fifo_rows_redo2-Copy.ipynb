{
 "cells": [
  {
   "cell_type": "markdown",
   "id": "8a4f934a-bc5d-4389-8931-fa890b8b83b6",
   "metadata": {},
   "source": [
    "### <font color = yellow> This is a clean copy of fifo_rows_redo.ipynb at creation point"
   ]
  },
  {
   "cell_type": "code",
   "execution_count": null,
   "id": "95cbb875-6b9c-4a01-bf64-3197b32a7fd7",
   "metadata": {},
   "outputs": [],
   "source": []
  },
  {
   "cell_type": "code",
   "execution_count": 1,
   "id": "1a40d688-bd55-4df2-be07-c685b667921e",
   "metadata": {},
   "outputs": [],
   "source": [
    "library(tibble)"
   ]
  },
  {
   "cell_type": "code",
   "execution_count": 2,
   "id": "2c80d5a2-6093-4214-8997-320bba4a3ee0",
   "metadata": {},
   "outputs": [
    {
     "name": "stdout",
     "output_type": "stream",
     "text": [
      "One | Two | Three\n"
     ]
    }
   ],
   "source": [
    "cat(\"One\", \"Two\", \"Three\", sep = \" | \", fill = TRUE)"
   ]
  },
  {
   "cell_type": "code",
   "execution_count": null,
   "id": "b43ec630-440e-4d08-8a35-7ed746140572",
   "metadata": {},
   "outputs": [],
   "source": []
  },
  {
   "cell_type": "code",
   "execution_count": 3,
   "id": "688be791-4012-4380-9bd0-e831c4aa6d77",
   "metadata": {},
   "outputs": [],
   "source": [
    "options(pillar.width = Inf)\n"
   ]
  },
  {
   "cell_type": "markdown",
   "id": "18bdfbd9-160f-4efc-b792-3f83ccd72b58",
   "metadata": {},
   "source": [
    "## <font color = yellow> create_df function () - reads .csv"
   ]
  },
  {
   "cell_type": "code",
   "execution_count": 4,
   "id": "51840835-30c6-4641-bdaa-649d2fd9a34c",
   "metadata": {},
   "outputs": [],
   "source": [
    "   \n",
    "df <- read.csv(\"fifo_new.csv\", header = TRUE, sep = \",\")\n",
    "df$date <- as.Date(df$date, origin = \"1899-12-30\")"
   ]
  },
  {
   "cell_type": "code",
   "execution_count": 5,
   "id": "5a314ebe-1db3-4cbb-a923-f7978130ee34",
   "metadata": {},
   "outputs": [
    {
     "data": {
      "text/html": [
       "<table class=\"dataframe\">\n",
       "<caption>A data.frame: 2 × 23</caption>\n",
       "<thead>\n",
       "\t<tr><th></th><th scope=col>index</th><th scope=col>date</th><th scope=col>type</th><th scope=col>co</th><th scope=col>quan</th><th scope=col>pps</th><th scope=col>basis</th><th scope=col>sale_quan</th><th scope=col>flag</th><th scope=col>buy_cf_quan</th><th scope=col>⋯</th><th scope=col>buy_pps</th><th scope=col>buy_basis</th><th scope=col>sell_quan</th><th scope=col>sell_pps</th><th scope=col>sell_basis</th><th scope=col>profit_loss</th><th scope=col>sold_cf_quan</th><th scope=col>sold_cf_pps</th><th scope=col>sold_cf_basis</th><th scope=col>true_false</th></tr>\n",
       "\t<tr><th></th><th scope=col>&lt;int&gt;</th><th scope=col>&lt;date&gt;</th><th scope=col>&lt;chr&gt;</th><th scope=col>&lt;chr&gt;</th><th scope=col>&lt;int&gt;</th><th scope=col>&lt;dbl&gt;</th><th scope=col>&lt;dbl&gt;</th><th scope=col>&lt;int&gt;</th><th scope=col>&lt;int&gt;</th><th scope=col>&lt;int&gt;</th><th scope=col>⋯</th><th scope=col>&lt;dbl&gt;</th><th scope=col>&lt;dbl&gt;</th><th scope=col>&lt;int&gt;</th><th scope=col>&lt;dbl&gt;</th><th scope=col>&lt;dbl&gt;</th><th scope=col>&lt;dbl&gt;</th><th scope=col>&lt;int&gt;</th><th scope=col>&lt;dbl&gt;</th><th scope=col>&lt;dbl&gt;</th><th scope=col>&lt;int&gt;</th></tr>\n",
       "</thead>\n",
       "<tbody>\n",
       "\t<tr><th scope=row>1</th><td>1</td><td>2022-12-31</td><td>Buy </td><td>AMC</td><td>1050</td><td>4.0700</td><td>4273.5</td><td>0</td><td>0</td><td>0</td><td>⋯</td><td>0</td><td>0</td><td>0</td><td>0</td><td>0</td><td>0</td><td>0</td><td>0</td><td>0</td><td>0</td></tr>\n",
       "\t<tr><th scope=row>2</th><td>2</td><td>2023-01-27</td><td>Sell</td><td>AMC</td><td>1000</td><td>5.5124</td><td>5512.4</td><td>0</td><td>0</td><td>0</td><td>⋯</td><td>0</td><td>0</td><td>0</td><td>0</td><td>0</td><td>0</td><td>0</td><td>0</td><td>0</td><td>0</td></tr>\n",
       "</tbody>\n",
       "</table>\n"
      ],
      "text/latex": [
       "A data.frame: 2 × 23\n",
       "\\begin{tabular}{r|lllllllllllllllllllll}\n",
       "  & index & date & type & co & quan & pps & basis & sale\\_quan & flag & buy\\_cf\\_quan & ⋯ & buy\\_pps & buy\\_basis & sell\\_quan & sell\\_pps & sell\\_basis & profit\\_loss & sold\\_cf\\_quan & sold\\_cf\\_pps & sold\\_cf\\_basis & true\\_false\\\\\n",
       "  & <int> & <date> & <chr> & <chr> & <int> & <dbl> & <dbl> & <int> & <int> & <int> & ⋯ & <dbl> & <dbl> & <int> & <dbl> & <dbl> & <dbl> & <int> & <dbl> & <dbl> & <int>\\\\\n",
       "\\hline\n",
       "\t1 & 1 & 2022-12-31 & Buy  & AMC & 1050 & 4.0700 & 4273.5 & 0 & 0 & 0 & ⋯ & 0 & 0 & 0 & 0 & 0 & 0 & 0 & 0 & 0 & 0\\\\\n",
       "\t2 & 2 & 2023-01-27 & Sell & AMC & 1000 & 5.5124 & 5512.4 & 0 & 0 & 0 & ⋯ & 0 & 0 & 0 & 0 & 0 & 0 & 0 & 0 & 0 & 0\\\\\n",
       "\\end{tabular}\n"
      ],
      "text/markdown": [
       "\n",
       "A data.frame: 2 × 23\n",
       "\n",
       "| <!--/--> | index &lt;int&gt; | date &lt;date&gt; | type &lt;chr&gt; | co &lt;chr&gt; | quan &lt;int&gt; | pps &lt;dbl&gt; | basis &lt;dbl&gt; | sale_quan &lt;int&gt; | flag &lt;int&gt; | buy_cf_quan &lt;int&gt; | ⋯ ⋯ | buy_pps &lt;dbl&gt; | buy_basis &lt;dbl&gt; | sell_quan &lt;int&gt; | sell_pps &lt;dbl&gt; | sell_basis &lt;dbl&gt; | profit_loss &lt;dbl&gt; | sold_cf_quan &lt;int&gt; | sold_cf_pps &lt;dbl&gt; | sold_cf_basis &lt;dbl&gt; | true_false &lt;int&gt; |\n",
       "|---|---|---|---|---|---|---|---|---|---|---|---|---|---|---|---|---|---|---|---|---|---|\n",
       "| 1 | 1 | 2022-12-31 | Buy  | AMC | 1050 | 4.0700 | 4273.5 | 0 | 0 | 0 | ⋯ | 0 | 0 | 0 | 0 | 0 | 0 | 0 | 0 | 0 | 0 |\n",
       "| 2 | 2 | 2023-01-27 | Sell | AMC | 1000 | 5.5124 | 5512.4 | 0 | 0 | 0 | ⋯ | 0 | 0 | 0 | 0 | 0 | 0 | 0 | 0 | 0 | 0 |\n",
       "\n"
      ],
      "text/plain": [
       "  index date       type co  quan pps    basis  sale_quan flag buy_cf_quan ⋯\n",
       "1 1     2022-12-31 Buy  AMC 1050 4.0700 4273.5 0         0    0           ⋯\n",
       "2 2     2023-01-27 Sell AMC 1000 5.5124 5512.4 0         0    0           ⋯\n",
       "  buy_pps buy_basis sell_quan sell_pps sell_basis profit_loss sold_cf_quan\n",
       "1 0       0         0         0        0          0           0           \n",
       "2 0       0         0         0        0          0           0           \n",
       "  sold_cf_pps sold_cf_basis true_false\n",
       "1 0           0             0         \n",
       "2 0           0             0         "
      ]
     },
     "metadata": {},
     "output_type": "display_data"
    }
   ],
   "source": [
    "head(df,2)"
   ]
  },
  {
   "cell_type": "code",
   "execution_count": 6,
   "id": "2ec1d402-7bf9-4ec5-8209-ec0c023622f4",
   "metadata": {},
   "outputs": [],
   "source": [
    "df$flag <- FALSE\n",
    "df$true_false <- FALSE\n"
   ]
  },
  {
   "cell_type": "code",
   "execution_count": 7,
   "id": "4c25354d-5db4-4eda-bf18-fe106bfd67ee",
   "metadata": {
    "tags": []
   },
   "outputs": [
    {
     "data": {
      "text/html": [
       "<table class=\"dataframe\">\n",
       "<caption>A data.frame: 2 × 23</caption>\n",
       "<thead>\n",
       "\t<tr><th></th><th scope=col>index</th><th scope=col>date</th><th scope=col>type</th><th scope=col>co</th><th scope=col>quan</th><th scope=col>pps</th><th scope=col>basis</th><th scope=col>sale_quan</th><th scope=col>flag</th><th scope=col>buy_cf_quan</th><th scope=col>⋯</th><th scope=col>buy_pps</th><th scope=col>buy_basis</th><th scope=col>sell_quan</th><th scope=col>sell_pps</th><th scope=col>sell_basis</th><th scope=col>profit_loss</th><th scope=col>sold_cf_quan</th><th scope=col>sold_cf_pps</th><th scope=col>sold_cf_basis</th><th scope=col>true_false</th></tr>\n",
       "\t<tr><th></th><th scope=col>&lt;int&gt;</th><th scope=col>&lt;date&gt;</th><th scope=col>&lt;chr&gt;</th><th scope=col>&lt;chr&gt;</th><th scope=col>&lt;int&gt;</th><th scope=col>&lt;dbl&gt;</th><th scope=col>&lt;dbl&gt;</th><th scope=col>&lt;int&gt;</th><th scope=col>&lt;lgl&gt;</th><th scope=col>&lt;int&gt;</th><th scope=col>⋯</th><th scope=col>&lt;dbl&gt;</th><th scope=col>&lt;dbl&gt;</th><th scope=col>&lt;int&gt;</th><th scope=col>&lt;dbl&gt;</th><th scope=col>&lt;dbl&gt;</th><th scope=col>&lt;dbl&gt;</th><th scope=col>&lt;int&gt;</th><th scope=col>&lt;dbl&gt;</th><th scope=col>&lt;dbl&gt;</th><th scope=col>&lt;lgl&gt;</th></tr>\n",
       "</thead>\n",
       "<tbody>\n",
       "\t<tr><th scope=row>1</th><td>1</td><td>2022-12-31</td><td>Buy </td><td>AMC</td><td>1050</td><td>4.0700</td><td>4273.5</td><td>0</td><td>FALSE</td><td>0</td><td>⋯</td><td>0</td><td>0</td><td>0</td><td>0</td><td>0</td><td>0</td><td>0</td><td>0</td><td>0</td><td>FALSE</td></tr>\n",
       "\t<tr><th scope=row>2</th><td>2</td><td>2023-01-27</td><td>Sell</td><td>AMC</td><td>1000</td><td>5.5124</td><td>5512.4</td><td>0</td><td>FALSE</td><td>0</td><td>⋯</td><td>0</td><td>0</td><td>0</td><td>0</td><td>0</td><td>0</td><td>0</td><td>0</td><td>0</td><td>FALSE</td></tr>\n",
       "</tbody>\n",
       "</table>\n"
      ],
      "text/latex": [
       "A data.frame: 2 × 23\n",
       "\\begin{tabular}{r|lllllllllllllllllllll}\n",
       "  & index & date & type & co & quan & pps & basis & sale\\_quan & flag & buy\\_cf\\_quan & ⋯ & buy\\_pps & buy\\_basis & sell\\_quan & sell\\_pps & sell\\_basis & profit\\_loss & sold\\_cf\\_quan & sold\\_cf\\_pps & sold\\_cf\\_basis & true\\_false\\\\\n",
       "  & <int> & <date> & <chr> & <chr> & <int> & <dbl> & <dbl> & <int> & <lgl> & <int> & ⋯ & <dbl> & <dbl> & <int> & <dbl> & <dbl> & <dbl> & <int> & <dbl> & <dbl> & <lgl>\\\\\n",
       "\\hline\n",
       "\t1 & 1 & 2022-12-31 & Buy  & AMC & 1050 & 4.0700 & 4273.5 & 0 & FALSE & 0 & ⋯ & 0 & 0 & 0 & 0 & 0 & 0 & 0 & 0 & 0 & FALSE\\\\\n",
       "\t2 & 2 & 2023-01-27 & Sell & AMC & 1000 & 5.5124 & 5512.4 & 0 & FALSE & 0 & ⋯ & 0 & 0 & 0 & 0 & 0 & 0 & 0 & 0 & 0 & FALSE\\\\\n",
       "\\end{tabular}\n"
      ],
      "text/markdown": [
       "\n",
       "A data.frame: 2 × 23\n",
       "\n",
       "| <!--/--> | index &lt;int&gt; | date &lt;date&gt; | type &lt;chr&gt; | co &lt;chr&gt; | quan &lt;int&gt; | pps &lt;dbl&gt; | basis &lt;dbl&gt; | sale_quan &lt;int&gt; | flag &lt;lgl&gt; | buy_cf_quan &lt;int&gt; | ⋯ ⋯ | buy_pps &lt;dbl&gt; | buy_basis &lt;dbl&gt; | sell_quan &lt;int&gt; | sell_pps &lt;dbl&gt; | sell_basis &lt;dbl&gt; | profit_loss &lt;dbl&gt; | sold_cf_quan &lt;int&gt; | sold_cf_pps &lt;dbl&gt; | sold_cf_basis &lt;dbl&gt; | true_false &lt;lgl&gt; |\n",
       "|---|---|---|---|---|---|---|---|---|---|---|---|---|---|---|---|---|---|---|---|---|---|\n",
       "| 1 | 1 | 2022-12-31 | Buy  | AMC | 1050 | 4.0700 | 4273.5 | 0 | FALSE | 0 | ⋯ | 0 | 0 | 0 | 0 | 0 | 0 | 0 | 0 | 0 | FALSE |\n",
       "| 2 | 2 | 2023-01-27 | Sell | AMC | 1000 | 5.5124 | 5512.4 | 0 | FALSE | 0 | ⋯ | 0 | 0 | 0 | 0 | 0 | 0 | 0 | 0 | 0 | FALSE |\n",
       "\n"
      ],
      "text/plain": [
       "  index date       type co  quan pps    basis  sale_quan flag  buy_cf_quan ⋯\n",
       "1 1     2022-12-31 Buy  AMC 1050 4.0700 4273.5 0         FALSE 0           ⋯\n",
       "2 2     2023-01-27 Sell AMC 1000 5.5124 5512.4 0         FALSE 0           ⋯\n",
       "  buy_pps buy_basis sell_quan sell_pps sell_basis profit_loss sold_cf_quan\n",
       "1 0       0         0         0        0          0           0           \n",
       "2 0       0         0         0        0          0           0           \n",
       "  sold_cf_pps sold_cf_basis true_false\n",
       "1 0           0             FALSE     \n",
       "2 0           0             FALSE     "
      ]
     },
     "metadata": {},
     "output_type": "display_data"
    }
   ],
   "source": [
    "head(df, 2)"
   ]
  },
  {
   "cell_type": "code",
   "execution_count": 8,
   "id": "7567807a-7d94-4f43-9937-a0076c6a501f",
   "metadata": {},
   "outputs": [],
   "source": [
    "tester <- function() {\n",
    "    if(buys$type[i] == \"Buy\" && sells$type[i+1] == \"Sell\") {\n",
    "        cat(\"Std buy/sell row orientation.  buys$type[i] = : \", buys$type[i], \"sells$type[i+1] = : \", sells$type[i+1],  \"\\n\")    \n",
    "    }else if( buys$type[i] != \"Buy\" && sells$type[i+1] == \"Sell\") {\n",
    "        cat(\"Irregular buy/sell row postion. buys$type[i] = : \", buys$type[i], \"sells$type[i+1] = : \", sells$type[i+1],  \"\\n\")   \n",
    "        }\n",
    "  }\n",
    "# tester()"
   ]
  },
  {
   "cell_type": "code",
   "execution_count": null,
   "id": "efc7b123-04f8-496a-b4c3-05f0b676daea",
   "metadata": {},
   "outputs": [],
   "source": []
  },
  {
   "cell_type": "markdown",
   "id": "ad6fef1e-5fa2-4f99-8d77-c5706407dfde",
   "metadata": {},
   "source": [
    "## <font color = yellow>1. Create data & dfs"
   ]
  },
  {
   "cell_type": "code",
   "execution_count": 9,
   "id": "105641ba-51ef-4815-9840-faa128ad81b9",
   "metadata": {
    "tags": []
   },
   "outputs": [],
   "source": [
    "create_data <- function () {   \n",
    "   \n",
    "    df <- read.csv(\"fifo_new.csv\", header = TRUE, sep = \",\")\n",
    "    df$date <- as.Date(df$date, origin = \"1899-12-30\")\n",
    " \n",
    "    df$flag <- FALSE\n",
    "    df$true_false <- FALSE\n",
    "    \n",
    "    sale_records <- data.frame() \n",
    "\n",
    "    # create dfs from filtered df\n",
    "    buys <- df[df$type == 'Buy', ]  # Filter buys\n",
    "    sells <- df[df$type == 'Sell', ]  # Filter sells\n",
    "    b <- buys[1,]\n",
    "    s <- sells[1,]\n",
    "    \n",
    "    \n",
    "    # Assign variables to the global environment\n",
    "    assign(\"df\", df, envir = .GlobalEnv)\n",
    "    assign(\"buys\", buys, envir = .GlobalEnv)\n",
    "    assign(\"sells\", sells, envir = .GlobalEnv)\n",
    "    assign(\"b\", b, envir = .GlobalEnv)\n",
    "    assign(\"s\", s, envir = .GlobalEnv)\n",
    "    \n",
    "    }\n",
    "\n",
    "\n",
    "sale_records <- data.frame()"
   ]
  },
  {
   "cell_type": "code",
   "execution_count": 10,
   "id": "ca83265f-1bf6-45a0-b31e-0894e4361de8",
   "metadata": {},
   "outputs": [],
   "source": [
    "# fct call\n",
    "create_data()\n",
    "\n",
    "#create new empty df to record each buy/sell transaction\n",
    "sale_records <- data.frame()"
   ]
  },
  {
   "cell_type": "markdown",
   "id": "72333e7b-7971-4afa-9494-ad26116963ab",
   "metadata": {},
   "source": [
    "## <font color = lime> Examining data and dfs"
   ]
  },
  {
   "cell_type": "code",
   "execution_count": null,
   "id": "fd062d61-00f0-423e-af2f-58298aa04f5e",
   "metadata": {},
   "outputs": [],
   "source": []
  },
  {
   "cell_type": "code",
   "execution_count": 11,
   "id": "5a58d2a1-bd12-489a-9ce3-48e1a5ba6dda",
   "metadata": {},
   "outputs": [
    {
     "data": {
      "text/html": [
       "23"
      ],
      "text/latex": [
       "23"
      ],
      "text/markdown": [
       "23"
      ],
      "text/plain": [
       "[1] 23"
      ]
     },
     "metadata": {},
     "output_type": "display_data"
    },
    {
     "data": {
      "text/html": [
       "18"
      ],
      "text/latex": [
       "18"
      ],
      "text/markdown": [
       "18"
      ],
      "text/plain": [
       "[1] 18"
      ]
     },
     "metadata": {},
     "output_type": "display_data"
    },
    {
     "data": {
      "text/html": [
       "<style>\n",
       ".list-inline {list-style: none; margin:0; padding: 0}\n",
       ".list-inline>li {display: inline-block}\n",
       ".list-inline>li:not(:last-child)::after {content: \"\\00b7\"; padding: 0 .5ex}\n",
       "</style>\n",
       "<ol class=list-inline><li>18</li><li>23</li></ol>\n"
      ],
      "text/latex": [
       "\\begin{enumerate*}\n",
       "\\item 18\n",
       "\\item 23\n",
       "\\end{enumerate*}\n"
      ],
      "text/markdown": [
       "1. 18\n",
       "2. 23\n",
       "\n",
       "\n"
      ],
      "text/plain": [
       "[1] 18 23"
      ]
     },
     "metadata": {},
     "output_type": "display_data"
    },
    {
     "data": {
      "text/html": [
       "<table class=\"dataframe\">\n",
       "<caption>A data.frame: 3 × 23</caption>\n",
       "<thead>\n",
       "\t<tr><th></th><th scope=col>index</th><th scope=col>date</th><th scope=col>type</th><th scope=col>co</th><th scope=col>quan</th><th scope=col>pps</th><th scope=col>basis</th><th scope=col>sale_quan</th><th scope=col>flag</th><th scope=col>buy_cf_quan</th><th scope=col>⋯</th><th scope=col>buy_pps</th><th scope=col>buy_basis</th><th scope=col>sell_quan</th><th scope=col>sell_pps</th><th scope=col>sell_basis</th><th scope=col>profit_loss</th><th scope=col>sold_cf_quan</th><th scope=col>sold_cf_pps</th><th scope=col>sold_cf_basis</th><th scope=col>true_false</th></tr>\n",
       "\t<tr><th></th><th scope=col>&lt;int&gt;</th><th scope=col>&lt;date&gt;</th><th scope=col>&lt;chr&gt;</th><th scope=col>&lt;chr&gt;</th><th scope=col>&lt;int&gt;</th><th scope=col>&lt;dbl&gt;</th><th scope=col>&lt;dbl&gt;</th><th scope=col>&lt;int&gt;</th><th scope=col>&lt;lgl&gt;</th><th scope=col>&lt;int&gt;</th><th scope=col>⋯</th><th scope=col>&lt;dbl&gt;</th><th scope=col>&lt;dbl&gt;</th><th scope=col>&lt;int&gt;</th><th scope=col>&lt;dbl&gt;</th><th scope=col>&lt;dbl&gt;</th><th scope=col>&lt;dbl&gt;</th><th scope=col>&lt;int&gt;</th><th scope=col>&lt;dbl&gt;</th><th scope=col>&lt;dbl&gt;</th><th scope=col>&lt;lgl&gt;</th></tr>\n",
       "</thead>\n",
       "<tbody>\n",
       "\t<tr><th scope=row>1</th><td>1</td><td>2022-12-31</td><td>Buy</td><td>AMC</td><td>1050</td><td>4.070</td><td>4273.5</td><td>0</td><td>FALSE</td><td>0</td><td>⋯</td><td>0</td><td>0</td><td>0</td><td>0</td><td>0</td><td>0</td><td>0</td><td>0</td><td>0</td><td>FALSE</td></tr>\n",
       "\t<tr><th scope=row>3</th><td>3</td><td>2023-01-20</td><td>Buy</td><td>AMC</td><td>1000</td><td>5.625</td><td>5625.0</td><td>0</td><td>FALSE</td><td>0</td><td>⋯</td><td>0</td><td>0</td><td>0</td><td>0</td><td>0</td><td>0</td><td>0</td><td>0</td><td>0</td><td>FALSE</td></tr>\n",
       "\t<tr><th scope=row>5</th><td>5</td><td>2023-01-23</td><td>Buy</td><td>AMC</td><td>1000</td><td>5.788</td><td>5788.0</td><td>0</td><td>FALSE</td><td>0</td><td>⋯</td><td>0</td><td>0</td><td>0</td><td>0</td><td>0</td><td>0</td><td>0</td><td>0</td><td>0</td><td>FALSE</td></tr>\n",
       "</tbody>\n",
       "</table>\n"
      ],
      "text/latex": [
       "A data.frame: 3 × 23\n",
       "\\begin{tabular}{r|lllllllllllllllllllll}\n",
       "  & index & date & type & co & quan & pps & basis & sale\\_quan & flag & buy\\_cf\\_quan & ⋯ & buy\\_pps & buy\\_basis & sell\\_quan & sell\\_pps & sell\\_basis & profit\\_loss & sold\\_cf\\_quan & sold\\_cf\\_pps & sold\\_cf\\_basis & true\\_false\\\\\n",
       "  & <int> & <date> & <chr> & <chr> & <int> & <dbl> & <dbl> & <int> & <lgl> & <int> & ⋯ & <dbl> & <dbl> & <int> & <dbl> & <dbl> & <dbl> & <int> & <dbl> & <dbl> & <lgl>\\\\\n",
       "\\hline\n",
       "\t1 & 1 & 2022-12-31 & Buy & AMC & 1050 & 4.070 & 4273.5 & 0 & FALSE & 0 & ⋯ & 0 & 0 & 0 & 0 & 0 & 0 & 0 & 0 & 0 & FALSE\\\\\n",
       "\t3 & 3 & 2023-01-20 & Buy & AMC & 1000 & 5.625 & 5625.0 & 0 & FALSE & 0 & ⋯ & 0 & 0 & 0 & 0 & 0 & 0 & 0 & 0 & 0 & FALSE\\\\\n",
       "\t5 & 5 & 2023-01-23 & Buy & AMC & 1000 & 5.788 & 5788.0 & 0 & FALSE & 0 & ⋯ & 0 & 0 & 0 & 0 & 0 & 0 & 0 & 0 & 0 & FALSE\\\\\n",
       "\\end{tabular}\n"
      ],
      "text/markdown": [
       "\n",
       "A data.frame: 3 × 23\n",
       "\n",
       "| <!--/--> | index &lt;int&gt; | date &lt;date&gt; | type &lt;chr&gt; | co &lt;chr&gt; | quan &lt;int&gt; | pps &lt;dbl&gt; | basis &lt;dbl&gt; | sale_quan &lt;int&gt; | flag &lt;lgl&gt; | buy_cf_quan &lt;int&gt; | ⋯ ⋯ | buy_pps &lt;dbl&gt; | buy_basis &lt;dbl&gt; | sell_quan &lt;int&gt; | sell_pps &lt;dbl&gt; | sell_basis &lt;dbl&gt; | profit_loss &lt;dbl&gt; | sold_cf_quan &lt;int&gt; | sold_cf_pps &lt;dbl&gt; | sold_cf_basis &lt;dbl&gt; | true_false &lt;lgl&gt; |\n",
       "|---|---|---|---|---|---|---|---|---|---|---|---|---|---|---|---|---|---|---|---|---|---|\n",
       "| 1 | 1 | 2022-12-31 | Buy | AMC | 1050 | 4.070 | 4273.5 | 0 | FALSE | 0 | ⋯ | 0 | 0 | 0 | 0 | 0 | 0 | 0 | 0 | 0 | FALSE |\n",
       "| 3 | 3 | 2023-01-20 | Buy | AMC | 1000 | 5.625 | 5625.0 | 0 | FALSE | 0 | ⋯ | 0 | 0 | 0 | 0 | 0 | 0 | 0 | 0 | 0 | FALSE |\n",
       "| 5 | 5 | 2023-01-23 | Buy | AMC | 1000 | 5.788 | 5788.0 | 0 | FALSE | 0 | ⋯ | 0 | 0 | 0 | 0 | 0 | 0 | 0 | 0 | 0 | FALSE |\n",
       "\n"
      ],
      "text/plain": [
       "  index date       type co  quan pps   basis  sale_quan flag  buy_cf_quan ⋯\n",
       "1 1     2022-12-31 Buy  AMC 1050 4.070 4273.5 0         FALSE 0           ⋯\n",
       "3 3     2023-01-20 Buy  AMC 1000 5.625 5625.0 0         FALSE 0           ⋯\n",
       "5 5     2023-01-23 Buy  AMC 1000 5.788 5788.0 0         FALSE 0           ⋯\n",
       "  buy_pps buy_basis sell_quan sell_pps sell_basis profit_loss sold_cf_quan\n",
       "1 0       0         0         0        0          0           0           \n",
       "3 0       0         0         0        0          0           0           \n",
       "5 0       0         0         0        0          0           0           \n",
       "  sold_cf_pps sold_cf_basis true_false\n",
       "1 0           0             FALSE     \n",
       "3 0           0             FALSE     \n",
       "5 0           0             FALSE     "
      ]
     },
     "metadata": {},
     "output_type": "display_data"
    },
    {
     "data": {
      "text/html": [
       "<table class=\"dataframe\">\n",
       "<caption>A data.frame: 3 × 23</caption>\n",
       "<thead>\n",
       "\t<tr><th></th><th scope=col>index</th><th scope=col>date</th><th scope=col>type</th><th scope=col>co</th><th scope=col>quan</th><th scope=col>pps</th><th scope=col>basis</th><th scope=col>sale_quan</th><th scope=col>flag</th><th scope=col>buy_cf_quan</th><th scope=col>⋯</th><th scope=col>buy_pps</th><th scope=col>buy_basis</th><th scope=col>sell_quan</th><th scope=col>sell_pps</th><th scope=col>sell_basis</th><th scope=col>profit_loss</th><th scope=col>sold_cf_quan</th><th scope=col>sold_cf_pps</th><th scope=col>sold_cf_basis</th><th scope=col>true_false</th></tr>\n",
       "\t<tr><th></th><th scope=col>&lt;int&gt;</th><th scope=col>&lt;date&gt;</th><th scope=col>&lt;chr&gt;</th><th scope=col>&lt;chr&gt;</th><th scope=col>&lt;int&gt;</th><th scope=col>&lt;dbl&gt;</th><th scope=col>&lt;dbl&gt;</th><th scope=col>&lt;int&gt;</th><th scope=col>&lt;lgl&gt;</th><th scope=col>&lt;int&gt;</th><th scope=col>⋯</th><th scope=col>&lt;dbl&gt;</th><th scope=col>&lt;dbl&gt;</th><th scope=col>&lt;int&gt;</th><th scope=col>&lt;dbl&gt;</th><th scope=col>&lt;dbl&gt;</th><th scope=col>&lt;dbl&gt;</th><th scope=col>&lt;int&gt;</th><th scope=col>&lt;dbl&gt;</th><th scope=col>&lt;dbl&gt;</th><th scope=col>&lt;lgl&gt;</th></tr>\n",
       "</thead>\n",
       "<tbody>\n",
       "\t<tr><th scope=row>2</th><td>2</td><td>2023-01-27</td><td>Sell</td><td>AMC</td><td>1000</td><td>5.51240</td><td>5512.40</td><td>0</td><td>FALSE</td><td>0</td><td>⋯</td><td>0</td><td>0</td><td>0</td><td>0</td><td>0</td><td>0</td><td>0</td><td>0</td><td>0</td><td>FALSE</td></tr>\n",
       "\t<tr><th scope=row>4</th><td>4</td><td>2023-02-03</td><td>Sell</td><td>AMC</td><td>1000</td><td>6.68255</td><td>6682.55</td><td>0</td><td>FALSE</td><td>0</td><td>⋯</td><td>0</td><td>0</td><td>0</td><td>0</td><td>0</td><td>0</td><td>0</td><td>0</td><td>0</td><td>FALSE</td></tr>\n",
       "\t<tr><th scope=row>6</th><td>6</td><td>2023-02-03</td><td>Sell</td><td>AMC</td><td>1000</td><td>6.25500</td><td>6255.00</td><td>0</td><td>FALSE</td><td>0</td><td>⋯</td><td>0</td><td>0</td><td>0</td><td>0</td><td>0</td><td>0</td><td>0</td><td>0</td><td>0</td><td>FALSE</td></tr>\n",
       "</tbody>\n",
       "</table>\n"
      ],
      "text/latex": [
       "A data.frame: 3 × 23\n",
       "\\begin{tabular}{r|lllllllllllllllllllll}\n",
       "  & index & date & type & co & quan & pps & basis & sale\\_quan & flag & buy\\_cf\\_quan & ⋯ & buy\\_pps & buy\\_basis & sell\\_quan & sell\\_pps & sell\\_basis & profit\\_loss & sold\\_cf\\_quan & sold\\_cf\\_pps & sold\\_cf\\_basis & true\\_false\\\\\n",
       "  & <int> & <date> & <chr> & <chr> & <int> & <dbl> & <dbl> & <int> & <lgl> & <int> & ⋯ & <dbl> & <dbl> & <int> & <dbl> & <dbl> & <dbl> & <int> & <dbl> & <dbl> & <lgl>\\\\\n",
       "\\hline\n",
       "\t2 & 2 & 2023-01-27 & Sell & AMC & 1000 & 5.51240 & 5512.40 & 0 & FALSE & 0 & ⋯ & 0 & 0 & 0 & 0 & 0 & 0 & 0 & 0 & 0 & FALSE\\\\\n",
       "\t4 & 4 & 2023-02-03 & Sell & AMC & 1000 & 6.68255 & 6682.55 & 0 & FALSE & 0 & ⋯ & 0 & 0 & 0 & 0 & 0 & 0 & 0 & 0 & 0 & FALSE\\\\\n",
       "\t6 & 6 & 2023-02-03 & Sell & AMC & 1000 & 6.25500 & 6255.00 & 0 & FALSE & 0 & ⋯ & 0 & 0 & 0 & 0 & 0 & 0 & 0 & 0 & 0 & FALSE\\\\\n",
       "\\end{tabular}\n"
      ],
      "text/markdown": [
       "\n",
       "A data.frame: 3 × 23\n",
       "\n",
       "| <!--/--> | index &lt;int&gt; | date &lt;date&gt; | type &lt;chr&gt; | co &lt;chr&gt; | quan &lt;int&gt; | pps &lt;dbl&gt; | basis &lt;dbl&gt; | sale_quan &lt;int&gt; | flag &lt;lgl&gt; | buy_cf_quan &lt;int&gt; | ⋯ ⋯ | buy_pps &lt;dbl&gt; | buy_basis &lt;dbl&gt; | sell_quan &lt;int&gt; | sell_pps &lt;dbl&gt; | sell_basis &lt;dbl&gt; | profit_loss &lt;dbl&gt; | sold_cf_quan &lt;int&gt; | sold_cf_pps &lt;dbl&gt; | sold_cf_basis &lt;dbl&gt; | true_false &lt;lgl&gt; |\n",
       "|---|---|---|---|---|---|---|---|---|---|---|---|---|---|---|---|---|---|---|---|---|---|\n",
       "| 2 | 2 | 2023-01-27 | Sell | AMC | 1000 | 5.51240 | 5512.40 | 0 | FALSE | 0 | ⋯ | 0 | 0 | 0 | 0 | 0 | 0 | 0 | 0 | 0 | FALSE |\n",
       "| 4 | 4 | 2023-02-03 | Sell | AMC | 1000 | 6.68255 | 6682.55 | 0 | FALSE | 0 | ⋯ | 0 | 0 | 0 | 0 | 0 | 0 | 0 | 0 | 0 | FALSE |\n",
       "| 6 | 6 | 2023-02-03 | Sell | AMC | 1000 | 6.25500 | 6255.00 | 0 | FALSE | 0 | ⋯ | 0 | 0 | 0 | 0 | 0 | 0 | 0 | 0 | 0 | FALSE |\n",
       "\n"
      ],
      "text/plain": [
       "  index date       type co  quan pps     basis   sale_quan flag  buy_cf_quan ⋯\n",
       "2 2     2023-01-27 Sell AMC 1000 5.51240 5512.40 0         FALSE 0           ⋯\n",
       "4 4     2023-02-03 Sell AMC 1000 6.68255 6682.55 0         FALSE 0           ⋯\n",
       "6 6     2023-02-03 Sell AMC 1000 6.25500 6255.00 0         FALSE 0           ⋯\n",
       "  buy_pps buy_basis sell_quan sell_pps sell_basis profit_loss sold_cf_quan\n",
       "2 0       0         0         0        0          0           0           \n",
       "4 0       0         0         0        0          0           0           \n",
       "6 0       0         0         0        0          0           0           \n",
       "  sold_cf_pps sold_cf_basis true_false\n",
       "2 0           0             FALSE     \n",
       "4 0           0             FALSE     \n",
       "6 0           0             FALSE     "
      ]
     },
     "metadata": {},
     "output_type": "display_data"
    }
   ],
   "source": [
    "nrow(buys)\n",
    "nrow(sells)\n",
    "dim(sells)\n",
    "head(buys, 3)\n",
    "head(sells,3)"
   ]
  },
  {
   "cell_type": "code",
   "execution_count": null,
   "id": "9f2143e2-09d8-4405-ace5-ffb54a578e14",
   "metadata": {},
   "outputs": [],
   "source": []
  },
  {
   "cell_type": "markdown",
   "id": "20e00a2d-d145-4062-ab58-910dee152307",
   "metadata": {},
   "source": [
    "### <font color = yellow>2. update_b() - updates the basic b variable with data from buy/sell rows \n",
    "    \n",
    "#### b>s, b<s, b==s,"
   ]
  },
  {
   "cell_type": "code",
   "execution_count": 12,
   "id": "1978c836-b9a7-4f64-86fe-bff3c8f19743",
   "metadata": {},
   "outputs": [
    {
     "name": "stdout",
     "output_type": "stream",
     "text": [
      "for loop, loop is i:  1 \n",
      "for loop, loop is i:  2 \n",
      "for loop, loop is i:  3 \n"
     ]
    }
   ],
   "source": [
    "for(i in 1:3) {\n",
    "    cat(\"for loop, loop is i: \", i, \"\\n\")\n",
    "    }"
   ]
  },
  {
   "cell_type": "code",
   "execution_count": 13,
   "id": "2c110e59-8021-41c9-a39e-918d3020b6df",
   "metadata": {},
   "outputs": [
    {
     "data": {
      "text/html": [
       "<table class=\"dataframe\">\n",
       "<caption>A data.frame: 1 × 23</caption>\n",
       "<thead>\n",
       "\t<tr><th></th><th scope=col>index</th><th scope=col>date</th><th scope=col>type</th><th scope=col>co</th><th scope=col>quan</th><th scope=col>pps</th><th scope=col>basis</th><th scope=col>sale_quan</th><th scope=col>flag</th><th scope=col>buy_cf_quan</th><th scope=col>⋯</th><th scope=col>buy_pps</th><th scope=col>buy_basis</th><th scope=col>sell_quan</th><th scope=col>sell_pps</th><th scope=col>sell_basis</th><th scope=col>profit_loss</th><th scope=col>sold_cf_quan</th><th scope=col>sold_cf_pps</th><th scope=col>sold_cf_basis</th><th scope=col>true_false</th></tr>\n",
       "\t<tr><th></th><th scope=col>&lt;int&gt;</th><th scope=col>&lt;date&gt;</th><th scope=col>&lt;chr&gt;</th><th scope=col>&lt;chr&gt;</th><th scope=col>&lt;int&gt;</th><th scope=col>&lt;dbl&gt;</th><th scope=col>&lt;dbl&gt;</th><th scope=col>&lt;int&gt;</th><th scope=col>&lt;lgl&gt;</th><th scope=col>&lt;int&gt;</th><th scope=col>⋯</th><th scope=col>&lt;dbl&gt;</th><th scope=col>&lt;dbl&gt;</th><th scope=col>&lt;int&gt;</th><th scope=col>&lt;dbl&gt;</th><th scope=col>&lt;dbl&gt;</th><th scope=col>&lt;dbl&gt;</th><th scope=col>&lt;int&gt;</th><th scope=col>&lt;dbl&gt;</th><th scope=col>&lt;dbl&gt;</th><th scope=col>&lt;lgl&gt;</th></tr>\n",
       "</thead>\n",
       "<tbody>\n",
       "\t<tr><th scope=row>1</th><td>1</td><td>2022-12-31</td><td>Buy</td><td>AMC</td><td>1050</td><td>4.07</td><td>4273.5</td><td>0</td><td>FALSE</td><td>0</td><td>⋯</td><td>0</td><td>0</td><td>0</td><td>0</td><td>0</td><td>0</td><td>0</td><td>0</td><td>0</td><td>FALSE</td></tr>\n",
       "</tbody>\n",
       "</table>\n"
      ],
      "text/latex": [
       "A data.frame: 1 × 23\n",
       "\\begin{tabular}{r|lllllllllllllllllllll}\n",
       "  & index & date & type & co & quan & pps & basis & sale\\_quan & flag & buy\\_cf\\_quan & ⋯ & buy\\_pps & buy\\_basis & sell\\_quan & sell\\_pps & sell\\_basis & profit\\_loss & sold\\_cf\\_quan & sold\\_cf\\_pps & sold\\_cf\\_basis & true\\_false\\\\\n",
       "  & <int> & <date> & <chr> & <chr> & <int> & <dbl> & <dbl> & <int> & <lgl> & <int> & ⋯ & <dbl> & <dbl> & <int> & <dbl> & <dbl> & <dbl> & <int> & <dbl> & <dbl> & <lgl>\\\\\n",
       "\\hline\n",
       "\t1 & 1 & 2022-12-31 & Buy & AMC & 1050 & 4.07 & 4273.5 & 0 & FALSE & 0 & ⋯ & 0 & 0 & 0 & 0 & 0 & 0 & 0 & 0 & 0 & FALSE\\\\\n",
       "\\end{tabular}\n"
      ],
      "text/markdown": [
       "\n",
       "A data.frame: 1 × 23\n",
       "\n",
       "| <!--/--> | index &lt;int&gt; | date &lt;date&gt; | type &lt;chr&gt; | co &lt;chr&gt; | quan &lt;int&gt; | pps &lt;dbl&gt; | basis &lt;dbl&gt; | sale_quan &lt;int&gt; | flag &lt;lgl&gt; | buy_cf_quan &lt;int&gt; | ⋯ ⋯ | buy_pps &lt;dbl&gt; | buy_basis &lt;dbl&gt; | sell_quan &lt;int&gt; | sell_pps &lt;dbl&gt; | sell_basis &lt;dbl&gt; | profit_loss &lt;dbl&gt; | sold_cf_quan &lt;int&gt; | sold_cf_pps &lt;dbl&gt; | sold_cf_basis &lt;dbl&gt; | true_false &lt;lgl&gt; |\n",
       "|---|---|---|---|---|---|---|---|---|---|---|---|---|---|---|---|---|---|---|---|---|---|\n",
       "| 1 | 1 | 2022-12-31 | Buy | AMC | 1050 | 4.07 | 4273.5 | 0 | FALSE | 0 | ⋯ | 0 | 0 | 0 | 0 | 0 | 0 | 0 | 0 | 0 | FALSE |\n",
       "\n"
      ],
      "text/plain": [
       "  index date       type co  quan pps  basis  sale_quan flag  buy_cf_quan ⋯\n",
       "1 1     2022-12-31 Buy  AMC 1050 4.07 4273.5 0         FALSE 0           ⋯\n",
       "  buy_pps buy_basis sell_quan sell_pps sell_basis profit_loss sold_cf_quan\n",
       "1 0       0         0         0        0          0           0           \n",
       "  sold_cf_pps sold_cf_basis true_false\n",
       "1 0           0             FALSE     "
      ]
     },
     "metadata": {},
     "output_type": "display_data"
    }
   ],
   "source": [
    "# handy\n",
    "first_row <- head(buys, n = 1)\n",
    "first_row"
   ]
  },
  {
   "cell_type": "code",
   "execution_count": null,
   "id": "bc6cc4bb-0b62-4a60-ae33-36407796246a",
   "metadata": {},
   "outputs": [],
   "source": []
  },
  {
   "cell_type": "markdown",
   "id": "5cd65c8a-88a2-434f-afe7-9cccbb2cc00b",
   "metadata": {},
   "source": [
    "#### <font color = lime> Basic version: when b == s ( no c/f)\n",
    "    \n",
    "#### <font color = lime> Basic version: when b > s ( buy c/f)    \n",
    "    \n",
    "#### <font color = lime> Basic version: when b < s (sell  c/f)\n",
    "    "
   ]
  },
  {
   "cell_type": "code",
   "execution_count": 14,
   "id": "089c01db-88a1-4c20-aa2b-4f1e4e64ba3f",
   "metadata": {},
   "outputs": [],
   "source": [
    "# # create a new var: update_b), and assign values to it based upon the transaction type:  b>s, b<s, b==s \n",
    "\n",
    "\n",
    "update_b <- function(b,s, buys) {\n",
    "\n",
    "\n",
    "        # ( b > s ) ,  Buy C/F \n",
    "    \n",
    "        if ( b$quan > s$quan) { \n",
    "            \n",
    "            b$sale_quan  <- s$quan    \n",
    "            b$buy_quan <- s$quan\n",
    "            b$buy_pps <-  b$pps\n",
    "            b$buy_basis <-  b$buy_quan * b$pps\n",
    "\n",
    "            b$sell_quan <- s$quan    \n",
    "            b$sell_pps <- s$pps\n",
    "            b$sell_basis <- s$quan * s$pps\n",
    "\n",
    "            b$sold_cf_quan <- (b$quan - s$quan)        \n",
    "            b$sold_cf_pps <- b$pps\n",
    "            b$sold_cf_basis <- b$sold_cf_quan * b$pps \n",
    "            b$profit_loss <- b$sell_basis - b$buy_basis\n",
    "            \n",
    "            # Has buy c/f \n",
    "            b$flag <- TRUE \n",
    "            buys$flag[1] <- TRUE\n",
    "            \n",
    "            \n",
    "            # All s will be eliminated (Sold) in this transaction\n",
    "            s$type <- \"SOLD\"\n",
    "            cat(\"POC - updated_s when b > s: \", s$type, \"\\n\")\n",
    "    \n",
    "    \n",
    "       # ( s > b ), has sell carryforward\n",
    " \n",
    "        }else if(b$quan < s$quan) {\n",
    "            \n",
    "            b$basis <-  b$quan * b$pps\n",
    "            b$sale_quan <- b$quan\n",
    "           \n",
    "            b$buy_quan <- b$quan\n",
    "            b$buy_pps <-  b$pps\n",
    "            b$buy_basis <- b$basis\n",
    "         \n",
    "            # Sell c/f\n",
    "            sold_cf_quan <- s$quan - b$quan           \n",
    "            b$sold_cf_quan <- sold_cf_quan\n",
    "            b$sold_cf_pps <- s$pps\n",
    "            b$sold_cf_basis <- sold_cf_quan * s$pps\n",
    "                   \n",
    "            b$sell_quan <- b$quan\n",
    "            b$sell_pps <- s$pps\n",
    "            b$sell_basis <- b$quan * s$pps\n",
    "            b$profit_loss <- b$sell_basis - b$buy_basis\n",
    "            \n",
    "            # Has sell c/f \n",
    "            b$true_false <- TRUE\n",
    "           \n",
    " #  s$type <- \"SELL-CF\"   \n",
    "            \n",
    "        }else if (b$quan == s$quan) {   \n",
    "            cat(\"proof 3 \\n\")\n",
    "                  \n",
    "            b$buy_quan <- s$quan\n",
    "            b$buy_pps <-  b$pps\n",
    "            b$buy_basis <- b$buy_quan * b$pps\n",
    "\n",
    "            b$sell_quan <- s$quan    \n",
    "            b$sell_pps <- s$pps\n",
    "            b$sell_basis <- s$quan * s$pps\n",
    "            b$profit_loss <- b$sell_basis - b$buy_basis\n",
    "            \n",
    "            # need a new flag setting for update_buy_sells fct\n",
    "            if(b$type == \"Buy CF\" && s$type == \"Sell CF\") {\n",
    "        cat(\"proof \\n\")\n",
    "                b$co <- \"CFCF\"\n",
    "                b$true_false <- TRUE\n",
    "                s$tru_false <- TRUE\n",
    "                } \n",
    "        \n",
    "            s$type <- \"EQ SOLD\"\n",
    "            cat(\"POC - updated_s when b == s: \", s$type, \"\\n\")            \n",
    "            }\n",
    "            \n",
    "        # s$type <- \"SOLD\"\n",
    "        # cat(\"POC - updated_s : \", s$type, \"\\n\")\n",
    "        return(list(b,s, buys)) \n",
    "     \n",
    "  }  # fct\n",
    "\n",
    "# updated_b_list <- update_b(b,s,buys)\n",
    "\n",
    "# updated_b <- updated_b_list[[1]]\n",
    "# updated_s <- updated_b_list[[2]]\n",
    "# buys <- updated_b_list[[3]]\n",
    "\n",
    "# dim(updated_b)\n",
    "# dim(buys)\n",
    "    "
   ]
  },
  {
   "cell_type": "code",
   "execution_count": 15,
   "id": "d0c3fc67-0997-497a-a13a-ffb6d9177cd9",
   "metadata": {},
   "outputs": [
    {
     "name": "stdout",
     "output_type": "stream",
     "text": [
      "POC - updated_s when b > s:  SOLD \n"
     ]
    },
    {
     "data": {
      "text/html": [
       "<style>\n",
       ".list-inline {list-style: none; margin:0; padding: 0}\n",
       ".list-inline>li {display: inline-block}\n",
       ".list-inline>li:not(:last-child)::after {content: \"\\00b7\"; padding: 0 .5ex}\n",
       "</style>\n",
       "<ol class=list-inline><li>1</li><li>23</li></ol>\n"
      ],
      "text/latex": [
       "\\begin{enumerate*}\n",
       "\\item 1\n",
       "\\item 23\n",
       "\\end{enumerate*}\n"
      ],
      "text/markdown": [
       "1. 1\n",
       "2. 23\n",
       "\n",
       "\n"
      ],
      "text/plain": [
       "[1]  1 23"
      ]
     },
     "metadata": {},
     "output_type": "display_data"
    },
    {
     "data": {
      "text/html": [
       "<style>\n",
       ".list-inline {list-style: none; margin:0; padding: 0}\n",
       ".list-inline>li {display: inline-block}\n",
       ".list-inline>li:not(:last-child)::after {content: \"\\00b7\"; padding: 0 .5ex}\n",
       "</style>\n",
       "<ol class=list-inline><li>23</li><li>23</li></ol>\n"
      ],
      "text/latex": [
       "\\begin{enumerate*}\n",
       "\\item 23\n",
       "\\item 23\n",
       "\\end{enumerate*}\n"
      ],
      "text/markdown": [
       "1. 23\n",
       "2. 23\n",
       "\n",
       "\n"
      ],
      "text/plain": [
       "[1] 23 23"
      ]
     },
     "metadata": {},
     "output_type": "display_data"
    }
   ],
   "source": [
    "updated_b_list <- update_b(b,s,buys)\n",
    "\n",
    "updated_b <- updated_b_list[[1]]\n",
    "updated_s <- updated_b_list[[2]]\n",
    "buys <- updated_b_list[[3]]\n",
    "\n",
    "dim(updated_b)\n",
    "dim(buys)\n",
    "    "
   ]
  },
  {
   "cell_type": "code",
   "execution_count": 16,
   "id": "f7842cc1-fb09-4028-bb9e-cf7f0ec3b08e",
   "metadata": {},
   "outputs": [
    {
     "data": {
      "text/html": [
       "<table class=\"dataframe\">\n",
       "<caption>A data.frame: 1 × 23</caption>\n",
       "<thead>\n",
       "\t<tr><th></th><th scope=col>index</th><th scope=col>date</th><th scope=col>type</th><th scope=col>co</th><th scope=col>quan</th><th scope=col>pps</th><th scope=col>basis</th><th scope=col>sale_quan</th><th scope=col>flag</th><th scope=col>buy_cf_quan</th><th scope=col>⋯</th><th scope=col>buy_pps</th><th scope=col>buy_basis</th><th scope=col>sell_quan</th><th scope=col>sell_pps</th><th scope=col>sell_basis</th><th scope=col>profit_loss</th><th scope=col>sold_cf_quan</th><th scope=col>sold_cf_pps</th><th scope=col>sold_cf_basis</th><th scope=col>true_false</th></tr>\n",
       "\t<tr><th></th><th scope=col>&lt;int&gt;</th><th scope=col>&lt;date&gt;</th><th scope=col>&lt;chr&gt;</th><th scope=col>&lt;chr&gt;</th><th scope=col>&lt;int&gt;</th><th scope=col>&lt;dbl&gt;</th><th scope=col>&lt;dbl&gt;</th><th scope=col>&lt;int&gt;</th><th scope=col>&lt;lgl&gt;</th><th scope=col>&lt;int&gt;</th><th scope=col>⋯</th><th scope=col>&lt;dbl&gt;</th><th scope=col>&lt;dbl&gt;</th><th scope=col>&lt;int&gt;</th><th scope=col>&lt;dbl&gt;</th><th scope=col>&lt;dbl&gt;</th><th scope=col>&lt;dbl&gt;</th><th scope=col>&lt;int&gt;</th><th scope=col>&lt;dbl&gt;</th><th scope=col>&lt;dbl&gt;</th><th scope=col>&lt;lgl&gt;</th></tr>\n",
       "</thead>\n",
       "<tbody>\n",
       "\t<tr><th scope=row>2</th><td>2</td><td>2023-01-27</td><td>SOLD</td><td>AMC</td><td>1000</td><td>5.5124</td><td>5512.4</td><td>0</td><td>FALSE</td><td>0</td><td>⋯</td><td>0</td><td>0</td><td>0</td><td>0</td><td>0</td><td>0</td><td>0</td><td>0</td><td>0</td><td>FALSE</td></tr>\n",
       "</tbody>\n",
       "</table>\n"
      ],
      "text/latex": [
       "A data.frame: 1 × 23\n",
       "\\begin{tabular}{r|lllllllllllllllllllll}\n",
       "  & index & date & type & co & quan & pps & basis & sale\\_quan & flag & buy\\_cf\\_quan & ⋯ & buy\\_pps & buy\\_basis & sell\\_quan & sell\\_pps & sell\\_basis & profit\\_loss & sold\\_cf\\_quan & sold\\_cf\\_pps & sold\\_cf\\_basis & true\\_false\\\\\n",
       "  & <int> & <date> & <chr> & <chr> & <int> & <dbl> & <dbl> & <int> & <lgl> & <int> & ⋯ & <dbl> & <dbl> & <int> & <dbl> & <dbl> & <dbl> & <int> & <dbl> & <dbl> & <lgl>\\\\\n",
       "\\hline\n",
       "\t2 & 2 & 2023-01-27 & SOLD & AMC & 1000 & 5.5124 & 5512.4 & 0 & FALSE & 0 & ⋯ & 0 & 0 & 0 & 0 & 0 & 0 & 0 & 0 & 0 & FALSE\\\\\n",
       "\\end{tabular}\n"
      ],
      "text/markdown": [
       "\n",
       "A data.frame: 1 × 23\n",
       "\n",
       "| <!--/--> | index &lt;int&gt; | date &lt;date&gt; | type &lt;chr&gt; | co &lt;chr&gt; | quan &lt;int&gt; | pps &lt;dbl&gt; | basis &lt;dbl&gt; | sale_quan &lt;int&gt; | flag &lt;lgl&gt; | buy_cf_quan &lt;int&gt; | ⋯ ⋯ | buy_pps &lt;dbl&gt; | buy_basis &lt;dbl&gt; | sell_quan &lt;int&gt; | sell_pps &lt;dbl&gt; | sell_basis &lt;dbl&gt; | profit_loss &lt;dbl&gt; | sold_cf_quan &lt;int&gt; | sold_cf_pps &lt;dbl&gt; | sold_cf_basis &lt;dbl&gt; | true_false &lt;lgl&gt; |\n",
       "|---|---|---|---|---|---|---|---|---|---|---|---|---|---|---|---|---|---|---|---|---|---|\n",
       "| 2 | 2 | 2023-01-27 | SOLD | AMC | 1000 | 5.5124 | 5512.4 | 0 | FALSE | 0 | ⋯ | 0 | 0 | 0 | 0 | 0 | 0 | 0 | 0 | 0 | FALSE |\n",
       "\n"
      ],
      "text/plain": [
       "  index date       type co  quan pps    basis  sale_quan flag  buy_cf_quan ⋯\n",
       "2 2     2023-01-27 SOLD AMC 1000 5.5124 5512.4 0         FALSE 0           ⋯\n",
       "  buy_pps buy_basis sell_quan sell_pps sell_basis profit_loss sold_cf_quan\n",
       "2 0       0         0         0        0          0           0           \n",
       "  sold_cf_pps sold_cf_basis true_false\n",
       "2 0           0             FALSE     "
      ]
     },
     "metadata": {},
     "output_type": "display_data"
    },
    {
     "data": {
      "text/html": [
       "<table class=\"dataframe\">\n",
       "<caption>A data.frame: 1 × 23</caption>\n",
       "<thead>\n",
       "\t<tr><th></th><th scope=col>index</th><th scope=col>date</th><th scope=col>type</th><th scope=col>co</th><th scope=col>quan</th><th scope=col>pps</th><th scope=col>basis</th><th scope=col>sale_quan</th><th scope=col>flag</th><th scope=col>buy_cf_quan</th><th scope=col>⋯</th><th scope=col>buy_pps</th><th scope=col>buy_basis</th><th scope=col>sell_quan</th><th scope=col>sell_pps</th><th scope=col>sell_basis</th><th scope=col>profit_loss</th><th scope=col>sold_cf_quan</th><th scope=col>sold_cf_pps</th><th scope=col>sold_cf_basis</th><th scope=col>true_false</th></tr>\n",
       "\t<tr><th></th><th scope=col>&lt;int&gt;</th><th scope=col>&lt;date&gt;</th><th scope=col>&lt;chr&gt;</th><th scope=col>&lt;chr&gt;</th><th scope=col>&lt;int&gt;</th><th scope=col>&lt;dbl&gt;</th><th scope=col>&lt;dbl&gt;</th><th scope=col>&lt;int&gt;</th><th scope=col>&lt;lgl&gt;</th><th scope=col>&lt;int&gt;</th><th scope=col>⋯</th><th scope=col>&lt;dbl&gt;</th><th scope=col>&lt;dbl&gt;</th><th scope=col>&lt;int&gt;</th><th scope=col>&lt;dbl&gt;</th><th scope=col>&lt;dbl&gt;</th><th scope=col>&lt;dbl&gt;</th><th scope=col>&lt;int&gt;</th><th scope=col>&lt;dbl&gt;</th><th scope=col>&lt;dbl&gt;</th><th scope=col>&lt;lgl&gt;</th></tr>\n",
       "</thead>\n",
       "<tbody>\n",
       "\t<tr><th scope=row>1</th><td>1</td><td>2022-12-31</td><td>Buy</td><td>AMC</td><td>1050</td><td>4.07</td><td>4273.5</td><td>1000</td><td>TRUE</td><td>0</td><td>⋯</td><td>4.07</td><td>4070</td><td>1000</td><td>5.5124</td><td>5512.4</td><td>1442.4</td><td>50</td><td>4.07</td><td>203.5</td><td>FALSE</td></tr>\n",
       "</tbody>\n",
       "</table>\n"
      ],
      "text/latex": [
       "A data.frame: 1 × 23\n",
       "\\begin{tabular}{r|lllllllllllllllllllll}\n",
       "  & index & date & type & co & quan & pps & basis & sale\\_quan & flag & buy\\_cf\\_quan & ⋯ & buy\\_pps & buy\\_basis & sell\\_quan & sell\\_pps & sell\\_basis & profit\\_loss & sold\\_cf\\_quan & sold\\_cf\\_pps & sold\\_cf\\_basis & true\\_false\\\\\n",
       "  & <int> & <date> & <chr> & <chr> & <int> & <dbl> & <dbl> & <int> & <lgl> & <int> & ⋯ & <dbl> & <dbl> & <int> & <dbl> & <dbl> & <dbl> & <int> & <dbl> & <dbl> & <lgl>\\\\\n",
       "\\hline\n",
       "\t1 & 1 & 2022-12-31 & Buy & AMC & 1050 & 4.07 & 4273.5 & 1000 & TRUE & 0 & ⋯ & 4.07 & 4070 & 1000 & 5.5124 & 5512.4 & 1442.4 & 50 & 4.07 & 203.5 & FALSE\\\\\n",
       "\\end{tabular}\n"
      ],
      "text/markdown": [
       "\n",
       "A data.frame: 1 × 23\n",
       "\n",
       "| <!--/--> | index &lt;int&gt; | date &lt;date&gt; | type &lt;chr&gt; | co &lt;chr&gt; | quan &lt;int&gt; | pps &lt;dbl&gt; | basis &lt;dbl&gt; | sale_quan &lt;int&gt; | flag &lt;lgl&gt; | buy_cf_quan &lt;int&gt; | ⋯ ⋯ | buy_pps &lt;dbl&gt; | buy_basis &lt;dbl&gt; | sell_quan &lt;int&gt; | sell_pps &lt;dbl&gt; | sell_basis &lt;dbl&gt; | profit_loss &lt;dbl&gt; | sold_cf_quan &lt;int&gt; | sold_cf_pps &lt;dbl&gt; | sold_cf_basis &lt;dbl&gt; | true_false &lt;lgl&gt; |\n",
       "|---|---|---|---|---|---|---|---|---|---|---|---|---|---|---|---|---|---|---|---|---|---|\n",
       "| 1 | 1 | 2022-12-31 | Buy | AMC | 1050 | 4.07 | 4273.5 | 1000 | TRUE | 0 | ⋯ | 4.07 | 4070 | 1000 | 5.5124 | 5512.4 | 1442.4 | 50 | 4.07 | 203.5 | FALSE |\n",
       "\n"
      ],
      "text/plain": [
       "  index date       type co  quan pps  basis  sale_quan flag buy_cf_quan ⋯\n",
       "1 1     2022-12-31 Buy  AMC 1050 4.07 4273.5 1000      TRUE 0           ⋯\n",
       "  buy_pps buy_basis sell_quan sell_pps sell_basis profit_loss sold_cf_quan\n",
       "1 4.07    4070      1000      5.5124   5512.4     1442.4      50          \n",
       "  sold_cf_pps sold_cf_basis true_false\n",
       "1 4.07        203.5         FALSE     "
      ]
     },
     "metadata": {},
     "output_type": "display_data"
    },
    {
     "data": {
      "text/html": [
       "<table class=\"dataframe\">\n",
       "<caption>A data.frame: 1 × 23</caption>\n",
       "<thead>\n",
       "\t<tr><th></th><th scope=col>index</th><th scope=col>date</th><th scope=col>type</th><th scope=col>co</th><th scope=col>quan</th><th scope=col>pps</th><th scope=col>basis</th><th scope=col>sale_quan</th><th scope=col>flag</th><th scope=col>buy_cf_quan</th><th scope=col>⋯</th><th scope=col>buy_pps</th><th scope=col>buy_basis</th><th scope=col>sell_quan</th><th scope=col>sell_pps</th><th scope=col>sell_basis</th><th scope=col>profit_loss</th><th scope=col>sold_cf_quan</th><th scope=col>sold_cf_pps</th><th scope=col>sold_cf_basis</th><th scope=col>true_false</th></tr>\n",
       "\t<tr><th></th><th scope=col>&lt;int&gt;</th><th scope=col>&lt;date&gt;</th><th scope=col>&lt;chr&gt;</th><th scope=col>&lt;chr&gt;</th><th scope=col>&lt;int&gt;</th><th scope=col>&lt;dbl&gt;</th><th scope=col>&lt;dbl&gt;</th><th scope=col>&lt;int&gt;</th><th scope=col>&lt;lgl&gt;</th><th scope=col>&lt;int&gt;</th><th scope=col>⋯</th><th scope=col>&lt;dbl&gt;</th><th scope=col>&lt;dbl&gt;</th><th scope=col>&lt;int&gt;</th><th scope=col>&lt;dbl&gt;</th><th scope=col>&lt;dbl&gt;</th><th scope=col>&lt;dbl&gt;</th><th scope=col>&lt;int&gt;</th><th scope=col>&lt;dbl&gt;</th><th scope=col>&lt;dbl&gt;</th><th scope=col>&lt;lgl&gt;</th></tr>\n",
       "</thead>\n",
       "<tbody>\n",
       "\t<tr><th scope=row>1</th><td>1</td><td>2022-12-31</td><td>Buy</td><td>AMC</td><td>1050</td><td>4.07</td><td>4273.5</td><td>0</td><td>FALSE</td><td>0</td><td>⋯</td><td>0</td><td>0</td><td>0</td><td>0</td><td>0</td><td>0</td><td>0</td><td>0</td><td>0</td><td>FALSE</td></tr>\n",
       "</tbody>\n",
       "</table>\n"
      ],
      "text/latex": [
       "A data.frame: 1 × 23\n",
       "\\begin{tabular}{r|lllllllllllllllllllll}\n",
       "  & index & date & type & co & quan & pps & basis & sale\\_quan & flag & buy\\_cf\\_quan & ⋯ & buy\\_pps & buy\\_basis & sell\\_quan & sell\\_pps & sell\\_basis & profit\\_loss & sold\\_cf\\_quan & sold\\_cf\\_pps & sold\\_cf\\_basis & true\\_false\\\\\n",
       "  & <int> & <date> & <chr> & <chr> & <int> & <dbl> & <dbl> & <int> & <lgl> & <int> & ⋯ & <dbl> & <dbl> & <int> & <dbl> & <dbl> & <dbl> & <int> & <dbl> & <dbl> & <lgl>\\\\\n",
       "\\hline\n",
       "\t1 & 1 & 2022-12-31 & Buy & AMC & 1050 & 4.07 & 4273.5 & 0 & FALSE & 0 & ⋯ & 0 & 0 & 0 & 0 & 0 & 0 & 0 & 0 & 0 & FALSE\\\\\n",
       "\\end{tabular}\n"
      ],
      "text/markdown": [
       "\n",
       "A data.frame: 1 × 23\n",
       "\n",
       "| <!--/--> | index &lt;int&gt; | date &lt;date&gt; | type &lt;chr&gt; | co &lt;chr&gt; | quan &lt;int&gt; | pps &lt;dbl&gt; | basis &lt;dbl&gt; | sale_quan &lt;int&gt; | flag &lt;lgl&gt; | buy_cf_quan &lt;int&gt; | ⋯ ⋯ | buy_pps &lt;dbl&gt; | buy_basis &lt;dbl&gt; | sell_quan &lt;int&gt; | sell_pps &lt;dbl&gt; | sell_basis &lt;dbl&gt; | profit_loss &lt;dbl&gt; | sold_cf_quan &lt;int&gt; | sold_cf_pps &lt;dbl&gt; | sold_cf_basis &lt;dbl&gt; | true_false &lt;lgl&gt; |\n",
       "|---|---|---|---|---|---|---|---|---|---|---|---|---|---|---|---|---|---|---|---|---|---|\n",
       "| 1 | 1 | 2022-12-31 | Buy | AMC | 1050 | 4.07 | 4273.5 | 0 | FALSE | 0 | ⋯ | 0 | 0 | 0 | 0 | 0 | 0 | 0 | 0 | 0 | FALSE |\n",
       "\n"
      ],
      "text/plain": [
       "  index date       type co  quan pps  basis  sale_quan flag  buy_cf_quan ⋯\n",
       "1 1     2022-12-31 Buy  AMC 1050 4.07 4273.5 0         FALSE 0           ⋯\n",
       "  buy_pps buy_basis sell_quan sell_pps sell_basis profit_loss sold_cf_quan\n",
       "1 0       0         0         0        0          0           0           \n",
       "  sold_cf_pps sold_cf_basis true_false\n",
       "1 0           0             FALSE     "
      ]
     },
     "metadata": {},
     "output_type": "display_data"
    }
   ],
   "source": [
    "updated_s\n",
    "updated_b\n",
    "b[1,]"
   ]
  },
  {
   "cell_type": "code",
   "execution_count": null,
   "id": "0fbb7e13-4d0d-482c-a1db-f41e97767618",
   "metadata": {},
   "outputs": [],
   "source": []
  },
  {
   "cell_type": "markdown",
   "id": "0d43233d-62de-4ac3-9e39-d0b622ce7e10",
   "metadata": {},
   "source": [
    "### <font color = yellow>3. create sale_record for each completed buy/sell transaction"
   ]
  },
  {
   "cell_type": "markdown",
   "id": "99520c8c-acc6-4bae-bcc1-d91d0230c19f",
   "metadata": {},
   "source": [
    "#### <font color = yellow> Use rbind() in first transaction, then use add_rows() in following transactions"
   ]
  },
  {
   "cell_type": "code",
   "execution_count": 17,
   "id": "19a8ce27-4cfd-4005-b0f5-287118cb7576",
   "metadata": {},
   "outputs": [],
   "source": [
    "# First go around needs rbind()\n",
    "sale_records <- rbind(sale_records, updated_b)    "
   ]
  },
  {
   "cell_type": "code",
   "execution_count": null,
   "id": "a7751f7a-538c-4253-b3b7-d72413d3c21e",
   "metadata": {},
   "outputs": [],
   "source": []
  },
  {
   "cell_type": "markdown",
   "id": "333f2288-156e-40d7-b4aa-c3f2d88ba08e",
   "metadata": {},
   "source": [
    "### <font color = yellow> 4. update_buys_sells() \n",
    "### <font color = yellow>  updates buys/ sells (will add_row) when c/f\n",
    "    \n",
    "###### Uses add_row () to transform any existing carryforward (buy or sell type) into the next element that will be processed for next (loop) buy/sell transaction\n"
   ]
  },
  {
   "cell_type": "markdown",
   "id": "cd875283-4243-429e-bae5-fa14495c644f",
   "metadata": {},
   "source": [
    "#### <font color = lime> How it's done"
   ]
  },
  {
   "cell_type": "code",
   "execution_count": 18,
   "id": "54624e6b-c644-4f03-9403-7741466d233e",
   "metadata": {},
   "outputs": [
    {
     "data": {
      "text/html": [
       "<table class=\"dataframe\">\n",
       "<caption>A tibble: 4 × 2</caption>\n",
       "<thead>\n",
       "\t<tr><th scope=col>x</th><th scope=col>y</th></tr>\n",
       "\t<tr><th scope=col>&lt;dbl&gt;</th><th scope=col>&lt;dbl&gt;</th></tr>\n",
       "</thead>\n",
       "<tbody>\n",
       "\t<tr><td>1</td><td>3</td></tr>\n",
       "\t<tr><td>4</td><td>0</td></tr>\n",
       "\t<tr><td>2</td><td>2</td></tr>\n",
       "\t<tr><td>3</td><td>1</td></tr>\n",
       "</tbody>\n",
       "</table>\n"
      ],
      "text/latex": [
       "A tibble: 4 × 2\n",
       "\\begin{tabular}{ll}\n",
       " x & y\\\\\n",
       " <dbl> & <dbl>\\\\\n",
       "\\hline\n",
       "\t 1 & 3\\\\\n",
       "\t 4 & 0\\\\\n",
       "\t 2 & 2\\\\\n",
       "\t 3 & 1\\\\\n",
       "\\end{tabular}\n"
      ],
      "text/markdown": [
       "\n",
       "A tibble: 4 × 2\n",
       "\n",
       "| x &lt;dbl&gt; | y &lt;dbl&gt; |\n",
       "|---|---|\n",
       "| 1 | 3 |\n",
       "| 4 | 0 |\n",
       "| 2 | 2 |\n",
       "| 3 | 1 |\n",
       "\n"
      ],
      "text/plain": [
       "  x y\n",
       "1 1 3\n",
       "2 4 0\n",
       "3 2 2\n",
       "4 3 1"
      ]
     },
     "metadata": {},
     "output_type": "display_data"
    }
   ],
   "source": [
    "# good example from R:  ?add_row\n",
    "df <- tibble(x = 1:3, y = 3:1)\n",
    "\n",
    "df <- df %>% add_row(x = 4, y = 0, .before = 2)\n",
    "df"
   ]
  },
  {
   "cell_type": "code",
   "execution_count": 19,
   "id": "2ab35509-f0f5-4568-9118-4898d2f9043b",
   "metadata": {},
   "outputs": [
    {
     "data": {
      "text/html": [
       "<table class=\"dataframe\">\n",
       "<caption>A data.frame: 1 × 23</caption>\n",
       "<thead>\n",
       "\t<tr><th scope=col>index</th><th scope=col>date</th><th scope=col>type</th><th scope=col>co</th><th scope=col>quan</th><th scope=col>pps</th><th scope=col>basis</th><th scope=col>sale_quan</th><th scope=col>flag</th><th scope=col>buy_cf_quan</th><th scope=col>⋯</th><th scope=col>buy_pps</th><th scope=col>buy_basis</th><th scope=col>sell_quan</th><th scope=col>sell_pps</th><th scope=col>sell_basis</th><th scope=col>profit_loss</th><th scope=col>sold_cf_quan</th><th scope=col>sold_cf_pps</th><th scope=col>sold_cf_basis</th><th scope=col>true_false</th></tr>\n",
       "\t<tr><th scope=col>&lt;int&gt;</th><th scope=col>&lt;date&gt;</th><th scope=col>&lt;chr&gt;</th><th scope=col>&lt;chr&gt;</th><th scope=col>&lt;int&gt;</th><th scope=col>&lt;dbl&gt;</th><th scope=col>&lt;dbl&gt;</th><th scope=col>&lt;int&gt;</th><th scope=col>&lt;lgl&gt;</th><th scope=col>&lt;int&gt;</th><th scope=col>⋯</th><th scope=col>&lt;dbl&gt;</th><th scope=col>&lt;dbl&gt;</th><th scope=col>&lt;int&gt;</th><th scope=col>&lt;dbl&gt;</th><th scope=col>&lt;dbl&gt;</th><th scope=col>&lt;dbl&gt;</th><th scope=col>&lt;int&gt;</th><th scope=col>&lt;dbl&gt;</th><th scope=col>&lt;dbl&gt;</th><th scope=col>&lt;lgl&gt;</th></tr>\n",
       "</thead>\n",
       "<tbody>\n",
       "\t<tr><td>1</td><td>2022-12-31</td><td>Buy</td><td>AMC</td><td>1050</td><td>4.07</td><td>4273.5</td><td>1000</td><td>TRUE</td><td>0</td><td>⋯</td><td>4.07</td><td>4070</td><td>1000</td><td>5.5124</td><td>5512.4</td><td>1442.4</td><td>50</td><td>4.07</td><td>203.5</td><td>FALSE</td></tr>\n",
       "</tbody>\n",
       "</table>\n"
      ],
      "text/latex": [
       "A data.frame: 1 × 23\n",
       "\\begin{tabular}{lllllllllllllllllllll}\n",
       " index & date & type & co & quan & pps & basis & sale\\_quan & flag & buy\\_cf\\_quan & ⋯ & buy\\_pps & buy\\_basis & sell\\_quan & sell\\_pps & sell\\_basis & profit\\_loss & sold\\_cf\\_quan & sold\\_cf\\_pps & sold\\_cf\\_basis & true\\_false\\\\\n",
       " <int> & <date> & <chr> & <chr> & <int> & <dbl> & <dbl> & <int> & <lgl> & <int> & ⋯ & <dbl> & <dbl> & <int> & <dbl> & <dbl> & <dbl> & <int> & <dbl> & <dbl> & <lgl>\\\\\n",
       "\\hline\n",
       "\t 1 & 2022-12-31 & Buy & AMC & 1050 & 4.07 & 4273.5 & 1000 & TRUE & 0 & ⋯ & 4.07 & 4070 & 1000 & 5.5124 & 5512.4 & 1442.4 & 50 & 4.07 & 203.5 & FALSE\\\\\n",
       "\\end{tabular}\n"
      ],
      "text/markdown": [
       "\n",
       "A data.frame: 1 × 23\n",
       "\n",
       "| index &lt;int&gt; | date &lt;date&gt; | type &lt;chr&gt; | co &lt;chr&gt; | quan &lt;int&gt; | pps &lt;dbl&gt; | basis &lt;dbl&gt; | sale_quan &lt;int&gt; | flag &lt;lgl&gt; | buy_cf_quan &lt;int&gt; | ⋯ ⋯ | buy_pps &lt;dbl&gt; | buy_basis &lt;dbl&gt; | sell_quan &lt;int&gt; | sell_pps &lt;dbl&gt; | sell_basis &lt;dbl&gt; | profit_loss &lt;dbl&gt; | sold_cf_quan &lt;int&gt; | sold_cf_pps &lt;dbl&gt; | sold_cf_basis &lt;dbl&gt; | true_false &lt;lgl&gt; |\n",
       "|---|---|---|---|---|---|---|---|---|---|---|---|---|---|---|---|---|---|---|---|---|\n",
       "| 1 | 2022-12-31 | Buy | AMC | 1050 | 4.07 | 4273.5 | 1000 | TRUE | 0 | ⋯ | 4.07 | 4070 | 1000 | 5.5124 | 5512.4 | 1442.4 | 50 | 4.07 | 203.5 | FALSE |\n",
       "\n"
      ],
      "text/plain": [
       "  index date       type co  quan pps  basis  sale_quan flag buy_cf_quan ⋯\n",
       "1 1     2022-12-31 Buy  AMC 1050 4.07 4273.5 1000      TRUE 0           ⋯\n",
       "  buy_pps buy_basis sell_quan sell_pps sell_basis profit_loss sold_cf_quan\n",
       "1 4.07    4070      1000      5.5124   5512.4     1442.4      50          \n",
       "  sold_cf_pps sold_cf_basis true_false\n",
       "1 4.07        203.5         FALSE     "
      ]
     },
     "metadata": {},
     "output_type": "display_data"
    }
   ],
   "source": [
    "sale_records"
   ]
  },
  {
   "cell_type": "code",
   "execution_count": null,
   "id": "acaac0ac-5aca-46b2-b49f-45590f40c2ca",
   "metadata": {},
   "outputs": [],
   "source": []
  },
  {
   "cell_type": "code",
   "execution_count": 20,
   "id": "88d68b0e-5822-480e-8665-97261da873dd",
   "metadata": {},
   "outputs": [],
   "source": [
    "# Evaluate the type of carryforward, then update buys or sells w/cf to prepare for next transaction (loop)\n",
    "\n",
    "update_buys_sells <- function(buys, sells) {\n",
    "\n",
    "    #  Check the most recent row ??? of sale_record or the last row of sale_record (was bind() or add_row() ? )\n",
    "    \n",
    "   first_row <- head(sale_records, n = 1)\n",
    "   \n",
    "    #first_row <- head(sale_records, n=1)\n",
    "    \n",
    "    # b == s (no c/f)\n",
    "    if(first_row$flag == FALSE && first_row$true_false == FALSE) {\n",
    "         cat(\"\\n\", \"The buy == sell, t/f No update to buys or sells.  NO carryforward. \", first_row$buy_cf_quan, \"\\n\")\n",
    "      }  \n",
    "        \n",
    "    # both start with the same inputs from the sale_records\n",
    "    b1 <- first_row\n",
    "    s1 <- first_row\n",
    "    \n",
    "    \n",
    "    \n",
    "    #  b > s  ... buy c/f will be created \n",
    "   \n",
    "    if (first_row$flag == TRUE && first_row$true_false == FALSE ) {\n",
    "        \n",
    "        \n",
    "        cat(\"\\n\", \"There is Buy carryforward. Update buys \", first_row$sold_cf_quan, \"\\n\")\n",
    "\n",
    "        first_row$co <- \"c/f\"\n",
    "       \n",
    "        \n",
    "        \n",
    "   \n",
    "        \n",
    "        \n",
    "# -------------------------------------------------------------------------------------------------------------------------   \n",
    "        \n",
    "        \n",
    "        # NEW  ... This section makes changes in sells[2, ]  which becomes sells[3,] , due to add_row()\n",
    "                \n",
    "        \n",
    "        s2cf_quan <- sells$quan[2] - s1$sold_cf_quan\n",
    "        s2cf_pps <- sells$pps[2]\n",
    "        \n",
    "        cat(\"the s2cf_quan is: \", s2cf_quan, \"\\n\")\n",
    "        cat(\"the s2cf_pps is \", s2cf_pps, \"\\n\")\n",
    "        \n",
    "        sells$quan[2] <- s2cf_quan\n",
    "        sells$pps[2] <-  s1$sell_pps                     #    s2cf_pps \n",
    "        sells[2, ]\n",
    "        sells$basis[2] <- sells$pps[2] * s2cf_quan\n",
    "        \n",
    "#    05/03 22:30 change     \n",
    "       \n",
    "        \n",
    "# -------------------------------------------------------------------------------------------------------------------------    \n",
    "        \n",
    "        \n",
    "        #  The section updates b1   .... t/f buys\n",
    "        \n",
    "       \n",
    "        b1$type <- \"Buy CF\"\n",
    "        b1$quan <- b1$sold_cf_quan\n",
    "        b1$pps <- b1$sold_cf_pps\n",
    "        b1$basis <- b1$sold_cf_basis\n",
    "        b1$flag <- TRUE\n",
    "        b1$sale_quan <- 0\n",
    "        b1[ , 10:ncol(b1)] <- 0\n",
    "\n",
    "        test <- buys\n",
    "        \n",
    "      #  test <- test %>% add_row(b1, .before = 1)\n",
    "        test <- test %>% add_row(b1, .after = 1)\n",
    "        buys <- test\n",
    "        \n",
    "  # ---------------------------------------------------------------------------------------------------------------      \n",
    "        \n",
    "               \n",
    "        # this section updates s1 ... t/f sells\n",
    "       \n",
    "        \n",
    "            \n",
    "        first_row$co <- \"c/f\"    \n",
    "        \n",
    "       \n",
    "        s1$type <- \"Sell CF\"\n",
    "        s1$quan <- s1$sold_cf_quan\n",
    "        s1$pps <-  s1$sell_pps               #    s1$sold_cf_pps\n",
    "        s1$basis <- s1$sell_pps\n",
    "        s1$sale_quan <- 0\n",
    "        s1[ , 10:ncol(s1)] <- 0\n",
    "\n",
    "        test <- sells\n",
    "        test <- test %>% add_row(s1, .before = 1)\n",
    "        sells <- test\n",
    "        \n",
    " \n",
    "        \n",
    "        \n",
    "# =================================================================================================================\n",
    "# ==============================================================================================================\n",
    " # =================================================================================================================\n",
    "# ==============================================================================================================\n",
    "              \n",
    "        \n",
    "             #   s > b ... sell carryforward will be created    \n",
    "        \n",
    "\n",
    "    \n",
    "    } else if (first_row$flag == FALSE && first_row$true_false == TRUE ) {\n",
    "        \n",
    "        \n",
    "       \n",
    "        cat(\"\\n\", \"There is Sold carryback. Update sells carryback -2 \", first_row$sold_cf_quan, \"\\n\")\n",
    "           # cat(\"dim(s1) : \", dim(s1), \"\\n\")\n",
    "         \n",
    "        first_row$co <- \"c/b\"      \n",
    "       \n",
    "        s1$type <- \"Sell CB\"\n",
    "        s1$quan <- s1$sold_cf_quan\n",
    "        s1$pps <- sells$pps[1]\n",
    "        s1$basis <- s1$sold_cf_basis\n",
    "        s1$sale_quan <- 0\n",
    "        s1[ , 10:ncol(s1)] <- 0\n",
    "\n",
    "        test <- sells\n",
    "        test <- test %>% add_row(s1, .after = 1)\n",
    "        sells <- test\n",
    " \n",
    "    # =================================================================================================================\n",
    "# ==============================================================================================================\n",
    "       \n",
    "  # =================================================================================================================\n",
    "# ==============================================================================================================\n",
    "       \n",
    "        ## must also update the buys to match that sells c/f (this will allow for loop2 to begin \n",
    "        ## with both the buy and sell processing the c/f (example when sell cf = 900, then the \n",
    "        ## buy row needs to be that same 900 .... do not delete, just update here and now \n",
    "        \n",
    "        b1$type <- \"Buy CB\"\n",
    "        # b1$quan <- b1$sold_cf_quan\n",
    "       # b1$pps <- b1$sold_cf_pps\n",
    "        b1$basis <- b1$sold_cf_basis\n",
    "        b1$flag <- FALSE\n",
    "        \n",
    "        b1$sale_quan <- 0\n",
    "        b1[ , 10:ncol(b1)] <- 0\n",
    "        \n",
    "        test2 <- buys\n",
    "    #    test2 <- test2 %>% add_row(b1, .before = 1)\n",
    "        buys <- test2\n",
    "                      \n",
    "        }\n",
    "\n",
    "  # =================================================================================================================\n",
    "# ==============================================================================================================\n",
    "# =================================================================================================================\n",
    "# ==============================================================================================================\n",
    "         \n",
    "    \n",
    "    # print by type of c/f  ( buy or sell ) \n",
    "        if(first_row$flag == TRUE) {\n",
    "            cat(\"printing updated buys[1 ], dim of buys increases with c/f \", \"\\n\")\n",
    "            b1\n",
    "            #buys[1, ]\n",
    "        }else if (first_row$true_false == TRUE) {\n",
    "            cat(\"printing: s1 ... dim of sells increases with c/f \", \"\\n\")\n",
    "            s1\n",
    "        }else {\n",
    "            cat(\"If msg here, there is no CF and potential issue exists in fct update_buys_sells. \", \"\\n\")\n",
    "            }\n",
    "    \n",
    "    return(list(buys, sells))\n",
    "     \n",
    "  }  # fct\n",
    "\n",
    "# fct call\n",
    "# return_list <- update_buys_sells(buys, sells)\n",
    "\n",
    "# buys <- return_list[[1]]\n",
    "# sells <- return_list[[2]]\n",
    "\n",
    "# dim(buys)\n",
    "# dim(sells)"
   ]
  },
  {
   "cell_type": "code",
   "execution_count": 21,
   "id": "6b5083aa-66e0-4795-b39d-6f845398f675",
   "metadata": {},
   "outputs": [
    {
     "name": "stdout",
     "output_type": "stream",
     "text": [
      "\n",
      " There is Buy carryforward. Update buys  50 \n",
      "the s2cf_quan is:  950 \n",
      "the s2cf_pps is  6.68255 \n",
      "printing updated buys[1 ], dim of buys increases with c/f  \n"
     ]
    },
    {
     "data": {
      "text/html": [
       "<style>\n",
       ".list-inline {list-style: none; margin:0; padding: 0}\n",
       ".list-inline>li {display: inline-block}\n",
       ".list-inline>li:not(:last-child)::after {content: \"\\00b7\"; padding: 0 .5ex}\n",
       "</style>\n",
       "<ol class=list-inline><li>24</li><li>23</li></ol>\n"
      ],
      "text/latex": [
       "\\begin{enumerate*}\n",
       "\\item 24\n",
       "\\item 23\n",
       "\\end{enumerate*}\n"
      ],
      "text/markdown": [
       "1. 24\n",
       "2. 23\n",
       "\n",
       "\n"
      ],
      "text/plain": [
       "[1] 24 23"
      ]
     },
     "metadata": {},
     "output_type": "display_data"
    },
    {
     "data": {
      "text/html": [
       "<style>\n",
       ".list-inline {list-style: none; margin:0; padding: 0}\n",
       ".list-inline>li {display: inline-block}\n",
       ".list-inline>li:not(:last-child)::after {content: \"\\00b7\"; padding: 0 .5ex}\n",
       "</style>\n",
       "<ol class=list-inline><li>19</li><li>23</li></ol>\n"
      ],
      "text/latex": [
       "\\begin{enumerate*}\n",
       "\\item 19\n",
       "\\item 23\n",
       "\\end{enumerate*}\n"
      ],
      "text/markdown": [
       "1. 19\n",
       "2. 23\n",
       "\n",
       "\n"
      ],
      "text/plain": [
       "[1] 19 23"
      ]
     },
     "metadata": {},
     "output_type": "display_data"
    }
   ],
   "source": [
    "# fct call\n",
    "return_list <- update_buys_sells(buys, sells)\n",
    "\n",
    "# returned the updated to buys / sells\n",
    "buys <- return_list[[1]]\n",
    "sells <- return_list[[2]]\n",
    "\n",
    "dim(buys)\n",
    "dim(sells)"
   ]
  },
  {
   "cell_type": "code",
   "execution_count": null,
   "id": "42365dd0-0751-43a5-97fb-f3ae32814a31",
   "metadata": {},
   "outputs": [],
   "source": []
  },
  {
   "cell_type": "markdown",
   "id": "35cf7052-5523-4b99-a0df-0e38fe1d320c",
   "metadata": {},
   "source": [
    "#### <font color = yellow>5. Snip(), delete row from buys and sells / replace row when c/f "
   ]
  },
  {
   "cell_type": "code",
   "execution_count": null,
   "id": "22c08f90-8fd4-4aa8-ae33-ab4b62916a46",
   "metadata": {},
   "outputs": [],
   "source": []
  },
  {
   "cell_type": "code",
   "execution_count": 22,
   "id": "7d330d3b-59bf-4c2e-8ea5-dc00679a8f91",
   "metadata": {},
   "outputs": [
    {
     "data": {
      "text/html": [
       "<style>\n",
       ".list-inline {list-style: none; margin:0; padding: 0}\n",
       ".list-inline>li {display: inline-block}\n",
       ".list-inline>li:not(:last-child)::after {content: \"\\00b7\"; padding: 0 .5ex}\n",
       "</style>\n",
       "<ol class=list-inline><li>-3.6</li><li>-0.2</li></ol>\n"
      ],
      "text/latex": [
       "\\begin{enumerate*}\n",
       "\\item -3.6\n",
       "\\item -0.2\n",
       "\\end{enumerate*}\n"
      ],
      "text/markdown": [
       "1. -3.6\n",
       "2. -0.2\n",
       "\n",
       "\n"
      ],
      "text/plain": [
       "[1] -3.6 -0.2"
      ]
     },
     "metadata": {},
     "output_type": "display_data"
    },
    {
     "name": "stdout",
     "output_type": "stream",
     "text": [
      "x contains negative values\n"
     ]
    }
   ],
   "source": [
    "range(x <- sort(round(stats::rnorm(10) - 1.2, 1)))\n",
    "\n",
    "if(any(x < 0)) cat(\"x contains negative values\\n\")"
   ]
  },
  {
   "cell_type": "code",
   "execution_count": 23,
   "id": "b98a24ae-cee2-47ff-92fd-b090bc365061",
   "metadata": {},
   "outputs": [
    {
     "name": "stdout",
     "output_type": "stream",
     "text": [
      "buys contains cf \n"
     ]
    }
   ],
   "source": [
    "if(any(buys[1,] == TRUE)) cat(\"buys contains cf \\n\")"
   ]
  },
  {
   "cell_type": "code",
   "execution_count": 24,
   "id": "bfae2aff-a8fe-4b4c-8844-0a4c469238f9",
   "metadata": {},
   "outputs": [
    {
     "data": {
      "text/html": [
       "<table class=\"dataframe\">\n",
       "<caption>A data.frame: 3 × 23</caption>\n",
       "<thead>\n",
       "\t<tr><th></th><th scope=col>index</th><th scope=col>date</th><th scope=col>type</th><th scope=col>co</th><th scope=col>quan</th><th scope=col>pps</th><th scope=col>basis</th><th scope=col>sale_quan</th><th scope=col>flag</th><th scope=col>buy_cf_quan</th><th scope=col>⋯</th><th scope=col>buy_pps</th><th scope=col>buy_basis</th><th scope=col>sell_quan</th><th scope=col>sell_pps</th><th scope=col>sell_basis</th><th scope=col>profit_loss</th><th scope=col>sold_cf_quan</th><th scope=col>sold_cf_pps</th><th scope=col>sold_cf_basis</th><th scope=col>true_false</th></tr>\n",
       "\t<tr><th></th><th scope=col>&lt;int&gt;</th><th scope=col>&lt;date&gt;</th><th scope=col>&lt;chr&gt;</th><th scope=col>&lt;chr&gt;</th><th scope=col>&lt;int&gt;</th><th scope=col>&lt;dbl&gt;</th><th scope=col>&lt;dbl&gt;</th><th scope=col>&lt;dbl&gt;</th><th scope=col>&lt;lgl&gt;</th><th scope=col>&lt;dbl&gt;</th><th scope=col>⋯</th><th scope=col>&lt;dbl&gt;</th><th scope=col>&lt;dbl&gt;</th><th scope=col>&lt;dbl&gt;</th><th scope=col>&lt;dbl&gt;</th><th scope=col>&lt;dbl&gt;</th><th scope=col>&lt;dbl&gt;</th><th scope=col>&lt;dbl&gt;</th><th scope=col>&lt;dbl&gt;</th><th scope=col>&lt;dbl&gt;</th><th scope=col>&lt;dbl&gt;</th></tr>\n",
       "</thead>\n",
       "<tbody>\n",
       "\t<tr><th scope=row>1</th><td>1</td><td>2022-12-31</td><td>Buy   </td><td>AMC</td><td>1050</td><td>4.070</td><td>4273.5</td><td>0</td><td> TRUE</td><td>0</td><td>⋯</td><td>0</td><td>0</td><td>0</td><td>0</td><td>0</td><td>0</td><td>0</td><td>0</td><td>0</td><td>0</td></tr>\n",
       "\t<tr><th scope=row>2</th><td>1</td><td>2022-12-31</td><td>Buy CF</td><td>AMC</td><td>  50</td><td>4.070</td><td> 203.5</td><td>0</td><td> TRUE</td><td>0</td><td>⋯</td><td>0</td><td>0</td><td>0</td><td>0</td><td>0</td><td>0</td><td>0</td><td>0</td><td>0</td><td>0</td></tr>\n",
       "\t<tr><th scope=row>3</th><td>3</td><td>2023-01-20</td><td>Buy   </td><td>AMC</td><td>1000</td><td>5.625</td><td>5625.0</td><td>0</td><td>FALSE</td><td>0</td><td>⋯</td><td>0</td><td>0</td><td>0</td><td>0</td><td>0</td><td>0</td><td>0</td><td>0</td><td>0</td><td>0</td></tr>\n",
       "</tbody>\n",
       "</table>\n"
      ],
      "text/latex": [
       "A data.frame: 3 × 23\n",
       "\\begin{tabular}{r|lllllllllllllllllllll}\n",
       "  & index & date & type & co & quan & pps & basis & sale\\_quan & flag & buy\\_cf\\_quan & ⋯ & buy\\_pps & buy\\_basis & sell\\_quan & sell\\_pps & sell\\_basis & profit\\_loss & sold\\_cf\\_quan & sold\\_cf\\_pps & sold\\_cf\\_basis & true\\_false\\\\\n",
       "  & <int> & <date> & <chr> & <chr> & <int> & <dbl> & <dbl> & <dbl> & <lgl> & <dbl> & ⋯ & <dbl> & <dbl> & <dbl> & <dbl> & <dbl> & <dbl> & <dbl> & <dbl> & <dbl> & <dbl>\\\\\n",
       "\\hline\n",
       "\t1 & 1 & 2022-12-31 & Buy    & AMC & 1050 & 4.070 & 4273.5 & 0 &  TRUE & 0 & ⋯ & 0 & 0 & 0 & 0 & 0 & 0 & 0 & 0 & 0 & 0\\\\\n",
       "\t2 & 1 & 2022-12-31 & Buy CF & AMC &   50 & 4.070 &  203.5 & 0 &  TRUE & 0 & ⋯ & 0 & 0 & 0 & 0 & 0 & 0 & 0 & 0 & 0 & 0\\\\\n",
       "\t3 & 3 & 2023-01-20 & Buy    & AMC & 1000 & 5.625 & 5625.0 & 0 & FALSE & 0 & ⋯ & 0 & 0 & 0 & 0 & 0 & 0 & 0 & 0 & 0 & 0\\\\\n",
       "\\end{tabular}\n"
      ],
      "text/markdown": [
       "\n",
       "A data.frame: 3 × 23\n",
       "\n",
       "| <!--/--> | index &lt;int&gt; | date &lt;date&gt; | type &lt;chr&gt; | co &lt;chr&gt; | quan &lt;int&gt; | pps &lt;dbl&gt; | basis &lt;dbl&gt; | sale_quan &lt;dbl&gt; | flag &lt;lgl&gt; | buy_cf_quan &lt;dbl&gt; | ⋯ ⋯ | buy_pps &lt;dbl&gt; | buy_basis &lt;dbl&gt; | sell_quan &lt;dbl&gt; | sell_pps &lt;dbl&gt; | sell_basis &lt;dbl&gt; | profit_loss &lt;dbl&gt; | sold_cf_quan &lt;dbl&gt; | sold_cf_pps &lt;dbl&gt; | sold_cf_basis &lt;dbl&gt; | true_false &lt;dbl&gt; |\n",
       "|---|---|---|---|---|---|---|---|---|---|---|---|---|---|---|---|---|---|---|---|---|---|\n",
       "| 1 | 1 | 2022-12-31 | Buy    | AMC | 1050 | 4.070 | 4273.5 | 0 |  TRUE | 0 | ⋯ | 0 | 0 | 0 | 0 | 0 | 0 | 0 | 0 | 0 | 0 |\n",
       "| 2 | 1 | 2022-12-31 | Buy CF | AMC |   50 | 4.070 |  203.5 | 0 |  TRUE | 0 | ⋯ | 0 | 0 | 0 | 0 | 0 | 0 | 0 | 0 | 0 | 0 |\n",
       "| 3 | 3 | 2023-01-20 | Buy    | AMC | 1000 | 5.625 | 5625.0 | 0 | FALSE | 0 | ⋯ | 0 | 0 | 0 | 0 | 0 | 0 | 0 | 0 | 0 | 0 |\n",
       "\n"
      ],
      "text/plain": [
       "  index date       type   co  quan pps   basis  sale_quan flag  buy_cf_quan ⋯\n",
       "1 1     2022-12-31 Buy    AMC 1050 4.070 4273.5 0          TRUE 0           ⋯\n",
       "2 1     2022-12-31 Buy CF AMC   50 4.070  203.5 0          TRUE 0           ⋯\n",
       "3 3     2023-01-20 Buy    AMC 1000 5.625 5625.0 0         FALSE 0           ⋯\n",
       "  buy_pps buy_basis sell_quan sell_pps sell_basis profit_loss sold_cf_quan\n",
       "1 0       0         0         0        0          0           0           \n",
       "2 0       0         0         0        0          0           0           \n",
       "3 0       0         0         0        0          0           0           \n",
       "  sold_cf_pps sold_cf_basis true_false\n",
       "1 0           0             0         \n",
       "2 0           0             0         \n",
       "3 0           0             0         "
      ]
     },
     "metadata": {},
     "output_type": "display_data"
    },
    {
     "data": {
      "text/html": [
       "<table class=\"dataframe\">\n",
       "<caption>A data.frame: 3 × 23</caption>\n",
       "<thead>\n",
       "\t<tr><th></th><th scope=col>index</th><th scope=col>date</th><th scope=col>type</th><th scope=col>co</th><th scope=col>quan</th><th scope=col>pps</th><th scope=col>basis</th><th scope=col>sale_quan</th><th scope=col>flag</th><th scope=col>buy_cf_quan</th><th scope=col>⋯</th><th scope=col>buy_pps</th><th scope=col>buy_basis</th><th scope=col>sell_quan</th><th scope=col>sell_pps</th><th scope=col>sell_basis</th><th scope=col>profit_loss</th><th scope=col>sold_cf_quan</th><th scope=col>sold_cf_pps</th><th scope=col>sold_cf_basis</th><th scope=col>true_false</th></tr>\n",
       "\t<tr><th></th><th scope=col>&lt;int&gt;</th><th scope=col>&lt;date&gt;</th><th scope=col>&lt;chr&gt;</th><th scope=col>&lt;chr&gt;</th><th scope=col>&lt;int&gt;</th><th scope=col>&lt;dbl&gt;</th><th scope=col>&lt;dbl&gt;</th><th scope=col>&lt;dbl&gt;</th><th scope=col>&lt;lgl&gt;</th><th scope=col>&lt;dbl&gt;</th><th scope=col>⋯</th><th scope=col>&lt;dbl&gt;</th><th scope=col>&lt;dbl&gt;</th><th scope=col>&lt;dbl&gt;</th><th scope=col>&lt;dbl&gt;</th><th scope=col>&lt;dbl&gt;</th><th scope=col>&lt;dbl&gt;</th><th scope=col>&lt;dbl&gt;</th><th scope=col>&lt;dbl&gt;</th><th scope=col>&lt;dbl&gt;</th><th scope=col>&lt;dbl&gt;</th></tr>\n",
       "</thead>\n",
       "<tbody>\n",
       "\t<tr><th scope=row>1</th><td>1</td><td>2022-12-31</td><td>Sell CF</td><td>AMC</td><td>  50</td><td>5.5124</td><td>   5.5124</td><td>0</td><td> TRUE</td><td>0</td><td>⋯</td><td>0</td><td>0</td><td>0</td><td>0</td><td>0</td><td>0</td><td>0</td><td>0</td><td>0</td><td>0</td></tr>\n",
       "\t<tr><th scope=row>2</th><td>2</td><td>2023-01-27</td><td>Sell   </td><td>AMC</td><td>1000</td><td>5.5124</td><td>5512.4000</td><td>0</td><td>FALSE</td><td>0</td><td>⋯</td><td>0</td><td>0</td><td>0</td><td>0</td><td>0</td><td>0</td><td>0</td><td>0</td><td>0</td><td>0</td></tr>\n",
       "\t<tr><th scope=row>3</th><td>4</td><td>2023-02-03</td><td>Sell   </td><td>AMC</td><td> 950</td><td>5.5124</td><td>5236.7800</td><td>0</td><td>FALSE</td><td>0</td><td>⋯</td><td>0</td><td>0</td><td>0</td><td>0</td><td>0</td><td>0</td><td>0</td><td>0</td><td>0</td><td>0</td></tr>\n",
       "</tbody>\n",
       "</table>\n"
      ],
      "text/latex": [
       "A data.frame: 3 × 23\n",
       "\\begin{tabular}{r|lllllllllllllllllllll}\n",
       "  & index & date & type & co & quan & pps & basis & sale\\_quan & flag & buy\\_cf\\_quan & ⋯ & buy\\_pps & buy\\_basis & sell\\_quan & sell\\_pps & sell\\_basis & profit\\_loss & sold\\_cf\\_quan & sold\\_cf\\_pps & sold\\_cf\\_basis & true\\_false\\\\\n",
       "  & <int> & <date> & <chr> & <chr> & <int> & <dbl> & <dbl> & <dbl> & <lgl> & <dbl> & ⋯ & <dbl> & <dbl> & <dbl> & <dbl> & <dbl> & <dbl> & <dbl> & <dbl> & <dbl> & <dbl>\\\\\n",
       "\\hline\n",
       "\t1 & 1 & 2022-12-31 & Sell CF & AMC &   50 & 5.5124 &    5.5124 & 0 &  TRUE & 0 & ⋯ & 0 & 0 & 0 & 0 & 0 & 0 & 0 & 0 & 0 & 0\\\\\n",
       "\t2 & 2 & 2023-01-27 & Sell    & AMC & 1000 & 5.5124 & 5512.4000 & 0 & FALSE & 0 & ⋯ & 0 & 0 & 0 & 0 & 0 & 0 & 0 & 0 & 0 & 0\\\\\n",
       "\t3 & 4 & 2023-02-03 & Sell    & AMC &  950 & 5.5124 & 5236.7800 & 0 & FALSE & 0 & ⋯ & 0 & 0 & 0 & 0 & 0 & 0 & 0 & 0 & 0 & 0\\\\\n",
       "\\end{tabular}\n"
      ],
      "text/markdown": [
       "\n",
       "A data.frame: 3 × 23\n",
       "\n",
       "| <!--/--> | index &lt;int&gt; | date &lt;date&gt; | type &lt;chr&gt; | co &lt;chr&gt; | quan &lt;int&gt; | pps &lt;dbl&gt; | basis &lt;dbl&gt; | sale_quan &lt;dbl&gt; | flag &lt;lgl&gt; | buy_cf_quan &lt;dbl&gt; | ⋯ ⋯ | buy_pps &lt;dbl&gt; | buy_basis &lt;dbl&gt; | sell_quan &lt;dbl&gt; | sell_pps &lt;dbl&gt; | sell_basis &lt;dbl&gt; | profit_loss &lt;dbl&gt; | sold_cf_quan &lt;dbl&gt; | sold_cf_pps &lt;dbl&gt; | sold_cf_basis &lt;dbl&gt; | true_false &lt;dbl&gt; |\n",
       "|---|---|---|---|---|---|---|---|---|---|---|---|---|---|---|---|---|---|---|---|---|---|\n",
       "| 1 | 1 | 2022-12-31 | Sell CF | AMC |   50 | 5.5124 |    5.5124 | 0 |  TRUE | 0 | ⋯ | 0 | 0 | 0 | 0 | 0 | 0 | 0 | 0 | 0 | 0 |\n",
       "| 2 | 2 | 2023-01-27 | Sell    | AMC | 1000 | 5.5124 | 5512.4000 | 0 | FALSE | 0 | ⋯ | 0 | 0 | 0 | 0 | 0 | 0 | 0 | 0 | 0 | 0 |\n",
       "| 3 | 4 | 2023-02-03 | Sell    | AMC |  950 | 5.5124 | 5236.7800 | 0 | FALSE | 0 | ⋯ | 0 | 0 | 0 | 0 | 0 | 0 | 0 | 0 | 0 | 0 |\n",
       "\n"
      ],
      "text/plain": [
       "  index date       type    co  quan pps    basis     sale_quan flag \n",
       "1 1     2022-12-31 Sell CF AMC   50 5.5124    5.5124 0          TRUE\n",
       "2 2     2023-01-27 Sell    AMC 1000 5.5124 5512.4000 0         FALSE\n",
       "3 4     2023-02-03 Sell    AMC  950 5.5124 5236.7800 0         FALSE\n",
       "  buy_cf_quan ⋯ buy_pps buy_basis sell_quan sell_pps sell_basis profit_loss\n",
       "1 0           ⋯ 0       0         0         0        0          0          \n",
       "2 0           ⋯ 0       0         0         0        0          0          \n",
       "3 0           ⋯ 0       0         0         0        0          0          \n",
       "  sold_cf_quan sold_cf_pps sold_cf_basis true_false\n",
       "1 0            0           0             0         \n",
       "2 0            0           0             0         \n",
       "3 0            0           0             0         "
      ]
     },
     "metadata": {},
     "output_type": "display_data"
    }
   ],
   "source": [
    "buys[1:3,]\n",
    "sells[1:3, ]"
   ]
  },
  {
   "cell_type": "code",
   "execution_count": 25,
   "id": "4e1448e8-7836-4aae-85a5-87e6eb473b4a",
   "metadata": {},
   "outputs": [
    {
     "data": {
      "text/html": [
       "<table class=\"dataframe\">\n",
       "<caption>A data.frame: 1 × 23</caption>\n",
       "<thead>\n",
       "\t<tr><th scope=col>index</th><th scope=col>date</th><th scope=col>type</th><th scope=col>co</th><th scope=col>quan</th><th scope=col>pps</th><th scope=col>basis</th><th scope=col>sale_quan</th><th scope=col>flag</th><th scope=col>buy_cf_quan</th><th scope=col>⋯</th><th scope=col>buy_pps</th><th scope=col>buy_basis</th><th scope=col>sell_quan</th><th scope=col>sell_pps</th><th scope=col>sell_basis</th><th scope=col>profit_loss</th><th scope=col>sold_cf_quan</th><th scope=col>sold_cf_pps</th><th scope=col>sold_cf_basis</th><th scope=col>true_false</th></tr>\n",
       "\t<tr><th scope=col>&lt;int&gt;</th><th scope=col>&lt;date&gt;</th><th scope=col>&lt;chr&gt;</th><th scope=col>&lt;chr&gt;</th><th scope=col>&lt;int&gt;</th><th scope=col>&lt;dbl&gt;</th><th scope=col>&lt;dbl&gt;</th><th scope=col>&lt;int&gt;</th><th scope=col>&lt;lgl&gt;</th><th scope=col>&lt;int&gt;</th><th scope=col>⋯</th><th scope=col>&lt;dbl&gt;</th><th scope=col>&lt;dbl&gt;</th><th scope=col>&lt;int&gt;</th><th scope=col>&lt;dbl&gt;</th><th scope=col>&lt;dbl&gt;</th><th scope=col>&lt;dbl&gt;</th><th scope=col>&lt;int&gt;</th><th scope=col>&lt;dbl&gt;</th><th scope=col>&lt;dbl&gt;</th><th scope=col>&lt;lgl&gt;</th></tr>\n",
       "</thead>\n",
       "<tbody>\n",
       "\t<tr><td>1</td><td>2022-12-31</td><td>Buy</td><td>AMC</td><td>1050</td><td>4.07</td><td>4273.5</td><td>1000</td><td>TRUE</td><td>0</td><td>⋯</td><td>4.07</td><td>4070</td><td>1000</td><td>5.5124</td><td>5512.4</td><td>1442.4</td><td>50</td><td>4.07</td><td>203.5</td><td>FALSE</td></tr>\n",
       "</tbody>\n",
       "</table>\n"
      ],
      "text/latex": [
       "A data.frame: 1 × 23\n",
       "\\begin{tabular}{lllllllllllllllllllll}\n",
       " index & date & type & co & quan & pps & basis & sale\\_quan & flag & buy\\_cf\\_quan & ⋯ & buy\\_pps & buy\\_basis & sell\\_quan & sell\\_pps & sell\\_basis & profit\\_loss & sold\\_cf\\_quan & sold\\_cf\\_pps & sold\\_cf\\_basis & true\\_false\\\\\n",
       " <int> & <date> & <chr> & <chr> & <int> & <dbl> & <dbl> & <int> & <lgl> & <int> & ⋯ & <dbl> & <dbl> & <int> & <dbl> & <dbl> & <dbl> & <int> & <dbl> & <dbl> & <lgl>\\\\\n",
       "\\hline\n",
       "\t 1 & 2022-12-31 & Buy & AMC & 1050 & 4.07 & 4273.5 & 1000 & TRUE & 0 & ⋯ & 4.07 & 4070 & 1000 & 5.5124 & 5512.4 & 1442.4 & 50 & 4.07 & 203.5 & FALSE\\\\\n",
       "\\end{tabular}\n"
      ],
      "text/markdown": [
       "\n",
       "A data.frame: 1 × 23\n",
       "\n",
       "| index &lt;int&gt; | date &lt;date&gt; | type &lt;chr&gt; | co &lt;chr&gt; | quan &lt;int&gt; | pps &lt;dbl&gt; | basis &lt;dbl&gt; | sale_quan &lt;int&gt; | flag &lt;lgl&gt; | buy_cf_quan &lt;int&gt; | ⋯ ⋯ | buy_pps &lt;dbl&gt; | buy_basis &lt;dbl&gt; | sell_quan &lt;int&gt; | sell_pps &lt;dbl&gt; | sell_basis &lt;dbl&gt; | profit_loss &lt;dbl&gt; | sold_cf_quan &lt;int&gt; | sold_cf_pps &lt;dbl&gt; | sold_cf_basis &lt;dbl&gt; | true_false &lt;lgl&gt; |\n",
       "|---|---|---|---|---|---|---|---|---|---|---|---|---|---|---|---|---|---|---|---|---|\n",
       "| 1 | 2022-12-31 | Buy | AMC | 1050 | 4.07 | 4273.5 | 1000 | TRUE | 0 | ⋯ | 4.07 | 4070 | 1000 | 5.5124 | 5512.4 | 1442.4 | 50 | 4.07 | 203.5 | FALSE |\n",
       "\n"
      ],
      "text/plain": [
       "  index date       type co  quan pps  basis  sale_quan flag buy_cf_quan ⋯\n",
       "1 1     2022-12-31 Buy  AMC 1050 4.07 4273.5 1000      TRUE 0           ⋯\n",
       "  buy_pps buy_basis sell_quan sell_pps sell_basis profit_loss sold_cf_quan\n",
       "1 4.07    4070      1000      5.5124   5512.4     1442.4      50          \n",
       "  sold_cf_pps sold_cf_basis true_false\n",
       "1 4.07        203.5         FALSE     "
      ]
     },
     "metadata": {},
     "output_type": "display_data"
    }
   ],
   "source": [
    "sale_records"
   ]
  },
  {
   "cell_type": "code",
   "execution_count": null,
   "id": "7045af8f-9e4c-418b-ad18-9ab23f077d29",
   "metadata": {},
   "outputs": [],
   "source": []
  },
  {
   "cell_type": "code",
   "execution_count": 26,
   "id": "932b451b-62ef-495f-a61e-2bb99c450111",
   "metadata": {},
   "outputs": [],
   "source": [
    "#  save_sell_one <- data.frame()   #  keep for c/f >> Sell[1, ]\n",
    "copy_snip <- function (b, s, buys, sells) {\n",
    "   \n",
    "    # parameters - rep the input vars (arguments)  ... may be extraneous\n",
    "    b1 <- buys [1, ]\n",
    "    s1 <- sells [1, ]\n",
    "    \n",
    "       \n",
    "    # snip .... if \n",
    "        \n",
    "    if(buys$quan[1] == sells$quan[1] && buys$type[1] == \"Buy CF\" && sells$type[1] == \"Sell CF\")  { #  sells$type[1]) {\n",
    "        cat(\"new condtional works for filtering in copy_snip when cf-cf \\n\")\n",
    "        buys <-  buys[-1, ]\n",
    "        sells <- sells[-1, ]    \n",
    "     return(list(b1, s1, buys, sells))  \n",
    "        \n",
    "  #  if(buys$type[1] == \"Buy CF\")   { \n",
    "    } else if (buys$type[1] == \"Buy CF\" || buys$flag[1] == TRUE ) {   #  && buys$true_false == FALSE)   {         \n",
    "   # if(buys$flag[1] == \"TRUE\")   {         \n",
    "        cat(\" Contains buy carryforward - remove buys c/f row and DO snip sells \\n\")         \n",
    "         # remove the original buys and sells\n",
    "         buys <- buys[-1, ]    \n",
    "         sells <- sells[-2, ]\n",
    "        return(list(b1, s1, buys, sells))                   \n",
    "        \n",
    "    } else if (sells$type[1] == \"Sell CF\") {\n",
    "        cat(\"sells contains carryforward .. Replace sells and DO snip buys \\n\") \n",
    "        sells <- sells[-2,]\n",
    "        buys <- buys[-1,]\n",
    "        return(list(b1, s1, buys, sells))\n",
    "# new       \n",
    "    } else if (sells$type[2] == \"Sell CB\") {\n",
    "        cat(\"sells contains carryback .. Remove sells[1,]\", \"\\n\") \n",
    "        sells <- sells[-1,]\n",
    "        buys <- buys[-1,]\n",
    "        return(list(b1, s1, buys, sells))\n",
    "        \n",
    "     }else if (buys$co[1] == \"CFCF\" ) {\n",
    "        cat(\"this is a cf/cf wash sales ... replace buys[1,] sells[1,] \\n\")\n",
    "        buys <- buys[-1]\n",
    "        sells <- sells[-1]\n",
    "         return(list(b1, s1, buys, sells))\n",
    "        \n",
    "    } else if(b1$flag == FALSE & b1$true_false == FALSE) {\n",
    "        \n",
    "        cat(\"check false / false \\n\")        \n",
    "        buys <- buys[-1,]\n",
    "        sells <- sells[-1,]\n",
    "        \n",
    "        return(list(b1, s1, buys, sells))\n",
    "        \n",
    "    } else {\n",
    "        cat(\"There is no carryforward in buys or sells, This msgs means there is an issue. \\n\")\n",
    "        # buys <- buys[-1,]\n",
    "        # sells <- sells[-1,]\n",
    "        return(list(b1, s1, buys, sells))    \n",
    "    }\n",
    " \n",
    " } # fct     \n",
    "   \n",
    "# fct call passing 2 arguments\n",
    "# copy_snip_list <- copy_snip(b, s, buys, sells) \n",
    "\n",
    "# b1 <- copy_snip_list[[1]]\n",
    "# s1 <- copy_snip_list[[2]]\n",
    "# buys <- copy_snip_list[[3]]\n",
    "# sells <- copy_snip_list[[4]]\n",
    "\n",
    "# # after\n",
    "# dim(buys)\n",
    "# dim(sells)\n",
    "# # b1\n",
    "# s1"
   ]
  },
  {
   "cell_type": "code",
   "execution_count": 27,
   "id": "b9eec667-116a-4ea1-b68f-fd561a4234c4",
   "metadata": {},
   "outputs": [
    {
     "name": "stdout",
     "output_type": "stream",
     "text": [
      " Contains buy carryforward - remove buys c/f row and DO snip sells \n"
     ]
    },
    {
     "data": {
      "text/html": [
       "<style>\n",
       ".list-inline {list-style: none; margin:0; padding: 0}\n",
       ".list-inline>li {display: inline-block}\n",
       ".list-inline>li:not(:last-child)::after {content: \"\\00b7\"; padding: 0 .5ex}\n",
       "</style>\n",
       "<ol class=list-inline><li>23</li><li>23</li></ol>\n"
      ],
      "text/latex": [
       "\\begin{enumerate*}\n",
       "\\item 23\n",
       "\\item 23\n",
       "\\end{enumerate*}\n"
      ],
      "text/markdown": [
       "1. 23\n",
       "2. 23\n",
       "\n",
       "\n"
      ],
      "text/plain": [
       "[1] 23 23"
      ]
     },
     "metadata": {},
     "output_type": "display_data"
    },
    {
     "data": {
      "text/html": [
       "<style>\n",
       ".list-inline {list-style: none; margin:0; padding: 0}\n",
       ".list-inline>li {display: inline-block}\n",
       ".list-inline>li:not(:last-child)::after {content: \"\\00b7\"; padding: 0 .5ex}\n",
       "</style>\n",
       "<ol class=list-inline><li>18</li><li>23</li></ol>\n"
      ],
      "text/latex": [
       "\\begin{enumerate*}\n",
       "\\item 18\n",
       "\\item 23\n",
       "\\end{enumerate*}\n"
      ],
      "text/markdown": [
       "1. 18\n",
       "2. 23\n",
       "\n",
       "\n"
      ],
      "text/plain": [
       "[1] 18 23"
      ]
     },
     "metadata": {},
     "output_type": "display_data"
    }
   ],
   "source": [
    "copy_snip_list <- copy_snip(b, s, buys, sells) \n",
    "\n",
    "b1 <- copy_snip_list[[1]]\n",
    "s1 <- copy_snip_list[[2]]\n",
    "buys <- copy_snip_list[[3]]\n",
    "sells <- copy_snip_list[[4]]\n",
    "\n",
    "# after\n",
    "dim(buys)\n",
    "dim(sells)\n",
    "# b1\n",
    "# s1"
   ]
  },
  {
   "cell_type": "code",
   "execution_count": null,
   "id": "43faa5f4-39c4-4c0c-9535-01de0fb1baaa",
   "metadata": {},
   "outputs": [],
   "source": []
  },
  {
   "cell_type": "code",
   "execution_count": 28,
   "id": "11bc666d-a27b-4a94-9732-98fec084ce7b",
   "metadata": {},
   "outputs": [
    {
     "data": {
      "text/html": [
       "<table class=\"dataframe\">\n",
       "<caption>A data.frame: 1 × 23</caption>\n",
       "<thead>\n",
       "\t<tr><th></th><th scope=col>index</th><th scope=col>date</th><th scope=col>type</th><th scope=col>co</th><th scope=col>quan</th><th scope=col>pps</th><th scope=col>basis</th><th scope=col>sale_quan</th><th scope=col>flag</th><th scope=col>buy_cf_quan</th><th scope=col>⋯</th><th scope=col>buy_pps</th><th scope=col>buy_basis</th><th scope=col>sell_quan</th><th scope=col>sell_pps</th><th scope=col>sell_basis</th><th scope=col>profit_loss</th><th scope=col>sold_cf_quan</th><th scope=col>sold_cf_pps</th><th scope=col>sold_cf_basis</th><th scope=col>true_false</th></tr>\n",
       "\t<tr><th></th><th scope=col>&lt;int&gt;</th><th scope=col>&lt;date&gt;</th><th scope=col>&lt;chr&gt;</th><th scope=col>&lt;chr&gt;</th><th scope=col>&lt;int&gt;</th><th scope=col>&lt;dbl&gt;</th><th scope=col>&lt;dbl&gt;</th><th scope=col>&lt;dbl&gt;</th><th scope=col>&lt;lgl&gt;</th><th scope=col>&lt;dbl&gt;</th><th scope=col>⋯</th><th scope=col>&lt;dbl&gt;</th><th scope=col>&lt;dbl&gt;</th><th scope=col>&lt;dbl&gt;</th><th scope=col>&lt;dbl&gt;</th><th scope=col>&lt;dbl&gt;</th><th scope=col>&lt;dbl&gt;</th><th scope=col>&lt;dbl&gt;</th><th scope=col>&lt;dbl&gt;</th><th scope=col>&lt;dbl&gt;</th><th scope=col>&lt;dbl&gt;</th></tr>\n",
       "</thead>\n",
       "<tbody>\n",
       "\t<tr><th scope=row>1</th><td>1</td><td>2022-12-31</td><td>Buy</td><td>AMC</td><td>1050</td><td>4.07</td><td>4273.5</td><td>0</td><td>TRUE</td><td>0</td><td>⋯</td><td>0</td><td>0</td><td>0</td><td>0</td><td>0</td><td>0</td><td>0</td><td>0</td><td>0</td><td>0</td></tr>\n",
       "</tbody>\n",
       "</table>\n"
      ],
      "text/latex": [
       "A data.frame: 1 × 23\n",
       "\\begin{tabular}{r|lllllllllllllllllllll}\n",
       "  & index & date & type & co & quan & pps & basis & sale\\_quan & flag & buy\\_cf\\_quan & ⋯ & buy\\_pps & buy\\_basis & sell\\_quan & sell\\_pps & sell\\_basis & profit\\_loss & sold\\_cf\\_quan & sold\\_cf\\_pps & sold\\_cf\\_basis & true\\_false\\\\\n",
       "  & <int> & <date> & <chr> & <chr> & <int> & <dbl> & <dbl> & <dbl> & <lgl> & <dbl> & ⋯ & <dbl> & <dbl> & <dbl> & <dbl> & <dbl> & <dbl> & <dbl> & <dbl> & <dbl> & <dbl>\\\\\n",
       "\\hline\n",
       "\t1 & 1 & 2022-12-31 & Buy & AMC & 1050 & 4.07 & 4273.5 & 0 & TRUE & 0 & ⋯ & 0 & 0 & 0 & 0 & 0 & 0 & 0 & 0 & 0 & 0\\\\\n",
       "\\end{tabular}\n"
      ],
      "text/markdown": [
       "\n",
       "A data.frame: 1 × 23\n",
       "\n",
       "| <!--/--> | index &lt;int&gt; | date &lt;date&gt; | type &lt;chr&gt; | co &lt;chr&gt; | quan &lt;int&gt; | pps &lt;dbl&gt; | basis &lt;dbl&gt; | sale_quan &lt;dbl&gt; | flag &lt;lgl&gt; | buy_cf_quan &lt;dbl&gt; | ⋯ ⋯ | buy_pps &lt;dbl&gt; | buy_basis &lt;dbl&gt; | sell_quan &lt;dbl&gt; | sell_pps &lt;dbl&gt; | sell_basis &lt;dbl&gt; | profit_loss &lt;dbl&gt; | sold_cf_quan &lt;dbl&gt; | sold_cf_pps &lt;dbl&gt; | sold_cf_basis &lt;dbl&gt; | true_false &lt;dbl&gt; |\n",
       "|---|---|---|---|---|---|---|---|---|---|---|---|---|---|---|---|---|---|---|---|---|---|\n",
       "| 1 | 1 | 2022-12-31 | Buy | AMC | 1050 | 4.07 | 4273.5 | 0 | TRUE | 0 | ⋯ | 0 | 0 | 0 | 0 | 0 | 0 | 0 | 0 | 0 | 0 |\n",
       "\n"
      ],
      "text/plain": [
       "  index date       type co  quan pps  basis  sale_quan flag buy_cf_quan ⋯\n",
       "1 1     2022-12-31 Buy  AMC 1050 4.07 4273.5 0         TRUE 0           ⋯\n",
       "  buy_pps buy_basis sell_quan sell_pps sell_basis profit_loss sold_cf_quan\n",
       "1 0       0         0         0        0          0           0           \n",
       "  sold_cf_pps sold_cf_basis true_false\n",
       "1 0           0             0         "
      ]
     },
     "metadata": {},
     "output_type": "display_data"
    }
   ],
   "source": [
    "b1"
   ]
  },
  {
   "cell_type": "code",
   "execution_count": null,
   "id": "4c2d30a5-c433-4c32-8f7a-9130c0d92826",
   "metadata": {},
   "outputs": [],
   "source": []
  },
  {
   "cell_type": "markdown",
   "id": "2d3de47c-1c14-442e-839e-213881677d89",
   "metadata": {},
   "source": [
    "#### <font color = lime> QC: Loop 1 review buys & sells"
   ]
  },
  {
   "cell_type": "code",
   "execution_count": 29,
   "id": "e065d636-acbc-43d3-9077-d0210d5620c1",
   "metadata": {},
   "outputs": [
    {
     "data": {
      "text/html": [
       "<table class=\"dataframe\">\n",
       "<caption>A data.frame: 4 × 23</caption>\n",
       "<thead>\n",
       "\t<tr><th></th><th scope=col>index</th><th scope=col>date</th><th scope=col>type</th><th scope=col>co</th><th scope=col>quan</th><th scope=col>pps</th><th scope=col>basis</th><th scope=col>sale_quan</th><th scope=col>flag</th><th scope=col>buy_cf_quan</th><th scope=col>⋯</th><th scope=col>buy_pps</th><th scope=col>buy_basis</th><th scope=col>sell_quan</th><th scope=col>sell_pps</th><th scope=col>sell_basis</th><th scope=col>profit_loss</th><th scope=col>sold_cf_quan</th><th scope=col>sold_cf_pps</th><th scope=col>sold_cf_basis</th><th scope=col>true_false</th></tr>\n",
       "\t<tr><th></th><th scope=col>&lt;int&gt;</th><th scope=col>&lt;date&gt;</th><th scope=col>&lt;chr&gt;</th><th scope=col>&lt;chr&gt;</th><th scope=col>&lt;int&gt;</th><th scope=col>&lt;dbl&gt;</th><th scope=col>&lt;dbl&gt;</th><th scope=col>&lt;dbl&gt;</th><th scope=col>&lt;lgl&gt;</th><th scope=col>&lt;dbl&gt;</th><th scope=col>⋯</th><th scope=col>&lt;dbl&gt;</th><th scope=col>&lt;dbl&gt;</th><th scope=col>&lt;dbl&gt;</th><th scope=col>&lt;dbl&gt;</th><th scope=col>&lt;dbl&gt;</th><th scope=col>&lt;dbl&gt;</th><th scope=col>&lt;dbl&gt;</th><th scope=col>&lt;dbl&gt;</th><th scope=col>&lt;dbl&gt;</th><th scope=col>&lt;dbl&gt;</th></tr>\n",
       "</thead>\n",
       "<tbody>\n",
       "\t<tr><th scope=row>2</th><td>1</td><td>2022-12-31</td><td>Buy CF</td><td>AMC</td><td>  50</td><td>4.0700</td><td>  203.5</td><td>0</td><td> TRUE</td><td>0</td><td>⋯</td><td>0</td><td>0</td><td>0</td><td>0</td><td>0</td><td>0</td><td>0</td><td>0</td><td>0</td><td>0</td></tr>\n",
       "\t<tr><th scope=row>3</th><td>3</td><td>2023-01-20</td><td>Buy   </td><td>AMC</td><td>1000</td><td>5.6250</td><td> 5625.0</td><td>0</td><td>FALSE</td><td>0</td><td>⋯</td><td>0</td><td>0</td><td>0</td><td>0</td><td>0</td><td>0</td><td>0</td><td>0</td><td>0</td><td>0</td></tr>\n",
       "\t<tr><th scope=row>4</th><td>5</td><td>2023-01-23</td><td>Buy   </td><td>AMC</td><td>1000</td><td>5.7880</td><td> 5788.0</td><td>0</td><td>FALSE</td><td>0</td><td>⋯</td><td>0</td><td>0</td><td>0</td><td>0</td><td>0</td><td>0</td><td>0</td><td>0</td><td>0</td><td>0</td></tr>\n",
       "\t<tr><th scope=row>5</th><td>7</td><td>2023-01-27</td><td>Buy   </td><td>AMC</td><td>2000</td><td>5.2394</td><td>10478.8</td><td>0</td><td>FALSE</td><td>0</td><td>⋯</td><td>0</td><td>0</td><td>0</td><td>0</td><td>0</td><td>0</td><td>0</td><td>0</td><td>0</td><td>0</td></tr>\n",
       "</tbody>\n",
       "</table>\n"
      ],
      "text/latex": [
       "A data.frame: 4 × 23\n",
       "\\begin{tabular}{r|lllllllllllllllllllll}\n",
       "  & index & date & type & co & quan & pps & basis & sale\\_quan & flag & buy\\_cf\\_quan & ⋯ & buy\\_pps & buy\\_basis & sell\\_quan & sell\\_pps & sell\\_basis & profit\\_loss & sold\\_cf\\_quan & sold\\_cf\\_pps & sold\\_cf\\_basis & true\\_false\\\\\n",
       "  & <int> & <date> & <chr> & <chr> & <int> & <dbl> & <dbl> & <dbl> & <lgl> & <dbl> & ⋯ & <dbl> & <dbl> & <dbl> & <dbl> & <dbl> & <dbl> & <dbl> & <dbl> & <dbl> & <dbl>\\\\\n",
       "\\hline\n",
       "\t2 & 1 & 2022-12-31 & Buy CF & AMC &   50 & 4.0700 &   203.5 & 0 &  TRUE & 0 & ⋯ & 0 & 0 & 0 & 0 & 0 & 0 & 0 & 0 & 0 & 0\\\\\n",
       "\t3 & 3 & 2023-01-20 & Buy    & AMC & 1000 & 5.6250 &  5625.0 & 0 & FALSE & 0 & ⋯ & 0 & 0 & 0 & 0 & 0 & 0 & 0 & 0 & 0 & 0\\\\\n",
       "\t4 & 5 & 2023-01-23 & Buy    & AMC & 1000 & 5.7880 &  5788.0 & 0 & FALSE & 0 & ⋯ & 0 & 0 & 0 & 0 & 0 & 0 & 0 & 0 & 0 & 0\\\\\n",
       "\t5 & 7 & 2023-01-27 & Buy    & AMC & 2000 & 5.2394 & 10478.8 & 0 & FALSE & 0 & ⋯ & 0 & 0 & 0 & 0 & 0 & 0 & 0 & 0 & 0 & 0\\\\\n",
       "\\end{tabular}\n"
      ],
      "text/markdown": [
       "\n",
       "A data.frame: 4 × 23\n",
       "\n",
       "| <!--/--> | index &lt;int&gt; | date &lt;date&gt; | type &lt;chr&gt; | co &lt;chr&gt; | quan &lt;int&gt; | pps &lt;dbl&gt; | basis &lt;dbl&gt; | sale_quan &lt;dbl&gt; | flag &lt;lgl&gt; | buy_cf_quan &lt;dbl&gt; | ⋯ ⋯ | buy_pps &lt;dbl&gt; | buy_basis &lt;dbl&gt; | sell_quan &lt;dbl&gt; | sell_pps &lt;dbl&gt; | sell_basis &lt;dbl&gt; | profit_loss &lt;dbl&gt; | sold_cf_quan &lt;dbl&gt; | sold_cf_pps &lt;dbl&gt; | sold_cf_basis &lt;dbl&gt; | true_false &lt;dbl&gt; |\n",
       "|---|---|---|---|---|---|---|---|---|---|---|---|---|---|---|---|---|---|---|---|---|---|\n",
       "| 2 | 1 | 2022-12-31 | Buy CF | AMC |   50 | 4.0700 |   203.5 | 0 |  TRUE | 0 | ⋯ | 0 | 0 | 0 | 0 | 0 | 0 | 0 | 0 | 0 | 0 |\n",
       "| 3 | 3 | 2023-01-20 | Buy    | AMC | 1000 | 5.6250 |  5625.0 | 0 | FALSE | 0 | ⋯ | 0 | 0 | 0 | 0 | 0 | 0 | 0 | 0 | 0 | 0 |\n",
       "| 4 | 5 | 2023-01-23 | Buy    | AMC | 1000 | 5.7880 |  5788.0 | 0 | FALSE | 0 | ⋯ | 0 | 0 | 0 | 0 | 0 | 0 | 0 | 0 | 0 | 0 |\n",
       "| 5 | 7 | 2023-01-27 | Buy    | AMC | 2000 | 5.2394 | 10478.8 | 0 | FALSE | 0 | ⋯ | 0 | 0 | 0 | 0 | 0 | 0 | 0 | 0 | 0 | 0 |\n",
       "\n"
      ],
      "text/plain": [
       "  index date       type   co  quan pps    basis   sale_quan flag  buy_cf_quan ⋯\n",
       "2 1     2022-12-31 Buy CF AMC   50 4.0700   203.5 0          TRUE 0           ⋯\n",
       "3 3     2023-01-20 Buy    AMC 1000 5.6250  5625.0 0         FALSE 0           ⋯\n",
       "4 5     2023-01-23 Buy    AMC 1000 5.7880  5788.0 0         FALSE 0           ⋯\n",
       "5 7     2023-01-27 Buy    AMC 2000 5.2394 10478.8 0         FALSE 0           ⋯\n",
       "  buy_pps buy_basis sell_quan sell_pps sell_basis profit_loss sold_cf_quan\n",
       "2 0       0         0         0        0          0           0           \n",
       "3 0       0         0         0        0          0           0           \n",
       "4 0       0         0         0        0          0           0           \n",
       "5 0       0         0         0        0          0           0           \n",
       "  sold_cf_pps sold_cf_basis true_false\n",
       "2 0           0             0         \n",
       "3 0           0             0         \n",
       "4 0           0             0         \n",
       "5 0           0             0         "
      ]
     },
     "metadata": {},
     "output_type": "display_data"
    },
    {
     "data": {
      "text/html": [
       "<table class=\"dataframe\">\n",
       "<caption>A data.frame: 4 × 23</caption>\n",
       "<thead>\n",
       "\t<tr><th></th><th scope=col>index</th><th scope=col>date</th><th scope=col>type</th><th scope=col>co</th><th scope=col>quan</th><th scope=col>pps</th><th scope=col>basis</th><th scope=col>sale_quan</th><th scope=col>flag</th><th scope=col>buy_cf_quan</th><th scope=col>⋯</th><th scope=col>buy_pps</th><th scope=col>buy_basis</th><th scope=col>sell_quan</th><th scope=col>sell_pps</th><th scope=col>sell_basis</th><th scope=col>profit_loss</th><th scope=col>sold_cf_quan</th><th scope=col>sold_cf_pps</th><th scope=col>sold_cf_basis</th><th scope=col>true_false</th></tr>\n",
       "\t<tr><th></th><th scope=col>&lt;int&gt;</th><th scope=col>&lt;date&gt;</th><th scope=col>&lt;chr&gt;</th><th scope=col>&lt;chr&gt;</th><th scope=col>&lt;int&gt;</th><th scope=col>&lt;dbl&gt;</th><th scope=col>&lt;dbl&gt;</th><th scope=col>&lt;dbl&gt;</th><th scope=col>&lt;lgl&gt;</th><th scope=col>&lt;dbl&gt;</th><th scope=col>⋯</th><th scope=col>&lt;dbl&gt;</th><th scope=col>&lt;dbl&gt;</th><th scope=col>&lt;dbl&gt;</th><th scope=col>&lt;dbl&gt;</th><th scope=col>&lt;dbl&gt;</th><th scope=col>&lt;dbl&gt;</th><th scope=col>&lt;dbl&gt;</th><th scope=col>&lt;dbl&gt;</th><th scope=col>&lt;dbl&gt;</th><th scope=col>&lt;dbl&gt;</th></tr>\n",
       "</thead>\n",
       "<tbody>\n",
       "\t<tr><th scope=row>1</th><td>1</td><td>2022-12-31</td><td>Sell CF</td><td>AMC</td><td>  50</td><td>5.5124</td><td>   5.5124</td><td>0</td><td> TRUE</td><td>0</td><td>⋯</td><td>0</td><td>0</td><td>0</td><td>0</td><td>0</td><td>0</td><td>0</td><td>0</td><td>0</td><td>0</td></tr>\n",
       "\t<tr><th scope=row>3</th><td>4</td><td>2023-02-03</td><td>Sell   </td><td>AMC</td><td> 950</td><td>5.5124</td><td>5236.7800</td><td>0</td><td>FALSE</td><td>0</td><td>⋯</td><td>0</td><td>0</td><td>0</td><td>0</td><td>0</td><td>0</td><td>0</td><td>0</td><td>0</td><td>0</td></tr>\n",
       "\t<tr><th scope=row>4</th><td>6</td><td>2023-02-03</td><td>Sell   </td><td>AMC</td><td>1000</td><td>6.2550</td><td>6255.0000</td><td>0</td><td>FALSE</td><td>0</td><td>⋯</td><td>0</td><td>0</td><td>0</td><td>0</td><td>0</td><td>0</td><td>0</td><td>0</td><td>0</td><td>0</td></tr>\n",
       "\t<tr><th scope=row>5</th><td>8</td><td>2023-02-03</td><td>Sell   </td><td>AMC</td><td>1000</td><td>6.1901</td><td>6190.1000</td><td>0</td><td>FALSE</td><td>0</td><td>⋯</td><td>0</td><td>0</td><td>0</td><td>0</td><td>0</td><td>0</td><td>0</td><td>0</td><td>0</td><td>0</td></tr>\n",
       "</tbody>\n",
       "</table>\n"
      ],
      "text/latex": [
       "A data.frame: 4 × 23\n",
       "\\begin{tabular}{r|lllllllllllllllllllll}\n",
       "  & index & date & type & co & quan & pps & basis & sale\\_quan & flag & buy\\_cf\\_quan & ⋯ & buy\\_pps & buy\\_basis & sell\\_quan & sell\\_pps & sell\\_basis & profit\\_loss & sold\\_cf\\_quan & sold\\_cf\\_pps & sold\\_cf\\_basis & true\\_false\\\\\n",
       "  & <int> & <date> & <chr> & <chr> & <int> & <dbl> & <dbl> & <dbl> & <lgl> & <dbl> & ⋯ & <dbl> & <dbl> & <dbl> & <dbl> & <dbl> & <dbl> & <dbl> & <dbl> & <dbl> & <dbl>\\\\\n",
       "\\hline\n",
       "\t1 & 1 & 2022-12-31 & Sell CF & AMC &   50 & 5.5124 &    5.5124 & 0 &  TRUE & 0 & ⋯ & 0 & 0 & 0 & 0 & 0 & 0 & 0 & 0 & 0 & 0\\\\\n",
       "\t3 & 4 & 2023-02-03 & Sell    & AMC &  950 & 5.5124 & 5236.7800 & 0 & FALSE & 0 & ⋯ & 0 & 0 & 0 & 0 & 0 & 0 & 0 & 0 & 0 & 0\\\\\n",
       "\t4 & 6 & 2023-02-03 & Sell    & AMC & 1000 & 6.2550 & 6255.0000 & 0 & FALSE & 0 & ⋯ & 0 & 0 & 0 & 0 & 0 & 0 & 0 & 0 & 0 & 0\\\\\n",
       "\t5 & 8 & 2023-02-03 & Sell    & AMC & 1000 & 6.1901 & 6190.1000 & 0 & FALSE & 0 & ⋯ & 0 & 0 & 0 & 0 & 0 & 0 & 0 & 0 & 0 & 0\\\\\n",
       "\\end{tabular}\n"
      ],
      "text/markdown": [
       "\n",
       "A data.frame: 4 × 23\n",
       "\n",
       "| <!--/--> | index &lt;int&gt; | date &lt;date&gt; | type &lt;chr&gt; | co &lt;chr&gt; | quan &lt;int&gt; | pps &lt;dbl&gt; | basis &lt;dbl&gt; | sale_quan &lt;dbl&gt; | flag &lt;lgl&gt; | buy_cf_quan &lt;dbl&gt; | ⋯ ⋯ | buy_pps &lt;dbl&gt; | buy_basis &lt;dbl&gt; | sell_quan &lt;dbl&gt; | sell_pps &lt;dbl&gt; | sell_basis &lt;dbl&gt; | profit_loss &lt;dbl&gt; | sold_cf_quan &lt;dbl&gt; | sold_cf_pps &lt;dbl&gt; | sold_cf_basis &lt;dbl&gt; | true_false &lt;dbl&gt; |\n",
       "|---|---|---|---|---|---|---|---|---|---|---|---|---|---|---|---|---|---|---|---|---|---|\n",
       "| 1 | 1 | 2022-12-31 | Sell CF | AMC |   50 | 5.5124 |    5.5124 | 0 |  TRUE | 0 | ⋯ | 0 | 0 | 0 | 0 | 0 | 0 | 0 | 0 | 0 | 0 |\n",
       "| 3 | 4 | 2023-02-03 | Sell    | AMC |  950 | 5.5124 | 5236.7800 | 0 | FALSE | 0 | ⋯ | 0 | 0 | 0 | 0 | 0 | 0 | 0 | 0 | 0 | 0 |\n",
       "| 4 | 6 | 2023-02-03 | Sell    | AMC | 1000 | 6.2550 | 6255.0000 | 0 | FALSE | 0 | ⋯ | 0 | 0 | 0 | 0 | 0 | 0 | 0 | 0 | 0 | 0 |\n",
       "| 5 | 8 | 2023-02-03 | Sell    | AMC | 1000 | 6.1901 | 6190.1000 | 0 | FALSE | 0 | ⋯ | 0 | 0 | 0 | 0 | 0 | 0 | 0 | 0 | 0 | 0 |\n",
       "\n"
      ],
      "text/plain": [
       "  index date       type    co  quan pps    basis     sale_quan flag \n",
       "1 1     2022-12-31 Sell CF AMC   50 5.5124    5.5124 0          TRUE\n",
       "3 4     2023-02-03 Sell    AMC  950 5.5124 5236.7800 0         FALSE\n",
       "4 6     2023-02-03 Sell    AMC 1000 6.2550 6255.0000 0         FALSE\n",
       "5 8     2023-02-03 Sell    AMC 1000 6.1901 6190.1000 0         FALSE\n",
       "  buy_cf_quan ⋯ buy_pps buy_basis sell_quan sell_pps sell_basis profit_loss\n",
       "1 0           ⋯ 0       0         0         0        0          0          \n",
       "3 0           ⋯ 0       0         0         0        0          0          \n",
       "4 0           ⋯ 0       0         0         0        0          0          \n",
       "5 0           ⋯ 0       0         0         0        0          0          \n",
       "  sold_cf_quan sold_cf_pps sold_cf_basis true_false\n",
       "1 0            0           0             0         \n",
       "3 0            0           0             0         \n",
       "4 0            0           0             0         \n",
       "5 0            0           0             0         "
      ]
     },
     "metadata": {},
     "output_type": "display_data"
    }
   ],
   "source": [
    "buys[1:4,]\n",
    "sells[1:4,]"
   ]
  },
  {
   "cell_type": "code",
   "execution_count": null,
   "id": "440557ed-c013-47c4-8ae9-3d3e339cfc3e",
   "metadata": {},
   "outputs": [],
   "source": []
  },
  {
   "cell_type": "markdown",
   "id": "eab5aa35-2ed8-4e56-a5d5-6971ccdfb8a0",
   "metadata": {},
   "source": [
    "#### <font color = lime> QC: Loop 1 review sale_record for accuracy"
   ]
  },
  {
   "cell_type": "code",
   "execution_count": 30,
   "id": "ae6231d1-0886-472d-8503-a11e04165b1a",
   "metadata": {},
   "outputs": [
    {
     "data": {
      "text/html": [
       "<table class=\"dataframe\">\n",
       "<caption>A data.frame: 1 × 23</caption>\n",
       "<thead>\n",
       "\t<tr><th scope=col>index</th><th scope=col>date</th><th scope=col>type</th><th scope=col>co</th><th scope=col>quan</th><th scope=col>pps</th><th scope=col>basis</th><th scope=col>sale_quan</th><th scope=col>flag</th><th scope=col>buy_cf_quan</th><th scope=col>⋯</th><th scope=col>buy_pps</th><th scope=col>buy_basis</th><th scope=col>sell_quan</th><th scope=col>sell_pps</th><th scope=col>sell_basis</th><th scope=col>profit_loss</th><th scope=col>sold_cf_quan</th><th scope=col>sold_cf_pps</th><th scope=col>sold_cf_basis</th><th scope=col>true_false</th></tr>\n",
       "\t<tr><th scope=col>&lt;int&gt;</th><th scope=col>&lt;date&gt;</th><th scope=col>&lt;chr&gt;</th><th scope=col>&lt;chr&gt;</th><th scope=col>&lt;int&gt;</th><th scope=col>&lt;dbl&gt;</th><th scope=col>&lt;dbl&gt;</th><th scope=col>&lt;int&gt;</th><th scope=col>&lt;lgl&gt;</th><th scope=col>&lt;int&gt;</th><th scope=col>⋯</th><th scope=col>&lt;dbl&gt;</th><th scope=col>&lt;dbl&gt;</th><th scope=col>&lt;int&gt;</th><th scope=col>&lt;dbl&gt;</th><th scope=col>&lt;dbl&gt;</th><th scope=col>&lt;dbl&gt;</th><th scope=col>&lt;int&gt;</th><th scope=col>&lt;dbl&gt;</th><th scope=col>&lt;dbl&gt;</th><th scope=col>&lt;lgl&gt;</th></tr>\n",
       "</thead>\n",
       "<tbody>\n",
       "\t<tr><td>1</td><td>2022-12-31</td><td>Buy</td><td>AMC</td><td>1050</td><td>4.07</td><td>4273.5</td><td>1000</td><td>TRUE</td><td>0</td><td>⋯</td><td>4.07</td><td>4070</td><td>1000</td><td>5.5124</td><td>5512.4</td><td>1442.4</td><td>50</td><td>4.07</td><td>203.5</td><td>FALSE</td></tr>\n",
       "</tbody>\n",
       "</table>\n"
      ],
      "text/latex": [
       "A data.frame: 1 × 23\n",
       "\\begin{tabular}{lllllllllllllllllllll}\n",
       " index & date & type & co & quan & pps & basis & sale\\_quan & flag & buy\\_cf\\_quan & ⋯ & buy\\_pps & buy\\_basis & sell\\_quan & sell\\_pps & sell\\_basis & profit\\_loss & sold\\_cf\\_quan & sold\\_cf\\_pps & sold\\_cf\\_basis & true\\_false\\\\\n",
       " <int> & <date> & <chr> & <chr> & <int> & <dbl> & <dbl> & <int> & <lgl> & <int> & ⋯ & <dbl> & <dbl> & <int> & <dbl> & <dbl> & <dbl> & <int> & <dbl> & <dbl> & <lgl>\\\\\n",
       "\\hline\n",
       "\t 1 & 2022-12-31 & Buy & AMC & 1050 & 4.07 & 4273.5 & 1000 & TRUE & 0 & ⋯ & 4.07 & 4070 & 1000 & 5.5124 & 5512.4 & 1442.4 & 50 & 4.07 & 203.5 & FALSE\\\\\n",
       "\\end{tabular}\n"
      ],
      "text/markdown": [
       "\n",
       "A data.frame: 1 × 23\n",
       "\n",
       "| index &lt;int&gt; | date &lt;date&gt; | type &lt;chr&gt; | co &lt;chr&gt; | quan &lt;int&gt; | pps &lt;dbl&gt; | basis &lt;dbl&gt; | sale_quan &lt;int&gt; | flag &lt;lgl&gt; | buy_cf_quan &lt;int&gt; | ⋯ ⋯ | buy_pps &lt;dbl&gt; | buy_basis &lt;dbl&gt; | sell_quan &lt;int&gt; | sell_pps &lt;dbl&gt; | sell_basis &lt;dbl&gt; | profit_loss &lt;dbl&gt; | sold_cf_quan &lt;int&gt; | sold_cf_pps &lt;dbl&gt; | sold_cf_basis &lt;dbl&gt; | true_false &lt;lgl&gt; |\n",
       "|---|---|---|---|---|---|---|---|---|---|---|---|---|---|---|---|---|---|---|---|---|\n",
       "| 1 | 2022-12-31 | Buy | AMC | 1050 | 4.07 | 4273.5 | 1000 | TRUE | 0 | ⋯ | 4.07 | 4070 | 1000 | 5.5124 | 5512.4 | 1442.4 | 50 | 4.07 | 203.5 | FALSE |\n",
       "\n"
      ],
      "text/plain": [
       "  index date       type co  quan pps  basis  sale_quan flag buy_cf_quan ⋯\n",
       "1 1     2022-12-31 Buy  AMC 1050 4.07 4273.5 1000      TRUE 0           ⋯\n",
       "  buy_pps buy_basis sell_quan sell_pps sell_basis profit_loss sold_cf_quan\n",
       "1 4.07    4070      1000      5.5124   5512.4     1442.4      50          \n",
       "  sold_cf_pps sold_cf_basis true_false\n",
       "1 4.07        203.5         FALSE     "
      ]
     },
     "metadata": {},
     "output_type": "display_data"
    }
   ],
   "source": [
    "sale_records"
   ]
  },
  {
   "cell_type": "markdown",
   "id": "10a3a398-05db-4786-914e-ad9ace85e93b",
   "metadata": {},
   "source": [
    "### <font color = lime> Got it!  The components above are modular and can be combined into a loop"
   ]
  },
  {
   "cell_type": "code",
   "execution_count": null,
   "id": "d15af399-9286-4171-9e33-2d3e9cc3a21b",
   "metadata": {},
   "outputs": [],
   "source": []
  },
  {
   "cell_type": "code",
   "execution_count": 31,
   "id": "e934fa25-3b0c-4d58-ab5c-19e9be2b3268",
   "metadata": {},
   "outputs": [
    {
     "name": "stdout",
     "output_type": "stream",
     "text": [
      "sale_records exists:      \n"
     ]
    }
   ],
   "source": [
    "if (exists(\"sale_records\") && is.data.frame(get(\"sale_records\"))) {\n",
    "  # Data frame exists and is a valid data frame\n",
    "  # Your code here...\n",
    "    cat(\"sale_records exists:     \", \"\\n\") \n",
    "} "
   ]
  },
  {
   "cell_type": "code",
   "execution_count": 32,
   "id": "c979183e-d717-43a3-a371-627d000788ba",
   "metadata": {},
   "outputs": [
    {
     "data": {
      "text/html": [
       "<table class=\"dataframe\">\n",
       "<caption>A data.frame: 1 × 23</caption>\n",
       "<thead>\n",
       "\t<tr><th scope=col>index</th><th scope=col>date</th><th scope=col>type</th><th scope=col>co</th><th scope=col>quan</th><th scope=col>pps</th><th scope=col>basis</th><th scope=col>sale_quan</th><th scope=col>flag</th><th scope=col>buy_cf_quan</th><th scope=col>⋯</th><th scope=col>buy_pps</th><th scope=col>buy_basis</th><th scope=col>sell_quan</th><th scope=col>sell_pps</th><th scope=col>sell_basis</th><th scope=col>profit_loss</th><th scope=col>sold_cf_quan</th><th scope=col>sold_cf_pps</th><th scope=col>sold_cf_basis</th><th scope=col>true_false</th></tr>\n",
       "\t<tr><th scope=col>&lt;int&gt;</th><th scope=col>&lt;date&gt;</th><th scope=col>&lt;chr&gt;</th><th scope=col>&lt;chr&gt;</th><th scope=col>&lt;int&gt;</th><th scope=col>&lt;dbl&gt;</th><th scope=col>&lt;dbl&gt;</th><th scope=col>&lt;int&gt;</th><th scope=col>&lt;lgl&gt;</th><th scope=col>&lt;int&gt;</th><th scope=col>⋯</th><th scope=col>&lt;dbl&gt;</th><th scope=col>&lt;dbl&gt;</th><th scope=col>&lt;int&gt;</th><th scope=col>&lt;dbl&gt;</th><th scope=col>&lt;dbl&gt;</th><th scope=col>&lt;dbl&gt;</th><th scope=col>&lt;int&gt;</th><th scope=col>&lt;dbl&gt;</th><th scope=col>&lt;dbl&gt;</th><th scope=col>&lt;lgl&gt;</th></tr>\n",
       "</thead>\n",
       "<tbody>\n",
       "\t<tr><td>1</td><td>2022-12-31</td><td>Buy</td><td>AMC</td><td>1050</td><td>4.07</td><td>4273.5</td><td>1000</td><td>TRUE</td><td>0</td><td>⋯</td><td>4.07</td><td>4070</td><td>1000</td><td>5.5124</td><td>5512.4</td><td>1442.4</td><td>50</td><td>4.07</td><td>203.5</td><td>FALSE</td></tr>\n",
       "</tbody>\n",
       "</table>\n"
      ],
      "text/latex": [
       "A data.frame: 1 × 23\n",
       "\\begin{tabular}{lllllllllllllllllllll}\n",
       " index & date & type & co & quan & pps & basis & sale\\_quan & flag & buy\\_cf\\_quan & ⋯ & buy\\_pps & buy\\_basis & sell\\_quan & sell\\_pps & sell\\_basis & profit\\_loss & sold\\_cf\\_quan & sold\\_cf\\_pps & sold\\_cf\\_basis & true\\_false\\\\\n",
       " <int> & <date> & <chr> & <chr> & <int> & <dbl> & <dbl> & <int> & <lgl> & <int> & ⋯ & <dbl> & <dbl> & <int> & <dbl> & <dbl> & <dbl> & <int> & <dbl> & <dbl> & <lgl>\\\\\n",
       "\\hline\n",
       "\t 1 & 2022-12-31 & Buy & AMC & 1050 & 4.07 & 4273.5 & 1000 & TRUE & 0 & ⋯ & 4.07 & 4070 & 1000 & 5.5124 & 5512.4 & 1442.4 & 50 & 4.07 & 203.5 & FALSE\\\\\n",
       "\\end{tabular}\n"
      ],
      "text/markdown": [
       "\n",
       "A data.frame: 1 × 23\n",
       "\n",
       "| index &lt;int&gt; | date &lt;date&gt; | type &lt;chr&gt; | co &lt;chr&gt; | quan &lt;int&gt; | pps &lt;dbl&gt; | basis &lt;dbl&gt; | sale_quan &lt;int&gt; | flag &lt;lgl&gt; | buy_cf_quan &lt;int&gt; | ⋯ ⋯ | buy_pps &lt;dbl&gt; | buy_basis &lt;dbl&gt; | sell_quan &lt;int&gt; | sell_pps &lt;dbl&gt; | sell_basis &lt;dbl&gt; | profit_loss &lt;dbl&gt; | sold_cf_quan &lt;int&gt; | sold_cf_pps &lt;dbl&gt; | sold_cf_basis &lt;dbl&gt; | true_false &lt;lgl&gt; |\n",
       "|---|---|---|---|---|---|---|---|---|---|---|---|---|---|---|---|---|---|---|---|---|\n",
       "| 1 | 2022-12-31 | Buy | AMC | 1050 | 4.07 | 4273.5 | 1000 | TRUE | 0 | ⋯ | 4.07 | 4070 | 1000 | 5.5124 | 5512.4 | 1442.4 | 50 | 4.07 | 203.5 | FALSE |\n",
       "\n"
      ],
      "text/plain": [
       "  index date       type co  quan pps  basis  sale_quan flag buy_cf_quan ⋯\n",
       "1 1     2022-12-31 Buy  AMC 1050 4.07 4273.5 1000      TRUE 0           ⋯\n",
       "  buy_pps buy_basis sell_quan sell_pps sell_basis profit_loss sold_cf_quan\n",
       "1 4.07    4070      1000      5.5124   5512.4     1442.4      50          \n",
       "  sold_cf_pps sold_cf_basis true_false\n",
       "1 4.07        203.5         FALSE     "
      ]
     },
     "metadata": {},
     "output_type": "display_data"
    }
   ],
   "source": [
    "sale_records"
   ]
  },
  {
   "cell_type": "code",
   "execution_count": 33,
   "id": "f6b72dc6-17f5-4b5e-b780-4283f70f2122",
   "metadata": {},
   "outputs": [],
   "source": [
    "# stopps #  Old code"
   ]
  },
  {
   "cell_type": "code",
   "execution_count": null,
   "id": "41cd995f-611c-4788-b497-e22f00aa020f",
   "metadata": {},
   "outputs": [],
   "source": []
  },
  {
   "cell_type": "markdown",
   "id": "5af8547e-56ed-433c-8ab9-f582710678ce",
   "metadata": {},
   "source": [
    "# <font color = cyan> Proof of Concept above. End of loop 1 "
   ]
  },
  {
   "cell_type": "code",
   "execution_count": null,
   "id": "beeb8a5b-1dd6-43e6-8db6-e3b03fd388ca",
   "metadata": {},
   "outputs": [],
   "source": []
  },
  {
   "cell_type": "markdown",
   "id": "fe9a4eff-5362-471b-b888-4713a200ffdb",
   "metadata": {},
   "source": [
    "#### <font color = yellow>1. Create data & dfs"
   ]
  },
  {
   "cell_type": "code",
   "execution_count": 34,
   "id": "b9477fb0-de01-4d4e-865a-b05786c7b4fd",
   "metadata": {},
   "outputs": [],
   "source": [
    "b <- buys[1,]\n",
    "s <- sells[1,]"
   ]
  },
  {
   "cell_type": "code",
   "execution_count": 35,
   "id": "acd9c5a0-89bb-41c7-95d8-ed851ea2fa88",
   "metadata": {},
   "outputs": [
    {
     "data": {
      "text/html": [
       "<table class=\"dataframe\">\n",
       "<caption>A data.frame: 1 × 23</caption>\n",
       "<thead>\n",
       "\t<tr><th></th><th scope=col>index</th><th scope=col>date</th><th scope=col>type</th><th scope=col>co</th><th scope=col>quan</th><th scope=col>pps</th><th scope=col>basis</th><th scope=col>sale_quan</th><th scope=col>flag</th><th scope=col>buy_cf_quan</th><th scope=col>⋯</th><th scope=col>buy_pps</th><th scope=col>buy_basis</th><th scope=col>sell_quan</th><th scope=col>sell_pps</th><th scope=col>sell_basis</th><th scope=col>profit_loss</th><th scope=col>sold_cf_quan</th><th scope=col>sold_cf_pps</th><th scope=col>sold_cf_basis</th><th scope=col>true_false</th></tr>\n",
       "\t<tr><th></th><th scope=col>&lt;int&gt;</th><th scope=col>&lt;date&gt;</th><th scope=col>&lt;chr&gt;</th><th scope=col>&lt;chr&gt;</th><th scope=col>&lt;int&gt;</th><th scope=col>&lt;dbl&gt;</th><th scope=col>&lt;dbl&gt;</th><th scope=col>&lt;dbl&gt;</th><th scope=col>&lt;lgl&gt;</th><th scope=col>&lt;dbl&gt;</th><th scope=col>⋯</th><th scope=col>&lt;dbl&gt;</th><th scope=col>&lt;dbl&gt;</th><th scope=col>&lt;dbl&gt;</th><th scope=col>&lt;dbl&gt;</th><th scope=col>&lt;dbl&gt;</th><th scope=col>&lt;dbl&gt;</th><th scope=col>&lt;dbl&gt;</th><th scope=col>&lt;dbl&gt;</th><th scope=col>&lt;dbl&gt;</th><th scope=col>&lt;dbl&gt;</th></tr>\n",
       "</thead>\n",
       "<tbody>\n",
       "\t<tr><th scope=row>2</th><td>1</td><td>2022-12-31</td><td>Buy CF</td><td>AMC</td><td>50</td><td>4.07</td><td>203.5</td><td>0</td><td>TRUE</td><td>0</td><td>⋯</td><td>0</td><td>0</td><td>0</td><td>0</td><td>0</td><td>0</td><td>0</td><td>0</td><td>0</td><td>0</td></tr>\n",
       "</tbody>\n",
       "</table>\n"
      ],
      "text/latex": [
       "A data.frame: 1 × 23\n",
       "\\begin{tabular}{r|lllllllllllllllllllll}\n",
       "  & index & date & type & co & quan & pps & basis & sale\\_quan & flag & buy\\_cf\\_quan & ⋯ & buy\\_pps & buy\\_basis & sell\\_quan & sell\\_pps & sell\\_basis & profit\\_loss & sold\\_cf\\_quan & sold\\_cf\\_pps & sold\\_cf\\_basis & true\\_false\\\\\n",
       "  & <int> & <date> & <chr> & <chr> & <int> & <dbl> & <dbl> & <dbl> & <lgl> & <dbl> & ⋯ & <dbl> & <dbl> & <dbl> & <dbl> & <dbl> & <dbl> & <dbl> & <dbl> & <dbl> & <dbl>\\\\\n",
       "\\hline\n",
       "\t2 & 1 & 2022-12-31 & Buy CF & AMC & 50 & 4.07 & 203.5 & 0 & TRUE & 0 & ⋯ & 0 & 0 & 0 & 0 & 0 & 0 & 0 & 0 & 0 & 0\\\\\n",
       "\\end{tabular}\n"
      ],
      "text/markdown": [
       "\n",
       "A data.frame: 1 × 23\n",
       "\n",
       "| <!--/--> | index &lt;int&gt; | date &lt;date&gt; | type &lt;chr&gt; | co &lt;chr&gt; | quan &lt;int&gt; | pps &lt;dbl&gt; | basis &lt;dbl&gt; | sale_quan &lt;dbl&gt; | flag &lt;lgl&gt; | buy_cf_quan &lt;dbl&gt; | ⋯ ⋯ | buy_pps &lt;dbl&gt; | buy_basis &lt;dbl&gt; | sell_quan &lt;dbl&gt; | sell_pps &lt;dbl&gt; | sell_basis &lt;dbl&gt; | profit_loss &lt;dbl&gt; | sold_cf_quan &lt;dbl&gt; | sold_cf_pps &lt;dbl&gt; | sold_cf_basis &lt;dbl&gt; | true_false &lt;dbl&gt; |\n",
       "|---|---|---|---|---|---|---|---|---|---|---|---|---|---|---|---|---|---|---|---|---|---|\n",
       "| 2 | 1 | 2022-12-31 | Buy CF | AMC | 50 | 4.07 | 203.5 | 0 | TRUE | 0 | ⋯ | 0 | 0 | 0 | 0 | 0 | 0 | 0 | 0 | 0 | 0 |\n",
       "\n"
      ],
      "text/plain": [
       "  index date       type   co  quan pps  basis sale_quan flag buy_cf_quan ⋯\n",
       "2 1     2022-12-31 Buy CF AMC 50   4.07 203.5 0         TRUE 0           ⋯\n",
       "  buy_pps buy_basis sell_quan sell_pps sell_basis profit_loss sold_cf_quan\n",
       "2 0       0         0         0        0          0           0           \n",
       "  sold_cf_pps sold_cf_basis true_false\n",
       "2 0           0             0         "
      ]
     },
     "metadata": {},
     "output_type": "display_data"
    },
    {
     "data": {
      "text/html": [
       "<table class=\"dataframe\">\n",
       "<caption>A data.frame: 1 × 23</caption>\n",
       "<thead>\n",
       "\t<tr><th></th><th scope=col>index</th><th scope=col>date</th><th scope=col>type</th><th scope=col>co</th><th scope=col>quan</th><th scope=col>pps</th><th scope=col>basis</th><th scope=col>sale_quan</th><th scope=col>flag</th><th scope=col>buy_cf_quan</th><th scope=col>⋯</th><th scope=col>buy_pps</th><th scope=col>buy_basis</th><th scope=col>sell_quan</th><th scope=col>sell_pps</th><th scope=col>sell_basis</th><th scope=col>profit_loss</th><th scope=col>sold_cf_quan</th><th scope=col>sold_cf_pps</th><th scope=col>sold_cf_basis</th><th scope=col>true_false</th></tr>\n",
       "\t<tr><th></th><th scope=col>&lt;int&gt;</th><th scope=col>&lt;date&gt;</th><th scope=col>&lt;chr&gt;</th><th scope=col>&lt;chr&gt;</th><th scope=col>&lt;int&gt;</th><th scope=col>&lt;dbl&gt;</th><th scope=col>&lt;dbl&gt;</th><th scope=col>&lt;dbl&gt;</th><th scope=col>&lt;lgl&gt;</th><th scope=col>&lt;dbl&gt;</th><th scope=col>⋯</th><th scope=col>&lt;dbl&gt;</th><th scope=col>&lt;dbl&gt;</th><th scope=col>&lt;dbl&gt;</th><th scope=col>&lt;dbl&gt;</th><th scope=col>&lt;dbl&gt;</th><th scope=col>&lt;dbl&gt;</th><th scope=col>&lt;dbl&gt;</th><th scope=col>&lt;dbl&gt;</th><th scope=col>&lt;dbl&gt;</th><th scope=col>&lt;dbl&gt;</th></tr>\n",
       "</thead>\n",
       "<tbody>\n",
       "\t<tr><th scope=row>1</th><td>1</td><td>2022-12-31</td><td>Sell CF</td><td>AMC</td><td>50</td><td>5.5124</td><td>5.5124</td><td>0</td><td>TRUE</td><td>0</td><td>⋯</td><td>0</td><td>0</td><td>0</td><td>0</td><td>0</td><td>0</td><td>0</td><td>0</td><td>0</td><td>0</td></tr>\n",
       "</tbody>\n",
       "</table>\n"
      ],
      "text/latex": [
       "A data.frame: 1 × 23\n",
       "\\begin{tabular}{r|lllllllllllllllllllll}\n",
       "  & index & date & type & co & quan & pps & basis & sale\\_quan & flag & buy\\_cf\\_quan & ⋯ & buy\\_pps & buy\\_basis & sell\\_quan & sell\\_pps & sell\\_basis & profit\\_loss & sold\\_cf\\_quan & sold\\_cf\\_pps & sold\\_cf\\_basis & true\\_false\\\\\n",
       "  & <int> & <date> & <chr> & <chr> & <int> & <dbl> & <dbl> & <dbl> & <lgl> & <dbl> & ⋯ & <dbl> & <dbl> & <dbl> & <dbl> & <dbl> & <dbl> & <dbl> & <dbl> & <dbl> & <dbl>\\\\\n",
       "\\hline\n",
       "\t1 & 1 & 2022-12-31 & Sell CF & AMC & 50 & 5.5124 & 5.5124 & 0 & TRUE & 0 & ⋯ & 0 & 0 & 0 & 0 & 0 & 0 & 0 & 0 & 0 & 0\\\\\n",
       "\\end{tabular}\n"
      ],
      "text/markdown": [
       "\n",
       "A data.frame: 1 × 23\n",
       "\n",
       "| <!--/--> | index &lt;int&gt; | date &lt;date&gt; | type &lt;chr&gt; | co &lt;chr&gt; | quan &lt;int&gt; | pps &lt;dbl&gt; | basis &lt;dbl&gt; | sale_quan &lt;dbl&gt; | flag &lt;lgl&gt; | buy_cf_quan &lt;dbl&gt; | ⋯ ⋯ | buy_pps &lt;dbl&gt; | buy_basis &lt;dbl&gt; | sell_quan &lt;dbl&gt; | sell_pps &lt;dbl&gt; | sell_basis &lt;dbl&gt; | profit_loss &lt;dbl&gt; | sold_cf_quan &lt;dbl&gt; | sold_cf_pps &lt;dbl&gt; | sold_cf_basis &lt;dbl&gt; | true_false &lt;dbl&gt; |\n",
       "|---|---|---|---|---|---|---|---|---|---|---|---|---|---|---|---|---|---|---|---|---|---|\n",
       "| 1 | 1 | 2022-12-31 | Sell CF | AMC | 50 | 5.5124 | 5.5124 | 0 | TRUE | 0 | ⋯ | 0 | 0 | 0 | 0 | 0 | 0 | 0 | 0 | 0 | 0 |\n",
       "\n"
      ],
      "text/plain": [
       "  index date       type    co  quan pps    basis  sale_quan flag buy_cf_quan ⋯\n",
       "1 1     2022-12-31 Sell CF AMC 50   5.5124 5.5124 0         TRUE 0           ⋯\n",
       "  buy_pps buy_basis sell_quan sell_pps sell_basis profit_loss sold_cf_quan\n",
       "1 0       0         0         0        0          0           0           \n",
       "  sold_cf_pps sold_cf_basis true_false\n",
       "1 0           0             0         "
      ]
     },
     "metadata": {},
     "output_type": "display_data"
    }
   ],
   "source": [
    "b\n",
    "s"
   ]
  },
  {
   "cell_type": "markdown",
   "id": "31f51e3d-191f-452b-b4d0-9a9cab7ba55c",
   "metadata": {},
   "source": [
    "### <font color = yellow>2. Update b - the variable that records each buy/sell transaction (w/in loop)\n",
    "    \n",
    "#### b>s, b<s, b==s,"
   ]
  },
  {
   "cell_type": "code",
   "execution_count": 36,
   "id": "20cf76be-e74d-4d7c-b6f1-c44cd9c0d2dc",
   "metadata": {},
   "outputs": [
    {
     "name": "stdout",
     "output_type": "stream",
     "text": [
      "proof 3 \n",
      "proof \n",
      "POC - updated_s when b == s:  EQ SOLD \n"
     ]
    },
    {
     "data": {
      "text/html": [
       "<style>\n",
       ".list-inline {list-style: none; margin:0; padding: 0}\n",
       ".list-inline>li {display: inline-block}\n",
       ".list-inline>li:not(:last-child)::after {content: \"\\00b7\"; padding: 0 .5ex}\n",
       "</style>\n",
       "<ol class=list-inline><li>1</li><li>23</li></ol>\n"
      ],
      "text/latex": [
       "\\begin{enumerate*}\n",
       "\\item 1\n",
       "\\item 23\n",
       "\\end{enumerate*}\n"
      ],
      "text/markdown": [
       "1. 1\n",
       "2. 23\n",
       "\n",
       "\n"
      ],
      "text/plain": [
       "[1]  1 23"
      ]
     },
     "metadata": {},
     "output_type": "display_data"
    },
    {
     "data": {
      "text/html": [
       "<style>\n",
       ".list-inline {list-style: none; margin:0; padding: 0}\n",
       ".list-inline>li {display: inline-block}\n",
       ".list-inline>li:not(:last-child)::after {content: \"\\00b7\"; padding: 0 .5ex}\n",
       "</style>\n",
       "<ol class=list-inline><li>23</li><li>23</li></ol>\n"
      ],
      "text/latex": [
       "\\begin{enumerate*}\n",
       "\\item 23\n",
       "\\item 23\n",
       "\\end{enumerate*}\n"
      ],
      "text/markdown": [
       "1. 23\n",
       "2. 23\n",
       "\n",
       "\n"
      ],
      "text/plain": [
       "[1] 23 23"
      ]
     },
     "metadata": {},
     "output_type": "display_data"
    }
   ],
   "source": [
    "updated_b_list <- update_b(b,s,buys)\n",
    "\n",
    "updated_b <- updated_b_list[[1]]\n",
    "updated_s <- updated_b_list[[2]]\n",
    "buys <- updated_b_list[[3]]\n",
    "\n",
    "dim(updated_b)\n",
    "dim(buys)    "
   ]
  },
  {
   "cell_type": "markdown",
   "id": "5f1e6e07-aef7-482f-9d67-bdff865cb2cc",
   "metadata": {},
   "source": [
    "### <font color = yellow>3. Update the sales_records (rbind) with updated_b for each transaction (loop)"
   ]
  },
  {
   "cell_type": "code",
   "execution_count": 37,
   "id": "760bc22f-3f97-4f01-8239-165b1a59b2bf",
   "metadata": {},
   "outputs": [
    {
     "data": {
      "text/html": [
       "<table class=\"dataframe\">\n",
       "<caption>A data.frame: 1 × 23</caption>\n",
       "<thead>\n",
       "\t<tr><th></th><th scope=col>index</th><th scope=col>date</th><th scope=col>type</th><th scope=col>co</th><th scope=col>quan</th><th scope=col>pps</th><th scope=col>basis</th><th scope=col>sale_quan</th><th scope=col>flag</th><th scope=col>buy_cf_quan</th><th scope=col>⋯</th><th scope=col>buy_pps</th><th scope=col>buy_basis</th><th scope=col>sell_quan</th><th scope=col>sell_pps</th><th scope=col>sell_basis</th><th scope=col>profit_loss</th><th scope=col>sold_cf_quan</th><th scope=col>sold_cf_pps</th><th scope=col>sold_cf_basis</th><th scope=col>true_false</th></tr>\n",
       "\t<tr><th></th><th scope=col>&lt;int&gt;</th><th scope=col>&lt;date&gt;</th><th scope=col>&lt;chr&gt;</th><th scope=col>&lt;chr&gt;</th><th scope=col>&lt;int&gt;</th><th scope=col>&lt;dbl&gt;</th><th scope=col>&lt;dbl&gt;</th><th scope=col>&lt;dbl&gt;</th><th scope=col>&lt;lgl&gt;</th><th scope=col>&lt;dbl&gt;</th><th scope=col>⋯</th><th scope=col>&lt;dbl&gt;</th><th scope=col>&lt;dbl&gt;</th><th scope=col>&lt;dbl&gt;</th><th scope=col>&lt;dbl&gt;</th><th scope=col>&lt;dbl&gt;</th><th scope=col>&lt;dbl&gt;</th><th scope=col>&lt;dbl&gt;</th><th scope=col>&lt;dbl&gt;</th><th scope=col>&lt;dbl&gt;</th><th scope=col>&lt;dbl&gt;</th></tr>\n",
       "</thead>\n",
       "<tbody>\n",
       "\t<tr><th scope=row>2</th><td>1</td><td>2022-12-31</td><td>Buy CF</td><td>AMC</td><td>50</td><td>4.07</td><td>203.5</td><td>0</td><td>TRUE</td><td>0</td><td>⋯</td><td>0</td><td>0</td><td>0</td><td>0</td><td>0</td><td>0</td><td>0</td><td>0</td><td>0</td><td>0</td></tr>\n",
       "</tbody>\n",
       "</table>\n"
      ],
      "text/latex": [
       "A data.frame: 1 × 23\n",
       "\\begin{tabular}{r|lllllllllllllllllllll}\n",
       "  & index & date & type & co & quan & pps & basis & sale\\_quan & flag & buy\\_cf\\_quan & ⋯ & buy\\_pps & buy\\_basis & sell\\_quan & sell\\_pps & sell\\_basis & profit\\_loss & sold\\_cf\\_quan & sold\\_cf\\_pps & sold\\_cf\\_basis & true\\_false\\\\\n",
       "  & <int> & <date> & <chr> & <chr> & <int> & <dbl> & <dbl> & <dbl> & <lgl> & <dbl> & ⋯ & <dbl> & <dbl> & <dbl> & <dbl> & <dbl> & <dbl> & <dbl> & <dbl> & <dbl> & <dbl>\\\\\n",
       "\\hline\n",
       "\t2 & 1 & 2022-12-31 & Buy CF & AMC & 50 & 4.07 & 203.5 & 0 & TRUE & 0 & ⋯ & 0 & 0 & 0 & 0 & 0 & 0 & 0 & 0 & 0 & 0\\\\\n",
       "\\end{tabular}\n"
      ],
      "text/markdown": [
       "\n",
       "A data.frame: 1 × 23\n",
       "\n",
       "| <!--/--> | index &lt;int&gt; | date &lt;date&gt; | type &lt;chr&gt; | co &lt;chr&gt; | quan &lt;int&gt; | pps &lt;dbl&gt; | basis &lt;dbl&gt; | sale_quan &lt;dbl&gt; | flag &lt;lgl&gt; | buy_cf_quan &lt;dbl&gt; | ⋯ ⋯ | buy_pps &lt;dbl&gt; | buy_basis &lt;dbl&gt; | sell_quan &lt;dbl&gt; | sell_pps &lt;dbl&gt; | sell_basis &lt;dbl&gt; | profit_loss &lt;dbl&gt; | sold_cf_quan &lt;dbl&gt; | sold_cf_pps &lt;dbl&gt; | sold_cf_basis &lt;dbl&gt; | true_false &lt;dbl&gt; |\n",
       "|---|---|---|---|---|---|---|---|---|---|---|---|---|---|---|---|---|---|---|---|---|---|\n",
       "| 2 | 1 | 2022-12-31 | Buy CF | AMC | 50 | 4.07 | 203.5 | 0 | TRUE | 0 | ⋯ | 0 | 0 | 0 | 0 | 0 | 0 | 0 | 0 | 0 | 0 |\n",
       "\n"
      ],
      "text/plain": [
       "  index date       type   co  quan pps  basis sale_quan flag buy_cf_quan ⋯\n",
       "2 1     2022-12-31 Buy CF AMC 50   4.07 203.5 0         TRUE 0           ⋯\n",
       "  buy_pps buy_basis sell_quan sell_pps sell_basis profit_loss sold_cf_quan\n",
       "2 0       0         0         0        0          0           0           \n",
       "  sold_cf_pps sold_cf_basis true_false\n",
       "2 0           0             0         "
      ]
     },
     "metadata": {},
     "output_type": "display_data"
    }
   ],
   "source": [
    "b"
   ]
  },
  {
   "cell_type": "code",
   "execution_count": 38,
   "id": "e1ec1d47-0901-4675-8e1c-918896eb21a4",
   "metadata": {},
   "outputs": [
    {
     "data": {
      "text/html": [
       "<table class=\"dataframe\">\n",
       "<caption>A data.frame: 1 × 23</caption>\n",
       "<thead>\n",
       "\t<tr><th></th><th scope=col>index</th><th scope=col>date</th><th scope=col>type</th><th scope=col>co</th><th scope=col>quan</th><th scope=col>pps</th><th scope=col>basis</th><th scope=col>sale_quan</th><th scope=col>flag</th><th scope=col>buy_cf_quan</th><th scope=col>⋯</th><th scope=col>buy_pps</th><th scope=col>buy_basis</th><th scope=col>sell_quan</th><th scope=col>sell_pps</th><th scope=col>sell_basis</th><th scope=col>profit_loss</th><th scope=col>sold_cf_quan</th><th scope=col>sold_cf_pps</th><th scope=col>sold_cf_basis</th><th scope=col>true_false</th></tr>\n",
       "\t<tr><th></th><th scope=col>&lt;int&gt;</th><th scope=col>&lt;date&gt;</th><th scope=col>&lt;chr&gt;</th><th scope=col>&lt;chr&gt;</th><th scope=col>&lt;int&gt;</th><th scope=col>&lt;dbl&gt;</th><th scope=col>&lt;dbl&gt;</th><th scope=col>&lt;dbl&gt;</th><th scope=col>&lt;lgl&gt;</th><th scope=col>&lt;dbl&gt;</th><th scope=col>⋯</th><th scope=col>&lt;dbl&gt;</th><th scope=col>&lt;dbl&gt;</th><th scope=col>&lt;int&gt;</th><th scope=col>&lt;dbl&gt;</th><th scope=col>&lt;dbl&gt;</th><th scope=col>&lt;dbl&gt;</th><th scope=col>&lt;dbl&gt;</th><th scope=col>&lt;dbl&gt;</th><th scope=col>&lt;dbl&gt;</th><th scope=col>&lt;lgl&gt;</th></tr>\n",
       "</thead>\n",
       "<tbody>\n",
       "\t<tr><th scope=row>1</th><td>1</td><td>2022-12-31</td><td>Buy CF</td><td>CFCF</td><td>50</td><td>4.07</td><td>203.5</td><td>0</td><td>TRUE</td><td>0</td><td>⋯</td><td>4.07</td><td>203.5</td><td>50</td><td>5.5124</td><td>275.62</td><td>72.12</td><td>0</td><td>0</td><td>0</td><td>TRUE</td></tr>\n",
       "</tbody>\n",
       "</table>\n"
      ],
      "text/latex": [
       "A data.frame: 1 × 23\n",
       "\\begin{tabular}{r|lllllllllllllllllllll}\n",
       "  & index & date & type & co & quan & pps & basis & sale\\_quan & flag & buy\\_cf\\_quan & ⋯ & buy\\_pps & buy\\_basis & sell\\_quan & sell\\_pps & sell\\_basis & profit\\_loss & sold\\_cf\\_quan & sold\\_cf\\_pps & sold\\_cf\\_basis & true\\_false\\\\\n",
       "  & <int> & <date> & <chr> & <chr> & <int> & <dbl> & <dbl> & <dbl> & <lgl> & <dbl> & ⋯ & <dbl> & <dbl> & <int> & <dbl> & <dbl> & <dbl> & <dbl> & <dbl> & <dbl> & <lgl>\\\\\n",
       "\\hline\n",
       "\t1 & 1 & 2022-12-31 & Buy CF & CFCF & 50 & 4.07 & 203.5 & 0 & TRUE & 0 & ⋯ & 4.07 & 203.5 & 50 & 5.5124 & 275.62 & 72.12 & 0 & 0 & 0 & TRUE\\\\\n",
       "\\end{tabular}\n"
      ],
      "text/markdown": [
       "\n",
       "A data.frame: 1 × 23\n",
       "\n",
       "| <!--/--> | index &lt;int&gt; | date &lt;date&gt; | type &lt;chr&gt; | co &lt;chr&gt; | quan &lt;int&gt; | pps &lt;dbl&gt; | basis &lt;dbl&gt; | sale_quan &lt;dbl&gt; | flag &lt;lgl&gt; | buy_cf_quan &lt;dbl&gt; | ⋯ ⋯ | buy_pps &lt;dbl&gt; | buy_basis &lt;dbl&gt; | sell_quan &lt;int&gt; | sell_pps &lt;dbl&gt; | sell_basis &lt;dbl&gt; | profit_loss &lt;dbl&gt; | sold_cf_quan &lt;dbl&gt; | sold_cf_pps &lt;dbl&gt; | sold_cf_basis &lt;dbl&gt; | true_false &lt;lgl&gt; |\n",
       "|---|---|---|---|---|---|---|---|---|---|---|---|---|---|---|---|---|---|---|---|---|---|\n",
       "| 1 | 1 | 2022-12-31 | Buy CF | CFCF | 50 | 4.07 | 203.5 | 0 | TRUE | 0 | ⋯ | 4.07 | 203.5 | 50 | 5.5124 | 275.62 | 72.12 | 0 | 0 | 0 | TRUE |\n",
       "\n"
      ],
      "text/plain": [
       "  index date       type   co   quan pps  basis sale_quan flag buy_cf_quan ⋯\n",
       "1 1     2022-12-31 Buy CF CFCF 50   4.07 203.5 0         TRUE 0           ⋯\n",
       "  buy_pps buy_basis sell_quan sell_pps sell_basis profit_loss sold_cf_quan\n",
       "1 4.07    203.5     50        5.5124   275.62     72.12       0           \n",
       "  sold_cf_pps sold_cf_basis true_false\n",
       "1 0           0             TRUE      "
      ]
     },
     "metadata": {},
     "output_type": "display_data"
    },
    {
     "data": {
      "text/html": [
       "<table class=\"dataframe\">\n",
       "<caption>A data.frame: 2 × 23</caption>\n",
       "<thead>\n",
       "\t<tr><th scope=col>index</th><th scope=col>date</th><th scope=col>type</th><th scope=col>co</th><th scope=col>quan</th><th scope=col>pps</th><th scope=col>basis</th><th scope=col>sale_quan</th><th scope=col>flag</th><th scope=col>buy_cf_quan</th><th scope=col>⋯</th><th scope=col>buy_pps</th><th scope=col>buy_basis</th><th scope=col>sell_quan</th><th scope=col>sell_pps</th><th scope=col>sell_basis</th><th scope=col>profit_loss</th><th scope=col>sold_cf_quan</th><th scope=col>sold_cf_pps</th><th scope=col>sold_cf_basis</th><th scope=col>true_false</th></tr>\n",
       "\t<tr><th scope=col>&lt;int&gt;</th><th scope=col>&lt;date&gt;</th><th scope=col>&lt;chr&gt;</th><th scope=col>&lt;chr&gt;</th><th scope=col>&lt;int&gt;</th><th scope=col>&lt;dbl&gt;</th><th scope=col>&lt;dbl&gt;</th><th scope=col>&lt;dbl&gt;</th><th scope=col>&lt;lgl&gt;</th><th scope=col>&lt;dbl&gt;</th><th scope=col>⋯</th><th scope=col>&lt;dbl&gt;</th><th scope=col>&lt;dbl&gt;</th><th scope=col>&lt;int&gt;</th><th scope=col>&lt;dbl&gt;</th><th scope=col>&lt;dbl&gt;</th><th scope=col>&lt;dbl&gt;</th><th scope=col>&lt;dbl&gt;</th><th scope=col>&lt;dbl&gt;</th><th scope=col>&lt;dbl&gt;</th><th scope=col>&lt;lgl&gt;</th></tr>\n",
       "</thead>\n",
       "<tbody>\n",
       "\t<tr><td>1</td><td>2022-12-31</td><td>Buy CF</td><td>CFCF</td><td>  50</td><td>4.07</td><td> 203.5</td><td>   0</td><td>TRUE</td><td>0</td><td>⋯</td><td>4.07</td><td> 203.5</td><td>  50</td><td>5.5124</td><td> 275.62</td><td>  72.12</td><td> 0</td><td>0.00</td><td>  0.0</td><td> TRUE</td></tr>\n",
       "\t<tr><td>1</td><td>2022-12-31</td><td>Buy   </td><td>AMC </td><td>1050</td><td>4.07</td><td>4273.5</td><td>1000</td><td>TRUE</td><td>0</td><td>⋯</td><td>4.07</td><td>4070.0</td><td>1000</td><td>5.5124</td><td>5512.40</td><td>1442.40</td><td>50</td><td>4.07</td><td>203.5</td><td>FALSE</td></tr>\n",
       "</tbody>\n",
       "</table>\n"
      ],
      "text/latex": [
       "A data.frame: 2 × 23\n",
       "\\begin{tabular}{lllllllllllllllllllll}\n",
       " index & date & type & co & quan & pps & basis & sale\\_quan & flag & buy\\_cf\\_quan & ⋯ & buy\\_pps & buy\\_basis & sell\\_quan & sell\\_pps & sell\\_basis & profit\\_loss & sold\\_cf\\_quan & sold\\_cf\\_pps & sold\\_cf\\_basis & true\\_false\\\\\n",
       " <int> & <date> & <chr> & <chr> & <int> & <dbl> & <dbl> & <dbl> & <lgl> & <dbl> & ⋯ & <dbl> & <dbl> & <int> & <dbl> & <dbl> & <dbl> & <dbl> & <dbl> & <dbl> & <lgl>\\\\\n",
       "\\hline\n",
       "\t 1 & 2022-12-31 & Buy CF & CFCF &   50 & 4.07 &  203.5 &    0 & TRUE & 0 & ⋯ & 4.07 &  203.5 &   50 & 5.5124 &  275.62 &   72.12 &  0 & 0.00 &   0.0 &  TRUE\\\\\n",
       "\t 1 & 2022-12-31 & Buy    & AMC  & 1050 & 4.07 & 4273.5 & 1000 & TRUE & 0 & ⋯ & 4.07 & 4070.0 & 1000 & 5.5124 & 5512.40 & 1442.40 & 50 & 4.07 & 203.5 & FALSE\\\\\n",
       "\\end{tabular}\n"
      ],
      "text/markdown": [
       "\n",
       "A data.frame: 2 × 23\n",
       "\n",
       "| index &lt;int&gt; | date &lt;date&gt; | type &lt;chr&gt; | co &lt;chr&gt; | quan &lt;int&gt; | pps &lt;dbl&gt; | basis &lt;dbl&gt; | sale_quan &lt;dbl&gt; | flag &lt;lgl&gt; | buy_cf_quan &lt;dbl&gt; | ⋯ ⋯ | buy_pps &lt;dbl&gt; | buy_basis &lt;dbl&gt; | sell_quan &lt;int&gt; | sell_pps &lt;dbl&gt; | sell_basis &lt;dbl&gt; | profit_loss &lt;dbl&gt; | sold_cf_quan &lt;dbl&gt; | sold_cf_pps &lt;dbl&gt; | sold_cf_basis &lt;dbl&gt; | true_false &lt;lgl&gt; |\n",
       "|---|---|---|---|---|---|---|---|---|---|---|---|---|---|---|---|---|---|---|---|---|\n",
       "| 1 | 2022-12-31 | Buy CF | CFCF |   50 | 4.07 |  203.5 |    0 | TRUE | 0 | ⋯ | 4.07 |  203.5 |   50 | 5.5124 |  275.62 |   72.12 |  0 | 0.00 |   0.0 |  TRUE |\n",
       "| 1 | 2022-12-31 | Buy    | AMC  | 1050 | 4.07 | 4273.5 | 1000 | TRUE | 0 | ⋯ | 4.07 | 4070.0 | 1000 | 5.5124 | 5512.40 | 1442.40 | 50 | 4.07 | 203.5 | FALSE |\n",
       "\n"
      ],
      "text/plain": [
       "  index date       type   co   quan pps  basis  sale_quan flag buy_cf_quan ⋯\n",
       "1 1     2022-12-31 Buy CF CFCF   50 4.07  203.5    0      TRUE 0           ⋯\n",
       "2 1     2022-12-31 Buy    AMC  1050 4.07 4273.5 1000      TRUE 0           ⋯\n",
       "  buy_pps buy_basis sell_quan sell_pps sell_basis profit_loss sold_cf_quan\n",
       "1 4.07     203.5      50      5.5124    275.62      72.12      0          \n",
       "2 4.07    4070.0    1000      5.5124   5512.40    1442.40     50          \n",
       "  sold_cf_pps sold_cf_basis true_false\n",
       "1 0.00          0.0          TRUE     \n",
       "2 4.07        203.5         FALSE     "
      ]
     },
     "metadata": {},
     "output_type": "display_data"
    }
   ],
   "source": [
    "# First go around needs rbind()\n",
    "# sale_records <- rbind(sale_records, updated_b)    \n",
    "\n",
    "sale_records <- sale_records %>% add_row(updated_b , .before = 1)\n",
    "sale_records[1,]\n",
    "sale_records"
   ]
  },
  {
   "cell_type": "code",
   "execution_count": null,
   "id": "4cfddde2-ca47-453d-a49f-716a9ef63ced",
   "metadata": {},
   "outputs": [],
   "source": []
  },
  {
   "cell_type": "code",
   "execution_count": null,
   "id": "c7e07d71-eac5-4fe1-87bc-4a2fe00aedc3",
   "metadata": {},
   "outputs": [],
   "source": []
  },
  {
   "cell_type": "markdown",
   "id": "535d781e-e8a1-46d0-ac5a-bc10db6d95ac",
   "metadata": {},
   "source": [
    "## <font color = lime> CAUTION: Step3 using either before/after, will effect Step 4 below:  "
   ]
  },
  {
   "cell_type": "code",
   "execution_count": 39,
   "id": "c59cba33-a340-4d1d-b6ef-23e8ed6b337a",
   "metadata": {},
   "outputs": [
    {
     "data": {
      "text/html": [
       "<table class=\"dataframe\">\n",
       "<caption>A data.frame: 4 × 23</caption>\n",
       "<thead>\n",
       "\t<tr><th></th><th scope=col>index</th><th scope=col>date</th><th scope=col>type</th><th scope=col>co</th><th scope=col>quan</th><th scope=col>pps</th><th scope=col>basis</th><th scope=col>sale_quan</th><th scope=col>flag</th><th scope=col>buy_cf_quan</th><th scope=col>⋯</th><th scope=col>buy_pps</th><th scope=col>buy_basis</th><th scope=col>sell_quan</th><th scope=col>sell_pps</th><th scope=col>sell_basis</th><th scope=col>profit_loss</th><th scope=col>sold_cf_quan</th><th scope=col>sold_cf_pps</th><th scope=col>sold_cf_basis</th><th scope=col>true_false</th></tr>\n",
       "\t<tr><th></th><th scope=col>&lt;int&gt;</th><th scope=col>&lt;date&gt;</th><th scope=col>&lt;chr&gt;</th><th scope=col>&lt;chr&gt;</th><th scope=col>&lt;int&gt;</th><th scope=col>&lt;dbl&gt;</th><th scope=col>&lt;dbl&gt;</th><th scope=col>&lt;dbl&gt;</th><th scope=col>&lt;lgl&gt;</th><th scope=col>&lt;dbl&gt;</th><th scope=col>⋯</th><th scope=col>&lt;dbl&gt;</th><th scope=col>&lt;dbl&gt;</th><th scope=col>&lt;dbl&gt;</th><th scope=col>&lt;dbl&gt;</th><th scope=col>&lt;dbl&gt;</th><th scope=col>&lt;dbl&gt;</th><th scope=col>&lt;dbl&gt;</th><th scope=col>&lt;dbl&gt;</th><th scope=col>&lt;dbl&gt;</th><th scope=col>&lt;dbl&gt;</th></tr>\n",
       "</thead>\n",
       "<tbody>\n",
       "\t<tr><th scope=row>2</th><td>1</td><td>2022-12-31</td><td>Buy CF</td><td>AMC</td><td>  50</td><td>4.0700</td><td>  203.5</td><td>0</td><td> TRUE</td><td>0</td><td>⋯</td><td>0</td><td>0</td><td>0</td><td>0</td><td>0</td><td>0</td><td>0</td><td>0</td><td>0</td><td>0</td></tr>\n",
       "\t<tr><th scope=row>3</th><td>3</td><td>2023-01-20</td><td>Buy   </td><td>AMC</td><td>1000</td><td>5.6250</td><td> 5625.0</td><td>0</td><td>FALSE</td><td>0</td><td>⋯</td><td>0</td><td>0</td><td>0</td><td>0</td><td>0</td><td>0</td><td>0</td><td>0</td><td>0</td><td>0</td></tr>\n",
       "\t<tr><th scope=row>4</th><td>5</td><td>2023-01-23</td><td>Buy   </td><td>AMC</td><td>1000</td><td>5.7880</td><td> 5788.0</td><td>0</td><td>FALSE</td><td>0</td><td>⋯</td><td>0</td><td>0</td><td>0</td><td>0</td><td>0</td><td>0</td><td>0</td><td>0</td><td>0</td><td>0</td></tr>\n",
       "\t<tr><th scope=row>5</th><td>7</td><td>2023-01-27</td><td>Buy   </td><td>AMC</td><td>2000</td><td>5.2394</td><td>10478.8</td><td>0</td><td>FALSE</td><td>0</td><td>⋯</td><td>0</td><td>0</td><td>0</td><td>0</td><td>0</td><td>0</td><td>0</td><td>0</td><td>0</td><td>0</td></tr>\n",
       "</tbody>\n",
       "</table>\n"
      ],
      "text/latex": [
       "A data.frame: 4 × 23\n",
       "\\begin{tabular}{r|lllllllllllllllllllll}\n",
       "  & index & date & type & co & quan & pps & basis & sale\\_quan & flag & buy\\_cf\\_quan & ⋯ & buy\\_pps & buy\\_basis & sell\\_quan & sell\\_pps & sell\\_basis & profit\\_loss & sold\\_cf\\_quan & sold\\_cf\\_pps & sold\\_cf\\_basis & true\\_false\\\\\n",
       "  & <int> & <date> & <chr> & <chr> & <int> & <dbl> & <dbl> & <dbl> & <lgl> & <dbl> & ⋯ & <dbl> & <dbl> & <dbl> & <dbl> & <dbl> & <dbl> & <dbl> & <dbl> & <dbl> & <dbl>\\\\\n",
       "\\hline\n",
       "\t2 & 1 & 2022-12-31 & Buy CF & AMC &   50 & 4.0700 &   203.5 & 0 &  TRUE & 0 & ⋯ & 0 & 0 & 0 & 0 & 0 & 0 & 0 & 0 & 0 & 0\\\\\n",
       "\t3 & 3 & 2023-01-20 & Buy    & AMC & 1000 & 5.6250 &  5625.0 & 0 & FALSE & 0 & ⋯ & 0 & 0 & 0 & 0 & 0 & 0 & 0 & 0 & 0 & 0\\\\\n",
       "\t4 & 5 & 2023-01-23 & Buy    & AMC & 1000 & 5.7880 &  5788.0 & 0 & FALSE & 0 & ⋯ & 0 & 0 & 0 & 0 & 0 & 0 & 0 & 0 & 0 & 0\\\\\n",
       "\t5 & 7 & 2023-01-27 & Buy    & AMC & 2000 & 5.2394 & 10478.8 & 0 & FALSE & 0 & ⋯ & 0 & 0 & 0 & 0 & 0 & 0 & 0 & 0 & 0 & 0\\\\\n",
       "\\end{tabular}\n"
      ],
      "text/markdown": [
       "\n",
       "A data.frame: 4 × 23\n",
       "\n",
       "| <!--/--> | index &lt;int&gt; | date &lt;date&gt; | type &lt;chr&gt; | co &lt;chr&gt; | quan &lt;int&gt; | pps &lt;dbl&gt; | basis &lt;dbl&gt; | sale_quan &lt;dbl&gt; | flag &lt;lgl&gt; | buy_cf_quan &lt;dbl&gt; | ⋯ ⋯ | buy_pps &lt;dbl&gt; | buy_basis &lt;dbl&gt; | sell_quan &lt;dbl&gt; | sell_pps &lt;dbl&gt; | sell_basis &lt;dbl&gt; | profit_loss &lt;dbl&gt; | sold_cf_quan &lt;dbl&gt; | sold_cf_pps &lt;dbl&gt; | sold_cf_basis &lt;dbl&gt; | true_false &lt;dbl&gt; |\n",
       "|---|---|---|---|---|---|---|---|---|---|---|---|---|---|---|---|---|---|---|---|---|---|\n",
       "| 2 | 1 | 2022-12-31 | Buy CF | AMC |   50 | 4.0700 |   203.5 | 0 |  TRUE | 0 | ⋯ | 0 | 0 | 0 | 0 | 0 | 0 | 0 | 0 | 0 | 0 |\n",
       "| 3 | 3 | 2023-01-20 | Buy    | AMC | 1000 | 5.6250 |  5625.0 | 0 | FALSE | 0 | ⋯ | 0 | 0 | 0 | 0 | 0 | 0 | 0 | 0 | 0 | 0 |\n",
       "| 4 | 5 | 2023-01-23 | Buy    | AMC | 1000 | 5.7880 |  5788.0 | 0 | FALSE | 0 | ⋯ | 0 | 0 | 0 | 0 | 0 | 0 | 0 | 0 | 0 | 0 |\n",
       "| 5 | 7 | 2023-01-27 | Buy    | AMC | 2000 | 5.2394 | 10478.8 | 0 | FALSE | 0 | ⋯ | 0 | 0 | 0 | 0 | 0 | 0 | 0 | 0 | 0 | 0 |\n",
       "\n"
      ],
      "text/plain": [
       "  index date       type   co  quan pps    basis   sale_quan flag  buy_cf_quan ⋯\n",
       "2 1     2022-12-31 Buy CF AMC   50 4.0700   203.5 0          TRUE 0           ⋯\n",
       "3 3     2023-01-20 Buy    AMC 1000 5.6250  5625.0 0         FALSE 0           ⋯\n",
       "4 5     2023-01-23 Buy    AMC 1000 5.7880  5788.0 0         FALSE 0           ⋯\n",
       "5 7     2023-01-27 Buy    AMC 2000 5.2394 10478.8 0         FALSE 0           ⋯\n",
       "  buy_pps buy_basis sell_quan sell_pps sell_basis profit_loss sold_cf_quan\n",
       "2 0       0         0         0        0          0           0           \n",
       "3 0       0         0         0        0          0           0           \n",
       "4 0       0         0         0        0          0           0           \n",
       "5 0       0         0         0        0          0           0           \n",
       "  sold_cf_pps sold_cf_basis true_false\n",
       "2 0           0             0         \n",
       "3 0           0             0         \n",
       "4 0           0             0         \n",
       "5 0           0             0         "
      ]
     },
     "metadata": {},
     "output_type": "display_data"
    },
    {
     "data": {
      "text/html": [
       "<table class=\"dataframe\">\n",
       "<caption>A data.frame: 4 × 23</caption>\n",
       "<thead>\n",
       "\t<tr><th></th><th scope=col>index</th><th scope=col>date</th><th scope=col>type</th><th scope=col>co</th><th scope=col>quan</th><th scope=col>pps</th><th scope=col>basis</th><th scope=col>sale_quan</th><th scope=col>flag</th><th scope=col>buy_cf_quan</th><th scope=col>⋯</th><th scope=col>buy_pps</th><th scope=col>buy_basis</th><th scope=col>sell_quan</th><th scope=col>sell_pps</th><th scope=col>sell_basis</th><th scope=col>profit_loss</th><th scope=col>sold_cf_quan</th><th scope=col>sold_cf_pps</th><th scope=col>sold_cf_basis</th><th scope=col>true_false</th></tr>\n",
       "\t<tr><th></th><th scope=col>&lt;int&gt;</th><th scope=col>&lt;date&gt;</th><th scope=col>&lt;chr&gt;</th><th scope=col>&lt;chr&gt;</th><th scope=col>&lt;int&gt;</th><th scope=col>&lt;dbl&gt;</th><th scope=col>&lt;dbl&gt;</th><th scope=col>&lt;dbl&gt;</th><th scope=col>&lt;lgl&gt;</th><th scope=col>&lt;dbl&gt;</th><th scope=col>⋯</th><th scope=col>&lt;dbl&gt;</th><th scope=col>&lt;dbl&gt;</th><th scope=col>&lt;dbl&gt;</th><th scope=col>&lt;dbl&gt;</th><th scope=col>&lt;dbl&gt;</th><th scope=col>&lt;dbl&gt;</th><th scope=col>&lt;dbl&gt;</th><th scope=col>&lt;dbl&gt;</th><th scope=col>&lt;dbl&gt;</th><th scope=col>&lt;dbl&gt;</th></tr>\n",
       "</thead>\n",
       "<tbody>\n",
       "\t<tr><th scope=row>1</th><td>1</td><td>2022-12-31</td><td>Sell CF</td><td>AMC</td><td>  50</td><td>5.5124</td><td>   5.5124</td><td>0</td><td> TRUE</td><td>0</td><td>⋯</td><td>0</td><td>0</td><td>0</td><td>0</td><td>0</td><td>0</td><td>0</td><td>0</td><td>0</td><td>0</td></tr>\n",
       "\t<tr><th scope=row>3</th><td>4</td><td>2023-02-03</td><td>Sell   </td><td>AMC</td><td> 950</td><td>5.5124</td><td>5236.7800</td><td>0</td><td>FALSE</td><td>0</td><td>⋯</td><td>0</td><td>0</td><td>0</td><td>0</td><td>0</td><td>0</td><td>0</td><td>0</td><td>0</td><td>0</td></tr>\n",
       "\t<tr><th scope=row>4</th><td>6</td><td>2023-02-03</td><td>Sell   </td><td>AMC</td><td>1000</td><td>6.2550</td><td>6255.0000</td><td>0</td><td>FALSE</td><td>0</td><td>⋯</td><td>0</td><td>0</td><td>0</td><td>0</td><td>0</td><td>0</td><td>0</td><td>0</td><td>0</td><td>0</td></tr>\n",
       "\t<tr><th scope=row>5</th><td>8</td><td>2023-02-03</td><td>Sell   </td><td>AMC</td><td>1000</td><td>6.1901</td><td>6190.1000</td><td>0</td><td>FALSE</td><td>0</td><td>⋯</td><td>0</td><td>0</td><td>0</td><td>0</td><td>0</td><td>0</td><td>0</td><td>0</td><td>0</td><td>0</td></tr>\n",
       "</tbody>\n",
       "</table>\n"
      ],
      "text/latex": [
       "A data.frame: 4 × 23\n",
       "\\begin{tabular}{r|lllllllllllllllllllll}\n",
       "  & index & date & type & co & quan & pps & basis & sale\\_quan & flag & buy\\_cf\\_quan & ⋯ & buy\\_pps & buy\\_basis & sell\\_quan & sell\\_pps & sell\\_basis & profit\\_loss & sold\\_cf\\_quan & sold\\_cf\\_pps & sold\\_cf\\_basis & true\\_false\\\\\n",
       "  & <int> & <date> & <chr> & <chr> & <int> & <dbl> & <dbl> & <dbl> & <lgl> & <dbl> & ⋯ & <dbl> & <dbl> & <dbl> & <dbl> & <dbl> & <dbl> & <dbl> & <dbl> & <dbl> & <dbl>\\\\\n",
       "\\hline\n",
       "\t1 & 1 & 2022-12-31 & Sell CF & AMC &   50 & 5.5124 &    5.5124 & 0 &  TRUE & 0 & ⋯ & 0 & 0 & 0 & 0 & 0 & 0 & 0 & 0 & 0 & 0\\\\\n",
       "\t3 & 4 & 2023-02-03 & Sell    & AMC &  950 & 5.5124 & 5236.7800 & 0 & FALSE & 0 & ⋯ & 0 & 0 & 0 & 0 & 0 & 0 & 0 & 0 & 0 & 0\\\\\n",
       "\t4 & 6 & 2023-02-03 & Sell    & AMC & 1000 & 6.2550 & 6255.0000 & 0 & FALSE & 0 & ⋯ & 0 & 0 & 0 & 0 & 0 & 0 & 0 & 0 & 0 & 0\\\\\n",
       "\t5 & 8 & 2023-02-03 & Sell    & AMC & 1000 & 6.1901 & 6190.1000 & 0 & FALSE & 0 & ⋯ & 0 & 0 & 0 & 0 & 0 & 0 & 0 & 0 & 0 & 0\\\\\n",
       "\\end{tabular}\n"
      ],
      "text/markdown": [
       "\n",
       "A data.frame: 4 × 23\n",
       "\n",
       "| <!--/--> | index &lt;int&gt; | date &lt;date&gt; | type &lt;chr&gt; | co &lt;chr&gt; | quan &lt;int&gt; | pps &lt;dbl&gt; | basis &lt;dbl&gt; | sale_quan &lt;dbl&gt; | flag &lt;lgl&gt; | buy_cf_quan &lt;dbl&gt; | ⋯ ⋯ | buy_pps &lt;dbl&gt; | buy_basis &lt;dbl&gt; | sell_quan &lt;dbl&gt; | sell_pps &lt;dbl&gt; | sell_basis &lt;dbl&gt; | profit_loss &lt;dbl&gt; | sold_cf_quan &lt;dbl&gt; | sold_cf_pps &lt;dbl&gt; | sold_cf_basis &lt;dbl&gt; | true_false &lt;dbl&gt; |\n",
       "|---|---|---|---|---|---|---|---|---|---|---|---|---|---|---|---|---|---|---|---|---|---|\n",
       "| 1 | 1 | 2022-12-31 | Sell CF | AMC |   50 | 5.5124 |    5.5124 | 0 |  TRUE | 0 | ⋯ | 0 | 0 | 0 | 0 | 0 | 0 | 0 | 0 | 0 | 0 |\n",
       "| 3 | 4 | 2023-02-03 | Sell    | AMC |  950 | 5.5124 | 5236.7800 | 0 | FALSE | 0 | ⋯ | 0 | 0 | 0 | 0 | 0 | 0 | 0 | 0 | 0 | 0 |\n",
       "| 4 | 6 | 2023-02-03 | Sell    | AMC | 1000 | 6.2550 | 6255.0000 | 0 | FALSE | 0 | ⋯ | 0 | 0 | 0 | 0 | 0 | 0 | 0 | 0 | 0 | 0 |\n",
       "| 5 | 8 | 2023-02-03 | Sell    | AMC | 1000 | 6.1901 | 6190.1000 | 0 | FALSE | 0 | ⋯ | 0 | 0 | 0 | 0 | 0 | 0 | 0 | 0 | 0 | 0 |\n",
       "\n"
      ],
      "text/plain": [
       "  index date       type    co  quan pps    basis     sale_quan flag \n",
       "1 1     2022-12-31 Sell CF AMC   50 5.5124    5.5124 0          TRUE\n",
       "3 4     2023-02-03 Sell    AMC  950 5.5124 5236.7800 0         FALSE\n",
       "4 6     2023-02-03 Sell    AMC 1000 6.2550 6255.0000 0         FALSE\n",
       "5 8     2023-02-03 Sell    AMC 1000 6.1901 6190.1000 0         FALSE\n",
       "  buy_cf_quan ⋯ buy_pps buy_basis sell_quan sell_pps sell_basis profit_loss\n",
       "1 0           ⋯ 0       0         0         0        0          0          \n",
       "3 0           ⋯ 0       0         0         0        0          0          \n",
       "4 0           ⋯ 0       0         0         0        0          0          \n",
       "5 0           ⋯ 0       0         0         0        0          0          \n",
       "  sold_cf_quan sold_cf_pps sold_cf_basis true_false\n",
       "1 0            0           0             0         \n",
       "3 0            0           0             0         \n",
       "4 0            0           0             0         \n",
       "5 0            0           0             0         "
      ]
     },
     "metadata": {},
     "output_type": "display_data"
    }
   ],
   "source": [
    "buys[1:4,]\n",
    "sells[1:4,]"
   ]
  },
  {
   "cell_type": "markdown",
   "id": "d8e37370-12f1-4118-822a-6ab11e268c18",
   "metadata": {},
   "source": [
    "#### <font color = yellow> 4. Update buys or sells with a new row (add_row) - whenever a transaction (loop) includes  c/f\n",
    "    \n",
    "###### Uses add_row () to transform any existing carryforward (buy or sell type) into the next element that will be processed for next (loop) buy/sell transaction"
   ]
  },
  {
   "cell_type": "code",
   "execution_count": null,
   "id": "61521a7f-4bc2-49eb-9eae-a137eaf1ed67",
   "metadata": {},
   "outputs": [],
   "source": []
  },
  {
   "cell_type": "code",
   "execution_count": 40,
   "id": "dacdadad-f003-4890-98e0-20b7f13ca16a",
   "metadata": {
    "tags": []
   },
   "outputs": [
    {
     "name": "stdout",
     "output_type": "stream",
     "text": [
      "printing updated buys[1 ], dim of buys increases with c/f  \n"
     ]
    },
    {
     "data": {
      "text/html": [
       "<style>\n",
       ".list-inline {list-style: none; margin:0; padding: 0}\n",
       ".list-inline>li {display: inline-block}\n",
       ".list-inline>li:not(:last-child)::after {content: \"\\00b7\"; padding: 0 .5ex}\n",
       "</style>\n",
       "<ol class=list-inline><li>23</li><li>23</li></ol>\n"
      ],
      "text/latex": [
       "\\begin{enumerate*}\n",
       "\\item 23\n",
       "\\item 23\n",
       "\\end{enumerate*}\n"
      ],
      "text/markdown": [
       "1. 23\n",
       "2. 23\n",
       "\n",
       "\n"
      ],
      "text/plain": [
       "[1] 23 23"
      ]
     },
     "metadata": {},
     "output_type": "display_data"
    },
    {
     "data": {
      "text/html": [
       "<style>\n",
       ".list-inline {list-style: none; margin:0; padding: 0}\n",
       ".list-inline>li {display: inline-block}\n",
       ".list-inline>li:not(:last-child)::after {content: \"\\00b7\"; padding: 0 .5ex}\n",
       "</style>\n",
       "<ol class=list-inline><li>18</li><li>23</li></ol>\n"
      ],
      "text/latex": [
       "\\begin{enumerate*}\n",
       "\\item 18\n",
       "\\item 23\n",
       "\\end{enumerate*}\n"
      ],
      "text/markdown": [
       "1. 18\n",
       "2. 23\n",
       "\n",
       "\n"
      ],
      "text/plain": [
       "[1] 18 23"
      ]
     },
     "metadata": {},
     "output_type": "display_data"
    }
   ],
   "source": [
    "# fct call\n",
    "return_list <- update_buys_sells(buys, sells)\n",
    "\n",
    "# returned the updated to buys / sells\n",
    "buys <- return_list[[1]]\n",
    "sells <- return_list[[2]]\n",
    "\n",
    "dim(buys)\n",
    "dim(sells)"
   ]
  },
  {
   "cell_type": "code",
   "execution_count": null,
   "id": "e071635c-8b47-4265-a040-5584ddaa1c78",
   "metadata": {},
   "outputs": [],
   "source": []
  },
  {
   "cell_type": "code",
   "execution_count": null,
   "id": "eeda704f-4568-4e68-9a54-96425f946bed",
   "metadata": {},
   "outputs": [],
   "source": []
  },
  {
   "cell_type": "markdown",
   "id": "6083df0e-2295-4a2b-82c8-63318c5776aa",
   "metadata": {},
   "source": [
    "#### <font color = yellow>5. snips () Create a new variable from buys/sells row 1, then delete row 1 from buys and sells (copy_snip () )"
   ]
  },
  {
   "cell_type": "code",
   "execution_count": 41,
   "id": "61e4ce80-8bdd-4a6c-b79f-8cebb5a080b5",
   "metadata": {},
   "outputs": [
    {
     "name": "stdout",
     "output_type": "stream",
     "text": [
      "new condtional works for filtering in copy_snip when cf-cf \n"
     ]
    },
    {
     "data": {
      "text/html": [
       "<style>\n",
       ".list-inline {list-style: none; margin:0; padding: 0}\n",
       ".list-inline>li {display: inline-block}\n",
       ".list-inline>li:not(:last-child)::after {content: \"\\00b7\"; padding: 0 .5ex}\n",
       "</style>\n",
       "<ol class=list-inline><li>22</li><li>23</li></ol>\n"
      ],
      "text/latex": [
       "\\begin{enumerate*}\n",
       "\\item 22\n",
       "\\item 23\n",
       "\\end{enumerate*}\n"
      ],
      "text/markdown": [
       "1. 22\n",
       "2. 23\n",
       "\n",
       "\n"
      ],
      "text/plain": [
       "[1] 22 23"
      ]
     },
     "metadata": {},
     "output_type": "display_data"
    },
    {
     "data": {
      "text/html": [
       "<style>\n",
       ".list-inline {list-style: none; margin:0; padding: 0}\n",
       ".list-inline>li {display: inline-block}\n",
       ".list-inline>li:not(:last-child)::after {content: \"\\00b7\"; padding: 0 .5ex}\n",
       "</style>\n",
       "<ol class=list-inline><li>17</li><li>23</li></ol>\n"
      ],
      "text/latex": [
       "\\begin{enumerate*}\n",
       "\\item 17\n",
       "\\item 23\n",
       "\\end{enumerate*}\n"
      ],
      "text/markdown": [
       "1. 17\n",
       "2. 23\n",
       "\n",
       "\n"
      ],
      "text/plain": [
       "[1] 17 23"
      ]
     },
     "metadata": {},
     "output_type": "display_data"
    }
   ],
   "source": [
    "copy_snip_list <- copy_snip(b, s, buys, sells) \n",
    "\n",
    "b1 <- copy_snip_list[[1]]\n",
    "s1 <- copy_snip_list[[2]]\n",
    "buys <- copy_snip_list[[3]]\n",
    "sells <- copy_snip_list[[4]]\n",
    "\n",
    "# after\n",
    "dim(buys)\n",
    "dim(sells)\n",
    "# b1\n",
    "# s1"
   ]
  },
  {
   "cell_type": "code",
   "execution_count": null,
   "id": "44aae982-4fda-41fe-aa48-d5e66731a053",
   "metadata": {},
   "outputs": [],
   "source": []
  },
  {
   "cell_type": "markdown",
   "id": "5c70cb35-e500-4f99-a7d2-26604e30254f",
   "metadata": {},
   "source": [
    "#### <font color = lime> QC: Loop 2 review sale_record for accuracy"
   ]
  },
  {
   "cell_type": "code",
   "execution_count": 42,
   "id": "5c86609e-045e-43ec-8b9d-c67f20324ede",
   "metadata": {},
   "outputs": [
    {
     "data": {
      "text/html": [
       "<table class=\"dataframe\">\n",
       "<caption>A data.frame: 2 × 23</caption>\n",
       "<thead>\n",
       "\t<tr><th scope=col>index</th><th scope=col>date</th><th scope=col>type</th><th scope=col>co</th><th scope=col>quan</th><th scope=col>pps</th><th scope=col>basis</th><th scope=col>sale_quan</th><th scope=col>flag</th><th scope=col>buy_cf_quan</th><th scope=col>⋯</th><th scope=col>buy_pps</th><th scope=col>buy_basis</th><th scope=col>sell_quan</th><th scope=col>sell_pps</th><th scope=col>sell_basis</th><th scope=col>profit_loss</th><th scope=col>sold_cf_quan</th><th scope=col>sold_cf_pps</th><th scope=col>sold_cf_basis</th><th scope=col>true_false</th></tr>\n",
       "\t<tr><th scope=col>&lt;int&gt;</th><th scope=col>&lt;date&gt;</th><th scope=col>&lt;chr&gt;</th><th scope=col>&lt;chr&gt;</th><th scope=col>&lt;int&gt;</th><th scope=col>&lt;dbl&gt;</th><th scope=col>&lt;dbl&gt;</th><th scope=col>&lt;dbl&gt;</th><th scope=col>&lt;lgl&gt;</th><th scope=col>&lt;dbl&gt;</th><th scope=col>⋯</th><th scope=col>&lt;dbl&gt;</th><th scope=col>&lt;dbl&gt;</th><th scope=col>&lt;int&gt;</th><th scope=col>&lt;dbl&gt;</th><th scope=col>&lt;dbl&gt;</th><th scope=col>&lt;dbl&gt;</th><th scope=col>&lt;dbl&gt;</th><th scope=col>&lt;dbl&gt;</th><th scope=col>&lt;dbl&gt;</th><th scope=col>&lt;lgl&gt;</th></tr>\n",
       "</thead>\n",
       "<tbody>\n",
       "\t<tr><td>1</td><td>2022-12-31</td><td>Buy CF</td><td>CFCF</td><td>  50</td><td>4.07</td><td> 203.5</td><td>   0</td><td>TRUE</td><td>0</td><td>⋯</td><td>4.07</td><td> 203.5</td><td>  50</td><td>5.5124</td><td> 275.62</td><td>  72.12</td><td> 0</td><td>0.00</td><td>  0.0</td><td> TRUE</td></tr>\n",
       "\t<tr><td>1</td><td>2022-12-31</td><td>Buy   </td><td>AMC </td><td>1050</td><td>4.07</td><td>4273.5</td><td>1000</td><td>TRUE</td><td>0</td><td>⋯</td><td>4.07</td><td>4070.0</td><td>1000</td><td>5.5124</td><td>5512.40</td><td>1442.40</td><td>50</td><td>4.07</td><td>203.5</td><td>FALSE</td></tr>\n",
       "</tbody>\n",
       "</table>\n"
      ],
      "text/latex": [
       "A data.frame: 2 × 23\n",
       "\\begin{tabular}{lllllllllllllllllllll}\n",
       " index & date & type & co & quan & pps & basis & sale\\_quan & flag & buy\\_cf\\_quan & ⋯ & buy\\_pps & buy\\_basis & sell\\_quan & sell\\_pps & sell\\_basis & profit\\_loss & sold\\_cf\\_quan & sold\\_cf\\_pps & sold\\_cf\\_basis & true\\_false\\\\\n",
       " <int> & <date> & <chr> & <chr> & <int> & <dbl> & <dbl> & <dbl> & <lgl> & <dbl> & ⋯ & <dbl> & <dbl> & <int> & <dbl> & <dbl> & <dbl> & <dbl> & <dbl> & <dbl> & <lgl>\\\\\n",
       "\\hline\n",
       "\t 1 & 2022-12-31 & Buy CF & CFCF &   50 & 4.07 &  203.5 &    0 & TRUE & 0 & ⋯ & 4.07 &  203.5 &   50 & 5.5124 &  275.62 &   72.12 &  0 & 0.00 &   0.0 &  TRUE\\\\\n",
       "\t 1 & 2022-12-31 & Buy    & AMC  & 1050 & 4.07 & 4273.5 & 1000 & TRUE & 0 & ⋯ & 4.07 & 4070.0 & 1000 & 5.5124 & 5512.40 & 1442.40 & 50 & 4.07 & 203.5 & FALSE\\\\\n",
       "\\end{tabular}\n"
      ],
      "text/markdown": [
       "\n",
       "A data.frame: 2 × 23\n",
       "\n",
       "| index &lt;int&gt; | date &lt;date&gt; | type &lt;chr&gt; | co &lt;chr&gt; | quan &lt;int&gt; | pps &lt;dbl&gt; | basis &lt;dbl&gt; | sale_quan &lt;dbl&gt; | flag &lt;lgl&gt; | buy_cf_quan &lt;dbl&gt; | ⋯ ⋯ | buy_pps &lt;dbl&gt; | buy_basis &lt;dbl&gt; | sell_quan &lt;int&gt; | sell_pps &lt;dbl&gt; | sell_basis &lt;dbl&gt; | profit_loss &lt;dbl&gt; | sold_cf_quan &lt;dbl&gt; | sold_cf_pps &lt;dbl&gt; | sold_cf_basis &lt;dbl&gt; | true_false &lt;lgl&gt; |\n",
       "|---|---|---|---|---|---|---|---|---|---|---|---|---|---|---|---|---|---|---|---|---|\n",
       "| 1 | 2022-12-31 | Buy CF | CFCF |   50 | 4.07 |  203.5 |    0 | TRUE | 0 | ⋯ | 4.07 |  203.5 |   50 | 5.5124 |  275.62 |   72.12 |  0 | 0.00 |   0.0 |  TRUE |\n",
       "| 1 | 2022-12-31 | Buy    | AMC  | 1050 | 4.07 | 4273.5 | 1000 | TRUE | 0 | ⋯ | 4.07 | 4070.0 | 1000 | 5.5124 | 5512.40 | 1442.40 | 50 | 4.07 | 203.5 | FALSE |\n",
       "\n"
      ],
      "text/plain": [
       "  index date       type   co   quan pps  basis  sale_quan flag buy_cf_quan ⋯\n",
       "1 1     2022-12-31 Buy CF CFCF   50 4.07  203.5    0      TRUE 0           ⋯\n",
       "2 1     2022-12-31 Buy    AMC  1050 4.07 4273.5 1000      TRUE 0           ⋯\n",
       "  buy_pps buy_basis sell_quan sell_pps sell_basis profit_loss sold_cf_quan\n",
       "1 4.07     203.5      50      5.5124    275.62      72.12      0          \n",
       "2 4.07    4070.0    1000      5.5124   5512.40    1442.40     50          \n",
       "  sold_cf_pps sold_cf_basis true_false\n",
       "1 0.00          0.0          TRUE     \n",
       "2 4.07        203.5         FALSE     "
      ]
     },
     "metadata": {},
     "output_type": "display_data"
    }
   ],
   "source": [
    "sale_records"
   ]
  },
  {
   "cell_type": "code",
   "execution_count": null,
   "id": "7a24d340-f336-4f52-954f-81e4e21d02e7",
   "metadata": {},
   "outputs": [],
   "source": []
  },
  {
   "cell_type": "markdown",
   "id": "fecd7575-7012-452a-a00c-aeaeefe42497",
   "metadata": {
    "tags": []
   },
   "source": [
    "#### <font color = lime> QC: Loop 2 review buys & sells"
   ]
  },
  {
   "cell_type": "code",
   "execution_count": 43,
   "id": "c26e5a84-62f6-4962-981a-d689d0547f03",
   "metadata": {},
   "outputs": [
    {
     "data": {
      "text/html": [
       "<style>\n",
       ".list-inline {list-style: none; margin:0; padding: 0}\n",
       ".list-inline>li {display: inline-block}\n",
       ".list-inline>li:not(:last-child)::after {content: \"\\00b7\"; padding: 0 .5ex}\n",
       "</style>\n",
       "<ol class=list-inline><li>22</li><li>23</li></ol>\n"
      ],
      "text/latex": [
       "\\begin{enumerate*}\n",
       "\\item 22\n",
       "\\item 23\n",
       "\\end{enumerate*}\n"
      ],
      "text/markdown": [
       "1. 22\n",
       "2. 23\n",
       "\n",
       "\n"
      ],
      "text/plain": [
       "[1] 22 23"
      ]
     },
     "metadata": {},
     "output_type": "display_data"
    },
    {
     "data": {
      "text/html": [
       "<style>\n",
       ".list-inline {list-style: none; margin:0; padding: 0}\n",
       ".list-inline>li {display: inline-block}\n",
       ".list-inline>li:not(:last-child)::after {content: \"\\00b7\"; padding: 0 .5ex}\n",
       "</style>\n",
       "<ol class=list-inline><li>17</li><li>23</li></ol>\n"
      ],
      "text/latex": [
       "\\begin{enumerate*}\n",
       "\\item 17\n",
       "\\item 23\n",
       "\\end{enumerate*}\n"
      ],
      "text/markdown": [
       "1. 17\n",
       "2. 23\n",
       "\n",
       "\n"
      ],
      "text/plain": [
       "[1] 17 23"
      ]
     },
     "metadata": {},
     "output_type": "display_data"
    },
    {
     "data": {
      "text/html": [
       "<table class=\"dataframe\">\n",
       "<caption>A data.frame: 4 × 23</caption>\n",
       "<thead>\n",
       "\t<tr><th></th><th scope=col>index</th><th scope=col>date</th><th scope=col>type</th><th scope=col>co</th><th scope=col>quan</th><th scope=col>pps</th><th scope=col>basis</th><th scope=col>sale_quan</th><th scope=col>flag</th><th scope=col>buy_cf_quan</th><th scope=col>⋯</th><th scope=col>buy_pps</th><th scope=col>buy_basis</th><th scope=col>sell_quan</th><th scope=col>sell_pps</th><th scope=col>sell_basis</th><th scope=col>profit_loss</th><th scope=col>sold_cf_quan</th><th scope=col>sold_cf_pps</th><th scope=col>sold_cf_basis</th><th scope=col>true_false</th></tr>\n",
       "\t<tr><th></th><th scope=col>&lt;int&gt;</th><th scope=col>&lt;date&gt;</th><th scope=col>&lt;chr&gt;</th><th scope=col>&lt;chr&gt;</th><th scope=col>&lt;int&gt;</th><th scope=col>&lt;dbl&gt;</th><th scope=col>&lt;dbl&gt;</th><th scope=col>&lt;dbl&gt;</th><th scope=col>&lt;lgl&gt;</th><th scope=col>&lt;dbl&gt;</th><th scope=col>⋯</th><th scope=col>&lt;dbl&gt;</th><th scope=col>&lt;dbl&gt;</th><th scope=col>&lt;dbl&gt;</th><th scope=col>&lt;dbl&gt;</th><th scope=col>&lt;dbl&gt;</th><th scope=col>&lt;dbl&gt;</th><th scope=col>&lt;dbl&gt;</th><th scope=col>&lt;dbl&gt;</th><th scope=col>&lt;dbl&gt;</th><th scope=col>&lt;dbl&gt;</th></tr>\n",
       "</thead>\n",
       "<tbody>\n",
       "\t<tr><th scope=row>3</th><td>3</td><td>2023-01-20</td><td>Buy</td><td>AMC</td><td>1000</td><td>5.6250</td><td> 5625.0</td><td>0</td><td>FALSE</td><td>0</td><td>⋯</td><td>0</td><td>0</td><td>0</td><td>0</td><td>0</td><td>0</td><td>0</td><td>0</td><td>0</td><td>0</td></tr>\n",
       "\t<tr><th scope=row>4</th><td>5</td><td>2023-01-23</td><td>Buy</td><td>AMC</td><td>1000</td><td>5.7880</td><td> 5788.0</td><td>0</td><td>FALSE</td><td>0</td><td>⋯</td><td>0</td><td>0</td><td>0</td><td>0</td><td>0</td><td>0</td><td>0</td><td>0</td><td>0</td><td>0</td></tr>\n",
       "\t<tr><th scope=row>5</th><td>7</td><td>2023-01-27</td><td>Buy</td><td>AMC</td><td>2000</td><td>5.2394</td><td>10478.8</td><td>0</td><td>FALSE</td><td>0</td><td>⋯</td><td>0</td><td>0</td><td>0</td><td>0</td><td>0</td><td>0</td><td>0</td><td>0</td><td>0</td><td>0</td></tr>\n",
       "\t<tr><th scope=row>6</th><td>9</td><td>2023-02-10</td><td>Buy</td><td>AMC</td><td>2000</td><td>4.7450</td><td> 9490.0</td><td>0</td><td>FALSE</td><td>0</td><td>⋯</td><td>0</td><td>0</td><td>0</td><td>0</td><td>0</td><td>0</td><td>0</td><td>0</td><td>0</td><td>0</td></tr>\n",
       "</tbody>\n",
       "</table>\n"
      ],
      "text/latex": [
       "A data.frame: 4 × 23\n",
       "\\begin{tabular}{r|lllllllllllllllllllll}\n",
       "  & index & date & type & co & quan & pps & basis & sale\\_quan & flag & buy\\_cf\\_quan & ⋯ & buy\\_pps & buy\\_basis & sell\\_quan & sell\\_pps & sell\\_basis & profit\\_loss & sold\\_cf\\_quan & sold\\_cf\\_pps & sold\\_cf\\_basis & true\\_false\\\\\n",
       "  & <int> & <date> & <chr> & <chr> & <int> & <dbl> & <dbl> & <dbl> & <lgl> & <dbl> & ⋯ & <dbl> & <dbl> & <dbl> & <dbl> & <dbl> & <dbl> & <dbl> & <dbl> & <dbl> & <dbl>\\\\\n",
       "\\hline\n",
       "\t3 & 3 & 2023-01-20 & Buy & AMC & 1000 & 5.6250 &  5625.0 & 0 & FALSE & 0 & ⋯ & 0 & 0 & 0 & 0 & 0 & 0 & 0 & 0 & 0 & 0\\\\\n",
       "\t4 & 5 & 2023-01-23 & Buy & AMC & 1000 & 5.7880 &  5788.0 & 0 & FALSE & 0 & ⋯ & 0 & 0 & 0 & 0 & 0 & 0 & 0 & 0 & 0 & 0\\\\\n",
       "\t5 & 7 & 2023-01-27 & Buy & AMC & 2000 & 5.2394 & 10478.8 & 0 & FALSE & 0 & ⋯ & 0 & 0 & 0 & 0 & 0 & 0 & 0 & 0 & 0 & 0\\\\\n",
       "\t6 & 9 & 2023-02-10 & Buy & AMC & 2000 & 4.7450 &  9490.0 & 0 & FALSE & 0 & ⋯ & 0 & 0 & 0 & 0 & 0 & 0 & 0 & 0 & 0 & 0\\\\\n",
       "\\end{tabular}\n"
      ],
      "text/markdown": [
       "\n",
       "A data.frame: 4 × 23\n",
       "\n",
       "| <!--/--> | index &lt;int&gt; | date &lt;date&gt; | type &lt;chr&gt; | co &lt;chr&gt; | quan &lt;int&gt; | pps &lt;dbl&gt; | basis &lt;dbl&gt; | sale_quan &lt;dbl&gt; | flag &lt;lgl&gt; | buy_cf_quan &lt;dbl&gt; | ⋯ ⋯ | buy_pps &lt;dbl&gt; | buy_basis &lt;dbl&gt; | sell_quan &lt;dbl&gt; | sell_pps &lt;dbl&gt; | sell_basis &lt;dbl&gt; | profit_loss &lt;dbl&gt; | sold_cf_quan &lt;dbl&gt; | sold_cf_pps &lt;dbl&gt; | sold_cf_basis &lt;dbl&gt; | true_false &lt;dbl&gt; |\n",
       "|---|---|---|---|---|---|---|---|---|---|---|---|---|---|---|---|---|---|---|---|---|---|\n",
       "| 3 | 3 | 2023-01-20 | Buy | AMC | 1000 | 5.6250 |  5625.0 | 0 | FALSE | 0 | ⋯ | 0 | 0 | 0 | 0 | 0 | 0 | 0 | 0 | 0 | 0 |\n",
       "| 4 | 5 | 2023-01-23 | Buy | AMC | 1000 | 5.7880 |  5788.0 | 0 | FALSE | 0 | ⋯ | 0 | 0 | 0 | 0 | 0 | 0 | 0 | 0 | 0 | 0 |\n",
       "| 5 | 7 | 2023-01-27 | Buy | AMC | 2000 | 5.2394 | 10478.8 | 0 | FALSE | 0 | ⋯ | 0 | 0 | 0 | 0 | 0 | 0 | 0 | 0 | 0 | 0 |\n",
       "| 6 | 9 | 2023-02-10 | Buy | AMC | 2000 | 4.7450 |  9490.0 | 0 | FALSE | 0 | ⋯ | 0 | 0 | 0 | 0 | 0 | 0 | 0 | 0 | 0 | 0 |\n",
       "\n"
      ],
      "text/plain": [
       "  index date       type co  quan pps    basis   sale_quan flag  buy_cf_quan ⋯\n",
       "3 3     2023-01-20 Buy  AMC 1000 5.6250  5625.0 0         FALSE 0           ⋯\n",
       "4 5     2023-01-23 Buy  AMC 1000 5.7880  5788.0 0         FALSE 0           ⋯\n",
       "5 7     2023-01-27 Buy  AMC 2000 5.2394 10478.8 0         FALSE 0           ⋯\n",
       "6 9     2023-02-10 Buy  AMC 2000 4.7450  9490.0 0         FALSE 0           ⋯\n",
       "  buy_pps buy_basis sell_quan sell_pps sell_basis profit_loss sold_cf_quan\n",
       "3 0       0         0         0        0          0           0           \n",
       "4 0       0         0         0        0          0           0           \n",
       "5 0       0         0         0        0          0           0           \n",
       "6 0       0         0         0        0          0           0           \n",
       "  sold_cf_pps sold_cf_basis true_false\n",
       "3 0           0             0         \n",
       "4 0           0             0         \n",
       "5 0           0             0         \n",
       "6 0           0             0         "
      ]
     },
     "metadata": {},
     "output_type": "display_data"
    },
    {
     "data": {
      "text/html": [
       "<table class=\"dataframe\">\n",
       "<caption>A data.frame: 4 × 23</caption>\n",
       "<thead>\n",
       "\t<tr><th></th><th scope=col>index</th><th scope=col>date</th><th scope=col>type</th><th scope=col>co</th><th scope=col>quan</th><th scope=col>pps</th><th scope=col>basis</th><th scope=col>sale_quan</th><th scope=col>flag</th><th scope=col>buy_cf_quan</th><th scope=col>⋯</th><th scope=col>buy_pps</th><th scope=col>buy_basis</th><th scope=col>sell_quan</th><th scope=col>sell_pps</th><th scope=col>sell_basis</th><th scope=col>profit_loss</th><th scope=col>sold_cf_quan</th><th scope=col>sold_cf_pps</th><th scope=col>sold_cf_basis</th><th scope=col>true_false</th></tr>\n",
       "\t<tr><th></th><th scope=col>&lt;int&gt;</th><th scope=col>&lt;date&gt;</th><th scope=col>&lt;chr&gt;</th><th scope=col>&lt;chr&gt;</th><th scope=col>&lt;int&gt;</th><th scope=col>&lt;dbl&gt;</th><th scope=col>&lt;dbl&gt;</th><th scope=col>&lt;dbl&gt;</th><th scope=col>&lt;lgl&gt;</th><th scope=col>&lt;dbl&gt;</th><th scope=col>⋯</th><th scope=col>&lt;dbl&gt;</th><th scope=col>&lt;dbl&gt;</th><th scope=col>&lt;dbl&gt;</th><th scope=col>&lt;dbl&gt;</th><th scope=col>&lt;dbl&gt;</th><th scope=col>&lt;dbl&gt;</th><th scope=col>&lt;dbl&gt;</th><th scope=col>&lt;dbl&gt;</th><th scope=col>&lt;dbl&gt;</th><th scope=col>&lt;dbl&gt;</th></tr>\n",
       "</thead>\n",
       "<tbody>\n",
       "\t<tr><th scope=row>3</th><td> 4</td><td>2023-02-03</td><td>Sell</td><td>AMC</td><td> 950</td><td>5.5124</td><td> 5236.78</td><td>0</td><td>FALSE</td><td>0</td><td>⋯</td><td>0</td><td>0</td><td>0</td><td>0</td><td>0</td><td>0</td><td>0</td><td>0</td><td>0</td><td>0</td></tr>\n",
       "\t<tr><th scope=row>4</th><td> 6</td><td>2023-02-03</td><td>Sell</td><td>AMC</td><td>1000</td><td>6.2550</td><td> 6255.00</td><td>0</td><td>FALSE</td><td>0</td><td>⋯</td><td>0</td><td>0</td><td>0</td><td>0</td><td>0</td><td>0</td><td>0</td><td>0</td><td>0</td><td>0</td></tr>\n",
       "\t<tr><th scope=row>5</th><td> 8</td><td>2023-02-03</td><td>Sell</td><td>AMC</td><td>1000</td><td>6.1901</td><td> 6190.10</td><td>0</td><td>FALSE</td><td>0</td><td>⋯</td><td>0</td><td>0</td><td>0</td><td>0</td><td>0</td><td>0</td><td>0</td><td>0</td><td>0</td><td>0</td></tr>\n",
       "\t<tr><th scope=row>6</th><td>10</td><td>2023-02-21</td><td>Sell</td><td>AMC</td><td>3000</td><td>5.8550</td><td>17565.00</td><td>0</td><td>FALSE</td><td>0</td><td>⋯</td><td>0</td><td>0</td><td>0</td><td>0</td><td>0</td><td>0</td><td>0</td><td>0</td><td>0</td><td>0</td></tr>\n",
       "</tbody>\n",
       "</table>\n"
      ],
      "text/latex": [
       "A data.frame: 4 × 23\n",
       "\\begin{tabular}{r|lllllllllllllllllllll}\n",
       "  & index & date & type & co & quan & pps & basis & sale\\_quan & flag & buy\\_cf\\_quan & ⋯ & buy\\_pps & buy\\_basis & sell\\_quan & sell\\_pps & sell\\_basis & profit\\_loss & sold\\_cf\\_quan & sold\\_cf\\_pps & sold\\_cf\\_basis & true\\_false\\\\\n",
       "  & <int> & <date> & <chr> & <chr> & <int> & <dbl> & <dbl> & <dbl> & <lgl> & <dbl> & ⋯ & <dbl> & <dbl> & <dbl> & <dbl> & <dbl> & <dbl> & <dbl> & <dbl> & <dbl> & <dbl>\\\\\n",
       "\\hline\n",
       "\t3 &  4 & 2023-02-03 & Sell & AMC &  950 & 5.5124 &  5236.78 & 0 & FALSE & 0 & ⋯ & 0 & 0 & 0 & 0 & 0 & 0 & 0 & 0 & 0 & 0\\\\\n",
       "\t4 &  6 & 2023-02-03 & Sell & AMC & 1000 & 6.2550 &  6255.00 & 0 & FALSE & 0 & ⋯ & 0 & 0 & 0 & 0 & 0 & 0 & 0 & 0 & 0 & 0\\\\\n",
       "\t5 &  8 & 2023-02-03 & Sell & AMC & 1000 & 6.1901 &  6190.10 & 0 & FALSE & 0 & ⋯ & 0 & 0 & 0 & 0 & 0 & 0 & 0 & 0 & 0 & 0\\\\\n",
       "\t6 & 10 & 2023-02-21 & Sell & AMC & 3000 & 5.8550 & 17565.00 & 0 & FALSE & 0 & ⋯ & 0 & 0 & 0 & 0 & 0 & 0 & 0 & 0 & 0 & 0\\\\\n",
       "\\end{tabular}\n"
      ],
      "text/markdown": [
       "\n",
       "A data.frame: 4 × 23\n",
       "\n",
       "| <!--/--> | index &lt;int&gt; | date &lt;date&gt; | type &lt;chr&gt; | co &lt;chr&gt; | quan &lt;int&gt; | pps &lt;dbl&gt; | basis &lt;dbl&gt; | sale_quan &lt;dbl&gt; | flag &lt;lgl&gt; | buy_cf_quan &lt;dbl&gt; | ⋯ ⋯ | buy_pps &lt;dbl&gt; | buy_basis &lt;dbl&gt; | sell_quan &lt;dbl&gt; | sell_pps &lt;dbl&gt; | sell_basis &lt;dbl&gt; | profit_loss &lt;dbl&gt; | sold_cf_quan &lt;dbl&gt; | sold_cf_pps &lt;dbl&gt; | sold_cf_basis &lt;dbl&gt; | true_false &lt;dbl&gt; |\n",
       "|---|---|---|---|---|---|---|---|---|---|---|---|---|---|---|---|---|---|---|---|---|---|\n",
       "| 3 |  4 | 2023-02-03 | Sell | AMC |  950 | 5.5124 |  5236.78 | 0 | FALSE | 0 | ⋯ | 0 | 0 | 0 | 0 | 0 | 0 | 0 | 0 | 0 | 0 |\n",
       "| 4 |  6 | 2023-02-03 | Sell | AMC | 1000 | 6.2550 |  6255.00 | 0 | FALSE | 0 | ⋯ | 0 | 0 | 0 | 0 | 0 | 0 | 0 | 0 | 0 | 0 |\n",
       "| 5 |  8 | 2023-02-03 | Sell | AMC | 1000 | 6.1901 |  6190.10 | 0 | FALSE | 0 | ⋯ | 0 | 0 | 0 | 0 | 0 | 0 | 0 | 0 | 0 | 0 |\n",
       "| 6 | 10 | 2023-02-21 | Sell | AMC | 3000 | 5.8550 | 17565.00 | 0 | FALSE | 0 | ⋯ | 0 | 0 | 0 | 0 | 0 | 0 | 0 | 0 | 0 | 0 |\n",
       "\n"
      ],
      "text/plain": [
       "  index date       type co  quan pps    basis    sale_quan flag  buy_cf_quan ⋯\n",
       "3  4    2023-02-03 Sell AMC  950 5.5124  5236.78 0         FALSE 0           ⋯\n",
       "4  6    2023-02-03 Sell AMC 1000 6.2550  6255.00 0         FALSE 0           ⋯\n",
       "5  8    2023-02-03 Sell AMC 1000 6.1901  6190.10 0         FALSE 0           ⋯\n",
       "6 10    2023-02-21 Sell AMC 3000 5.8550 17565.00 0         FALSE 0           ⋯\n",
       "  buy_pps buy_basis sell_quan sell_pps sell_basis profit_loss sold_cf_quan\n",
       "3 0       0         0         0        0          0           0           \n",
       "4 0       0         0         0        0          0           0           \n",
       "5 0       0         0         0        0          0           0           \n",
       "6 0       0         0         0        0          0           0           \n",
       "  sold_cf_pps sold_cf_basis true_false\n",
       "3 0           0             0         \n",
       "4 0           0             0         \n",
       "5 0           0             0         \n",
       "6 0           0             0         "
      ]
     },
     "metadata": {},
     "output_type": "display_data"
    }
   ],
   "source": [
    "dim(buys)\n",
    "dim(sells)\n",
    "head(buys,4)\n",
    "head(sells,4)"
   ]
  },
  {
   "cell_type": "code",
   "execution_count": null,
   "id": "edb18a10-b76e-4a41-ab71-f4e2efc8e93e",
   "metadata": {},
   "outputs": [],
   "source": []
  },
  {
   "cell_type": "code",
   "execution_count": null,
   "id": "d9d215cb-23c4-4fcb-865c-a2dee7378bcf",
   "metadata": {},
   "outputs": [],
   "source": []
  },
  {
   "cell_type": "code",
   "execution_count": 44,
   "id": "9f3e5b39-4c41-4948-b7cb-aae25b51ba89",
   "metadata": {},
   "outputs": [],
   "source": [
    "# stopps"
   ]
  },
  {
   "cell_type": "code",
   "execution_count": null,
   "id": "dafa4276-84b4-4781-8c7b-498f15c1d222",
   "metadata": {},
   "outputs": [],
   "source": []
  },
  {
   "cell_type": "markdown",
   "id": "b53a3bcd-1f72-44f8-adb4-32a5263bdad6",
   "metadata": {},
   "source": [
    "# <font color = cyan> Proof of Concept above. End of loop 2"
   ]
  },
  {
   "cell_type": "code",
   "execution_count": null,
   "id": "f4ac33b5-c60f-4959-a1e7-2507da70c7f6",
   "metadata": {},
   "outputs": [],
   "source": [
    "\n"
   ]
  },
  {
   "cell_type": "markdown",
   "id": "88679df8-5778-41f6-934c-ccf45ab23e74",
   "metadata": {},
   "source": [
    "#### <font color = yellow>1. Create data & dfs"
   ]
  },
  {
   "cell_type": "code",
   "execution_count": 45,
   "id": "f284a0ae-e2fe-4d89-b46a-7094beb10fd1",
   "metadata": {},
   "outputs": [],
   "source": [
    "b <- buys[1,]\n",
    "s <- sells[1,]"
   ]
  },
  {
   "cell_type": "markdown",
   "id": "12f59fe9-f202-4196-85bb-087213d1acfb",
   "metadata": {},
   "source": [
    "### <font color = yellow>2. Update b - the variable that records each buy/sell transaction (w/in loop)\n",
    "    \n",
    "#### b>s, b<s, b==s,"
   ]
  },
  {
   "cell_type": "code",
   "execution_count": 46,
   "id": "f9a72e2d-05b4-4789-bd76-231cbccfc6fa",
   "metadata": {},
   "outputs": [
    {
     "name": "stdout",
     "output_type": "stream",
     "text": [
      "POC - updated_s when b > s:  SOLD \n"
     ]
    }
   ],
   "source": [
    "updated_b_list <- update_b(b,s,buys)\n",
    "\n",
    "updated_b <- updated_b_list[[1]]\n",
    "updated_s <- updated_b_list[[2]]\n",
    "buys <- updated_b_list[[3]]\n",
    "\n",
    "# dim(updated_b)\n",
    "# dim"
   ]
  },
  {
   "cell_type": "code",
   "execution_count": 47,
   "id": "ff40e426-0d1d-4439-8163-461903b1bc14",
   "metadata": {},
   "outputs": [
    {
     "name": "stdout",
     "output_type": "stream",
     "text": [
      "Std buy-sell orientation \n"
     ]
    }
   ],
   "source": [
    "if(buys$type[i] == \"Buy\" && sells$type[i] == \"Sell\") {\n",
    "    cat(\"Std buy-sell orientation \\n\")    \n",
    "    }"
   ]
  },
  {
   "cell_type": "markdown",
   "id": "eb982d92-0b58-40cd-bc42-680d13079fb0",
   "metadata": {},
   "source": [
    "### <font color = yellow>3. Update the sales_records (rbind) with updated_b for each transaction (loop)"
   ]
  },
  {
   "cell_type": "code",
   "execution_count": 48,
   "id": "7816eeb8-2be6-4be9-902c-0435e9975cb3",
   "metadata": {},
   "outputs": [],
   "source": [
    "sale_records <- sale_records %>% add_row(updated_b , .before = 1)\n",
    "# sale_records[1,]\n",
    "# sale_records"
   ]
  },
  {
   "cell_type": "markdown",
   "id": "e50d6257-496d-49f0-925a-537265dda4e2",
   "metadata": {},
   "source": [
    "#### <font color = yellow> 4. Update buys or sells with a new row (add_row) - whenever a transaction (loop) includes  c/f\n",
    "    \n",
    "###### Uses add_row () to transform any existing carryforward (buy or sell type) into the next element that will be processed for"
   ]
  },
  {
   "cell_type": "code",
   "execution_count": 49,
   "id": "85cbb3f6-9679-4c6a-9fd8-e6a0ee32d898",
   "metadata": {},
   "outputs": [
    {
     "name": "stdout",
     "output_type": "stream",
     "text": [
      "\n",
      " There is Buy carryforward. Update buys  50 \n",
      "the s2cf_quan is:  950 \n",
      "the s2cf_pps is  6.255 \n",
      "printing updated buys[1 ], dim of buys increases with c/f  \n"
     ]
    }
   ],
   "source": [
    "# # fct call\n",
    "return_list <- update_buys_sells(buys, sells)\n",
    "buys <- return_list[[1]]\n",
    "sells <- return_list[[2]]\n",
    "\n",
    "# dim(buys)\n",
    "# dim(sells)\n"
   ]
  },
  {
   "cell_type": "markdown",
   "id": "69f2ef7b-7efe-4026-9313-cdfbe8b603f1",
   "metadata": {},
   "source": [
    "#### <font color = yellow>5. snips () Create a new variable from buys/sells row 1, then delete row 1 from buys and sells (copy_snip () )"
   ]
  },
  {
   "cell_type": "code",
   "execution_count": 50,
   "id": "8c58529c-c165-472d-b16c-8a6b1cf4421d",
   "metadata": {},
   "outputs": [
    {
     "name": "stdout",
     "output_type": "stream",
     "text": [
      " Contains buy carryforward - remove buys c/f row and DO snip sells \n"
     ]
    }
   ],
   "source": [
    "copy_snip_list <- copy_snip(b, s, buys, sells) \n",
    "\n",
    "b1 <- copy_snip_list[[1]]\n",
    "s1 <- copy_snip_list[[2]]\n",
    "buys <- copy_snip_list[[3]]\n",
    "sells <- copy_snip_list[[4]]\n",
    "\n",
    "# after\n",
    "# dim(buys)\n",
    "# dim(sells)\n",
    "# # b1\n",
    "# s1"
   ]
  },
  {
   "cell_type": "code",
   "execution_count": null,
   "id": "08366ee1-7309-4ab1-a288-29a8a9734427",
   "metadata": {},
   "outputs": [],
   "source": []
  },
  {
   "cell_type": "code",
   "execution_count": null,
   "id": "9f3abc74-dfc2-41ba-a81f-77cfa446b338",
   "metadata": {},
   "outputs": [],
   "source": []
  },
  {
   "cell_type": "markdown",
   "id": "6b5dd27c-8fd8-4c1a-85a7-d5c641d579dd",
   "metadata": {},
   "source": [
    "#### <font color = lime> QC: Loop 3 review buys & sells\n",
    "    \n"
   ]
  },
  {
   "cell_type": "code",
   "execution_count": 51,
   "id": "9799ba85-5f9f-434a-83eb-1b0621f0fd12",
   "metadata": {},
   "outputs": [
    {
     "data": {
      "text/html": [
       "<style>\n",
       ".list-inline {list-style: none; margin:0; padding: 0}\n",
       ".list-inline>li {display: inline-block}\n",
       ".list-inline>li:not(:last-child)::after {content: \"\\00b7\"; padding: 0 .5ex}\n",
       "</style>\n",
       "<ol class=list-inline><li>22</li><li>23</li></ol>\n"
      ],
      "text/latex": [
       "\\begin{enumerate*}\n",
       "\\item 22\n",
       "\\item 23\n",
       "\\end{enumerate*}\n"
      ],
      "text/markdown": [
       "1. 22\n",
       "2. 23\n",
       "\n",
       "\n"
      ],
      "text/plain": [
       "[1] 22 23"
      ]
     },
     "metadata": {},
     "output_type": "display_data"
    },
    {
     "data": {
      "text/html": [
       "<style>\n",
       ".list-inline {list-style: none; margin:0; padding: 0}\n",
       ".list-inline>li {display: inline-block}\n",
       ".list-inline>li:not(:last-child)::after {content: \"\\00b7\"; padding: 0 .5ex}\n",
       "</style>\n",
       "<ol class=list-inline><li>17</li><li>23</li></ol>\n"
      ],
      "text/latex": [
       "\\begin{enumerate*}\n",
       "\\item 17\n",
       "\\item 23\n",
       "\\end{enumerate*}\n"
      ],
      "text/markdown": [
       "1. 17\n",
       "2. 23\n",
       "\n",
       "\n"
      ],
      "text/plain": [
       "[1] 17 23"
      ]
     },
     "metadata": {},
     "output_type": "display_data"
    },
    {
     "data": {
      "text/html": [
       "<table class=\"dataframe\">\n",
       "<caption>A data.frame: 5 × 23</caption>\n",
       "<thead>\n",
       "\t<tr><th></th><th scope=col>index</th><th scope=col>date</th><th scope=col>type</th><th scope=col>co</th><th scope=col>quan</th><th scope=col>pps</th><th scope=col>basis</th><th scope=col>sale_quan</th><th scope=col>flag</th><th scope=col>buy_cf_quan</th><th scope=col>⋯</th><th scope=col>buy_pps</th><th scope=col>buy_basis</th><th scope=col>sell_quan</th><th scope=col>sell_pps</th><th scope=col>sell_basis</th><th scope=col>profit_loss</th><th scope=col>sold_cf_quan</th><th scope=col>sold_cf_pps</th><th scope=col>sold_cf_basis</th><th scope=col>true_false</th></tr>\n",
       "\t<tr><th></th><th scope=col>&lt;int&gt;</th><th scope=col>&lt;date&gt;</th><th scope=col>&lt;chr&gt;</th><th scope=col>&lt;chr&gt;</th><th scope=col>&lt;dbl&gt;</th><th scope=col>&lt;dbl&gt;</th><th scope=col>&lt;dbl&gt;</th><th scope=col>&lt;dbl&gt;</th><th scope=col>&lt;lgl&gt;</th><th scope=col>&lt;dbl&gt;</th><th scope=col>⋯</th><th scope=col>&lt;dbl&gt;</th><th scope=col>&lt;dbl&gt;</th><th scope=col>&lt;dbl&gt;</th><th scope=col>&lt;dbl&gt;</th><th scope=col>&lt;dbl&gt;</th><th scope=col>&lt;dbl&gt;</th><th scope=col>&lt;dbl&gt;</th><th scope=col>&lt;dbl&gt;</th><th scope=col>&lt;dbl&gt;</th><th scope=col>&lt;dbl&gt;</th></tr>\n",
       "</thead>\n",
       "<tbody>\n",
       "\t<tr><th scope=row>2</th><td> 3</td><td>2023-01-20</td><td>Buy CF</td><td>AMC</td><td>  50</td><td>5.6250</td><td>  281.25</td><td>0</td><td> TRUE</td><td>0</td><td>⋯</td><td>0</td><td>0</td><td>0</td><td>0</td><td>0</td><td>0</td><td>0</td><td>0</td><td>0</td><td>0</td></tr>\n",
       "\t<tr><th scope=row>3</th><td> 5</td><td>2023-01-23</td><td>Buy   </td><td>AMC</td><td>1000</td><td>5.7880</td><td> 5788.00</td><td>0</td><td>FALSE</td><td>0</td><td>⋯</td><td>0</td><td>0</td><td>0</td><td>0</td><td>0</td><td>0</td><td>0</td><td>0</td><td>0</td><td>0</td></tr>\n",
       "\t<tr><th scope=row>4</th><td> 7</td><td>2023-01-27</td><td>Buy   </td><td>AMC</td><td>2000</td><td>5.2394</td><td>10478.80</td><td>0</td><td>FALSE</td><td>0</td><td>⋯</td><td>0</td><td>0</td><td>0</td><td>0</td><td>0</td><td>0</td><td>0</td><td>0</td><td>0</td><td>0</td></tr>\n",
       "\t<tr><th scope=row>5</th><td> 9</td><td>2023-02-10</td><td>Buy   </td><td>AMC</td><td>2000</td><td>4.7450</td><td> 9490.00</td><td>0</td><td>FALSE</td><td>0</td><td>⋯</td><td>0</td><td>0</td><td>0</td><td>0</td><td>0</td><td>0</td><td>0</td><td>0</td><td>0</td><td>0</td></tr>\n",
       "\t<tr><th scope=row>6</th><td>11</td><td>2023-02-10</td><td>Buy   </td><td>AMC</td><td>1000</td><td>4.7800</td><td> 4780.00</td><td>0</td><td>FALSE</td><td>0</td><td>⋯</td><td>0</td><td>0</td><td>0</td><td>0</td><td>0</td><td>0</td><td>0</td><td>0</td><td>0</td><td>0</td></tr>\n",
       "</tbody>\n",
       "</table>\n"
      ],
      "text/latex": [
       "A data.frame: 5 × 23\n",
       "\\begin{tabular}{r|lllllllllllllllllllll}\n",
       "  & index & date & type & co & quan & pps & basis & sale\\_quan & flag & buy\\_cf\\_quan & ⋯ & buy\\_pps & buy\\_basis & sell\\_quan & sell\\_pps & sell\\_basis & profit\\_loss & sold\\_cf\\_quan & sold\\_cf\\_pps & sold\\_cf\\_basis & true\\_false\\\\\n",
       "  & <int> & <date> & <chr> & <chr> & <dbl> & <dbl> & <dbl> & <dbl> & <lgl> & <dbl> & ⋯ & <dbl> & <dbl> & <dbl> & <dbl> & <dbl> & <dbl> & <dbl> & <dbl> & <dbl> & <dbl>\\\\\n",
       "\\hline\n",
       "\t2 &  3 & 2023-01-20 & Buy CF & AMC &   50 & 5.6250 &   281.25 & 0 &  TRUE & 0 & ⋯ & 0 & 0 & 0 & 0 & 0 & 0 & 0 & 0 & 0 & 0\\\\\n",
       "\t3 &  5 & 2023-01-23 & Buy    & AMC & 1000 & 5.7880 &  5788.00 & 0 & FALSE & 0 & ⋯ & 0 & 0 & 0 & 0 & 0 & 0 & 0 & 0 & 0 & 0\\\\\n",
       "\t4 &  7 & 2023-01-27 & Buy    & AMC & 2000 & 5.2394 & 10478.80 & 0 & FALSE & 0 & ⋯ & 0 & 0 & 0 & 0 & 0 & 0 & 0 & 0 & 0 & 0\\\\\n",
       "\t5 &  9 & 2023-02-10 & Buy    & AMC & 2000 & 4.7450 &  9490.00 & 0 & FALSE & 0 & ⋯ & 0 & 0 & 0 & 0 & 0 & 0 & 0 & 0 & 0 & 0\\\\\n",
       "\t6 & 11 & 2023-02-10 & Buy    & AMC & 1000 & 4.7800 &  4780.00 & 0 & FALSE & 0 & ⋯ & 0 & 0 & 0 & 0 & 0 & 0 & 0 & 0 & 0 & 0\\\\\n",
       "\\end{tabular}\n"
      ],
      "text/markdown": [
       "\n",
       "A data.frame: 5 × 23\n",
       "\n",
       "| <!--/--> | index &lt;int&gt; | date &lt;date&gt; | type &lt;chr&gt; | co &lt;chr&gt; | quan &lt;dbl&gt; | pps &lt;dbl&gt; | basis &lt;dbl&gt; | sale_quan &lt;dbl&gt; | flag &lt;lgl&gt; | buy_cf_quan &lt;dbl&gt; | ⋯ ⋯ | buy_pps &lt;dbl&gt; | buy_basis &lt;dbl&gt; | sell_quan &lt;dbl&gt; | sell_pps &lt;dbl&gt; | sell_basis &lt;dbl&gt; | profit_loss &lt;dbl&gt; | sold_cf_quan &lt;dbl&gt; | sold_cf_pps &lt;dbl&gt; | sold_cf_basis &lt;dbl&gt; | true_false &lt;dbl&gt; |\n",
       "|---|---|---|---|---|---|---|---|---|---|---|---|---|---|---|---|---|---|---|---|---|---|\n",
       "| 2 |  3 | 2023-01-20 | Buy CF | AMC |   50 | 5.6250 |   281.25 | 0 |  TRUE | 0 | ⋯ | 0 | 0 | 0 | 0 | 0 | 0 | 0 | 0 | 0 | 0 |\n",
       "| 3 |  5 | 2023-01-23 | Buy    | AMC | 1000 | 5.7880 |  5788.00 | 0 | FALSE | 0 | ⋯ | 0 | 0 | 0 | 0 | 0 | 0 | 0 | 0 | 0 | 0 |\n",
       "| 4 |  7 | 2023-01-27 | Buy    | AMC | 2000 | 5.2394 | 10478.80 | 0 | FALSE | 0 | ⋯ | 0 | 0 | 0 | 0 | 0 | 0 | 0 | 0 | 0 | 0 |\n",
       "| 5 |  9 | 2023-02-10 | Buy    | AMC | 2000 | 4.7450 |  9490.00 | 0 | FALSE | 0 | ⋯ | 0 | 0 | 0 | 0 | 0 | 0 | 0 | 0 | 0 | 0 |\n",
       "| 6 | 11 | 2023-02-10 | Buy    | AMC | 1000 | 4.7800 |  4780.00 | 0 | FALSE | 0 | ⋯ | 0 | 0 | 0 | 0 | 0 | 0 | 0 | 0 | 0 | 0 |\n",
       "\n"
      ],
      "text/plain": [
       "  index date       type   co  quan pps    basis    sale_quan flag  buy_cf_quan\n",
       "2  3    2023-01-20 Buy CF AMC   50 5.6250   281.25 0          TRUE 0          \n",
       "3  5    2023-01-23 Buy    AMC 1000 5.7880  5788.00 0         FALSE 0          \n",
       "4  7    2023-01-27 Buy    AMC 2000 5.2394 10478.80 0         FALSE 0          \n",
       "5  9    2023-02-10 Buy    AMC 2000 4.7450  9490.00 0         FALSE 0          \n",
       "6 11    2023-02-10 Buy    AMC 1000 4.7800  4780.00 0         FALSE 0          \n",
       "  ⋯ buy_pps buy_basis sell_quan sell_pps sell_basis profit_loss sold_cf_quan\n",
       "2 ⋯ 0       0         0         0        0          0           0           \n",
       "3 ⋯ 0       0         0         0        0          0           0           \n",
       "4 ⋯ 0       0         0         0        0          0           0           \n",
       "5 ⋯ 0       0         0         0        0          0           0           \n",
       "6 ⋯ 0       0         0         0        0          0           0           \n",
       "  sold_cf_pps sold_cf_basis true_false\n",
       "2 0           0             0         \n",
       "3 0           0             0         \n",
       "4 0           0             0         \n",
       "5 0           0             0         \n",
       "6 0           0             0         "
      ]
     },
     "metadata": {},
     "output_type": "display_data"
    },
    {
     "data": {
      "text/html": [
       "<table class=\"dataframe\">\n",
       "<caption>A data.frame: 5 × 23</caption>\n",
       "<thead>\n",
       "\t<tr><th></th><th scope=col>index</th><th scope=col>date</th><th scope=col>type</th><th scope=col>co</th><th scope=col>quan</th><th scope=col>pps</th><th scope=col>basis</th><th scope=col>sale_quan</th><th scope=col>flag</th><th scope=col>buy_cf_quan</th><th scope=col>⋯</th><th scope=col>buy_pps</th><th scope=col>buy_basis</th><th scope=col>sell_quan</th><th scope=col>sell_pps</th><th scope=col>sell_basis</th><th scope=col>profit_loss</th><th scope=col>sold_cf_quan</th><th scope=col>sold_cf_pps</th><th scope=col>sold_cf_basis</th><th scope=col>true_false</th></tr>\n",
       "\t<tr><th></th><th scope=col>&lt;int&gt;</th><th scope=col>&lt;date&gt;</th><th scope=col>&lt;chr&gt;</th><th scope=col>&lt;chr&gt;</th><th scope=col>&lt;dbl&gt;</th><th scope=col>&lt;dbl&gt;</th><th scope=col>&lt;dbl&gt;</th><th scope=col>&lt;dbl&gt;</th><th scope=col>&lt;lgl&gt;</th><th scope=col>&lt;dbl&gt;</th><th scope=col>⋯</th><th scope=col>&lt;dbl&gt;</th><th scope=col>&lt;dbl&gt;</th><th scope=col>&lt;dbl&gt;</th><th scope=col>&lt;dbl&gt;</th><th scope=col>&lt;dbl&gt;</th><th scope=col>&lt;dbl&gt;</th><th scope=col>&lt;dbl&gt;</th><th scope=col>&lt;dbl&gt;</th><th scope=col>&lt;dbl&gt;</th><th scope=col>&lt;dbl&gt;</th></tr>\n",
       "</thead>\n",
       "<tbody>\n",
       "\t<tr><th scope=row>1</th><td> 3</td><td>2023-01-20</td><td>Sell CF</td><td>AMC</td><td>  50</td><td>5.5124</td><td>    5.5124</td><td>0</td><td> TRUE</td><td>0</td><td>⋯</td><td>0</td><td>0</td><td>0</td><td>0</td><td>0</td><td>0</td><td>0</td><td>0</td><td>0</td><td>0</td></tr>\n",
       "\t<tr><th scope=row>3</th><td> 6</td><td>2023-02-03</td><td>Sell   </td><td>AMC</td><td> 950</td><td>5.5124</td><td> 5236.7800</td><td>0</td><td>FALSE</td><td>0</td><td>⋯</td><td>0</td><td>0</td><td>0</td><td>0</td><td>0</td><td>0</td><td>0</td><td>0</td><td>0</td><td>0</td></tr>\n",
       "\t<tr><th scope=row>4</th><td> 8</td><td>2023-02-03</td><td>Sell   </td><td>AMC</td><td>1000</td><td>6.1901</td><td> 6190.1000</td><td>0</td><td>FALSE</td><td>0</td><td>⋯</td><td>0</td><td>0</td><td>0</td><td>0</td><td>0</td><td>0</td><td>0</td><td>0</td><td>0</td><td>0</td></tr>\n",
       "\t<tr><th scope=row>5</th><td>10</td><td>2023-02-21</td><td>Sell   </td><td>AMC</td><td>3000</td><td>5.8550</td><td>17565.0000</td><td>0</td><td>FALSE</td><td>0</td><td>⋯</td><td>0</td><td>0</td><td>0</td><td>0</td><td>0</td><td>0</td><td>0</td><td>0</td><td>0</td><td>0</td></tr>\n",
       "\t<tr><th scope=row>6</th><td>16</td><td>2023-02-22</td><td>Sell   </td><td>AMC</td><td>6000</td><td>6.6150</td><td>39690.0000</td><td>0</td><td>FALSE</td><td>0</td><td>⋯</td><td>0</td><td>0</td><td>0</td><td>0</td><td>0</td><td>0</td><td>0</td><td>0</td><td>0</td><td>0</td></tr>\n",
       "</tbody>\n",
       "</table>\n"
      ],
      "text/latex": [
       "A data.frame: 5 × 23\n",
       "\\begin{tabular}{r|lllllllllllllllllllll}\n",
       "  & index & date & type & co & quan & pps & basis & sale\\_quan & flag & buy\\_cf\\_quan & ⋯ & buy\\_pps & buy\\_basis & sell\\_quan & sell\\_pps & sell\\_basis & profit\\_loss & sold\\_cf\\_quan & sold\\_cf\\_pps & sold\\_cf\\_basis & true\\_false\\\\\n",
       "  & <int> & <date> & <chr> & <chr> & <dbl> & <dbl> & <dbl> & <dbl> & <lgl> & <dbl> & ⋯ & <dbl> & <dbl> & <dbl> & <dbl> & <dbl> & <dbl> & <dbl> & <dbl> & <dbl> & <dbl>\\\\\n",
       "\\hline\n",
       "\t1 &  3 & 2023-01-20 & Sell CF & AMC &   50 & 5.5124 &     5.5124 & 0 &  TRUE & 0 & ⋯ & 0 & 0 & 0 & 0 & 0 & 0 & 0 & 0 & 0 & 0\\\\\n",
       "\t3 &  6 & 2023-02-03 & Sell    & AMC &  950 & 5.5124 &  5236.7800 & 0 & FALSE & 0 & ⋯ & 0 & 0 & 0 & 0 & 0 & 0 & 0 & 0 & 0 & 0\\\\\n",
       "\t4 &  8 & 2023-02-03 & Sell    & AMC & 1000 & 6.1901 &  6190.1000 & 0 & FALSE & 0 & ⋯ & 0 & 0 & 0 & 0 & 0 & 0 & 0 & 0 & 0 & 0\\\\\n",
       "\t5 & 10 & 2023-02-21 & Sell    & AMC & 3000 & 5.8550 & 17565.0000 & 0 & FALSE & 0 & ⋯ & 0 & 0 & 0 & 0 & 0 & 0 & 0 & 0 & 0 & 0\\\\\n",
       "\t6 & 16 & 2023-02-22 & Sell    & AMC & 6000 & 6.6150 & 39690.0000 & 0 & FALSE & 0 & ⋯ & 0 & 0 & 0 & 0 & 0 & 0 & 0 & 0 & 0 & 0\\\\\n",
       "\\end{tabular}\n"
      ],
      "text/markdown": [
       "\n",
       "A data.frame: 5 × 23\n",
       "\n",
       "| <!--/--> | index &lt;int&gt; | date &lt;date&gt; | type &lt;chr&gt; | co &lt;chr&gt; | quan &lt;dbl&gt; | pps &lt;dbl&gt; | basis &lt;dbl&gt; | sale_quan &lt;dbl&gt; | flag &lt;lgl&gt; | buy_cf_quan &lt;dbl&gt; | ⋯ ⋯ | buy_pps &lt;dbl&gt; | buy_basis &lt;dbl&gt; | sell_quan &lt;dbl&gt; | sell_pps &lt;dbl&gt; | sell_basis &lt;dbl&gt; | profit_loss &lt;dbl&gt; | sold_cf_quan &lt;dbl&gt; | sold_cf_pps &lt;dbl&gt; | sold_cf_basis &lt;dbl&gt; | true_false &lt;dbl&gt; |\n",
       "|---|---|---|---|---|---|---|---|---|---|---|---|---|---|---|---|---|---|---|---|---|---|\n",
       "| 1 |  3 | 2023-01-20 | Sell CF | AMC |   50 | 5.5124 |     5.5124 | 0 |  TRUE | 0 | ⋯ | 0 | 0 | 0 | 0 | 0 | 0 | 0 | 0 | 0 | 0 |\n",
       "| 3 |  6 | 2023-02-03 | Sell    | AMC |  950 | 5.5124 |  5236.7800 | 0 | FALSE | 0 | ⋯ | 0 | 0 | 0 | 0 | 0 | 0 | 0 | 0 | 0 | 0 |\n",
       "| 4 |  8 | 2023-02-03 | Sell    | AMC | 1000 | 6.1901 |  6190.1000 | 0 | FALSE | 0 | ⋯ | 0 | 0 | 0 | 0 | 0 | 0 | 0 | 0 | 0 | 0 |\n",
       "| 5 | 10 | 2023-02-21 | Sell    | AMC | 3000 | 5.8550 | 17565.0000 | 0 | FALSE | 0 | ⋯ | 0 | 0 | 0 | 0 | 0 | 0 | 0 | 0 | 0 | 0 |\n",
       "| 6 | 16 | 2023-02-22 | Sell    | AMC | 6000 | 6.6150 | 39690.0000 | 0 | FALSE | 0 | ⋯ | 0 | 0 | 0 | 0 | 0 | 0 | 0 | 0 | 0 | 0 |\n",
       "\n"
      ],
      "text/plain": [
       "  index date       type    co  quan pps    basis      sale_quan flag \n",
       "1  3    2023-01-20 Sell CF AMC   50 5.5124     5.5124 0          TRUE\n",
       "3  6    2023-02-03 Sell    AMC  950 5.5124  5236.7800 0         FALSE\n",
       "4  8    2023-02-03 Sell    AMC 1000 6.1901  6190.1000 0         FALSE\n",
       "5 10    2023-02-21 Sell    AMC 3000 5.8550 17565.0000 0         FALSE\n",
       "6 16    2023-02-22 Sell    AMC 6000 6.6150 39690.0000 0         FALSE\n",
       "  buy_cf_quan ⋯ buy_pps buy_basis sell_quan sell_pps sell_basis profit_loss\n",
       "1 0           ⋯ 0       0         0         0        0          0          \n",
       "3 0           ⋯ 0       0         0         0        0          0          \n",
       "4 0           ⋯ 0       0         0         0        0          0          \n",
       "5 0           ⋯ 0       0         0         0        0          0          \n",
       "6 0           ⋯ 0       0         0         0        0          0          \n",
       "  sold_cf_quan sold_cf_pps sold_cf_basis true_false\n",
       "1 0            0           0             0         \n",
       "3 0            0           0             0         \n",
       "4 0            0           0             0         \n",
       "5 0            0           0             0         \n",
       "6 0            0           0             0         "
      ]
     },
     "metadata": {},
     "output_type": "display_data"
    }
   ],
   "source": [
    "dim(buys)\n",
    "dim(sells)\n",
    "head(buys, 5)\n",
    "head(sells, 5)"
   ]
  },
  {
   "cell_type": "markdown",
   "id": "5e94c6fa-15ec-4cb3-bfa1-d75f76015c70",
   "metadata": {},
   "source": [
    "#### <font color = lime> QC: Loop 2 review sale_record for accuracy"
   ]
  },
  {
   "cell_type": "code",
   "execution_count": 52,
   "id": "9e026000-05d8-4e8d-8775-3bd049bfd287",
   "metadata": {},
   "outputs": [
    {
     "data": {
      "text/html": [
       "<table class=\"dataframe\">\n",
       "<caption>A data.frame: 3 × 23</caption>\n",
       "<thead>\n",
       "\t<tr><th scope=col>index</th><th scope=col>date</th><th scope=col>type</th><th scope=col>co</th><th scope=col>quan</th><th scope=col>pps</th><th scope=col>basis</th><th scope=col>sale_quan</th><th scope=col>flag</th><th scope=col>buy_cf_quan</th><th scope=col>⋯</th><th scope=col>buy_pps</th><th scope=col>buy_basis</th><th scope=col>sell_quan</th><th scope=col>sell_pps</th><th scope=col>sell_basis</th><th scope=col>profit_loss</th><th scope=col>sold_cf_quan</th><th scope=col>sold_cf_pps</th><th scope=col>sold_cf_basis</th><th scope=col>true_false</th></tr>\n",
       "\t<tr><th scope=col>&lt;int&gt;</th><th scope=col>&lt;date&gt;</th><th scope=col>&lt;chr&gt;</th><th scope=col>&lt;chr&gt;</th><th scope=col>&lt;int&gt;</th><th scope=col>&lt;dbl&gt;</th><th scope=col>&lt;dbl&gt;</th><th scope=col>&lt;dbl&gt;</th><th scope=col>&lt;lgl&gt;</th><th scope=col>&lt;dbl&gt;</th><th scope=col>⋯</th><th scope=col>&lt;dbl&gt;</th><th scope=col>&lt;dbl&gt;</th><th scope=col>&lt;int&gt;</th><th scope=col>&lt;dbl&gt;</th><th scope=col>&lt;dbl&gt;</th><th scope=col>&lt;dbl&gt;</th><th scope=col>&lt;dbl&gt;</th><th scope=col>&lt;dbl&gt;</th><th scope=col>&lt;dbl&gt;</th><th scope=col>&lt;dbl&gt;</th></tr>\n",
       "</thead>\n",
       "<tbody>\n",
       "\t<tr><td>3</td><td>2023-01-20</td><td>Buy   </td><td>AMC </td><td>1000</td><td>5.625</td><td>5625.0</td><td> 950</td><td>TRUE</td><td>0</td><td>⋯</td><td>5.625</td><td>5343.75</td><td> 950</td><td>5.5124</td><td>5236.78</td><td>-106.97</td><td>50</td><td>5.625</td><td>281.25</td><td>0</td></tr>\n",
       "\t<tr><td>1</td><td>2022-12-31</td><td>Buy CF</td><td>CFCF</td><td>  50</td><td>4.070</td><td> 203.5</td><td>   0</td><td>TRUE</td><td>0</td><td>⋯</td><td>4.070</td><td> 203.50</td><td>  50</td><td>5.5124</td><td> 275.62</td><td>  72.12</td><td> 0</td><td>0.000</td><td>  0.00</td><td>1</td></tr>\n",
       "\t<tr><td>1</td><td>2022-12-31</td><td>Buy   </td><td>AMC </td><td>1050</td><td>4.070</td><td>4273.5</td><td>1000</td><td>TRUE</td><td>0</td><td>⋯</td><td>4.070</td><td>4070.00</td><td>1000</td><td>5.5124</td><td>5512.40</td><td>1442.40</td><td>50</td><td>4.070</td><td>203.50</td><td>0</td></tr>\n",
       "</tbody>\n",
       "</table>\n"
      ],
      "text/latex": [
       "A data.frame: 3 × 23\n",
       "\\begin{tabular}{lllllllllllllllllllll}\n",
       " index & date & type & co & quan & pps & basis & sale\\_quan & flag & buy\\_cf\\_quan & ⋯ & buy\\_pps & buy\\_basis & sell\\_quan & sell\\_pps & sell\\_basis & profit\\_loss & sold\\_cf\\_quan & sold\\_cf\\_pps & sold\\_cf\\_basis & true\\_false\\\\\n",
       " <int> & <date> & <chr> & <chr> & <int> & <dbl> & <dbl> & <dbl> & <lgl> & <dbl> & ⋯ & <dbl> & <dbl> & <int> & <dbl> & <dbl> & <dbl> & <dbl> & <dbl> & <dbl> & <dbl>\\\\\n",
       "\\hline\n",
       "\t 3 & 2023-01-20 & Buy    & AMC  & 1000 & 5.625 & 5625.0 &  950 & TRUE & 0 & ⋯ & 5.625 & 5343.75 &  950 & 5.5124 & 5236.78 & -106.97 & 50 & 5.625 & 281.25 & 0\\\\\n",
       "\t 1 & 2022-12-31 & Buy CF & CFCF &   50 & 4.070 &  203.5 &    0 & TRUE & 0 & ⋯ & 4.070 &  203.50 &   50 & 5.5124 &  275.62 &   72.12 &  0 & 0.000 &   0.00 & 1\\\\\n",
       "\t 1 & 2022-12-31 & Buy    & AMC  & 1050 & 4.070 & 4273.5 & 1000 & TRUE & 0 & ⋯ & 4.070 & 4070.00 & 1000 & 5.5124 & 5512.40 & 1442.40 & 50 & 4.070 & 203.50 & 0\\\\\n",
       "\\end{tabular}\n"
      ],
      "text/markdown": [
       "\n",
       "A data.frame: 3 × 23\n",
       "\n",
       "| index &lt;int&gt; | date &lt;date&gt; | type &lt;chr&gt; | co &lt;chr&gt; | quan &lt;int&gt; | pps &lt;dbl&gt; | basis &lt;dbl&gt; | sale_quan &lt;dbl&gt; | flag &lt;lgl&gt; | buy_cf_quan &lt;dbl&gt; | ⋯ ⋯ | buy_pps &lt;dbl&gt; | buy_basis &lt;dbl&gt; | sell_quan &lt;int&gt; | sell_pps &lt;dbl&gt; | sell_basis &lt;dbl&gt; | profit_loss &lt;dbl&gt; | sold_cf_quan &lt;dbl&gt; | sold_cf_pps &lt;dbl&gt; | sold_cf_basis &lt;dbl&gt; | true_false &lt;dbl&gt; |\n",
       "|---|---|---|---|---|---|---|---|---|---|---|---|---|---|---|---|---|---|---|---|---|\n",
       "| 3 | 2023-01-20 | Buy    | AMC  | 1000 | 5.625 | 5625.0 |  950 | TRUE | 0 | ⋯ | 5.625 | 5343.75 |  950 | 5.5124 | 5236.78 | -106.97 | 50 | 5.625 | 281.25 | 0 |\n",
       "| 1 | 2022-12-31 | Buy CF | CFCF |   50 | 4.070 |  203.5 |    0 | TRUE | 0 | ⋯ | 4.070 |  203.50 |   50 | 5.5124 |  275.62 |   72.12 |  0 | 0.000 |   0.00 | 1 |\n",
       "| 1 | 2022-12-31 | Buy    | AMC  | 1050 | 4.070 | 4273.5 | 1000 | TRUE | 0 | ⋯ | 4.070 | 4070.00 | 1000 | 5.5124 | 5512.40 | 1442.40 | 50 | 4.070 | 203.50 | 0 |\n",
       "\n"
      ],
      "text/plain": [
       "  index date       type   co   quan pps   basis  sale_quan flag buy_cf_quan ⋯\n",
       "1 3     2023-01-20 Buy    AMC  1000 5.625 5625.0  950      TRUE 0           ⋯\n",
       "2 1     2022-12-31 Buy CF CFCF   50 4.070  203.5    0      TRUE 0           ⋯\n",
       "3 1     2022-12-31 Buy    AMC  1050 4.070 4273.5 1000      TRUE 0           ⋯\n",
       "  buy_pps buy_basis sell_quan sell_pps sell_basis profit_loss sold_cf_quan\n",
       "1 5.625   5343.75    950      5.5124   5236.78    -106.97     50          \n",
       "2 4.070    203.50     50      5.5124    275.62      72.12      0          \n",
       "3 4.070   4070.00   1000      5.5124   5512.40    1442.40     50          \n",
       "  sold_cf_pps sold_cf_basis true_false\n",
       "1 5.625       281.25        0         \n",
       "2 0.000         0.00        1         \n",
       "3 4.070       203.50        0         "
      ]
     },
     "metadata": {},
     "output_type": "display_data"
    }
   ],
   "source": [
    "sale_records"
   ]
  },
  {
   "cell_type": "code",
   "execution_count": 53,
   "id": "8ea8d92e-6054-4733-a9c5-c09f4503b12a",
   "metadata": {},
   "outputs": [],
   "source": [
    "# stoppps"
   ]
  },
  {
   "cell_type": "markdown",
   "id": "5abef20f-21d3-4777-89a7-b45db8d7ce64",
   "metadata": {},
   "source": [
    "# <font color = cyan> Proof of Concept above. End of loop 3"
   ]
  },
  {
   "cell_type": "code",
   "execution_count": null,
   "id": "d4eafb47-b2b4-43b3-94fd-36a69fd6389c",
   "metadata": {},
   "outputs": [],
   "source": []
  },
  {
   "cell_type": "markdown",
   "id": "320e9546-0d4c-410d-948c-791fca3ce13e",
   "metadata": {},
   "source": [
    "#### <font color = yellow> 1. Create data & dfs"
   ]
  },
  {
   "cell_type": "code",
   "execution_count": 54,
   "id": "449f9519-cfa0-4128-91de-568f427c090a",
   "metadata": {},
   "outputs": [],
   "source": [
    "b <- buys[1,]\n",
    "s <- sells[1,]\n"
   ]
  },
  {
   "cell_type": "code",
   "execution_count": null,
   "id": "20903223-09de-4ade-ba1a-5c4469c0a060",
   "metadata": {},
   "outputs": [],
   "source": []
  },
  {
   "cell_type": "markdown",
   "id": "26b52d06-a0c7-4d6b-9516-d36dac8d9690",
   "metadata": {},
   "source": [
    "### <font color = yellow> 2. Update b - the variable that records each buy/sell transaction (w/in loop)\n",
    "    \n",
    "#### b>s, b<s, b==s,"
   ]
  },
  {
   "cell_type": "code",
   "execution_count": 55,
   "id": "7bf59266-4330-43ab-bac0-be49c101e361",
   "metadata": {},
   "outputs": [
    {
     "name": "stdout",
     "output_type": "stream",
     "text": [
      "proof 3 \n",
      "proof \n",
      "POC - updated_s when b == s:  EQ SOLD \n"
     ]
    }
   ],
   "source": [
    "# fct call\n",
    "updated_b_list <- update_b(b,s,buys)\n",
    "\n",
    "updated_b <- updated_b_list[[1]]\n",
    "updated_s <- updated_b_list[[2]]\n",
    "buys <- updated_b_list[[3]]\n",
    "#dim(updated_b)\n",
    "#dim(buys)    \n"
   ]
  },
  {
   "cell_type": "code",
   "execution_count": 56,
   "id": "54e905eb-d9ca-42f5-a389-6099b58d7d49",
   "metadata": {},
   "outputs": [
    {
     "name": "stdout",
     "output_type": "stream",
     "text": [
      "Std buy-sell orientation \n"
     ]
    }
   ],
   "source": [
    "if(buys$type[i] == \"Buy\" && sells$type[i] == \"Sell\") {\n",
    "    cat(\"Std buy-sell orientation \\n\")    \n",
    "    }"
   ]
  },
  {
   "cell_type": "markdown",
   "id": "f9a5694c-c790-4306-a688-b2f44aa85fd4",
   "metadata": {},
   "source": [
    "### <font color = yellow>3. Update the sales_records (rbind) with updated_b for each transaction (loop)\n"
   ]
  },
  {
   "cell_type": "code",
   "execution_count": 57,
   "id": "3ca225ff-9100-4bd2-8abe-14cc189da72a",
   "metadata": {},
   "outputs": [
    {
     "data": {
      "text/html": [
       "<table class=\"dataframe\">\n",
       "<caption>A data.frame: 1 × 23</caption>\n",
       "<thead>\n",
       "\t<tr><th></th><th scope=col>index</th><th scope=col>date</th><th scope=col>type</th><th scope=col>co</th><th scope=col>quan</th><th scope=col>pps</th><th scope=col>basis</th><th scope=col>sale_quan</th><th scope=col>flag</th><th scope=col>buy_cf_quan</th><th scope=col>⋯</th><th scope=col>buy_pps</th><th scope=col>buy_basis</th><th scope=col>sell_quan</th><th scope=col>sell_pps</th><th scope=col>sell_basis</th><th scope=col>profit_loss</th><th scope=col>sold_cf_quan</th><th scope=col>sold_cf_pps</th><th scope=col>sold_cf_basis</th><th scope=col>true_false</th></tr>\n",
       "\t<tr><th></th><th scope=col>&lt;int&gt;</th><th scope=col>&lt;date&gt;</th><th scope=col>&lt;chr&gt;</th><th scope=col>&lt;chr&gt;</th><th scope=col>&lt;dbl&gt;</th><th scope=col>&lt;dbl&gt;</th><th scope=col>&lt;dbl&gt;</th><th scope=col>&lt;dbl&gt;</th><th scope=col>&lt;lgl&gt;</th><th scope=col>&lt;dbl&gt;</th><th scope=col>⋯</th><th scope=col>&lt;dbl&gt;</th><th scope=col>&lt;dbl&gt;</th><th scope=col>&lt;dbl&gt;</th><th scope=col>&lt;dbl&gt;</th><th scope=col>&lt;dbl&gt;</th><th scope=col>&lt;dbl&gt;</th><th scope=col>&lt;dbl&gt;</th><th scope=col>&lt;dbl&gt;</th><th scope=col>&lt;dbl&gt;</th><th scope=col>&lt;dbl&gt;</th></tr>\n",
       "</thead>\n",
       "<tbody>\n",
       "\t<tr><th scope=row>1</th><td>3</td><td>2023-01-20</td><td>Buy CF</td><td>CFCF</td><td>50</td><td>5.625</td><td>281.25</td><td>0</td><td>TRUE</td><td>0</td><td>⋯</td><td>5.625</td><td>281.25</td><td>50</td><td>5.5124</td><td>275.62</td><td>-5.63</td><td>0</td><td>0</td><td>0</td><td>1</td></tr>\n",
       "</tbody>\n",
       "</table>\n"
      ],
      "text/latex": [
       "A data.frame: 1 × 23\n",
       "\\begin{tabular}{r|lllllllllllllllllllll}\n",
       "  & index & date & type & co & quan & pps & basis & sale\\_quan & flag & buy\\_cf\\_quan & ⋯ & buy\\_pps & buy\\_basis & sell\\_quan & sell\\_pps & sell\\_basis & profit\\_loss & sold\\_cf\\_quan & sold\\_cf\\_pps & sold\\_cf\\_basis & true\\_false\\\\\n",
       "  & <int> & <date> & <chr> & <chr> & <dbl> & <dbl> & <dbl> & <dbl> & <lgl> & <dbl> & ⋯ & <dbl> & <dbl> & <dbl> & <dbl> & <dbl> & <dbl> & <dbl> & <dbl> & <dbl> & <dbl>\\\\\n",
       "\\hline\n",
       "\t1 & 3 & 2023-01-20 & Buy CF & CFCF & 50 & 5.625 & 281.25 & 0 & TRUE & 0 & ⋯ & 5.625 & 281.25 & 50 & 5.5124 & 275.62 & -5.63 & 0 & 0 & 0 & 1\\\\\n",
       "\\end{tabular}\n"
      ],
      "text/markdown": [
       "\n",
       "A data.frame: 1 × 23\n",
       "\n",
       "| <!--/--> | index &lt;int&gt; | date &lt;date&gt; | type &lt;chr&gt; | co &lt;chr&gt; | quan &lt;dbl&gt; | pps &lt;dbl&gt; | basis &lt;dbl&gt; | sale_quan &lt;dbl&gt; | flag &lt;lgl&gt; | buy_cf_quan &lt;dbl&gt; | ⋯ ⋯ | buy_pps &lt;dbl&gt; | buy_basis &lt;dbl&gt; | sell_quan &lt;dbl&gt; | sell_pps &lt;dbl&gt; | sell_basis &lt;dbl&gt; | profit_loss &lt;dbl&gt; | sold_cf_quan &lt;dbl&gt; | sold_cf_pps &lt;dbl&gt; | sold_cf_basis &lt;dbl&gt; | true_false &lt;dbl&gt; |\n",
       "|---|---|---|---|---|---|---|---|---|---|---|---|---|---|---|---|---|---|---|---|---|---|\n",
       "| 1 | 3 | 2023-01-20 | Buy CF | CFCF | 50 | 5.625 | 281.25 | 0 | TRUE | 0 | ⋯ | 5.625 | 281.25 | 50 | 5.5124 | 275.62 | -5.63 | 0 | 0 | 0 | 1 |\n",
       "\n"
      ],
      "text/plain": [
       "  index date       type   co   quan pps   basis  sale_quan flag buy_cf_quan ⋯\n",
       "1 3     2023-01-20 Buy CF CFCF 50   5.625 281.25 0         TRUE 0           ⋯\n",
       "  buy_pps buy_basis sell_quan sell_pps sell_basis profit_loss sold_cf_quan\n",
       "1 5.625   281.25    50        5.5124   275.62     -5.63       0           \n",
       "  sold_cf_pps sold_cf_basis true_false\n",
       "1 0           0             1         "
      ]
     },
     "metadata": {},
     "output_type": "display_data"
    },
    {
     "data": {
      "text/html": [
       "<table class=\"dataframe\">\n",
       "<caption>A data.frame: 4 × 23</caption>\n",
       "<thead>\n",
       "\t<tr><th scope=col>index</th><th scope=col>date</th><th scope=col>type</th><th scope=col>co</th><th scope=col>quan</th><th scope=col>pps</th><th scope=col>basis</th><th scope=col>sale_quan</th><th scope=col>flag</th><th scope=col>buy_cf_quan</th><th scope=col>⋯</th><th scope=col>buy_pps</th><th scope=col>buy_basis</th><th scope=col>sell_quan</th><th scope=col>sell_pps</th><th scope=col>sell_basis</th><th scope=col>profit_loss</th><th scope=col>sold_cf_quan</th><th scope=col>sold_cf_pps</th><th scope=col>sold_cf_basis</th><th scope=col>true_false</th></tr>\n",
       "\t<tr><th scope=col>&lt;int&gt;</th><th scope=col>&lt;date&gt;</th><th scope=col>&lt;chr&gt;</th><th scope=col>&lt;chr&gt;</th><th scope=col>&lt;dbl&gt;</th><th scope=col>&lt;dbl&gt;</th><th scope=col>&lt;dbl&gt;</th><th scope=col>&lt;dbl&gt;</th><th scope=col>&lt;lgl&gt;</th><th scope=col>&lt;dbl&gt;</th><th scope=col>⋯</th><th scope=col>&lt;dbl&gt;</th><th scope=col>&lt;dbl&gt;</th><th scope=col>&lt;dbl&gt;</th><th scope=col>&lt;dbl&gt;</th><th scope=col>&lt;dbl&gt;</th><th scope=col>&lt;dbl&gt;</th><th scope=col>&lt;dbl&gt;</th><th scope=col>&lt;dbl&gt;</th><th scope=col>&lt;dbl&gt;</th><th scope=col>&lt;dbl&gt;</th></tr>\n",
       "</thead>\n",
       "<tbody>\n",
       "\t<tr><td>3</td><td>2023-01-20</td><td>Buy CF</td><td>CFCF</td><td>  50</td><td>5.625</td><td> 281.25</td><td>   0</td><td>TRUE</td><td>0</td><td>⋯</td><td>5.625</td><td> 281.25</td><td>  50</td><td>5.5124</td><td> 275.62</td><td>  -5.63</td><td> 0</td><td>0.000</td><td>  0.00</td><td>1</td></tr>\n",
       "\t<tr><td>3</td><td>2023-01-20</td><td>Buy   </td><td>AMC </td><td>1000</td><td>5.625</td><td>5625.00</td><td> 950</td><td>TRUE</td><td>0</td><td>⋯</td><td>5.625</td><td>5343.75</td><td> 950</td><td>5.5124</td><td>5236.78</td><td>-106.97</td><td>50</td><td>5.625</td><td>281.25</td><td>0</td></tr>\n",
       "\t<tr><td>1</td><td>2022-12-31</td><td>Buy CF</td><td>CFCF</td><td>  50</td><td>4.070</td><td> 203.50</td><td>   0</td><td>TRUE</td><td>0</td><td>⋯</td><td>4.070</td><td> 203.50</td><td>  50</td><td>5.5124</td><td> 275.62</td><td>  72.12</td><td> 0</td><td>0.000</td><td>  0.00</td><td>1</td></tr>\n",
       "\t<tr><td>1</td><td>2022-12-31</td><td>Buy   </td><td>AMC </td><td>1050</td><td>4.070</td><td>4273.50</td><td>1000</td><td>TRUE</td><td>0</td><td>⋯</td><td>4.070</td><td>4070.00</td><td>1000</td><td>5.5124</td><td>5512.40</td><td>1442.40</td><td>50</td><td>4.070</td><td>203.50</td><td>0</td></tr>\n",
       "</tbody>\n",
       "</table>\n"
      ],
      "text/latex": [
       "A data.frame: 4 × 23\n",
       "\\begin{tabular}{lllllllllllllllllllll}\n",
       " index & date & type & co & quan & pps & basis & sale\\_quan & flag & buy\\_cf\\_quan & ⋯ & buy\\_pps & buy\\_basis & sell\\_quan & sell\\_pps & sell\\_basis & profit\\_loss & sold\\_cf\\_quan & sold\\_cf\\_pps & sold\\_cf\\_basis & true\\_false\\\\\n",
       " <int> & <date> & <chr> & <chr> & <dbl> & <dbl> & <dbl> & <dbl> & <lgl> & <dbl> & ⋯ & <dbl> & <dbl> & <dbl> & <dbl> & <dbl> & <dbl> & <dbl> & <dbl> & <dbl> & <dbl>\\\\\n",
       "\\hline\n",
       "\t 3 & 2023-01-20 & Buy CF & CFCF &   50 & 5.625 &  281.25 &    0 & TRUE & 0 & ⋯ & 5.625 &  281.25 &   50 & 5.5124 &  275.62 &   -5.63 &  0 & 0.000 &   0.00 & 1\\\\\n",
       "\t 3 & 2023-01-20 & Buy    & AMC  & 1000 & 5.625 & 5625.00 &  950 & TRUE & 0 & ⋯ & 5.625 & 5343.75 &  950 & 5.5124 & 5236.78 & -106.97 & 50 & 5.625 & 281.25 & 0\\\\\n",
       "\t 1 & 2022-12-31 & Buy CF & CFCF &   50 & 4.070 &  203.50 &    0 & TRUE & 0 & ⋯ & 4.070 &  203.50 &   50 & 5.5124 &  275.62 &   72.12 &  0 & 0.000 &   0.00 & 1\\\\\n",
       "\t 1 & 2022-12-31 & Buy    & AMC  & 1050 & 4.070 & 4273.50 & 1000 & TRUE & 0 & ⋯ & 4.070 & 4070.00 & 1000 & 5.5124 & 5512.40 & 1442.40 & 50 & 4.070 & 203.50 & 0\\\\\n",
       "\\end{tabular}\n"
      ],
      "text/markdown": [
       "\n",
       "A data.frame: 4 × 23\n",
       "\n",
       "| index &lt;int&gt; | date &lt;date&gt; | type &lt;chr&gt; | co &lt;chr&gt; | quan &lt;dbl&gt; | pps &lt;dbl&gt; | basis &lt;dbl&gt; | sale_quan &lt;dbl&gt; | flag &lt;lgl&gt; | buy_cf_quan &lt;dbl&gt; | ⋯ ⋯ | buy_pps &lt;dbl&gt; | buy_basis &lt;dbl&gt; | sell_quan &lt;dbl&gt; | sell_pps &lt;dbl&gt; | sell_basis &lt;dbl&gt; | profit_loss &lt;dbl&gt; | sold_cf_quan &lt;dbl&gt; | sold_cf_pps &lt;dbl&gt; | sold_cf_basis &lt;dbl&gt; | true_false &lt;dbl&gt; |\n",
       "|---|---|---|---|---|---|---|---|---|---|---|---|---|---|---|---|---|---|---|---|---|\n",
       "| 3 | 2023-01-20 | Buy CF | CFCF |   50 | 5.625 |  281.25 |    0 | TRUE | 0 | ⋯ | 5.625 |  281.25 |   50 | 5.5124 |  275.62 |   -5.63 |  0 | 0.000 |   0.00 | 1 |\n",
       "| 3 | 2023-01-20 | Buy    | AMC  | 1000 | 5.625 | 5625.00 |  950 | TRUE | 0 | ⋯ | 5.625 | 5343.75 |  950 | 5.5124 | 5236.78 | -106.97 | 50 | 5.625 | 281.25 | 0 |\n",
       "| 1 | 2022-12-31 | Buy CF | CFCF |   50 | 4.070 |  203.50 |    0 | TRUE | 0 | ⋯ | 4.070 |  203.50 |   50 | 5.5124 |  275.62 |   72.12 |  0 | 0.000 |   0.00 | 1 |\n",
       "| 1 | 2022-12-31 | Buy    | AMC  | 1050 | 4.070 | 4273.50 | 1000 | TRUE | 0 | ⋯ | 4.070 | 4070.00 | 1000 | 5.5124 | 5512.40 | 1442.40 | 50 | 4.070 | 203.50 | 0 |\n",
       "\n"
      ],
      "text/plain": [
       "  index date       type   co   quan pps   basis   sale_quan flag buy_cf_quan ⋯\n",
       "1 3     2023-01-20 Buy CF CFCF   50 5.625  281.25    0      TRUE 0           ⋯\n",
       "2 3     2023-01-20 Buy    AMC  1000 5.625 5625.00  950      TRUE 0           ⋯\n",
       "3 1     2022-12-31 Buy CF CFCF   50 4.070  203.50    0      TRUE 0           ⋯\n",
       "4 1     2022-12-31 Buy    AMC  1050 4.070 4273.50 1000      TRUE 0           ⋯\n",
       "  buy_pps buy_basis sell_quan sell_pps sell_basis profit_loss sold_cf_quan\n",
       "1 5.625    281.25     50      5.5124    275.62      -5.63      0          \n",
       "2 5.625   5343.75    950      5.5124   5236.78    -106.97     50          \n",
       "3 4.070    203.50     50      5.5124    275.62      72.12      0          \n",
       "4 4.070   4070.00   1000      5.5124   5512.40    1442.40     50          \n",
       "  sold_cf_pps sold_cf_basis true_false\n",
       "1 0.000         0.00        1         \n",
       "2 5.625       281.25        0         \n",
       "3 0.000         0.00        1         \n",
       "4 4.070       203.50        0         "
      ]
     },
     "metadata": {},
     "output_type": "display_data"
    }
   ],
   "source": [
    "# First go around needs rbind()\n",
    "# sale_records <- rbind(sale_records, updated_b)    \n",
    "\n",
    "sale_records <- sale_records %>% add_row(updated_b , .before = 1)\n",
    "sale_records[1,]\n",
    "sale_records"
   ]
  },
  {
   "cell_type": "code",
   "execution_count": null,
   "id": "744c2d00-03a7-48bc-a19b-4f103ba00c59",
   "metadata": {},
   "outputs": [],
   "source": []
  },
  {
   "cell_type": "markdown",
   "id": "5b082842-4974-4d4b-8451-bb74d2260393",
   "metadata": {},
   "source": [
    "#### <font color = yellow> 4. Update buys or sells with a new row (add_row) - whenever a transaction (loop) includes  c/f\n",
    "    \n",
    "###### Uses add_row () to transform any existing carryforward (buy or sell type) into the next element that will be processed for next (loop) buy/sell transaction"
   ]
  },
  {
   "cell_type": "code",
   "execution_count": 58,
   "id": "b39a33ff-d624-47f5-a1f9-97652d4ffade",
   "metadata": {},
   "outputs": [
    {
     "name": "stdout",
     "output_type": "stream",
     "text": [
      "printing updated buys[1 ], dim of buys increases with c/f  \n"
     ]
    }
   ],
   "source": [
    "# fct call\n",
    "return_list <- update_buys_sells(buys, sells)\n",
    "\n",
    "# returned the updated to buys / sells\n",
    "buys <- return_list[[1]]\n",
    "sells <- return_list[[2]]\n",
    "\n",
    "#dim(buys)\n",
    "# dim(sells)\n"
   ]
  },
  {
   "cell_type": "code",
   "execution_count": null,
   "id": "00125dba-ef90-4bcc-9eae-546d3e7d724d",
   "metadata": {},
   "outputs": [],
   "source": []
  },
  {
   "cell_type": "markdown",
   "id": "abe47658-6aae-47e1-a0f2-346e18829a11",
   "metadata": {},
   "source": [
    "#### <font color = yellow>5. snips () Create a new variable from buys/sells row 1, then delete row 1 from buys and sells (copy_snip () )"
   ]
  },
  {
   "cell_type": "code",
   "execution_count": 59,
   "id": "7dacfbc2-5867-4258-87bf-2b52dadf1587",
   "metadata": {},
   "outputs": [
    {
     "name": "stdout",
     "output_type": "stream",
     "text": [
      "new condtional works for filtering in copy_snip when cf-cf \n"
     ]
    }
   ],
   "source": [
    "copy_snip_list <- copy_snip(b, s, buys, sells) \n",
    "\n",
    "b1 <- copy_snip_list[[1]]\n",
    "s1 <- copy_snip_list[[2]]\n",
    "buys <- copy_snip_list[[3]]\n",
    "sells <- copy_snip_list[[4]]\n",
    "\n",
    "# after\n",
    "# dim(buys)\n",
    "# dim(sells)\n",
    "# # b1\n",
    "# s1"
   ]
  },
  {
   "cell_type": "code",
   "execution_count": null,
   "id": "d8a3707f-09ec-4cf6-92a2-2f2c391f40ee",
   "metadata": {},
   "outputs": [],
   "source": []
  },
  {
   "cell_type": "markdown",
   "id": "7072d990-0b36-48fb-8865-4e015b754f43",
   "metadata": {},
   "source": [
    "\n",
    "#### <font color = lime> QC: Loop  review buys & sells"
   ]
  },
  {
   "cell_type": "code",
   "execution_count": 60,
   "id": "d44a9af4-473e-4337-8441-42d46916857c",
   "metadata": {},
   "outputs": [
    {
     "data": {
      "text/html": [
       "<table class=\"dataframe\">\n",
       "<caption>A data.frame: 4 × 23</caption>\n",
       "<thead>\n",
       "\t<tr><th scope=col>index</th><th scope=col>date</th><th scope=col>type</th><th scope=col>co</th><th scope=col>quan</th><th scope=col>pps</th><th scope=col>basis</th><th scope=col>sale_quan</th><th scope=col>flag</th><th scope=col>buy_cf_quan</th><th scope=col>⋯</th><th scope=col>buy_pps</th><th scope=col>buy_basis</th><th scope=col>sell_quan</th><th scope=col>sell_pps</th><th scope=col>sell_basis</th><th scope=col>profit_loss</th><th scope=col>sold_cf_quan</th><th scope=col>sold_cf_pps</th><th scope=col>sold_cf_basis</th><th scope=col>true_false</th></tr>\n",
       "\t<tr><th scope=col>&lt;int&gt;</th><th scope=col>&lt;date&gt;</th><th scope=col>&lt;chr&gt;</th><th scope=col>&lt;chr&gt;</th><th scope=col>&lt;dbl&gt;</th><th scope=col>&lt;dbl&gt;</th><th scope=col>&lt;dbl&gt;</th><th scope=col>&lt;dbl&gt;</th><th scope=col>&lt;lgl&gt;</th><th scope=col>&lt;dbl&gt;</th><th scope=col>⋯</th><th scope=col>&lt;dbl&gt;</th><th scope=col>&lt;dbl&gt;</th><th scope=col>&lt;dbl&gt;</th><th scope=col>&lt;dbl&gt;</th><th scope=col>&lt;dbl&gt;</th><th scope=col>&lt;dbl&gt;</th><th scope=col>&lt;dbl&gt;</th><th scope=col>&lt;dbl&gt;</th><th scope=col>&lt;dbl&gt;</th><th scope=col>&lt;dbl&gt;</th></tr>\n",
       "</thead>\n",
       "<tbody>\n",
       "\t<tr><td>3</td><td>2023-01-20</td><td>Buy CF</td><td>CFCF</td><td>  50</td><td>5.625</td><td> 281.25</td><td>   0</td><td>TRUE</td><td>0</td><td>⋯</td><td>5.625</td><td> 281.25</td><td>  50</td><td>5.5124</td><td> 275.62</td><td>  -5.63</td><td> 0</td><td>0.000</td><td>  0.00</td><td>1</td></tr>\n",
       "\t<tr><td>3</td><td>2023-01-20</td><td>Buy   </td><td>AMC </td><td>1000</td><td>5.625</td><td>5625.00</td><td> 950</td><td>TRUE</td><td>0</td><td>⋯</td><td>5.625</td><td>5343.75</td><td> 950</td><td>5.5124</td><td>5236.78</td><td>-106.97</td><td>50</td><td>5.625</td><td>281.25</td><td>0</td></tr>\n",
       "\t<tr><td>1</td><td>2022-12-31</td><td>Buy CF</td><td>CFCF</td><td>  50</td><td>4.070</td><td> 203.50</td><td>   0</td><td>TRUE</td><td>0</td><td>⋯</td><td>4.070</td><td> 203.50</td><td>  50</td><td>5.5124</td><td> 275.62</td><td>  72.12</td><td> 0</td><td>0.000</td><td>  0.00</td><td>1</td></tr>\n",
       "\t<tr><td>1</td><td>2022-12-31</td><td>Buy   </td><td>AMC </td><td>1050</td><td>4.070</td><td>4273.50</td><td>1000</td><td>TRUE</td><td>0</td><td>⋯</td><td>4.070</td><td>4070.00</td><td>1000</td><td>5.5124</td><td>5512.40</td><td>1442.40</td><td>50</td><td>4.070</td><td>203.50</td><td>0</td></tr>\n",
       "</tbody>\n",
       "</table>\n"
      ],
      "text/latex": [
       "A data.frame: 4 × 23\n",
       "\\begin{tabular}{lllllllllllllllllllll}\n",
       " index & date & type & co & quan & pps & basis & sale\\_quan & flag & buy\\_cf\\_quan & ⋯ & buy\\_pps & buy\\_basis & sell\\_quan & sell\\_pps & sell\\_basis & profit\\_loss & sold\\_cf\\_quan & sold\\_cf\\_pps & sold\\_cf\\_basis & true\\_false\\\\\n",
       " <int> & <date> & <chr> & <chr> & <dbl> & <dbl> & <dbl> & <dbl> & <lgl> & <dbl> & ⋯ & <dbl> & <dbl> & <dbl> & <dbl> & <dbl> & <dbl> & <dbl> & <dbl> & <dbl> & <dbl>\\\\\n",
       "\\hline\n",
       "\t 3 & 2023-01-20 & Buy CF & CFCF &   50 & 5.625 &  281.25 &    0 & TRUE & 0 & ⋯ & 5.625 &  281.25 &   50 & 5.5124 &  275.62 &   -5.63 &  0 & 0.000 &   0.00 & 1\\\\\n",
       "\t 3 & 2023-01-20 & Buy    & AMC  & 1000 & 5.625 & 5625.00 &  950 & TRUE & 0 & ⋯ & 5.625 & 5343.75 &  950 & 5.5124 & 5236.78 & -106.97 & 50 & 5.625 & 281.25 & 0\\\\\n",
       "\t 1 & 2022-12-31 & Buy CF & CFCF &   50 & 4.070 &  203.50 &    0 & TRUE & 0 & ⋯ & 4.070 &  203.50 &   50 & 5.5124 &  275.62 &   72.12 &  0 & 0.000 &   0.00 & 1\\\\\n",
       "\t 1 & 2022-12-31 & Buy    & AMC  & 1050 & 4.070 & 4273.50 & 1000 & TRUE & 0 & ⋯ & 4.070 & 4070.00 & 1000 & 5.5124 & 5512.40 & 1442.40 & 50 & 4.070 & 203.50 & 0\\\\\n",
       "\\end{tabular}\n"
      ],
      "text/markdown": [
       "\n",
       "A data.frame: 4 × 23\n",
       "\n",
       "| index &lt;int&gt; | date &lt;date&gt; | type &lt;chr&gt; | co &lt;chr&gt; | quan &lt;dbl&gt; | pps &lt;dbl&gt; | basis &lt;dbl&gt; | sale_quan &lt;dbl&gt; | flag &lt;lgl&gt; | buy_cf_quan &lt;dbl&gt; | ⋯ ⋯ | buy_pps &lt;dbl&gt; | buy_basis &lt;dbl&gt; | sell_quan &lt;dbl&gt; | sell_pps &lt;dbl&gt; | sell_basis &lt;dbl&gt; | profit_loss &lt;dbl&gt; | sold_cf_quan &lt;dbl&gt; | sold_cf_pps &lt;dbl&gt; | sold_cf_basis &lt;dbl&gt; | true_false &lt;dbl&gt; |\n",
       "|---|---|---|---|---|---|---|---|---|---|---|---|---|---|---|---|---|---|---|---|---|\n",
       "| 3 | 2023-01-20 | Buy CF | CFCF |   50 | 5.625 |  281.25 |    0 | TRUE | 0 | ⋯ | 5.625 |  281.25 |   50 | 5.5124 |  275.62 |   -5.63 |  0 | 0.000 |   0.00 | 1 |\n",
       "| 3 | 2023-01-20 | Buy    | AMC  | 1000 | 5.625 | 5625.00 |  950 | TRUE | 0 | ⋯ | 5.625 | 5343.75 |  950 | 5.5124 | 5236.78 | -106.97 | 50 | 5.625 | 281.25 | 0 |\n",
       "| 1 | 2022-12-31 | Buy CF | CFCF |   50 | 4.070 |  203.50 |    0 | TRUE | 0 | ⋯ | 4.070 |  203.50 |   50 | 5.5124 |  275.62 |   72.12 |  0 | 0.000 |   0.00 | 1 |\n",
       "| 1 | 2022-12-31 | Buy    | AMC  | 1050 | 4.070 | 4273.50 | 1000 | TRUE | 0 | ⋯ | 4.070 | 4070.00 | 1000 | 5.5124 | 5512.40 | 1442.40 | 50 | 4.070 | 203.50 | 0 |\n",
       "\n"
      ],
      "text/plain": [
       "  index date       type   co   quan pps   basis   sale_quan flag buy_cf_quan ⋯\n",
       "1 3     2023-01-20 Buy CF CFCF   50 5.625  281.25    0      TRUE 0           ⋯\n",
       "2 3     2023-01-20 Buy    AMC  1000 5.625 5625.00  950      TRUE 0           ⋯\n",
       "3 1     2022-12-31 Buy CF CFCF   50 4.070  203.50    0      TRUE 0           ⋯\n",
       "4 1     2022-12-31 Buy    AMC  1050 4.070 4273.50 1000      TRUE 0           ⋯\n",
       "  buy_pps buy_basis sell_quan sell_pps sell_basis profit_loss sold_cf_quan\n",
       "1 5.625    281.25     50      5.5124    275.62      -5.63      0          \n",
       "2 5.625   5343.75    950      5.5124   5236.78    -106.97     50          \n",
       "3 4.070    203.50     50      5.5124    275.62      72.12      0          \n",
       "4 4.070   4070.00   1000      5.5124   5512.40    1442.40     50          \n",
       "  sold_cf_pps sold_cf_basis true_false\n",
       "1 0.000         0.00        1         \n",
       "2 5.625       281.25        0         \n",
       "3 0.000         0.00        1         \n",
       "4 4.070       203.50        0         "
      ]
     },
     "metadata": {},
     "output_type": "display_data"
    }
   ],
   "source": [
    "sale_records"
   ]
  },
  {
   "cell_type": "code",
   "execution_count": null,
   "id": "e1b215c6-a0af-40b6-80c4-bf71f22f2067",
   "metadata": {},
   "outputs": [],
   "source": []
  },
  {
   "cell_type": "markdown",
   "id": "67413fb8-d26b-47a1-9f37-9918afc0d0fe",
   "metadata": {},
   "source": [
    "#### <font color = lime> QC: Loop 2 review buys & sells"
   ]
  },
  {
   "cell_type": "code",
   "execution_count": 61,
   "id": "7d7fe2ac-91cb-44ca-957e-ff9a90ed6fe9",
   "metadata": {},
   "outputs": [
    {
     "data": {
      "text/html": [
       "<style>\n",
       ".list-inline {list-style: none; margin:0; padding: 0}\n",
       ".list-inline>li {display: inline-block}\n",
       ".list-inline>li:not(:last-child)::after {content: \"\\00b7\"; padding: 0 .5ex}\n",
       "</style>\n",
       "<ol class=list-inline><li>21</li><li>23</li></ol>\n"
      ],
      "text/latex": [
       "\\begin{enumerate*}\n",
       "\\item 21\n",
       "\\item 23\n",
       "\\end{enumerate*}\n"
      ],
      "text/markdown": [
       "1. 21\n",
       "2. 23\n",
       "\n",
       "\n"
      ],
      "text/plain": [
       "[1] 21 23"
      ]
     },
     "metadata": {},
     "output_type": "display_data"
    },
    {
     "data": {
      "text/html": [
       "<style>\n",
       ".list-inline {list-style: none; margin:0; padding: 0}\n",
       ".list-inline>li {display: inline-block}\n",
       ".list-inline>li:not(:last-child)::after {content: \"\\00b7\"; padding: 0 .5ex}\n",
       "</style>\n",
       "<ol class=list-inline><li>16</li><li>23</li></ol>\n"
      ],
      "text/latex": [
       "\\begin{enumerate*}\n",
       "\\item 16\n",
       "\\item 23\n",
       "\\end{enumerate*}\n"
      ],
      "text/markdown": [
       "1. 16\n",
       "2. 23\n",
       "\n",
       "\n"
      ],
      "text/plain": [
       "[1] 16 23"
      ]
     },
     "metadata": {},
     "output_type": "display_data"
    },
    {
     "data": {
      "text/html": [
       "<table class=\"dataframe\">\n",
       "<caption>A data.frame: 4 × 23</caption>\n",
       "<thead>\n",
       "\t<tr><th></th><th scope=col>index</th><th scope=col>date</th><th scope=col>type</th><th scope=col>co</th><th scope=col>quan</th><th scope=col>pps</th><th scope=col>basis</th><th scope=col>sale_quan</th><th scope=col>flag</th><th scope=col>buy_cf_quan</th><th scope=col>⋯</th><th scope=col>buy_pps</th><th scope=col>buy_basis</th><th scope=col>sell_quan</th><th scope=col>sell_pps</th><th scope=col>sell_basis</th><th scope=col>profit_loss</th><th scope=col>sold_cf_quan</th><th scope=col>sold_cf_pps</th><th scope=col>sold_cf_basis</th><th scope=col>true_false</th></tr>\n",
       "\t<tr><th></th><th scope=col>&lt;int&gt;</th><th scope=col>&lt;date&gt;</th><th scope=col>&lt;chr&gt;</th><th scope=col>&lt;chr&gt;</th><th scope=col>&lt;dbl&gt;</th><th scope=col>&lt;dbl&gt;</th><th scope=col>&lt;dbl&gt;</th><th scope=col>&lt;dbl&gt;</th><th scope=col>&lt;lgl&gt;</th><th scope=col>&lt;dbl&gt;</th><th scope=col>⋯</th><th scope=col>&lt;dbl&gt;</th><th scope=col>&lt;dbl&gt;</th><th scope=col>&lt;dbl&gt;</th><th scope=col>&lt;dbl&gt;</th><th scope=col>&lt;dbl&gt;</th><th scope=col>&lt;dbl&gt;</th><th scope=col>&lt;dbl&gt;</th><th scope=col>&lt;dbl&gt;</th><th scope=col>&lt;dbl&gt;</th><th scope=col>&lt;dbl&gt;</th></tr>\n",
       "</thead>\n",
       "<tbody>\n",
       "\t<tr><th scope=row>3</th><td> 5</td><td>2023-01-23</td><td>Buy</td><td>AMC</td><td>1000</td><td>5.7880</td><td> 5788.0</td><td>0</td><td>FALSE</td><td>0</td><td>⋯</td><td>0</td><td>0</td><td>0</td><td>0</td><td>0</td><td>0</td><td>0</td><td>0</td><td>0</td><td>0</td></tr>\n",
       "\t<tr><th scope=row>4</th><td> 7</td><td>2023-01-27</td><td>Buy</td><td>AMC</td><td>2000</td><td>5.2394</td><td>10478.8</td><td>0</td><td>FALSE</td><td>0</td><td>⋯</td><td>0</td><td>0</td><td>0</td><td>0</td><td>0</td><td>0</td><td>0</td><td>0</td><td>0</td><td>0</td></tr>\n",
       "\t<tr><th scope=row>5</th><td> 9</td><td>2023-02-10</td><td>Buy</td><td>AMC</td><td>2000</td><td>4.7450</td><td> 9490.0</td><td>0</td><td>FALSE</td><td>0</td><td>⋯</td><td>0</td><td>0</td><td>0</td><td>0</td><td>0</td><td>0</td><td>0</td><td>0</td><td>0</td><td>0</td></tr>\n",
       "\t<tr><th scope=row>6</th><td>11</td><td>2023-02-10</td><td>Buy</td><td>AMC</td><td>1000</td><td>4.7800</td><td> 4780.0</td><td>0</td><td>FALSE</td><td>0</td><td>⋯</td><td>0</td><td>0</td><td>0</td><td>0</td><td>0</td><td>0</td><td>0</td><td>0</td><td>0</td><td>0</td></tr>\n",
       "</tbody>\n",
       "</table>\n"
      ],
      "text/latex": [
       "A data.frame: 4 × 23\n",
       "\\begin{tabular}{r|lllllllllllllllllllll}\n",
       "  & index & date & type & co & quan & pps & basis & sale\\_quan & flag & buy\\_cf\\_quan & ⋯ & buy\\_pps & buy\\_basis & sell\\_quan & sell\\_pps & sell\\_basis & profit\\_loss & sold\\_cf\\_quan & sold\\_cf\\_pps & sold\\_cf\\_basis & true\\_false\\\\\n",
       "  & <int> & <date> & <chr> & <chr> & <dbl> & <dbl> & <dbl> & <dbl> & <lgl> & <dbl> & ⋯ & <dbl> & <dbl> & <dbl> & <dbl> & <dbl> & <dbl> & <dbl> & <dbl> & <dbl> & <dbl>\\\\\n",
       "\\hline\n",
       "\t3 &  5 & 2023-01-23 & Buy & AMC & 1000 & 5.7880 &  5788.0 & 0 & FALSE & 0 & ⋯ & 0 & 0 & 0 & 0 & 0 & 0 & 0 & 0 & 0 & 0\\\\\n",
       "\t4 &  7 & 2023-01-27 & Buy & AMC & 2000 & 5.2394 & 10478.8 & 0 & FALSE & 0 & ⋯ & 0 & 0 & 0 & 0 & 0 & 0 & 0 & 0 & 0 & 0\\\\\n",
       "\t5 &  9 & 2023-02-10 & Buy & AMC & 2000 & 4.7450 &  9490.0 & 0 & FALSE & 0 & ⋯ & 0 & 0 & 0 & 0 & 0 & 0 & 0 & 0 & 0 & 0\\\\\n",
       "\t6 & 11 & 2023-02-10 & Buy & AMC & 1000 & 4.7800 &  4780.0 & 0 & FALSE & 0 & ⋯ & 0 & 0 & 0 & 0 & 0 & 0 & 0 & 0 & 0 & 0\\\\\n",
       "\\end{tabular}\n"
      ],
      "text/markdown": [
       "\n",
       "A data.frame: 4 × 23\n",
       "\n",
       "| <!--/--> | index &lt;int&gt; | date &lt;date&gt; | type &lt;chr&gt; | co &lt;chr&gt; | quan &lt;dbl&gt; | pps &lt;dbl&gt; | basis &lt;dbl&gt; | sale_quan &lt;dbl&gt; | flag &lt;lgl&gt; | buy_cf_quan &lt;dbl&gt; | ⋯ ⋯ | buy_pps &lt;dbl&gt; | buy_basis &lt;dbl&gt; | sell_quan &lt;dbl&gt; | sell_pps &lt;dbl&gt; | sell_basis &lt;dbl&gt; | profit_loss &lt;dbl&gt; | sold_cf_quan &lt;dbl&gt; | sold_cf_pps &lt;dbl&gt; | sold_cf_basis &lt;dbl&gt; | true_false &lt;dbl&gt; |\n",
       "|---|---|---|---|---|---|---|---|---|---|---|---|---|---|---|---|---|---|---|---|---|---|\n",
       "| 3 |  5 | 2023-01-23 | Buy | AMC | 1000 | 5.7880 |  5788.0 | 0 | FALSE | 0 | ⋯ | 0 | 0 | 0 | 0 | 0 | 0 | 0 | 0 | 0 | 0 |\n",
       "| 4 |  7 | 2023-01-27 | Buy | AMC | 2000 | 5.2394 | 10478.8 | 0 | FALSE | 0 | ⋯ | 0 | 0 | 0 | 0 | 0 | 0 | 0 | 0 | 0 | 0 |\n",
       "| 5 |  9 | 2023-02-10 | Buy | AMC | 2000 | 4.7450 |  9490.0 | 0 | FALSE | 0 | ⋯ | 0 | 0 | 0 | 0 | 0 | 0 | 0 | 0 | 0 | 0 |\n",
       "| 6 | 11 | 2023-02-10 | Buy | AMC | 1000 | 4.7800 |  4780.0 | 0 | FALSE | 0 | ⋯ | 0 | 0 | 0 | 0 | 0 | 0 | 0 | 0 | 0 | 0 |\n",
       "\n"
      ],
      "text/plain": [
       "  index date       type co  quan pps    basis   sale_quan flag  buy_cf_quan ⋯\n",
       "3  5    2023-01-23 Buy  AMC 1000 5.7880  5788.0 0         FALSE 0           ⋯\n",
       "4  7    2023-01-27 Buy  AMC 2000 5.2394 10478.8 0         FALSE 0           ⋯\n",
       "5  9    2023-02-10 Buy  AMC 2000 4.7450  9490.0 0         FALSE 0           ⋯\n",
       "6 11    2023-02-10 Buy  AMC 1000 4.7800  4780.0 0         FALSE 0           ⋯\n",
       "  buy_pps buy_basis sell_quan sell_pps sell_basis profit_loss sold_cf_quan\n",
       "3 0       0         0         0        0          0           0           \n",
       "4 0       0         0         0        0          0           0           \n",
       "5 0       0         0         0        0          0           0           \n",
       "6 0       0         0         0        0          0           0           \n",
       "  sold_cf_pps sold_cf_basis true_false\n",
       "3 0           0             0         \n",
       "4 0           0             0         \n",
       "5 0           0             0         \n",
       "6 0           0             0         "
      ]
     },
     "metadata": {},
     "output_type": "display_data"
    },
    {
     "data": {
      "text/html": [
       "<table class=\"dataframe\">\n",
       "<caption>A data.frame: 4 × 23</caption>\n",
       "<thead>\n",
       "\t<tr><th></th><th scope=col>index</th><th scope=col>date</th><th scope=col>type</th><th scope=col>co</th><th scope=col>quan</th><th scope=col>pps</th><th scope=col>basis</th><th scope=col>sale_quan</th><th scope=col>flag</th><th scope=col>buy_cf_quan</th><th scope=col>⋯</th><th scope=col>buy_pps</th><th scope=col>buy_basis</th><th scope=col>sell_quan</th><th scope=col>sell_pps</th><th scope=col>sell_basis</th><th scope=col>profit_loss</th><th scope=col>sold_cf_quan</th><th scope=col>sold_cf_pps</th><th scope=col>sold_cf_basis</th><th scope=col>true_false</th></tr>\n",
       "\t<tr><th></th><th scope=col>&lt;int&gt;</th><th scope=col>&lt;date&gt;</th><th scope=col>&lt;chr&gt;</th><th scope=col>&lt;chr&gt;</th><th scope=col>&lt;dbl&gt;</th><th scope=col>&lt;dbl&gt;</th><th scope=col>&lt;dbl&gt;</th><th scope=col>&lt;dbl&gt;</th><th scope=col>&lt;lgl&gt;</th><th scope=col>&lt;dbl&gt;</th><th scope=col>⋯</th><th scope=col>&lt;dbl&gt;</th><th scope=col>&lt;dbl&gt;</th><th scope=col>&lt;dbl&gt;</th><th scope=col>&lt;dbl&gt;</th><th scope=col>&lt;dbl&gt;</th><th scope=col>&lt;dbl&gt;</th><th scope=col>&lt;dbl&gt;</th><th scope=col>&lt;dbl&gt;</th><th scope=col>&lt;dbl&gt;</th><th scope=col>&lt;dbl&gt;</th></tr>\n",
       "</thead>\n",
       "<tbody>\n",
       "\t<tr><th scope=row>3</th><td> 6</td><td>2023-02-03</td><td>Sell</td><td>AMC</td><td> 950</td><td>5.5124</td><td> 5236.78</td><td>0</td><td>FALSE</td><td>0</td><td>⋯</td><td>0</td><td>0</td><td>0</td><td>0</td><td>0</td><td>0</td><td>0</td><td>0</td><td>0</td><td>0</td></tr>\n",
       "\t<tr><th scope=row>4</th><td> 8</td><td>2023-02-03</td><td>Sell</td><td>AMC</td><td>1000</td><td>6.1901</td><td> 6190.10</td><td>0</td><td>FALSE</td><td>0</td><td>⋯</td><td>0</td><td>0</td><td>0</td><td>0</td><td>0</td><td>0</td><td>0</td><td>0</td><td>0</td><td>0</td></tr>\n",
       "\t<tr><th scope=row>5</th><td>10</td><td>2023-02-21</td><td>Sell</td><td>AMC</td><td>3000</td><td>5.8550</td><td>17565.00</td><td>0</td><td>FALSE</td><td>0</td><td>⋯</td><td>0</td><td>0</td><td>0</td><td>0</td><td>0</td><td>0</td><td>0</td><td>0</td><td>0</td><td>0</td></tr>\n",
       "\t<tr><th scope=row>6</th><td>16</td><td>2023-02-22</td><td>Sell</td><td>AMC</td><td>6000</td><td>6.6150</td><td>39690.00</td><td>0</td><td>FALSE</td><td>0</td><td>⋯</td><td>0</td><td>0</td><td>0</td><td>0</td><td>0</td><td>0</td><td>0</td><td>0</td><td>0</td><td>0</td></tr>\n",
       "</tbody>\n",
       "</table>\n"
      ],
      "text/latex": [
       "A data.frame: 4 × 23\n",
       "\\begin{tabular}{r|lllllllllllllllllllll}\n",
       "  & index & date & type & co & quan & pps & basis & sale\\_quan & flag & buy\\_cf\\_quan & ⋯ & buy\\_pps & buy\\_basis & sell\\_quan & sell\\_pps & sell\\_basis & profit\\_loss & sold\\_cf\\_quan & sold\\_cf\\_pps & sold\\_cf\\_basis & true\\_false\\\\\n",
       "  & <int> & <date> & <chr> & <chr> & <dbl> & <dbl> & <dbl> & <dbl> & <lgl> & <dbl> & ⋯ & <dbl> & <dbl> & <dbl> & <dbl> & <dbl> & <dbl> & <dbl> & <dbl> & <dbl> & <dbl>\\\\\n",
       "\\hline\n",
       "\t3 &  6 & 2023-02-03 & Sell & AMC &  950 & 5.5124 &  5236.78 & 0 & FALSE & 0 & ⋯ & 0 & 0 & 0 & 0 & 0 & 0 & 0 & 0 & 0 & 0\\\\\n",
       "\t4 &  8 & 2023-02-03 & Sell & AMC & 1000 & 6.1901 &  6190.10 & 0 & FALSE & 0 & ⋯ & 0 & 0 & 0 & 0 & 0 & 0 & 0 & 0 & 0 & 0\\\\\n",
       "\t5 & 10 & 2023-02-21 & Sell & AMC & 3000 & 5.8550 & 17565.00 & 0 & FALSE & 0 & ⋯ & 0 & 0 & 0 & 0 & 0 & 0 & 0 & 0 & 0 & 0\\\\\n",
       "\t6 & 16 & 2023-02-22 & Sell & AMC & 6000 & 6.6150 & 39690.00 & 0 & FALSE & 0 & ⋯ & 0 & 0 & 0 & 0 & 0 & 0 & 0 & 0 & 0 & 0\\\\\n",
       "\\end{tabular}\n"
      ],
      "text/markdown": [
       "\n",
       "A data.frame: 4 × 23\n",
       "\n",
       "| <!--/--> | index &lt;int&gt; | date &lt;date&gt; | type &lt;chr&gt; | co &lt;chr&gt; | quan &lt;dbl&gt; | pps &lt;dbl&gt; | basis &lt;dbl&gt; | sale_quan &lt;dbl&gt; | flag &lt;lgl&gt; | buy_cf_quan &lt;dbl&gt; | ⋯ ⋯ | buy_pps &lt;dbl&gt; | buy_basis &lt;dbl&gt; | sell_quan &lt;dbl&gt; | sell_pps &lt;dbl&gt; | sell_basis &lt;dbl&gt; | profit_loss &lt;dbl&gt; | sold_cf_quan &lt;dbl&gt; | sold_cf_pps &lt;dbl&gt; | sold_cf_basis &lt;dbl&gt; | true_false &lt;dbl&gt; |\n",
       "|---|---|---|---|---|---|---|---|---|---|---|---|---|---|---|---|---|---|---|---|---|---|\n",
       "| 3 |  6 | 2023-02-03 | Sell | AMC |  950 | 5.5124 |  5236.78 | 0 | FALSE | 0 | ⋯ | 0 | 0 | 0 | 0 | 0 | 0 | 0 | 0 | 0 | 0 |\n",
       "| 4 |  8 | 2023-02-03 | Sell | AMC | 1000 | 6.1901 |  6190.10 | 0 | FALSE | 0 | ⋯ | 0 | 0 | 0 | 0 | 0 | 0 | 0 | 0 | 0 | 0 |\n",
       "| 5 | 10 | 2023-02-21 | Sell | AMC | 3000 | 5.8550 | 17565.00 | 0 | FALSE | 0 | ⋯ | 0 | 0 | 0 | 0 | 0 | 0 | 0 | 0 | 0 | 0 |\n",
       "| 6 | 16 | 2023-02-22 | Sell | AMC | 6000 | 6.6150 | 39690.00 | 0 | FALSE | 0 | ⋯ | 0 | 0 | 0 | 0 | 0 | 0 | 0 | 0 | 0 | 0 |\n",
       "\n"
      ],
      "text/plain": [
       "  index date       type co  quan pps    basis    sale_quan flag  buy_cf_quan ⋯\n",
       "3  6    2023-02-03 Sell AMC  950 5.5124  5236.78 0         FALSE 0           ⋯\n",
       "4  8    2023-02-03 Sell AMC 1000 6.1901  6190.10 0         FALSE 0           ⋯\n",
       "5 10    2023-02-21 Sell AMC 3000 5.8550 17565.00 0         FALSE 0           ⋯\n",
       "6 16    2023-02-22 Sell AMC 6000 6.6150 39690.00 0         FALSE 0           ⋯\n",
       "  buy_pps buy_basis sell_quan sell_pps sell_basis profit_loss sold_cf_quan\n",
       "3 0       0         0         0        0          0           0           \n",
       "4 0       0         0         0        0          0           0           \n",
       "5 0       0         0         0        0          0           0           \n",
       "6 0       0         0         0        0          0           0           \n",
       "  sold_cf_pps sold_cf_basis true_false\n",
       "3 0           0             0         \n",
       "4 0           0             0         \n",
       "5 0           0             0         \n",
       "6 0           0             0         "
      ]
     },
     "metadata": {},
     "output_type": "display_data"
    }
   ],
   "source": [
    "dim(buys)\n",
    "dim(sells)\n",
    "head(buys,4)\n",
    "head(sells,4)\n"
   ]
  },
  {
   "cell_type": "code",
   "execution_count": null,
   "id": "a694861d-0a97-4321-adaf-d40f24c42e7d",
   "metadata": {},
   "outputs": [],
   "source": []
  },
  {
   "cell_type": "code",
   "execution_count": 62,
   "id": "3b906ea0-e4b3-4676-b1e1-392f210374e3",
   "metadata": {},
   "outputs": [],
   "source": [
    "# stopps"
   ]
  },
  {
   "cell_type": "markdown",
   "id": "f3a9f856-beef-4cc3-bebf-42ae76968594",
   "metadata": {},
   "source": [
    "# <font color = cyan> Proof of Concept above. End of loop 4"
   ]
  },
  {
   "cell_type": "code",
   "execution_count": null,
   "id": "92e1e0e6-4c03-4910-accc-3dce7ed1ec53",
   "metadata": {},
   "outputs": [],
   "source": []
  },
  {
   "cell_type": "markdown",
   "id": "b634b03c-810a-4558-9951-9a9e81146b52",
   "metadata": {},
   "source": [
    "#### <font color = yellow> 1. Create data & dfs"
   ]
  },
  {
   "cell_type": "code",
   "execution_count": 63,
   "id": "2bdb771f-dc2a-4135-8748-cdbe14f3f940",
   "metadata": {},
   "outputs": [],
   "source": [
    "b <- buys[1,]\n",
    "s <- sells[1,]"
   ]
  },
  {
   "cell_type": "code",
   "execution_count": null,
   "id": "af32e516-4ff1-4a29-825d-66e44ed73fee",
   "metadata": {},
   "outputs": [],
   "source": []
  },
  {
   "cell_type": "markdown",
   "id": "f5386118-b0bf-4bb2-a15e-13fb80185c7e",
   "metadata": {},
   "source": [
    "### <font color = yellow> 2. Update b - the variable that records each buy/sell transaction (w/in loop)\n",
    "    \n",
    "#### b>s, b<s, b==s,\n"
   ]
  },
  {
   "cell_type": "code",
   "execution_count": 64,
   "id": "a0f54a2b-a604-448b-aa3e-6c705cc7646c",
   "metadata": {},
   "outputs": [
    {
     "name": "stdout",
     "output_type": "stream",
     "text": [
      "POC - updated_s when b > s:  SOLD \n"
     ]
    }
   ],
   "source": [
    "#fct call\n",
    "updated_b_list <- update_b(b,s,buys)\n",
    "\n",
    "updated_b <- updated_b_list[[1]]\n",
    "updated_s <- updated_b_list[[2]]\n",
    "buys <- updated_b_list[[3]]\n",
    "#dim(updated_b)\n",
    "#dim(buys)    \n"
   ]
  },
  {
   "cell_type": "code",
   "execution_count": 65,
   "id": "0933216b-0d27-4345-ba87-445c2f1d5daf",
   "metadata": {},
   "outputs": [
    {
     "name": "stdout",
     "output_type": "stream",
     "text": [
      "Std buy-sell orientation \n"
     ]
    }
   ],
   "source": [
    "if(buys$type[i] == \"Buy\" && sells$type[i] == \"Sell\") {\n",
    "    cat(\"Std buy-sell orientation \\n\")    \n",
    "    }"
   ]
  },
  {
   "cell_type": "markdown",
   "id": "49d62d08-a146-488a-ae08-8d1a807e5b5a",
   "metadata": {},
   "source": [
    "### <font color = yellow>3. Update the sales_records (rbind) with updated_b for each transaction (loop)"
   ]
  },
  {
   "cell_type": "code",
   "execution_count": 66,
   "id": "e6b51565-3cd3-4ff0-bc58-695d4b244d44",
   "metadata": {},
   "outputs": [
    {
     "data": {
      "text/html": [
       "<table class=\"dataframe\">\n",
       "<caption>A data.frame: 1 × 23</caption>\n",
       "<thead>\n",
       "\t<tr><th></th><th scope=col>index</th><th scope=col>date</th><th scope=col>type</th><th scope=col>co</th><th scope=col>quan</th><th scope=col>pps</th><th scope=col>basis</th><th scope=col>sale_quan</th><th scope=col>flag</th><th scope=col>buy_cf_quan</th><th scope=col>⋯</th><th scope=col>buy_pps</th><th scope=col>buy_basis</th><th scope=col>sell_quan</th><th scope=col>sell_pps</th><th scope=col>sell_basis</th><th scope=col>profit_loss</th><th scope=col>sold_cf_quan</th><th scope=col>sold_cf_pps</th><th scope=col>sold_cf_basis</th><th scope=col>true_false</th></tr>\n",
       "\t<tr><th></th><th scope=col>&lt;int&gt;</th><th scope=col>&lt;date&gt;</th><th scope=col>&lt;chr&gt;</th><th scope=col>&lt;chr&gt;</th><th scope=col>&lt;dbl&gt;</th><th scope=col>&lt;dbl&gt;</th><th scope=col>&lt;dbl&gt;</th><th scope=col>&lt;dbl&gt;</th><th scope=col>&lt;lgl&gt;</th><th scope=col>&lt;dbl&gt;</th><th scope=col>⋯</th><th scope=col>&lt;dbl&gt;</th><th scope=col>&lt;dbl&gt;</th><th scope=col>&lt;dbl&gt;</th><th scope=col>&lt;dbl&gt;</th><th scope=col>&lt;dbl&gt;</th><th scope=col>&lt;dbl&gt;</th><th scope=col>&lt;dbl&gt;</th><th scope=col>&lt;dbl&gt;</th><th scope=col>&lt;dbl&gt;</th><th scope=col>&lt;dbl&gt;</th></tr>\n",
       "</thead>\n",
       "<tbody>\n",
       "\t<tr><th scope=row>1</th><td>5</td><td>2023-01-23</td><td>Buy</td><td>AMC</td><td>1000</td><td>5.788</td><td>5788</td><td>950</td><td>TRUE</td><td>0</td><td>⋯</td><td>5.788</td><td>5498.6</td><td>950</td><td>5.5124</td><td>5236.78</td><td>-261.82</td><td>50</td><td>5.788</td><td>289.4</td><td>0</td></tr>\n",
       "</tbody>\n",
       "</table>\n"
      ],
      "text/latex": [
       "A data.frame: 1 × 23\n",
       "\\begin{tabular}{r|lllllllllllllllllllll}\n",
       "  & index & date & type & co & quan & pps & basis & sale\\_quan & flag & buy\\_cf\\_quan & ⋯ & buy\\_pps & buy\\_basis & sell\\_quan & sell\\_pps & sell\\_basis & profit\\_loss & sold\\_cf\\_quan & sold\\_cf\\_pps & sold\\_cf\\_basis & true\\_false\\\\\n",
       "  & <int> & <date> & <chr> & <chr> & <dbl> & <dbl> & <dbl> & <dbl> & <lgl> & <dbl> & ⋯ & <dbl> & <dbl> & <dbl> & <dbl> & <dbl> & <dbl> & <dbl> & <dbl> & <dbl> & <dbl>\\\\\n",
       "\\hline\n",
       "\t1 & 5 & 2023-01-23 & Buy & AMC & 1000 & 5.788 & 5788 & 950 & TRUE & 0 & ⋯ & 5.788 & 5498.6 & 950 & 5.5124 & 5236.78 & -261.82 & 50 & 5.788 & 289.4 & 0\\\\\n",
       "\\end{tabular}\n"
      ],
      "text/markdown": [
       "\n",
       "A data.frame: 1 × 23\n",
       "\n",
       "| <!--/--> | index &lt;int&gt; | date &lt;date&gt; | type &lt;chr&gt; | co &lt;chr&gt; | quan &lt;dbl&gt; | pps &lt;dbl&gt; | basis &lt;dbl&gt; | sale_quan &lt;dbl&gt; | flag &lt;lgl&gt; | buy_cf_quan &lt;dbl&gt; | ⋯ ⋯ | buy_pps &lt;dbl&gt; | buy_basis &lt;dbl&gt; | sell_quan &lt;dbl&gt; | sell_pps &lt;dbl&gt; | sell_basis &lt;dbl&gt; | profit_loss &lt;dbl&gt; | sold_cf_quan &lt;dbl&gt; | sold_cf_pps &lt;dbl&gt; | sold_cf_basis &lt;dbl&gt; | true_false &lt;dbl&gt; |\n",
       "|---|---|---|---|---|---|---|---|---|---|---|---|---|---|---|---|---|---|---|---|---|---|\n",
       "| 1 | 5 | 2023-01-23 | Buy | AMC | 1000 | 5.788 | 5788 | 950 | TRUE | 0 | ⋯ | 5.788 | 5498.6 | 950 | 5.5124 | 5236.78 | -261.82 | 50 | 5.788 | 289.4 | 0 |\n",
       "\n"
      ],
      "text/plain": [
       "  index date       type co  quan pps   basis sale_quan flag buy_cf_quan ⋯\n",
       "1 5     2023-01-23 Buy  AMC 1000 5.788 5788  950       TRUE 0           ⋯\n",
       "  buy_pps buy_basis sell_quan sell_pps sell_basis profit_loss sold_cf_quan\n",
       "1 5.788   5498.6    950       5.5124   5236.78    -261.82     50          \n",
       "  sold_cf_pps sold_cf_basis true_false\n",
       "1 5.788       289.4         0         "
      ]
     },
     "metadata": {},
     "output_type": "display_data"
    },
    {
     "data": {
      "text/html": [
       "<table class=\"dataframe\">\n",
       "<caption>A data.frame: 5 × 23</caption>\n",
       "<thead>\n",
       "\t<tr><th scope=col>index</th><th scope=col>date</th><th scope=col>type</th><th scope=col>co</th><th scope=col>quan</th><th scope=col>pps</th><th scope=col>basis</th><th scope=col>sale_quan</th><th scope=col>flag</th><th scope=col>buy_cf_quan</th><th scope=col>⋯</th><th scope=col>buy_pps</th><th scope=col>buy_basis</th><th scope=col>sell_quan</th><th scope=col>sell_pps</th><th scope=col>sell_basis</th><th scope=col>profit_loss</th><th scope=col>sold_cf_quan</th><th scope=col>sold_cf_pps</th><th scope=col>sold_cf_basis</th><th scope=col>true_false</th></tr>\n",
       "\t<tr><th scope=col>&lt;int&gt;</th><th scope=col>&lt;date&gt;</th><th scope=col>&lt;chr&gt;</th><th scope=col>&lt;chr&gt;</th><th scope=col>&lt;dbl&gt;</th><th scope=col>&lt;dbl&gt;</th><th scope=col>&lt;dbl&gt;</th><th scope=col>&lt;dbl&gt;</th><th scope=col>&lt;lgl&gt;</th><th scope=col>&lt;dbl&gt;</th><th scope=col>⋯</th><th scope=col>&lt;dbl&gt;</th><th scope=col>&lt;dbl&gt;</th><th scope=col>&lt;dbl&gt;</th><th scope=col>&lt;dbl&gt;</th><th scope=col>&lt;dbl&gt;</th><th scope=col>&lt;dbl&gt;</th><th scope=col>&lt;dbl&gt;</th><th scope=col>&lt;dbl&gt;</th><th scope=col>&lt;dbl&gt;</th><th scope=col>&lt;dbl&gt;</th></tr>\n",
       "</thead>\n",
       "<tbody>\n",
       "\t<tr><td>5</td><td>2023-01-23</td><td>Buy   </td><td>AMC </td><td>1000</td><td>5.788</td><td>5788.00</td><td> 950</td><td>TRUE</td><td>0</td><td>⋯</td><td>5.788</td><td>5498.60</td><td> 950</td><td>5.5124</td><td>5236.78</td><td>-261.82</td><td>50</td><td>5.788</td><td>289.40</td><td>0</td></tr>\n",
       "\t<tr><td>3</td><td>2023-01-20</td><td>Buy CF</td><td>CFCF</td><td>  50</td><td>5.625</td><td> 281.25</td><td>   0</td><td>TRUE</td><td>0</td><td>⋯</td><td>5.625</td><td> 281.25</td><td>  50</td><td>5.5124</td><td> 275.62</td><td>  -5.63</td><td> 0</td><td>0.000</td><td>  0.00</td><td>1</td></tr>\n",
       "\t<tr><td>3</td><td>2023-01-20</td><td>Buy   </td><td>AMC </td><td>1000</td><td>5.625</td><td>5625.00</td><td> 950</td><td>TRUE</td><td>0</td><td>⋯</td><td>5.625</td><td>5343.75</td><td> 950</td><td>5.5124</td><td>5236.78</td><td>-106.97</td><td>50</td><td>5.625</td><td>281.25</td><td>0</td></tr>\n",
       "\t<tr><td>1</td><td>2022-12-31</td><td>Buy CF</td><td>CFCF</td><td>  50</td><td>4.070</td><td> 203.50</td><td>   0</td><td>TRUE</td><td>0</td><td>⋯</td><td>4.070</td><td> 203.50</td><td>  50</td><td>5.5124</td><td> 275.62</td><td>  72.12</td><td> 0</td><td>0.000</td><td>  0.00</td><td>1</td></tr>\n",
       "\t<tr><td>1</td><td>2022-12-31</td><td>Buy   </td><td>AMC </td><td>1050</td><td>4.070</td><td>4273.50</td><td>1000</td><td>TRUE</td><td>0</td><td>⋯</td><td>4.070</td><td>4070.00</td><td>1000</td><td>5.5124</td><td>5512.40</td><td>1442.40</td><td>50</td><td>4.070</td><td>203.50</td><td>0</td></tr>\n",
       "</tbody>\n",
       "</table>\n"
      ],
      "text/latex": [
       "A data.frame: 5 × 23\n",
       "\\begin{tabular}{lllllllllllllllllllll}\n",
       " index & date & type & co & quan & pps & basis & sale\\_quan & flag & buy\\_cf\\_quan & ⋯ & buy\\_pps & buy\\_basis & sell\\_quan & sell\\_pps & sell\\_basis & profit\\_loss & sold\\_cf\\_quan & sold\\_cf\\_pps & sold\\_cf\\_basis & true\\_false\\\\\n",
       " <int> & <date> & <chr> & <chr> & <dbl> & <dbl> & <dbl> & <dbl> & <lgl> & <dbl> & ⋯ & <dbl> & <dbl> & <dbl> & <dbl> & <dbl> & <dbl> & <dbl> & <dbl> & <dbl> & <dbl>\\\\\n",
       "\\hline\n",
       "\t 5 & 2023-01-23 & Buy    & AMC  & 1000 & 5.788 & 5788.00 &  950 & TRUE & 0 & ⋯ & 5.788 & 5498.60 &  950 & 5.5124 & 5236.78 & -261.82 & 50 & 5.788 & 289.40 & 0\\\\\n",
       "\t 3 & 2023-01-20 & Buy CF & CFCF &   50 & 5.625 &  281.25 &    0 & TRUE & 0 & ⋯ & 5.625 &  281.25 &   50 & 5.5124 &  275.62 &   -5.63 &  0 & 0.000 &   0.00 & 1\\\\\n",
       "\t 3 & 2023-01-20 & Buy    & AMC  & 1000 & 5.625 & 5625.00 &  950 & TRUE & 0 & ⋯ & 5.625 & 5343.75 &  950 & 5.5124 & 5236.78 & -106.97 & 50 & 5.625 & 281.25 & 0\\\\\n",
       "\t 1 & 2022-12-31 & Buy CF & CFCF &   50 & 4.070 &  203.50 &    0 & TRUE & 0 & ⋯ & 4.070 &  203.50 &   50 & 5.5124 &  275.62 &   72.12 &  0 & 0.000 &   0.00 & 1\\\\\n",
       "\t 1 & 2022-12-31 & Buy    & AMC  & 1050 & 4.070 & 4273.50 & 1000 & TRUE & 0 & ⋯ & 4.070 & 4070.00 & 1000 & 5.5124 & 5512.40 & 1442.40 & 50 & 4.070 & 203.50 & 0\\\\\n",
       "\\end{tabular}\n"
      ],
      "text/markdown": [
       "\n",
       "A data.frame: 5 × 23\n",
       "\n",
       "| index &lt;int&gt; | date &lt;date&gt; | type &lt;chr&gt; | co &lt;chr&gt; | quan &lt;dbl&gt; | pps &lt;dbl&gt; | basis &lt;dbl&gt; | sale_quan &lt;dbl&gt; | flag &lt;lgl&gt; | buy_cf_quan &lt;dbl&gt; | ⋯ ⋯ | buy_pps &lt;dbl&gt; | buy_basis &lt;dbl&gt; | sell_quan &lt;dbl&gt; | sell_pps &lt;dbl&gt; | sell_basis &lt;dbl&gt; | profit_loss &lt;dbl&gt; | sold_cf_quan &lt;dbl&gt; | sold_cf_pps &lt;dbl&gt; | sold_cf_basis &lt;dbl&gt; | true_false &lt;dbl&gt; |\n",
       "|---|---|---|---|---|---|---|---|---|---|---|---|---|---|---|---|---|---|---|---|---|\n",
       "| 5 | 2023-01-23 | Buy    | AMC  | 1000 | 5.788 | 5788.00 |  950 | TRUE | 0 | ⋯ | 5.788 | 5498.60 |  950 | 5.5124 | 5236.78 | -261.82 | 50 | 5.788 | 289.40 | 0 |\n",
       "| 3 | 2023-01-20 | Buy CF | CFCF |   50 | 5.625 |  281.25 |    0 | TRUE | 0 | ⋯ | 5.625 |  281.25 |   50 | 5.5124 |  275.62 |   -5.63 |  0 | 0.000 |   0.00 | 1 |\n",
       "| 3 | 2023-01-20 | Buy    | AMC  | 1000 | 5.625 | 5625.00 |  950 | TRUE | 0 | ⋯ | 5.625 | 5343.75 |  950 | 5.5124 | 5236.78 | -106.97 | 50 | 5.625 | 281.25 | 0 |\n",
       "| 1 | 2022-12-31 | Buy CF | CFCF |   50 | 4.070 |  203.50 |    0 | TRUE | 0 | ⋯ | 4.070 |  203.50 |   50 | 5.5124 |  275.62 |   72.12 |  0 | 0.000 |   0.00 | 1 |\n",
       "| 1 | 2022-12-31 | Buy    | AMC  | 1050 | 4.070 | 4273.50 | 1000 | TRUE | 0 | ⋯ | 4.070 | 4070.00 | 1000 | 5.5124 | 5512.40 | 1442.40 | 50 | 4.070 | 203.50 | 0 |\n",
       "\n"
      ],
      "text/plain": [
       "  index date       type   co   quan pps   basis   sale_quan flag buy_cf_quan ⋯\n",
       "1 5     2023-01-23 Buy    AMC  1000 5.788 5788.00  950      TRUE 0           ⋯\n",
       "2 3     2023-01-20 Buy CF CFCF   50 5.625  281.25    0      TRUE 0           ⋯\n",
       "3 3     2023-01-20 Buy    AMC  1000 5.625 5625.00  950      TRUE 0           ⋯\n",
       "4 1     2022-12-31 Buy CF CFCF   50 4.070  203.50    0      TRUE 0           ⋯\n",
       "5 1     2022-12-31 Buy    AMC  1050 4.070 4273.50 1000      TRUE 0           ⋯\n",
       "  buy_pps buy_basis sell_quan sell_pps sell_basis profit_loss sold_cf_quan\n",
       "1 5.788   5498.60    950      5.5124   5236.78    -261.82     50          \n",
       "2 5.625    281.25     50      5.5124    275.62      -5.63      0          \n",
       "3 5.625   5343.75    950      5.5124   5236.78    -106.97     50          \n",
       "4 4.070    203.50     50      5.5124    275.62      72.12      0          \n",
       "5 4.070   4070.00   1000      5.5124   5512.40    1442.40     50          \n",
       "  sold_cf_pps sold_cf_basis true_false\n",
       "1 5.788       289.40        0         \n",
       "2 0.000         0.00        1         \n",
       "3 5.625       281.25        0         \n",
       "4 0.000         0.00        1         \n",
       "5 4.070       203.50        0         "
      ]
     },
     "metadata": {},
     "output_type": "display_data"
    }
   ],
   "source": [
    "# First go around needs rbind()\n",
    "# sale_records <- rbind(sale_records, updated_b)    \n",
    "\n",
    "sale_records <- sale_records %>% add_row(updated_b , .before = 1)\n",
    "sale_records[1,]\n",
    "sale_records\n"
   ]
  },
  {
   "cell_type": "code",
   "execution_count": null,
   "id": "6c9dbe94-ee86-479f-8128-9f33d0a54bcd",
   "metadata": {},
   "outputs": [],
   "source": []
  },
  {
   "cell_type": "markdown",
   "id": "be81ff60-c70a-4ca0-90ff-879a6fd1d249",
   "metadata": {},
   "source": [
    "#### <font color = yellow> 4. Update buys or sells with a new row (add_row) - whenever a transaction (loop) includes  c/f"
   ]
  },
  {
   "cell_type": "code",
   "execution_count": 67,
   "id": "b894a0ac-f2ba-41c8-b87b-7d2af31413b9",
   "metadata": {},
   "outputs": [
    {
     "name": "stdout",
     "output_type": "stream",
     "text": [
      "\n",
      " There is Buy carryforward. Update buys  50 \n",
      "the s2cf_quan is:  950 \n",
      "the s2cf_pps is  6.1901 \n",
      "printing updated buys[1 ], dim of buys increases with c/f  \n"
     ]
    }
   ],
   "source": [
    "###### Uses add_row () to transform any existing carryforward (buy or sell type) into the next element that will be processed for next (loop) buy/sell transaction\n",
    "\n",
    "\n",
    "# fct call\n",
    "return_list <- update_buys_sells(buys, sells)\n",
    "\n",
    "# returned the updated to buys / sells\n",
    "buys <- return_list[[1]]\n",
    "sells <- return_list[[2]]\n",
    "\n",
    "#dim(buys)\n",
    "# dim(s"
   ]
  },
  {
   "cell_type": "code",
   "execution_count": null,
   "id": "eb85b92b-7f59-46dd-83b0-c7ef051e7047",
   "metadata": {},
   "outputs": [],
   "source": []
  },
  {
   "cell_type": "markdown",
   "id": "cc9132df-80c6-4ba9-9d96-c05f363e96f8",
   "metadata": {},
   "source": [
    "#### <font color = yellow>5. snips () Create a new variable from buys/sells row 1, then delete row 1 from buys and sells (copy_snip () )\n"
   ]
  },
  {
   "cell_type": "code",
   "execution_count": 68,
   "id": "3520a36c-c288-4f9b-9db8-88742ea896b9",
   "metadata": {},
   "outputs": [
    {
     "name": "stdout",
     "output_type": "stream",
     "text": [
      " Contains buy carryforward - remove buys c/f row and DO snip sells \n"
     ]
    }
   ],
   "source": [
    "\n",
    "copy_snip_list <- copy_snip(b, s, buys, sells) \n",
    "\n",
    "b1 <- copy_snip_list[[1]]\n",
    "s1 <- copy_snip_list[[2]]\n",
    "buys <- copy_snip_list[[3]]\n",
    "sells <- copy_snip_list[[4]]\n",
    "\n",
    "# after\n",
    "# dim(buys)\n",
    "# dim(sells)\n",
    "# # b1\n",
    "# s1\n"
   ]
  },
  {
   "cell_type": "code",
   "execution_count": null,
   "id": "40227055-c9ac-4744-b788-a179d9b30068",
   "metadata": {},
   "outputs": [],
   "source": []
  },
  {
   "cell_type": "code",
   "execution_count": null,
   "id": "39acdf9b-be56-4551-9e35-423a7b5fe6ba",
   "metadata": {},
   "outputs": [],
   "source": []
  },
  {
   "cell_type": "markdown",
   "id": "178bfa54-1b9b-49b2-9bc3-4f9e1cc52dcd",
   "metadata": {},
   "source": [
    "#### <font color = lime> QC: Loop 5 review buys & sells"
   ]
  },
  {
   "cell_type": "code",
   "execution_count": 69,
   "id": "d4d6084e-c981-4efa-9c9c-fe0ea60aa121",
   "metadata": {},
   "outputs": [
    {
     "data": {
      "text/html": [
       "<table class=\"dataframe\">\n",
       "<caption>A data.frame: 5 × 23</caption>\n",
       "<thead>\n",
       "\t<tr><th scope=col>index</th><th scope=col>date</th><th scope=col>type</th><th scope=col>co</th><th scope=col>quan</th><th scope=col>pps</th><th scope=col>basis</th><th scope=col>sale_quan</th><th scope=col>flag</th><th scope=col>buy_cf_quan</th><th scope=col>⋯</th><th scope=col>buy_pps</th><th scope=col>buy_basis</th><th scope=col>sell_quan</th><th scope=col>sell_pps</th><th scope=col>sell_basis</th><th scope=col>profit_loss</th><th scope=col>sold_cf_quan</th><th scope=col>sold_cf_pps</th><th scope=col>sold_cf_basis</th><th scope=col>true_false</th></tr>\n",
       "\t<tr><th scope=col>&lt;int&gt;</th><th scope=col>&lt;date&gt;</th><th scope=col>&lt;chr&gt;</th><th scope=col>&lt;chr&gt;</th><th scope=col>&lt;dbl&gt;</th><th scope=col>&lt;dbl&gt;</th><th scope=col>&lt;dbl&gt;</th><th scope=col>&lt;dbl&gt;</th><th scope=col>&lt;lgl&gt;</th><th scope=col>&lt;dbl&gt;</th><th scope=col>⋯</th><th scope=col>&lt;dbl&gt;</th><th scope=col>&lt;dbl&gt;</th><th scope=col>&lt;dbl&gt;</th><th scope=col>&lt;dbl&gt;</th><th scope=col>&lt;dbl&gt;</th><th scope=col>&lt;dbl&gt;</th><th scope=col>&lt;dbl&gt;</th><th scope=col>&lt;dbl&gt;</th><th scope=col>&lt;dbl&gt;</th><th scope=col>&lt;dbl&gt;</th></tr>\n",
       "</thead>\n",
       "<tbody>\n",
       "\t<tr><td>5</td><td>2023-01-23</td><td>Buy   </td><td>AMC </td><td>1000</td><td>5.788</td><td>5788.00</td><td> 950</td><td>TRUE</td><td>0</td><td>⋯</td><td>5.788</td><td>5498.60</td><td> 950</td><td>5.5124</td><td>5236.78</td><td>-261.82</td><td>50</td><td>5.788</td><td>289.40</td><td>0</td></tr>\n",
       "\t<tr><td>3</td><td>2023-01-20</td><td>Buy CF</td><td>CFCF</td><td>  50</td><td>5.625</td><td> 281.25</td><td>   0</td><td>TRUE</td><td>0</td><td>⋯</td><td>5.625</td><td> 281.25</td><td>  50</td><td>5.5124</td><td> 275.62</td><td>  -5.63</td><td> 0</td><td>0.000</td><td>  0.00</td><td>1</td></tr>\n",
       "\t<tr><td>3</td><td>2023-01-20</td><td>Buy   </td><td>AMC </td><td>1000</td><td>5.625</td><td>5625.00</td><td> 950</td><td>TRUE</td><td>0</td><td>⋯</td><td>5.625</td><td>5343.75</td><td> 950</td><td>5.5124</td><td>5236.78</td><td>-106.97</td><td>50</td><td>5.625</td><td>281.25</td><td>0</td></tr>\n",
       "\t<tr><td>1</td><td>2022-12-31</td><td>Buy CF</td><td>CFCF</td><td>  50</td><td>4.070</td><td> 203.50</td><td>   0</td><td>TRUE</td><td>0</td><td>⋯</td><td>4.070</td><td> 203.50</td><td>  50</td><td>5.5124</td><td> 275.62</td><td>  72.12</td><td> 0</td><td>0.000</td><td>  0.00</td><td>1</td></tr>\n",
       "\t<tr><td>1</td><td>2022-12-31</td><td>Buy   </td><td>AMC </td><td>1050</td><td>4.070</td><td>4273.50</td><td>1000</td><td>TRUE</td><td>0</td><td>⋯</td><td>4.070</td><td>4070.00</td><td>1000</td><td>5.5124</td><td>5512.40</td><td>1442.40</td><td>50</td><td>4.070</td><td>203.50</td><td>0</td></tr>\n",
       "</tbody>\n",
       "</table>\n"
      ],
      "text/latex": [
       "A data.frame: 5 × 23\n",
       "\\begin{tabular}{lllllllllllllllllllll}\n",
       " index & date & type & co & quan & pps & basis & sale\\_quan & flag & buy\\_cf\\_quan & ⋯ & buy\\_pps & buy\\_basis & sell\\_quan & sell\\_pps & sell\\_basis & profit\\_loss & sold\\_cf\\_quan & sold\\_cf\\_pps & sold\\_cf\\_basis & true\\_false\\\\\n",
       " <int> & <date> & <chr> & <chr> & <dbl> & <dbl> & <dbl> & <dbl> & <lgl> & <dbl> & ⋯ & <dbl> & <dbl> & <dbl> & <dbl> & <dbl> & <dbl> & <dbl> & <dbl> & <dbl> & <dbl>\\\\\n",
       "\\hline\n",
       "\t 5 & 2023-01-23 & Buy    & AMC  & 1000 & 5.788 & 5788.00 &  950 & TRUE & 0 & ⋯ & 5.788 & 5498.60 &  950 & 5.5124 & 5236.78 & -261.82 & 50 & 5.788 & 289.40 & 0\\\\\n",
       "\t 3 & 2023-01-20 & Buy CF & CFCF &   50 & 5.625 &  281.25 &    0 & TRUE & 0 & ⋯ & 5.625 &  281.25 &   50 & 5.5124 &  275.62 &   -5.63 &  0 & 0.000 &   0.00 & 1\\\\\n",
       "\t 3 & 2023-01-20 & Buy    & AMC  & 1000 & 5.625 & 5625.00 &  950 & TRUE & 0 & ⋯ & 5.625 & 5343.75 &  950 & 5.5124 & 5236.78 & -106.97 & 50 & 5.625 & 281.25 & 0\\\\\n",
       "\t 1 & 2022-12-31 & Buy CF & CFCF &   50 & 4.070 &  203.50 &    0 & TRUE & 0 & ⋯ & 4.070 &  203.50 &   50 & 5.5124 &  275.62 &   72.12 &  0 & 0.000 &   0.00 & 1\\\\\n",
       "\t 1 & 2022-12-31 & Buy    & AMC  & 1050 & 4.070 & 4273.50 & 1000 & TRUE & 0 & ⋯ & 4.070 & 4070.00 & 1000 & 5.5124 & 5512.40 & 1442.40 & 50 & 4.070 & 203.50 & 0\\\\\n",
       "\\end{tabular}\n"
      ],
      "text/markdown": [
       "\n",
       "A data.frame: 5 × 23\n",
       "\n",
       "| index &lt;int&gt; | date &lt;date&gt; | type &lt;chr&gt; | co &lt;chr&gt; | quan &lt;dbl&gt; | pps &lt;dbl&gt; | basis &lt;dbl&gt; | sale_quan &lt;dbl&gt; | flag &lt;lgl&gt; | buy_cf_quan &lt;dbl&gt; | ⋯ ⋯ | buy_pps &lt;dbl&gt; | buy_basis &lt;dbl&gt; | sell_quan &lt;dbl&gt; | sell_pps &lt;dbl&gt; | sell_basis &lt;dbl&gt; | profit_loss &lt;dbl&gt; | sold_cf_quan &lt;dbl&gt; | sold_cf_pps &lt;dbl&gt; | sold_cf_basis &lt;dbl&gt; | true_false &lt;dbl&gt; |\n",
       "|---|---|---|---|---|---|---|---|---|---|---|---|---|---|---|---|---|---|---|---|---|\n",
       "| 5 | 2023-01-23 | Buy    | AMC  | 1000 | 5.788 | 5788.00 |  950 | TRUE | 0 | ⋯ | 5.788 | 5498.60 |  950 | 5.5124 | 5236.78 | -261.82 | 50 | 5.788 | 289.40 | 0 |\n",
       "| 3 | 2023-01-20 | Buy CF | CFCF |   50 | 5.625 |  281.25 |    0 | TRUE | 0 | ⋯ | 5.625 |  281.25 |   50 | 5.5124 |  275.62 |   -5.63 |  0 | 0.000 |   0.00 | 1 |\n",
       "| 3 | 2023-01-20 | Buy    | AMC  | 1000 | 5.625 | 5625.00 |  950 | TRUE | 0 | ⋯ | 5.625 | 5343.75 |  950 | 5.5124 | 5236.78 | -106.97 | 50 | 5.625 | 281.25 | 0 |\n",
       "| 1 | 2022-12-31 | Buy CF | CFCF |   50 | 4.070 |  203.50 |    0 | TRUE | 0 | ⋯ | 4.070 |  203.50 |   50 | 5.5124 |  275.62 |   72.12 |  0 | 0.000 |   0.00 | 1 |\n",
       "| 1 | 2022-12-31 | Buy    | AMC  | 1050 | 4.070 | 4273.50 | 1000 | TRUE | 0 | ⋯ | 4.070 | 4070.00 | 1000 | 5.5124 | 5512.40 | 1442.40 | 50 | 4.070 | 203.50 | 0 |\n",
       "\n"
      ],
      "text/plain": [
       "  index date       type   co   quan pps   basis   sale_quan flag buy_cf_quan ⋯\n",
       "1 5     2023-01-23 Buy    AMC  1000 5.788 5788.00  950      TRUE 0           ⋯\n",
       "2 3     2023-01-20 Buy CF CFCF   50 5.625  281.25    0      TRUE 0           ⋯\n",
       "3 3     2023-01-20 Buy    AMC  1000 5.625 5625.00  950      TRUE 0           ⋯\n",
       "4 1     2022-12-31 Buy CF CFCF   50 4.070  203.50    0      TRUE 0           ⋯\n",
       "5 1     2022-12-31 Buy    AMC  1050 4.070 4273.50 1000      TRUE 0           ⋯\n",
       "  buy_pps buy_basis sell_quan sell_pps sell_basis profit_loss sold_cf_quan\n",
       "1 5.788   5498.60    950      5.5124   5236.78    -261.82     50          \n",
       "2 5.625    281.25     50      5.5124    275.62      -5.63      0          \n",
       "3 5.625   5343.75    950      5.5124   5236.78    -106.97     50          \n",
       "4 4.070    203.50     50      5.5124    275.62      72.12      0          \n",
       "5 4.070   4070.00   1000      5.5124   5512.40    1442.40     50          \n",
       "  sold_cf_pps sold_cf_basis true_false\n",
       "1 5.788       289.40        0         \n",
       "2 0.000         0.00        1         \n",
       "3 5.625       281.25        0         \n",
       "4 0.000         0.00        1         \n",
       "5 4.070       203.50        0         "
      ]
     },
     "metadata": {},
     "output_type": "display_data"
    }
   ],
   "source": [
    "sale_records"
   ]
  },
  {
   "cell_type": "code",
   "execution_count": null,
   "id": "edddbbfa-58d8-453f-bbfb-63c694a02e90",
   "metadata": {},
   "outputs": [],
   "source": []
  },
  {
   "cell_type": "markdown",
   "id": "0b6cc64c-de66-475d-acc5-d7d636d664fa",
   "metadata": {},
   "source": [
    "#### <font color = lime> QC: Loop 5 review buys & sells"
   ]
  },
  {
   "cell_type": "code",
   "execution_count": 70,
   "id": "3bb09aea-6867-4f49-9c44-cb2db7d23a9a",
   "metadata": {},
   "outputs": [
    {
     "data": {
      "text/html": [
       "<style>\n",
       ".list-inline {list-style: none; margin:0; padding: 0}\n",
       ".list-inline>li {display: inline-block}\n",
       ".list-inline>li:not(:last-child)::after {content: \"\\00b7\"; padding: 0 .5ex}\n",
       "</style>\n",
       "<ol class=list-inline><li>21</li><li>23</li></ol>\n"
      ],
      "text/latex": [
       "\\begin{enumerate*}\n",
       "\\item 21\n",
       "\\item 23\n",
       "\\end{enumerate*}\n"
      ],
      "text/markdown": [
       "1. 21\n",
       "2. 23\n",
       "\n",
       "\n"
      ],
      "text/plain": [
       "[1] 21 23"
      ]
     },
     "metadata": {},
     "output_type": "display_data"
    },
    {
     "data": {
      "text/html": [
       "<style>\n",
       ".list-inline {list-style: none; margin:0; padding: 0}\n",
       ".list-inline>li {display: inline-block}\n",
       ".list-inline>li:not(:last-child)::after {content: \"\\00b7\"; padding: 0 .5ex}\n",
       "</style>\n",
       "<ol class=list-inline><li>16</li><li>23</li></ol>\n"
      ],
      "text/latex": [
       "\\begin{enumerate*}\n",
       "\\item 16\n",
       "\\item 23\n",
       "\\end{enumerate*}\n"
      ],
      "text/markdown": [
       "1. 16\n",
       "2. 23\n",
       "\n",
       "\n"
      ],
      "text/plain": [
       "[1] 16 23"
      ]
     },
     "metadata": {},
     "output_type": "display_data"
    },
    {
     "data": {
      "text/html": [
       "<table class=\"dataframe\">\n",
       "<caption>A data.frame: 4 × 23</caption>\n",
       "<thead>\n",
       "\t<tr><th></th><th scope=col>index</th><th scope=col>date</th><th scope=col>type</th><th scope=col>co</th><th scope=col>quan</th><th scope=col>pps</th><th scope=col>basis</th><th scope=col>sale_quan</th><th scope=col>flag</th><th scope=col>buy_cf_quan</th><th scope=col>⋯</th><th scope=col>buy_pps</th><th scope=col>buy_basis</th><th scope=col>sell_quan</th><th scope=col>sell_pps</th><th scope=col>sell_basis</th><th scope=col>profit_loss</th><th scope=col>sold_cf_quan</th><th scope=col>sold_cf_pps</th><th scope=col>sold_cf_basis</th><th scope=col>true_false</th></tr>\n",
       "\t<tr><th></th><th scope=col>&lt;int&gt;</th><th scope=col>&lt;date&gt;</th><th scope=col>&lt;chr&gt;</th><th scope=col>&lt;chr&gt;</th><th scope=col>&lt;dbl&gt;</th><th scope=col>&lt;dbl&gt;</th><th scope=col>&lt;dbl&gt;</th><th scope=col>&lt;dbl&gt;</th><th scope=col>&lt;lgl&gt;</th><th scope=col>&lt;dbl&gt;</th><th scope=col>⋯</th><th scope=col>&lt;dbl&gt;</th><th scope=col>&lt;dbl&gt;</th><th scope=col>&lt;dbl&gt;</th><th scope=col>&lt;dbl&gt;</th><th scope=col>&lt;dbl&gt;</th><th scope=col>&lt;dbl&gt;</th><th scope=col>&lt;dbl&gt;</th><th scope=col>&lt;dbl&gt;</th><th scope=col>&lt;dbl&gt;</th><th scope=col>&lt;dbl&gt;</th></tr>\n",
       "</thead>\n",
       "<tbody>\n",
       "\t<tr><th scope=row>2</th><td> 5</td><td>2023-01-23</td><td>Buy CF</td><td>AMC</td><td>  50</td><td>5.7880</td><td>  289.4</td><td>0</td><td> TRUE</td><td>0</td><td>⋯</td><td>0</td><td>0</td><td>0</td><td>0</td><td>0</td><td>0</td><td>0</td><td>0</td><td>0</td><td>0</td></tr>\n",
       "\t<tr><th scope=row>3</th><td> 7</td><td>2023-01-27</td><td>Buy   </td><td>AMC</td><td>2000</td><td>5.2394</td><td>10478.8</td><td>0</td><td>FALSE</td><td>0</td><td>⋯</td><td>0</td><td>0</td><td>0</td><td>0</td><td>0</td><td>0</td><td>0</td><td>0</td><td>0</td><td>0</td></tr>\n",
       "\t<tr><th scope=row>4</th><td> 9</td><td>2023-02-10</td><td>Buy   </td><td>AMC</td><td>2000</td><td>4.7450</td><td> 9490.0</td><td>0</td><td>FALSE</td><td>0</td><td>⋯</td><td>0</td><td>0</td><td>0</td><td>0</td><td>0</td><td>0</td><td>0</td><td>0</td><td>0</td><td>0</td></tr>\n",
       "\t<tr><th scope=row>5</th><td>11</td><td>2023-02-10</td><td>Buy   </td><td>AMC</td><td>1000</td><td>4.7800</td><td> 4780.0</td><td>0</td><td>FALSE</td><td>0</td><td>⋯</td><td>0</td><td>0</td><td>0</td><td>0</td><td>0</td><td>0</td><td>0</td><td>0</td><td>0</td><td>0</td></tr>\n",
       "</tbody>\n",
       "</table>\n"
      ],
      "text/latex": [
       "A data.frame: 4 × 23\n",
       "\\begin{tabular}{r|lllllllllllllllllllll}\n",
       "  & index & date & type & co & quan & pps & basis & sale\\_quan & flag & buy\\_cf\\_quan & ⋯ & buy\\_pps & buy\\_basis & sell\\_quan & sell\\_pps & sell\\_basis & profit\\_loss & sold\\_cf\\_quan & sold\\_cf\\_pps & sold\\_cf\\_basis & true\\_false\\\\\n",
       "  & <int> & <date> & <chr> & <chr> & <dbl> & <dbl> & <dbl> & <dbl> & <lgl> & <dbl> & ⋯ & <dbl> & <dbl> & <dbl> & <dbl> & <dbl> & <dbl> & <dbl> & <dbl> & <dbl> & <dbl>\\\\\n",
       "\\hline\n",
       "\t2 &  5 & 2023-01-23 & Buy CF & AMC &   50 & 5.7880 &   289.4 & 0 &  TRUE & 0 & ⋯ & 0 & 0 & 0 & 0 & 0 & 0 & 0 & 0 & 0 & 0\\\\\n",
       "\t3 &  7 & 2023-01-27 & Buy    & AMC & 2000 & 5.2394 & 10478.8 & 0 & FALSE & 0 & ⋯ & 0 & 0 & 0 & 0 & 0 & 0 & 0 & 0 & 0 & 0\\\\\n",
       "\t4 &  9 & 2023-02-10 & Buy    & AMC & 2000 & 4.7450 &  9490.0 & 0 & FALSE & 0 & ⋯ & 0 & 0 & 0 & 0 & 0 & 0 & 0 & 0 & 0 & 0\\\\\n",
       "\t5 & 11 & 2023-02-10 & Buy    & AMC & 1000 & 4.7800 &  4780.0 & 0 & FALSE & 0 & ⋯ & 0 & 0 & 0 & 0 & 0 & 0 & 0 & 0 & 0 & 0\\\\\n",
       "\\end{tabular}\n"
      ],
      "text/markdown": [
       "\n",
       "A data.frame: 4 × 23\n",
       "\n",
       "| <!--/--> | index &lt;int&gt; | date &lt;date&gt; | type &lt;chr&gt; | co &lt;chr&gt; | quan &lt;dbl&gt; | pps &lt;dbl&gt; | basis &lt;dbl&gt; | sale_quan &lt;dbl&gt; | flag &lt;lgl&gt; | buy_cf_quan &lt;dbl&gt; | ⋯ ⋯ | buy_pps &lt;dbl&gt; | buy_basis &lt;dbl&gt; | sell_quan &lt;dbl&gt; | sell_pps &lt;dbl&gt; | sell_basis &lt;dbl&gt; | profit_loss &lt;dbl&gt; | sold_cf_quan &lt;dbl&gt; | sold_cf_pps &lt;dbl&gt; | sold_cf_basis &lt;dbl&gt; | true_false &lt;dbl&gt; |\n",
       "|---|---|---|---|---|---|---|---|---|---|---|---|---|---|---|---|---|---|---|---|---|---|\n",
       "| 2 |  5 | 2023-01-23 | Buy CF | AMC |   50 | 5.7880 |   289.4 | 0 |  TRUE | 0 | ⋯ | 0 | 0 | 0 | 0 | 0 | 0 | 0 | 0 | 0 | 0 |\n",
       "| 3 |  7 | 2023-01-27 | Buy    | AMC | 2000 | 5.2394 | 10478.8 | 0 | FALSE | 0 | ⋯ | 0 | 0 | 0 | 0 | 0 | 0 | 0 | 0 | 0 | 0 |\n",
       "| 4 |  9 | 2023-02-10 | Buy    | AMC | 2000 | 4.7450 |  9490.0 | 0 | FALSE | 0 | ⋯ | 0 | 0 | 0 | 0 | 0 | 0 | 0 | 0 | 0 | 0 |\n",
       "| 5 | 11 | 2023-02-10 | Buy    | AMC | 1000 | 4.7800 |  4780.0 | 0 | FALSE | 0 | ⋯ | 0 | 0 | 0 | 0 | 0 | 0 | 0 | 0 | 0 | 0 |\n",
       "\n"
      ],
      "text/plain": [
       "  index date       type   co  quan pps    basis   sale_quan flag  buy_cf_quan ⋯\n",
       "2  5    2023-01-23 Buy CF AMC   50 5.7880   289.4 0          TRUE 0           ⋯\n",
       "3  7    2023-01-27 Buy    AMC 2000 5.2394 10478.8 0         FALSE 0           ⋯\n",
       "4  9    2023-02-10 Buy    AMC 2000 4.7450  9490.0 0         FALSE 0           ⋯\n",
       "5 11    2023-02-10 Buy    AMC 1000 4.7800  4780.0 0         FALSE 0           ⋯\n",
       "  buy_pps buy_basis sell_quan sell_pps sell_basis profit_loss sold_cf_quan\n",
       "2 0       0         0         0        0          0           0           \n",
       "3 0       0         0         0        0          0           0           \n",
       "4 0       0         0         0        0          0           0           \n",
       "5 0       0         0         0        0          0           0           \n",
       "  sold_cf_pps sold_cf_basis true_false\n",
       "2 0           0             0         \n",
       "3 0           0             0         \n",
       "4 0           0             0         \n",
       "5 0           0             0         "
      ]
     },
     "metadata": {},
     "output_type": "display_data"
    },
    {
     "data": {
      "text/html": [
       "<table class=\"dataframe\">\n",
       "<caption>A data.frame: 4 × 23</caption>\n",
       "<thead>\n",
       "\t<tr><th></th><th scope=col>index</th><th scope=col>date</th><th scope=col>type</th><th scope=col>co</th><th scope=col>quan</th><th scope=col>pps</th><th scope=col>basis</th><th scope=col>sale_quan</th><th scope=col>flag</th><th scope=col>buy_cf_quan</th><th scope=col>⋯</th><th scope=col>buy_pps</th><th scope=col>buy_basis</th><th scope=col>sell_quan</th><th scope=col>sell_pps</th><th scope=col>sell_basis</th><th scope=col>profit_loss</th><th scope=col>sold_cf_quan</th><th scope=col>sold_cf_pps</th><th scope=col>sold_cf_basis</th><th scope=col>true_false</th></tr>\n",
       "\t<tr><th></th><th scope=col>&lt;int&gt;</th><th scope=col>&lt;date&gt;</th><th scope=col>&lt;chr&gt;</th><th scope=col>&lt;chr&gt;</th><th scope=col>&lt;dbl&gt;</th><th scope=col>&lt;dbl&gt;</th><th scope=col>&lt;dbl&gt;</th><th scope=col>&lt;dbl&gt;</th><th scope=col>&lt;lgl&gt;</th><th scope=col>&lt;dbl&gt;</th><th scope=col>⋯</th><th scope=col>&lt;dbl&gt;</th><th scope=col>&lt;dbl&gt;</th><th scope=col>&lt;dbl&gt;</th><th scope=col>&lt;dbl&gt;</th><th scope=col>&lt;dbl&gt;</th><th scope=col>&lt;dbl&gt;</th><th scope=col>&lt;dbl&gt;</th><th scope=col>&lt;dbl&gt;</th><th scope=col>&lt;dbl&gt;</th><th scope=col>&lt;dbl&gt;</th></tr>\n",
       "</thead>\n",
       "<tbody>\n",
       "\t<tr><th scope=row>1</th><td> 5</td><td>2023-01-23</td><td>Sell CF</td><td>AMC</td><td>  50</td><td>5.5124</td><td>    5.5124</td><td>0</td><td> TRUE</td><td>0</td><td>⋯</td><td>0</td><td>0</td><td>0</td><td>0</td><td>0</td><td>0</td><td>0</td><td>0</td><td>0</td><td>0</td></tr>\n",
       "\t<tr><th scope=row>3</th><td> 8</td><td>2023-02-03</td><td>Sell   </td><td>AMC</td><td> 950</td><td>5.5124</td><td> 5236.7800</td><td>0</td><td>FALSE</td><td>0</td><td>⋯</td><td>0</td><td>0</td><td>0</td><td>0</td><td>0</td><td>0</td><td>0</td><td>0</td><td>0</td><td>0</td></tr>\n",
       "\t<tr><th scope=row>4</th><td>10</td><td>2023-02-21</td><td>Sell   </td><td>AMC</td><td>3000</td><td>5.8550</td><td>17565.0000</td><td>0</td><td>FALSE</td><td>0</td><td>⋯</td><td>0</td><td>0</td><td>0</td><td>0</td><td>0</td><td>0</td><td>0</td><td>0</td><td>0</td><td>0</td></tr>\n",
       "\t<tr><th scope=row>5</th><td>16</td><td>2023-02-22</td><td>Sell   </td><td>AMC</td><td>6000</td><td>6.6150</td><td>39690.0000</td><td>0</td><td>FALSE</td><td>0</td><td>⋯</td><td>0</td><td>0</td><td>0</td><td>0</td><td>0</td><td>0</td><td>0</td><td>0</td><td>0</td><td>0</td></tr>\n",
       "</tbody>\n",
       "</table>\n"
      ],
      "text/latex": [
       "A data.frame: 4 × 23\n",
       "\\begin{tabular}{r|lllllllllllllllllllll}\n",
       "  & index & date & type & co & quan & pps & basis & sale\\_quan & flag & buy\\_cf\\_quan & ⋯ & buy\\_pps & buy\\_basis & sell\\_quan & sell\\_pps & sell\\_basis & profit\\_loss & sold\\_cf\\_quan & sold\\_cf\\_pps & sold\\_cf\\_basis & true\\_false\\\\\n",
       "  & <int> & <date> & <chr> & <chr> & <dbl> & <dbl> & <dbl> & <dbl> & <lgl> & <dbl> & ⋯ & <dbl> & <dbl> & <dbl> & <dbl> & <dbl> & <dbl> & <dbl> & <dbl> & <dbl> & <dbl>\\\\\n",
       "\\hline\n",
       "\t1 &  5 & 2023-01-23 & Sell CF & AMC &   50 & 5.5124 &     5.5124 & 0 &  TRUE & 0 & ⋯ & 0 & 0 & 0 & 0 & 0 & 0 & 0 & 0 & 0 & 0\\\\\n",
       "\t3 &  8 & 2023-02-03 & Sell    & AMC &  950 & 5.5124 &  5236.7800 & 0 & FALSE & 0 & ⋯ & 0 & 0 & 0 & 0 & 0 & 0 & 0 & 0 & 0 & 0\\\\\n",
       "\t4 & 10 & 2023-02-21 & Sell    & AMC & 3000 & 5.8550 & 17565.0000 & 0 & FALSE & 0 & ⋯ & 0 & 0 & 0 & 0 & 0 & 0 & 0 & 0 & 0 & 0\\\\\n",
       "\t5 & 16 & 2023-02-22 & Sell    & AMC & 6000 & 6.6150 & 39690.0000 & 0 & FALSE & 0 & ⋯ & 0 & 0 & 0 & 0 & 0 & 0 & 0 & 0 & 0 & 0\\\\\n",
       "\\end{tabular}\n"
      ],
      "text/markdown": [
       "\n",
       "A data.frame: 4 × 23\n",
       "\n",
       "| <!--/--> | index &lt;int&gt; | date &lt;date&gt; | type &lt;chr&gt; | co &lt;chr&gt; | quan &lt;dbl&gt; | pps &lt;dbl&gt; | basis &lt;dbl&gt; | sale_quan &lt;dbl&gt; | flag &lt;lgl&gt; | buy_cf_quan &lt;dbl&gt; | ⋯ ⋯ | buy_pps &lt;dbl&gt; | buy_basis &lt;dbl&gt; | sell_quan &lt;dbl&gt; | sell_pps &lt;dbl&gt; | sell_basis &lt;dbl&gt; | profit_loss &lt;dbl&gt; | sold_cf_quan &lt;dbl&gt; | sold_cf_pps &lt;dbl&gt; | sold_cf_basis &lt;dbl&gt; | true_false &lt;dbl&gt; |\n",
       "|---|---|---|---|---|---|---|---|---|---|---|---|---|---|---|---|---|---|---|---|---|---|\n",
       "| 1 |  5 | 2023-01-23 | Sell CF | AMC |   50 | 5.5124 |     5.5124 | 0 |  TRUE | 0 | ⋯ | 0 | 0 | 0 | 0 | 0 | 0 | 0 | 0 | 0 | 0 |\n",
       "| 3 |  8 | 2023-02-03 | Sell    | AMC |  950 | 5.5124 |  5236.7800 | 0 | FALSE | 0 | ⋯ | 0 | 0 | 0 | 0 | 0 | 0 | 0 | 0 | 0 | 0 |\n",
       "| 4 | 10 | 2023-02-21 | Sell    | AMC | 3000 | 5.8550 | 17565.0000 | 0 | FALSE | 0 | ⋯ | 0 | 0 | 0 | 0 | 0 | 0 | 0 | 0 | 0 | 0 |\n",
       "| 5 | 16 | 2023-02-22 | Sell    | AMC | 6000 | 6.6150 | 39690.0000 | 0 | FALSE | 0 | ⋯ | 0 | 0 | 0 | 0 | 0 | 0 | 0 | 0 | 0 | 0 |\n",
       "\n"
      ],
      "text/plain": [
       "  index date       type    co  quan pps    basis      sale_quan flag \n",
       "1  5    2023-01-23 Sell CF AMC   50 5.5124     5.5124 0          TRUE\n",
       "3  8    2023-02-03 Sell    AMC  950 5.5124  5236.7800 0         FALSE\n",
       "4 10    2023-02-21 Sell    AMC 3000 5.8550 17565.0000 0         FALSE\n",
       "5 16    2023-02-22 Sell    AMC 6000 6.6150 39690.0000 0         FALSE\n",
       "  buy_cf_quan ⋯ buy_pps buy_basis sell_quan sell_pps sell_basis profit_loss\n",
       "1 0           ⋯ 0       0         0         0        0          0          \n",
       "3 0           ⋯ 0       0         0         0        0          0          \n",
       "4 0           ⋯ 0       0         0         0        0          0          \n",
       "5 0           ⋯ 0       0         0         0        0          0          \n",
       "  sold_cf_quan sold_cf_pps sold_cf_basis true_false\n",
       "1 0            0           0             0         \n",
       "3 0            0           0             0         \n",
       "4 0            0           0             0         \n",
       "5 0            0           0             0         "
      ]
     },
     "metadata": {},
     "output_type": "display_data"
    }
   ],
   "source": [
    "dim(buys)\n",
    "dim(sells)\n",
    "head(buys,4)\n",
    "head(sells,4)"
   ]
  },
  {
   "cell_type": "code",
   "execution_count": null,
   "id": "750916d7-fe63-4270-9eda-86b4df05d823",
   "metadata": {},
   "outputs": [],
   "source": []
  },
  {
   "cell_type": "code",
   "execution_count": 71,
   "id": "c151bbaf-13ed-4147-9f05-d890420459f5",
   "metadata": {},
   "outputs": [],
   "source": [
    "# stopps"
   ]
  },
  {
   "cell_type": "code",
   "execution_count": null,
   "id": "af728f6f-2ae3-4cab-8d8a-67a7bc2a67c7",
   "metadata": {},
   "outputs": [],
   "source": []
  },
  {
   "cell_type": "markdown",
   "id": "56630c1b-ca9b-4890-91be-09877541c63f",
   "metadata": {},
   "source": [
    "\n",
    "# <font color = cyan> Proof of Concept above. End of loop 5"
   ]
  },
  {
   "cell_type": "code",
   "execution_count": null,
   "id": "898fb88f-0c7a-4cec-af96-01ee2c51b747",
   "metadata": {},
   "outputs": [],
   "source": []
  },
  {
   "cell_type": "markdown",
   "id": "0ea87090-483b-4857-9772-de99e0983daa",
   "metadata": {},
   "source": [
    "#### <font color = yellow> 1. Create data & dfs"
   ]
  },
  {
   "cell_type": "code",
   "execution_count": 72,
   "id": "0bfc93e8-997b-46d9-a7f4-f8dc0e5016b5",
   "metadata": {},
   "outputs": [],
   "source": [
    "b <- buys[1,]\n",
    "s <- sells[1,]\n"
   ]
  },
  {
   "cell_type": "code",
   "execution_count": null,
   "id": "4aed3e80-83c6-4d68-80a3-bfb059f6f5ae",
   "metadata": {},
   "outputs": [],
   "source": []
  },
  {
   "cell_type": "markdown",
   "id": "fd1f2203-6875-4f8c-a5f7-04189c07b6b1",
   "metadata": {},
   "source": [
    "### <font color = yellow> 2. Update b - the variable that records each buy/sell transaction (w/in loop)\n",
    "#### b>s, b<s, b==s,"
   ]
  },
  {
   "cell_type": "code",
   "execution_count": 73,
   "id": "25927471-7640-427e-ad67-1789d3fbbfb8",
   "metadata": {},
   "outputs": [
    {
     "name": "stdout",
     "output_type": "stream",
     "text": [
      "proof 3 \n",
      "proof \n",
      "POC - updated_s when b == s:  EQ SOLD \n"
     ]
    }
   ],
   "source": [
    "\n",
    "#fct call\n",
    "updated_b_list <- update_b(b,s,buys)\n",
    "\n",
    "updated_b <- updated_b_list[[1]]\n",
    "updated_s <- updated_b_list[[2]]\n",
    "buys <- updated_b_list[[3]]\n",
    "#dim(updated_b)\n",
    "#dim(buys)    \n",
    "\n"
   ]
  },
  {
   "cell_type": "code",
   "execution_count": 74,
   "id": "77eeaf96-1b2d-49f6-bbbd-3ac68cb246ea",
   "metadata": {},
   "outputs": [
    {
     "name": "stdout",
     "output_type": "stream",
     "text": [
      "Std buy/sell row orientation?  buys$type[i] = :  Buy sells$type[i+1] = :  Sell \n"
     ]
    }
   ],
   "source": [
    "if(buys$type[i] == \"Buy\" && sells$type[i+1] == \"Sell\") {\n",
    "    cat(\"Std buy/sell row orientation?  buys$type[i] = : \", buys$type[i], \"sells$type[i+1] = : \", sells$type[i+1],  \"\\n\")    \n",
    "    }"
   ]
  },
  {
   "cell_type": "markdown",
   "id": "7cc68a5b-7eee-454a-ab0f-93d62572eed9",
   "metadata": {},
   "source": [
    "### <font color = yellow>3. Update the sales_records (rbind) with updated_b for each transaction (loop)"
   ]
  },
  {
   "cell_type": "code",
   "execution_count": 75,
   "id": "3e725163-dd76-4fd2-9ce6-9ef9c9ddf21a",
   "metadata": {},
   "outputs": [
    {
     "data": {
      "text/html": [
       "<table class=\"dataframe\">\n",
       "<caption>A data.frame: 6 × 23</caption>\n",
       "<thead>\n",
       "\t<tr><th scope=col>index</th><th scope=col>date</th><th scope=col>type</th><th scope=col>co</th><th scope=col>quan</th><th scope=col>pps</th><th scope=col>basis</th><th scope=col>sale_quan</th><th scope=col>flag</th><th scope=col>buy_cf_quan</th><th scope=col>⋯</th><th scope=col>buy_pps</th><th scope=col>buy_basis</th><th scope=col>sell_quan</th><th scope=col>sell_pps</th><th scope=col>sell_basis</th><th scope=col>profit_loss</th><th scope=col>sold_cf_quan</th><th scope=col>sold_cf_pps</th><th scope=col>sold_cf_basis</th><th scope=col>true_false</th></tr>\n",
       "\t<tr><th scope=col>&lt;int&gt;</th><th scope=col>&lt;date&gt;</th><th scope=col>&lt;chr&gt;</th><th scope=col>&lt;chr&gt;</th><th scope=col>&lt;dbl&gt;</th><th scope=col>&lt;dbl&gt;</th><th scope=col>&lt;dbl&gt;</th><th scope=col>&lt;dbl&gt;</th><th scope=col>&lt;lgl&gt;</th><th scope=col>&lt;dbl&gt;</th><th scope=col>⋯</th><th scope=col>&lt;dbl&gt;</th><th scope=col>&lt;dbl&gt;</th><th scope=col>&lt;dbl&gt;</th><th scope=col>&lt;dbl&gt;</th><th scope=col>&lt;dbl&gt;</th><th scope=col>&lt;dbl&gt;</th><th scope=col>&lt;dbl&gt;</th><th scope=col>&lt;dbl&gt;</th><th scope=col>&lt;dbl&gt;</th><th scope=col>&lt;dbl&gt;</th></tr>\n",
       "</thead>\n",
       "<tbody>\n",
       "\t<tr><td>5</td><td>2023-01-23</td><td>Buy CF</td><td>CFCF</td><td>  50</td><td>5.788</td><td> 289.40</td><td>   0</td><td>TRUE</td><td>0</td><td>⋯</td><td>5.788</td><td> 289.40</td><td>  50</td><td>5.5124</td><td> 275.62</td><td> -13.78</td><td> 0</td><td>0.000</td><td>  0.00</td><td>1</td></tr>\n",
       "\t<tr><td>5</td><td>2023-01-23</td><td>Buy   </td><td>AMC </td><td>1000</td><td>5.788</td><td>5788.00</td><td> 950</td><td>TRUE</td><td>0</td><td>⋯</td><td>5.788</td><td>5498.60</td><td> 950</td><td>5.5124</td><td>5236.78</td><td>-261.82</td><td>50</td><td>5.788</td><td>289.40</td><td>0</td></tr>\n",
       "\t<tr><td>3</td><td>2023-01-20</td><td>Buy CF</td><td>CFCF</td><td>  50</td><td>5.625</td><td> 281.25</td><td>   0</td><td>TRUE</td><td>0</td><td>⋯</td><td>5.625</td><td> 281.25</td><td>  50</td><td>5.5124</td><td> 275.62</td><td>  -5.63</td><td> 0</td><td>0.000</td><td>  0.00</td><td>1</td></tr>\n",
       "\t<tr><td>3</td><td>2023-01-20</td><td>Buy   </td><td>AMC </td><td>1000</td><td>5.625</td><td>5625.00</td><td> 950</td><td>TRUE</td><td>0</td><td>⋯</td><td>5.625</td><td>5343.75</td><td> 950</td><td>5.5124</td><td>5236.78</td><td>-106.97</td><td>50</td><td>5.625</td><td>281.25</td><td>0</td></tr>\n",
       "\t<tr><td>1</td><td>2022-12-31</td><td>Buy CF</td><td>CFCF</td><td>  50</td><td>4.070</td><td> 203.50</td><td>   0</td><td>TRUE</td><td>0</td><td>⋯</td><td>4.070</td><td> 203.50</td><td>  50</td><td>5.5124</td><td> 275.62</td><td>  72.12</td><td> 0</td><td>0.000</td><td>  0.00</td><td>1</td></tr>\n",
       "\t<tr><td>1</td><td>2022-12-31</td><td>Buy   </td><td>AMC </td><td>1050</td><td>4.070</td><td>4273.50</td><td>1000</td><td>TRUE</td><td>0</td><td>⋯</td><td>4.070</td><td>4070.00</td><td>1000</td><td>5.5124</td><td>5512.40</td><td>1442.40</td><td>50</td><td>4.070</td><td>203.50</td><td>0</td></tr>\n",
       "</tbody>\n",
       "</table>\n"
      ],
      "text/latex": [
       "A data.frame: 6 × 23\n",
       "\\begin{tabular}{lllllllllllllllllllll}\n",
       " index & date & type & co & quan & pps & basis & sale\\_quan & flag & buy\\_cf\\_quan & ⋯ & buy\\_pps & buy\\_basis & sell\\_quan & sell\\_pps & sell\\_basis & profit\\_loss & sold\\_cf\\_quan & sold\\_cf\\_pps & sold\\_cf\\_basis & true\\_false\\\\\n",
       " <int> & <date> & <chr> & <chr> & <dbl> & <dbl> & <dbl> & <dbl> & <lgl> & <dbl> & ⋯ & <dbl> & <dbl> & <dbl> & <dbl> & <dbl> & <dbl> & <dbl> & <dbl> & <dbl> & <dbl>\\\\\n",
       "\\hline\n",
       "\t 5 & 2023-01-23 & Buy CF & CFCF &   50 & 5.788 &  289.40 &    0 & TRUE & 0 & ⋯ & 5.788 &  289.40 &   50 & 5.5124 &  275.62 &  -13.78 &  0 & 0.000 &   0.00 & 1\\\\\n",
       "\t 5 & 2023-01-23 & Buy    & AMC  & 1000 & 5.788 & 5788.00 &  950 & TRUE & 0 & ⋯ & 5.788 & 5498.60 &  950 & 5.5124 & 5236.78 & -261.82 & 50 & 5.788 & 289.40 & 0\\\\\n",
       "\t 3 & 2023-01-20 & Buy CF & CFCF &   50 & 5.625 &  281.25 &    0 & TRUE & 0 & ⋯ & 5.625 &  281.25 &   50 & 5.5124 &  275.62 &   -5.63 &  0 & 0.000 &   0.00 & 1\\\\\n",
       "\t 3 & 2023-01-20 & Buy    & AMC  & 1000 & 5.625 & 5625.00 &  950 & TRUE & 0 & ⋯ & 5.625 & 5343.75 &  950 & 5.5124 & 5236.78 & -106.97 & 50 & 5.625 & 281.25 & 0\\\\\n",
       "\t 1 & 2022-12-31 & Buy CF & CFCF &   50 & 4.070 &  203.50 &    0 & TRUE & 0 & ⋯ & 4.070 &  203.50 &   50 & 5.5124 &  275.62 &   72.12 &  0 & 0.000 &   0.00 & 1\\\\\n",
       "\t 1 & 2022-12-31 & Buy    & AMC  & 1050 & 4.070 & 4273.50 & 1000 & TRUE & 0 & ⋯ & 4.070 & 4070.00 & 1000 & 5.5124 & 5512.40 & 1442.40 & 50 & 4.070 & 203.50 & 0\\\\\n",
       "\\end{tabular}\n"
      ],
      "text/markdown": [
       "\n",
       "A data.frame: 6 × 23\n",
       "\n",
       "| index &lt;int&gt; | date &lt;date&gt; | type &lt;chr&gt; | co &lt;chr&gt; | quan &lt;dbl&gt; | pps &lt;dbl&gt; | basis &lt;dbl&gt; | sale_quan &lt;dbl&gt; | flag &lt;lgl&gt; | buy_cf_quan &lt;dbl&gt; | ⋯ ⋯ | buy_pps &lt;dbl&gt; | buy_basis &lt;dbl&gt; | sell_quan &lt;dbl&gt; | sell_pps &lt;dbl&gt; | sell_basis &lt;dbl&gt; | profit_loss &lt;dbl&gt; | sold_cf_quan &lt;dbl&gt; | sold_cf_pps &lt;dbl&gt; | sold_cf_basis &lt;dbl&gt; | true_false &lt;dbl&gt; |\n",
       "|---|---|---|---|---|---|---|---|---|---|---|---|---|---|---|---|---|---|---|---|---|\n",
       "| 5 | 2023-01-23 | Buy CF | CFCF |   50 | 5.788 |  289.40 |    0 | TRUE | 0 | ⋯ | 5.788 |  289.40 |   50 | 5.5124 |  275.62 |  -13.78 |  0 | 0.000 |   0.00 | 1 |\n",
       "| 5 | 2023-01-23 | Buy    | AMC  | 1000 | 5.788 | 5788.00 |  950 | TRUE | 0 | ⋯ | 5.788 | 5498.60 |  950 | 5.5124 | 5236.78 | -261.82 | 50 | 5.788 | 289.40 | 0 |\n",
       "| 3 | 2023-01-20 | Buy CF | CFCF |   50 | 5.625 |  281.25 |    0 | TRUE | 0 | ⋯ | 5.625 |  281.25 |   50 | 5.5124 |  275.62 |   -5.63 |  0 | 0.000 |   0.00 | 1 |\n",
       "| 3 | 2023-01-20 | Buy    | AMC  | 1000 | 5.625 | 5625.00 |  950 | TRUE | 0 | ⋯ | 5.625 | 5343.75 |  950 | 5.5124 | 5236.78 | -106.97 | 50 | 5.625 | 281.25 | 0 |\n",
       "| 1 | 2022-12-31 | Buy CF | CFCF |   50 | 4.070 |  203.50 |    0 | TRUE | 0 | ⋯ | 4.070 |  203.50 |   50 | 5.5124 |  275.62 |   72.12 |  0 | 0.000 |   0.00 | 1 |\n",
       "| 1 | 2022-12-31 | Buy    | AMC  | 1050 | 4.070 | 4273.50 | 1000 | TRUE | 0 | ⋯ | 4.070 | 4070.00 | 1000 | 5.5124 | 5512.40 | 1442.40 | 50 | 4.070 | 203.50 | 0 |\n",
       "\n"
      ],
      "text/plain": [
       "  index date       type   co   quan pps   basis   sale_quan flag buy_cf_quan ⋯\n",
       "1 5     2023-01-23 Buy CF CFCF   50 5.788  289.40    0      TRUE 0           ⋯\n",
       "2 5     2023-01-23 Buy    AMC  1000 5.788 5788.00  950      TRUE 0           ⋯\n",
       "3 3     2023-01-20 Buy CF CFCF   50 5.625  281.25    0      TRUE 0           ⋯\n",
       "4 3     2023-01-20 Buy    AMC  1000 5.625 5625.00  950      TRUE 0           ⋯\n",
       "5 1     2022-12-31 Buy CF CFCF   50 4.070  203.50    0      TRUE 0           ⋯\n",
       "6 1     2022-12-31 Buy    AMC  1050 4.070 4273.50 1000      TRUE 0           ⋯\n",
       "  buy_pps buy_basis sell_quan sell_pps sell_basis profit_loss sold_cf_quan\n",
       "1 5.788    289.40     50      5.5124    275.62     -13.78      0          \n",
       "2 5.788   5498.60    950      5.5124   5236.78    -261.82     50          \n",
       "3 5.625    281.25     50      5.5124    275.62      -5.63      0          \n",
       "4 5.625   5343.75    950      5.5124   5236.78    -106.97     50          \n",
       "5 4.070    203.50     50      5.5124    275.62      72.12      0          \n",
       "6 4.070   4070.00   1000      5.5124   5512.40    1442.40     50          \n",
       "  sold_cf_pps sold_cf_basis true_false\n",
       "1 0.000         0.00        1         \n",
       "2 5.788       289.40        0         \n",
       "3 0.000         0.00        1         \n",
       "4 5.625       281.25        0         \n",
       "5 0.000         0.00        1         \n",
       "6 4.070       203.50        0         "
      ]
     },
     "metadata": {},
     "output_type": "display_data"
    }
   ],
   "source": [
    "# First go around needs rbind()\n",
    "# sale_records <- rbind(sale_records, updated_b)    \n",
    "\n",
    "sale_records <- sale_records %>% add_row(updated_b , .before = 1)\n",
    "\n",
    "sale_records"
   ]
  },
  {
   "cell_type": "code",
   "execution_count": null,
   "id": "8f7cddc6-350f-4354-948a-233797bc61e6",
   "metadata": {},
   "outputs": [],
   "source": []
  },
  {
   "cell_type": "code",
   "execution_count": 76,
   "id": "ec9319c6-7c73-4ad6-84cb-3060f393691e",
   "metadata": {},
   "outputs": [
    {
     "data": {
      "text/html": [
       "<table class=\"dataframe\">\n",
       "<caption>A data.frame: 5 × 23</caption>\n",
       "<thead>\n",
       "\t<tr><th></th><th scope=col>index</th><th scope=col>date</th><th scope=col>type</th><th scope=col>co</th><th scope=col>quan</th><th scope=col>pps</th><th scope=col>basis</th><th scope=col>sale_quan</th><th scope=col>flag</th><th scope=col>buy_cf_quan</th><th scope=col>⋯</th><th scope=col>buy_pps</th><th scope=col>buy_basis</th><th scope=col>sell_quan</th><th scope=col>sell_pps</th><th scope=col>sell_basis</th><th scope=col>profit_loss</th><th scope=col>sold_cf_quan</th><th scope=col>sold_cf_pps</th><th scope=col>sold_cf_basis</th><th scope=col>true_false</th></tr>\n",
       "\t<tr><th></th><th scope=col>&lt;int&gt;</th><th scope=col>&lt;date&gt;</th><th scope=col>&lt;chr&gt;</th><th scope=col>&lt;chr&gt;</th><th scope=col>&lt;dbl&gt;</th><th scope=col>&lt;dbl&gt;</th><th scope=col>&lt;dbl&gt;</th><th scope=col>&lt;dbl&gt;</th><th scope=col>&lt;lgl&gt;</th><th scope=col>&lt;dbl&gt;</th><th scope=col>⋯</th><th scope=col>&lt;dbl&gt;</th><th scope=col>&lt;dbl&gt;</th><th scope=col>&lt;dbl&gt;</th><th scope=col>&lt;dbl&gt;</th><th scope=col>&lt;dbl&gt;</th><th scope=col>&lt;dbl&gt;</th><th scope=col>&lt;dbl&gt;</th><th scope=col>&lt;dbl&gt;</th><th scope=col>&lt;dbl&gt;</th><th scope=col>&lt;dbl&gt;</th></tr>\n",
       "</thead>\n",
       "<tbody>\n",
       "\t<tr><th scope=row>2</th><td> 5</td><td>2023-01-23</td><td>Buy CF</td><td>AMC</td><td>  50</td><td>5.7880</td><td>  289.4</td><td>0</td><td> TRUE</td><td>0</td><td>⋯</td><td>0</td><td>0</td><td>0</td><td>0</td><td>0</td><td>0</td><td>0</td><td>0</td><td>0</td><td>0</td></tr>\n",
       "\t<tr><th scope=row>3</th><td> 7</td><td>2023-01-27</td><td>Buy   </td><td>AMC</td><td>2000</td><td>5.2394</td><td>10478.8</td><td>0</td><td>FALSE</td><td>0</td><td>⋯</td><td>0</td><td>0</td><td>0</td><td>0</td><td>0</td><td>0</td><td>0</td><td>0</td><td>0</td><td>0</td></tr>\n",
       "\t<tr><th scope=row>4</th><td> 9</td><td>2023-02-10</td><td>Buy   </td><td>AMC</td><td>2000</td><td>4.7450</td><td> 9490.0</td><td>0</td><td>FALSE</td><td>0</td><td>⋯</td><td>0</td><td>0</td><td>0</td><td>0</td><td>0</td><td>0</td><td>0</td><td>0</td><td>0</td><td>0</td></tr>\n",
       "\t<tr><th scope=row>5</th><td>11</td><td>2023-02-10</td><td>Buy   </td><td>AMC</td><td>1000</td><td>4.7800</td><td> 4780.0</td><td>0</td><td>FALSE</td><td>0</td><td>⋯</td><td>0</td><td>0</td><td>0</td><td>0</td><td>0</td><td>0</td><td>0</td><td>0</td><td>0</td><td>0</td></tr>\n",
       "\t<tr><th scope=row>6</th><td>12</td><td>2023-02-13</td><td>Buy   </td><td>AMC</td><td>3000</td><td>4.7296</td><td>14188.8</td><td>0</td><td>FALSE</td><td>0</td><td>⋯</td><td>0</td><td>0</td><td>0</td><td>0</td><td>0</td><td>0</td><td>0</td><td>0</td><td>0</td><td>0</td></tr>\n",
       "</tbody>\n",
       "</table>\n"
      ],
      "text/latex": [
       "A data.frame: 5 × 23\n",
       "\\begin{tabular}{r|lllllllllllllllllllll}\n",
       "  & index & date & type & co & quan & pps & basis & sale\\_quan & flag & buy\\_cf\\_quan & ⋯ & buy\\_pps & buy\\_basis & sell\\_quan & sell\\_pps & sell\\_basis & profit\\_loss & sold\\_cf\\_quan & sold\\_cf\\_pps & sold\\_cf\\_basis & true\\_false\\\\\n",
       "  & <int> & <date> & <chr> & <chr> & <dbl> & <dbl> & <dbl> & <dbl> & <lgl> & <dbl> & ⋯ & <dbl> & <dbl> & <dbl> & <dbl> & <dbl> & <dbl> & <dbl> & <dbl> & <dbl> & <dbl>\\\\\n",
       "\\hline\n",
       "\t2 &  5 & 2023-01-23 & Buy CF & AMC &   50 & 5.7880 &   289.4 & 0 &  TRUE & 0 & ⋯ & 0 & 0 & 0 & 0 & 0 & 0 & 0 & 0 & 0 & 0\\\\\n",
       "\t3 &  7 & 2023-01-27 & Buy    & AMC & 2000 & 5.2394 & 10478.8 & 0 & FALSE & 0 & ⋯ & 0 & 0 & 0 & 0 & 0 & 0 & 0 & 0 & 0 & 0\\\\\n",
       "\t4 &  9 & 2023-02-10 & Buy    & AMC & 2000 & 4.7450 &  9490.0 & 0 & FALSE & 0 & ⋯ & 0 & 0 & 0 & 0 & 0 & 0 & 0 & 0 & 0 & 0\\\\\n",
       "\t5 & 11 & 2023-02-10 & Buy    & AMC & 1000 & 4.7800 &  4780.0 & 0 & FALSE & 0 & ⋯ & 0 & 0 & 0 & 0 & 0 & 0 & 0 & 0 & 0 & 0\\\\\n",
       "\t6 & 12 & 2023-02-13 & Buy    & AMC & 3000 & 4.7296 & 14188.8 & 0 & FALSE & 0 & ⋯ & 0 & 0 & 0 & 0 & 0 & 0 & 0 & 0 & 0 & 0\\\\\n",
       "\\end{tabular}\n"
      ],
      "text/markdown": [
       "\n",
       "A data.frame: 5 × 23\n",
       "\n",
       "| <!--/--> | index &lt;int&gt; | date &lt;date&gt; | type &lt;chr&gt; | co &lt;chr&gt; | quan &lt;dbl&gt; | pps &lt;dbl&gt; | basis &lt;dbl&gt; | sale_quan &lt;dbl&gt; | flag &lt;lgl&gt; | buy_cf_quan &lt;dbl&gt; | ⋯ ⋯ | buy_pps &lt;dbl&gt; | buy_basis &lt;dbl&gt; | sell_quan &lt;dbl&gt; | sell_pps &lt;dbl&gt; | sell_basis &lt;dbl&gt; | profit_loss &lt;dbl&gt; | sold_cf_quan &lt;dbl&gt; | sold_cf_pps &lt;dbl&gt; | sold_cf_basis &lt;dbl&gt; | true_false &lt;dbl&gt; |\n",
       "|---|---|---|---|---|---|---|---|---|---|---|---|---|---|---|---|---|---|---|---|---|---|\n",
       "| 2 |  5 | 2023-01-23 | Buy CF | AMC |   50 | 5.7880 |   289.4 | 0 |  TRUE | 0 | ⋯ | 0 | 0 | 0 | 0 | 0 | 0 | 0 | 0 | 0 | 0 |\n",
       "| 3 |  7 | 2023-01-27 | Buy    | AMC | 2000 | 5.2394 | 10478.8 | 0 | FALSE | 0 | ⋯ | 0 | 0 | 0 | 0 | 0 | 0 | 0 | 0 | 0 | 0 |\n",
       "| 4 |  9 | 2023-02-10 | Buy    | AMC | 2000 | 4.7450 |  9490.0 | 0 | FALSE | 0 | ⋯ | 0 | 0 | 0 | 0 | 0 | 0 | 0 | 0 | 0 | 0 |\n",
       "| 5 | 11 | 2023-02-10 | Buy    | AMC | 1000 | 4.7800 |  4780.0 | 0 | FALSE | 0 | ⋯ | 0 | 0 | 0 | 0 | 0 | 0 | 0 | 0 | 0 | 0 |\n",
       "| 6 | 12 | 2023-02-13 | Buy    | AMC | 3000 | 4.7296 | 14188.8 | 0 | FALSE | 0 | ⋯ | 0 | 0 | 0 | 0 | 0 | 0 | 0 | 0 | 0 | 0 |\n",
       "\n"
      ],
      "text/plain": [
       "  index date       type   co  quan pps    basis   sale_quan flag  buy_cf_quan ⋯\n",
       "2  5    2023-01-23 Buy CF AMC   50 5.7880   289.4 0          TRUE 0           ⋯\n",
       "3  7    2023-01-27 Buy    AMC 2000 5.2394 10478.8 0         FALSE 0           ⋯\n",
       "4  9    2023-02-10 Buy    AMC 2000 4.7450  9490.0 0         FALSE 0           ⋯\n",
       "5 11    2023-02-10 Buy    AMC 1000 4.7800  4780.0 0         FALSE 0           ⋯\n",
       "6 12    2023-02-13 Buy    AMC 3000 4.7296 14188.8 0         FALSE 0           ⋯\n",
       "  buy_pps buy_basis sell_quan sell_pps sell_basis profit_loss sold_cf_quan\n",
       "2 0       0         0         0        0          0           0           \n",
       "3 0       0         0         0        0          0           0           \n",
       "4 0       0         0         0        0          0           0           \n",
       "5 0       0         0         0        0          0           0           \n",
       "6 0       0         0         0        0          0           0           \n",
       "  sold_cf_pps sold_cf_basis true_false\n",
       "2 0           0             0         \n",
       "3 0           0             0         \n",
       "4 0           0             0         \n",
       "5 0           0             0         \n",
       "6 0           0             0         "
      ]
     },
     "metadata": {},
     "output_type": "display_data"
    },
    {
     "data": {
      "text/html": [
       "<table class=\"dataframe\">\n",
       "<caption>A data.frame: 5 × 23</caption>\n",
       "<thead>\n",
       "\t<tr><th></th><th scope=col>index</th><th scope=col>date</th><th scope=col>type</th><th scope=col>co</th><th scope=col>quan</th><th scope=col>pps</th><th scope=col>basis</th><th scope=col>sale_quan</th><th scope=col>flag</th><th scope=col>buy_cf_quan</th><th scope=col>⋯</th><th scope=col>buy_pps</th><th scope=col>buy_basis</th><th scope=col>sell_quan</th><th scope=col>sell_pps</th><th scope=col>sell_basis</th><th scope=col>profit_loss</th><th scope=col>sold_cf_quan</th><th scope=col>sold_cf_pps</th><th scope=col>sold_cf_basis</th><th scope=col>true_false</th></tr>\n",
       "\t<tr><th></th><th scope=col>&lt;int&gt;</th><th scope=col>&lt;date&gt;</th><th scope=col>&lt;chr&gt;</th><th scope=col>&lt;chr&gt;</th><th scope=col>&lt;dbl&gt;</th><th scope=col>&lt;dbl&gt;</th><th scope=col>&lt;dbl&gt;</th><th scope=col>&lt;dbl&gt;</th><th scope=col>&lt;lgl&gt;</th><th scope=col>&lt;dbl&gt;</th><th scope=col>⋯</th><th scope=col>&lt;dbl&gt;</th><th scope=col>&lt;dbl&gt;</th><th scope=col>&lt;dbl&gt;</th><th scope=col>&lt;dbl&gt;</th><th scope=col>&lt;dbl&gt;</th><th scope=col>&lt;dbl&gt;</th><th scope=col>&lt;dbl&gt;</th><th scope=col>&lt;dbl&gt;</th><th scope=col>&lt;dbl&gt;</th><th scope=col>&lt;dbl&gt;</th></tr>\n",
       "</thead>\n",
       "<tbody>\n",
       "\t<tr><th scope=row>1</th><td> 5</td><td>2023-01-23</td><td>Sell CF</td><td>AMC</td><td>  50</td><td>5.5124</td><td>    5.5124</td><td>0</td><td> TRUE</td><td>0</td><td>⋯</td><td>0</td><td>0</td><td>0</td><td>0</td><td>0</td><td>0</td><td>0</td><td>0</td><td>0</td><td>0</td></tr>\n",
       "\t<tr><th scope=row>3</th><td> 8</td><td>2023-02-03</td><td>Sell   </td><td>AMC</td><td> 950</td><td>5.5124</td><td> 5236.7800</td><td>0</td><td>FALSE</td><td>0</td><td>⋯</td><td>0</td><td>0</td><td>0</td><td>0</td><td>0</td><td>0</td><td>0</td><td>0</td><td>0</td><td>0</td></tr>\n",
       "\t<tr><th scope=row>4</th><td>10</td><td>2023-02-21</td><td>Sell   </td><td>AMC</td><td>3000</td><td>5.8550</td><td>17565.0000</td><td>0</td><td>FALSE</td><td>0</td><td>⋯</td><td>0</td><td>0</td><td>0</td><td>0</td><td>0</td><td>0</td><td>0</td><td>0</td><td>0</td><td>0</td></tr>\n",
       "\t<tr><th scope=row>5</th><td>16</td><td>2023-02-22</td><td>Sell   </td><td>AMC</td><td>6000</td><td>6.6150</td><td>39690.0000</td><td>0</td><td>FALSE</td><td>0</td><td>⋯</td><td>0</td><td>0</td><td>0</td><td>0</td><td>0</td><td>0</td><td>0</td><td>0</td><td>0</td><td>0</td></tr>\n",
       "\t<tr><th scope=row>6</th><td>18</td><td>2023-02-27</td><td>Sell   </td><td>AMC</td><td>3000</td><td>7.8160</td><td>23448.0000</td><td>0</td><td>FALSE</td><td>0</td><td>⋯</td><td>0</td><td>0</td><td>0</td><td>0</td><td>0</td><td>0</td><td>0</td><td>0</td><td>0</td><td>0</td></tr>\n",
       "</tbody>\n",
       "</table>\n"
      ],
      "text/latex": [
       "A data.frame: 5 × 23\n",
       "\\begin{tabular}{r|lllllllllllllllllllll}\n",
       "  & index & date & type & co & quan & pps & basis & sale\\_quan & flag & buy\\_cf\\_quan & ⋯ & buy\\_pps & buy\\_basis & sell\\_quan & sell\\_pps & sell\\_basis & profit\\_loss & sold\\_cf\\_quan & sold\\_cf\\_pps & sold\\_cf\\_basis & true\\_false\\\\\n",
       "  & <int> & <date> & <chr> & <chr> & <dbl> & <dbl> & <dbl> & <dbl> & <lgl> & <dbl> & ⋯ & <dbl> & <dbl> & <dbl> & <dbl> & <dbl> & <dbl> & <dbl> & <dbl> & <dbl> & <dbl>\\\\\n",
       "\\hline\n",
       "\t1 &  5 & 2023-01-23 & Sell CF & AMC &   50 & 5.5124 &     5.5124 & 0 &  TRUE & 0 & ⋯ & 0 & 0 & 0 & 0 & 0 & 0 & 0 & 0 & 0 & 0\\\\\n",
       "\t3 &  8 & 2023-02-03 & Sell    & AMC &  950 & 5.5124 &  5236.7800 & 0 & FALSE & 0 & ⋯ & 0 & 0 & 0 & 0 & 0 & 0 & 0 & 0 & 0 & 0\\\\\n",
       "\t4 & 10 & 2023-02-21 & Sell    & AMC & 3000 & 5.8550 & 17565.0000 & 0 & FALSE & 0 & ⋯ & 0 & 0 & 0 & 0 & 0 & 0 & 0 & 0 & 0 & 0\\\\\n",
       "\t5 & 16 & 2023-02-22 & Sell    & AMC & 6000 & 6.6150 & 39690.0000 & 0 & FALSE & 0 & ⋯ & 0 & 0 & 0 & 0 & 0 & 0 & 0 & 0 & 0 & 0\\\\\n",
       "\t6 & 18 & 2023-02-27 & Sell    & AMC & 3000 & 7.8160 & 23448.0000 & 0 & FALSE & 0 & ⋯ & 0 & 0 & 0 & 0 & 0 & 0 & 0 & 0 & 0 & 0\\\\\n",
       "\\end{tabular}\n"
      ],
      "text/markdown": [
       "\n",
       "A data.frame: 5 × 23\n",
       "\n",
       "| <!--/--> | index &lt;int&gt; | date &lt;date&gt; | type &lt;chr&gt; | co &lt;chr&gt; | quan &lt;dbl&gt; | pps &lt;dbl&gt; | basis &lt;dbl&gt; | sale_quan &lt;dbl&gt; | flag &lt;lgl&gt; | buy_cf_quan &lt;dbl&gt; | ⋯ ⋯ | buy_pps &lt;dbl&gt; | buy_basis &lt;dbl&gt; | sell_quan &lt;dbl&gt; | sell_pps &lt;dbl&gt; | sell_basis &lt;dbl&gt; | profit_loss &lt;dbl&gt; | sold_cf_quan &lt;dbl&gt; | sold_cf_pps &lt;dbl&gt; | sold_cf_basis &lt;dbl&gt; | true_false &lt;dbl&gt; |\n",
       "|---|---|---|---|---|---|---|---|---|---|---|---|---|---|---|---|---|---|---|---|---|---|\n",
       "| 1 |  5 | 2023-01-23 | Sell CF | AMC |   50 | 5.5124 |     5.5124 | 0 |  TRUE | 0 | ⋯ | 0 | 0 | 0 | 0 | 0 | 0 | 0 | 0 | 0 | 0 |\n",
       "| 3 |  8 | 2023-02-03 | Sell    | AMC |  950 | 5.5124 |  5236.7800 | 0 | FALSE | 0 | ⋯ | 0 | 0 | 0 | 0 | 0 | 0 | 0 | 0 | 0 | 0 |\n",
       "| 4 | 10 | 2023-02-21 | Sell    | AMC | 3000 | 5.8550 | 17565.0000 | 0 | FALSE | 0 | ⋯ | 0 | 0 | 0 | 0 | 0 | 0 | 0 | 0 | 0 | 0 |\n",
       "| 5 | 16 | 2023-02-22 | Sell    | AMC | 6000 | 6.6150 | 39690.0000 | 0 | FALSE | 0 | ⋯ | 0 | 0 | 0 | 0 | 0 | 0 | 0 | 0 | 0 | 0 |\n",
       "| 6 | 18 | 2023-02-27 | Sell    | AMC | 3000 | 7.8160 | 23448.0000 | 0 | FALSE | 0 | ⋯ | 0 | 0 | 0 | 0 | 0 | 0 | 0 | 0 | 0 | 0 |\n",
       "\n"
      ],
      "text/plain": [
       "  index date       type    co  quan pps    basis      sale_quan flag \n",
       "1  5    2023-01-23 Sell CF AMC   50 5.5124     5.5124 0          TRUE\n",
       "3  8    2023-02-03 Sell    AMC  950 5.5124  5236.7800 0         FALSE\n",
       "4 10    2023-02-21 Sell    AMC 3000 5.8550 17565.0000 0         FALSE\n",
       "5 16    2023-02-22 Sell    AMC 6000 6.6150 39690.0000 0         FALSE\n",
       "6 18    2023-02-27 Sell    AMC 3000 7.8160 23448.0000 0         FALSE\n",
       "  buy_cf_quan ⋯ buy_pps buy_basis sell_quan sell_pps sell_basis profit_loss\n",
       "1 0           ⋯ 0       0         0         0        0          0          \n",
       "3 0           ⋯ 0       0         0         0        0          0          \n",
       "4 0           ⋯ 0       0         0         0        0          0          \n",
       "5 0           ⋯ 0       0         0         0        0          0          \n",
       "6 0           ⋯ 0       0         0         0        0          0          \n",
       "  sold_cf_quan sold_cf_pps sold_cf_basis true_false\n",
       "1 0            0           0             0         \n",
       "3 0            0           0             0         \n",
       "4 0            0           0             0         \n",
       "5 0            0           0             0         \n",
       "6 0            0           0             0         "
      ]
     },
     "metadata": {},
     "output_type": "display_data"
    }
   ],
   "source": [
    "head(buys,5)\n",
    "head(sells,5)"
   ]
  },
  {
   "cell_type": "markdown",
   "id": "e37f23fe-9407-48c0-a33b-6df74d7c7506",
   "metadata": {},
   "source": [
    "\n",
    "#### <font color = yellow> 4. Update buys or sells with a new row (add_row) - whenever a transaction (loop) includes  c/f\n",
    "    \n",
    "###### Uses add_row () to transform any existing carryforward (buy or sell type) into the next element that will be processed for next (loop) buy/sell transaction\n"
   ]
  },
  {
   "cell_type": "code",
   "execution_count": 77,
   "id": "0f3de8a3-3877-44f7-8cfd-12febb200f14",
   "metadata": {},
   "outputs": [
    {
     "name": "stdout",
     "output_type": "stream",
     "text": [
      "printing updated buys[1 ], dim of buys increases with c/f  \n"
     ]
    }
   ],
   "source": [
    "# fct call\n",
    "return_list <- update_buys_sells(buys, sells)\n",
    "\n",
    "# returned the updated to buys / sells\n",
    "buys <- return_list[[1]]\n",
    "sells <- return_list[[2]]\n",
    "\n",
    "#dim(buys)\n",
    "# dim(sells)"
   ]
  },
  {
   "cell_type": "code",
   "execution_count": 78,
   "id": "2c619103-4653-4e4b-839e-1ae9d7d47a8c",
   "metadata": {},
   "outputs": [
    {
     "data": {
      "text/html": [
       "<table class=\"dataframe\">\n",
       "<caption>A data.frame: 5 × 23</caption>\n",
       "<thead>\n",
       "\t<tr><th></th><th scope=col>index</th><th scope=col>date</th><th scope=col>type</th><th scope=col>co</th><th scope=col>quan</th><th scope=col>pps</th><th scope=col>basis</th><th scope=col>sale_quan</th><th scope=col>flag</th><th scope=col>buy_cf_quan</th><th scope=col>⋯</th><th scope=col>buy_pps</th><th scope=col>buy_basis</th><th scope=col>sell_quan</th><th scope=col>sell_pps</th><th scope=col>sell_basis</th><th scope=col>profit_loss</th><th scope=col>sold_cf_quan</th><th scope=col>sold_cf_pps</th><th scope=col>sold_cf_basis</th><th scope=col>true_false</th></tr>\n",
       "\t<tr><th></th><th scope=col>&lt;int&gt;</th><th scope=col>&lt;date&gt;</th><th scope=col>&lt;chr&gt;</th><th scope=col>&lt;chr&gt;</th><th scope=col>&lt;dbl&gt;</th><th scope=col>&lt;dbl&gt;</th><th scope=col>&lt;dbl&gt;</th><th scope=col>&lt;dbl&gt;</th><th scope=col>&lt;lgl&gt;</th><th scope=col>&lt;dbl&gt;</th><th scope=col>⋯</th><th scope=col>&lt;dbl&gt;</th><th scope=col>&lt;dbl&gt;</th><th scope=col>&lt;dbl&gt;</th><th scope=col>&lt;dbl&gt;</th><th scope=col>&lt;dbl&gt;</th><th scope=col>&lt;dbl&gt;</th><th scope=col>&lt;dbl&gt;</th><th scope=col>&lt;dbl&gt;</th><th scope=col>&lt;dbl&gt;</th><th scope=col>&lt;dbl&gt;</th></tr>\n",
       "</thead>\n",
       "<tbody>\n",
       "\t<tr><th scope=row>2</th><td> 5</td><td>2023-01-23</td><td>Buy CF</td><td>AMC</td><td>  50</td><td>5.7880</td><td>  289.4</td><td>0</td><td> TRUE</td><td>0</td><td>⋯</td><td>0</td><td>0</td><td>0</td><td>0</td><td>0</td><td>0</td><td>0</td><td>0</td><td>0</td><td>0</td></tr>\n",
       "\t<tr><th scope=row>3</th><td> 7</td><td>2023-01-27</td><td>Buy   </td><td>AMC</td><td>2000</td><td>5.2394</td><td>10478.8</td><td>0</td><td>FALSE</td><td>0</td><td>⋯</td><td>0</td><td>0</td><td>0</td><td>0</td><td>0</td><td>0</td><td>0</td><td>0</td><td>0</td><td>0</td></tr>\n",
       "\t<tr><th scope=row>4</th><td> 9</td><td>2023-02-10</td><td>Buy   </td><td>AMC</td><td>2000</td><td>4.7450</td><td> 9490.0</td><td>0</td><td>FALSE</td><td>0</td><td>⋯</td><td>0</td><td>0</td><td>0</td><td>0</td><td>0</td><td>0</td><td>0</td><td>0</td><td>0</td><td>0</td></tr>\n",
       "\t<tr><th scope=row>5</th><td>11</td><td>2023-02-10</td><td>Buy   </td><td>AMC</td><td>1000</td><td>4.7800</td><td> 4780.0</td><td>0</td><td>FALSE</td><td>0</td><td>⋯</td><td>0</td><td>0</td><td>0</td><td>0</td><td>0</td><td>0</td><td>0</td><td>0</td><td>0</td><td>0</td></tr>\n",
       "\t<tr><th scope=row>6</th><td>12</td><td>2023-02-13</td><td>Buy   </td><td>AMC</td><td>3000</td><td>4.7296</td><td>14188.8</td><td>0</td><td>FALSE</td><td>0</td><td>⋯</td><td>0</td><td>0</td><td>0</td><td>0</td><td>0</td><td>0</td><td>0</td><td>0</td><td>0</td><td>0</td></tr>\n",
       "</tbody>\n",
       "</table>\n"
      ],
      "text/latex": [
       "A data.frame: 5 × 23\n",
       "\\begin{tabular}{r|lllllllllllllllllllll}\n",
       "  & index & date & type & co & quan & pps & basis & sale\\_quan & flag & buy\\_cf\\_quan & ⋯ & buy\\_pps & buy\\_basis & sell\\_quan & sell\\_pps & sell\\_basis & profit\\_loss & sold\\_cf\\_quan & sold\\_cf\\_pps & sold\\_cf\\_basis & true\\_false\\\\\n",
       "  & <int> & <date> & <chr> & <chr> & <dbl> & <dbl> & <dbl> & <dbl> & <lgl> & <dbl> & ⋯ & <dbl> & <dbl> & <dbl> & <dbl> & <dbl> & <dbl> & <dbl> & <dbl> & <dbl> & <dbl>\\\\\n",
       "\\hline\n",
       "\t2 &  5 & 2023-01-23 & Buy CF & AMC &   50 & 5.7880 &   289.4 & 0 &  TRUE & 0 & ⋯ & 0 & 0 & 0 & 0 & 0 & 0 & 0 & 0 & 0 & 0\\\\\n",
       "\t3 &  7 & 2023-01-27 & Buy    & AMC & 2000 & 5.2394 & 10478.8 & 0 & FALSE & 0 & ⋯ & 0 & 0 & 0 & 0 & 0 & 0 & 0 & 0 & 0 & 0\\\\\n",
       "\t4 &  9 & 2023-02-10 & Buy    & AMC & 2000 & 4.7450 &  9490.0 & 0 & FALSE & 0 & ⋯ & 0 & 0 & 0 & 0 & 0 & 0 & 0 & 0 & 0 & 0\\\\\n",
       "\t5 & 11 & 2023-02-10 & Buy    & AMC & 1000 & 4.7800 &  4780.0 & 0 & FALSE & 0 & ⋯ & 0 & 0 & 0 & 0 & 0 & 0 & 0 & 0 & 0 & 0\\\\\n",
       "\t6 & 12 & 2023-02-13 & Buy    & AMC & 3000 & 4.7296 & 14188.8 & 0 & FALSE & 0 & ⋯ & 0 & 0 & 0 & 0 & 0 & 0 & 0 & 0 & 0 & 0\\\\\n",
       "\\end{tabular}\n"
      ],
      "text/markdown": [
       "\n",
       "A data.frame: 5 × 23\n",
       "\n",
       "| <!--/--> | index &lt;int&gt; | date &lt;date&gt; | type &lt;chr&gt; | co &lt;chr&gt; | quan &lt;dbl&gt; | pps &lt;dbl&gt; | basis &lt;dbl&gt; | sale_quan &lt;dbl&gt; | flag &lt;lgl&gt; | buy_cf_quan &lt;dbl&gt; | ⋯ ⋯ | buy_pps &lt;dbl&gt; | buy_basis &lt;dbl&gt; | sell_quan &lt;dbl&gt; | sell_pps &lt;dbl&gt; | sell_basis &lt;dbl&gt; | profit_loss &lt;dbl&gt; | sold_cf_quan &lt;dbl&gt; | sold_cf_pps &lt;dbl&gt; | sold_cf_basis &lt;dbl&gt; | true_false &lt;dbl&gt; |\n",
       "|---|---|---|---|---|---|---|---|---|---|---|---|---|---|---|---|---|---|---|---|---|---|\n",
       "| 2 |  5 | 2023-01-23 | Buy CF | AMC |   50 | 5.7880 |   289.4 | 0 |  TRUE | 0 | ⋯ | 0 | 0 | 0 | 0 | 0 | 0 | 0 | 0 | 0 | 0 |\n",
       "| 3 |  7 | 2023-01-27 | Buy    | AMC | 2000 | 5.2394 | 10478.8 | 0 | FALSE | 0 | ⋯ | 0 | 0 | 0 | 0 | 0 | 0 | 0 | 0 | 0 | 0 |\n",
       "| 4 |  9 | 2023-02-10 | Buy    | AMC | 2000 | 4.7450 |  9490.0 | 0 | FALSE | 0 | ⋯ | 0 | 0 | 0 | 0 | 0 | 0 | 0 | 0 | 0 | 0 |\n",
       "| 5 | 11 | 2023-02-10 | Buy    | AMC | 1000 | 4.7800 |  4780.0 | 0 | FALSE | 0 | ⋯ | 0 | 0 | 0 | 0 | 0 | 0 | 0 | 0 | 0 | 0 |\n",
       "| 6 | 12 | 2023-02-13 | Buy    | AMC | 3000 | 4.7296 | 14188.8 | 0 | FALSE | 0 | ⋯ | 0 | 0 | 0 | 0 | 0 | 0 | 0 | 0 | 0 | 0 |\n",
       "\n"
      ],
      "text/plain": [
       "  index date       type   co  quan pps    basis   sale_quan flag  buy_cf_quan ⋯\n",
       "2  5    2023-01-23 Buy CF AMC   50 5.7880   289.4 0          TRUE 0           ⋯\n",
       "3  7    2023-01-27 Buy    AMC 2000 5.2394 10478.8 0         FALSE 0           ⋯\n",
       "4  9    2023-02-10 Buy    AMC 2000 4.7450  9490.0 0         FALSE 0           ⋯\n",
       "5 11    2023-02-10 Buy    AMC 1000 4.7800  4780.0 0         FALSE 0           ⋯\n",
       "6 12    2023-02-13 Buy    AMC 3000 4.7296 14188.8 0         FALSE 0           ⋯\n",
       "  buy_pps buy_basis sell_quan sell_pps sell_basis profit_loss sold_cf_quan\n",
       "2 0       0         0         0        0          0           0           \n",
       "3 0       0         0         0        0          0           0           \n",
       "4 0       0         0         0        0          0           0           \n",
       "5 0       0         0         0        0          0           0           \n",
       "6 0       0         0         0        0          0           0           \n",
       "  sold_cf_pps sold_cf_basis true_false\n",
       "2 0           0             0         \n",
       "3 0           0             0         \n",
       "4 0           0             0         \n",
       "5 0           0             0         \n",
       "6 0           0             0         "
      ]
     },
     "metadata": {},
     "output_type": "display_data"
    },
    {
     "data": {
      "text/html": [
       "<table class=\"dataframe\">\n",
       "<caption>A data.frame: 5 × 23</caption>\n",
       "<thead>\n",
       "\t<tr><th></th><th scope=col>index</th><th scope=col>date</th><th scope=col>type</th><th scope=col>co</th><th scope=col>quan</th><th scope=col>pps</th><th scope=col>basis</th><th scope=col>sale_quan</th><th scope=col>flag</th><th scope=col>buy_cf_quan</th><th scope=col>⋯</th><th scope=col>buy_pps</th><th scope=col>buy_basis</th><th scope=col>sell_quan</th><th scope=col>sell_pps</th><th scope=col>sell_basis</th><th scope=col>profit_loss</th><th scope=col>sold_cf_quan</th><th scope=col>sold_cf_pps</th><th scope=col>sold_cf_basis</th><th scope=col>true_false</th></tr>\n",
       "\t<tr><th></th><th scope=col>&lt;int&gt;</th><th scope=col>&lt;date&gt;</th><th scope=col>&lt;chr&gt;</th><th scope=col>&lt;chr&gt;</th><th scope=col>&lt;dbl&gt;</th><th scope=col>&lt;dbl&gt;</th><th scope=col>&lt;dbl&gt;</th><th scope=col>&lt;dbl&gt;</th><th scope=col>&lt;lgl&gt;</th><th scope=col>&lt;dbl&gt;</th><th scope=col>⋯</th><th scope=col>&lt;dbl&gt;</th><th scope=col>&lt;dbl&gt;</th><th scope=col>&lt;dbl&gt;</th><th scope=col>&lt;dbl&gt;</th><th scope=col>&lt;dbl&gt;</th><th scope=col>&lt;dbl&gt;</th><th scope=col>&lt;dbl&gt;</th><th scope=col>&lt;dbl&gt;</th><th scope=col>&lt;dbl&gt;</th><th scope=col>&lt;dbl&gt;</th></tr>\n",
       "</thead>\n",
       "<tbody>\n",
       "\t<tr><th scope=row>1</th><td> 5</td><td>2023-01-23</td><td>Sell CF</td><td>AMC</td><td>  50</td><td>5.5124</td><td>    5.5124</td><td>0</td><td> TRUE</td><td>0</td><td>⋯</td><td>0</td><td>0</td><td>0</td><td>0</td><td>0</td><td>0</td><td>0</td><td>0</td><td>0</td><td>0</td></tr>\n",
       "\t<tr><th scope=row>3</th><td> 8</td><td>2023-02-03</td><td>Sell   </td><td>AMC</td><td> 950</td><td>5.5124</td><td> 5236.7800</td><td>0</td><td>FALSE</td><td>0</td><td>⋯</td><td>0</td><td>0</td><td>0</td><td>0</td><td>0</td><td>0</td><td>0</td><td>0</td><td>0</td><td>0</td></tr>\n",
       "\t<tr><th scope=row>4</th><td>10</td><td>2023-02-21</td><td>Sell   </td><td>AMC</td><td>3000</td><td>5.8550</td><td>17565.0000</td><td>0</td><td>FALSE</td><td>0</td><td>⋯</td><td>0</td><td>0</td><td>0</td><td>0</td><td>0</td><td>0</td><td>0</td><td>0</td><td>0</td><td>0</td></tr>\n",
       "\t<tr><th scope=row>5</th><td>16</td><td>2023-02-22</td><td>Sell   </td><td>AMC</td><td>6000</td><td>6.6150</td><td>39690.0000</td><td>0</td><td>FALSE</td><td>0</td><td>⋯</td><td>0</td><td>0</td><td>0</td><td>0</td><td>0</td><td>0</td><td>0</td><td>0</td><td>0</td><td>0</td></tr>\n",
       "\t<tr><th scope=row>6</th><td>18</td><td>2023-02-27</td><td>Sell   </td><td>AMC</td><td>3000</td><td>7.8160</td><td>23448.0000</td><td>0</td><td>FALSE</td><td>0</td><td>⋯</td><td>0</td><td>0</td><td>0</td><td>0</td><td>0</td><td>0</td><td>0</td><td>0</td><td>0</td><td>0</td></tr>\n",
       "</tbody>\n",
       "</table>\n"
      ],
      "text/latex": [
       "A data.frame: 5 × 23\n",
       "\\begin{tabular}{r|lllllllllllllllllllll}\n",
       "  & index & date & type & co & quan & pps & basis & sale\\_quan & flag & buy\\_cf\\_quan & ⋯ & buy\\_pps & buy\\_basis & sell\\_quan & sell\\_pps & sell\\_basis & profit\\_loss & sold\\_cf\\_quan & sold\\_cf\\_pps & sold\\_cf\\_basis & true\\_false\\\\\n",
       "  & <int> & <date> & <chr> & <chr> & <dbl> & <dbl> & <dbl> & <dbl> & <lgl> & <dbl> & ⋯ & <dbl> & <dbl> & <dbl> & <dbl> & <dbl> & <dbl> & <dbl> & <dbl> & <dbl> & <dbl>\\\\\n",
       "\\hline\n",
       "\t1 &  5 & 2023-01-23 & Sell CF & AMC &   50 & 5.5124 &     5.5124 & 0 &  TRUE & 0 & ⋯ & 0 & 0 & 0 & 0 & 0 & 0 & 0 & 0 & 0 & 0\\\\\n",
       "\t3 &  8 & 2023-02-03 & Sell    & AMC &  950 & 5.5124 &  5236.7800 & 0 & FALSE & 0 & ⋯ & 0 & 0 & 0 & 0 & 0 & 0 & 0 & 0 & 0 & 0\\\\\n",
       "\t4 & 10 & 2023-02-21 & Sell    & AMC & 3000 & 5.8550 & 17565.0000 & 0 & FALSE & 0 & ⋯ & 0 & 0 & 0 & 0 & 0 & 0 & 0 & 0 & 0 & 0\\\\\n",
       "\t5 & 16 & 2023-02-22 & Sell    & AMC & 6000 & 6.6150 & 39690.0000 & 0 & FALSE & 0 & ⋯ & 0 & 0 & 0 & 0 & 0 & 0 & 0 & 0 & 0 & 0\\\\\n",
       "\t6 & 18 & 2023-02-27 & Sell    & AMC & 3000 & 7.8160 & 23448.0000 & 0 & FALSE & 0 & ⋯ & 0 & 0 & 0 & 0 & 0 & 0 & 0 & 0 & 0 & 0\\\\\n",
       "\\end{tabular}\n"
      ],
      "text/markdown": [
       "\n",
       "A data.frame: 5 × 23\n",
       "\n",
       "| <!--/--> | index &lt;int&gt; | date &lt;date&gt; | type &lt;chr&gt; | co &lt;chr&gt; | quan &lt;dbl&gt; | pps &lt;dbl&gt; | basis &lt;dbl&gt; | sale_quan &lt;dbl&gt; | flag &lt;lgl&gt; | buy_cf_quan &lt;dbl&gt; | ⋯ ⋯ | buy_pps &lt;dbl&gt; | buy_basis &lt;dbl&gt; | sell_quan &lt;dbl&gt; | sell_pps &lt;dbl&gt; | sell_basis &lt;dbl&gt; | profit_loss &lt;dbl&gt; | sold_cf_quan &lt;dbl&gt; | sold_cf_pps &lt;dbl&gt; | sold_cf_basis &lt;dbl&gt; | true_false &lt;dbl&gt; |\n",
       "|---|---|---|---|---|---|---|---|---|---|---|---|---|---|---|---|---|---|---|---|---|---|\n",
       "| 1 |  5 | 2023-01-23 | Sell CF | AMC |   50 | 5.5124 |     5.5124 | 0 |  TRUE | 0 | ⋯ | 0 | 0 | 0 | 0 | 0 | 0 | 0 | 0 | 0 | 0 |\n",
       "| 3 |  8 | 2023-02-03 | Sell    | AMC |  950 | 5.5124 |  5236.7800 | 0 | FALSE | 0 | ⋯ | 0 | 0 | 0 | 0 | 0 | 0 | 0 | 0 | 0 | 0 |\n",
       "| 4 | 10 | 2023-02-21 | Sell    | AMC | 3000 | 5.8550 | 17565.0000 | 0 | FALSE | 0 | ⋯ | 0 | 0 | 0 | 0 | 0 | 0 | 0 | 0 | 0 | 0 |\n",
       "| 5 | 16 | 2023-02-22 | Sell    | AMC | 6000 | 6.6150 | 39690.0000 | 0 | FALSE | 0 | ⋯ | 0 | 0 | 0 | 0 | 0 | 0 | 0 | 0 | 0 | 0 |\n",
       "| 6 | 18 | 2023-02-27 | Sell    | AMC | 3000 | 7.8160 | 23448.0000 | 0 | FALSE | 0 | ⋯ | 0 | 0 | 0 | 0 | 0 | 0 | 0 | 0 | 0 | 0 |\n",
       "\n"
      ],
      "text/plain": [
       "  index date       type    co  quan pps    basis      sale_quan flag \n",
       "1  5    2023-01-23 Sell CF AMC   50 5.5124     5.5124 0          TRUE\n",
       "3  8    2023-02-03 Sell    AMC  950 5.5124  5236.7800 0         FALSE\n",
       "4 10    2023-02-21 Sell    AMC 3000 5.8550 17565.0000 0         FALSE\n",
       "5 16    2023-02-22 Sell    AMC 6000 6.6150 39690.0000 0         FALSE\n",
       "6 18    2023-02-27 Sell    AMC 3000 7.8160 23448.0000 0         FALSE\n",
       "  buy_cf_quan ⋯ buy_pps buy_basis sell_quan sell_pps sell_basis profit_loss\n",
       "1 0           ⋯ 0       0         0         0        0          0          \n",
       "3 0           ⋯ 0       0         0         0        0          0          \n",
       "4 0           ⋯ 0       0         0         0        0          0          \n",
       "5 0           ⋯ 0       0         0         0        0          0          \n",
       "6 0           ⋯ 0       0         0         0        0          0          \n",
       "  sold_cf_quan sold_cf_pps sold_cf_basis true_false\n",
       "1 0            0           0             0         \n",
       "3 0            0           0             0         \n",
       "4 0            0           0             0         \n",
       "5 0            0           0             0         \n",
       "6 0            0           0             0         "
      ]
     },
     "metadata": {},
     "output_type": "display_data"
    }
   ],
   "source": [
    "head(buys,5)\n",
    "head(sells,5)"
   ]
  },
  {
   "cell_type": "markdown",
   "id": "b693b86d-4d3f-4a79-9ec9-8d5c53a10d6e",
   "metadata": {},
   "source": [
    "#### <font color = yellow>5. snips () Create a new variable from buys/sells row 1, then delete row 1 from buys and sells (copy_snip () )\n"
   ]
  },
  {
   "cell_type": "code",
   "execution_count": 79,
   "id": "3404f17d-44e5-4d9b-add1-76770baddd0f",
   "metadata": {},
   "outputs": [
    {
     "name": "stdout",
     "output_type": "stream",
     "text": [
      "new condtional works for filtering in copy_snip when cf-cf \n"
     ]
    }
   ],
   "source": [
    "copy_snip_list <- copy_snip(b, s, buys, sells) \n",
    "\n",
    "b1 <- copy_snip_list[[1]]\n",
    "s1 <- copy_snip_list[[2]]\n",
    "buys <- copy_snip_list[[3]]\n",
    "sells <- copy_snip_list[[4]]\n",
    "\n",
    "# after\n",
    "# dim(buys)\n",
    "# dim(sells)\n",
    "# # b1\n",
    "# s1\n"
   ]
  },
  {
   "cell_type": "code",
   "execution_count": 80,
   "id": "b3af4dc8-2feb-4723-85bd-1b44d6ab8208",
   "metadata": {},
   "outputs": [
    {
     "data": {
      "text/html": [
       "<table class=\"dataframe\">\n",
       "<caption>A data.frame: 5 × 23</caption>\n",
       "<thead>\n",
       "\t<tr><th></th><th scope=col>index</th><th scope=col>date</th><th scope=col>type</th><th scope=col>co</th><th scope=col>quan</th><th scope=col>pps</th><th scope=col>basis</th><th scope=col>sale_quan</th><th scope=col>flag</th><th scope=col>buy_cf_quan</th><th scope=col>⋯</th><th scope=col>buy_pps</th><th scope=col>buy_basis</th><th scope=col>sell_quan</th><th scope=col>sell_pps</th><th scope=col>sell_basis</th><th scope=col>profit_loss</th><th scope=col>sold_cf_quan</th><th scope=col>sold_cf_pps</th><th scope=col>sold_cf_basis</th><th scope=col>true_false</th></tr>\n",
       "\t<tr><th></th><th scope=col>&lt;int&gt;</th><th scope=col>&lt;date&gt;</th><th scope=col>&lt;chr&gt;</th><th scope=col>&lt;chr&gt;</th><th scope=col>&lt;dbl&gt;</th><th scope=col>&lt;dbl&gt;</th><th scope=col>&lt;dbl&gt;</th><th scope=col>&lt;dbl&gt;</th><th scope=col>&lt;lgl&gt;</th><th scope=col>&lt;dbl&gt;</th><th scope=col>⋯</th><th scope=col>&lt;dbl&gt;</th><th scope=col>&lt;dbl&gt;</th><th scope=col>&lt;dbl&gt;</th><th scope=col>&lt;dbl&gt;</th><th scope=col>&lt;dbl&gt;</th><th scope=col>&lt;dbl&gt;</th><th scope=col>&lt;dbl&gt;</th><th scope=col>&lt;dbl&gt;</th><th scope=col>&lt;dbl&gt;</th><th scope=col>&lt;dbl&gt;</th></tr>\n",
       "</thead>\n",
       "<tbody>\n",
       "\t<tr><th scope=row>3</th><td> 7</td><td>2023-01-27</td><td>Buy</td><td>AMC</td><td>2000</td><td>5.2394</td><td>10478.80</td><td>0</td><td>FALSE</td><td>0</td><td>⋯</td><td>0</td><td>0</td><td>0</td><td>0</td><td>0</td><td>0</td><td>0</td><td>0</td><td>0</td><td>0</td></tr>\n",
       "\t<tr><th scope=row>4</th><td> 9</td><td>2023-02-10</td><td>Buy</td><td>AMC</td><td>2000</td><td>4.7450</td><td> 9490.00</td><td>0</td><td>FALSE</td><td>0</td><td>⋯</td><td>0</td><td>0</td><td>0</td><td>0</td><td>0</td><td>0</td><td>0</td><td>0</td><td>0</td><td>0</td></tr>\n",
       "\t<tr><th scope=row>5</th><td>11</td><td>2023-02-10</td><td>Buy</td><td>AMC</td><td>1000</td><td>4.7800</td><td> 4780.00</td><td>0</td><td>FALSE</td><td>0</td><td>⋯</td><td>0</td><td>0</td><td>0</td><td>0</td><td>0</td><td>0</td><td>0</td><td>0</td><td>0</td><td>0</td></tr>\n",
       "\t<tr><th scope=row>6</th><td>12</td><td>2023-02-13</td><td>Buy</td><td>AMC</td><td>3000</td><td>4.7296</td><td>14188.80</td><td>0</td><td>FALSE</td><td>0</td><td>⋯</td><td>0</td><td>0</td><td>0</td><td>0</td><td>0</td><td>0</td><td>0</td><td>0</td><td>0</td><td>0</td></tr>\n",
       "\t<tr><th scope=row>7</th><td>13</td><td>2023-02-13</td><td>Buy</td><td>AMC</td><td>1500</td><td>4.7183</td><td> 7077.45</td><td>0</td><td>FALSE</td><td>0</td><td>⋯</td><td>0</td><td>0</td><td>0</td><td>0</td><td>0</td><td>0</td><td>0</td><td>0</td><td>0</td><td>0</td></tr>\n",
       "</tbody>\n",
       "</table>\n"
      ],
      "text/latex": [
       "A data.frame: 5 × 23\n",
       "\\begin{tabular}{r|lllllllllllllllllllll}\n",
       "  & index & date & type & co & quan & pps & basis & sale\\_quan & flag & buy\\_cf\\_quan & ⋯ & buy\\_pps & buy\\_basis & sell\\_quan & sell\\_pps & sell\\_basis & profit\\_loss & sold\\_cf\\_quan & sold\\_cf\\_pps & sold\\_cf\\_basis & true\\_false\\\\\n",
       "  & <int> & <date> & <chr> & <chr> & <dbl> & <dbl> & <dbl> & <dbl> & <lgl> & <dbl> & ⋯ & <dbl> & <dbl> & <dbl> & <dbl> & <dbl> & <dbl> & <dbl> & <dbl> & <dbl> & <dbl>\\\\\n",
       "\\hline\n",
       "\t3 &  7 & 2023-01-27 & Buy & AMC & 2000 & 5.2394 & 10478.80 & 0 & FALSE & 0 & ⋯ & 0 & 0 & 0 & 0 & 0 & 0 & 0 & 0 & 0 & 0\\\\\n",
       "\t4 &  9 & 2023-02-10 & Buy & AMC & 2000 & 4.7450 &  9490.00 & 0 & FALSE & 0 & ⋯ & 0 & 0 & 0 & 0 & 0 & 0 & 0 & 0 & 0 & 0\\\\\n",
       "\t5 & 11 & 2023-02-10 & Buy & AMC & 1000 & 4.7800 &  4780.00 & 0 & FALSE & 0 & ⋯ & 0 & 0 & 0 & 0 & 0 & 0 & 0 & 0 & 0 & 0\\\\\n",
       "\t6 & 12 & 2023-02-13 & Buy & AMC & 3000 & 4.7296 & 14188.80 & 0 & FALSE & 0 & ⋯ & 0 & 0 & 0 & 0 & 0 & 0 & 0 & 0 & 0 & 0\\\\\n",
       "\t7 & 13 & 2023-02-13 & Buy & AMC & 1500 & 4.7183 &  7077.45 & 0 & FALSE & 0 & ⋯ & 0 & 0 & 0 & 0 & 0 & 0 & 0 & 0 & 0 & 0\\\\\n",
       "\\end{tabular}\n"
      ],
      "text/markdown": [
       "\n",
       "A data.frame: 5 × 23\n",
       "\n",
       "| <!--/--> | index &lt;int&gt; | date &lt;date&gt; | type &lt;chr&gt; | co &lt;chr&gt; | quan &lt;dbl&gt; | pps &lt;dbl&gt; | basis &lt;dbl&gt; | sale_quan &lt;dbl&gt; | flag &lt;lgl&gt; | buy_cf_quan &lt;dbl&gt; | ⋯ ⋯ | buy_pps &lt;dbl&gt; | buy_basis &lt;dbl&gt; | sell_quan &lt;dbl&gt; | sell_pps &lt;dbl&gt; | sell_basis &lt;dbl&gt; | profit_loss &lt;dbl&gt; | sold_cf_quan &lt;dbl&gt; | sold_cf_pps &lt;dbl&gt; | sold_cf_basis &lt;dbl&gt; | true_false &lt;dbl&gt; |\n",
       "|---|---|---|---|---|---|---|---|---|---|---|---|---|---|---|---|---|---|---|---|---|---|\n",
       "| 3 |  7 | 2023-01-27 | Buy | AMC | 2000 | 5.2394 | 10478.80 | 0 | FALSE | 0 | ⋯ | 0 | 0 | 0 | 0 | 0 | 0 | 0 | 0 | 0 | 0 |\n",
       "| 4 |  9 | 2023-02-10 | Buy | AMC | 2000 | 4.7450 |  9490.00 | 0 | FALSE | 0 | ⋯ | 0 | 0 | 0 | 0 | 0 | 0 | 0 | 0 | 0 | 0 |\n",
       "| 5 | 11 | 2023-02-10 | Buy | AMC | 1000 | 4.7800 |  4780.00 | 0 | FALSE | 0 | ⋯ | 0 | 0 | 0 | 0 | 0 | 0 | 0 | 0 | 0 | 0 |\n",
       "| 6 | 12 | 2023-02-13 | Buy | AMC | 3000 | 4.7296 | 14188.80 | 0 | FALSE | 0 | ⋯ | 0 | 0 | 0 | 0 | 0 | 0 | 0 | 0 | 0 | 0 |\n",
       "| 7 | 13 | 2023-02-13 | Buy | AMC | 1500 | 4.7183 |  7077.45 | 0 | FALSE | 0 | ⋯ | 0 | 0 | 0 | 0 | 0 | 0 | 0 | 0 | 0 | 0 |\n",
       "\n"
      ],
      "text/plain": [
       "  index date       type co  quan pps    basis    sale_quan flag  buy_cf_quan ⋯\n",
       "3  7    2023-01-27 Buy  AMC 2000 5.2394 10478.80 0         FALSE 0           ⋯\n",
       "4  9    2023-02-10 Buy  AMC 2000 4.7450  9490.00 0         FALSE 0           ⋯\n",
       "5 11    2023-02-10 Buy  AMC 1000 4.7800  4780.00 0         FALSE 0           ⋯\n",
       "6 12    2023-02-13 Buy  AMC 3000 4.7296 14188.80 0         FALSE 0           ⋯\n",
       "7 13    2023-02-13 Buy  AMC 1500 4.7183  7077.45 0         FALSE 0           ⋯\n",
       "  buy_pps buy_basis sell_quan sell_pps sell_basis profit_loss sold_cf_quan\n",
       "3 0       0         0         0        0          0           0           \n",
       "4 0       0         0         0        0          0           0           \n",
       "5 0       0         0         0        0          0           0           \n",
       "6 0       0         0         0        0          0           0           \n",
       "7 0       0         0         0        0          0           0           \n",
       "  sold_cf_pps sold_cf_basis true_false\n",
       "3 0           0             0         \n",
       "4 0           0             0         \n",
       "5 0           0             0         \n",
       "6 0           0             0         \n",
       "7 0           0             0         "
      ]
     },
     "metadata": {},
     "output_type": "display_data"
    },
    {
     "data": {
      "text/html": [
       "<table class=\"dataframe\">\n",
       "<caption>A data.frame: 5 × 23</caption>\n",
       "<thead>\n",
       "\t<tr><th></th><th scope=col>index</th><th scope=col>date</th><th scope=col>type</th><th scope=col>co</th><th scope=col>quan</th><th scope=col>pps</th><th scope=col>basis</th><th scope=col>sale_quan</th><th scope=col>flag</th><th scope=col>buy_cf_quan</th><th scope=col>⋯</th><th scope=col>buy_pps</th><th scope=col>buy_basis</th><th scope=col>sell_quan</th><th scope=col>sell_pps</th><th scope=col>sell_basis</th><th scope=col>profit_loss</th><th scope=col>sold_cf_quan</th><th scope=col>sold_cf_pps</th><th scope=col>sold_cf_basis</th><th scope=col>true_false</th></tr>\n",
       "\t<tr><th></th><th scope=col>&lt;int&gt;</th><th scope=col>&lt;date&gt;</th><th scope=col>&lt;chr&gt;</th><th scope=col>&lt;chr&gt;</th><th scope=col>&lt;dbl&gt;</th><th scope=col>&lt;dbl&gt;</th><th scope=col>&lt;dbl&gt;</th><th scope=col>&lt;dbl&gt;</th><th scope=col>&lt;lgl&gt;</th><th scope=col>&lt;dbl&gt;</th><th scope=col>⋯</th><th scope=col>&lt;dbl&gt;</th><th scope=col>&lt;dbl&gt;</th><th scope=col>&lt;dbl&gt;</th><th scope=col>&lt;dbl&gt;</th><th scope=col>&lt;dbl&gt;</th><th scope=col>&lt;dbl&gt;</th><th scope=col>&lt;dbl&gt;</th><th scope=col>&lt;dbl&gt;</th><th scope=col>&lt;dbl&gt;</th><th scope=col>&lt;dbl&gt;</th></tr>\n",
       "</thead>\n",
       "<tbody>\n",
       "\t<tr><th scope=row>3</th><td> 8</td><td>2023-02-03</td><td>Sell</td><td>AMC</td><td> 950</td><td>5.5124</td><td> 5236.78</td><td>0</td><td>FALSE</td><td>0</td><td>⋯</td><td>0</td><td>0</td><td>0</td><td>0</td><td>0</td><td>0</td><td>0</td><td>0</td><td>0</td><td>0</td></tr>\n",
       "\t<tr><th scope=row>4</th><td>10</td><td>2023-02-21</td><td>Sell</td><td>AMC</td><td>3000</td><td>5.8550</td><td>17565.00</td><td>0</td><td>FALSE</td><td>0</td><td>⋯</td><td>0</td><td>0</td><td>0</td><td>0</td><td>0</td><td>0</td><td>0</td><td>0</td><td>0</td><td>0</td></tr>\n",
       "\t<tr><th scope=row>5</th><td>16</td><td>2023-02-22</td><td>Sell</td><td>AMC</td><td>6000</td><td>6.6150</td><td>39690.00</td><td>0</td><td>FALSE</td><td>0</td><td>⋯</td><td>0</td><td>0</td><td>0</td><td>0</td><td>0</td><td>0</td><td>0</td><td>0</td><td>0</td><td>0</td></tr>\n",
       "\t<tr><th scope=row>6</th><td>18</td><td>2023-02-27</td><td>Sell</td><td>AMC</td><td>3000</td><td>7.8160</td><td>23448.00</td><td>0</td><td>FALSE</td><td>0</td><td>⋯</td><td>0</td><td>0</td><td>0</td><td>0</td><td>0</td><td>0</td><td>0</td><td>0</td><td>0</td><td>0</td></tr>\n",
       "\t<tr><th scope=row>7</th><td>19</td><td>2023-02-27</td><td>Sell</td><td>AMC</td><td>1850</td><td>7.5850</td><td>14032.25</td><td>0</td><td>FALSE</td><td>0</td><td>⋯</td><td>0</td><td>0</td><td>0</td><td>0</td><td>0</td><td>0</td><td>0</td><td>0</td><td>0</td><td>0</td></tr>\n",
       "</tbody>\n",
       "</table>\n"
      ],
      "text/latex": [
       "A data.frame: 5 × 23\n",
       "\\begin{tabular}{r|lllllllllllllllllllll}\n",
       "  & index & date & type & co & quan & pps & basis & sale\\_quan & flag & buy\\_cf\\_quan & ⋯ & buy\\_pps & buy\\_basis & sell\\_quan & sell\\_pps & sell\\_basis & profit\\_loss & sold\\_cf\\_quan & sold\\_cf\\_pps & sold\\_cf\\_basis & true\\_false\\\\\n",
       "  & <int> & <date> & <chr> & <chr> & <dbl> & <dbl> & <dbl> & <dbl> & <lgl> & <dbl> & ⋯ & <dbl> & <dbl> & <dbl> & <dbl> & <dbl> & <dbl> & <dbl> & <dbl> & <dbl> & <dbl>\\\\\n",
       "\\hline\n",
       "\t3 &  8 & 2023-02-03 & Sell & AMC &  950 & 5.5124 &  5236.78 & 0 & FALSE & 0 & ⋯ & 0 & 0 & 0 & 0 & 0 & 0 & 0 & 0 & 0 & 0\\\\\n",
       "\t4 & 10 & 2023-02-21 & Sell & AMC & 3000 & 5.8550 & 17565.00 & 0 & FALSE & 0 & ⋯ & 0 & 0 & 0 & 0 & 0 & 0 & 0 & 0 & 0 & 0\\\\\n",
       "\t5 & 16 & 2023-02-22 & Sell & AMC & 6000 & 6.6150 & 39690.00 & 0 & FALSE & 0 & ⋯ & 0 & 0 & 0 & 0 & 0 & 0 & 0 & 0 & 0 & 0\\\\\n",
       "\t6 & 18 & 2023-02-27 & Sell & AMC & 3000 & 7.8160 & 23448.00 & 0 & FALSE & 0 & ⋯ & 0 & 0 & 0 & 0 & 0 & 0 & 0 & 0 & 0 & 0\\\\\n",
       "\t7 & 19 & 2023-02-27 & Sell & AMC & 1850 & 7.5850 & 14032.25 & 0 & FALSE & 0 & ⋯ & 0 & 0 & 0 & 0 & 0 & 0 & 0 & 0 & 0 & 0\\\\\n",
       "\\end{tabular}\n"
      ],
      "text/markdown": [
       "\n",
       "A data.frame: 5 × 23\n",
       "\n",
       "| <!--/--> | index &lt;int&gt; | date &lt;date&gt; | type &lt;chr&gt; | co &lt;chr&gt; | quan &lt;dbl&gt; | pps &lt;dbl&gt; | basis &lt;dbl&gt; | sale_quan &lt;dbl&gt; | flag &lt;lgl&gt; | buy_cf_quan &lt;dbl&gt; | ⋯ ⋯ | buy_pps &lt;dbl&gt; | buy_basis &lt;dbl&gt; | sell_quan &lt;dbl&gt; | sell_pps &lt;dbl&gt; | sell_basis &lt;dbl&gt; | profit_loss &lt;dbl&gt; | sold_cf_quan &lt;dbl&gt; | sold_cf_pps &lt;dbl&gt; | sold_cf_basis &lt;dbl&gt; | true_false &lt;dbl&gt; |\n",
       "|---|---|---|---|---|---|---|---|---|---|---|---|---|---|---|---|---|---|---|---|---|---|\n",
       "| 3 |  8 | 2023-02-03 | Sell | AMC |  950 | 5.5124 |  5236.78 | 0 | FALSE | 0 | ⋯ | 0 | 0 | 0 | 0 | 0 | 0 | 0 | 0 | 0 | 0 |\n",
       "| 4 | 10 | 2023-02-21 | Sell | AMC | 3000 | 5.8550 | 17565.00 | 0 | FALSE | 0 | ⋯ | 0 | 0 | 0 | 0 | 0 | 0 | 0 | 0 | 0 | 0 |\n",
       "| 5 | 16 | 2023-02-22 | Sell | AMC | 6000 | 6.6150 | 39690.00 | 0 | FALSE | 0 | ⋯ | 0 | 0 | 0 | 0 | 0 | 0 | 0 | 0 | 0 | 0 |\n",
       "| 6 | 18 | 2023-02-27 | Sell | AMC | 3000 | 7.8160 | 23448.00 | 0 | FALSE | 0 | ⋯ | 0 | 0 | 0 | 0 | 0 | 0 | 0 | 0 | 0 | 0 |\n",
       "| 7 | 19 | 2023-02-27 | Sell | AMC | 1850 | 7.5850 | 14032.25 | 0 | FALSE | 0 | ⋯ | 0 | 0 | 0 | 0 | 0 | 0 | 0 | 0 | 0 | 0 |\n",
       "\n"
      ],
      "text/plain": [
       "  index date       type co  quan pps    basis    sale_quan flag  buy_cf_quan ⋯\n",
       "3  8    2023-02-03 Sell AMC  950 5.5124  5236.78 0         FALSE 0           ⋯\n",
       "4 10    2023-02-21 Sell AMC 3000 5.8550 17565.00 0         FALSE 0           ⋯\n",
       "5 16    2023-02-22 Sell AMC 6000 6.6150 39690.00 0         FALSE 0           ⋯\n",
       "6 18    2023-02-27 Sell AMC 3000 7.8160 23448.00 0         FALSE 0           ⋯\n",
       "7 19    2023-02-27 Sell AMC 1850 7.5850 14032.25 0         FALSE 0           ⋯\n",
       "  buy_pps buy_basis sell_quan sell_pps sell_basis profit_loss sold_cf_quan\n",
       "3 0       0         0         0        0          0           0           \n",
       "4 0       0         0         0        0          0           0           \n",
       "5 0       0         0         0        0          0           0           \n",
       "6 0       0         0         0        0          0           0           \n",
       "7 0       0         0         0        0          0           0           \n",
       "  sold_cf_pps sold_cf_basis true_false\n",
       "3 0           0             0         \n",
       "4 0           0             0         \n",
       "5 0           0             0         \n",
       "6 0           0             0         \n",
       "7 0           0             0         "
      ]
     },
     "metadata": {},
     "output_type": "display_data"
    }
   ],
   "source": [
    "head(buys,5)\n",
    "head(sells,5)"
   ]
  },
  {
   "cell_type": "markdown",
   "id": "0998e2c9-b9a8-4cc4-990a-f90f898f1a2f",
   "metadata": {},
   "source": [
    "#### <font color = lime> QC: Loop 6 review buys & sells"
   ]
  },
  {
   "cell_type": "code",
   "execution_count": 81,
   "id": "53c1b906-2e50-4b45-b61b-13ec0c4ce76b",
   "metadata": {},
   "outputs": [
    {
     "data": {
      "text/html": [
       "<table class=\"dataframe\">\n",
       "<caption>A data.frame: 6 × 23</caption>\n",
       "<thead>\n",
       "\t<tr><th scope=col>index</th><th scope=col>date</th><th scope=col>type</th><th scope=col>co</th><th scope=col>quan</th><th scope=col>pps</th><th scope=col>basis</th><th scope=col>sale_quan</th><th scope=col>flag</th><th scope=col>buy_cf_quan</th><th scope=col>⋯</th><th scope=col>buy_pps</th><th scope=col>buy_basis</th><th scope=col>sell_quan</th><th scope=col>sell_pps</th><th scope=col>sell_basis</th><th scope=col>profit_loss</th><th scope=col>sold_cf_quan</th><th scope=col>sold_cf_pps</th><th scope=col>sold_cf_basis</th><th scope=col>true_false</th></tr>\n",
       "\t<tr><th scope=col>&lt;int&gt;</th><th scope=col>&lt;date&gt;</th><th scope=col>&lt;chr&gt;</th><th scope=col>&lt;chr&gt;</th><th scope=col>&lt;dbl&gt;</th><th scope=col>&lt;dbl&gt;</th><th scope=col>&lt;dbl&gt;</th><th scope=col>&lt;dbl&gt;</th><th scope=col>&lt;lgl&gt;</th><th scope=col>&lt;dbl&gt;</th><th scope=col>⋯</th><th scope=col>&lt;dbl&gt;</th><th scope=col>&lt;dbl&gt;</th><th scope=col>&lt;dbl&gt;</th><th scope=col>&lt;dbl&gt;</th><th scope=col>&lt;dbl&gt;</th><th scope=col>&lt;dbl&gt;</th><th scope=col>&lt;dbl&gt;</th><th scope=col>&lt;dbl&gt;</th><th scope=col>&lt;dbl&gt;</th><th scope=col>&lt;dbl&gt;</th></tr>\n",
       "</thead>\n",
       "<tbody>\n",
       "\t<tr><td>5</td><td>2023-01-23</td><td>Buy CF</td><td>CFCF</td><td>  50</td><td>5.788</td><td> 289.40</td><td>   0</td><td>TRUE</td><td>0</td><td>⋯</td><td>5.788</td><td> 289.40</td><td>  50</td><td>5.5124</td><td> 275.62</td><td> -13.78</td><td> 0</td><td>0.000</td><td>  0.00</td><td>1</td></tr>\n",
       "\t<tr><td>5</td><td>2023-01-23</td><td>Buy   </td><td>AMC </td><td>1000</td><td>5.788</td><td>5788.00</td><td> 950</td><td>TRUE</td><td>0</td><td>⋯</td><td>5.788</td><td>5498.60</td><td> 950</td><td>5.5124</td><td>5236.78</td><td>-261.82</td><td>50</td><td>5.788</td><td>289.40</td><td>0</td></tr>\n",
       "\t<tr><td>3</td><td>2023-01-20</td><td>Buy CF</td><td>CFCF</td><td>  50</td><td>5.625</td><td> 281.25</td><td>   0</td><td>TRUE</td><td>0</td><td>⋯</td><td>5.625</td><td> 281.25</td><td>  50</td><td>5.5124</td><td> 275.62</td><td>  -5.63</td><td> 0</td><td>0.000</td><td>  0.00</td><td>1</td></tr>\n",
       "\t<tr><td>3</td><td>2023-01-20</td><td>Buy   </td><td>AMC </td><td>1000</td><td>5.625</td><td>5625.00</td><td> 950</td><td>TRUE</td><td>0</td><td>⋯</td><td>5.625</td><td>5343.75</td><td> 950</td><td>5.5124</td><td>5236.78</td><td>-106.97</td><td>50</td><td>5.625</td><td>281.25</td><td>0</td></tr>\n",
       "\t<tr><td>1</td><td>2022-12-31</td><td>Buy CF</td><td>CFCF</td><td>  50</td><td>4.070</td><td> 203.50</td><td>   0</td><td>TRUE</td><td>0</td><td>⋯</td><td>4.070</td><td> 203.50</td><td>  50</td><td>5.5124</td><td> 275.62</td><td>  72.12</td><td> 0</td><td>0.000</td><td>  0.00</td><td>1</td></tr>\n",
       "\t<tr><td>1</td><td>2022-12-31</td><td>Buy   </td><td>AMC </td><td>1050</td><td>4.070</td><td>4273.50</td><td>1000</td><td>TRUE</td><td>0</td><td>⋯</td><td>4.070</td><td>4070.00</td><td>1000</td><td>5.5124</td><td>5512.40</td><td>1442.40</td><td>50</td><td>4.070</td><td>203.50</td><td>0</td></tr>\n",
       "</tbody>\n",
       "</table>\n"
      ],
      "text/latex": [
       "A data.frame: 6 × 23\n",
       "\\begin{tabular}{lllllllllllllllllllll}\n",
       " index & date & type & co & quan & pps & basis & sale\\_quan & flag & buy\\_cf\\_quan & ⋯ & buy\\_pps & buy\\_basis & sell\\_quan & sell\\_pps & sell\\_basis & profit\\_loss & sold\\_cf\\_quan & sold\\_cf\\_pps & sold\\_cf\\_basis & true\\_false\\\\\n",
       " <int> & <date> & <chr> & <chr> & <dbl> & <dbl> & <dbl> & <dbl> & <lgl> & <dbl> & ⋯ & <dbl> & <dbl> & <dbl> & <dbl> & <dbl> & <dbl> & <dbl> & <dbl> & <dbl> & <dbl>\\\\\n",
       "\\hline\n",
       "\t 5 & 2023-01-23 & Buy CF & CFCF &   50 & 5.788 &  289.40 &    0 & TRUE & 0 & ⋯ & 5.788 &  289.40 &   50 & 5.5124 &  275.62 &  -13.78 &  0 & 0.000 &   0.00 & 1\\\\\n",
       "\t 5 & 2023-01-23 & Buy    & AMC  & 1000 & 5.788 & 5788.00 &  950 & TRUE & 0 & ⋯ & 5.788 & 5498.60 &  950 & 5.5124 & 5236.78 & -261.82 & 50 & 5.788 & 289.40 & 0\\\\\n",
       "\t 3 & 2023-01-20 & Buy CF & CFCF &   50 & 5.625 &  281.25 &    0 & TRUE & 0 & ⋯ & 5.625 &  281.25 &   50 & 5.5124 &  275.62 &   -5.63 &  0 & 0.000 &   0.00 & 1\\\\\n",
       "\t 3 & 2023-01-20 & Buy    & AMC  & 1000 & 5.625 & 5625.00 &  950 & TRUE & 0 & ⋯ & 5.625 & 5343.75 &  950 & 5.5124 & 5236.78 & -106.97 & 50 & 5.625 & 281.25 & 0\\\\\n",
       "\t 1 & 2022-12-31 & Buy CF & CFCF &   50 & 4.070 &  203.50 &    0 & TRUE & 0 & ⋯ & 4.070 &  203.50 &   50 & 5.5124 &  275.62 &   72.12 &  0 & 0.000 &   0.00 & 1\\\\\n",
       "\t 1 & 2022-12-31 & Buy    & AMC  & 1050 & 4.070 & 4273.50 & 1000 & TRUE & 0 & ⋯ & 4.070 & 4070.00 & 1000 & 5.5124 & 5512.40 & 1442.40 & 50 & 4.070 & 203.50 & 0\\\\\n",
       "\\end{tabular}\n"
      ],
      "text/markdown": [
       "\n",
       "A data.frame: 6 × 23\n",
       "\n",
       "| index &lt;int&gt; | date &lt;date&gt; | type &lt;chr&gt; | co &lt;chr&gt; | quan &lt;dbl&gt; | pps &lt;dbl&gt; | basis &lt;dbl&gt; | sale_quan &lt;dbl&gt; | flag &lt;lgl&gt; | buy_cf_quan &lt;dbl&gt; | ⋯ ⋯ | buy_pps &lt;dbl&gt; | buy_basis &lt;dbl&gt; | sell_quan &lt;dbl&gt; | sell_pps &lt;dbl&gt; | sell_basis &lt;dbl&gt; | profit_loss &lt;dbl&gt; | sold_cf_quan &lt;dbl&gt; | sold_cf_pps &lt;dbl&gt; | sold_cf_basis &lt;dbl&gt; | true_false &lt;dbl&gt; |\n",
       "|---|---|---|---|---|---|---|---|---|---|---|---|---|---|---|---|---|---|---|---|---|\n",
       "| 5 | 2023-01-23 | Buy CF | CFCF |   50 | 5.788 |  289.40 |    0 | TRUE | 0 | ⋯ | 5.788 |  289.40 |   50 | 5.5124 |  275.62 |  -13.78 |  0 | 0.000 |   0.00 | 1 |\n",
       "| 5 | 2023-01-23 | Buy    | AMC  | 1000 | 5.788 | 5788.00 |  950 | TRUE | 0 | ⋯ | 5.788 | 5498.60 |  950 | 5.5124 | 5236.78 | -261.82 | 50 | 5.788 | 289.40 | 0 |\n",
       "| 3 | 2023-01-20 | Buy CF | CFCF |   50 | 5.625 |  281.25 |    0 | TRUE | 0 | ⋯ | 5.625 |  281.25 |   50 | 5.5124 |  275.62 |   -5.63 |  0 | 0.000 |   0.00 | 1 |\n",
       "| 3 | 2023-01-20 | Buy    | AMC  | 1000 | 5.625 | 5625.00 |  950 | TRUE | 0 | ⋯ | 5.625 | 5343.75 |  950 | 5.5124 | 5236.78 | -106.97 | 50 | 5.625 | 281.25 | 0 |\n",
       "| 1 | 2022-12-31 | Buy CF | CFCF |   50 | 4.070 |  203.50 |    0 | TRUE | 0 | ⋯ | 4.070 |  203.50 |   50 | 5.5124 |  275.62 |   72.12 |  0 | 0.000 |   0.00 | 1 |\n",
       "| 1 | 2022-12-31 | Buy    | AMC  | 1050 | 4.070 | 4273.50 | 1000 | TRUE | 0 | ⋯ | 4.070 | 4070.00 | 1000 | 5.5124 | 5512.40 | 1442.40 | 50 | 4.070 | 203.50 | 0 |\n",
       "\n"
      ],
      "text/plain": [
       "  index date       type   co   quan pps   basis   sale_quan flag buy_cf_quan ⋯\n",
       "1 5     2023-01-23 Buy CF CFCF   50 5.788  289.40    0      TRUE 0           ⋯\n",
       "2 5     2023-01-23 Buy    AMC  1000 5.788 5788.00  950      TRUE 0           ⋯\n",
       "3 3     2023-01-20 Buy CF CFCF   50 5.625  281.25    0      TRUE 0           ⋯\n",
       "4 3     2023-01-20 Buy    AMC  1000 5.625 5625.00  950      TRUE 0           ⋯\n",
       "5 1     2022-12-31 Buy CF CFCF   50 4.070  203.50    0      TRUE 0           ⋯\n",
       "6 1     2022-12-31 Buy    AMC  1050 4.070 4273.50 1000      TRUE 0           ⋯\n",
       "  buy_pps buy_basis sell_quan sell_pps sell_basis profit_loss sold_cf_quan\n",
       "1 5.788    289.40     50      5.5124    275.62     -13.78      0          \n",
       "2 5.788   5498.60    950      5.5124   5236.78    -261.82     50          \n",
       "3 5.625    281.25     50      5.5124    275.62      -5.63      0          \n",
       "4 5.625   5343.75    950      5.5124   5236.78    -106.97     50          \n",
       "5 4.070    203.50     50      5.5124    275.62      72.12      0          \n",
       "6 4.070   4070.00   1000      5.5124   5512.40    1442.40     50          \n",
       "  sold_cf_pps sold_cf_basis true_false\n",
       "1 0.000         0.00        1         \n",
       "2 5.788       289.40        0         \n",
       "3 0.000         0.00        1         \n",
       "4 5.625       281.25        0         \n",
       "5 0.000         0.00        1         \n",
       "6 4.070       203.50        0         "
      ]
     },
     "metadata": {},
     "output_type": "display_data"
    }
   ],
   "source": [
    "sale_records"
   ]
  },
  {
   "cell_type": "code",
   "execution_count": null,
   "id": "8c652b01-4feb-4110-a22a-6c6d6830dbef",
   "metadata": {},
   "outputs": [],
   "source": []
  },
  {
   "cell_type": "markdown",
   "id": "2982dd16-2b0b-46b9-983b-97c7244bfc7e",
   "metadata": {},
   "source": [
    "#### <font color = lime> QC: Loop 6 review buys & sells"
   ]
  },
  {
   "cell_type": "code",
   "execution_count": 82,
   "id": "abd802a8-4a8a-456f-9d27-6d981d8f135d",
   "metadata": {},
   "outputs": [
    {
     "data": {
      "text/html": [
       "<style>\n",
       ".list-inline {list-style: none; margin:0; padding: 0}\n",
       ".list-inline>li {display: inline-block}\n",
       ".list-inline>li:not(:last-child)::after {content: \"\\00b7\"; padding: 0 .5ex}\n",
       "</style>\n",
       "<ol class=list-inline><li>20</li><li>23</li></ol>\n"
      ],
      "text/latex": [
       "\\begin{enumerate*}\n",
       "\\item 20\n",
       "\\item 23\n",
       "\\end{enumerate*}\n"
      ],
      "text/markdown": [
       "1. 20\n",
       "2. 23\n",
       "\n",
       "\n"
      ],
      "text/plain": [
       "[1] 20 23"
      ]
     },
     "metadata": {},
     "output_type": "display_data"
    },
    {
     "data": {
      "text/html": [
       "<style>\n",
       ".list-inline {list-style: none; margin:0; padding: 0}\n",
       ".list-inline>li {display: inline-block}\n",
       ".list-inline>li:not(:last-child)::after {content: \"\\00b7\"; padding: 0 .5ex}\n",
       "</style>\n",
       "<ol class=list-inline><li>15</li><li>23</li></ol>\n"
      ],
      "text/latex": [
       "\\begin{enumerate*}\n",
       "\\item 15\n",
       "\\item 23\n",
       "\\end{enumerate*}\n"
      ],
      "text/markdown": [
       "1. 15\n",
       "2. 23\n",
       "\n",
       "\n"
      ],
      "text/plain": [
       "[1] 15 23"
      ]
     },
     "metadata": {},
     "output_type": "display_data"
    },
    {
     "data": {
      "text/html": [
       "<table class=\"dataframe\">\n",
       "<caption>A data.frame: 4 × 23</caption>\n",
       "<thead>\n",
       "\t<tr><th></th><th scope=col>index</th><th scope=col>date</th><th scope=col>type</th><th scope=col>co</th><th scope=col>quan</th><th scope=col>pps</th><th scope=col>basis</th><th scope=col>sale_quan</th><th scope=col>flag</th><th scope=col>buy_cf_quan</th><th scope=col>⋯</th><th scope=col>buy_pps</th><th scope=col>buy_basis</th><th scope=col>sell_quan</th><th scope=col>sell_pps</th><th scope=col>sell_basis</th><th scope=col>profit_loss</th><th scope=col>sold_cf_quan</th><th scope=col>sold_cf_pps</th><th scope=col>sold_cf_basis</th><th scope=col>true_false</th></tr>\n",
       "\t<tr><th></th><th scope=col>&lt;int&gt;</th><th scope=col>&lt;date&gt;</th><th scope=col>&lt;chr&gt;</th><th scope=col>&lt;chr&gt;</th><th scope=col>&lt;dbl&gt;</th><th scope=col>&lt;dbl&gt;</th><th scope=col>&lt;dbl&gt;</th><th scope=col>&lt;dbl&gt;</th><th scope=col>&lt;lgl&gt;</th><th scope=col>&lt;dbl&gt;</th><th scope=col>⋯</th><th scope=col>&lt;dbl&gt;</th><th scope=col>&lt;dbl&gt;</th><th scope=col>&lt;dbl&gt;</th><th scope=col>&lt;dbl&gt;</th><th scope=col>&lt;dbl&gt;</th><th scope=col>&lt;dbl&gt;</th><th scope=col>&lt;dbl&gt;</th><th scope=col>&lt;dbl&gt;</th><th scope=col>&lt;dbl&gt;</th><th scope=col>&lt;dbl&gt;</th></tr>\n",
       "</thead>\n",
       "<tbody>\n",
       "\t<tr><th scope=row>3</th><td> 7</td><td>2023-01-27</td><td>Buy</td><td>AMC</td><td>2000</td><td>5.2394</td><td>10478.8</td><td>0</td><td>FALSE</td><td>0</td><td>⋯</td><td>0</td><td>0</td><td>0</td><td>0</td><td>0</td><td>0</td><td>0</td><td>0</td><td>0</td><td>0</td></tr>\n",
       "\t<tr><th scope=row>4</th><td> 9</td><td>2023-02-10</td><td>Buy</td><td>AMC</td><td>2000</td><td>4.7450</td><td> 9490.0</td><td>0</td><td>FALSE</td><td>0</td><td>⋯</td><td>0</td><td>0</td><td>0</td><td>0</td><td>0</td><td>0</td><td>0</td><td>0</td><td>0</td><td>0</td></tr>\n",
       "\t<tr><th scope=row>5</th><td>11</td><td>2023-02-10</td><td>Buy</td><td>AMC</td><td>1000</td><td>4.7800</td><td> 4780.0</td><td>0</td><td>FALSE</td><td>0</td><td>⋯</td><td>0</td><td>0</td><td>0</td><td>0</td><td>0</td><td>0</td><td>0</td><td>0</td><td>0</td><td>0</td></tr>\n",
       "\t<tr><th scope=row>6</th><td>12</td><td>2023-02-13</td><td>Buy</td><td>AMC</td><td>3000</td><td>4.7296</td><td>14188.8</td><td>0</td><td>FALSE</td><td>0</td><td>⋯</td><td>0</td><td>0</td><td>0</td><td>0</td><td>0</td><td>0</td><td>0</td><td>0</td><td>0</td><td>0</td></tr>\n",
       "</tbody>\n",
       "</table>\n"
      ],
      "text/latex": [
       "A data.frame: 4 × 23\n",
       "\\begin{tabular}{r|lllllllllllllllllllll}\n",
       "  & index & date & type & co & quan & pps & basis & sale\\_quan & flag & buy\\_cf\\_quan & ⋯ & buy\\_pps & buy\\_basis & sell\\_quan & sell\\_pps & sell\\_basis & profit\\_loss & sold\\_cf\\_quan & sold\\_cf\\_pps & sold\\_cf\\_basis & true\\_false\\\\\n",
       "  & <int> & <date> & <chr> & <chr> & <dbl> & <dbl> & <dbl> & <dbl> & <lgl> & <dbl> & ⋯ & <dbl> & <dbl> & <dbl> & <dbl> & <dbl> & <dbl> & <dbl> & <dbl> & <dbl> & <dbl>\\\\\n",
       "\\hline\n",
       "\t3 &  7 & 2023-01-27 & Buy & AMC & 2000 & 5.2394 & 10478.8 & 0 & FALSE & 0 & ⋯ & 0 & 0 & 0 & 0 & 0 & 0 & 0 & 0 & 0 & 0\\\\\n",
       "\t4 &  9 & 2023-02-10 & Buy & AMC & 2000 & 4.7450 &  9490.0 & 0 & FALSE & 0 & ⋯ & 0 & 0 & 0 & 0 & 0 & 0 & 0 & 0 & 0 & 0\\\\\n",
       "\t5 & 11 & 2023-02-10 & Buy & AMC & 1000 & 4.7800 &  4780.0 & 0 & FALSE & 0 & ⋯ & 0 & 0 & 0 & 0 & 0 & 0 & 0 & 0 & 0 & 0\\\\\n",
       "\t6 & 12 & 2023-02-13 & Buy & AMC & 3000 & 4.7296 & 14188.8 & 0 & FALSE & 0 & ⋯ & 0 & 0 & 0 & 0 & 0 & 0 & 0 & 0 & 0 & 0\\\\\n",
       "\\end{tabular}\n"
      ],
      "text/markdown": [
       "\n",
       "A data.frame: 4 × 23\n",
       "\n",
       "| <!--/--> | index &lt;int&gt; | date &lt;date&gt; | type &lt;chr&gt; | co &lt;chr&gt; | quan &lt;dbl&gt; | pps &lt;dbl&gt; | basis &lt;dbl&gt; | sale_quan &lt;dbl&gt; | flag &lt;lgl&gt; | buy_cf_quan &lt;dbl&gt; | ⋯ ⋯ | buy_pps &lt;dbl&gt; | buy_basis &lt;dbl&gt; | sell_quan &lt;dbl&gt; | sell_pps &lt;dbl&gt; | sell_basis &lt;dbl&gt; | profit_loss &lt;dbl&gt; | sold_cf_quan &lt;dbl&gt; | sold_cf_pps &lt;dbl&gt; | sold_cf_basis &lt;dbl&gt; | true_false &lt;dbl&gt; |\n",
       "|---|---|---|---|---|---|---|---|---|---|---|---|---|---|---|---|---|---|---|---|---|---|\n",
       "| 3 |  7 | 2023-01-27 | Buy | AMC | 2000 | 5.2394 | 10478.8 | 0 | FALSE | 0 | ⋯ | 0 | 0 | 0 | 0 | 0 | 0 | 0 | 0 | 0 | 0 |\n",
       "| 4 |  9 | 2023-02-10 | Buy | AMC | 2000 | 4.7450 |  9490.0 | 0 | FALSE | 0 | ⋯ | 0 | 0 | 0 | 0 | 0 | 0 | 0 | 0 | 0 | 0 |\n",
       "| 5 | 11 | 2023-02-10 | Buy | AMC | 1000 | 4.7800 |  4780.0 | 0 | FALSE | 0 | ⋯ | 0 | 0 | 0 | 0 | 0 | 0 | 0 | 0 | 0 | 0 |\n",
       "| 6 | 12 | 2023-02-13 | Buy | AMC | 3000 | 4.7296 | 14188.8 | 0 | FALSE | 0 | ⋯ | 0 | 0 | 0 | 0 | 0 | 0 | 0 | 0 | 0 | 0 |\n",
       "\n"
      ],
      "text/plain": [
       "  index date       type co  quan pps    basis   sale_quan flag  buy_cf_quan ⋯\n",
       "3  7    2023-01-27 Buy  AMC 2000 5.2394 10478.8 0         FALSE 0           ⋯\n",
       "4  9    2023-02-10 Buy  AMC 2000 4.7450  9490.0 0         FALSE 0           ⋯\n",
       "5 11    2023-02-10 Buy  AMC 1000 4.7800  4780.0 0         FALSE 0           ⋯\n",
       "6 12    2023-02-13 Buy  AMC 3000 4.7296 14188.8 0         FALSE 0           ⋯\n",
       "  buy_pps buy_basis sell_quan sell_pps sell_basis profit_loss sold_cf_quan\n",
       "3 0       0         0         0        0          0           0           \n",
       "4 0       0         0         0        0          0           0           \n",
       "5 0       0         0         0        0          0           0           \n",
       "6 0       0         0         0        0          0           0           \n",
       "  sold_cf_pps sold_cf_basis true_false\n",
       "3 0           0             0         \n",
       "4 0           0             0         \n",
       "5 0           0             0         \n",
       "6 0           0             0         "
      ]
     },
     "metadata": {},
     "output_type": "display_data"
    },
    {
     "data": {
      "text/html": [
       "<table class=\"dataframe\">\n",
       "<caption>A data.frame: 4 × 23</caption>\n",
       "<thead>\n",
       "\t<tr><th></th><th scope=col>index</th><th scope=col>date</th><th scope=col>type</th><th scope=col>co</th><th scope=col>quan</th><th scope=col>pps</th><th scope=col>basis</th><th scope=col>sale_quan</th><th scope=col>flag</th><th scope=col>buy_cf_quan</th><th scope=col>⋯</th><th scope=col>buy_pps</th><th scope=col>buy_basis</th><th scope=col>sell_quan</th><th scope=col>sell_pps</th><th scope=col>sell_basis</th><th scope=col>profit_loss</th><th scope=col>sold_cf_quan</th><th scope=col>sold_cf_pps</th><th scope=col>sold_cf_basis</th><th scope=col>true_false</th></tr>\n",
       "\t<tr><th></th><th scope=col>&lt;int&gt;</th><th scope=col>&lt;date&gt;</th><th scope=col>&lt;chr&gt;</th><th scope=col>&lt;chr&gt;</th><th scope=col>&lt;dbl&gt;</th><th scope=col>&lt;dbl&gt;</th><th scope=col>&lt;dbl&gt;</th><th scope=col>&lt;dbl&gt;</th><th scope=col>&lt;lgl&gt;</th><th scope=col>&lt;dbl&gt;</th><th scope=col>⋯</th><th scope=col>&lt;dbl&gt;</th><th scope=col>&lt;dbl&gt;</th><th scope=col>&lt;dbl&gt;</th><th scope=col>&lt;dbl&gt;</th><th scope=col>&lt;dbl&gt;</th><th scope=col>&lt;dbl&gt;</th><th scope=col>&lt;dbl&gt;</th><th scope=col>&lt;dbl&gt;</th><th scope=col>&lt;dbl&gt;</th><th scope=col>&lt;dbl&gt;</th></tr>\n",
       "</thead>\n",
       "<tbody>\n",
       "\t<tr><th scope=row>3</th><td> 8</td><td>2023-02-03</td><td>Sell</td><td>AMC</td><td> 950</td><td>5.5124</td><td> 5236.78</td><td>0</td><td>FALSE</td><td>0</td><td>⋯</td><td>0</td><td>0</td><td>0</td><td>0</td><td>0</td><td>0</td><td>0</td><td>0</td><td>0</td><td>0</td></tr>\n",
       "\t<tr><th scope=row>4</th><td>10</td><td>2023-02-21</td><td>Sell</td><td>AMC</td><td>3000</td><td>5.8550</td><td>17565.00</td><td>0</td><td>FALSE</td><td>0</td><td>⋯</td><td>0</td><td>0</td><td>0</td><td>0</td><td>0</td><td>0</td><td>0</td><td>0</td><td>0</td><td>0</td></tr>\n",
       "\t<tr><th scope=row>5</th><td>16</td><td>2023-02-22</td><td>Sell</td><td>AMC</td><td>6000</td><td>6.6150</td><td>39690.00</td><td>0</td><td>FALSE</td><td>0</td><td>⋯</td><td>0</td><td>0</td><td>0</td><td>0</td><td>0</td><td>0</td><td>0</td><td>0</td><td>0</td><td>0</td></tr>\n",
       "\t<tr><th scope=row>6</th><td>18</td><td>2023-02-27</td><td>Sell</td><td>AMC</td><td>3000</td><td>7.8160</td><td>23448.00</td><td>0</td><td>FALSE</td><td>0</td><td>⋯</td><td>0</td><td>0</td><td>0</td><td>0</td><td>0</td><td>0</td><td>0</td><td>0</td><td>0</td><td>0</td></tr>\n",
       "</tbody>\n",
       "</table>\n"
      ],
      "text/latex": [
       "A data.frame: 4 × 23\n",
       "\\begin{tabular}{r|lllllllllllllllllllll}\n",
       "  & index & date & type & co & quan & pps & basis & sale\\_quan & flag & buy\\_cf\\_quan & ⋯ & buy\\_pps & buy\\_basis & sell\\_quan & sell\\_pps & sell\\_basis & profit\\_loss & sold\\_cf\\_quan & sold\\_cf\\_pps & sold\\_cf\\_basis & true\\_false\\\\\n",
       "  & <int> & <date> & <chr> & <chr> & <dbl> & <dbl> & <dbl> & <dbl> & <lgl> & <dbl> & ⋯ & <dbl> & <dbl> & <dbl> & <dbl> & <dbl> & <dbl> & <dbl> & <dbl> & <dbl> & <dbl>\\\\\n",
       "\\hline\n",
       "\t3 &  8 & 2023-02-03 & Sell & AMC &  950 & 5.5124 &  5236.78 & 0 & FALSE & 0 & ⋯ & 0 & 0 & 0 & 0 & 0 & 0 & 0 & 0 & 0 & 0\\\\\n",
       "\t4 & 10 & 2023-02-21 & Sell & AMC & 3000 & 5.8550 & 17565.00 & 0 & FALSE & 0 & ⋯ & 0 & 0 & 0 & 0 & 0 & 0 & 0 & 0 & 0 & 0\\\\\n",
       "\t5 & 16 & 2023-02-22 & Sell & AMC & 6000 & 6.6150 & 39690.00 & 0 & FALSE & 0 & ⋯ & 0 & 0 & 0 & 0 & 0 & 0 & 0 & 0 & 0 & 0\\\\\n",
       "\t6 & 18 & 2023-02-27 & Sell & AMC & 3000 & 7.8160 & 23448.00 & 0 & FALSE & 0 & ⋯ & 0 & 0 & 0 & 0 & 0 & 0 & 0 & 0 & 0 & 0\\\\\n",
       "\\end{tabular}\n"
      ],
      "text/markdown": [
       "\n",
       "A data.frame: 4 × 23\n",
       "\n",
       "| <!--/--> | index &lt;int&gt; | date &lt;date&gt; | type &lt;chr&gt; | co &lt;chr&gt; | quan &lt;dbl&gt; | pps &lt;dbl&gt; | basis &lt;dbl&gt; | sale_quan &lt;dbl&gt; | flag &lt;lgl&gt; | buy_cf_quan &lt;dbl&gt; | ⋯ ⋯ | buy_pps &lt;dbl&gt; | buy_basis &lt;dbl&gt; | sell_quan &lt;dbl&gt; | sell_pps &lt;dbl&gt; | sell_basis &lt;dbl&gt; | profit_loss &lt;dbl&gt; | sold_cf_quan &lt;dbl&gt; | sold_cf_pps &lt;dbl&gt; | sold_cf_basis &lt;dbl&gt; | true_false &lt;dbl&gt; |\n",
       "|---|---|---|---|---|---|---|---|---|---|---|---|---|---|---|---|---|---|---|---|---|---|\n",
       "| 3 |  8 | 2023-02-03 | Sell | AMC |  950 | 5.5124 |  5236.78 | 0 | FALSE | 0 | ⋯ | 0 | 0 | 0 | 0 | 0 | 0 | 0 | 0 | 0 | 0 |\n",
       "| 4 | 10 | 2023-02-21 | Sell | AMC | 3000 | 5.8550 | 17565.00 | 0 | FALSE | 0 | ⋯ | 0 | 0 | 0 | 0 | 0 | 0 | 0 | 0 | 0 | 0 |\n",
       "| 5 | 16 | 2023-02-22 | Sell | AMC | 6000 | 6.6150 | 39690.00 | 0 | FALSE | 0 | ⋯ | 0 | 0 | 0 | 0 | 0 | 0 | 0 | 0 | 0 | 0 |\n",
       "| 6 | 18 | 2023-02-27 | Sell | AMC | 3000 | 7.8160 | 23448.00 | 0 | FALSE | 0 | ⋯ | 0 | 0 | 0 | 0 | 0 | 0 | 0 | 0 | 0 | 0 |\n",
       "\n"
      ],
      "text/plain": [
       "  index date       type co  quan pps    basis    sale_quan flag  buy_cf_quan ⋯\n",
       "3  8    2023-02-03 Sell AMC  950 5.5124  5236.78 0         FALSE 0           ⋯\n",
       "4 10    2023-02-21 Sell AMC 3000 5.8550 17565.00 0         FALSE 0           ⋯\n",
       "5 16    2023-02-22 Sell AMC 6000 6.6150 39690.00 0         FALSE 0           ⋯\n",
       "6 18    2023-02-27 Sell AMC 3000 7.8160 23448.00 0         FALSE 0           ⋯\n",
       "  buy_pps buy_basis sell_quan sell_pps sell_basis profit_loss sold_cf_quan\n",
       "3 0       0         0         0        0          0           0           \n",
       "4 0       0         0         0        0          0           0           \n",
       "5 0       0         0         0        0          0           0           \n",
       "6 0       0         0         0        0          0           0           \n",
       "  sold_cf_pps sold_cf_basis true_false\n",
       "3 0           0             0         \n",
       "4 0           0             0         \n",
       "5 0           0             0         \n",
       "6 0           0             0         "
      ]
     },
     "metadata": {},
     "output_type": "display_data"
    }
   ],
   "source": [
    "dim(buys)\n",
    "dim(sells)\n",
    "head(buys,4)\n",
    "head(sells,4)\n"
   ]
  },
  {
   "cell_type": "code",
   "execution_count": 83,
   "id": "e508e9fd-2951-493e-9e61-85d2aac8048b",
   "metadata": {},
   "outputs": [],
   "source": [
    "# stopps"
   ]
  },
  {
   "cell_type": "markdown",
   "id": "604ea023-fd15-4f11-bb90-9a2c443b354c",
   "metadata": {},
   "source": [
    "# <font color = cyan> Proof of Concept above. End of loop 6"
   ]
  },
  {
   "cell_type": "code",
   "execution_count": null,
   "id": "1903ad2a-5d20-49d7-befa-5b8646703cd3",
   "metadata": {},
   "outputs": [],
   "source": []
  },
  {
   "cell_type": "markdown",
   "id": "4a52092a-5e05-4f2f-8c6e-d1377646486e",
   "metadata": {},
   "source": [
    "#### <font color = yellow> 1. Create data & dfs"
   ]
  },
  {
   "cell_type": "code",
   "execution_count": 84,
   "id": "f9432224-0b71-4eb1-b1e7-e5c826460117",
   "metadata": {},
   "outputs": [],
   "source": [
    "b <- buys[1,]\n",
    "s <- sells[1,]\n"
   ]
  },
  {
   "cell_type": "code",
   "execution_count": null,
   "id": "2102e9b5-f1df-4a0a-a839-18ca341624d3",
   "metadata": {},
   "outputs": [],
   "source": []
  },
  {
   "cell_type": "markdown",
   "id": "0468fd85-c2a5-4654-a15f-28bfd19d11e6",
   "metadata": {},
   "source": [
    "### <font color = yellow> 2. Update b - the variable that records each buy/sell transaction (w/in loop)\n",
    "    \n",
    "#### b>s, b<s, b==s,"
   ]
  },
  {
   "cell_type": "code",
   "execution_count": 85,
   "id": "4985368b-2c26-4cb9-b76e-6c2df08b6658",
   "metadata": {},
   "outputs": [
    {
     "name": "stdout",
     "output_type": "stream",
     "text": [
      "POC - updated_s when b > s:  SOLD \n"
     ]
    }
   ],
   "source": [
    "#fct call\n",
    "updated_b_list <- update_b(b,s,buys)\n",
    "\n",
    "updated_b <- updated_b_list[[1]]\n",
    "updated_s <- updated_b_list[[2]]\n",
    "buys <- updated_b_list[[3]]\n",
    "#dim(updated_b)\n",
    "#dim(buys)    "
   ]
  },
  {
   "cell_type": "code",
   "execution_count": 86,
   "id": "9c99707e-a389-4661-b94d-02bee4146edc",
   "metadata": {},
   "outputs": [
    {
     "name": "stdout",
     "output_type": "stream",
     "text": [
      "Std buy-sell orientation \n"
     ]
    }
   ],
   "source": [
    "if(buys$type[i] == \"Buy\" && sells$type[i] == \"Sell\") {\n",
    "    cat(\"Std buy-sell orientation \\n\")    \n",
    "    }"
   ]
  },
  {
   "cell_type": "markdown",
   "id": "7740855a-22f0-4495-b4a8-0f91a843f30c",
   "metadata": {},
   "source": [
    "### <font color = yellow>3. Update the sales_records (rbind) with updated_b for each transaction (loop)"
   ]
  },
  {
   "cell_type": "code",
   "execution_count": 87,
   "id": "e783292b-b749-468a-a8c4-94d71232576f",
   "metadata": {},
   "outputs": [
    {
     "data": {
      "text/html": [
       "<table class=\"dataframe\">\n",
       "<caption>A data.frame: 1 × 23</caption>\n",
       "<thead>\n",
       "\t<tr><th></th><th scope=col>index</th><th scope=col>date</th><th scope=col>type</th><th scope=col>co</th><th scope=col>quan</th><th scope=col>pps</th><th scope=col>basis</th><th scope=col>sale_quan</th><th scope=col>flag</th><th scope=col>buy_cf_quan</th><th scope=col>⋯</th><th scope=col>buy_pps</th><th scope=col>buy_basis</th><th scope=col>sell_quan</th><th scope=col>sell_pps</th><th scope=col>sell_basis</th><th scope=col>profit_loss</th><th scope=col>sold_cf_quan</th><th scope=col>sold_cf_pps</th><th scope=col>sold_cf_basis</th><th scope=col>true_false</th></tr>\n",
       "\t<tr><th></th><th scope=col>&lt;int&gt;</th><th scope=col>&lt;date&gt;</th><th scope=col>&lt;chr&gt;</th><th scope=col>&lt;chr&gt;</th><th scope=col>&lt;dbl&gt;</th><th scope=col>&lt;dbl&gt;</th><th scope=col>&lt;dbl&gt;</th><th scope=col>&lt;dbl&gt;</th><th scope=col>&lt;lgl&gt;</th><th scope=col>&lt;dbl&gt;</th><th scope=col>⋯</th><th scope=col>&lt;dbl&gt;</th><th scope=col>&lt;dbl&gt;</th><th scope=col>&lt;dbl&gt;</th><th scope=col>&lt;dbl&gt;</th><th scope=col>&lt;dbl&gt;</th><th scope=col>&lt;dbl&gt;</th><th scope=col>&lt;dbl&gt;</th><th scope=col>&lt;dbl&gt;</th><th scope=col>&lt;dbl&gt;</th><th scope=col>&lt;dbl&gt;</th></tr>\n",
       "</thead>\n",
       "<tbody>\n",
       "\t<tr><th scope=row>1</th><td>7</td><td>2023-01-27</td><td>Buy</td><td>AMC</td><td>2000</td><td>5.2394</td><td>10478.8</td><td>950</td><td>TRUE</td><td>0</td><td>⋯</td><td>5.2394</td><td>4977.43</td><td>950</td><td>5.5124</td><td>5236.78</td><td>259.35</td><td>1050</td><td>5.2394</td><td>5501.37</td><td>0</td></tr>\n",
       "</tbody>\n",
       "</table>\n"
      ],
      "text/latex": [
       "A data.frame: 1 × 23\n",
       "\\begin{tabular}{r|lllllllllllllllllllll}\n",
       "  & index & date & type & co & quan & pps & basis & sale\\_quan & flag & buy\\_cf\\_quan & ⋯ & buy\\_pps & buy\\_basis & sell\\_quan & sell\\_pps & sell\\_basis & profit\\_loss & sold\\_cf\\_quan & sold\\_cf\\_pps & sold\\_cf\\_basis & true\\_false\\\\\n",
       "  & <int> & <date> & <chr> & <chr> & <dbl> & <dbl> & <dbl> & <dbl> & <lgl> & <dbl> & ⋯ & <dbl> & <dbl> & <dbl> & <dbl> & <dbl> & <dbl> & <dbl> & <dbl> & <dbl> & <dbl>\\\\\n",
       "\\hline\n",
       "\t1 & 7 & 2023-01-27 & Buy & AMC & 2000 & 5.2394 & 10478.8 & 950 & TRUE & 0 & ⋯ & 5.2394 & 4977.43 & 950 & 5.5124 & 5236.78 & 259.35 & 1050 & 5.2394 & 5501.37 & 0\\\\\n",
       "\\end{tabular}\n"
      ],
      "text/markdown": [
       "\n",
       "A data.frame: 1 × 23\n",
       "\n",
       "| <!--/--> | index &lt;int&gt; | date &lt;date&gt; | type &lt;chr&gt; | co &lt;chr&gt; | quan &lt;dbl&gt; | pps &lt;dbl&gt; | basis &lt;dbl&gt; | sale_quan &lt;dbl&gt; | flag &lt;lgl&gt; | buy_cf_quan &lt;dbl&gt; | ⋯ ⋯ | buy_pps &lt;dbl&gt; | buy_basis &lt;dbl&gt; | sell_quan &lt;dbl&gt; | sell_pps &lt;dbl&gt; | sell_basis &lt;dbl&gt; | profit_loss &lt;dbl&gt; | sold_cf_quan &lt;dbl&gt; | sold_cf_pps &lt;dbl&gt; | sold_cf_basis &lt;dbl&gt; | true_false &lt;dbl&gt; |\n",
       "|---|---|---|---|---|---|---|---|---|---|---|---|---|---|---|---|---|---|---|---|---|---|\n",
       "| 1 | 7 | 2023-01-27 | Buy | AMC | 2000 | 5.2394 | 10478.8 | 950 | TRUE | 0 | ⋯ | 5.2394 | 4977.43 | 950 | 5.5124 | 5236.78 | 259.35 | 1050 | 5.2394 | 5501.37 | 0 |\n",
       "\n"
      ],
      "text/plain": [
       "  index date       type co  quan pps    basis   sale_quan flag buy_cf_quan ⋯\n",
       "1 7     2023-01-27 Buy  AMC 2000 5.2394 10478.8 950       TRUE 0           ⋯\n",
       "  buy_pps buy_basis sell_quan sell_pps sell_basis profit_loss sold_cf_quan\n",
       "1 5.2394  4977.43   950       5.5124   5236.78    259.35      1050        \n",
       "  sold_cf_pps sold_cf_basis true_false\n",
       "1 5.2394      5501.37       0         "
      ]
     },
     "metadata": {},
     "output_type": "display_data"
    },
    {
     "data": {
      "text/html": [
       "<table class=\"dataframe\">\n",
       "<caption>A data.frame: 7 × 23</caption>\n",
       "<thead>\n",
       "\t<tr><th scope=col>index</th><th scope=col>date</th><th scope=col>type</th><th scope=col>co</th><th scope=col>quan</th><th scope=col>pps</th><th scope=col>basis</th><th scope=col>sale_quan</th><th scope=col>flag</th><th scope=col>buy_cf_quan</th><th scope=col>⋯</th><th scope=col>buy_pps</th><th scope=col>buy_basis</th><th scope=col>sell_quan</th><th scope=col>sell_pps</th><th scope=col>sell_basis</th><th scope=col>profit_loss</th><th scope=col>sold_cf_quan</th><th scope=col>sold_cf_pps</th><th scope=col>sold_cf_basis</th><th scope=col>true_false</th></tr>\n",
       "\t<tr><th scope=col>&lt;int&gt;</th><th scope=col>&lt;date&gt;</th><th scope=col>&lt;chr&gt;</th><th scope=col>&lt;chr&gt;</th><th scope=col>&lt;dbl&gt;</th><th scope=col>&lt;dbl&gt;</th><th scope=col>&lt;dbl&gt;</th><th scope=col>&lt;dbl&gt;</th><th scope=col>&lt;lgl&gt;</th><th scope=col>&lt;dbl&gt;</th><th scope=col>⋯</th><th scope=col>&lt;dbl&gt;</th><th scope=col>&lt;dbl&gt;</th><th scope=col>&lt;dbl&gt;</th><th scope=col>&lt;dbl&gt;</th><th scope=col>&lt;dbl&gt;</th><th scope=col>&lt;dbl&gt;</th><th scope=col>&lt;dbl&gt;</th><th scope=col>&lt;dbl&gt;</th><th scope=col>&lt;dbl&gt;</th><th scope=col>&lt;dbl&gt;</th></tr>\n",
       "</thead>\n",
       "<tbody>\n",
       "\t<tr><td>7</td><td>2023-01-27</td><td>Buy   </td><td>AMC </td><td>2000</td><td>5.2394</td><td>10478.80</td><td> 950</td><td>TRUE</td><td>0</td><td>⋯</td><td>5.2394</td><td>4977.43</td><td> 950</td><td>5.5124</td><td>5236.78</td><td> 259.35</td><td>1050</td><td>5.2394</td><td>5501.37</td><td>0</td></tr>\n",
       "\t<tr><td>5</td><td>2023-01-23</td><td>Buy CF</td><td>CFCF</td><td>  50</td><td>5.7880</td><td>  289.40</td><td>   0</td><td>TRUE</td><td>0</td><td>⋯</td><td>5.7880</td><td> 289.40</td><td>  50</td><td>5.5124</td><td> 275.62</td><td> -13.78</td><td>   0</td><td>0.0000</td><td>   0.00</td><td>1</td></tr>\n",
       "\t<tr><td>5</td><td>2023-01-23</td><td>Buy   </td><td>AMC </td><td>1000</td><td>5.7880</td><td> 5788.00</td><td> 950</td><td>TRUE</td><td>0</td><td>⋯</td><td>5.7880</td><td>5498.60</td><td> 950</td><td>5.5124</td><td>5236.78</td><td>-261.82</td><td>  50</td><td>5.7880</td><td> 289.40</td><td>0</td></tr>\n",
       "\t<tr><td>3</td><td>2023-01-20</td><td>Buy CF</td><td>CFCF</td><td>  50</td><td>5.6250</td><td>  281.25</td><td>   0</td><td>TRUE</td><td>0</td><td>⋯</td><td>5.6250</td><td> 281.25</td><td>  50</td><td>5.5124</td><td> 275.62</td><td>  -5.63</td><td>   0</td><td>0.0000</td><td>   0.00</td><td>1</td></tr>\n",
       "\t<tr><td>3</td><td>2023-01-20</td><td>Buy   </td><td>AMC </td><td>1000</td><td>5.6250</td><td> 5625.00</td><td> 950</td><td>TRUE</td><td>0</td><td>⋯</td><td>5.6250</td><td>5343.75</td><td> 950</td><td>5.5124</td><td>5236.78</td><td>-106.97</td><td>  50</td><td>5.6250</td><td> 281.25</td><td>0</td></tr>\n",
       "\t<tr><td>1</td><td>2022-12-31</td><td>Buy CF</td><td>CFCF</td><td>  50</td><td>4.0700</td><td>  203.50</td><td>   0</td><td>TRUE</td><td>0</td><td>⋯</td><td>4.0700</td><td> 203.50</td><td>  50</td><td>5.5124</td><td> 275.62</td><td>  72.12</td><td>   0</td><td>0.0000</td><td>   0.00</td><td>1</td></tr>\n",
       "\t<tr><td>1</td><td>2022-12-31</td><td>Buy   </td><td>AMC </td><td>1050</td><td>4.0700</td><td> 4273.50</td><td>1000</td><td>TRUE</td><td>0</td><td>⋯</td><td>4.0700</td><td>4070.00</td><td>1000</td><td>5.5124</td><td>5512.40</td><td>1442.40</td><td>  50</td><td>4.0700</td><td> 203.50</td><td>0</td></tr>\n",
       "</tbody>\n",
       "</table>\n"
      ],
      "text/latex": [
       "A data.frame: 7 × 23\n",
       "\\begin{tabular}{lllllllllllllllllllll}\n",
       " index & date & type & co & quan & pps & basis & sale\\_quan & flag & buy\\_cf\\_quan & ⋯ & buy\\_pps & buy\\_basis & sell\\_quan & sell\\_pps & sell\\_basis & profit\\_loss & sold\\_cf\\_quan & sold\\_cf\\_pps & sold\\_cf\\_basis & true\\_false\\\\\n",
       " <int> & <date> & <chr> & <chr> & <dbl> & <dbl> & <dbl> & <dbl> & <lgl> & <dbl> & ⋯ & <dbl> & <dbl> & <dbl> & <dbl> & <dbl> & <dbl> & <dbl> & <dbl> & <dbl> & <dbl>\\\\\n",
       "\\hline\n",
       "\t 7 & 2023-01-27 & Buy    & AMC  & 2000 & 5.2394 & 10478.80 &  950 & TRUE & 0 & ⋯ & 5.2394 & 4977.43 &  950 & 5.5124 & 5236.78 &  259.35 & 1050 & 5.2394 & 5501.37 & 0\\\\\n",
       "\t 5 & 2023-01-23 & Buy CF & CFCF &   50 & 5.7880 &   289.40 &    0 & TRUE & 0 & ⋯ & 5.7880 &  289.40 &   50 & 5.5124 &  275.62 &  -13.78 &    0 & 0.0000 &    0.00 & 1\\\\\n",
       "\t 5 & 2023-01-23 & Buy    & AMC  & 1000 & 5.7880 &  5788.00 &  950 & TRUE & 0 & ⋯ & 5.7880 & 5498.60 &  950 & 5.5124 & 5236.78 & -261.82 &   50 & 5.7880 &  289.40 & 0\\\\\n",
       "\t 3 & 2023-01-20 & Buy CF & CFCF &   50 & 5.6250 &   281.25 &    0 & TRUE & 0 & ⋯ & 5.6250 &  281.25 &   50 & 5.5124 &  275.62 &   -5.63 &    0 & 0.0000 &    0.00 & 1\\\\\n",
       "\t 3 & 2023-01-20 & Buy    & AMC  & 1000 & 5.6250 &  5625.00 &  950 & TRUE & 0 & ⋯ & 5.6250 & 5343.75 &  950 & 5.5124 & 5236.78 & -106.97 &   50 & 5.6250 &  281.25 & 0\\\\\n",
       "\t 1 & 2022-12-31 & Buy CF & CFCF &   50 & 4.0700 &   203.50 &    0 & TRUE & 0 & ⋯ & 4.0700 &  203.50 &   50 & 5.5124 &  275.62 &   72.12 &    0 & 0.0000 &    0.00 & 1\\\\\n",
       "\t 1 & 2022-12-31 & Buy    & AMC  & 1050 & 4.0700 &  4273.50 & 1000 & TRUE & 0 & ⋯ & 4.0700 & 4070.00 & 1000 & 5.5124 & 5512.40 & 1442.40 &   50 & 4.0700 &  203.50 & 0\\\\\n",
       "\\end{tabular}\n"
      ],
      "text/markdown": [
       "\n",
       "A data.frame: 7 × 23\n",
       "\n",
       "| index &lt;int&gt; | date &lt;date&gt; | type &lt;chr&gt; | co &lt;chr&gt; | quan &lt;dbl&gt; | pps &lt;dbl&gt; | basis &lt;dbl&gt; | sale_quan &lt;dbl&gt; | flag &lt;lgl&gt; | buy_cf_quan &lt;dbl&gt; | ⋯ ⋯ | buy_pps &lt;dbl&gt; | buy_basis &lt;dbl&gt; | sell_quan &lt;dbl&gt; | sell_pps &lt;dbl&gt; | sell_basis &lt;dbl&gt; | profit_loss &lt;dbl&gt; | sold_cf_quan &lt;dbl&gt; | sold_cf_pps &lt;dbl&gt; | sold_cf_basis &lt;dbl&gt; | true_false &lt;dbl&gt; |\n",
       "|---|---|---|---|---|---|---|---|---|---|---|---|---|---|---|---|---|---|---|---|---|\n",
       "| 7 | 2023-01-27 | Buy    | AMC  | 2000 | 5.2394 | 10478.80 |  950 | TRUE | 0 | ⋯ | 5.2394 | 4977.43 |  950 | 5.5124 | 5236.78 |  259.35 | 1050 | 5.2394 | 5501.37 | 0 |\n",
       "| 5 | 2023-01-23 | Buy CF | CFCF |   50 | 5.7880 |   289.40 |    0 | TRUE | 0 | ⋯ | 5.7880 |  289.40 |   50 | 5.5124 |  275.62 |  -13.78 |    0 | 0.0000 |    0.00 | 1 |\n",
       "| 5 | 2023-01-23 | Buy    | AMC  | 1000 | 5.7880 |  5788.00 |  950 | TRUE | 0 | ⋯ | 5.7880 | 5498.60 |  950 | 5.5124 | 5236.78 | -261.82 |   50 | 5.7880 |  289.40 | 0 |\n",
       "| 3 | 2023-01-20 | Buy CF | CFCF |   50 | 5.6250 |   281.25 |    0 | TRUE | 0 | ⋯ | 5.6250 |  281.25 |   50 | 5.5124 |  275.62 |   -5.63 |    0 | 0.0000 |    0.00 | 1 |\n",
       "| 3 | 2023-01-20 | Buy    | AMC  | 1000 | 5.6250 |  5625.00 |  950 | TRUE | 0 | ⋯ | 5.6250 | 5343.75 |  950 | 5.5124 | 5236.78 | -106.97 |   50 | 5.6250 |  281.25 | 0 |\n",
       "| 1 | 2022-12-31 | Buy CF | CFCF |   50 | 4.0700 |   203.50 |    0 | TRUE | 0 | ⋯ | 4.0700 |  203.50 |   50 | 5.5124 |  275.62 |   72.12 |    0 | 0.0000 |    0.00 | 1 |\n",
       "| 1 | 2022-12-31 | Buy    | AMC  | 1050 | 4.0700 |  4273.50 | 1000 | TRUE | 0 | ⋯ | 4.0700 | 4070.00 | 1000 | 5.5124 | 5512.40 | 1442.40 |   50 | 4.0700 |  203.50 | 0 |\n",
       "\n"
      ],
      "text/plain": [
       "  index date       type   co   quan pps    basis    sale_quan flag buy_cf_quan\n",
       "1 7     2023-01-27 Buy    AMC  2000 5.2394 10478.80  950      TRUE 0          \n",
       "2 5     2023-01-23 Buy CF CFCF   50 5.7880   289.40    0      TRUE 0          \n",
       "3 5     2023-01-23 Buy    AMC  1000 5.7880  5788.00  950      TRUE 0          \n",
       "4 3     2023-01-20 Buy CF CFCF   50 5.6250   281.25    0      TRUE 0          \n",
       "5 3     2023-01-20 Buy    AMC  1000 5.6250  5625.00  950      TRUE 0          \n",
       "6 1     2022-12-31 Buy CF CFCF   50 4.0700   203.50    0      TRUE 0          \n",
       "7 1     2022-12-31 Buy    AMC  1050 4.0700  4273.50 1000      TRUE 0          \n",
       "  ⋯ buy_pps buy_basis sell_quan sell_pps sell_basis profit_loss sold_cf_quan\n",
       "1 ⋯ 5.2394  4977.43    950      5.5124   5236.78     259.35     1050        \n",
       "2 ⋯ 5.7880   289.40     50      5.5124    275.62     -13.78        0        \n",
       "3 ⋯ 5.7880  5498.60    950      5.5124   5236.78    -261.82       50        \n",
       "4 ⋯ 5.6250   281.25     50      5.5124    275.62      -5.63        0        \n",
       "5 ⋯ 5.6250  5343.75    950      5.5124   5236.78    -106.97       50        \n",
       "6 ⋯ 4.0700   203.50     50      5.5124    275.62      72.12        0        \n",
       "7 ⋯ 4.0700  4070.00   1000      5.5124   5512.40    1442.40       50        \n",
       "  sold_cf_pps sold_cf_basis true_false\n",
       "1 5.2394      5501.37       0         \n",
       "2 0.0000         0.00       1         \n",
       "3 5.7880       289.40       0         \n",
       "4 0.0000         0.00       1         \n",
       "5 5.6250       281.25       0         \n",
       "6 0.0000         0.00       1         \n",
       "7 4.0700       203.50       0         "
      ]
     },
     "metadata": {},
     "output_type": "display_data"
    }
   ],
   "source": [
    "# First go around needs rbind()\n",
    "# sale_records <- rbind(sale_records, updated_b)    \n",
    "\n",
    "sale_records <- sale_records %>% add_row(updated_b , .before = 1)\n",
    "sale_records[1,]\n",
    "sale_records\n"
   ]
  },
  {
   "cell_type": "code",
   "execution_count": null,
   "id": "c1b17323-a1e4-43a7-b9b5-333360ccda8e",
   "metadata": {},
   "outputs": [],
   "source": []
  },
  {
   "cell_type": "code",
   "execution_count": 88,
   "id": "b3d4c6d6-b594-4d35-9227-387053598a83",
   "metadata": {},
   "outputs": [
    {
     "data": {
      "text/html": [
       "<table class=\"dataframe\">\n",
       "<caption>A data.frame: 5 × 23</caption>\n",
       "<thead>\n",
       "\t<tr><th></th><th scope=col>index</th><th scope=col>date</th><th scope=col>type</th><th scope=col>co</th><th scope=col>quan</th><th scope=col>pps</th><th scope=col>basis</th><th scope=col>sale_quan</th><th scope=col>flag</th><th scope=col>buy_cf_quan</th><th scope=col>⋯</th><th scope=col>buy_pps</th><th scope=col>buy_basis</th><th scope=col>sell_quan</th><th scope=col>sell_pps</th><th scope=col>sell_basis</th><th scope=col>profit_loss</th><th scope=col>sold_cf_quan</th><th scope=col>sold_cf_pps</th><th scope=col>sold_cf_basis</th><th scope=col>true_false</th></tr>\n",
       "\t<tr><th></th><th scope=col>&lt;int&gt;</th><th scope=col>&lt;date&gt;</th><th scope=col>&lt;chr&gt;</th><th scope=col>&lt;chr&gt;</th><th scope=col>&lt;dbl&gt;</th><th scope=col>&lt;dbl&gt;</th><th scope=col>&lt;dbl&gt;</th><th scope=col>&lt;dbl&gt;</th><th scope=col>&lt;lgl&gt;</th><th scope=col>&lt;dbl&gt;</th><th scope=col>⋯</th><th scope=col>&lt;dbl&gt;</th><th scope=col>&lt;dbl&gt;</th><th scope=col>&lt;dbl&gt;</th><th scope=col>&lt;dbl&gt;</th><th scope=col>&lt;dbl&gt;</th><th scope=col>&lt;dbl&gt;</th><th scope=col>&lt;dbl&gt;</th><th scope=col>&lt;dbl&gt;</th><th scope=col>&lt;dbl&gt;</th><th scope=col>&lt;dbl&gt;</th></tr>\n",
       "</thead>\n",
       "<tbody>\n",
       "\t<tr><th scope=row>3</th><td> 7</td><td>2023-01-27</td><td>Buy</td><td>AMC</td><td>2000</td><td>5.2394</td><td>10478.80</td><td>0</td><td> TRUE</td><td>0</td><td>⋯</td><td>0</td><td>0</td><td>0</td><td>0</td><td>0</td><td>0</td><td>0</td><td>0</td><td>0</td><td>0</td></tr>\n",
       "\t<tr><th scope=row>4</th><td> 9</td><td>2023-02-10</td><td>Buy</td><td>AMC</td><td>2000</td><td>4.7450</td><td> 9490.00</td><td>0</td><td>FALSE</td><td>0</td><td>⋯</td><td>0</td><td>0</td><td>0</td><td>0</td><td>0</td><td>0</td><td>0</td><td>0</td><td>0</td><td>0</td></tr>\n",
       "\t<tr><th scope=row>5</th><td>11</td><td>2023-02-10</td><td>Buy</td><td>AMC</td><td>1000</td><td>4.7800</td><td> 4780.00</td><td>0</td><td>FALSE</td><td>0</td><td>⋯</td><td>0</td><td>0</td><td>0</td><td>0</td><td>0</td><td>0</td><td>0</td><td>0</td><td>0</td><td>0</td></tr>\n",
       "\t<tr><th scope=row>6</th><td>12</td><td>2023-02-13</td><td>Buy</td><td>AMC</td><td>3000</td><td>4.7296</td><td>14188.80</td><td>0</td><td>FALSE</td><td>0</td><td>⋯</td><td>0</td><td>0</td><td>0</td><td>0</td><td>0</td><td>0</td><td>0</td><td>0</td><td>0</td><td>0</td></tr>\n",
       "\t<tr><th scope=row>7</th><td>13</td><td>2023-02-13</td><td>Buy</td><td>AMC</td><td>1500</td><td>4.7183</td><td> 7077.45</td><td>0</td><td>FALSE</td><td>0</td><td>⋯</td><td>0</td><td>0</td><td>0</td><td>0</td><td>0</td><td>0</td><td>0</td><td>0</td><td>0</td><td>0</td></tr>\n",
       "</tbody>\n",
       "</table>\n"
      ],
      "text/latex": [
       "A data.frame: 5 × 23\n",
       "\\begin{tabular}{r|lllllllllllllllllllll}\n",
       "  & index & date & type & co & quan & pps & basis & sale\\_quan & flag & buy\\_cf\\_quan & ⋯ & buy\\_pps & buy\\_basis & sell\\_quan & sell\\_pps & sell\\_basis & profit\\_loss & sold\\_cf\\_quan & sold\\_cf\\_pps & sold\\_cf\\_basis & true\\_false\\\\\n",
       "  & <int> & <date> & <chr> & <chr> & <dbl> & <dbl> & <dbl> & <dbl> & <lgl> & <dbl> & ⋯ & <dbl> & <dbl> & <dbl> & <dbl> & <dbl> & <dbl> & <dbl> & <dbl> & <dbl> & <dbl>\\\\\n",
       "\\hline\n",
       "\t3 &  7 & 2023-01-27 & Buy & AMC & 2000 & 5.2394 & 10478.80 & 0 &  TRUE & 0 & ⋯ & 0 & 0 & 0 & 0 & 0 & 0 & 0 & 0 & 0 & 0\\\\\n",
       "\t4 &  9 & 2023-02-10 & Buy & AMC & 2000 & 4.7450 &  9490.00 & 0 & FALSE & 0 & ⋯ & 0 & 0 & 0 & 0 & 0 & 0 & 0 & 0 & 0 & 0\\\\\n",
       "\t5 & 11 & 2023-02-10 & Buy & AMC & 1000 & 4.7800 &  4780.00 & 0 & FALSE & 0 & ⋯ & 0 & 0 & 0 & 0 & 0 & 0 & 0 & 0 & 0 & 0\\\\\n",
       "\t6 & 12 & 2023-02-13 & Buy & AMC & 3000 & 4.7296 & 14188.80 & 0 & FALSE & 0 & ⋯ & 0 & 0 & 0 & 0 & 0 & 0 & 0 & 0 & 0 & 0\\\\\n",
       "\t7 & 13 & 2023-02-13 & Buy & AMC & 1500 & 4.7183 &  7077.45 & 0 & FALSE & 0 & ⋯ & 0 & 0 & 0 & 0 & 0 & 0 & 0 & 0 & 0 & 0\\\\\n",
       "\\end{tabular}\n"
      ],
      "text/markdown": [
       "\n",
       "A data.frame: 5 × 23\n",
       "\n",
       "| <!--/--> | index &lt;int&gt; | date &lt;date&gt; | type &lt;chr&gt; | co &lt;chr&gt; | quan &lt;dbl&gt; | pps &lt;dbl&gt; | basis &lt;dbl&gt; | sale_quan &lt;dbl&gt; | flag &lt;lgl&gt; | buy_cf_quan &lt;dbl&gt; | ⋯ ⋯ | buy_pps &lt;dbl&gt; | buy_basis &lt;dbl&gt; | sell_quan &lt;dbl&gt; | sell_pps &lt;dbl&gt; | sell_basis &lt;dbl&gt; | profit_loss &lt;dbl&gt; | sold_cf_quan &lt;dbl&gt; | sold_cf_pps &lt;dbl&gt; | sold_cf_basis &lt;dbl&gt; | true_false &lt;dbl&gt; |\n",
       "|---|---|---|---|---|---|---|---|---|---|---|---|---|---|---|---|---|---|---|---|---|---|\n",
       "| 3 |  7 | 2023-01-27 | Buy | AMC | 2000 | 5.2394 | 10478.80 | 0 |  TRUE | 0 | ⋯ | 0 | 0 | 0 | 0 | 0 | 0 | 0 | 0 | 0 | 0 |\n",
       "| 4 |  9 | 2023-02-10 | Buy | AMC | 2000 | 4.7450 |  9490.00 | 0 | FALSE | 0 | ⋯ | 0 | 0 | 0 | 0 | 0 | 0 | 0 | 0 | 0 | 0 |\n",
       "| 5 | 11 | 2023-02-10 | Buy | AMC | 1000 | 4.7800 |  4780.00 | 0 | FALSE | 0 | ⋯ | 0 | 0 | 0 | 0 | 0 | 0 | 0 | 0 | 0 | 0 |\n",
       "| 6 | 12 | 2023-02-13 | Buy | AMC | 3000 | 4.7296 | 14188.80 | 0 | FALSE | 0 | ⋯ | 0 | 0 | 0 | 0 | 0 | 0 | 0 | 0 | 0 | 0 |\n",
       "| 7 | 13 | 2023-02-13 | Buy | AMC | 1500 | 4.7183 |  7077.45 | 0 | FALSE | 0 | ⋯ | 0 | 0 | 0 | 0 | 0 | 0 | 0 | 0 | 0 | 0 |\n",
       "\n"
      ],
      "text/plain": [
       "  index date       type co  quan pps    basis    sale_quan flag  buy_cf_quan ⋯\n",
       "3  7    2023-01-27 Buy  AMC 2000 5.2394 10478.80 0          TRUE 0           ⋯\n",
       "4  9    2023-02-10 Buy  AMC 2000 4.7450  9490.00 0         FALSE 0           ⋯\n",
       "5 11    2023-02-10 Buy  AMC 1000 4.7800  4780.00 0         FALSE 0           ⋯\n",
       "6 12    2023-02-13 Buy  AMC 3000 4.7296 14188.80 0         FALSE 0           ⋯\n",
       "7 13    2023-02-13 Buy  AMC 1500 4.7183  7077.45 0         FALSE 0           ⋯\n",
       "  buy_pps buy_basis sell_quan sell_pps sell_basis profit_loss sold_cf_quan\n",
       "3 0       0         0         0        0          0           0           \n",
       "4 0       0         0         0        0          0           0           \n",
       "5 0       0         0         0        0          0           0           \n",
       "6 0       0         0         0        0          0           0           \n",
       "7 0       0         0         0        0          0           0           \n",
       "  sold_cf_pps sold_cf_basis true_false\n",
       "3 0           0             0         \n",
       "4 0           0             0         \n",
       "5 0           0             0         \n",
       "6 0           0             0         \n",
       "7 0           0             0         "
      ]
     },
     "metadata": {},
     "output_type": "display_data"
    },
    {
     "data": {
      "text/html": [
       "<table class=\"dataframe\">\n",
       "<caption>A data.frame: 5 × 23</caption>\n",
       "<thead>\n",
       "\t<tr><th></th><th scope=col>index</th><th scope=col>date</th><th scope=col>type</th><th scope=col>co</th><th scope=col>quan</th><th scope=col>pps</th><th scope=col>basis</th><th scope=col>sale_quan</th><th scope=col>flag</th><th scope=col>buy_cf_quan</th><th scope=col>⋯</th><th scope=col>buy_pps</th><th scope=col>buy_basis</th><th scope=col>sell_quan</th><th scope=col>sell_pps</th><th scope=col>sell_basis</th><th scope=col>profit_loss</th><th scope=col>sold_cf_quan</th><th scope=col>sold_cf_pps</th><th scope=col>sold_cf_basis</th><th scope=col>true_false</th></tr>\n",
       "\t<tr><th></th><th scope=col>&lt;int&gt;</th><th scope=col>&lt;date&gt;</th><th scope=col>&lt;chr&gt;</th><th scope=col>&lt;chr&gt;</th><th scope=col>&lt;dbl&gt;</th><th scope=col>&lt;dbl&gt;</th><th scope=col>&lt;dbl&gt;</th><th scope=col>&lt;dbl&gt;</th><th scope=col>&lt;lgl&gt;</th><th scope=col>&lt;dbl&gt;</th><th scope=col>⋯</th><th scope=col>&lt;dbl&gt;</th><th scope=col>&lt;dbl&gt;</th><th scope=col>&lt;dbl&gt;</th><th scope=col>&lt;dbl&gt;</th><th scope=col>&lt;dbl&gt;</th><th scope=col>&lt;dbl&gt;</th><th scope=col>&lt;dbl&gt;</th><th scope=col>&lt;dbl&gt;</th><th scope=col>&lt;dbl&gt;</th><th scope=col>&lt;dbl&gt;</th></tr>\n",
       "</thead>\n",
       "<tbody>\n",
       "\t<tr><th scope=row>3</th><td> 8</td><td>2023-02-03</td><td>Sell</td><td>AMC</td><td> 950</td><td>5.5124</td><td> 5236.78</td><td>0</td><td>FALSE</td><td>0</td><td>⋯</td><td>0</td><td>0</td><td>0</td><td>0</td><td>0</td><td>0</td><td>0</td><td>0</td><td>0</td><td>0</td></tr>\n",
       "\t<tr><th scope=row>4</th><td>10</td><td>2023-02-21</td><td>Sell</td><td>AMC</td><td>3000</td><td>5.8550</td><td>17565.00</td><td>0</td><td>FALSE</td><td>0</td><td>⋯</td><td>0</td><td>0</td><td>0</td><td>0</td><td>0</td><td>0</td><td>0</td><td>0</td><td>0</td><td>0</td></tr>\n",
       "\t<tr><th scope=row>5</th><td>16</td><td>2023-02-22</td><td>Sell</td><td>AMC</td><td>6000</td><td>6.6150</td><td>39690.00</td><td>0</td><td>FALSE</td><td>0</td><td>⋯</td><td>0</td><td>0</td><td>0</td><td>0</td><td>0</td><td>0</td><td>0</td><td>0</td><td>0</td><td>0</td></tr>\n",
       "\t<tr><th scope=row>6</th><td>18</td><td>2023-02-27</td><td>Sell</td><td>AMC</td><td>3000</td><td>7.8160</td><td>23448.00</td><td>0</td><td>FALSE</td><td>0</td><td>⋯</td><td>0</td><td>0</td><td>0</td><td>0</td><td>0</td><td>0</td><td>0</td><td>0</td><td>0</td><td>0</td></tr>\n",
       "\t<tr><th scope=row>7</th><td>19</td><td>2023-02-27</td><td>Sell</td><td>AMC</td><td>1850</td><td>7.5850</td><td>14032.25</td><td>0</td><td>FALSE</td><td>0</td><td>⋯</td><td>0</td><td>0</td><td>0</td><td>0</td><td>0</td><td>0</td><td>0</td><td>0</td><td>0</td><td>0</td></tr>\n",
       "</tbody>\n",
       "</table>\n"
      ],
      "text/latex": [
       "A data.frame: 5 × 23\n",
       "\\begin{tabular}{r|lllllllllllllllllllll}\n",
       "  & index & date & type & co & quan & pps & basis & sale\\_quan & flag & buy\\_cf\\_quan & ⋯ & buy\\_pps & buy\\_basis & sell\\_quan & sell\\_pps & sell\\_basis & profit\\_loss & sold\\_cf\\_quan & sold\\_cf\\_pps & sold\\_cf\\_basis & true\\_false\\\\\n",
       "  & <int> & <date> & <chr> & <chr> & <dbl> & <dbl> & <dbl> & <dbl> & <lgl> & <dbl> & ⋯ & <dbl> & <dbl> & <dbl> & <dbl> & <dbl> & <dbl> & <dbl> & <dbl> & <dbl> & <dbl>\\\\\n",
       "\\hline\n",
       "\t3 &  8 & 2023-02-03 & Sell & AMC &  950 & 5.5124 &  5236.78 & 0 & FALSE & 0 & ⋯ & 0 & 0 & 0 & 0 & 0 & 0 & 0 & 0 & 0 & 0\\\\\n",
       "\t4 & 10 & 2023-02-21 & Sell & AMC & 3000 & 5.8550 & 17565.00 & 0 & FALSE & 0 & ⋯ & 0 & 0 & 0 & 0 & 0 & 0 & 0 & 0 & 0 & 0\\\\\n",
       "\t5 & 16 & 2023-02-22 & Sell & AMC & 6000 & 6.6150 & 39690.00 & 0 & FALSE & 0 & ⋯ & 0 & 0 & 0 & 0 & 0 & 0 & 0 & 0 & 0 & 0\\\\\n",
       "\t6 & 18 & 2023-02-27 & Sell & AMC & 3000 & 7.8160 & 23448.00 & 0 & FALSE & 0 & ⋯ & 0 & 0 & 0 & 0 & 0 & 0 & 0 & 0 & 0 & 0\\\\\n",
       "\t7 & 19 & 2023-02-27 & Sell & AMC & 1850 & 7.5850 & 14032.25 & 0 & FALSE & 0 & ⋯ & 0 & 0 & 0 & 0 & 0 & 0 & 0 & 0 & 0 & 0\\\\\n",
       "\\end{tabular}\n"
      ],
      "text/markdown": [
       "\n",
       "A data.frame: 5 × 23\n",
       "\n",
       "| <!--/--> | index &lt;int&gt; | date &lt;date&gt; | type &lt;chr&gt; | co &lt;chr&gt; | quan &lt;dbl&gt; | pps &lt;dbl&gt; | basis &lt;dbl&gt; | sale_quan &lt;dbl&gt; | flag &lt;lgl&gt; | buy_cf_quan &lt;dbl&gt; | ⋯ ⋯ | buy_pps &lt;dbl&gt; | buy_basis &lt;dbl&gt; | sell_quan &lt;dbl&gt; | sell_pps &lt;dbl&gt; | sell_basis &lt;dbl&gt; | profit_loss &lt;dbl&gt; | sold_cf_quan &lt;dbl&gt; | sold_cf_pps &lt;dbl&gt; | sold_cf_basis &lt;dbl&gt; | true_false &lt;dbl&gt; |\n",
       "|---|---|---|---|---|---|---|---|---|---|---|---|---|---|---|---|---|---|---|---|---|---|\n",
       "| 3 |  8 | 2023-02-03 | Sell | AMC |  950 | 5.5124 |  5236.78 | 0 | FALSE | 0 | ⋯ | 0 | 0 | 0 | 0 | 0 | 0 | 0 | 0 | 0 | 0 |\n",
       "| 4 | 10 | 2023-02-21 | Sell | AMC | 3000 | 5.8550 | 17565.00 | 0 | FALSE | 0 | ⋯ | 0 | 0 | 0 | 0 | 0 | 0 | 0 | 0 | 0 | 0 |\n",
       "| 5 | 16 | 2023-02-22 | Sell | AMC | 6000 | 6.6150 | 39690.00 | 0 | FALSE | 0 | ⋯ | 0 | 0 | 0 | 0 | 0 | 0 | 0 | 0 | 0 | 0 |\n",
       "| 6 | 18 | 2023-02-27 | Sell | AMC | 3000 | 7.8160 | 23448.00 | 0 | FALSE | 0 | ⋯ | 0 | 0 | 0 | 0 | 0 | 0 | 0 | 0 | 0 | 0 |\n",
       "| 7 | 19 | 2023-02-27 | Sell | AMC | 1850 | 7.5850 | 14032.25 | 0 | FALSE | 0 | ⋯ | 0 | 0 | 0 | 0 | 0 | 0 | 0 | 0 | 0 | 0 |\n",
       "\n"
      ],
      "text/plain": [
       "  index date       type co  quan pps    basis    sale_quan flag  buy_cf_quan ⋯\n",
       "3  8    2023-02-03 Sell AMC  950 5.5124  5236.78 0         FALSE 0           ⋯\n",
       "4 10    2023-02-21 Sell AMC 3000 5.8550 17565.00 0         FALSE 0           ⋯\n",
       "5 16    2023-02-22 Sell AMC 6000 6.6150 39690.00 0         FALSE 0           ⋯\n",
       "6 18    2023-02-27 Sell AMC 3000 7.8160 23448.00 0         FALSE 0           ⋯\n",
       "7 19    2023-02-27 Sell AMC 1850 7.5850 14032.25 0         FALSE 0           ⋯\n",
       "  buy_pps buy_basis sell_quan sell_pps sell_basis profit_loss sold_cf_quan\n",
       "3 0       0         0         0        0          0           0           \n",
       "4 0       0         0         0        0          0           0           \n",
       "5 0       0         0         0        0          0           0           \n",
       "6 0       0         0         0        0          0           0           \n",
       "7 0       0         0         0        0          0           0           \n",
       "  sold_cf_pps sold_cf_basis true_false\n",
       "3 0           0             0         \n",
       "4 0           0             0         \n",
       "5 0           0             0         \n",
       "6 0           0             0         \n",
       "7 0           0             0         "
      ]
     },
     "metadata": {},
     "output_type": "display_data"
    }
   ],
   "source": [
    "head(buys,5)\n",
    "head(sells,5)"
   ]
  },
  {
   "cell_type": "markdown",
   "id": "ee48381f-417e-40c9-8010-7a5281dddedf",
   "metadata": {},
   "source": [
    "\n",
    "#### <font color = yellow> 4. Update buys or sells with a new row (add_row) - whenever a transaction (loop) includes  c/f\n",
    "    \n",
    "###### Uses add_row () to transform any existing carryforward (buy or sell type) into the next element that will be processed for next (loop) buy/sell transaction\n"
   ]
  },
  {
   "cell_type": "code",
   "execution_count": 89,
   "id": "4876c3ca-3144-4423-91fb-e8937bd35952",
   "metadata": {},
   "outputs": [
    {
     "name": "stdout",
     "output_type": "stream",
     "text": [
      "\n",
      " There is Buy carryforward. Update buys  1050 \n",
      "the s2cf_quan is:  1950 \n",
      "the s2cf_pps is  5.855 \n",
      "printing updated buys[1 ], dim of buys increases with c/f  \n"
     ]
    }
   ],
   "source": [
    "# fct call\n",
    "return_list <- update_buys_sells(buys, sells)\n",
    "\n",
    "# returned the updated to buys / sells\n",
    "buys <- return_list[[1]]\n",
    "sells <- return_list[[2]]\n",
    "\n",
    "#dim(buys)\n",
    "# dim(sells)\n"
   ]
  },
  {
   "cell_type": "code",
   "execution_count": 90,
   "id": "f094221f-3c5f-4c49-b209-602762b87552",
   "metadata": {},
   "outputs": [
    {
     "data": {
      "text/html": [
       "<table class=\"dataframe\">\n",
       "<caption>A data.frame: 5 × 23</caption>\n",
       "<thead>\n",
       "\t<tr><th></th><th scope=col>index</th><th scope=col>date</th><th scope=col>type</th><th scope=col>co</th><th scope=col>quan</th><th scope=col>pps</th><th scope=col>basis</th><th scope=col>sale_quan</th><th scope=col>flag</th><th scope=col>buy_cf_quan</th><th scope=col>⋯</th><th scope=col>buy_pps</th><th scope=col>buy_basis</th><th scope=col>sell_quan</th><th scope=col>sell_pps</th><th scope=col>sell_basis</th><th scope=col>profit_loss</th><th scope=col>sold_cf_quan</th><th scope=col>sold_cf_pps</th><th scope=col>sold_cf_basis</th><th scope=col>true_false</th></tr>\n",
       "\t<tr><th></th><th scope=col>&lt;int&gt;</th><th scope=col>&lt;date&gt;</th><th scope=col>&lt;chr&gt;</th><th scope=col>&lt;chr&gt;</th><th scope=col>&lt;dbl&gt;</th><th scope=col>&lt;dbl&gt;</th><th scope=col>&lt;dbl&gt;</th><th scope=col>&lt;dbl&gt;</th><th scope=col>&lt;lgl&gt;</th><th scope=col>&lt;dbl&gt;</th><th scope=col>⋯</th><th scope=col>&lt;dbl&gt;</th><th scope=col>&lt;dbl&gt;</th><th scope=col>&lt;dbl&gt;</th><th scope=col>&lt;dbl&gt;</th><th scope=col>&lt;dbl&gt;</th><th scope=col>&lt;dbl&gt;</th><th scope=col>&lt;dbl&gt;</th><th scope=col>&lt;dbl&gt;</th><th scope=col>&lt;dbl&gt;</th><th scope=col>&lt;dbl&gt;</th></tr>\n",
       "</thead>\n",
       "<tbody>\n",
       "\t<tr><th scope=row>1</th><td> 7</td><td>2023-01-27</td><td>Buy   </td><td>AMC</td><td>2000</td><td>5.2394</td><td>10478.80</td><td>0</td><td> TRUE</td><td>0</td><td>⋯</td><td>0</td><td>0</td><td>0</td><td>0</td><td>0</td><td>0</td><td>0</td><td>0</td><td>0</td><td>0</td></tr>\n",
       "\t<tr><th scope=row>2</th><td> 7</td><td>2023-01-27</td><td>Buy CF</td><td>AMC</td><td>1050</td><td>5.2394</td><td> 5501.37</td><td>0</td><td> TRUE</td><td>0</td><td>⋯</td><td>0</td><td>0</td><td>0</td><td>0</td><td>0</td><td>0</td><td>0</td><td>0</td><td>0</td><td>0</td></tr>\n",
       "\t<tr><th scope=row>3</th><td> 9</td><td>2023-02-10</td><td>Buy   </td><td>AMC</td><td>2000</td><td>4.7450</td><td> 9490.00</td><td>0</td><td>FALSE</td><td>0</td><td>⋯</td><td>0</td><td>0</td><td>0</td><td>0</td><td>0</td><td>0</td><td>0</td><td>0</td><td>0</td><td>0</td></tr>\n",
       "\t<tr><th scope=row>4</th><td>11</td><td>2023-02-10</td><td>Buy   </td><td>AMC</td><td>1000</td><td>4.7800</td><td> 4780.00</td><td>0</td><td>FALSE</td><td>0</td><td>⋯</td><td>0</td><td>0</td><td>0</td><td>0</td><td>0</td><td>0</td><td>0</td><td>0</td><td>0</td><td>0</td></tr>\n",
       "\t<tr><th scope=row>5</th><td>12</td><td>2023-02-13</td><td>Buy   </td><td>AMC</td><td>3000</td><td>4.7296</td><td>14188.80</td><td>0</td><td>FALSE</td><td>0</td><td>⋯</td><td>0</td><td>0</td><td>0</td><td>0</td><td>0</td><td>0</td><td>0</td><td>0</td><td>0</td><td>0</td></tr>\n",
       "</tbody>\n",
       "</table>\n"
      ],
      "text/latex": [
       "A data.frame: 5 × 23\n",
       "\\begin{tabular}{r|lllllllllllllllllllll}\n",
       "  & index & date & type & co & quan & pps & basis & sale\\_quan & flag & buy\\_cf\\_quan & ⋯ & buy\\_pps & buy\\_basis & sell\\_quan & sell\\_pps & sell\\_basis & profit\\_loss & sold\\_cf\\_quan & sold\\_cf\\_pps & sold\\_cf\\_basis & true\\_false\\\\\n",
       "  & <int> & <date> & <chr> & <chr> & <dbl> & <dbl> & <dbl> & <dbl> & <lgl> & <dbl> & ⋯ & <dbl> & <dbl> & <dbl> & <dbl> & <dbl> & <dbl> & <dbl> & <dbl> & <dbl> & <dbl>\\\\\n",
       "\\hline\n",
       "\t1 &  7 & 2023-01-27 & Buy    & AMC & 2000 & 5.2394 & 10478.80 & 0 &  TRUE & 0 & ⋯ & 0 & 0 & 0 & 0 & 0 & 0 & 0 & 0 & 0 & 0\\\\\n",
       "\t2 &  7 & 2023-01-27 & Buy CF & AMC & 1050 & 5.2394 &  5501.37 & 0 &  TRUE & 0 & ⋯ & 0 & 0 & 0 & 0 & 0 & 0 & 0 & 0 & 0 & 0\\\\\n",
       "\t3 &  9 & 2023-02-10 & Buy    & AMC & 2000 & 4.7450 &  9490.00 & 0 & FALSE & 0 & ⋯ & 0 & 0 & 0 & 0 & 0 & 0 & 0 & 0 & 0 & 0\\\\\n",
       "\t4 & 11 & 2023-02-10 & Buy    & AMC & 1000 & 4.7800 &  4780.00 & 0 & FALSE & 0 & ⋯ & 0 & 0 & 0 & 0 & 0 & 0 & 0 & 0 & 0 & 0\\\\\n",
       "\t5 & 12 & 2023-02-13 & Buy    & AMC & 3000 & 4.7296 & 14188.80 & 0 & FALSE & 0 & ⋯ & 0 & 0 & 0 & 0 & 0 & 0 & 0 & 0 & 0 & 0\\\\\n",
       "\\end{tabular}\n"
      ],
      "text/markdown": [
       "\n",
       "A data.frame: 5 × 23\n",
       "\n",
       "| <!--/--> | index &lt;int&gt; | date &lt;date&gt; | type &lt;chr&gt; | co &lt;chr&gt; | quan &lt;dbl&gt; | pps &lt;dbl&gt; | basis &lt;dbl&gt; | sale_quan &lt;dbl&gt; | flag &lt;lgl&gt; | buy_cf_quan &lt;dbl&gt; | ⋯ ⋯ | buy_pps &lt;dbl&gt; | buy_basis &lt;dbl&gt; | sell_quan &lt;dbl&gt; | sell_pps &lt;dbl&gt; | sell_basis &lt;dbl&gt; | profit_loss &lt;dbl&gt; | sold_cf_quan &lt;dbl&gt; | sold_cf_pps &lt;dbl&gt; | sold_cf_basis &lt;dbl&gt; | true_false &lt;dbl&gt; |\n",
       "|---|---|---|---|---|---|---|---|---|---|---|---|---|---|---|---|---|---|---|---|---|---|\n",
       "| 1 |  7 | 2023-01-27 | Buy    | AMC | 2000 | 5.2394 | 10478.80 | 0 |  TRUE | 0 | ⋯ | 0 | 0 | 0 | 0 | 0 | 0 | 0 | 0 | 0 | 0 |\n",
       "| 2 |  7 | 2023-01-27 | Buy CF | AMC | 1050 | 5.2394 |  5501.37 | 0 |  TRUE | 0 | ⋯ | 0 | 0 | 0 | 0 | 0 | 0 | 0 | 0 | 0 | 0 |\n",
       "| 3 |  9 | 2023-02-10 | Buy    | AMC | 2000 | 4.7450 |  9490.00 | 0 | FALSE | 0 | ⋯ | 0 | 0 | 0 | 0 | 0 | 0 | 0 | 0 | 0 | 0 |\n",
       "| 4 | 11 | 2023-02-10 | Buy    | AMC | 1000 | 4.7800 |  4780.00 | 0 | FALSE | 0 | ⋯ | 0 | 0 | 0 | 0 | 0 | 0 | 0 | 0 | 0 | 0 |\n",
       "| 5 | 12 | 2023-02-13 | Buy    | AMC | 3000 | 4.7296 | 14188.80 | 0 | FALSE | 0 | ⋯ | 0 | 0 | 0 | 0 | 0 | 0 | 0 | 0 | 0 | 0 |\n",
       "\n"
      ],
      "text/plain": [
       "  index date       type   co  quan pps    basis    sale_quan flag  buy_cf_quan\n",
       "1  7    2023-01-27 Buy    AMC 2000 5.2394 10478.80 0          TRUE 0          \n",
       "2  7    2023-01-27 Buy CF AMC 1050 5.2394  5501.37 0          TRUE 0          \n",
       "3  9    2023-02-10 Buy    AMC 2000 4.7450  9490.00 0         FALSE 0          \n",
       "4 11    2023-02-10 Buy    AMC 1000 4.7800  4780.00 0         FALSE 0          \n",
       "5 12    2023-02-13 Buy    AMC 3000 4.7296 14188.80 0         FALSE 0          \n",
       "  ⋯ buy_pps buy_basis sell_quan sell_pps sell_basis profit_loss sold_cf_quan\n",
       "1 ⋯ 0       0         0         0        0          0           0           \n",
       "2 ⋯ 0       0         0         0        0          0           0           \n",
       "3 ⋯ 0       0         0         0        0          0           0           \n",
       "4 ⋯ 0       0         0         0        0          0           0           \n",
       "5 ⋯ 0       0         0         0        0          0           0           \n",
       "  sold_cf_pps sold_cf_basis true_false\n",
       "1 0           0             0         \n",
       "2 0           0             0         \n",
       "3 0           0             0         \n",
       "4 0           0             0         \n",
       "5 0           0             0         "
      ]
     },
     "metadata": {},
     "output_type": "display_data"
    },
    {
     "data": {
      "text/html": [
       "<table class=\"dataframe\">\n",
       "<caption>A data.frame: 5 × 23</caption>\n",
       "<thead>\n",
       "\t<tr><th></th><th scope=col>index</th><th scope=col>date</th><th scope=col>type</th><th scope=col>co</th><th scope=col>quan</th><th scope=col>pps</th><th scope=col>basis</th><th scope=col>sale_quan</th><th scope=col>flag</th><th scope=col>buy_cf_quan</th><th scope=col>⋯</th><th scope=col>buy_pps</th><th scope=col>buy_basis</th><th scope=col>sell_quan</th><th scope=col>sell_pps</th><th scope=col>sell_basis</th><th scope=col>profit_loss</th><th scope=col>sold_cf_quan</th><th scope=col>sold_cf_pps</th><th scope=col>sold_cf_basis</th><th scope=col>true_false</th></tr>\n",
       "\t<tr><th></th><th scope=col>&lt;int&gt;</th><th scope=col>&lt;date&gt;</th><th scope=col>&lt;chr&gt;</th><th scope=col>&lt;chr&gt;</th><th scope=col>&lt;dbl&gt;</th><th scope=col>&lt;dbl&gt;</th><th scope=col>&lt;dbl&gt;</th><th scope=col>&lt;dbl&gt;</th><th scope=col>&lt;lgl&gt;</th><th scope=col>&lt;dbl&gt;</th><th scope=col>⋯</th><th scope=col>&lt;dbl&gt;</th><th scope=col>&lt;dbl&gt;</th><th scope=col>&lt;dbl&gt;</th><th scope=col>&lt;dbl&gt;</th><th scope=col>&lt;dbl&gt;</th><th scope=col>&lt;dbl&gt;</th><th scope=col>&lt;dbl&gt;</th><th scope=col>&lt;dbl&gt;</th><th scope=col>&lt;dbl&gt;</th><th scope=col>&lt;dbl&gt;</th></tr>\n",
       "</thead>\n",
       "<tbody>\n",
       "\t<tr><th scope=row>1</th><td> 7</td><td>2023-01-27</td><td>Sell CF</td><td>AMC</td><td>1050</td><td>5.5124</td><td>    5.5124</td><td>0</td><td> TRUE</td><td>0</td><td>⋯</td><td>0</td><td>0</td><td>0</td><td>0</td><td>0</td><td>0</td><td>0</td><td>0</td><td>0</td><td>0</td></tr>\n",
       "\t<tr><th scope=row>2</th><td> 8</td><td>2023-02-03</td><td>Sell   </td><td>AMC</td><td> 950</td><td>5.5124</td><td> 5236.7800</td><td>0</td><td>FALSE</td><td>0</td><td>⋯</td><td>0</td><td>0</td><td>0</td><td>0</td><td>0</td><td>0</td><td>0</td><td>0</td><td>0</td><td>0</td></tr>\n",
       "\t<tr><th scope=row>3</th><td>10</td><td>2023-02-21</td><td>Sell   </td><td>AMC</td><td>1950</td><td>5.5124</td><td>10749.1800</td><td>0</td><td>FALSE</td><td>0</td><td>⋯</td><td>0</td><td>0</td><td>0</td><td>0</td><td>0</td><td>0</td><td>0</td><td>0</td><td>0</td><td>0</td></tr>\n",
       "\t<tr><th scope=row>4</th><td>16</td><td>2023-02-22</td><td>Sell   </td><td>AMC</td><td>6000</td><td>6.6150</td><td>39690.0000</td><td>0</td><td>FALSE</td><td>0</td><td>⋯</td><td>0</td><td>0</td><td>0</td><td>0</td><td>0</td><td>0</td><td>0</td><td>0</td><td>0</td><td>0</td></tr>\n",
       "\t<tr><th scope=row>5</th><td>18</td><td>2023-02-27</td><td>Sell   </td><td>AMC</td><td>3000</td><td>7.8160</td><td>23448.0000</td><td>0</td><td>FALSE</td><td>0</td><td>⋯</td><td>0</td><td>0</td><td>0</td><td>0</td><td>0</td><td>0</td><td>0</td><td>0</td><td>0</td><td>0</td></tr>\n",
       "</tbody>\n",
       "</table>\n"
      ],
      "text/latex": [
       "A data.frame: 5 × 23\n",
       "\\begin{tabular}{r|lllllllllllllllllllll}\n",
       "  & index & date & type & co & quan & pps & basis & sale\\_quan & flag & buy\\_cf\\_quan & ⋯ & buy\\_pps & buy\\_basis & sell\\_quan & sell\\_pps & sell\\_basis & profit\\_loss & sold\\_cf\\_quan & sold\\_cf\\_pps & sold\\_cf\\_basis & true\\_false\\\\\n",
       "  & <int> & <date> & <chr> & <chr> & <dbl> & <dbl> & <dbl> & <dbl> & <lgl> & <dbl> & ⋯ & <dbl> & <dbl> & <dbl> & <dbl> & <dbl> & <dbl> & <dbl> & <dbl> & <dbl> & <dbl>\\\\\n",
       "\\hline\n",
       "\t1 &  7 & 2023-01-27 & Sell CF & AMC & 1050 & 5.5124 &     5.5124 & 0 &  TRUE & 0 & ⋯ & 0 & 0 & 0 & 0 & 0 & 0 & 0 & 0 & 0 & 0\\\\\n",
       "\t2 &  8 & 2023-02-03 & Sell    & AMC &  950 & 5.5124 &  5236.7800 & 0 & FALSE & 0 & ⋯ & 0 & 0 & 0 & 0 & 0 & 0 & 0 & 0 & 0 & 0\\\\\n",
       "\t3 & 10 & 2023-02-21 & Sell    & AMC & 1950 & 5.5124 & 10749.1800 & 0 & FALSE & 0 & ⋯ & 0 & 0 & 0 & 0 & 0 & 0 & 0 & 0 & 0 & 0\\\\\n",
       "\t4 & 16 & 2023-02-22 & Sell    & AMC & 6000 & 6.6150 & 39690.0000 & 0 & FALSE & 0 & ⋯ & 0 & 0 & 0 & 0 & 0 & 0 & 0 & 0 & 0 & 0\\\\\n",
       "\t5 & 18 & 2023-02-27 & Sell    & AMC & 3000 & 7.8160 & 23448.0000 & 0 & FALSE & 0 & ⋯ & 0 & 0 & 0 & 0 & 0 & 0 & 0 & 0 & 0 & 0\\\\\n",
       "\\end{tabular}\n"
      ],
      "text/markdown": [
       "\n",
       "A data.frame: 5 × 23\n",
       "\n",
       "| <!--/--> | index &lt;int&gt; | date &lt;date&gt; | type &lt;chr&gt; | co &lt;chr&gt; | quan &lt;dbl&gt; | pps &lt;dbl&gt; | basis &lt;dbl&gt; | sale_quan &lt;dbl&gt; | flag &lt;lgl&gt; | buy_cf_quan &lt;dbl&gt; | ⋯ ⋯ | buy_pps &lt;dbl&gt; | buy_basis &lt;dbl&gt; | sell_quan &lt;dbl&gt; | sell_pps &lt;dbl&gt; | sell_basis &lt;dbl&gt; | profit_loss &lt;dbl&gt; | sold_cf_quan &lt;dbl&gt; | sold_cf_pps &lt;dbl&gt; | sold_cf_basis &lt;dbl&gt; | true_false &lt;dbl&gt; |\n",
       "|---|---|---|---|---|---|---|---|---|---|---|---|---|---|---|---|---|---|---|---|---|---|\n",
       "| 1 |  7 | 2023-01-27 | Sell CF | AMC | 1050 | 5.5124 |     5.5124 | 0 |  TRUE | 0 | ⋯ | 0 | 0 | 0 | 0 | 0 | 0 | 0 | 0 | 0 | 0 |\n",
       "| 2 |  8 | 2023-02-03 | Sell    | AMC |  950 | 5.5124 |  5236.7800 | 0 | FALSE | 0 | ⋯ | 0 | 0 | 0 | 0 | 0 | 0 | 0 | 0 | 0 | 0 |\n",
       "| 3 | 10 | 2023-02-21 | Sell    | AMC | 1950 | 5.5124 | 10749.1800 | 0 | FALSE | 0 | ⋯ | 0 | 0 | 0 | 0 | 0 | 0 | 0 | 0 | 0 | 0 |\n",
       "| 4 | 16 | 2023-02-22 | Sell    | AMC | 6000 | 6.6150 | 39690.0000 | 0 | FALSE | 0 | ⋯ | 0 | 0 | 0 | 0 | 0 | 0 | 0 | 0 | 0 | 0 |\n",
       "| 5 | 18 | 2023-02-27 | Sell    | AMC | 3000 | 7.8160 | 23448.0000 | 0 | FALSE | 0 | ⋯ | 0 | 0 | 0 | 0 | 0 | 0 | 0 | 0 | 0 | 0 |\n",
       "\n"
      ],
      "text/plain": [
       "  index date       type    co  quan pps    basis      sale_quan flag \n",
       "1  7    2023-01-27 Sell CF AMC 1050 5.5124     5.5124 0          TRUE\n",
       "2  8    2023-02-03 Sell    AMC  950 5.5124  5236.7800 0         FALSE\n",
       "3 10    2023-02-21 Sell    AMC 1950 5.5124 10749.1800 0         FALSE\n",
       "4 16    2023-02-22 Sell    AMC 6000 6.6150 39690.0000 0         FALSE\n",
       "5 18    2023-02-27 Sell    AMC 3000 7.8160 23448.0000 0         FALSE\n",
       "  buy_cf_quan ⋯ buy_pps buy_basis sell_quan sell_pps sell_basis profit_loss\n",
       "1 0           ⋯ 0       0         0         0        0          0          \n",
       "2 0           ⋯ 0       0         0         0        0          0          \n",
       "3 0           ⋯ 0       0         0         0        0          0          \n",
       "4 0           ⋯ 0       0         0         0        0          0          \n",
       "5 0           ⋯ 0       0         0         0        0          0          \n",
       "  sold_cf_quan sold_cf_pps sold_cf_basis true_false\n",
       "1 0            0           0             0         \n",
       "2 0            0           0             0         \n",
       "3 0            0           0             0         \n",
       "4 0            0           0             0         \n",
       "5 0            0           0             0         "
      ]
     },
     "metadata": {},
     "output_type": "display_data"
    }
   ],
   "source": [
    "head(buys,5)\n",
    "head(sells,5)"
   ]
  },
  {
   "cell_type": "markdown",
   "id": "9ad9cd67-e7c6-4cbc-ab9c-8890915dbd10",
   "metadata": {},
   "source": [
    "#### <font color = yellow>5. snips () Create a new variable from buys/sells row 1, then delete row 1 from buys and sells (copy_snip () )"
   ]
  },
  {
   "cell_type": "code",
   "execution_count": 91,
   "id": "5f9b3734-b616-4d85-9ef6-e27ea0728f86",
   "metadata": {},
   "outputs": [
    {
     "name": "stdout",
     "output_type": "stream",
     "text": [
      " Contains buy carryforward - remove buys c/f row and DO snip sells \n"
     ]
    }
   ],
   "source": [
    "copy_snip_list <- copy_snip(b, s, buys, sells) \n",
    "\n",
    "b1 <- copy_snip_list[[1]]\n",
    "s1 <- copy_snip_list[[2]]\n",
    "buys <- copy_snip_list[[3]]\n",
    "sells <- copy_snip_list[[4]]\n",
    "\n",
    "# after\n",
    "# dim(buys)\n",
    "# dim(sells)\n",
    "# # b1\n",
    "# s1"
   ]
  },
  {
   "cell_type": "code",
   "execution_count": null,
   "id": "6185aedb-df50-4977-9d3a-69be2997c1d8",
   "metadata": {},
   "outputs": [],
   "source": []
  },
  {
   "cell_type": "markdown",
   "id": "dff5a7b6-cc9f-4e43-8061-cd794eeadcae",
   "metadata": {},
   "source": [
    "#### <font color = lime> QC: Loop 7 review buys & sells"
   ]
  },
  {
   "cell_type": "code",
   "execution_count": 92,
   "id": "d1e86813-7f09-4f12-8804-3fd94da7b8a2",
   "metadata": {},
   "outputs": [
    {
     "data": {
      "text/html": [
       "<table class=\"dataframe\">\n",
       "<caption>A data.frame: 7 × 23</caption>\n",
       "<thead>\n",
       "\t<tr><th scope=col>index</th><th scope=col>date</th><th scope=col>type</th><th scope=col>co</th><th scope=col>quan</th><th scope=col>pps</th><th scope=col>basis</th><th scope=col>sale_quan</th><th scope=col>flag</th><th scope=col>buy_cf_quan</th><th scope=col>⋯</th><th scope=col>buy_pps</th><th scope=col>buy_basis</th><th scope=col>sell_quan</th><th scope=col>sell_pps</th><th scope=col>sell_basis</th><th scope=col>profit_loss</th><th scope=col>sold_cf_quan</th><th scope=col>sold_cf_pps</th><th scope=col>sold_cf_basis</th><th scope=col>true_false</th></tr>\n",
       "\t<tr><th scope=col>&lt;int&gt;</th><th scope=col>&lt;date&gt;</th><th scope=col>&lt;chr&gt;</th><th scope=col>&lt;chr&gt;</th><th scope=col>&lt;dbl&gt;</th><th scope=col>&lt;dbl&gt;</th><th scope=col>&lt;dbl&gt;</th><th scope=col>&lt;dbl&gt;</th><th scope=col>&lt;lgl&gt;</th><th scope=col>&lt;dbl&gt;</th><th scope=col>⋯</th><th scope=col>&lt;dbl&gt;</th><th scope=col>&lt;dbl&gt;</th><th scope=col>&lt;dbl&gt;</th><th scope=col>&lt;dbl&gt;</th><th scope=col>&lt;dbl&gt;</th><th scope=col>&lt;dbl&gt;</th><th scope=col>&lt;dbl&gt;</th><th scope=col>&lt;dbl&gt;</th><th scope=col>&lt;dbl&gt;</th><th scope=col>&lt;dbl&gt;</th></tr>\n",
       "</thead>\n",
       "<tbody>\n",
       "\t<tr><td>7</td><td>2023-01-27</td><td>Buy   </td><td>AMC </td><td>2000</td><td>5.2394</td><td>10478.80</td><td> 950</td><td>TRUE</td><td>0</td><td>⋯</td><td>5.2394</td><td>4977.43</td><td> 950</td><td>5.5124</td><td>5236.78</td><td> 259.35</td><td>1050</td><td>5.2394</td><td>5501.37</td><td>0</td></tr>\n",
       "\t<tr><td>5</td><td>2023-01-23</td><td>Buy CF</td><td>CFCF</td><td>  50</td><td>5.7880</td><td>  289.40</td><td>   0</td><td>TRUE</td><td>0</td><td>⋯</td><td>5.7880</td><td> 289.40</td><td>  50</td><td>5.5124</td><td> 275.62</td><td> -13.78</td><td>   0</td><td>0.0000</td><td>   0.00</td><td>1</td></tr>\n",
       "\t<tr><td>5</td><td>2023-01-23</td><td>Buy   </td><td>AMC </td><td>1000</td><td>5.7880</td><td> 5788.00</td><td> 950</td><td>TRUE</td><td>0</td><td>⋯</td><td>5.7880</td><td>5498.60</td><td> 950</td><td>5.5124</td><td>5236.78</td><td>-261.82</td><td>  50</td><td>5.7880</td><td> 289.40</td><td>0</td></tr>\n",
       "\t<tr><td>3</td><td>2023-01-20</td><td>Buy CF</td><td>CFCF</td><td>  50</td><td>5.6250</td><td>  281.25</td><td>   0</td><td>TRUE</td><td>0</td><td>⋯</td><td>5.6250</td><td> 281.25</td><td>  50</td><td>5.5124</td><td> 275.62</td><td>  -5.63</td><td>   0</td><td>0.0000</td><td>   0.00</td><td>1</td></tr>\n",
       "\t<tr><td>3</td><td>2023-01-20</td><td>Buy   </td><td>AMC </td><td>1000</td><td>5.6250</td><td> 5625.00</td><td> 950</td><td>TRUE</td><td>0</td><td>⋯</td><td>5.6250</td><td>5343.75</td><td> 950</td><td>5.5124</td><td>5236.78</td><td>-106.97</td><td>  50</td><td>5.6250</td><td> 281.25</td><td>0</td></tr>\n",
       "\t<tr><td>1</td><td>2022-12-31</td><td>Buy CF</td><td>CFCF</td><td>  50</td><td>4.0700</td><td>  203.50</td><td>   0</td><td>TRUE</td><td>0</td><td>⋯</td><td>4.0700</td><td> 203.50</td><td>  50</td><td>5.5124</td><td> 275.62</td><td>  72.12</td><td>   0</td><td>0.0000</td><td>   0.00</td><td>1</td></tr>\n",
       "\t<tr><td>1</td><td>2022-12-31</td><td>Buy   </td><td>AMC </td><td>1050</td><td>4.0700</td><td> 4273.50</td><td>1000</td><td>TRUE</td><td>0</td><td>⋯</td><td>4.0700</td><td>4070.00</td><td>1000</td><td>5.5124</td><td>5512.40</td><td>1442.40</td><td>  50</td><td>4.0700</td><td> 203.50</td><td>0</td></tr>\n",
       "</tbody>\n",
       "</table>\n"
      ],
      "text/latex": [
       "A data.frame: 7 × 23\n",
       "\\begin{tabular}{lllllllllllllllllllll}\n",
       " index & date & type & co & quan & pps & basis & sale\\_quan & flag & buy\\_cf\\_quan & ⋯ & buy\\_pps & buy\\_basis & sell\\_quan & sell\\_pps & sell\\_basis & profit\\_loss & sold\\_cf\\_quan & sold\\_cf\\_pps & sold\\_cf\\_basis & true\\_false\\\\\n",
       " <int> & <date> & <chr> & <chr> & <dbl> & <dbl> & <dbl> & <dbl> & <lgl> & <dbl> & ⋯ & <dbl> & <dbl> & <dbl> & <dbl> & <dbl> & <dbl> & <dbl> & <dbl> & <dbl> & <dbl>\\\\\n",
       "\\hline\n",
       "\t 7 & 2023-01-27 & Buy    & AMC  & 2000 & 5.2394 & 10478.80 &  950 & TRUE & 0 & ⋯ & 5.2394 & 4977.43 &  950 & 5.5124 & 5236.78 &  259.35 & 1050 & 5.2394 & 5501.37 & 0\\\\\n",
       "\t 5 & 2023-01-23 & Buy CF & CFCF &   50 & 5.7880 &   289.40 &    0 & TRUE & 0 & ⋯ & 5.7880 &  289.40 &   50 & 5.5124 &  275.62 &  -13.78 &    0 & 0.0000 &    0.00 & 1\\\\\n",
       "\t 5 & 2023-01-23 & Buy    & AMC  & 1000 & 5.7880 &  5788.00 &  950 & TRUE & 0 & ⋯ & 5.7880 & 5498.60 &  950 & 5.5124 & 5236.78 & -261.82 &   50 & 5.7880 &  289.40 & 0\\\\\n",
       "\t 3 & 2023-01-20 & Buy CF & CFCF &   50 & 5.6250 &   281.25 &    0 & TRUE & 0 & ⋯ & 5.6250 &  281.25 &   50 & 5.5124 &  275.62 &   -5.63 &    0 & 0.0000 &    0.00 & 1\\\\\n",
       "\t 3 & 2023-01-20 & Buy    & AMC  & 1000 & 5.6250 &  5625.00 &  950 & TRUE & 0 & ⋯ & 5.6250 & 5343.75 &  950 & 5.5124 & 5236.78 & -106.97 &   50 & 5.6250 &  281.25 & 0\\\\\n",
       "\t 1 & 2022-12-31 & Buy CF & CFCF &   50 & 4.0700 &   203.50 &    0 & TRUE & 0 & ⋯ & 4.0700 &  203.50 &   50 & 5.5124 &  275.62 &   72.12 &    0 & 0.0000 &    0.00 & 1\\\\\n",
       "\t 1 & 2022-12-31 & Buy    & AMC  & 1050 & 4.0700 &  4273.50 & 1000 & TRUE & 0 & ⋯ & 4.0700 & 4070.00 & 1000 & 5.5124 & 5512.40 & 1442.40 &   50 & 4.0700 &  203.50 & 0\\\\\n",
       "\\end{tabular}\n"
      ],
      "text/markdown": [
       "\n",
       "A data.frame: 7 × 23\n",
       "\n",
       "| index &lt;int&gt; | date &lt;date&gt; | type &lt;chr&gt; | co &lt;chr&gt; | quan &lt;dbl&gt; | pps &lt;dbl&gt; | basis &lt;dbl&gt; | sale_quan &lt;dbl&gt; | flag &lt;lgl&gt; | buy_cf_quan &lt;dbl&gt; | ⋯ ⋯ | buy_pps &lt;dbl&gt; | buy_basis &lt;dbl&gt; | sell_quan &lt;dbl&gt; | sell_pps &lt;dbl&gt; | sell_basis &lt;dbl&gt; | profit_loss &lt;dbl&gt; | sold_cf_quan &lt;dbl&gt; | sold_cf_pps &lt;dbl&gt; | sold_cf_basis &lt;dbl&gt; | true_false &lt;dbl&gt; |\n",
       "|---|---|---|---|---|---|---|---|---|---|---|---|---|---|---|---|---|---|---|---|---|\n",
       "| 7 | 2023-01-27 | Buy    | AMC  | 2000 | 5.2394 | 10478.80 |  950 | TRUE | 0 | ⋯ | 5.2394 | 4977.43 |  950 | 5.5124 | 5236.78 |  259.35 | 1050 | 5.2394 | 5501.37 | 0 |\n",
       "| 5 | 2023-01-23 | Buy CF | CFCF |   50 | 5.7880 |   289.40 |    0 | TRUE | 0 | ⋯ | 5.7880 |  289.40 |   50 | 5.5124 |  275.62 |  -13.78 |    0 | 0.0000 |    0.00 | 1 |\n",
       "| 5 | 2023-01-23 | Buy    | AMC  | 1000 | 5.7880 |  5788.00 |  950 | TRUE | 0 | ⋯ | 5.7880 | 5498.60 |  950 | 5.5124 | 5236.78 | -261.82 |   50 | 5.7880 |  289.40 | 0 |\n",
       "| 3 | 2023-01-20 | Buy CF | CFCF |   50 | 5.6250 |   281.25 |    0 | TRUE | 0 | ⋯ | 5.6250 |  281.25 |   50 | 5.5124 |  275.62 |   -5.63 |    0 | 0.0000 |    0.00 | 1 |\n",
       "| 3 | 2023-01-20 | Buy    | AMC  | 1000 | 5.6250 |  5625.00 |  950 | TRUE | 0 | ⋯ | 5.6250 | 5343.75 |  950 | 5.5124 | 5236.78 | -106.97 |   50 | 5.6250 |  281.25 | 0 |\n",
       "| 1 | 2022-12-31 | Buy CF | CFCF |   50 | 4.0700 |   203.50 |    0 | TRUE | 0 | ⋯ | 4.0700 |  203.50 |   50 | 5.5124 |  275.62 |   72.12 |    0 | 0.0000 |    0.00 | 1 |\n",
       "| 1 | 2022-12-31 | Buy    | AMC  | 1050 | 4.0700 |  4273.50 | 1000 | TRUE | 0 | ⋯ | 4.0700 | 4070.00 | 1000 | 5.5124 | 5512.40 | 1442.40 |   50 | 4.0700 |  203.50 | 0 |\n",
       "\n"
      ],
      "text/plain": [
       "  index date       type   co   quan pps    basis    sale_quan flag buy_cf_quan\n",
       "1 7     2023-01-27 Buy    AMC  2000 5.2394 10478.80  950      TRUE 0          \n",
       "2 5     2023-01-23 Buy CF CFCF   50 5.7880   289.40    0      TRUE 0          \n",
       "3 5     2023-01-23 Buy    AMC  1000 5.7880  5788.00  950      TRUE 0          \n",
       "4 3     2023-01-20 Buy CF CFCF   50 5.6250   281.25    0      TRUE 0          \n",
       "5 3     2023-01-20 Buy    AMC  1000 5.6250  5625.00  950      TRUE 0          \n",
       "6 1     2022-12-31 Buy CF CFCF   50 4.0700   203.50    0      TRUE 0          \n",
       "7 1     2022-12-31 Buy    AMC  1050 4.0700  4273.50 1000      TRUE 0          \n",
       "  ⋯ buy_pps buy_basis sell_quan sell_pps sell_basis profit_loss sold_cf_quan\n",
       "1 ⋯ 5.2394  4977.43    950      5.5124   5236.78     259.35     1050        \n",
       "2 ⋯ 5.7880   289.40     50      5.5124    275.62     -13.78        0        \n",
       "3 ⋯ 5.7880  5498.60    950      5.5124   5236.78    -261.82       50        \n",
       "4 ⋯ 5.6250   281.25     50      5.5124    275.62      -5.63        0        \n",
       "5 ⋯ 5.6250  5343.75    950      5.5124   5236.78    -106.97       50        \n",
       "6 ⋯ 4.0700   203.50     50      5.5124    275.62      72.12        0        \n",
       "7 ⋯ 4.0700  4070.00   1000      5.5124   5512.40    1442.40       50        \n",
       "  sold_cf_pps sold_cf_basis true_false\n",
       "1 5.2394      5501.37       0         \n",
       "2 0.0000         0.00       1         \n",
       "3 5.7880       289.40       0         \n",
       "4 0.0000         0.00       1         \n",
       "5 5.6250       281.25       0         \n",
       "6 0.0000         0.00       1         \n",
       "7 4.0700       203.50       0         "
      ]
     },
     "metadata": {},
     "output_type": "display_data"
    }
   ],
   "source": [
    "sale_records\n"
   ]
  },
  {
   "cell_type": "code",
   "execution_count": null,
   "id": "359987f9-fe1f-483b-80af-60244773cc9d",
   "metadata": {},
   "outputs": [],
   "source": []
  },
  {
   "cell_type": "markdown",
   "id": "1383368e-968c-4882-8cee-4889f1cc1ccd",
   "metadata": {},
   "source": [
    "#### <font color = lime> QC: Loop 7 review buys & sells"
   ]
  },
  {
   "cell_type": "code",
   "execution_count": 93,
   "id": "407ef9c2-bf55-4af7-a912-c7f70b2cda0e",
   "metadata": {},
   "outputs": [
    {
     "data": {
      "text/html": [
       "<style>\n",
       ".list-inline {list-style: none; margin:0; padding: 0}\n",
       ".list-inline>li {display: inline-block}\n",
       ".list-inline>li:not(:last-child)::after {content: \"\\00b7\"; padding: 0 .5ex}\n",
       "</style>\n",
       "<ol class=list-inline><li>20</li><li>23</li></ol>\n"
      ],
      "text/latex": [
       "\\begin{enumerate*}\n",
       "\\item 20\n",
       "\\item 23\n",
       "\\end{enumerate*}\n"
      ],
      "text/markdown": [
       "1. 20\n",
       "2. 23\n",
       "\n",
       "\n"
      ],
      "text/plain": [
       "[1] 20 23"
      ]
     },
     "metadata": {},
     "output_type": "display_data"
    },
    {
     "data": {
      "text/html": [
       "<style>\n",
       ".list-inline {list-style: none; margin:0; padding: 0}\n",
       ".list-inline>li {display: inline-block}\n",
       ".list-inline>li:not(:last-child)::after {content: \"\\00b7\"; padding: 0 .5ex}\n",
       "</style>\n",
       "<ol class=list-inline><li>15</li><li>23</li></ol>\n"
      ],
      "text/latex": [
       "\\begin{enumerate*}\n",
       "\\item 15\n",
       "\\item 23\n",
       "\\end{enumerate*}\n"
      ],
      "text/markdown": [
       "1. 15\n",
       "2. 23\n",
       "\n",
       "\n"
      ],
      "text/plain": [
       "[1] 15 23"
      ]
     },
     "metadata": {},
     "output_type": "display_data"
    },
    {
     "data": {
      "text/html": [
       "<table class=\"dataframe\">\n",
       "<caption>A data.frame: 4 × 23</caption>\n",
       "<thead>\n",
       "\t<tr><th></th><th scope=col>index</th><th scope=col>date</th><th scope=col>type</th><th scope=col>co</th><th scope=col>quan</th><th scope=col>pps</th><th scope=col>basis</th><th scope=col>sale_quan</th><th scope=col>flag</th><th scope=col>buy_cf_quan</th><th scope=col>⋯</th><th scope=col>buy_pps</th><th scope=col>buy_basis</th><th scope=col>sell_quan</th><th scope=col>sell_pps</th><th scope=col>sell_basis</th><th scope=col>profit_loss</th><th scope=col>sold_cf_quan</th><th scope=col>sold_cf_pps</th><th scope=col>sold_cf_basis</th><th scope=col>true_false</th></tr>\n",
       "\t<tr><th></th><th scope=col>&lt;int&gt;</th><th scope=col>&lt;date&gt;</th><th scope=col>&lt;chr&gt;</th><th scope=col>&lt;chr&gt;</th><th scope=col>&lt;dbl&gt;</th><th scope=col>&lt;dbl&gt;</th><th scope=col>&lt;dbl&gt;</th><th scope=col>&lt;dbl&gt;</th><th scope=col>&lt;lgl&gt;</th><th scope=col>&lt;dbl&gt;</th><th scope=col>⋯</th><th scope=col>&lt;dbl&gt;</th><th scope=col>&lt;dbl&gt;</th><th scope=col>&lt;dbl&gt;</th><th scope=col>&lt;dbl&gt;</th><th scope=col>&lt;dbl&gt;</th><th scope=col>&lt;dbl&gt;</th><th scope=col>&lt;dbl&gt;</th><th scope=col>&lt;dbl&gt;</th><th scope=col>&lt;dbl&gt;</th><th scope=col>&lt;dbl&gt;</th></tr>\n",
       "</thead>\n",
       "<tbody>\n",
       "\t<tr><th scope=row>2</th><td> 7</td><td>2023-01-27</td><td>Buy CF</td><td>AMC</td><td>1050</td><td>5.2394</td><td> 5501.37</td><td>0</td><td> TRUE</td><td>0</td><td>⋯</td><td>0</td><td>0</td><td>0</td><td>0</td><td>0</td><td>0</td><td>0</td><td>0</td><td>0</td><td>0</td></tr>\n",
       "\t<tr><th scope=row>3</th><td> 9</td><td>2023-02-10</td><td>Buy   </td><td>AMC</td><td>2000</td><td>4.7450</td><td> 9490.00</td><td>0</td><td>FALSE</td><td>0</td><td>⋯</td><td>0</td><td>0</td><td>0</td><td>0</td><td>0</td><td>0</td><td>0</td><td>0</td><td>0</td><td>0</td></tr>\n",
       "\t<tr><th scope=row>4</th><td>11</td><td>2023-02-10</td><td>Buy   </td><td>AMC</td><td>1000</td><td>4.7800</td><td> 4780.00</td><td>0</td><td>FALSE</td><td>0</td><td>⋯</td><td>0</td><td>0</td><td>0</td><td>0</td><td>0</td><td>0</td><td>0</td><td>0</td><td>0</td><td>0</td></tr>\n",
       "\t<tr><th scope=row>5</th><td>12</td><td>2023-02-13</td><td>Buy   </td><td>AMC</td><td>3000</td><td>4.7296</td><td>14188.80</td><td>0</td><td>FALSE</td><td>0</td><td>⋯</td><td>0</td><td>0</td><td>0</td><td>0</td><td>0</td><td>0</td><td>0</td><td>0</td><td>0</td><td>0</td></tr>\n",
       "</tbody>\n",
       "</table>\n"
      ],
      "text/latex": [
       "A data.frame: 4 × 23\n",
       "\\begin{tabular}{r|lllllllllllllllllllll}\n",
       "  & index & date & type & co & quan & pps & basis & sale\\_quan & flag & buy\\_cf\\_quan & ⋯ & buy\\_pps & buy\\_basis & sell\\_quan & sell\\_pps & sell\\_basis & profit\\_loss & sold\\_cf\\_quan & sold\\_cf\\_pps & sold\\_cf\\_basis & true\\_false\\\\\n",
       "  & <int> & <date> & <chr> & <chr> & <dbl> & <dbl> & <dbl> & <dbl> & <lgl> & <dbl> & ⋯ & <dbl> & <dbl> & <dbl> & <dbl> & <dbl> & <dbl> & <dbl> & <dbl> & <dbl> & <dbl>\\\\\n",
       "\\hline\n",
       "\t2 &  7 & 2023-01-27 & Buy CF & AMC & 1050 & 5.2394 &  5501.37 & 0 &  TRUE & 0 & ⋯ & 0 & 0 & 0 & 0 & 0 & 0 & 0 & 0 & 0 & 0\\\\\n",
       "\t3 &  9 & 2023-02-10 & Buy    & AMC & 2000 & 4.7450 &  9490.00 & 0 & FALSE & 0 & ⋯ & 0 & 0 & 0 & 0 & 0 & 0 & 0 & 0 & 0 & 0\\\\\n",
       "\t4 & 11 & 2023-02-10 & Buy    & AMC & 1000 & 4.7800 &  4780.00 & 0 & FALSE & 0 & ⋯ & 0 & 0 & 0 & 0 & 0 & 0 & 0 & 0 & 0 & 0\\\\\n",
       "\t5 & 12 & 2023-02-13 & Buy    & AMC & 3000 & 4.7296 & 14188.80 & 0 & FALSE & 0 & ⋯ & 0 & 0 & 0 & 0 & 0 & 0 & 0 & 0 & 0 & 0\\\\\n",
       "\\end{tabular}\n"
      ],
      "text/markdown": [
       "\n",
       "A data.frame: 4 × 23\n",
       "\n",
       "| <!--/--> | index &lt;int&gt; | date &lt;date&gt; | type &lt;chr&gt; | co &lt;chr&gt; | quan &lt;dbl&gt; | pps &lt;dbl&gt; | basis &lt;dbl&gt; | sale_quan &lt;dbl&gt; | flag &lt;lgl&gt; | buy_cf_quan &lt;dbl&gt; | ⋯ ⋯ | buy_pps &lt;dbl&gt; | buy_basis &lt;dbl&gt; | sell_quan &lt;dbl&gt; | sell_pps &lt;dbl&gt; | sell_basis &lt;dbl&gt; | profit_loss &lt;dbl&gt; | sold_cf_quan &lt;dbl&gt; | sold_cf_pps &lt;dbl&gt; | sold_cf_basis &lt;dbl&gt; | true_false &lt;dbl&gt; |\n",
       "|---|---|---|---|---|---|---|---|---|---|---|---|---|---|---|---|---|---|---|---|---|---|\n",
       "| 2 |  7 | 2023-01-27 | Buy CF | AMC | 1050 | 5.2394 |  5501.37 | 0 |  TRUE | 0 | ⋯ | 0 | 0 | 0 | 0 | 0 | 0 | 0 | 0 | 0 | 0 |\n",
       "| 3 |  9 | 2023-02-10 | Buy    | AMC | 2000 | 4.7450 |  9490.00 | 0 | FALSE | 0 | ⋯ | 0 | 0 | 0 | 0 | 0 | 0 | 0 | 0 | 0 | 0 |\n",
       "| 4 | 11 | 2023-02-10 | Buy    | AMC | 1000 | 4.7800 |  4780.00 | 0 | FALSE | 0 | ⋯ | 0 | 0 | 0 | 0 | 0 | 0 | 0 | 0 | 0 | 0 |\n",
       "| 5 | 12 | 2023-02-13 | Buy    | AMC | 3000 | 4.7296 | 14188.80 | 0 | FALSE | 0 | ⋯ | 0 | 0 | 0 | 0 | 0 | 0 | 0 | 0 | 0 | 0 |\n",
       "\n"
      ],
      "text/plain": [
       "  index date       type   co  quan pps    basis    sale_quan flag  buy_cf_quan\n",
       "2  7    2023-01-27 Buy CF AMC 1050 5.2394  5501.37 0          TRUE 0          \n",
       "3  9    2023-02-10 Buy    AMC 2000 4.7450  9490.00 0         FALSE 0          \n",
       "4 11    2023-02-10 Buy    AMC 1000 4.7800  4780.00 0         FALSE 0          \n",
       "5 12    2023-02-13 Buy    AMC 3000 4.7296 14188.80 0         FALSE 0          \n",
       "  ⋯ buy_pps buy_basis sell_quan sell_pps sell_basis profit_loss sold_cf_quan\n",
       "2 ⋯ 0       0         0         0        0          0           0           \n",
       "3 ⋯ 0       0         0         0        0          0           0           \n",
       "4 ⋯ 0       0         0         0        0          0           0           \n",
       "5 ⋯ 0       0         0         0        0          0           0           \n",
       "  sold_cf_pps sold_cf_basis true_false\n",
       "2 0           0             0         \n",
       "3 0           0             0         \n",
       "4 0           0             0         \n",
       "5 0           0             0         "
      ]
     },
     "metadata": {},
     "output_type": "display_data"
    },
    {
     "data": {
      "text/html": [
       "<table class=\"dataframe\">\n",
       "<caption>A data.frame: 4 × 23</caption>\n",
       "<thead>\n",
       "\t<tr><th></th><th scope=col>index</th><th scope=col>date</th><th scope=col>type</th><th scope=col>co</th><th scope=col>quan</th><th scope=col>pps</th><th scope=col>basis</th><th scope=col>sale_quan</th><th scope=col>flag</th><th scope=col>buy_cf_quan</th><th scope=col>⋯</th><th scope=col>buy_pps</th><th scope=col>buy_basis</th><th scope=col>sell_quan</th><th scope=col>sell_pps</th><th scope=col>sell_basis</th><th scope=col>profit_loss</th><th scope=col>sold_cf_quan</th><th scope=col>sold_cf_pps</th><th scope=col>sold_cf_basis</th><th scope=col>true_false</th></tr>\n",
       "\t<tr><th></th><th scope=col>&lt;int&gt;</th><th scope=col>&lt;date&gt;</th><th scope=col>&lt;chr&gt;</th><th scope=col>&lt;chr&gt;</th><th scope=col>&lt;dbl&gt;</th><th scope=col>&lt;dbl&gt;</th><th scope=col>&lt;dbl&gt;</th><th scope=col>&lt;dbl&gt;</th><th scope=col>&lt;lgl&gt;</th><th scope=col>&lt;dbl&gt;</th><th scope=col>⋯</th><th scope=col>&lt;dbl&gt;</th><th scope=col>&lt;dbl&gt;</th><th scope=col>&lt;dbl&gt;</th><th scope=col>&lt;dbl&gt;</th><th scope=col>&lt;dbl&gt;</th><th scope=col>&lt;dbl&gt;</th><th scope=col>&lt;dbl&gt;</th><th scope=col>&lt;dbl&gt;</th><th scope=col>&lt;dbl&gt;</th><th scope=col>&lt;dbl&gt;</th></tr>\n",
       "</thead>\n",
       "<tbody>\n",
       "\t<tr><th scope=row>1</th><td> 7</td><td>2023-01-27</td><td>Sell CF</td><td>AMC</td><td>1050</td><td>5.5124</td><td>    5.5124</td><td>0</td><td> TRUE</td><td>0</td><td>⋯</td><td>0</td><td>0</td><td>0</td><td>0</td><td>0</td><td>0</td><td>0</td><td>0</td><td>0</td><td>0</td></tr>\n",
       "\t<tr><th scope=row>3</th><td>10</td><td>2023-02-21</td><td>Sell   </td><td>AMC</td><td>1950</td><td>5.5124</td><td>10749.1800</td><td>0</td><td>FALSE</td><td>0</td><td>⋯</td><td>0</td><td>0</td><td>0</td><td>0</td><td>0</td><td>0</td><td>0</td><td>0</td><td>0</td><td>0</td></tr>\n",
       "\t<tr><th scope=row>4</th><td>16</td><td>2023-02-22</td><td>Sell   </td><td>AMC</td><td>6000</td><td>6.6150</td><td>39690.0000</td><td>0</td><td>FALSE</td><td>0</td><td>⋯</td><td>0</td><td>0</td><td>0</td><td>0</td><td>0</td><td>0</td><td>0</td><td>0</td><td>0</td><td>0</td></tr>\n",
       "\t<tr><th scope=row>5</th><td>18</td><td>2023-02-27</td><td>Sell   </td><td>AMC</td><td>3000</td><td>7.8160</td><td>23448.0000</td><td>0</td><td>FALSE</td><td>0</td><td>⋯</td><td>0</td><td>0</td><td>0</td><td>0</td><td>0</td><td>0</td><td>0</td><td>0</td><td>0</td><td>0</td></tr>\n",
       "</tbody>\n",
       "</table>\n"
      ],
      "text/latex": [
       "A data.frame: 4 × 23\n",
       "\\begin{tabular}{r|lllllllllllllllllllll}\n",
       "  & index & date & type & co & quan & pps & basis & sale\\_quan & flag & buy\\_cf\\_quan & ⋯ & buy\\_pps & buy\\_basis & sell\\_quan & sell\\_pps & sell\\_basis & profit\\_loss & sold\\_cf\\_quan & sold\\_cf\\_pps & sold\\_cf\\_basis & true\\_false\\\\\n",
       "  & <int> & <date> & <chr> & <chr> & <dbl> & <dbl> & <dbl> & <dbl> & <lgl> & <dbl> & ⋯ & <dbl> & <dbl> & <dbl> & <dbl> & <dbl> & <dbl> & <dbl> & <dbl> & <dbl> & <dbl>\\\\\n",
       "\\hline\n",
       "\t1 &  7 & 2023-01-27 & Sell CF & AMC & 1050 & 5.5124 &     5.5124 & 0 &  TRUE & 0 & ⋯ & 0 & 0 & 0 & 0 & 0 & 0 & 0 & 0 & 0 & 0\\\\\n",
       "\t3 & 10 & 2023-02-21 & Sell    & AMC & 1950 & 5.5124 & 10749.1800 & 0 & FALSE & 0 & ⋯ & 0 & 0 & 0 & 0 & 0 & 0 & 0 & 0 & 0 & 0\\\\\n",
       "\t4 & 16 & 2023-02-22 & Sell    & AMC & 6000 & 6.6150 & 39690.0000 & 0 & FALSE & 0 & ⋯ & 0 & 0 & 0 & 0 & 0 & 0 & 0 & 0 & 0 & 0\\\\\n",
       "\t5 & 18 & 2023-02-27 & Sell    & AMC & 3000 & 7.8160 & 23448.0000 & 0 & FALSE & 0 & ⋯ & 0 & 0 & 0 & 0 & 0 & 0 & 0 & 0 & 0 & 0\\\\\n",
       "\\end{tabular}\n"
      ],
      "text/markdown": [
       "\n",
       "A data.frame: 4 × 23\n",
       "\n",
       "| <!--/--> | index &lt;int&gt; | date &lt;date&gt; | type &lt;chr&gt; | co &lt;chr&gt; | quan &lt;dbl&gt; | pps &lt;dbl&gt; | basis &lt;dbl&gt; | sale_quan &lt;dbl&gt; | flag &lt;lgl&gt; | buy_cf_quan &lt;dbl&gt; | ⋯ ⋯ | buy_pps &lt;dbl&gt; | buy_basis &lt;dbl&gt; | sell_quan &lt;dbl&gt; | sell_pps &lt;dbl&gt; | sell_basis &lt;dbl&gt; | profit_loss &lt;dbl&gt; | sold_cf_quan &lt;dbl&gt; | sold_cf_pps &lt;dbl&gt; | sold_cf_basis &lt;dbl&gt; | true_false &lt;dbl&gt; |\n",
       "|---|---|---|---|---|---|---|---|---|---|---|---|---|---|---|---|---|---|---|---|---|---|\n",
       "| 1 |  7 | 2023-01-27 | Sell CF | AMC | 1050 | 5.5124 |     5.5124 | 0 |  TRUE | 0 | ⋯ | 0 | 0 | 0 | 0 | 0 | 0 | 0 | 0 | 0 | 0 |\n",
       "| 3 | 10 | 2023-02-21 | Sell    | AMC | 1950 | 5.5124 | 10749.1800 | 0 | FALSE | 0 | ⋯ | 0 | 0 | 0 | 0 | 0 | 0 | 0 | 0 | 0 | 0 |\n",
       "| 4 | 16 | 2023-02-22 | Sell    | AMC | 6000 | 6.6150 | 39690.0000 | 0 | FALSE | 0 | ⋯ | 0 | 0 | 0 | 0 | 0 | 0 | 0 | 0 | 0 | 0 |\n",
       "| 5 | 18 | 2023-02-27 | Sell    | AMC | 3000 | 7.8160 | 23448.0000 | 0 | FALSE | 0 | ⋯ | 0 | 0 | 0 | 0 | 0 | 0 | 0 | 0 | 0 | 0 |\n",
       "\n"
      ],
      "text/plain": [
       "  index date       type    co  quan pps    basis      sale_quan flag \n",
       "1  7    2023-01-27 Sell CF AMC 1050 5.5124     5.5124 0          TRUE\n",
       "3 10    2023-02-21 Sell    AMC 1950 5.5124 10749.1800 0         FALSE\n",
       "4 16    2023-02-22 Sell    AMC 6000 6.6150 39690.0000 0         FALSE\n",
       "5 18    2023-02-27 Sell    AMC 3000 7.8160 23448.0000 0         FALSE\n",
       "  buy_cf_quan ⋯ buy_pps buy_basis sell_quan sell_pps sell_basis profit_loss\n",
       "1 0           ⋯ 0       0         0         0        0          0          \n",
       "3 0           ⋯ 0       0         0         0        0          0          \n",
       "4 0           ⋯ 0       0         0         0        0          0          \n",
       "5 0           ⋯ 0       0         0         0        0          0          \n",
       "  sold_cf_quan sold_cf_pps sold_cf_basis true_false\n",
       "1 0            0           0             0         \n",
       "3 0            0           0             0         \n",
       "4 0            0           0             0         \n",
       "5 0            0           0             0         "
      ]
     },
     "metadata": {},
     "output_type": "display_data"
    }
   ],
   "source": [
    "dim(buys)\n",
    "dim(sells)\n",
    "head(buys,4)\n",
    "head(sells,4)\n"
   ]
  },
  {
   "cell_type": "code",
   "execution_count": 94,
   "id": "f76655c9-aefa-43f6-a011-d3d3ba45b984",
   "metadata": {},
   "outputs": [],
   "source": [
    "# stopps"
   ]
  },
  {
   "cell_type": "markdown",
   "id": "3c9358b7-7c48-469d-8005-cacc5d071485",
   "metadata": {},
   "source": [
    "# <font color = cyan> Proof of Concept above. End of loop 7\n",
    "\n"
   ]
  },
  {
   "cell_type": "code",
   "execution_count": null,
   "id": "e186e469-25a3-4cad-9fd2-67e2dbbd1a0d",
   "metadata": {},
   "outputs": [],
   "source": []
  },
  {
   "cell_type": "markdown",
   "id": "e717d746-e588-4a27-90c0-7c722a98f9a8",
   "metadata": {},
   "source": [
    "#### <font color = yellow> 1. Create data & dfs"
   ]
  },
  {
   "cell_type": "code",
   "execution_count": 95,
   "id": "d43c0eb4-dc26-49ec-8e6f-e65d69845c76",
   "metadata": {},
   "outputs": [],
   "source": [
    "b <- buys[1,]\n",
    "s <- sells[1,]\n"
   ]
  },
  {
   "cell_type": "code",
   "execution_count": null,
   "id": "3eeb3b39-a423-4a93-8fa5-1f12c6e4090c",
   "metadata": {},
   "outputs": [],
   "source": []
  },
  {
   "cell_type": "markdown",
   "id": "dd7086cf-8c7b-4662-afac-62628d894c3b",
   "metadata": {},
   "source": [
    "### <font color = yellow> 2. Update b - the variable that records each buy/sell transaction (w/in loop)\n",
    "    \n",
    "#### b>s, b<s, b==s,\n"
   ]
  },
  {
   "cell_type": "code",
   "execution_count": 96,
   "id": "1b128ef2-840d-4dc0-9db8-249c2a14830e",
   "metadata": {},
   "outputs": [
    {
     "name": "stdout",
     "output_type": "stream",
     "text": [
      "proof 3 \n",
      "proof \n",
      "POC - updated_s when b == s:  EQ SOLD \n"
     ]
    }
   ],
   "source": [
    "#fct call\n",
    "updated_b_list <- update_b(b,s,buys)\n",
    "\n",
    "updated_b <- updated_b_list[[1]]\n",
    "updated_s <- updated_b_list[[2]]\n",
    "buys <- updated_b_list[[3]]\n",
    "#dim(updated_b)\n",
    "#dim(buys)    \n"
   ]
  },
  {
   "cell_type": "code",
   "execution_count": 97,
   "id": "5c8dd162-0abb-4296-822f-0fd14f9768ef",
   "metadata": {},
   "outputs": [
    {
     "name": "stdout",
     "output_type": "stream",
     "text": [
      "Std buy-sell orientation \n"
     ]
    }
   ],
   "source": [
    "if(buys$type[i] == \"Buy\" && sells$type[i] == \"Sell\") {\n",
    "    cat(\"Std buy-sell orientation \\n\")    \n",
    "    }"
   ]
  },
  {
   "cell_type": "markdown",
   "id": "543594c1-6f36-4b41-af05-0f85f08b8abb",
   "metadata": {},
   "source": [
    "### <font color = yellow>3. Update the sales_records (rbind) with updated_b for each transaction (loop)"
   ]
  },
  {
   "cell_type": "code",
   "execution_count": 98,
   "id": "ee522cbb-a7a3-4f46-9c53-96089c9f802c",
   "metadata": {},
   "outputs": [
    {
     "data": {
      "text/html": [
       "<table class=\"dataframe\">\n",
       "<caption>A data.frame: 1 × 23</caption>\n",
       "<thead>\n",
       "\t<tr><th></th><th scope=col>index</th><th scope=col>date</th><th scope=col>type</th><th scope=col>co</th><th scope=col>quan</th><th scope=col>pps</th><th scope=col>basis</th><th scope=col>sale_quan</th><th scope=col>flag</th><th scope=col>buy_cf_quan</th><th scope=col>⋯</th><th scope=col>buy_pps</th><th scope=col>buy_basis</th><th scope=col>sell_quan</th><th scope=col>sell_pps</th><th scope=col>sell_basis</th><th scope=col>profit_loss</th><th scope=col>sold_cf_quan</th><th scope=col>sold_cf_pps</th><th scope=col>sold_cf_basis</th><th scope=col>true_false</th></tr>\n",
       "\t<tr><th></th><th scope=col>&lt;int&gt;</th><th scope=col>&lt;date&gt;</th><th scope=col>&lt;chr&gt;</th><th scope=col>&lt;chr&gt;</th><th scope=col>&lt;dbl&gt;</th><th scope=col>&lt;dbl&gt;</th><th scope=col>&lt;dbl&gt;</th><th scope=col>&lt;dbl&gt;</th><th scope=col>&lt;lgl&gt;</th><th scope=col>&lt;dbl&gt;</th><th scope=col>⋯</th><th scope=col>&lt;dbl&gt;</th><th scope=col>&lt;dbl&gt;</th><th scope=col>&lt;dbl&gt;</th><th scope=col>&lt;dbl&gt;</th><th scope=col>&lt;dbl&gt;</th><th scope=col>&lt;dbl&gt;</th><th scope=col>&lt;dbl&gt;</th><th scope=col>&lt;dbl&gt;</th><th scope=col>&lt;dbl&gt;</th><th scope=col>&lt;dbl&gt;</th></tr>\n",
       "</thead>\n",
       "<tbody>\n",
       "\t<tr><th scope=row>1</th><td>7</td><td>2023-01-27</td><td>Buy CF</td><td>CFCF</td><td>1050</td><td>5.2394</td><td>5501.37</td><td>0</td><td>TRUE</td><td>0</td><td>⋯</td><td>5.2394</td><td>5501.37</td><td>1050</td><td>5.5124</td><td>5788.02</td><td>286.65</td><td>0</td><td>0</td><td>0</td><td>1</td></tr>\n",
       "</tbody>\n",
       "</table>\n"
      ],
      "text/latex": [
       "A data.frame: 1 × 23\n",
       "\\begin{tabular}{r|lllllllllllllllllllll}\n",
       "  & index & date & type & co & quan & pps & basis & sale\\_quan & flag & buy\\_cf\\_quan & ⋯ & buy\\_pps & buy\\_basis & sell\\_quan & sell\\_pps & sell\\_basis & profit\\_loss & sold\\_cf\\_quan & sold\\_cf\\_pps & sold\\_cf\\_basis & true\\_false\\\\\n",
       "  & <int> & <date> & <chr> & <chr> & <dbl> & <dbl> & <dbl> & <dbl> & <lgl> & <dbl> & ⋯ & <dbl> & <dbl> & <dbl> & <dbl> & <dbl> & <dbl> & <dbl> & <dbl> & <dbl> & <dbl>\\\\\n",
       "\\hline\n",
       "\t1 & 7 & 2023-01-27 & Buy CF & CFCF & 1050 & 5.2394 & 5501.37 & 0 & TRUE & 0 & ⋯ & 5.2394 & 5501.37 & 1050 & 5.5124 & 5788.02 & 286.65 & 0 & 0 & 0 & 1\\\\\n",
       "\\end{tabular}\n"
      ],
      "text/markdown": [
       "\n",
       "A data.frame: 1 × 23\n",
       "\n",
       "| <!--/--> | index &lt;int&gt; | date &lt;date&gt; | type &lt;chr&gt; | co &lt;chr&gt; | quan &lt;dbl&gt; | pps &lt;dbl&gt; | basis &lt;dbl&gt; | sale_quan &lt;dbl&gt; | flag &lt;lgl&gt; | buy_cf_quan &lt;dbl&gt; | ⋯ ⋯ | buy_pps &lt;dbl&gt; | buy_basis &lt;dbl&gt; | sell_quan &lt;dbl&gt; | sell_pps &lt;dbl&gt; | sell_basis &lt;dbl&gt; | profit_loss &lt;dbl&gt; | sold_cf_quan &lt;dbl&gt; | sold_cf_pps &lt;dbl&gt; | sold_cf_basis &lt;dbl&gt; | true_false &lt;dbl&gt; |\n",
       "|---|---|---|---|---|---|---|---|---|---|---|---|---|---|---|---|---|---|---|---|---|---|\n",
       "| 1 | 7 | 2023-01-27 | Buy CF | CFCF | 1050 | 5.2394 | 5501.37 | 0 | TRUE | 0 | ⋯ | 5.2394 | 5501.37 | 1050 | 5.5124 | 5788.02 | 286.65 | 0 | 0 | 0 | 1 |\n",
       "\n"
      ],
      "text/plain": [
       "  index date       type   co   quan pps    basis   sale_quan flag buy_cf_quan ⋯\n",
       "1 7     2023-01-27 Buy CF CFCF 1050 5.2394 5501.37 0         TRUE 0           ⋯\n",
       "  buy_pps buy_basis sell_quan sell_pps sell_basis profit_loss sold_cf_quan\n",
       "1 5.2394  5501.37   1050      5.5124   5788.02    286.65      0           \n",
       "  sold_cf_pps sold_cf_basis true_false\n",
       "1 0           0             1         "
      ]
     },
     "metadata": {},
     "output_type": "display_data"
    },
    {
     "data": {
      "text/html": [
       "<table class=\"dataframe\">\n",
       "<caption>A data.frame: 8 × 23</caption>\n",
       "<thead>\n",
       "\t<tr><th scope=col>index</th><th scope=col>date</th><th scope=col>type</th><th scope=col>co</th><th scope=col>quan</th><th scope=col>pps</th><th scope=col>basis</th><th scope=col>sale_quan</th><th scope=col>flag</th><th scope=col>buy_cf_quan</th><th scope=col>⋯</th><th scope=col>buy_pps</th><th scope=col>buy_basis</th><th scope=col>sell_quan</th><th scope=col>sell_pps</th><th scope=col>sell_basis</th><th scope=col>profit_loss</th><th scope=col>sold_cf_quan</th><th scope=col>sold_cf_pps</th><th scope=col>sold_cf_basis</th><th scope=col>true_false</th></tr>\n",
       "\t<tr><th scope=col>&lt;int&gt;</th><th scope=col>&lt;date&gt;</th><th scope=col>&lt;chr&gt;</th><th scope=col>&lt;chr&gt;</th><th scope=col>&lt;dbl&gt;</th><th scope=col>&lt;dbl&gt;</th><th scope=col>&lt;dbl&gt;</th><th scope=col>&lt;dbl&gt;</th><th scope=col>&lt;lgl&gt;</th><th scope=col>&lt;dbl&gt;</th><th scope=col>⋯</th><th scope=col>&lt;dbl&gt;</th><th scope=col>&lt;dbl&gt;</th><th scope=col>&lt;dbl&gt;</th><th scope=col>&lt;dbl&gt;</th><th scope=col>&lt;dbl&gt;</th><th scope=col>&lt;dbl&gt;</th><th scope=col>&lt;dbl&gt;</th><th scope=col>&lt;dbl&gt;</th><th scope=col>&lt;dbl&gt;</th><th scope=col>&lt;dbl&gt;</th></tr>\n",
       "</thead>\n",
       "<tbody>\n",
       "\t<tr><td>7</td><td>2023-01-27</td><td>Buy CF</td><td>CFCF</td><td>1050</td><td>5.2394</td><td> 5501.37</td><td>   0</td><td>TRUE</td><td>0</td><td>⋯</td><td>5.2394</td><td>5501.37</td><td>1050</td><td>5.5124</td><td>5788.02</td><td> 286.65</td><td>   0</td><td>0.0000</td><td>   0.00</td><td>1</td></tr>\n",
       "\t<tr><td>7</td><td>2023-01-27</td><td>Buy   </td><td>AMC </td><td>2000</td><td>5.2394</td><td>10478.80</td><td> 950</td><td>TRUE</td><td>0</td><td>⋯</td><td>5.2394</td><td>4977.43</td><td> 950</td><td>5.5124</td><td>5236.78</td><td> 259.35</td><td>1050</td><td>5.2394</td><td>5501.37</td><td>0</td></tr>\n",
       "\t<tr><td>5</td><td>2023-01-23</td><td>Buy CF</td><td>CFCF</td><td>  50</td><td>5.7880</td><td>  289.40</td><td>   0</td><td>TRUE</td><td>0</td><td>⋯</td><td>5.7880</td><td> 289.40</td><td>  50</td><td>5.5124</td><td> 275.62</td><td> -13.78</td><td>   0</td><td>0.0000</td><td>   0.00</td><td>1</td></tr>\n",
       "\t<tr><td>5</td><td>2023-01-23</td><td>Buy   </td><td>AMC </td><td>1000</td><td>5.7880</td><td> 5788.00</td><td> 950</td><td>TRUE</td><td>0</td><td>⋯</td><td>5.7880</td><td>5498.60</td><td> 950</td><td>5.5124</td><td>5236.78</td><td>-261.82</td><td>  50</td><td>5.7880</td><td> 289.40</td><td>0</td></tr>\n",
       "\t<tr><td>3</td><td>2023-01-20</td><td>Buy CF</td><td>CFCF</td><td>  50</td><td>5.6250</td><td>  281.25</td><td>   0</td><td>TRUE</td><td>0</td><td>⋯</td><td>5.6250</td><td> 281.25</td><td>  50</td><td>5.5124</td><td> 275.62</td><td>  -5.63</td><td>   0</td><td>0.0000</td><td>   0.00</td><td>1</td></tr>\n",
       "\t<tr><td>3</td><td>2023-01-20</td><td>Buy   </td><td>AMC </td><td>1000</td><td>5.6250</td><td> 5625.00</td><td> 950</td><td>TRUE</td><td>0</td><td>⋯</td><td>5.6250</td><td>5343.75</td><td> 950</td><td>5.5124</td><td>5236.78</td><td>-106.97</td><td>  50</td><td>5.6250</td><td> 281.25</td><td>0</td></tr>\n",
       "\t<tr><td>1</td><td>2022-12-31</td><td>Buy CF</td><td>CFCF</td><td>  50</td><td>4.0700</td><td>  203.50</td><td>   0</td><td>TRUE</td><td>0</td><td>⋯</td><td>4.0700</td><td> 203.50</td><td>  50</td><td>5.5124</td><td> 275.62</td><td>  72.12</td><td>   0</td><td>0.0000</td><td>   0.00</td><td>1</td></tr>\n",
       "\t<tr><td>1</td><td>2022-12-31</td><td>Buy   </td><td>AMC </td><td>1050</td><td>4.0700</td><td> 4273.50</td><td>1000</td><td>TRUE</td><td>0</td><td>⋯</td><td>4.0700</td><td>4070.00</td><td>1000</td><td>5.5124</td><td>5512.40</td><td>1442.40</td><td>  50</td><td>4.0700</td><td> 203.50</td><td>0</td></tr>\n",
       "</tbody>\n",
       "</table>\n"
      ],
      "text/latex": [
       "A data.frame: 8 × 23\n",
       "\\begin{tabular}{lllllllllllllllllllll}\n",
       " index & date & type & co & quan & pps & basis & sale\\_quan & flag & buy\\_cf\\_quan & ⋯ & buy\\_pps & buy\\_basis & sell\\_quan & sell\\_pps & sell\\_basis & profit\\_loss & sold\\_cf\\_quan & sold\\_cf\\_pps & sold\\_cf\\_basis & true\\_false\\\\\n",
       " <int> & <date> & <chr> & <chr> & <dbl> & <dbl> & <dbl> & <dbl> & <lgl> & <dbl> & ⋯ & <dbl> & <dbl> & <dbl> & <dbl> & <dbl> & <dbl> & <dbl> & <dbl> & <dbl> & <dbl>\\\\\n",
       "\\hline\n",
       "\t 7 & 2023-01-27 & Buy CF & CFCF & 1050 & 5.2394 &  5501.37 &    0 & TRUE & 0 & ⋯ & 5.2394 & 5501.37 & 1050 & 5.5124 & 5788.02 &  286.65 &    0 & 0.0000 &    0.00 & 1\\\\\n",
       "\t 7 & 2023-01-27 & Buy    & AMC  & 2000 & 5.2394 & 10478.80 &  950 & TRUE & 0 & ⋯ & 5.2394 & 4977.43 &  950 & 5.5124 & 5236.78 &  259.35 & 1050 & 5.2394 & 5501.37 & 0\\\\\n",
       "\t 5 & 2023-01-23 & Buy CF & CFCF &   50 & 5.7880 &   289.40 &    0 & TRUE & 0 & ⋯ & 5.7880 &  289.40 &   50 & 5.5124 &  275.62 &  -13.78 &    0 & 0.0000 &    0.00 & 1\\\\\n",
       "\t 5 & 2023-01-23 & Buy    & AMC  & 1000 & 5.7880 &  5788.00 &  950 & TRUE & 0 & ⋯ & 5.7880 & 5498.60 &  950 & 5.5124 & 5236.78 & -261.82 &   50 & 5.7880 &  289.40 & 0\\\\\n",
       "\t 3 & 2023-01-20 & Buy CF & CFCF &   50 & 5.6250 &   281.25 &    0 & TRUE & 0 & ⋯ & 5.6250 &  281.25 &   50 & 5.5124 &  275.62 &   -5.63 &    0 & 0.0000 &    0.00 & 1\\\\\n",
       "\t 3 & 2023-01-20 & Buy    & AMC  & 1000 & 5.6250 &  5625.00 &  950 & TRUE & 0 & ⋯ & 5.6250 & 5343.75 &  950 & 5.5124 & 5236.78 & -106.97 &   50 & 5.6250 &  281.25 & 0\\\\\n",
       "\t 1 & 2022-12-31 & Buy CF & CFCF &   50 & 4.0700 &   203.50 &    0 & TRUE & 0 & ⋯ & 4.0700 &  203.50 &   50 & 5.5124 &  275.62 &   72.12 &    0 & 0.0000 &    0.00 & 1\\\\\n",
       "\t 1 & 2022-12-31 & Buy    & AMC  & 1050 & 4.0700 &  4273.50 & 1000 & TRUE & 0 & ⋯ & 4.0700 & 4070.00 & 1000 & 5.5124 & 5512.40 & 1442.40 &   50 & 4.0700 &  203.50 & 0\\\\\n",
       "\\end{tabular}\n"
      ],
      "text/markdown": [
       "\n",
       "A data.frame: 8 × 23\n",
       "\n",
       "| index &lt;int&gt; | date &lt;date&gt; | type &lt;chr&gt; | co &lt;chr&gt; | quan &lt;dbl&gt; | pps &lt;dbl&gt; | basis &lt;dbl&gt; | sale_quan &lt;dbl&gt; | flag &lt;lgl&gt; | buy_cf_quan &lt;dbl&gt; | ⋯ ⋯ | buy_pps &lt;dbl&gt; | buy_basis &lt;dbl&gt; | sell_quan &lt;dbl&gt; | sell_pps &lt;dbl&gt; | sell_basis &lt;dbl&gt; | profit_loss &lt;dbl&gt; | sold_cf_quan &lt;dbl&gt; | sold_cf_pps &lt;dbl&gt; | sold_cf_basis &lt;dbl&gt; | true_false &lt;dbl&gt; |\n",
       "|---|---|---|---|---|---|---|---|---|---|---|---|---|---|---|---|---|---|---|---|---|\n",
       "| 7 | 2023-01-27 | Buy CF | CFCF | 1050 | 5.2394 |  5501.37 |    0 | TRUE | 0 | ⋯ | 5.2394 | 5501.37 | 1050 | 5.5124 | 5788.02 |  286.65 |    0 | 0.0000 |    0.00 | 1 |\n",
       "| 7 | 2023-01-27 | Buy    | AMC  | 2000 | 5.2394 | 10478.80 |  950 | TRUE | 0 | ⋯ | 5.2394 | 4977.43 |  950 | 5.5124 | 5236.78 |  259.35 | 1050 | 5.2394 | 5501.37 | 0 |\n",
       "| 5 | 2023-01-23 | Buy CF | CFCF |   50 | 5.7880 |   289.40 |    0 | TRUE | 0 | ⋯ | 5.7880 |  289.40 |   50 | 5.5124 |  275.62 |  -13.78 |    0 | 0.0000 |    0.00 | 1 |\n",
       "| 5 | 2023-01-23 | Buy    | AMC  | 1000 | 5.7880 |  5788.00 |  950 | TRUE | 0 | ⋯ | 5.7880 | 5498.60 |  950 | 5.5124 | 5236.78 | -261.82 |   50 | 5.7880 |  289.40 | 0 |\n",
       "| 3 | 2023-01-20 | Buy CF | CFCF |   50 | 5.6250 |   281.25 |    0 | TRUE | 0 | ⋯ | 5.6250 |  281.25 |   50 | 5.5124 |  275.62 |   -5.63 |    0 | 0.0000 |    0.00 | 1 |\n",
       "| 3 | 2023-01-20 | Buy    | AMC  | 1000 | 5.6250 |  5625.00 |  950 | TRUE | 0 | ⋯ | 5.6250 | 5343.75 |  950 | 5.5124 | 5236.78 | -106.97 |   50 | 5.6250 |  281.25 | 0 |\n",
       "| 1 | 2022-12-31 | Buy CF | CFCF |   50 | 4.0700 |   203.50 |    0 | TRUE | 0 | ⋯ | 4.0700 |  203.50 |   50 | 5.5124 |  275.62 |   72.12 |    0 | 0.0000 |    0.00 | 1 |\n",
       "| 1 | 2022-12-31 | Buy    | AMC  | 1050 | 4.0700 |  4273.50 | 1000 | TRUE | 0 | ⋯ | 4.0700 | 4070.00 | 1000 | 5.5124 | 5512.40 | 1442.40 |   50 | 4.0700 |  203.50 | 0 |\n",
       "\n"
      ],
      "text/plain": [
       "  index date       type   co   quan pps    basis    sale_quan flag buy_cf_quan\n",
       "1 7     2023-01-27 Buy CF CFCF 1050 5.2394  5501.37    0      TRUE 0          \n",
       "2 7     2023-01-27 Buy    AMC  2000 5.2394 10478.80  950      TRUE 0          \n",
       "3 5     2023-01-23 Buy CF CFCF   50 5.7880   289.40    0      TRUE 0          \n",
       "4 5     2023-01-23 Buy    AMC  1000 5.7880  5788.00  950      TRUE 0          \n",
       "5 3     2023-01-20 Buy CF CFCF   50 5.6250   281.25    0      TRUE 0          \n",
       "6 3     2023-01-20 Buy    AMC  1000 5.6250  5625.00  950      TRUE 0          \n",
       "7 1     2022-12-31 Buy CF CFCF   50 4.0700   203.50    0      TRUE 0          \n",
       "8 1     2022-12-31 Buy    AMC  1050 4.0700  4273.50 1000      TRUE 0          \n",
       "  ⋯ buy_pps buy_basis sell_quan sell_pps sell_basis profit_loss sold_cf_quan\n",
       "1 ⋯ 5.2394  5501.37   1050      5.5124   5788.02     286.65        0        \n",
       "2 ⋯ 5.2394  4977.43    950      5.5124   5236.78     259.35     1050        \n",
       "3 ⋯ 5.7880   289.40     50      5.5124    275.62     -13.78        0        \n",
       "4 ⋯ 5.7880  5498.60    950      5.5124   5236.78    -261.82       50        \n",
       "5 ⋯ 5.6250   281.25     50      5.5124    275.62      -5.63        0        \n",
       "6 ⋯ 5.6250  5343.75    950      5.5124   5236.78    -106.97       50        \n",
       "7 ⋯ 4.0700   203.50     50      5.5124    275.62      72.12        0        \n",
       "8 ⋯ 4.0700  4070.00   1000      5.5124   5512.40    1442.40       50        \n",
       "  sold_cf_pps sold_cf_basis true_false\n",
       "1 0.0000         0.00       1         \n",
       "2 5.2394      5501.37       0         \n",
       "3 0.0000         0.00       1         \n",
       "4 5.7880       289.40       0         \n",
       "5 0.0000         0.00       1         \n",
       "6 5.6250       281.25       0         \n",
       "7 0.0000         0.00       1         \n",
       "8 4.0700       203.50       0         "
      ]
     },
     "metadata": {},
     "output_type": "display_data"
    }
   ],
   "source": [
    "# First go around needs rbind()\n",
    "# sale_records <- rbind(sale_records, updated_b)    \n",
    "\n",
    "sale_records <- sale_records %>% add_row(updated_b , .before = 1)\n",
    "sale_records[1,]\n",
    "sale_records\n"
   ]
  },
  {
   "cell_type": "code",
   "execution_count": null,
   "id": "320162d4-005c-42ed-b58f-c93ed5dcf914",
   "metadata": {},
   "outputs": [],
   "source": []
  },
  {
   "cell_type": "code",
   "execution_count": 99,
   "id": "0a69a899-4a7b-4150-b1c7-de42a41d42ae",
   "metadata": {},
   "outputs": [
    {
     "data": {
      "text/html": [
       "<table class=\"dataframe\">\n",
       "<caption>A data.frame: 5 × 23</caption>\n",
       "<thead>\n",
       "\t<tr><th></th><th scope=col>index</th><th scope=col>date</th><th scope=col>type</th><th scope=col>co</th><th scope=col>quan</th><th scope=col>pps</th><th scope=col>basis</th><th scope=col>sale_quan</th><th scope=col>flag</th><th scope=col>buy_cf_quan</th><th scope=col>⋯</th><th scope=col>buy_pps</th><th scope=col>buy_basis</th><th scope=col>sell_quan</th><th scope=col>sell_pps</th><th scope=col>sell_basis</th><th scope=col>profit_loss</th><th scope=col>sold_cf_quan</th><th scope=col>sold_cf_pps</th><th scope=col>sold_cf_basis</th><th scope=col>true_false</th></tr>\n",
       "\t<tr><th></th><th scope=col>&lt;int&gt;</th><th scope=col>&lt;date&gt;</th><th scope=col>&lt;chr&gt;</th><th scope=col>&lt;chr&gt;</th><th scope=col>&lt;dbl&gt;</th><th scope=col>&lt;dbl&gt;</th><th scope=col>&lt;dbl&gt;</th><th scope=col>&lt;dbl&gt;</th><th scope=col>&lt;lgl&gt;</th><th scope=col>&lt;dbl&gt;</th><th scope=col>⋯</th><th scope=col>&lt;dbl&gt;</th><th scope=col>&lt;dbl&gt;</th><th scope=col>&lt;dbl&gt;</th><th scope=col>&lt;dbl&gt;</th><th scope=col>&lt;dbl&gt;</th><th scope=col>&lt;dbl&gt;</th><th scope=col>&lt;dbl&gt;</th><th scope=col>&lt;dbl&gt;</th><th scope=col>&lt;dbl&gt;</th><th scope=col>&lt;dbl&gt;</th></tr>\n",
       "</thead>\n",
       "<tbody>\n",
       "\t<tr><th scope=row>2</th><td> 7</td><td>2023-01-27</td><td>Buy CF</td><td>AMC</td><td>1050</td><td>5.2394</td><td> 5501.37</td><td>0</td><td> TRUE</td><td>0</td><td>⋯</td><td>0</td><td>0</td><td>0</td><td>0</td><td>0</td><td>0</td><td>0</td><td>0</td><td>0</td><td>0</td></tr>\n",
       "\t<tr><th scope=row>3</th><td> 9</td><td>2023-02-10</td><td>Buy   </td><td>AMC</td><td>2000</td><td>4.7450</td><td> 9490.00</td><td>0</td><td>FALSE</td><td>0</td><td>⋯</td><td>0</td><td>0</td><td>0</td><td>0</td><td>0</td><td>0</td><td>0</td><td>0</td><td>0</td><td>0</td></tr>\n",
       "\t<tr><th scope=row>4</th><td>11</td><td>2023-02-10</td><td>Buy   </td><td>AMC</td><td>1000</td><td>4.7800</td><td> 4780.00</td><td>0</td><td>FALSE</td><td>0</td><td>⋯</td><td>0</td><td>0</td><td>0</td><td>0</td><td>0</td><td>0</td><td>0</td><td>0</td><td>0</td><td>0</td></tr>\n",
       "\t<tr><th scope=row>5</th><td>12</td><td>2023-02-13</td><td>Buy   </td><td>AMC</td><td>3000</td><td>4.7296</td><td>14188.80</td><td>0</td><td>FALSE</td><td>0</td><td>⋯</td><td>0</td><td>0</td><td>0</td><td>0</td><td>0</td><td>0</td><td>0</td><td>0</td><td>0</td><td>0</td></tr>\n",
       "\t<tr><th scope=row>6</th><td>13</td><td>2023-02-13</td><td>Buy   </td><td>AMC</td><td>1500</td><td>4.7183</td><td> 7077.45</td><td>0</td><td>FALSE</td><td>0</td><td>⋯</td><td>0</td><td>0</td><td>0</td><td>0</td><td>0</td><td>0</td><td>0</td><td>0</td><td>0</td><td>0</td></tr>\n",
       "</tbody>\n",
       "</table>\n"
      ],
      "text/latex": [
       "A data.frame: 5 × 23\n",
       "\\begin{tabular}{r|lllllllllllllllllllll}\n",
       "  & index & date & type & co & quan & pps & basis & sale\\_quan & flag & buy\\_cf\\_quan & ⋯ & buy\\_pps & buy\\_basis & sell\\_quan & sell\\_pps & sell\\_basis & profit\\_loss & sold\\_cf\\_quan & sold\\_cf\\_pps & sold\\_cf\\_basis & true\\_false\\\\\n",
       "  & <int> & <date> & <chr> & <chr> & <dbl> & <dbl> & <dbl> & <dbl> & <lgl> & <dbl> & ⋯ & <dbl> & <dbl> & <dbl> & <dbl> & <dbl> & <dbl> & <dbl> & <dbl> & <dbl> & <dbl>\\\\\n",
       "\\hline\n",
       "\t2 &  7 & 2023-01-27 & Buy CF & AMC & 1050 & 5.2394 &  5501.37 & 0 &  TRUE & 0 & ⋯ & 0 & 0 & 0 & 0 & 0 & 0 & 0 & 0 & 0 & 0\\\\\n",
       "\t3 &  9 & 2023-02-10 & Buy    & AMC & 2000 & 4.7450 &  9490.00 & 0 & FALSE & 0 & ⋯ & 0 & 0 & 0 & 0 & 0 & 0 & 0 & 0 & 0 & 0\\\\\n",
       "\t4 & 11 & 2023-02-10 & Buy    & AMC & 1000 & 4.7800 &  4780.00 & 0 & FALSE & 0 & ⋯ & 0 & 0 & 0 & 0 & 0 & 0 & 0 & 0 & 0 & 0\\\\\n",
       "\t5 & 12 & 2023-02-13 & Buy    & AMC & 3000 & 4.7296 & 14188.80 & 0 & FALSE & 0 & ⋯ & 0 & 0 & 0 & 0 & 0 & 0 & 0 & 0 & 0 & 0\\\\\n",
       "\t6 & 13 & 2023-02-13 & Buy    & AMC & 1500 & 4.7183 &  7077.45 & 0 & FALSE & 0 & ⋯ & 0 & 0 & 0 & 0 & 0 & 0 & 0 & 0 & 0 & 0\\\\\n",
       "\\end{tabular}\n"
      ],
      "text/markdown": [
       "\n",
       "A data.frame: 5 × 23\n",
       "\n",
       "| <!--/--> | index &lt;int&gt; | date &lt;date&gt; | type &lt;chr&gt; | co &lt;chr&gt; | quan &lt;dbl&gt; | pps &lt;dbl&gt; | basis &lt;dbl&gt; | sale_quan &lt;dbl&gt; | flag &lt;lgl&gt; | buy_cf_quan &lt;dbl&gt; | ⋯ ⋯ | buy_pps &lt;dbl&gt; | buy_basis &lt;dbl&gt; | sell_quan &lt;dbl&gt; | sell_pps &lt;dbl&gt; | sell_basis &lt;dbl&gt; | profit_loss &lt;dbl&gt; | sold_cf_quan &lt;dbl&gt; | sold_cf_pps &lt;dbl&gt; | sold_cf_basis &lt;dbl&gt; | true_false &lt;dbl&gt; |\n",
       "|---|---|---|---|---|---|---|---|---|---|---|---|---|---|---|---|---|---|---|---|---|---|\n",
       "| 2 |  7 | 2023-01-27 | Buy CF | AMC | 1050 | 5.2394 |  5501.37 | 0 |  TRUE | 0 | ⋯ | 0 | 0 | 0 | 0 | 0 | 0 | 0 | 0 | 0 | 0 |\n",
       "| 3 |  9 | 2023-02-10 | Buy    | AMC | 2000 | 4.7450 |  9490.00 | 0 | FALSE | 0 | ⋯ | 0 | 0 | 0 | 0 | 0 | 0 | 0 | 0 | 0 | 0 |\n",
       "| 4 | 11 | 2023-02-10 | Buy    | AMC | 1000 | 4.7800 |  4780.00 | 0 | FALSE | 0 | ⋯ | 0 | 0 | 0 | 0 | 0 | 0 | 0 | 0 | 0 | 0 |\n",
       "| 5 | 12 | 2023-02-13 | Buy    | AMC | 3000 | 4.7296 | 14188.80 | 0 | FALSE | 0 | ⋯ | 0 | 0 | 0 | 0 | 0 | 0 | 0 | 0 | 0 | 0 |\n",
       "| 6 | 13 | 2023-02-13 | Buy    | AMC | 1500 | 4.7183 |  7077.45 | 0 | FALSE | 0 | ⋯ | 0 | 0 | 0 | 0 | 0 | 0 | 0 | 0 | 0 | 0 |\n",
       "\n"
      ],
      "text/plain": [
       "  index date       type   co  quan pps    basis    sale_quan flag  buy_cf_quan\n",
       "2  7    2023-01-27 Buy CF AMC 1050 5.2394  5501.37 0          TRUE 0          \n",
       "3  9    2023-02-10 Buy    AMC 2000 4.7450  9490.00 0         FALSE 0          \n",
       "4 11    2023-02-10 Buy    AMC 1000 4.7800  4780.00 0         FALSE 0          \n",
       "5 12    2023-02-13 Buy    AMC 3000 4.7296 14188.80 0         FALSE 0          \n",
       "6 13    2023-02-13 Buy    AMC 1500 4.7183  7077.45 0         FALSE 0          \n",
       "  ⋯ buy_pps buy_basis sell_quan sell_pps sell_basis profit_loss sold_cf_quan\n",
       "2 ⋯ 0       0         0         0        0          0           0           \n",
       "3 ⋯ 0       0         0         0        0          0           0           \n",
       "4 ⋯ 0       0         0         0        0          0           0           \n",
       "5 ⋯ 0       0         0         0        0          0           0           \n",
       "6 ⋯ 0       0         0         0        0          0           0           \n",
       "  sold_cf_pps sold_cf_basis true_false\n",
       "2 0           0             0         \n",
       "3 0           0             0         \n",
       "4 0           0             0         \n",
       "5 0           0             0         \n",
       "6 0           0             0         "
      ]
     },
     "metadata": {},
     "output_type": "display_data"
    },
    {
     "data": {
      "text/html": [
       "<table class=\"dataframe\">\n",
       "<caption>A data.frame: 5 × 23</caption>\n",
       "<thead>\n",
       "\t<tr><th></th><th scope=col>index</th><th scope=col>date</th><th scope=col>type</th><th scope=col>co</th><th scope=col>quan</th><th scope=col>pps</th><th scope=col>basis</th><th scope=col>sale_quan</th><th scope=col>flag</th><th scope=col>buy_cf_quan</th><th scope=col>⋯</th><th scope=col>buy_pps</th><th scope=col>buy_basis</th><th scope=col>sell_quan</th><th scope=col>sell_pps</th><th scope=col>sell_basis</th><th scope=col>profit_loss</th><th scope=col>sold_cf_quan</th><th scope=col>sold_cf_pps</th><th scope=col>sold_cf_basis</th><th scope=col>true_false</th></tr>\n",
       "\t<tr><th></th><th scope=col>&lt;int&gt;</th><th scope=col>&lt;date&gt;</th><th scope=col>&lt;chr&gt;</th><th scope=col>&lt;chr&gt;</th><th scope=col>&lt;dbl&gt;</th><th scope=col>&lt;dbl&gt;</th><th scope=col>&lt;dbl&gt;</th><th scope=col>&lt;dbl&gt;</th><th scope=col>&lt;lgl&gt;</th><th scope=col>&lt;dbl&gt;</th><th scope=col>⋯</th><th scope=col>&lt;dbl&gt;</th><th scope=col>&lt;dbl&gt;</th><th scope=col>&lt;dbl&gt;</th><th scope=col>&lt;dbl&gt;</th><th scope=col>&lt;dbl&gt;</th><th scope=col>&lt;dbl&gt;</th><th scope=col>&lt;dbl&gt;</th><th scope=col>&lt;dbl&gt;</th><th scope=col>&lt;dbl&gt;</th><th scope=col>&lt;dbl&gt;</th></tr>\n",
       "</thead>\n",
       "<tbody>\n",
       "\t<tr><th scope=row>1</th><td> 7</td><td>2023-01-27</td><td>Sell CF</td><td>AMC</td><td>1050</td><td>5.5124</td><td>    5.5124</td><td>0</td><td> TRUE</td><td>0</td><td>⋯</td><td>0</td><td>0</td><td>0</td><td>0</td><td>0</td><td>0</td><td>0</td><td>0</td><td>0</td><td>0</td></tr>\n",
       "\t<tr><th scope=row>3</th><td>10</td><td>2023-02-21</td><td>Sell   </td><td>AMC</td><td>1950</td><td>5.5124</td><td>10749.1800</td><td>0</td><td>FALSE</td><td>0</td><td>⋯</td><td>0</td><td>0</td><td>0</td><td>0</td><td>0</td><td>0</td><td>0</td><td>0</td><td>0</td><td>0</td></tr>\n",
       "\t<tr><th scope=row>4</th><td>16</td><td>2023-02-22</td><td>Sell   </td><td>AMC</td><td>6000</td><td>6.6150</td><td>39690.0000</td><td>0</td><td>FALSE</td><td>0</td><td>⋯</td><td>0</td><td>0</td><td>0</td><td>0</td><td>0</td><td>0</td><td>0</td><td>0</td><td>0</td><td>0</td></tr>\n",
       "\t<tr><th scope=row>5</th><td>18</td><td>2023-02-27</td><td>Sell   </td><td>AMC</td><td>3000</td><td>7.8160</td><td>23448.0000</td><td>0</td><td>FALSE</td><td>0</td><td>⋯</td><td>0</td><td>0</td><td>0</td><td>0</td><td>0</td><td>0</td><td>0</td><td>0</td><td>0</td><td>0</td></tr>\n",
       "\t<tr><th scope=row>6</th><td>19</td><td>2023-02-27</td><td>Sell   </td><td>AMC</td><td>1850</td><td>7.5850</td><td>14032.2500</td><td>0</td><td>FALSE</td><td>0</td><td>⋯</td><td>0</td><td>0</td><td>0</td><td>0</td><td>0</td><td>0</td><td>0</td><td>0</td><td>0</td><td>0</td></tr>\n",
       "</tbody>\n",
       "</table>\n"
      ],
      "text/latex": [
       "A data.frame: 5 × 23\n",
       "\\begin{tabular}{r|lllllllllllllllllllll}\n",
       "  & index & date & type & co & quan & pps & basis & sale\\_quan & flag & buy\\_cf\\_quan & ⋯ & buy\\_pps & buy\\_basis & sell\\_quan & sell\\_pps & sell\\_basis & profit\\_loss & sold\\_cf\\_quan & sold\\_cf\\_pps & sold\\_cf\\_basis & true\\_false\\\\\n",
       "  & <int> & <date> & <chr> & <chr> & <dbl> & <dbl> & <dbl> & <dbl> & <lgl> & <dbl> & ⋯ & <dbl> & <dbl> & <dbl> & <dbl> & <dbl> & <dbl> & <dbl> & <dbl> & <dbl> & <dbl>\\\\\n",
       "\\hline\n",
       "\t1 &  7 & 2023-01-27 & Sell CF & AMC & 1050 & 5.5124 &     5.5124 & 0 &  TRUE & 0 & ⋯ & 0 & 0 & 0 & 0 & 0 & 0 & 0 & 0 & 0 & 0\\\\\n",
       "\t3 & 10 & 2023-02-21 & Sell    & AMC & 1950 & 5.5124 & 10749.1800 & 0 & FALSE & 0 & ⋯ & 0 & 0 & 0 & 0 & 0 & 0 & 0 & 0 & 0 & 0\\\\\n",
       "\t4 & 16 & 2023-02-22 & Sell    & AMC & 6000 & 6.6150 & 39690.0000 & 0 & FALSE & 0 & ⋯ & 0 & 0 & 0 & 0 & 0 & 0 & 0 & 0 & 0 & 0\\\\\n",
       "\t5 & 18 & 2023-02-27 & Sell    & AMC & 3000 & 7.8160 & 23448.0000 & 0 & FALSE & 0 & ⋯ & 0 & 0 & 0 & 0 & 0 & 0 & 0 & 0 & 0 & 0\\\\\n",
       "\t6 & 19 & 2023-02-27 & Sell    & AMC & 1850 & 7.5850 & 14032.2500 & 0 & FALSE & 0 & ⋯ & 0 & 0 & 0 & 0 & 0 & 0 & 0 & 0 & 0 & 0\\\\\n",
       "\\end{tabular}\n"
      ],
      "text/markdown": [
       "\n",
       "A data.frame: 5 × 23\n",
       "\n",
       "| <!--/--> | index &lt;int&gt; | date &lt;date&gt; | type &lt;chr&gt; | co &lt;chr&gt; | quan &lt;dbl&gt; | pps &lt;dbl&gt; | basis &lt;dbl&gt; | sale_quan &lt;dbl&gt; | flag &lt;lgl&gt; | buy_cf_quan &lt;dbl&gt; | ⋯ ⋯ | buy_pps &lt;dbl&gt; | buy_basis &lt;dbl&gt; | sell_quan &lt;dbl&gt; | sell_pps &lt;dbl&gt; | sell_basis &lt;dbl&gt; | profit_loss &lt;dbl&gt; | sold_cf_quan &lt;dbl&gt; | sold_cf_pps &lt;dbl&gt; | sold_cf_basis &lt;dbl&gt; | true_false &lt;dbl&gt; |\n",
       "|---|---|---|---|---|---|---|---|---|---|---|---|---|---|---|---|---|---|---|---|---|---|\n",
       "| 1 |  7 | 2023-01-27 | Sell CF | AMC | 1050 | 5.5124 |     5.5124 | 0 |  TRUE | 0 | ⋯ | 0 | 0 | 0 | 0 | 0 | 0 | 0 | 0 | 0 | 0 |\n",
       "| 3 | 10 | 2023-02-21 | Sell    | AMC | 1950 | 5.5124 | 10749.1800 | 0 | FALSE | 0 | ⋯ | 0 | 0 | 0 | 0 | 0 | 0 | 0 | 0 | 0 | 0 |\n",
       "| 4 | 16 | 2023-02-22 | Sell    | AMC | 6000 | 6.6150 | 39690.0000 | 0 | FALSE | 0 | ⋯ | 0 | 0 | 0 | 0 | 0 | 0 | 0 | 0 | 0 | 0 |\n",
       "| 5 | 18 | 2023-02-27 | Sell    | AMC | 3000 | 7.8160 | 23448.0000 | 0 | FALSE | 0 | ⋯ | 0 | 0 | 0 | 0 | 0 | 0 | 0 | 0 | 0 | 0 |\n",
       "| 6 | 19 | 2023-02-27 | Sell    | AMC | 1850 | 7.5850 | 14032.2500 | 0 | FALSE | 0 | ⋯ | 0 | 0 | 0 | 0 | 0 | 0 | 0 | 0 | 0 | 0 |\n",
       "\n"
      ],
      "text/plain": [
       "  index date       type    co  quan pps    basis      sale_quan flag \n",
       "1  7    2023-01-27 Sell CF AMC 1050 5.5124     5.5124 0          TRUE\n",
       "3 10    2023-02-21 Sell    AMC 1950 5.5124 10749.1800 0         FALSE\n",
       "4 16    2023-02-22 Sell    AMC 6000 6.6150 39690.0000 0         FALSE\n",
       "5 18    2023-02-27 Sell    AMC 3000 7.8160 23448.0000 0         FALSE\n",
       "6 19    2023-02-27 Sell    AMC 1850 7.5850 14032.2500 0         FALSE\n",
       "  buy_cf_quan ⋯ buy_pps buy_basis sell_quan sell_pps sell_basis profit_loss\n",
       "1 0           ⋯ 0       0         0         0        0          0          \n",
       "3 0           ⋯ 0       0         0         0        0          0          \n",
       "4 0           ⋯ 0       0         0         0        0          0          \n",
       "5 0           ⋯ 0       0         0         0        0          0          \n",
       "6 0           ⋯ 0       0         0         0        0          0          \n",
       "  sold_cf_quan sold_cf_pps sold_cf_basis true_false\n",
       "1 0            0           0             0         \n",
       "3 0            0           0             0         \n",
       "4 0            0           0             0         \n",
       "5 0            0           0             0         \n",
       "6 0            0           0             0         "
      ]
     },
     "metadata": {},
     "output_type": "display_data"
    }
   ],
   "source": [
    "head(buys,5)\n",
    "head(sells,5)"
   ]
  },
  {
   "cell_type": "markdown",
   "id": "fee8ea28-9e37-4f08-9b6e-a7b5e0182bc9",
   "metadata": {},
   "source": [
    "#### <font color = yellow> 4. Update buys or sells with a new row (add_row) - whenever a transaction (loop) includes  c/f\n",
    "    \n",
    "###### Uses add_row () to transform any existing carryforward (buy or sell type) into the next element that will be processed for next (loop) buy/sell transaction\n"
   ]
  },
  {
   "cell_type": "code",
   "execution_count": 100,
   "id": "66a7fc7e-8397-4580-b4e9-29d965057df8",
   "metadata": {},
   "outputs": [
    {
     "name": "stdout",
     "output_type": "stream",
     "text": [
      "printing updated buys[1 ], dim of buys increases with c/f  \n"
     ]
    }
   ],
   "source": [
    "# fct call\n",
    "return_list <- update_buys_sells(buys, sells)\n",
    "\n",
    "# returned the updated to buys / sells\n",
    "buys <- return_list[[1]]\n",
    "sells <- return_list[[2]]\n",
    "\n",
    "#dim(buys)\n",
    "# dim(sells)\n"
   ]
  },
  {
   "cell_type": "code",
   "execution_count": 101,
   "id": "96b6285e-f1bf-4bc2-83bd-c0e2d7f37e68",
   "metadata": {},
   "outputs": [
    {
     "data": {
      "text/html": [
       "<table class=\"dataframe\">\n",
       "<caption>A data.frame: 5 × 23</caption>\n",
       "<thead>\n",
       "\t<tr><th></th><th scope=col>index</th><th scope=col>date</th><th scope=col>type</th><th scope=col>co</th><th scope=col>quan</th><th scope=col>pps</th><th scope=col>basis</th><th scope=col>sale_quan</th><th scope=col>flag</th><th scope=col>buy_cf_quan</th><th scope=col>⋯</th><th scope=col>buy_pps</th><th scope=col>buy_basis</th><th scope=col>sell_quan</th><th scope=col>sell_pps</th><th scope=col>sell_basis</th><th scope=col>profit_loss</th><th scope=col>sold_cf_quan</th><th scope=col>sold_cf_pps</th><th scope=col>sold_cf_basis</th><th scope=col>true_false</th></tr>\n",
       "\t<tr><th></th><th scope=col>&lt;int&gt;</th><th scope=col>&lt;date&gt;</th><th scope=col>&lt;chr&gt;</th><th scope=col>&lt;chr&gt;</th><th scope=col>&lt;dbl&gt;</th><th scope=col>&lt;dbl&gt;</th><th scope=col>&lt;dbl&gt;</th><th scope=col>&lt;dbl&gt;</th><th scope=col>&lt;lgl&gt;</th><th scope=col>&lt;dbl&gt;</th><th scope=col>⋯</th><th scope=col>&lt;dbl&gt;</th><th scope=col>&lt;dbl&gt;</th><th scope=col>&lt;dbl&gt;</th><th scope=col>&lt;dbl&gt;</th><th scope=col>&lt;dbl&gt;</th><th scope=col>&lt;dbl&gt;</th><th scope=col>&lt;dbl&gt;</th><th scope=col>&lt;dbl&gt;</th><th scope=col>&lt;dbl&gt;</th><th scope=col>&lt;dbl&gt;</th></tr>\n",
       "</thead>\n",
       "<tbody>\n",
       "\t<tr><th scope=row>2</th><td> 7</td><td>2023-01-27</td><td>Buy CF</td><td>AMC</td><td>1050</td><td>5.2394</td><td> 5501.37</td><td>0</td><td> TRUE</td><td>0</td><td>⋯</td><td>0</td><td>0</td><td>0</td><td>0</td><td>0</td><td>0</td><td>0</td><td>0</td><td>0</td><td>0</td></tr>\n",
       "\t<tr><th scope=row>3</th><td> 9</td><td>2023-02-10</td><td>Buy   </td><td>AMC</td><td>2000</td><td>4.7450</td><td> 9490.00</td><td>0</td><td>FALSE</td><td>0</td><td>⋯</td><td>0</td><td>0</td><td>0</td><td>0</td><td>0</td><td>0</td><td>0</td><td>0</td><td>0</td><td>0</td></tr>\n",
       "\t<tr><th scope=row>4</th><td>11</td><td>2023-02-10</td><td>Buy   </td><td>AMC</td><td>1000</td><td>4.7800</td><td> 4780.00</td><td>0</td><td>FALSE</td><td>0</td><td>⋯</td><td>0</td><td>0</td><td>0</td><td>0</td><td>0</td><td>0</td><td>0</td><td>0</td><td>0</td><td>0</td></tr>\n",
       "\t<tr><th scope=row>5</th><td>12</td><td>2023-02-13</td><td>Buy   </td><td>AMC</td><td>3000</td><td>4.7296</td><td>14188.80</td><td>0</td><td>FALSE</td><td>0</td><td>⋯</td><td>0</td><td>0</td><td>0</td><td>0</td><td>0</td><td>0</td><td>0</td><td>0</td><td>0</td><td>0</td></tr>\n",
       "\t<tr><th scope=row>6</th><td>13</td><td>2023-02-13</td><td>Buy   </td><td>AMC</td><td>1500</td><td>4.7183</td><td> 7077.45</td><td>0</td><td>FALSE</td><td>0</td><td>⋯</td><td>0</td><td>0</td><td>0</td><td>0</td><td>0</td><td>0</td><td>0</td><td>0</td><td>0</td><td>0</td></tr>\n",
       "</tbody>\n",
       "</table>\n"
      ],
      "text/latex": [
       "A data.frame: 5 × 23\n",
       "\\begin{tabular}{r|lllllllllllllllllllll}\n",
       "  & index & date & type & co & quan & pps & basis & sale\\_quan & flag & buy\\_cf\\_quan & ⋯ & buy\\_pps & buy\\_basis & sell\\_quan & sell\\_pps & sell\\_basis & profit\\_loss & sold\\_cf\\_quan & sold\\_cf\\_pps & sold\\_cf\\_basis & true\\_false\\\\\n",
       "  & <int> & <date> & <chr> & <chr> & <dbl> & <dbl> & <dbl> & <dbl> & <lgl> & <dbl> & ⋯ & <dbl> & <dbl> & <dbl> & <dbl> & <dbl> & <dbl> & <dbl> & <dbl> & <dbl> & <dbl>\\\\\n",
       "\\hline\n",
       "\t2 &  7 & 2023-01-27 & Buy CF & AMC & 1050 & 5.2394 &  5501.37 & 0 &  TRUE & 0 & ⋯ & 0 & 0 & 0 & 0 & 0 & 0 & 0 & 0 & 0 & 0\\\\\n",
       "\t3 &  9 & 2023-02-10 & Buy    & AMC & 2000 & 4.7450 &  9490.00 & 0 & FALSE & 0 & ⋯ & 0 & 0 & 0 & 0 & 0 & 0 & 0 & 0 & 0 & 0\\\\\n",
       "\t4 & 11 & 2023-02-10 & Buy    & AMC & 1000 & 4.7800 &  4780.00 & 0 & FALSE & 0 & ⋯ & 0 & 0 & 0 & 0 & 0 & 0 & 0 & 0 & 0 & 0\\\\\n",
       "\t5 & 12 & 2023-02-13 & Buy    & AMC & 3000 & 4.7296 & 14188.80 & 0 & FALSE & 0 & ⋯ & 0 & 0 & 0 & 0 & 0 & 0 & 0 & 0 & 0 & 0\\\\\n",
       "\t6 & 13 & 2023-02-13 & Buy    & AMC & 1500 & 4.7183 &  7077.45 & 0 & FALSE & 0 & ⋯ & 0 & 0 & 0 & 0 & 0 & 0 & 0 & 0 & 0 & 0\\\\\n",
       "\\end{tabular}\n"
      ],
      "text/markdown": [
       "\n",
       "A data.frame: 5 × 23\n",
       "\n",
       "| <!--/--> | index &lt;int&gt; | date &lt;date&gt; | type &lt;chr&gt; | co &lt;chr&gt; | quan &lt;dbl&gt; | pps &lt;dbl&gt; | basis &lt;dbl&gt; | sale_quan &lt;dbl&gt; | flag &lt;lgl&gt; | buy_cf_quan &lt;dbl&gt; | ⋯ ⋯ | buy_pps &lt;dbl&gt; | buy_basis &lt;dbl&gt; | sell_quan &lt;dbl&gt; | sell_pps &lt;dbl&gt; | sell_basis &lt;dbl&gt; | profit_loss &lt;dbl&gt; | sold_cf_quan &lt;dbl&gt; | sold_cf_pps &lt;dbl&gt; | sold_cf_basis &lt;dbl&gt; | true_false &lt;dbl&gt; |\n",
       "|---|---|---|---|---|---|---|---|---|---|---|---|---|---|---|---|---|---|---|---|---|---|\n",
       "| 2 |  7 | 2023-01-27 | Buy CF | AMC | 1050 | 5.2394 |  5501.37 | 0 |  TRUE | 0 | ⋯ | 0 | 0 | 0 | 0 | 0 | 0 | 0 | 0 | 0 | 0 |\n",
       "| 3 |  9 | 2023-02-10 | Buy    | AMC | 2000 | 4.7450 |  9490.00 | 0 | FALSE | 0 | ⋯ | 0 | 0 | 0 | 0 | 0 | 0 | 0 | 0 | 0 | 0 |\n",
       "| 4 | 11 | 2023-02-10 | Buy    | AMC | 1000 | 4.7800 |  4780.00 | 0 | FALSE | 0 | ⋯ | 0 | 0 | 0 | 0 | 0 | 0 | 0 | 0 | 0 | 0 |\n",
       "| 5 | 12 | 2023-02-13 | Buy    | AMC | 3000 | 4.7296 | 14188.80 | 0 | FALSE | 0 | ⋯ | 0 | 0 | 0 | 0 | 0 | 0 | 0 | 0 | 0 | 0 |\n",
       "| 6 | 13 | 2023-02-13 | Buy    | AMC | 1500 | 4.7183 |  7077.45 | 0 | FALSE | 0 | ⋯ | 0 | 0 | 0 | 0 | 0 | 0 | 0 | 0 | 0 | 0 |\n",
       "\n"
      ],
      "text/plain": [
       "  index date       type   co  quan pps    basis    sale_quan flag  buy_cf_quan\n",
       "2  7    2023-01-27 Buy CF AMC 1050 5.2394  5501.37 0          TRUE 0          \n",
       "3  9    2023-02-10 Buy    AMC 2000 4.7450  9490.00 0         FALSE 0          \n",
       "4 11    2023-02-10 Buy    AMC 1000 4.7800  4780.00 0         FALSE 0          \n",
       "5 12    2023-02-13 Buy    AMC 3000 4.7296 14188.80 0         FALSE 0          \n",
       "6 13    2023-02-13 Buy    AMC 1500 4.7183  7077.45 0         FALSE 0          \n",
       "  ⋯ buy_pps buy_basis sell_quan sell_pps sell_basis profit_loss sold_cf_quan\n",
       "2 ⋯ 0       0         0         0        0          0           0           \n",
       "3 ⋯ 0       0         0         0        0          0           0           \n",
       "4 ⋯ 0       0         0         0        0          0           0           \n",
       "5 ⋯ 0       0         0         0        0          0           0           \n",
       "6 ⋯ 0       0         0         0        0          0           0           \n",
       "  sold_cf_pps sold_cf_basis true_false\n",
       "2 0           0             0         \n",
       "3 0           0             0         \n",
       "4 0           0             0         \n",
       "5 0           0             0         \n",
       "6 0           0             0         "
      ]
     },
     "metadata": {},
     "output_type": "display_data"
    },
    {
     "data": {
      "text/html": [
       "<table class=\"dataframe\">\n",
       "<caption>A data.frame: 5 × 23</caption>\n",
       "<thead>\n",
       "\t<tr><th></th><th scope=col>index</th><th scope=col>date</th><th scope=col>type</th><th scope=col>co</th><th scope=col>quan</th><th scope=col>pps</th><th scope=col>basis</th><th scope=col>sale_quan</th><th scope=col>flag</th><th scope=col>buy_cf_quan</th><th scope=col>⋯</th><th scope=col>buy_pps</th><th scope=col>buy_basis</th><th scope=col>sell_quan</th><th scope=col>sell_pps</th><th scope=col>sell_basis</th><th scope=col>profit_loss</th><th scope=col>sold_cf_quan</th><th scope=col>sold_cf_pps</th><th scope=col>sold_cf_basis</th><th scope=col>true_false</th></tr>\n",
       "\t<tr><th></th><th scope=col>&lt;int&gt;</th><th scope=col>&lt;date&gt;</th><th scope=col>&lt;chr&gt;</th><th scope=col>&lt;chr&gt;</th><th scope=col>&lt;dbl&gt;</th><th scope=col>&lt;dbl&gt;</th><th scope=col>&lt;dbl&gt;</th><th scope=col>&lt;dbl&gt;</th><th scope=col>&lt;lgl&gt;</th><th scope=col>&lt;dbl&gt;</th><th scope=col>⋯</th><th scope=col>&lt;dbl&gt;</th><th scope=col>&lt;dbl&gt;</th><th scope=col>&lt;dbl&gt;</th><th scope=col>&lt;dbl&gt;</th><th scope=col>&lt;dbl&gt;</th><th scope=col>&lt;dbl&gt;</th><th scope=col>&lt;dbl&gt;</th><th scope=col>&lt;dbl&gt;</th><th scope=col>&lt;dbl&gt;</th><th scope=col>&lt;dbl&gt;</th></tr>\n",
       "</thead>\n",
       "<tbody>\n",
       "\t<tr><th scope=row>1</th><td> 7</td><td>2023-01-27</td><td>Sell CF</td><td>AMC</td><td>1050</td><td>5.5124</td><td>    5.5124</td><td>0</td><td> TRUE</td><td>0</td><td>⋯</td><td>0</td><td>0</td><td>0</td><td>0</td><td>0</td><td>0</td><td>0</td><td>0</td><td>0</td><td>0</td></tr>\n",
       "\t<tr><th scope=row>3</th><td>10</td><td>2023-02-21</td><td>Sell   </td><td>AMC</td><td>1950</td><td>5.5124</td><td>10749.1800</td><td>0</td><td>FALSE</td><td>0</td><td>⋯</td><td>0</td><td>0</td><td>0</td><td>0</td><td>0</td><td>0</td><td>0</td><td>0</td><td>0</td><td>0</td></tr>\n",
       "\t<tr><th scope=row>4</th><td>16</td><td>2023-02-22</td><td>Sell   </td><td>AMC</td><td>6000</td><td>6.6150</td><td>39690.0000</td><td>0</td><td>FALSE</td><td>0</td><td>⋯</td><td>0</td><td>0</td><td>0</td><td>0</td><td>0</td><td>0</td><td>0</td><td>0</td><td>0</td><td>0</td></tr>\n",
       "\t<tr><th scope=row>5</th><td>18</td><td>2023-02-27</td><td>Sell   </td><td>AMC</td><td>3000</td><td>7.8160</td><td>23448.0000</td><td>0</td><td>FALSE</td><td>0</td><td>⋯</td><td>0</td><td>0</td><td>0</td><td>0</td><td>0</td><td>0</td><td>0</td><td>0</td><td>0</td><td>0</td></tr>\n",
       "\t<tr><th scope=row>6</th><td>19</td><td>2023-02-27</td><td>Sell   </td><td>AMC</td><td>1850</td><td>7.5850</td><td>14032.2500</td><td>0</td><td>FALSE</td><td>0</td><td>⋯</td><td>0</td><td>0</td><td>0</td><td>0</td><td>0</td><td>0</td><td>0</td><td>0</td><td>0</td><td>0</td></tr>\n",
       "</tbody>\n",
       "</table>\n"
      ],
      "text/latex": [
       "A data.frame: 5 × 23\n",
       "\\begin{tabular}{r|lllllllllllllllllllll}\n",
       "  & index & date & type & co & quan & pps & basis & sale\\_quan & flag & buy\\_cf\\_quan & ⋯ & buy\\_pps & buy\\_basis & sell\\_quan & sell\\_pps & sell\\_basis & profit\\_loss & sold\\_cf\\_quan & sold\\_cf\\_pps & sold\\_cf\\_basis & true\\_false\\\\\n",
       "  & <int> & <date> & <chr> & <chr> & <dbl> & <dbl> & <dbl> & <dbl> & <lgl> & <dbl> & ⋯ & <dbl> & <dbl> & <dbl> & <dbl> & <dbl> & <dbl> & <dbl> & <dbl> & <dbl> & <dbl>\\\\\n",
       "\\hline\n",
       "\t1 &  7 & 2023-01-27 & Sell CF & AMC & 1050 & 5.5124 &     5.5124 & 0 &  TRUE & 0 & ⋯ & 0 & 0 & 0 & 0 & 0 & 0 & 0 & 0 & 0 & 0\\\\\n",
       "\t3 & 10 & 2023-02-21 & Sell    & AMC & 1950 & 5.5124 & 10749.1800 & 0 & FALSE & 0 & ⋯ & 0 & 0 & 0 & 0 & 0 & 0 & 0 & 0 & 0 & 0\\\\\n",
       "\t4 & 16 & 2023-02-22 & Sell    & AMC & 6000 & 6.6150 & 39690.0000 & 0 & FALSE & 0 & ⋯ & 0 & 0 & 0 & 0 & 0 & 0 & 0 & 0 & 0 & 0\\\\\n",
       "\t5 & 18 & 2023-02-27 & Sell    & AMC & 3000 & 7.8160 & 23448.0000 & 0 & FALSE & 0 & ⋯ & 0 & 0 & 0 & 0 & 0 & 0 & 0 & 0 & 0 & 0\\\\\n",
       "\t6 & 19 & 2023-02-27 & Sell    & AMC & 1850 & 7.5850 & 14032.2500 & 0 & FALSE & 0 & ⋯ & 0 & 0 & 0 & 0 & 0 & 0 & 0 & 0 & 0 & 0\\\\\n",
       "\\end{tabular}\n"
      ],
      "text/markdown": [
       "\n",
       "A data.frame: 5 × 23\n",
       "\n",
       "| <!--/--> | index &lt;int&gt; | date &lt;date&gt; | type &lt;chr&gt; | co &lt;chr&gt; | quan &lt;dbl&gt; | pps &lt;dbl&gt; | basis &lt;dbl&gt; | sale_quan &lt;dbl&gt; | flag &lt;lgl&gt; | buy_cf_quan &lt;dbl&gt; | ⋯ ⋯ | buy_pps &lt;dbl&gt; | buy_basis &lt;dbl&gt; | sell_quan &lt;dbl&gt; | sell_pps &lt;dbl&gt; | sell_basis &lt;dbl&gt; | profit_loss &lt;dbl&gt; | sold_cf_quan &lt;dbl&gt; | sold_cf_pps &lt;dbl&gt; | sold_cf_basis &lt;dbl&gt; | true_false &lt;dbl&gt; |\n",
       "|---|---|---|---|---|---|---|---|---|---|---|---|---|---|---|---|---|---|---|---|---|---|\n",
       "| 1 |  7 | 2023-01-27 | Sell CF | AMC | 1050 | 5.5124 |     5.5124 | 0 |  TRUE | 0 | ⋯ | 0 | 0 | 0 | 0 | 0 | 0 | 0 | 0 | 0 | 0 |\n",
       "| 3 | 10 | 2023-02-21 | Sell    | AMC | 1950 | 5.5124 | 10749.1800 | 0 | FALSE | 0 | ⋯ | 0 | 0 | 0 | 0 | 0 | 0 | 0 | 0 | 0 | 0 |\n",
       "| 4 | 16 | 2023-02-22 | Sell    | AMC | 6000 | 6.6150 | 39690.0000 | 0 | FALSE | 0 | ⋯ | 0 | 0 | 0 | 0 | 0 | 0 | 0 | 0 | 0 | 0 |\n",
       "| 5 | 18 | 2023-02-27 | Sell    | AMC | 3000 | 7.8160 | 23448.0000 | 0 | FALSE | 0 | ⋯ | 0 | 0 | 0 | 0 | 0 | 0 | 0 | 0 | 0 | 0 |\n",
       "| 6 | 19 | 2023-02-27 | Sell    | AMC | 1850 | 7.5850 | 14032.2500 | 0 | FALSE | 0 | ⋯ | 0 | 0 | 0 | 0 | 0 | 0 | 0 | 0 | 0 | 0 |\n",
       "\n"
      ],
      "text/plain": [
       "  index date       type    co  quan pps    basis      sale_quan flag \n",
       "1  7    2023-01-27 Sell CF AMC 1050 5.5124     5.5124 0          TRUE\n",
       "3 10    2023-02-21 Sell    AMC 1950 5.5124 10749.1800 0         FALSE\n",
       "4 16    2023-02-22 Sell    AMC 6000 6.6150 39690.0000 0         FALSE\n",
       "5 18    2023-02-27 Sell    AMC 3000 7.8160 23448.0000 0         FALSE\n",
       "6 19    2023-02-27 Sell    AMC 1850 7.5850 14032.2500 0         FALSE\n",
       "  buy_cf_quan ⋯ buy_pps buy_basis sell_quan sell_pps sell_basis profit_loss\n",
       "1 0           ⋯ 0       0         0         0        0          0          \n",
       "3 0           ⋯ 0       0         0         0        0          0          \n",
       "4 0           ⋯ 0       0         0         0        0          0          \n",
       "5 0           ⋯ 0       0         0         0        0          0          \n",
       "6 0           ⋯ 0       0         0         0        0          0          \n",
       "  sold_cf_quan sold_cf_pps sold_cf_basis true_false\n",
       "1 0            0           0             0         \n",
       "3 0            0           0             0         \n",
       "4 0            0           0             0         \n",
       "5 0            0           0             0         \n",
       "6 0            0           0             0         "
      ]
     },
     "metadata": {},
     "output_type": "display_data"
    }
   ],
   "source": [
    "head(buys,5)\n",
    "head(sells,5)"
   ]
  },
  {
   "cell_type": "markdown",
   "id": "fc2c407c-c06e-4b29-b087-e8a85e503b09",
   "metadata": {},
   "source": [
    "#### <font color = yellow>5. snips () Create a new variable from buys/sells row 1, then delete row 1 from buys and sells (copy_snip () )\n"
   ]
  },
  {
   "cell_type": "code",
   "execution_count": 102,
   "id": "57b6339e-fd13-4f8d-8d4d-828dfea2a4a2",
   "metadata": {},
   "outputs": [
    {
     "name": "stdout",
     "output_type": "stream",
     "text": [
      "new condtional works for filtering in copy_snip when cf-cf \n"
     ]
    }
   ],
   "source": [
    "copy_snip_list <- copy_snip(b, s, buys, sells) \n",
    "\n",
    "b1 <- copy_snip_list[[1]]\n",
    "s1 <- copy_snip_list[[2]]\n",
    "buys <- copy_snip_list[[3]]\n",
    "sells <- copy_snip_list[[4]]\n",
    "\n",
    "# after\n",
    "# dim(buys)\n",
    "# dim(sells)\n",
    "# # b1\n",
    "# s1\n"
   ]
  },
  {
   "cell_type": "code",
   "execution_count": null,
   "id": "6c2298a8-674a-4b85-a8b3-83697e876ee1",
   "metadata": {},
   "outputs": [],
   "source": []
  },
  {
   "cell_type": "markdown",
   "id": "204c39cd-57b3-47c7-a420-5f2bf7ffc645",
   "metadata": {},
   "source": [
    "#### <font color = lime> QC: Loop 8 review buys & sells"
   ]
  },
  {
   "cell_type": "code",
   "execution_count": 103,
   "id": "df2df6d4-d22f-49ed-9fd9-17061ec768d0",
   "metadata": {},
   "outputs": [
    {
     "data": {
      "text/html": [
       "<table class=\"dataframe\">\n",
       "<caption>A data.frame: 8 × 23</caption>\n",
       "<thead>\n",
       "\t<tr><th scope=col>index</th><th scope=col>date</th><th scope=col>type</th><th scope=col>co</th><th scope=col>quan</th><th scope=col>pps</th><th scope=col>basis</th><th scope=col>sale_quan</th><th scope=col>flag</th><th scope=col>buy_cf_quan</th><th scope=col>⋯</th><th scope=col>buy_pps</th><th scope=col>buy_basis</th><th scope=col>sell_quan</th><th scope=col>sell_pps</th><th scope=col>sell_basis</th><th scope=col>profit_loss</th><th scope=col>sold_cf_quan</th><th scope=col>sold_cf_pps</th><th scope=col>sold_cf_basis</th><th scope=col>true_false</th></tr>\n",
       "\t<tr><th scope=col>&lt;int&gt;</th><th scope=col>&lt;date&gt;</th><th scope=col>&lt;chr&gt;</th><th scope=col>&lt;chr&gt;</th><th scope=col>&lt;dbl&gt;</th><th scope=col>&lt;dbl&gt;</th><th scope=col>&lt;dbl&gt;</th><th scope=col>&lt;dbl&gt;</th><th scope=col>&lt;lgl&gt;</th><th scope=col>&lt;dbl&gt;</th><th scope=col>⋯</th><th scope=col>&lt;dbl&gt;</th><th scope=col>&lt;dbl&gt;</th><th scope=col>&lt;dbl&gt;</th><th scope=col>&lt;dbl&gt;</th><th scope=col>&lt;dbl&gt;</th><th scope=col>&lt;dbl&gt;</th><th scope=col>&lt;dbl&gt;</th><th scope=col>&lt;dbl&gt;</th><th scope=col>&lt;dbl&gt;</th><th scope=col>&lt;dbl&gt;</th></tr>\n",
       "</thead>\n",
       "<tbody>\n",
       "\t<tr><td>7</td><td>2023-01-27</td><td>Buy CF</td><td>CFCF</td><td>1050</td><td>5.2394</td><td> 5501.37</td><td>   0</td><td>TRUE</td><td>0</td><td>⋯</td><td>5.2394</td><td>5501.37</td><td>1050</td><td>5.5124</td><td>5788.02</td><td> 286.65</td><td>   0</td><td>0.0000</td><td>   0.00</td><td>1</td></tr>\n",
       "\t<tr><td>7</td><td>2023-01-27</td><td>Buy   </td><td>AMC </td><td>2000</td><td>5.2394</td><td>10478.80</td><td> 950</td><td>TRUE</td><td>0</td><td>⋯</td><td>5.2394</td><td>4977.43</td><td> 950</td><td>5.5124</td><td>5236.78</td><td> 259.35</td><td>1050</td><td>5.2394</td><td>5501.37</td><td>0</td></tr>\n",
       "\t<tr><td>5</td><td>2023-01-23</td><td>Buy CF</td><td>CFCF</td><td>  50</td><td>5.7880</td><td>  289.40</td><td>   0</td><td>TRUE</td><td>0</td><td>⋯</td><td>5.7880</td><td> 289.40</td><td>  50</td><td>5.5124</td><td> 275.62</td><td> -13.78</td><td>   0</td><td>0.0000</td><td>   0.00</td><td>1</td></tr>\n",
       "\t<tr><td>5</td><td>2023-01-23</td><td>Buy   </td><td>AMC </td><td>1000</td><td>5.7880</td><td> 5788.00</td><td> 950</td><td>TRUE</td><td>0</td><td>⋯</td><td>5.7880</td><td>5498.60</td><td> 950</td><td>5.5124</td><td>5236.78</td><td>-261.82</td><td>  50</td><td>5.7880</td><td> 289.40</td><td>0</td></tr>\n",
       "\t<tr><td>3</td><td>2023-01-20</td><td>Buy CF</td><td>CFCF</td><td>  50</td><td>5.6250</td><td>  281.25</td><td>   0</td><td>TRUE</td><td>0</td><td>⋯</td><td>5.6250</td><td> 281.25</td><td>  50</td><td>5.5124</td><td> 275.62</td><td>  -5.63</td><td>   0</td><td>0.0000</td><td>   0.00</td><td>1</td></tr>\n",
       "\t<tr><td>3</td><td>2023-01-20</td><td>Buy   </td><td>AMC </td><td>1000</td><td>5.6250</td><td> 5625.00</td><td> 950</td><td>TRUE</td><td>0</td><td>⋯</td><td>5.6250</td><td>5343.75</td><td> 950</td><td>5.5124</td><td>5236.78</td><td>-106.97</td><td>  50</td><td>5.6250</td><td> 281.25</td><td>0</td></tr>\n",
       "\t<tr><td>1</td><td>2022-12-31</td><td>Buy CF</td><td>CFCF</td><td>  50</td><td>4.0700</td><td>  203.50</td><td>   0</td><td>TRUE</td><td>0</td><td>⋯</td><td>4.0700</td><td> 203.50</td><td>  50</td><td>5.5124</td><td> 275.62</td><td>  72.12</td><td>   0</td><td>0.0000</td><td>   0.00</td><td>1</td></tr>\n",
       "\t<tr><td>1</td><td>2022-12-31</td><td>Buy   </td><td>AMC </td><td>1050</td><td>4.0700</td><td> 4273.50</td><td>1000</td><td>TRUE</td><td>0</td><td>⋯</td><td>4.0700</td><td>4070.00</td><td>1000</td><td>5.5124</td><td>5512.40</td><td>1442.40</td><td>  50</td><td>4.0700</td><td> 203.50</td><td>0</td></tr>\n",
       "</tbody>\n",
       "</table>\n"
      ],
      "text/latex": [
       "A data.frame: 8 × 23\n",
       "\\begin{tabular}{lllllllllllllllllllll}\n",
       " index & date & type & co & quan & pps & basis & sale\\_quan & flag & buy\\_cf\\_quan & ⋯ & buy\\_pps & buy\\_basis & sell\\_quan & sell\\_pps & sell\\_basis & profit\\_loss & sold\\_cf\\_quan & sold\\_cf\\_pps & sold\\_cf\\_basis & true\\_false\\\\\n",
       " <int> & <date> & <chr> & <chr> & <dbl> & <dbl> & <dbl> & <dbl> & <lgl> & <dbl> & ⋯ & <dbl> & <dbl> & <dbl> & <dbl> & <dbl> & <dbl> & <dbl> & <dbl> & <dbl> & <dbl>\\\\\n",
       "\\hline\n",
       "\t 7 & 2023-01-27 & Buy CF & CFCF & 1050 & 5.2394 &  5501.37 &    0 & TRUE & 0 & ⋯ & 5.2394 & 5501.37 & 1050 & 5.5124 & 5788.02 &  286.65 &    0 & 0.0000 &    0.00 & 1\\\\\n",
       "\t 7 & 2023-01-27 & Buy    & AMC  & 2000 & 5.2394 & 10478.80 &  950 & TRUE & 0 & ⋯ & 5.2394 & 4977.43 &  950 & 5.5124 & 5236.78 &  259.35 & 1050 & 5.2394 & 5501.37 & 0\\\\\n",
       "\t 5 & 2023-01-23 & Buy CF & CFCF &   50 & 5.7880 &   289.40 &    0 & TRUE & 0 & ⋯ & 5.7880 &  289.40 &   50 & 5.5124 &  275.62 &  -13.78 &    0 & 0.0000 &    0.00 & 1\\\\\n",
       "\t 5 & 2023-01-23 & Buy    & AMC  & 1000 & 5.7880 &  5788.00 &  950 & TRUE & 0 & ⋯ & 5.7880 & 5498.60 &  950 & 5.5124 & 5236.78 & -261.82 &   50 & 5.7880 &  289.40 & 0\\\\\n",
       "\t 3 & 2023-01-20 & Buy CF & CFCF &   50 & 5.6250 &   281.25 &    0 & TRUE & 0 & ⋯ & 5.6250 &  281.25 &   50 & 5.5124 &  275.62 &   -5.63 &    0 & 0.0000 &    0.00 & 1\\\\\n",
       "\t 3 & 2023-01-20 & Buy    & AMC  & 1000 & 5.6250 &  5625.00 &  950 & TRUE & 0 & ⋯ & 5.6250 & 5343.75 &  950 & 5.5124 & 5236.78 & -106.97 &   50 & 5.6250 &  281.25 & 0\\\\\n",
       "\t 1 & 2022-12-31 & Buy CF & CFCF &   50 & 4.0700 &   203.50 &    0 & TRUE & 0 & ⋯ & 4.0700 &  203.50 &   50 & 5.5124 &  275.62 &   72.12 &    0 & 0.0000 &    0.00 & 1\\\\\n",
       "\t 1 & 2022-12-31 & Buy    & AMC  & 1050 & 4.0700 &  4273.50 & 1000 & TRUE & 0 & ⋯ & 4.0700 & 4070.00 & 1000 & 5.5124 & 5512.40 & 1442.40 &   50 & 4.0700 &  203.50 & 0\\\\\n",
       "\\end{tabular}\n"
      ],
      "text/markdown": [
       "\n",
       "A data.frame: 8 × 23\n",
       "\n",
       "| index &lt;int&gt; | date &lt;date&gt; | type &lt;chr&gt; | co &lt;chr&gt; | quan &lt;dbl&gt; | pps &lt;dbl&gt; | basis &lt;dbl&gt; | sale_quan &lt;dbl&gt; | flag &lt;lgl&gt; | buy_cf_quan &lt;dbl&gt; | ⋯ ⋯ | buy_pps &lt;dbl&gt; | buy_basis &lt;dbl&gt; | sell_quan &lt;dbl&gt; | sell_pps &lt;dbl&gt; | sell_basis &lt;dbl&gt; | profit_loss &lt;dbl&gt; | sold_cf_quan &lt;dbl&gt; | sold_cf_pps &lt;dbl&gt; | sold_cf_basis &lt;dbl&gt; | true_false &lt;dbl&gt; |\n",
       "|---|---|---|---|---|---|---|---|---|---|---|---|---|---|---|---|---|---|---|---|---|\n",
       "| 7 | 2023-01-27 | Buy CF | CFCF | 1050 | 5.2394 |  5501.37 |    0 | TRUE | 0 | ⋯ | 5.2394 | 5501.37 | 1050 | 5.5124 | 5788.02 |  286.65 |    0 | 0.0000 |    0.00 | 1 |\n",
       "| 7 | 2023-01-27 | Buy    | AMC  | 2000 | 5.2394 | 10478.80 |  950 | TRUE | 0 | ⋯ | 5.2394 | 4977.43 |  950 | 5.5124 | 5236.78 |  259.35 | 1050 | 5.2394 | 5501.37 | 0 |\n",
       "| 5 | 2023-01-23 | Buy CF | CFCF |   50 | 5.7880 |   289.40 |    0 | TRUE | 0 | ⋯ | 5.7880 |  289.40 |   50 | 5.5124 |  275.62 |  -13.78 |    0 | 0.0000 |    0.00 | 1 |\n",
       "| 5 | 2023-01-23 | Buy    | AMC  | 1000 | 5.7880 |  5788.00 |  950 | TRUE | 0 | ⋯ | 5.7880 | 5498.60 |  950 | 5.5124 | 5236.78 | -261.82 |   50 | 5.7880 |  289.40 | 0 |\n",
       "| 3 | 2023-01-20 | Buy CF | CFCF |   50 | 5.6250 |   281.25 |    0 | TRUE | 0 | ⋯ | 5.6250 |  281.25 |   50 | 5.5124 |  275.62 |   -5.63 |    0 | 0.0000 |    0.00 | 1 |\n",
       "| 3 | 2023-01-20 | Buy    | AMC  | 1000 | 5.6250 |  5625.00 |  950 | TRUE | 0 | ⋯ | 5.6250 | 5343.75 |  950 | 5.5124 | 5236.78 | -106.97 |   50 | 5.6250 |  281.25 | 0 |\n",
       "| 1 | 2022-12-31 | Buy CF | CFCF |   50 | 4.0700 |   203.50 |    0 | TRUE | 0 | ⋯ | 4.0700 |  203.50 |   50 | 5.5124 |  275.62 |   72.12 |    0 | 0.0000 |    0.00 | 1 |\n",
       "| 1 | 2022-12-31 | Buy    | AMC  | 1050 | 4.0700 |  4273.50 | 1000 | TRUE | 0 | ⋯ | 4.0700 | 4070.00 | 1000 | 5.5124 | 5512.40 | 1442.40 |   50 | 4.0700 |  203.50 | 0 |\n",
       "\n"
      ],
      "text/plain": [
       "  index date       type   co   quan pps    basis    sale_quan flag buy_cf_quan\n",
       "1 7     2023-01-27 Buy CF CFCF 1050 5.2394  5501.37    0      TRUE 0          \n",
       "2 7     2023-01-27 Buy    AMC  2000 5.2394 10478.80  950      TRUE 0          \n",
       "3 5     2023-01-23 Buy CF CFCF   50 5.7880   289.40    0      TRUE 0          \n",
       "4 5     2023-01-23 Buy    AMC  1000 5.7880  5788.00  950      TRUE 0          \n",
       "5 3     2023-01-20 Buy CF CFCF   50 5.6250   281.25    0      TRUE 0          \n",
       "6 3     2023-01-20 Buy    AMC  1000 5.6250  5625.00  950      TRUE 0          \n",
       "7 1     2022-12-31 Buy CF CFCF   50 4.0700   203.50    0      TRUE 0          \n",
       "8 1     2022-12-31 Buy    AMC  1050 4.0700  4273.50 1000      TRUE 0          \n",
       "  ⋯ buy_pps buy_basis sell_quan sell_pps sell_basis profit_loss sold_cf_quan\n",
       "1 ⋯ 5.2394  5501.37   1050      5.5124   5788.02     286.65        0        \n",
       "2 ⋯ 5.2394  4977.43    950      5.5124   5236.78     259.35     1050        \n",
       "3 ⋯ 5.7880   289.40     50      5.5124    275.62     -13.78        0        \n",
       "4 ⋯ 5.7880  5498.60    950      5.5124   5236.78    -261.82       50        \n",
       "5 ⋯ 5.6250   281.25     50      5.5124    275.62      -5.63        0        \n",
       "6 ⋯ 5.6250  5343.75    950      5.5124   5236.78    -106.97       50        \n",
       "7 ⋯ 4.0700   203.50     50      5.5124    275.62      72.12        0        \n",
       "8 ⋯ 4.0700  4070.00   1000      5.5124   5512.40    1442.40       50        \n",
       "  sold_cf_pps sold_cf_basis true_false\n",
       "1 0.0000         0.00       1         \n",
       "2 5.2394      5501.37       0         \n",
       "3 0.0000         0.00       1         \n",
       "4 5.7880       289.40       0         \n",
       "5 0.0000         0.00       1         \n",
       "6 5.6250       281.25       0         \n",
       "7 0.0000         0.00       1         \n",
       "8 4.0700       203.50       0         "
      ]
     },
     "metadata": {},
     "output_type": "display_data"
    }
   ],
   "source": [
    "sale_records"
   ]
  },
  {
   "cell_type": "code",
   "execution_count": null,
   "id": "b0f7502a-a60b-4e12-b292-602d23e04e81",
   "metadata": {},
   "outputs": [],
   "source": []
  },
  {
   "cell_type": "markdown",
   "id": "48114d22-b199-4103-8212-2f4516ea883f",
   "metadata": {},
   "source": [
    "#### <font color = lime> QC: Loop 8 review buys & sells"
   ]
  },
  {
   "cell_type": "code",
   "execution_count": 104,
   "id": "fdd32d68-2413-440e-93e9-c34bc4db1f12",
   "metadata": {},
   "outputs": [
    {
     "data": {
      "text/html": [
       "<style>\n",
       ".list-inline {list-style: none; margin:0; padding: 0}\n",
       ".list-inline>li {display: inline-block}\n",
       ".list-inline>li:not(:last-child)::after {content: \"\\00b7\"; padding: 0 .5ex}\n",
       "</style>\n",
       "<ol class=list-inline><li>19</li><li>23</li></ol>\n"
      ],
      "text/latex": [
       "\\begin{enumerate*}\n",
       "\\item 19\n",
       "\\item 23\n",
       "\\end{enumerate*}\n"
      ],
      "text/markdown": [
       "1. 19\n",
       "2. 23\n",
       "\n",
       "\n"
      ],
      "text/plain": [
       "[1] 19 23"
      ]
     },
     "metadata": {},
     "output_type": "display_data"
    },
    {
     "data": {
      "text/html": [
       "<style>\n",
       ".list-inline {list-style: none; margin:0; padding: 0}\n",
       ".list-inline>li {display: inline-block}\n",
       ".list-inline>li:not(:last-child)::after {content: \"\\00b7\"; padding: 0 .5ex}\n",
       "</style>\n",
       "<ol class=list-inline><li>14</li><li>23</li></ol>\n"
      ],
      "text/latex": [
       "\\begin{enumerate*}\n",
       "\\item 14\n",
       "\\item 23\n",
       "\\end{enumerate*}\n"
      ],
      "text/markdown": [
       "1. 14\n",
       "2. 23\n",
       "\n",
       "\n"
      ],
      "text/plain": [
       "[1] 14 23"
      ]
     },
     "metadata": {},
     "output_type": "display_data"
    },
    {
     "data": {
      "text/html": [
       "<table class=\"dataframe\">\n",
       "<caption>A data.frame: 4 × 23</caption>\n",
       "<thead>\n",
       "\t<tr><th></th><th scope=col>index</th><th scope=col>date</th><th scope=col>type</th><th scope=col>co</th><th scope=col>quan</th><th scope=col>pps</th><th scope=col>basis</th><th scope=col>sale_quan</th><th scope=col>flag</th><th scope=col>buy_cf_quan</th><th scope=col>⋯</th><th scope=col>buy_pps</th><th scope=col>buy_basis</th><th scope=col>sell_quan</th><th scope=col>sell_pps</th><th scope=col>sell_basis</th><th scope=col>profit_loss</th><th scope=col>sold_cf_quan</th><th scope=col>sold_cf_pps</th><th scope=col>sold_cf_basis</th><th scope=col>true_false</th></tr>\n",
       "\t<tr><th></th><th scope=col>&lt;int&gt;</th><th scope=col>&lt;date&gt;</th><th scope=col>&lt;chr&gt;</th><th scope=col>&lt;chr&gt;</th><th scope=col>&lt;dbl&gt;</th><th scope=col>&lt;dbl&gt;</th><th scope=col>&lt;dbl&gt;</th><th scope=col>&lt;dbl&gt;</th><th scope=col>&lt;lgl&gt;</th><th scope=col>&lt;dbl&gt;</th><th scope=col>⋯</th><th scope=col>&lt;dbl&gt;</th><th scope=col>&lt;dbl&gt;</th><th scope=col>&lt;dbl&gt;</th><th scope=col>&lt;dbl&gt;</th><th scope=col>&lt;dbl&gt;</th><th scope=col>&lt;dbl&gt;</th><th scope=col>&lt;dbl&gt;</th><th scope=col>&lt;dbl&gt;</th><th scope=col>&lt;dbl&gt;</th><th scope=col>&lt;dbl&gt;</th></tr>\n",
       "</thead>\n",
       "<tbody>\n",
       "\t<tr><th scope=row>3</th><td> 9</td><td>2023-02-10</td><td>Buy</td><td>AMC</td><td>2000</td><td>4.7450</td><td> 9490.00</td><td>0</td><td>FALSE</td><td>0</td><td>⋯</td><td>0</td><td>0</td><td>0</td><td>0</td><td>0</td><td>0</td><td>0</td><td>0</td><td>0</td><td>0</td></tr>\n",
       "\t<tr><th scope=row>4</th><td>11</td><td>2023-02-10</td><td>Buy</td><td>AMC</td><td>1000</td><td>4.7800</td><td> 4780.00</td><td>0</td><td>FALSE</td><td>0</td><td>⋯</td><td>0</td><td>0</td><td>0</td><td>0</td><td>0</td><td>0</td><td>0</td><td>0</td><td>0</td><td>0</td></tr>\n",
       "\t<tr><th scope=row>5</th><td>12</td><td>2023-02-13</td><td>Buy</td><td>AMC</td><td>3000</td><td>4.7296</td><td>14188.80</td><td>0</td><td>FALSE</td><td>0</td><td>⋯</td><td>0</td><td>0</td><td>0</td><td>0</td><td>0</td><td>0</td><td>0</td><td>0</td><td>0</td><td>0</td></tr>\n",
       "\t<tr><th scope=row>6</th><td>13</td><td>2023-02-13</td><td>Buy</td><td>AMC</td><td>1500</td><td>4.7183</td><td> 7077.45</td><td>0</td><td>FALSE</td><td>0</td><td>⋯</td><td>0</td><td>0</td><td>0</td><td>0</td><td>0</td><td>0</td><td>0</td><td>0</td><td>0</td><td>0</td></tr>\n",
       "</tbody>\n",
       "</table>\n"
      ],
      "text/latex": [
       "A data.frame: 4 × 23\n",
       "\\begin{tabular}{r|lllllllllllllllllllll}\n",
       "  & index & date & type & co & quan & pps & basis & sale\\_quan & flag & buy\\_cf\\_quan & ⋯ & buy\\_pps & buy\\_basis & sell\\_quan & sell\\_pps & sell\\_basis & profit\\_loss & sold\\_cf\\_quan & sold\\_cf\\_pps & sold\\_cf\\_basis & true\\_false\\\\\n",
       "  & <int> & <date> & <chr> & <chr> & <dbl> & <dbl> & <dbl> & <dbl> & <lgl> & <dbl> & ⋯ & <dbl> & <dbl> & <dbl> & <dbl> & <dbl> & <dbl> & <dbl> & <dbl> & <dbl> & <dbl>\\\\\n",
       "\\hline\n",
       "\t3 &  9 & 2023-02-10 & Buy & AMC & 2000 & 4.7450 &  9490.00 & 0 & FALSE & 0 & ⋯ & 0 & 0 & 0 & 0 & 0 & 0 & 0 & 0 & 0 & 0\\\\\n",
       "\t4 & 11 & 2023-02-10 & Buy & AMC & 1000 & 4.7800 &  4780.00 & 0 & FALSE & 0 & ⋯ & 0 & 0 & 0 & 0 & 0 & 0 & 0 & 0 & 0 & 0\\\\\n",
       "\t5 & 12 & 2023-02-13 & Buy & AMC & 3000 & 4.7296 & 14188.80 & 0 & FALSE & 0 & ⋯ & 0 & 0 & 0 & 0 & 0 & 0 & 0 & 0 & 0 & 0\\\\\n",
       "\t6 & 13 & 2023-02-13 & Buy & AMC & 1500 & 4.7183 &  7077.45 & 0 & FALSE & 0 & ⋯ & 0 & 0 & 0 & 0 & 0 & 0 & 0 & 0 & 0 & 0\\\\\n",
       "\\end{tabular}\n"
      ],
      "text/markdown": [
       "\n",
       "A data.frame: 4 × 23\n",
       "\n",
       "| <!--/--> | index &lt;int&gt; | date &lt;date&gt; | type &lt;chr&gt; | co &lt;chr&gt; | quan &lt;dbl&gt; | pps &lt;dbl&gt; | basis &lt;dbl&gt; | sale_quan &lt;dbl&gt; | flag &lt;lgl&gt; | buy_cf_quan &lt;dbl&gt; | ⋯ ⋯ | buy_pps &lt;dbl&gt; | buy_basis &lt;dbl&gt; | sell_quan &lt;dbl&gt; | sell_pps &lt;dbl&gt; | sell_basis &lt;dbl&gt; | profit_loss &lt;dbl&gt; | sold_cf_quan &lt;dbl&gt; | sold_cf_pps &lt;dbl&gt; | sold_cf_basis &lt;dbl&gt; | true_false &lt;dbl&gt; |\n",
       "|---|---|---|---|---|---|---|---|---|---|---|---|---|---|---|---|---|---|---|---|---|---|\n",
       "| 3 |  9 | 2023-02-10 | Buy | AMC | 2000 | 4.7450 |  9490.00 | 0 | FALSE | 0 | ⋯ | 0 | 0 | 0 | 0 | 0 | 0 | 0 | 0 | 0 | 0 |\n",
       "| 4 | 11 | 2023-02-10 | Buy | AMC | 1000 | 4.7800 |  4780.00 | 0 | FALSE | 0 | ⋯ | 0 | 0 | 0 | 0 | 0 | 0 | 0 | 0 | 0 | 0 |\n",
       "| 5 | 12 | 2023-02-13 | Buy | AMC | 3000 | 4.7296 | 14188.80 | 0 | FALSE | 0 | ⋯ | 0 | 0 | 0 | 0 | 0 | 0 | 0 | 0 | 0 | 0 |\n",
       "| 6 | 13 | 2023-02-13 | Buy | AMC | 1500 | 4.7183 |  7077.45 | 0 | FALSE | 0 | ⋯ | 0 | 0 | 0 | 0 | 0 | 0 | 0 | 0 | 0 | 0 |\n",
       "\n"
      ],
      "text/plain": [
       "  index date       type co  quan pps    basis    sale_quan flag  buy_cf_quan ⋯\n",
       "3  9    2023-02-10 Buy  AMC 2000 4.7450  9490.00 0         FALSE 0           ⋯\n",
       "4 11    2023-02-10 Buy  AMC 1000 4.7800  4780.00 0         FALSE 0           ⋯\n",
       "5 12    2023-02-13 Buy  AMC 3000 4.7296 14188.80 0         FALSE 0           ⋯\n",
       "6 13    2023-02-13 Buy  AMC 1500 4.7183  7077.45 0         FALSE 0           ⋯\n",
       "  buy_pps buy_basis sell_quan sell_pps sell_basis profit_loss sold_cf_quan\n",
       "3 0       0         0         0        0          0           0           \n",
       "4 0       0         0         0        0          0           0           \n",
       "5 0       0         0         0        0          0           0           \n",
       "6 0       0         0         0        0          0           0           \n",
       "  sold_cf_pps sold_cf_basis true_false\n",
       "3 0           0             0         \n",
       "4 0           0             0         \n",
       "5 0           0             0         \n",
       "6 0           0             0         "
      ]
     },
     "metadata": {},
     "output_type": "display_data"
    },
    {
     "data": {
      "text/html": [
       "<table class=\"dataframe\">\n",
       "<caption>A data.frame: 4 × 23</caption>\n",
       "<thead>\n",
       "\t<tr><th></th><th scope=col>index</th><th scope=col>date</th><th scope=col>type</th><th scope=col>co</th><th scope=col>quan</th><th scope=col>pps</th><th scope=col>basis</th><th scope=col>sale_quan</th><th scope=col>flag</th><th scope=col>buy_cf_quan</th><th scope=col>⋯</th><th scope=col>buy_pps</th><th scope=col>buy_basis</th><th scope=col>sell_quan</th><th scope=col>sell_pps</th><th scope=col>sell_basis</th><th scope=col>profit_loss</th><th scope=col>sold_cf_quan</th><th scope=col>sold_cf_pps</th><th scope=col>sold_cf_basis</th><th scope=col>true_false</th></tr>\n",
       "\t<tr><th></th><th scope=col>&lt;int&gt;</th><th scope=col>&lt;date&gt;</th><th scope=col>&lt;chr&gt;</th><th scope=col>&lt;chr&gt;</th><th scope=col>&lt;dbl&gt;</th><th scope=col>&lt;dbl&gt;</th><th scope=col>&lt;dbl&gt;</th><th scope=col>&lt;dbl&gt;</th><th scope=col>&lt;lgl&gt;</th><th scope=col>&lt;dbl&gt;</th><th scope=col>⋯</th><th scope=col>&lt;dbl&gt;</th><th scope=col>&lt;dbl&gt;</th><th scope=col>&lt;dbl&gt;</th><th scope=col>&lt;dbl&gt;</th><th scope=col>&lt;dbl&gt;</th><th scope=col>&lt;dbl&gt;</th><th scope=col>&lt;dbl&gt;</th><th scope=col>&lt;dbl&gt;</th><th scope=col>&lt;dbl&gt;</th><th scope=col>&lt;dbl&gt;</th></tr>\n",
       "</thead>\n",
       "<tbody>\n",
       "\t<tr><th scope=row>3</th><td>10</td><td>2023-02-21</td><td>Sell</td><td>AMC</td><td>1950</td><td>5.5124</td><td>10749.18</td><td>0</td><td>FALSE</td><td>0</td><td>⋯</td><td>0</td><td>0</td><td>0</td><td>0</td><td>0</td><td>0</td><td>0</td><td>0</td><td>0</td><td>0</td></tr>\n",
       "\t<tr><th scope=row>4</th><td>16</td><td>2023-02-22</td><td>Sell</td><td>AMC</td><td>6000</td><td>6.6150</td><td>39690.00</td><td>0</td><td>FALSE</td><td>0</td><td>⋯</td><td>0</td><td>0</td><td>0</td><td>0</td><td>0</td><td>0</td><td>0</td><td>0</td><td>0</td><td>0</td></tr>\n",
       "\t<tr><th scope=row>5</th><td>18</td><td>2023-02-27</td><td>Sell</td><td>AMC</td><td>3000</td><td>7.8160</td><td>23448.00</td><td>0</td><td>FALSE</td><td>0</td><td>⋯</td><td>0</td><td>0</td><td>0</td><td>0</td><td>0</td><td>0</td><td>0</td><td>0</td><td>0</td><td>0</td></tr>\n",
       "\t<tr><th scope=row>6</th><td>19</td><td>2023-02-27</td><td>Sell</td><td>AMC</td><td>1850</td><td>7.5850</td><td>14032.25</td><td>0</td><td>FALSE</td><td>0</td><td>⋯</td><td>0</td><td>0</td><td>0</td><td>0</td><td>0</td><td>0</td><td>0</td><td>0</td><td>0</td><td>0</td></tr>\n",
       "</tbody>\n",
       "</table>\n"
      ],
      "text/latex": [
       "A data.frame: 4 × 23\n",
       "\\begin{tabular}{r|lllllllllllllllllllll}\n",
       "  & index & date & type & co & quan & pps & basis & sale\\_quan & flag & buy\\_cf\\_quan & ⋯ & buy\\_pps & buy\\_basis & sell\\_quan & sell\\_pps & sell\\_basis & profit\\_loss & sold\\_cf\\_quan & sold\\_cf\\_pps & sold\\_cf\\_basis & true\\_false\\\\\n",
       "  & <int> & <date> & <chr> & <chr> & <dbl> & <dbl> & <dbl> & <dbl> & <lgl> & <dbl> & ⋯ & <dbl> & <dbl> & <dbl> & <dbl> & <dbl> & <dbl> & <dbl> & <dbl> & <dbl> & <dbl>\\\\\n",
       "\\hline\n",
       "\t3 & 10 & 2023-02-21 & Sell & AMC & 1950 & 5.5124 & 10749.18 & 0 & FALSE & 0 & ⋯ & 0 & 0 & 0 & 0 & 0 & 0 & 0 & 0 & 0 & 0\\\\\n",
       "\t4 & 16 & 2023-02-22 & Sell & AMC & 6000 & 6.6150 & 39690.00 & 0 & FALSE & 0 & ⋯ & 0 & 0 & 0 & 0 & 0 & 0 & 0 & 0 & 0 & 0\\\\\n",
       "\t5 & 18 & 2023-02-27 & Sell & AMC & 3000 & 7.8160 & 23448.00 & 0 & FALSE & 0 & ⋯ & 0 & 0 & 0 & 0 & 0 & 0 & 0 & 0 & 0 & 0\\\\\n",
       "\t6 & 19 & 2023-02-27 & Sell & AMC & 1850 & 7.5850 & 14032.25 & 0 & FALSE & 0 & ⋯ & 0 & 0 & 0 & 0 & 0 & 0 & 0 & 0 & 0 & 0\\\\\n",
       "\\end{tabular}\n"
      ],
      "text/markdown": [
       "\n",
       "A data.frame: 4 × 23\n",
       "\n",
       "| <!--/--> | index &lt;int&gt; | date &lt;date&gt; | type &lt;chr&gt; | co &lt;chr&gt; | quan &lt;dbl&gt; | pps &lt;dbl&gt; | basis &lt;dbl&gt; | sale_quan &lt;dbl&gt; | flag &lt;lgl&gt; | buy_cf_quan &lt;dbl&gt; | ⋯ ⋯ | buy_pps &lt;dbl&gt; | buy_basis &lt;dbl&gt; | sell_quan &lt;dbl&gt; | sell_pps &lt;dbl&gt; | sell_basis &lt;dbl&gt; | profit_loss &lt;dbl&gt; | sold_cf_quan &lt;dbl&gt; | sold_cf_pps &lt;dbl&gt; | sold_cf_basis &lt;dbl&gt; | true_false &lt;dbl&gt; |\n",
       "|---|---|---|---|---|---|---|---|---|---|---|---|---|---|---|---|---|---|---|---|---|---|\n",
       "| 3 | 10 | 2023-02-21 | Sell | AMC | 1950 | 5.5124 | 10749.18 | 0 | FALSE | 0 | ⋯ | 0 | 0 | 0 | 0 | 0 | 0 | 0 | 0 | 0 | 0 |\n",
       "| 4 | 16 | 2023-02-22 | Sell | AMC | 6000 | 6.6150 | 39690.00 | 0 | FALSE | 0 | ⋯ | 0 | 0 | 0 | 0 | 0 | 0 | 0 | 0 | 0 | 0 |\n",
       "| 5 | 18 | 2023-02-27 | Sell | AMC | 3000 | 7.8160 | 23448.00 | 0 | FALSE | 0 | ⋯ | 0 | 0 | 0 | 0 | 0 | 0 | 0 | 0 | 0 | 0 |\n",
       "| 6 | 19 | 2023-02-27 | Sell | AMC | 1850 | 7.5850 | 14032.25 | 0 | FALSE | 0 | ⋯ | 0 | 0 | 0 | 0 | 0 | 0 | 0 | 0 | 0 | 0 |\n",
       "\n"
      ],
      "text/plain": [
       "  index date       type co  quan pps    basis    sale_quan flag  buy_cf_quan ⋯\n",
       "3 10    2023-02-21 Sell AMC 1950 5.5124 10749.18 0         FALSE 0           ⋯\n",
       "4 16    2023-02-22 Sell AMC 6000 6.6150 39690.00 0         FALSE 0           ⋯\n",
       "5 18    2023-02-27 Sell AMC 3000 7.8160 23448.00 0         FALSE 0           ⋯\n",
       "6 19    2023-02-27 Sell AMC 1850 7.5850 14032.25 0         FALSE 0           ⋯\n",
       "  buy_pps buy_basis sell_quan sell_pps sell_basis profit_loss sold_cf_quan\n",
       "3 0       0         0         0        0          0           0           \n",
       "4 0       0         0         0        0          0           0           \n",
       "5 0       0         0         0        0          0           0           \n",
       "6 0       0         0         0        0          0           0           \n",
       "  sold_cf_pps sold_cf_basis true_false\n",
       "3 0           0             0         \n",
       "4 0           0             0         \n",
       "5 0           0             0         \n",
       "6 0           0             0         "
      ]
     },
     "metadata": {},
     "output_type": "display_data"
    }
   ],
   "source": [
    "dim(buys)\n",
    "dim(sells)\n",
    "head(buys,4)\n",
    "head(sells,4)"
   ]
  },
  {
   "cell_type": "code",
   "execution_count": 105,
   "id": "b855ecfd-2451-4a16-96bb-ab38fbb67298",
   "metadata": {},
   "outputs": [],
   "source": [
    "# stopps"
   ]
  },
  {
   "cell_type": "markdown",
   "id": "b46d8202-30a5-487d-b0f8-c0ba9ebfb019",
   "metadata": {},
   "source": [
    "# <font color = cyan> Proof of Concept above. End of loop 8"
   ]
  },
  {
   "cell_type": "code",
   "execution_count": null,
   "id": "273c3965-65c1-4fdf-b347-bbb00cbf9021",
   "metadata": {},
   "outputs": [],
   "source": []
  },
  {
   "cell_type": "markdown",
   "id": "c40919fe-b7b4-4751-8966-f8d51dd3a51e",
   "metadata": {},
   "source": [
    "#### <font color = yellow> 1. Create data & dfs"
   ]
  },
  {
   "cell_type": "code",
   "execution_count": 106,
   "id": "b4c195f6-6d5a-4ddd-83ea-ed428dfc15ed",
   "metadata": {},
   "outputs": [],
   "source": [
    "b <- buys[1,]\n",
    "s <- sells[1,]\n"
   ]
  },
  {
   "cell_type": "code",
   "execution_count": null,
   "id": "aeec0669-9a4c-42f2-86eb-67a411759764",
   "metadata": {},
   "outputs": [],
   "source": []
  },
  {
   "cell_type": "markdown",
   "id": "614da46e-d6b4-4849-aaca-41b6bdd2b38d",
   "metadata": {},
   "source": [
    "### <font color = yellow> 2. Update b - the variable that records each buy/sell transaction (w/in loop)\n",
    "    \n",
    "#### b>s, b<s, b==s,"
   ]
  },
  {
   "cell_type": "code",
   "execution_count": 107,
   "id": "affa4be3-b0ec-4fba-8422-ffc3ad4b99fa",
   "metadata": {},
   "outputs": [
    {
     "name": "stdout",
     "output_type": "stream",
     "text": [
      "POC - updated_s when b > s:  SOLD \n"
     ]
    }
   ],
   "source": [
    "#fct call\n",
    "updated_b_list <- update_b(b,s,buys)\n",
    "\n",
    "updated_b <- updated_b_list[[1]]\n",
    "updated_s <- updated_b_list[[2]]\n",
    "buys <- updated_b_list[[3]]\n",
    "#dim(updated_b)\n",
    "#dim(buys)    \n"
   ]
  },
  {
   "cell_type": "code",
   "execution_count": 108,
   "id": "e3bbd8a5-55cd-4a8c-b279-722c2ff8771a",
   "metadata": {},
   "outputs": [
    {
     "name": "stdout",
     "output_type": "stream",
     "text": [
      "Std buy-sell orientation \n"
     ]
    }
   ],
   "source": [
    "if(buys$type[i] == \"Buy\" && sells$type[i] == \"Sell\") {\n",
    "    cat(\"Std buy-sell orientation \\n\")    \n",
    "    }"
   ]
  },
  {
   "cell_type": "markdown",
   "id": "17e8f00d-bfb5-4da9-b498-a787dcec5aaa",
   "metadata": {},
   "source": [
    "### <font color = yellow>3. Update the sales_records (rbind) with updated_b for each transaction (loop)\n"
   ]
  },
  {
   "cell_type": "code",
   "execution_count": 109,
   "id": "92812e8d-cc31-4af2-8c49-2783411cde66",
   "metadata": {},
   "outputs": [
    {
     "data": {
      "text/html": [
       "<table class=\"dataframe\">\n",
       "<caption>A data.frame: 1 × 23</caption>\n",
       "<thead>\n",
       "\t<tr><th></th><th scope=col>index</th><th scope=col>date</th><th scope=col>type</th><th scope=col>co</th><th scope=col>quan</th><th scope=col>pps</th><th scope=col>basis</th><th scope=col>sale_quan</th><th scope=col>flag</th><th scope=col>buy_cf_quan</th><th scope=col>⋯</th><th scope=col>buy_pps</th><th scope=col>buy_basis</th><th scope=col>sell_quan</th><th scope=col>sell_pps</th><th scope=col>sell_basis</th><th scope=col>profit_loss</th><th scope=col>sold_cf_quan</th><th scope=col>sold_cf_pps</th><th scope=col>sold_cf_basis</th><th scope=col>true_false</th></tr>\n",
       "\t<tr><th></th><th scope=col>&lt;int&gt;</th><th scope=col>&lt;date&gt;</th><th scope=col>&lt;chr&gt;</th><th scope=col>&lt;chr&gt;</th><th scope=col>&lt;dbl&gt;</th><th scope=col>&lt;dbl&gt;</th><th scope=col>&lt;dbl&gt;</th><th scope=col>&lt;dbl&gt;</th><th scope=col>&lt;lgl&gt;</th><th scope=col>&lt;dbl&gt;</th><th scope=col>⋯</th><th scope=col>&lt;dbl&gt;</th><th scope=col>&lt;dbl&gt;</th><th scope=col>&lt;dbl&gt;</th><th scope=col>&lt;dbl&gt;</th><th scope=col>&lt;dbl&gt;</th><th scope=col>&lt;dbl&gt;</th><th scope=col>&lt;dbl&gt;</th><th scope=col>&lt;dbl&gt;</th><th scope=col>&lt;dbl&gt;</th><th scope=col>&lt;dbl&gt;</th></tr>\n",
       "</thead>\n",
       "<tbody>\n",
       "\t<tr><th scope=row>1</th><td>9</td><td>2023-02-10</td><td>Buy</td><td>AMC</td><td>2000</td><td>4.745</td><td>9490</td><td>1950</td><td>TRUE</td><td>0</td><td>⋯</td><td>4.745</td><td>9252.75</td><td>1950</td><td>5.5124</td><td>10749.18</td><td>1496.43</td><td>50</td><td>4.745</td><td>237.25</td><td>0</td></tr>\n",
       "</tbody>\n",
       "</table>\n"
      ],
      "text/latex": [
       "A data.frame: 1 × 23\n",
       "\\begin{tabular}{r|lllllllllllllllllllll}\n",
       "  & index & date & type & co & quan & pps & basis & sale\\_quan & flag & buy\\_cf\\_quan & ⋯ & buy\\_pps & buy\\_basis & sell\\_quan & sell\\_pps & sell\\_basis & profit\\_loss & sold\\_cf\\_quan & sold\\_cf\\_pps & sold\\_cf\\_basis & true\\_false\\\\\n",
       "  & <int> & <date> & <chr> & <chr> & <dbl> & <dbl> & <dbl> & <dbl> & <lgl> & <dbl> & ⋯ & <dbl> & <dbl> & <dbl> & <dbl> & <dbl> & <dbl> & <dbl> & <dbl> & <dbl> & <dbl>\\\\\n",
       "\\hline\n",
       "\t1 & 9 & 2023-02-10 & Buy & AMC & 2000 & 4.745 & 9490 & 1950 & TRUE & 0 & ⋯ & 4.745 & 9252.75 & 1950 & 5.5124 & 10749.18 & 1496.43 & 50 & 4.745 & 237.25 & 0\\\\\n",
       "\\end{tabular}\n"
      ],
      "text/markdown": [
       "\n",
       "A data.frame: 1 × 23\n",
       "\n",
       "| <!--/--> | index &lt;int&gt; | date &lt;date&gt; | type &lt;chr&gt; | co &lt;chr&gt; | quan &lt;dbl&gt; | pps &lt;dbl&gt; | basis &lt;dbl&gt; | sale_quan &lt;dbl&gt; | flag &lt;lgl&gt; | buy_cf_quan &lt;dbl&gt; | ⋯ ⋯ | buy_pps &lt;dbl&gt; | buy_basis &lt;dbl&gt; | sell_quan &lt;dbl&gt; | sell_pps &lt;dbl&gt; | sell_basis &lt;dbl&gt; | profit_loss &lt;dbl&gt; | sold_cf_quan &lt;dbl&gt; | sold_cf_pps &lt;dbl&gt; | sold_cf_basis &lt;dbl&gt; | true_false &lt;dbl&gt; |\n",
       "|---|---|---|---|---|---|---|---|---|---|---|---|---|---|---|---|---|---|---|---|---|---|\n",
       "| 1 | 9 | 2023-02-10 | Buy | AMC | 2000 | 4.745 | 9490 | 1950 | TRUE | 0 | ⋯ | 4.745 | 9252.75 | 1950 | 5.5124 | 10749.18 | 1496.43 | 50 | 4.745 | 237.25 | 0 |\n",
       "\n"
      ],
      "text/plain": [
       "  index date       type co  quan pps   basis sale_quan flag buy_cf_quan ⋯\n",
       "1 9     2023-02-10 Buy  AMC 2000 4.745 9490  1950      TRUE 0           ⋯\n",
       "  buy_pps buy_basis sell_quan sell_pps sell_basis profit_loss sold_cf_quan\n",
       "1 4.745   9252.75   1950      5.5124   10749.18   1496.43     50          \n",
       "  sold_cf_pps sold_cf_basis true_false\n",
       "1 4.745       237.25        0         "
      ]
     },
     "metadata": {},
     "output_type": "display_data"
    },
    {
     "data": {
      "text/html": [
       "<table class=\"dataframe\">\n",
       "<caption>A data.frame: 9 × 23</caption>\n",
       "<thead>\n",
       "\t<tr><th scope=col>index</th><th scope=col>date</th><th scope=col>type</th><th scope=col>co</th><th scope=col>quan</th><th scope=col>pps</th><th scope=col>basis</th><th scope=col>sale_quan</th><th scope=col>flag</th><th scope=col>buy_cf_quan</th><th scope=col>⋯</th><th scope=col>buy_pps</th><th scope=col>buy_basis</th><th scope=col>sell_quan</th><th scope=col>sell_pps</th><th scope=col>sell_basis</th><th scope=col>profit_loss</th><th scope=col>sold_cf_quan</th><th scope=col>sold_cf_pps</th><th scope=col>sold_cf_basis</th><th scope=col>true_false</th></tr>\n",
       "\t<tr><th scope=col>&lt;int&gt;</th><th scope=col>&lt;date&gt;</th><th scope=col>&lt;chr&gt;</th><th scope=col>&lt;chr&gt;</th><th scope=col>&lt;dbl&gt;</th><th scope=col>&lt;dbl&gt;</th><th scope=col>&lt;dbl&gt;</th><th scope=col>&lt;dbl&gt;</th><th scope=col>&lt;lgl&gt;</th><th scope=col>&lt;dbl&gt;</th><th scope=col>⋯</th><th scope=col>&lt;dbl&gt;</th><th scope=col>&lt;dbl&gt;</th><th scope=col>&lt;dbl&gt;</th><th scope=col>&lt;dbl&gt;</th><th scope=col>&lt;dbl&gt;</th><th scope=col>&lt;dbl&gt;</th><th scope=col>&lt;dbl&gt;</th><th scope=col>&lt;dbl&gt;</th><th scope=col>&lt;dbl&gt;</th><th scope=col>&lt;dbl&gt;</th></tr>\n",
       "</thead>\n",
       "<tbody>\n",
       "\t<tr><td>9</td><td>2023-02-10</td><td>Buy   </td><td>AMC </td><td>2000</td><td>4.7450</td><td> 9490.00</td><td>1950</td><td>TRUE</td><td>0</td><td>⋯</td><td>4.7450</td><td>9252.75</td><td>1950</td><td>5.5124</td><td>10749.18</td><td>1496.43</td><td>  50</td><td>4.7450</td><td> 237.25</td><td>0</td></tr>\n",
       "\t<tr><td>7</td><td>2023-01-27</td><td>Buy CF</td><td>CFCF</td><td>1050</td><td>5.2394</td><td> 5501.37</td><td>   0</td><td>TRUE</td><td>0</td><td>⋯</td><td>5.2394</td><td>5501.37</td><td>1050</td><td>5.5124</td><td> 5788.02</td><td> 286.65</td><td>   0</td><td>0.0000</td><td>   0.00</td><td>1</td></tr>\n",
       "\t<tr><td>7</td><td>2023-01-27</td><td>Buy   </td><td>AMC </td><td>2000</td><td>5.2394</td><td>10478.80</td><td> 950</td><td>TRUE</td><td>0</td><td>⋯</td><td>5.2394</td><td>4977.43</td><td> 950</td><td>5.5124</td><td> 5236.78</td><td> 259.35</td><td>1050</td><td>5.2394</td><td>5501.37</td><td>0</td></tr>\n",
       "\t<tr><td>5</td><td>2023-01-23</td><td>Buy CF</td><td>CFCF</td><td>  50</td><td>5.7880</td><td>  289.40</td><td>   0</td><td>TRUE</td><td>0</td><td>⋯</td><td>5.7880</td><td> 289.40</td><td>  50</td><td>5.5124</td><td>  275.62</td><td> -13.78</td><td>   0</td><td>0.0000</td><td>   0.00</td><td>1</td></tr>\n",
       "\t<tr><td>5</td><td>2023-01-23</td><td>Buy   </td><td>AMC </td><td>1000</td><td>5.7880</td><td> 5788.00</td><td> 950</td><td>TRUE</td><td>0</td><td>⋯</td><td>5.7880</td><td>5498.60</td><td> 950</td><td>5.5124</td><td> 5236.78</td><td>-261.82</td><td>  50</td><td>5.7880</td><td> 289.40</td><td>0</td></tr>\n",
       "\t<tr><td>3</td><td>2023-01-20</td><td>Buy CF</td><td>CFCF</td><td>  50</td><td>5.6250</td><td>  281.25</td><td>   0</td><td>TRUE</td><td>0</td><td>⋯</td><td>5.6250</td><td> 281.25</td><td>  50</td><td>5.5124</td><td>  275.62</td><td>  -5.63</td><td>   0</td><td>0.0000</td><td>   0.00</td><td>1</td></tr>\n",
       "\t<tr><td>3</td><td>2023-01-20</td><td>Buy   </td><td>AMC </td><td>1000</td><td>5.6250</td><td> 5625.00</td><td> 950</td><td>TRUE</td><td>0</td><td>⋯</td><td>5.6250</td><td>5343.75</td><td> 950</td><td>5.5124</td><td> 5236.78</td><td>-106.97</td><td>  50</td><td>5.6250</td><td> 281.25</td><td>0</td></tr>\n",
       "\t<tr><td>1</td><td>2022-12-31</td><td>Buy CF</td><td>CFCF</td><td>  50</td><td>4.0700</td><td>  203.50</td><td>   0</td><td>TRUE</td><td>0</td><td>⋯</td><td>4.0700</td><td> 203.50</td><td>  50</td><td>5.5124</td><td>  275.62</td><td>  72.12</td><td>   0</td><td>0.0000</td><td>   0.00</td><td>1</td></tr>\n",
       "\t<tr><td>1</td><td>2022-12-31</td><td>Buy   </td><td>AMC </td><td>1050</td><td>4.0700</td><td> 4273.50</td><td>1000</td><td>TRUE</td><td>0</td><td>⋯</td><td>4.0700</td><td>4070.00</td><td>1000</td><td>5.5124</td><td> 5512.40</td><td>1442.40</td><td>  50</td><td>4.0700</td><td> 203.50</td><td>0</td></tr>\n",
       "</tbody>\n",
       "</table>\n"
      ],
      "text/latex": [
       "A data.frame: 9 × 23\n",
       "\\begin{tabular}{lllllllllllllllllllll}\n",
       " index & date & type & co & quan & pps & basis & sale\\_quan & flag & buy\\_cf\\_quan & ⋯ & buy\\_pps & buy\\_basis & sell\\_quan & sell\\_pps & sell\\_basis & profit\\_loss & sold\\_cf\\_quan & sold\\_cf\\_pps & sold\\_cf\\_basis & true\\_false\\\\\n",
       " <int> & <date> & <chr> & <chr> & <dbl> & <dbl> & <dbl> & <dbl> & <lgl> & <dbl> & ⋯ & <dbl> & <dbl> & <dbl> & <dbl> & <dbl> & <dbl> & <dbl> & <dbl> & <dbl> & <dbl>\\\\\n",
       "\\hline\n",
       "\t 9 & 2023-02-10 & Buy    & AMC  & 2000 & 4.7450 &  9490.00 & 1950 & TRUE & 0 & ⋯ & 4.7450 & 9252.75 & 1950 & 5.5124 & 10749.18 & 1496.43 &   50 & 4.7450 &  237.25 & 0\\\\\n",
       "\t 7 & 2023-01-27 & Buy CF & CFCF & 1050 & 5.2394 &  5501.37 &    0 & TRUE & 0 & ⋯ & 5.2394 & 5501.37 & 1050 & 5.5124 &  5788.02 &  286.65 &    0 & 0.0000 &    0.00 & 1\\\\\n",
       "\t 7 & 2023-01-27 & Buy    & AMC  & 2000 & 5.2394 & 10478.80 &  950 & TRUE & 0 & ⋯ & 5.2394 & 4977.43 &  950 & 5.5124 &  5236.78 &  259.35 & 1050 & 5.2394 & 5501.37 & 0\\\\\n",
       "\t 5 & 2023-01-23 & Buy CF & CFCF &   50 & 5.7880 &   289.40 &    0 & TRUE & 0 & ⋯ & 5.7880 &  289.40 &   50 & 5.5124 &   275.62 &  -13.78 &    0 & 0.0000 &    0.00 & 1\\\\\n",
       "\t 5 & 2023-01-23 & Buy    & AMC  & 1000 & 5.7880 &  5788.00 &  950 & TRUE & 0 & ⋯ & 5.7880 & 5498.60 &  950 & 5.5124 &  5236.78 & -261.82 &   50 & 5.7880 &  289.40 & 0\\\\\n",
       "\t 3 & 2023-01-20 & Buy CF & CFCF &   50 & 5.6250 &   281.25 &    0 & TRUE & 0 & ⋯ & 5.6250 &  281.25 &   50 & 5.5124 &   275.62 &   -5.63 &    0 & 0.0000 &    0.00 & 1\\\\\n",
       "\t 3 & 2023-01-20 & Buy    & AMC  & 1000 & 5.6250 &  5625.00 &  950 & TRUE & 0 & ⋯ & 5.6250 & 5343.75 &  950 & 5.5124 &  5236.78 & -106.97 &   50 & 5.6250 &  281.25 & 0\\\\\n",
       "\t 1 & 2022-12-31 & Buy CF & CFCF &   50 & 4.0700 &   203.50 &    0 & TRUE & 0 & ⋯ & 4.0700 &  203.50 &   50 & 5.5124 &   275.62 &   72.12 &    0 & 0.0000 &    0.00 & 1\\\\\n",
       "\t 1 & 2022-12-31 & Buy    & AMC  & 1050 & 4.0700 &  4273.50 & 1000 & TRUE & 0 & ⋯ & 4.0700 & 4070.00 & 1000 & 5.5124 &  5512.40 & 1442.40 &   50 & 4.0700 &  203.50 & 0\\\\\n",
       "\\end{tabular}\n"
      ],
      "text/markdown": [
       "\n",
       "A data.frame: 9 × 23\n",
       "\n",
       "| index &lt;int&gt; | date &lt;date&gt; | type &lt;chr&gt; | co &lt;chr&gt; | quan &lt;dbl&gt; | pps &lt;dbl&gt; | basis &lt;dbl&gt; | sale_quan &lt;dbl&gt; | flag &lt;lgl&gt; | buy_cf_quan &lt;dbl&gt; | ⋯ ⋯ | buy_pps &lt;dbl&gt; | buy_basis &lt;dbl&gt; | sell_quan &lt;dbl&gt; | sell_pps &lt;dbl&gt; | sell_basis &lt;dbl&gt; | profit_loss &lt;dbl&gt; | sold_cf_quan &lt;dbl&gt; | sold_cf_pps &lt;dbl&gt; | sold_cf_basis &lt;dbl&gt; | true_false &lt;dbl&gt; |\n",
       "|---|---|---|---|---|---|---|---|---|---|---|---|---|---|---|---|---|---|---|---|---|\n",
       "| 9 | 2023-02-10 | Buy    | AMC  | 2000 | 4.7450 |  9490.00 | 1950 | TRUE | 0 | ⋯ | 4.7450 | 9252.75 | 1950 | 5.5124 | 10749.18 | 1496.43 |   50 | 4.7450 |  237.25 | 0 |\n",
       "| 7 | 2023-01-27 | Buy CF | CFCF | 1050 | 5.2394 |  5501.37 |    0 | TRUE | 0 | ⋯ | 5.2394 | 5501.37 | 1050 | 5.5124 |  5788.02 |  286.65 |    0 | 0.0000 |    0.00 | 1 |\n",
       "| 7 | 2023-01-27 | Buy    | AMC  | 2000 | 5.2394 | 10478.80 |  950 | TRUE | 0 | ⋯ | 5.2394 | 4977.43 |  950 | 5.5124 |  5236.78 |  259.35 | 1050 | 5.2394 | 5501.37 | 0 |\n",
       "| 5 | 2023-01-23 | Buy CF | CFCF |   50 | 5.7880 |   289.40 |    0 | TRUE | 0 | ⋯ | 5.7880 |  289.40 |   50 | 5.5124 |   275.62 |  -13.78 |    0 | 0.0000 |    0.00 | 1 |\n",
       "| 5 | 2023-01-23 | Buy    | AMC  | 1000 | 5.7880 |  5788.00 |  950 | TRUE | 0 | ⋯ | 5.7880 | 5498.60 |  950 | 5.5124 |  5236.78 | -261.82 |   50 | 5.7880 |  289.40 | 0 |\n",
       "| 3 | 2023-01-20 | Buy CF | CFCF |   50 | 5.6250 |   281.25 |    0 | TRUE | 0 | ⋯ | 5.6250 |  281.25 |   50 | 5.5124 |   275.62 |   -5.63 |    0 | 0.0000 |    0.00 | 1 |\n",
       "| 3 | 2023-01-20 | Buy    | AMC  | 1000 | 5.6250 |  5625.00 |  950 | TRUE | 0 | ⋯ | 5.6250 | 5343.75 |  950 | 5.5124 |  5236.78 | -106.97 |   50 | 5.6250 |  281.25 | 0 |\n",
       "| 1 | 2022-12-31 | Buy CF | CFCF |   50 | 4.0700 |   203.50 |    0 | TRUE | 0 | ⋯ | 4.0700 |  203.50 |   50 | 5.5124 |   275.62 |   72.12 |    0 | 0.0000 |    0.00 | 1 |\n",
       "| 1 | 2022-12-31 | Buy    | AMC  | 1050 | 4.0700 |  4273.50 | 1000 | TRUE | 0 | ⋯ | 4.0700 | 4070.00 | 1000 | 5.5124 |  5512.40 | 1442.40 |   50 | 4.0700 |  203.50 | 0 |\n",
       "\n"
      ],
      "text/plain": [
       "  index date       type   co   quan pps    basis    sale_quan flag buy_cf_quan\n",
       "1 9     2023-02-10 Buy    AMC  2000 4.7450  9490.00 1950      TRUE 0          \n",
       "2 7     2023-01-27 Buy CF CFCF 1050 5.2394  5501.37    0      TRUE 0          \n",
       "3 7     2023-01-27 Buy    AMC  2000 5.2394 10478.80  950      TRUE 0          \n",
       "4 5     2023-01-23 Buy CF CFCF   50 5.7880   289.40    0      TRUE 0          \n",
       "5 5     2023-01-23 Buy    AMC  1000 5.7880  5788.00  950      TRUE 0          \n",
       "6 3     2023-01-20 Buy CF CFCF   50 5.6250   281.25    0      TRUE 0          \n",
       "7 3     2023-01-20 Buy    AMC  1000 5.6250  5625.00  950      TRUE 0          \n",
       "8 1     2022-12-31 Buy CF CFCF   50 4.0700   203.50    0      TRUE 0          \n",
       "9 1     2022-12-31 Buy    AMC  1050 4.0700  4273.50 1000      TRUE 0          \n",
       "  ⋯ buy_pps buy_basis sell_quan sell_pps sell_basis profit_loss sold_cf_quan\n",
       "1 ⋯ 4.7450  9252.75   1950      5.5124   10749.18   1496.43       50        \n",
       "2 ⋯ 5.2394  5501.37   1050      5.5124    5788.02    286.65        0        \n",
       "3 ⋯ 5.2394  4977.43    950      5.5124    5236.78    259.35     1050        \n",
       "4 ⋯ 5.7880   289.40     50      5.5124     275.62    -13.78        0        \n",
       "5 ⋯ 5.7880  5498.60    950      5.5124    5236.78   -261.82       50        \n",
       "6 ⋯ 5.6250   281.25     50      5.5124     275.62     -5.63        0        \n",
       "7 ⋯ 5.6250  5343.75    950      5.5124    5236.78   -106.97       50        \n",
       "8 ⋯ 4.0700   203.50     50      5.5124     275.62     72.12        0        \n",
       "9 ⋯ 4.0700  4070.00   1000      5.5124    5512.40   1442.40       50        \n",
       "  sold_cf_pps sold_cf_basis true_false\n",
       "1 4.7450       237.25       0         \n",
       "2 0.0000         0.00       1         \n",
       "3 5.2394      5501.37       0         \n",
       "4 0.0000         0.00       1         \n",
       "5 5.7880       289.40       0         \n",
       "6 0.0000         0.00       1         \n",
       "7 5.6250       281.25       0         \n",
       "8 0.0000         0.00       1         \n",
       "9 4.0700       203.50       0         "
      ]
     },
     "metadata": {},
     "output_type": "display_data"
    }
   ],
   "source": [
    "\n",
    "# First go around needs rbind()\n",
    "# sale_records <- rbind(sale_records, updated_b)    \n",
    "\n",
    "sale_records <- sale_records %>% add_row(updated_b , .before = 1)\n",
    "sale_records[1,]\n",
    "sale_records\n"
   ]
  },
  {
   "cell_type": "code",
   "execution_count": null,
   "id": "59b56b88-b306-4ee5-ac6d-592bdc522c3a",
   "metadata": {},
   "outputs": [],
   "source": []
  },
  {
   "cell_type": "code",
   "execution_count": 110,
   "id": "4bd6f6af-c425-4920-a8a6-33662fe8d228",
   "metadata": {},
   "outputs": [
    {
     "data": {
      "text/html": [
       "<table class=\"dataframe\">\n",
       "<caption>A data.frame: 5 × 23</caption>\n",
       "<thead>\n",
       "\t<tr><th></th><th scope=col>index</th><th scope=col>date</th><th scope=col>type</th><th scope=col>co</th><th scope=col>quan</th><th scope=col>pps</th><th scope=col>basis</th><th scope=col>sale_quan</th><th scope=col>flag</th><th scope=col>buy_cf_quan</th><th scope=col>⋯</th><th scope=col>buy_pps</th><th scope=col>buy_basis</th><th scope=col>sell_quan</th><th scope=col>sell_pps</th><th scope=col>sell_basis</th><th scope=col>profit_loss</th><th scope=col>sold_cf_quan</th><th scope=col>sold_cf_pps</th><th scope=col>sold_cf_basis</th><th scope=col>true_false</th></tr>\n",
       "\t<tr><th></th><th scope=col>&lt;int&gt;</th><th scope=col>&lt;date&gt;</th><th scope=col>&lt;chr&gt;</th><th scope=col>&lt;chr&gt;</th><th scope=col>&lt;dbl&gt;</th><th scope=col>&lt;dbl&gt;</th><th scope=col>&lt;dbl&gt;</th><th scope=col>&lt;dbl&gt;</th><th scope=col>&lt;lgl&gt;</th><th scope=col>&lt;dbl&gt;</th><th scope=col>⋯</th><th scope=col>&lt;dbl&gt;</th><th scope=col>&lt;dbl&gt;</th><th scope=col>&lt;dbl&gt;</th><th scope=col>&lt;dbl&gt;</th><th scope=col>&lt;dbl&gt;</th><th scope=col>&lt;dbl&gt;</th><th scope=col>&lt;dbl&gt;</th><th scope=col>&lt;dbl&gt;</th><th scope=col>&lt;dbl&gt;</th><th scope=col>&lt;dbl&gt;</th></tr>\n",
       "</thead>\n",
       "<tbody>\n",
       "\t<tr><th scope=row>3</th><td> 9</td><td>2023-02-10</td><td>Buy</td><td>AMC</td><td>2000</td><td>4.7450</td><td> 9490.00</td><td>0</td><td> TRUE</td><td>0</td><td>⋯</td><td>0</td><td>0</td><td>0</td><td>0</td><td>0</td><td>0</td><td>0</td><td>0</td><td>0</td><td>0</td></tr>\n",
       "\t<tr><th scope=row>4</th><td>11</td><td>2023-02-10</td><td>Buy</td><td>AMC</td><td>1000</td><td>4.7800</td><td> 4780.00</td><td>0</td><td>FALSE</td><td>0</td><td>⋯</td><td>0</td><td>0</td><td>0</td><td>0</td><td>0</td><td>0</td><td>0</td><td>0</td><td>0</td><td>0</td></tr>\n",
       "\t<tr><th scope=row>5</th><td>12</td><td>2023-02-13</td><td>Buy</td><td>AMC</td><td>3000</td><td>4.7296</td><td>14188.80</td><td>0</td><td>FALSE</td><td>0</td><td>⋯</td><td>0</td><td>0</td><td>0</td><td>0</td><td>0</td><td>0</td><td>0</td><td>0</td><td>0</td><td>0</td></tr>\n",
       "\t<tr><th scope=row>6</th><td>13</td><td>2023-02-13</td><td>Buy</td><td>AMC</td><td>1500</td><td>4.7183</td><td> 7077.45</td><td>0</td><td>FALSE</td><td>0</td><td>⋯</td><td>0</td><td>0</td><td>0</td><td>0</td><td>0</td><td>0</td><td>0</td><td>0</td><td>0</td><td>0</td></tr>\n",
       "\t<tr><th scope=row>7</th><td>14</td><td>2023-02-13</td><td>Buy</td><td>AMC</td><td> 300</td><td>4.7167</td><td> 1415.01</td><td>0</td><td>FALSE</td><td>0</td><td>⋯</td><td>0</td><td>0</td><td>0</td><td>0</td><td>0</td><td>0</td><td>0</td><td>0</td><td>0</td><td>0</td></tr>\n",
       "</tbody>\n",
       "</table>\n"
      ],
      "text/latex": [
       "A data.frame: 5 × 23\n",
       "\\begin{tabular}{r|lllllllllllllllllllll}\n",
       "  & index & date & type & co & quan & pps & basis & sale\\_quan & flag & buy\\_cf\\_quan & ⋯ & buy\\_pps & buy\\_basis & sell\\_quan & sell\\_pps & sell\\_basis & profit\\_loss & sold\\_cf\\_quan & sold\\_cf\\_pps & sold\\_cf\\_basis & true\\_false\\\\\n",
       "  & <int> & <date> & <chr> & <chr> & <dbl> & <dbl> & <dbl> & <dbl> & <lgl> & <dbl> & ⋯ & <dbl> & <dbl> & <dbl> & <dbl> & <dbl> & <dbl> & <dbl> & <dbl> & <dbl> & <dbl>\\\\\n",
       "\\hline\n",
       "\t3 &  9 & 2023-02-10 & Buy & AMC & 2000 & 4.7450 &  9490.00 & 0 &  TRUE & 0 & ⋯ & 0 & 0 & 0 & 0 & 0 & 0 & 0 & 0 & 0 & 0\\\\\n",
       "\t4 & 11 & 2023-02-10 & Buy & AMC & 1000 & 4.7800 &  4780.00 & 0 & FALSE & 0 & ⋯ & 0 & 0 & 0 & 0 & 0 & 0 & 0 & 0 & 0 & 0\\\\\n",
       "\t5 & 12 & 2023-02-13 & Buy & AMC & 3000 & 4.7296 & 14188.80 & 0 & FALSE & 0 & ⋯ & 0 & 0 & 0 & 0 & 0 & 0 & 0 & 0 & 0 & 0\\\\\n",
       "\t6 & 13 & 2023-02-13 & Buy & AMC & 1500 & 4.7183 &  7077.45 & 0 & FALSE & 0 & ⋯ & 0 & 0 & 0 & 0 & 0 & 0 & 0 & 0 & 0 & 0\\\\\n",
       "\t7 & 14 & 2023-02-13 & Buy & AMC &  300 & 4.7167 &  1415.01 & 0 & FALSE & 0 & ⋯ & 0 & 0 & 0 & 0 & 0 & 0 & 0 & 0 & 0 & 0\\\\\n",
       "\\end{tabular}\n"
      ],
      "text/markdown": [
       "\n",
       "A data.frame: 5 × 23\n",
       "\n",
       "| <!--/--> | index &lt;int&gt; | date &lt;date&gt; | type &lt;chr&gt; | co &lt;chr&gt; | quan &lt;dbl&gt; | pps &lt;dbl&gt; | basis &lt;dbl&gt; | sale_quan &lt;dbl&gt; | flag &lt;lgl&gt; | buy_cf_quan &lt;dbl&gt; | ⋯ ⋯ | buy_pps &lt;dbl&gt; | buy_basis &lt;dbl&gt; | sell_quan &lt;dbl&gt; | sell_pps &lt;dbl&gt; | sell_basis &lt;dbl&gt; | profit_loss &lt;dbl&gt; | sold_cf_quan &lt;dbl&gt; | sold_cf_pps &lt;dbl&gt; | sold_cf_basis &lt;dbl&gt; | true_false &lt;dbl&gt; |\n",
       "|---|---|---|---|---|---|---|---|---|---|---|---|---|---|---|---|---|---|---|---|---|---|\n",
       "| 3 |  9 | 2023-02-10 | Buy | AMC | 2000 | 4.7450 |  9490.00 | 0 |  TRUE | 0 | ⋯ | 0 | 0 | 0 | 0 | 0 | 0 | 0 | 0 | 0 | 0 |\n",
       "| 4 | 11 | 2023-02-10 | Buy | AMC | 1000 | 4.7800 |  4780.00 | 0 | FALSE | 0 | ⋯ | 0 | 0 | 0 | 0 | 0 | 0 | 0 | 0 | 0 | 0 |\n",
       "| 5 | 12 | 2023-02-13 | Buy | AMC | 3000 | 4.7296 | 14188.80 | 0 | FALSE | 0 | ⋯ | 0 | 0 | 0 | 0 | 0 | 0 | 0 | 0 | 0 | 0 |\n",
       "| 6 | 13 | 2023-02-13 | Buy | AMC | 1500 | 4.7183 |  7077.45 | 0 | FALSE | 0 | ⋯ | 0 | 0 | 0 | 0 | 0 | 0 | 0 | 0 | 0 | 0 |\n",
       "| 7 | 14 | 2023-02-13 | Buy | AMC |  300 | 4.7167 |  1415.01 | 0 | FALSE | 0 | ⋯ | 0 | 0 | 0 | 0 | 0 | 0 | 0 | 0 | 0 | 0 |\n",
       "\n"
      ],
      "text/plain": [
       "  index date       type co  quan pps    basis    sale_quan flag  buy_cf_quan ⋯\n",
       "3  9    2023-02-10 Buy  AMC 2000 4.7450  9490.00 0          TRUE 0           ⋯\n",
       "4 11    2023-02-10 Buy  AMC 1000 4.7800  4780.00 0         FALSE 0           ⋯\n",
       "5 12    2023-02-13 Buy  AMC 3000 4.7296 14188.80 0         FALSE 0           ⋯\n",
       "6 13    2023-02-13 Buy  AMC 1500 4.7183  7077.45 0         FALSE 0           ⋯\n",
       "7 14    2023-02-13 Buy  AMC  300 4.7167  1415.01 0         FALSE 0           ⋯\n",
       "  buy_pps buy_basis sell_quan sell_pps sell_basis profit_loss sold_cf_quan\n",
       "3 0       0         0         0        0          0           0           \n",
       "4 0       0         0         0        0          0           0           \n",
       "5 0       0         0         0        0          0           0           \n",
       "6 0       0         0         0        0          0           0           \n",
       "7 0       0         0         0        0          0           0           \n",
       "  sold_cf_pps sold_cf_basis true_false\n",
       "3 0           0             0         \n",
       "4 0           0             0         \n",
       "5 0           0             0         \n",
       "6 0           0             0         \n",
       "7 0           0             0         "
      ]
     },
     "metadata": {},
     "output_type": "display_data"
    },
    {
     "data": {
      "text/html": [
       "<table class=\"dataframe\">\n",
       "<caption>A data.frame: 5 × 23</caption>\n",
       "<thead>\n",
       "\t<tr><th></th><th scope=col>index</th><th scope=col>date</th><th scope=col>type</th><th scope=col>co</th><th scope=col>quan</th><th scope=col>pps</th><th scope=col>basis</th><th scope=col>sale_quan</th><th scope=col>flag</th><th scope=col>buy_cf_quan</th><th scope=col>⋯</th><th scope=col>buy_pps</th><th scope=col>buy_basis</th><th scope=col>sell_quan</th><th scope=col>sell_pps</th><th scope=col>sell_basis</th><th scope=col>profit_loss</th><th scope=col>sold_cf_quan</th><th scope=col>sold_cf_pps</th><th scope=col>sold_cf_basis</th><th scope=col>true_false</th></tr>\n",
       "\t<tr><th></th><th scope=col>&lt;int&gt;</th><th scope=col>&lt;date&gt;</th><th scope=col>&lt;chr&gt;</th><th scope=col>&lt;chr&gt;</th><th scope=col>&lt;dbl&gt;</th><th scope=col>&lt;dbl&gt;</th><th scope=col>&lt;dbl&gt;</th><th scope=col>&lt;dbl&gt;</th><th scope=col>&lt;lgl&gt;</th><th scope=col>&lt;dbl&gt;</th><th scope=col>⋯</th><th scope=col>&lt;dbl&gt;</th><th scope=col>&lt;dbl&gt;</th><th scope=col>&lt;dbl&gt;</th><th scope=col>&lt;dbl&gt;</th><th scope=col>&lt;dbl&gt;</th><th scope=col>&lt;dbl&gt;</th><th scope=col>&lt;dbl&gt;</th><th scope=col>&lt;dbl&gt;</th><th scope=col>&lt;dbl&gt;</th><th scope=col>&lt;dbl&gt;</th></tr>\n",
       "</thead>\n",
       "<tbody>\n",
       "\t<tr><th scope=row>3</th><td>10</td><td>2023-02-21</td><td>Sell</td><td>AMC</td><td>1950</td><td>5.5124</td><td>10749.18</td><td>0</td><td>FALSE</td><td>0</td><td>⋯</td><td>0</td><td>0</td><td>0</td><td>0</td><td>0</td><td>0</td><td>0</td><td>0</td><td>0</td><td>0</td></tr>\n",
       "\t<tr><th scope=row>4</th><td>16</td><td>2023-02-22</td><td>Sell</td><td>AMC</td><td>6000</td><td>6.6150</td><td>39690.00</td><td>0</td><td>FALSE</td><td>0</td><td>⋯</td><td>0</td><td>0</td><td>0</td><td>0</td><td>0</td><td>0</td><td>0</td><td>0</td><td>0</td><td>0</td></tr>\n",
       "\t<tr><th scope=row>5</th><td>18</td><td>2023-02-27</td><td>Sell</td><td>AMC</td><td>3000</td><td>7.8160</td><td>23448.00</td><td>0</td><td>FALSE</td><td>0</td><td>⋯</td><td>0</td><td>0</td><td>0</td><td>0</td><td>0</td><td>0</td><td>0</td><td>0</td><td>0</td><td>0</td></tr>\n",
       "\t<tr><th scope=row>6</th><td>19</td><td>2023-02-27</td><td>Sell</td><td>AMC</td><td>1850</td><td>7.5850</td><td>14032.25</td><td>0</td><td>FALSE</td><td>0</td><td>⋯</td><td>0</td><td>0</td><td>0</td><td>0</td><td>0</td><td>0</td><td>0</td><td>0</td><td>0</td><td>0</td></tr>\n",
       "\t<tr><th scope=row>7</th><td>20</td><td>2023-02-27</td><td>Sell</td><td>AMC</td><td>1000</td><td>7.8160</td><td> 7816.00</td><td>0</td><td>FALSE</td><td>0</td><td>⋯</td><td>0</td><td>0</td><td>0</td><td>0</td><td>0</td><td>0</td><td>0</td><td>0</td><td>0</td><td>0</td></tr>\n",
       "</tbody>\n",
       "</table>\n"
      ],
      "text/latex": [
       "A data.frame: 5 × 23\n",
       "\\begin{tabular}{r|lllllllllllllllllllll}\n",
       "  & index & date & type & co & quan & pps & basis & sale\\_quan & flag & buy\\_cf\\_quan & ⋯ & buy\\_pps & buy\\_basis & sell\\_quan & sell\\_pps & sell\\_basis & profit\\_loss & sold\\_cf\\_quan & sold\\_cf\\_pps & sold\\_cf\\_basis & true\\_false\\\\\n",
       "  & <int> & <date> & <chr> & <chr> & <dbl> & <dbl> & <dbl> & <dbl> & <lgl> & <dbl> & ⋯ & <dbl> & <dbl> & <dbl> & <dbl> & <dbl> & <dbl> & <dbl> & <dbl> & <dbl> & <dbl>\\\\\n",
       "\\hline\n",
       "\t3 & 10 & 2023-02-21 & Sell & AMC & 1950 & 5.5124 & 10749.18 & 0 & FALSE & 0 & ⋯ & 0 & 0 & 0 & 0 & 0 & 0 & 0 & 0 & 0 & 0\\\\\n",
       "\t4 & 16 & 2023-02-22 & Sell & AMC & 6000 & 6.6150 & 39690.00 & 0 & FALSE & 0 & ⋯ & 0 & 0 & 0 & 0 & 0 & 0 & 0 & 0 & 0 & 0\\\\\n",
       "\t5 & 18 & 2023-02-27 & Sell & AMC & 3000 & 7.8160 & 23448.00 & 0 & FALSE & 0 & ⋯ & 0 & 0 & 0 & 0 & 0 & 0 & 0 & 0 & 0 & 0\\\\\n",
       "\t6 & 19 & 2023-02-27 & Sell & AMC & 1850 & 7.5850 & 14032.25 & 0 & FALSE & 0 & ⋯ & 0 & 0 & 0 & 0 & 0 & 0 & 0 & 0 & 0 & 0\\\\\n",
       "\t7 & 20 & 2023-02-27 & Sell & AMC & 1000 & 7.8160 &  7816.00 & 0 & FALSE & 0 & ⋯ & 0 & 0 & 0 & 0 & 0 & 0 & 0 & 0 & 0 & 0\\\\\n",
       "\\end{tabular}\n"
      ],
      "text/markdown": [
       "\n",
       "A data.frame: 5 × 23\n",
       "\n",
       "| <!--/--> | index &lt;int&gt; | date &lt;date&gt; | type &lt;chr&gt; | co &lt;chr&gt; | quan &lt;dbl&gt; | pps &lt;dbl&gt; | basis &lt;dbl&gt; | sale_quan &lt;dbl&gt; | flag &lt;lgl&gt; | buy_cf_quan &lt;dbl&gt; | ⋯ ⋯ | buy_pps &lt;dbl&gt; | buy_basis &lt;dbl&gt; | sell_quan &lt;dbl&gt; | sell_pps &lt;dbl&gt; | sell_basis &lt;dbl&gt; | profit_loss &lt;dbl&gt; | sold_cf_quan &lt;dbl&gt; | sold_cf_pps &lt;dbl&gt; | sold_cf_basis &lt;dbl&gt; | true_false &lt;dbl&gt; |\n",
       "|---|---|---|---|---|---|---|---|---|---|---|---|---|---|---|---|---|---|---|---|---|---|\n",
       "| 3 | 10 | 2023-02-21 | Sell | AMC | 1950 | 5.5124 | 10749.18 | 0 | FALSE | 0 | ⋯ | 0 | 0 | 0 | 0 | 0 | 0 | 0 | 0 | 0 | 0 |\n",
       "| 4 | 16 | 2023-02-22 | Sell | AMC | 6000 | 6.6150 | 39690.00 | 0 | FALSE | 0 | ⋯ | 0 | 0 | 0 | 0 | 0 | 0 | 0 | 0 | 0 | 0 |\n",
       "| 5 | 18 | 2023-02-27 | Sell | AMC | 3000 | 7.8160 | 23448.00 | 0 | FALSE | 0 | ⋯ | 0 | 0 | 0 | 0 | 0 | 0 | 0 | 0 | 0 | 0 |\n",
       "| 6 | 19 | 2023-02-27 | Sell | AMC | 1850 | 7.5850 | 14032.25 | 0 | FALSE | 0 | ⋯ | 0 | 0 | 0 | 0 | 0 | 0 | 0 | 0 | 0 | 0 |\n",
       "| 7 | 20 | 2023-02-27 | Sell | AMC | 1000 | 7.8160 |  7816.00 | 0 | FALSE | 0 | ⋯ | 0 | 0 | 0 | 0 | 0 | 0 | 0 | 0 | 0 | 0 |\n",
       "\n"
      ],
      "text/plain": [
       "  index date       type co  quan pps    basis    sale_quan flag  buy_cf_quan ⋯\n",
       "3 10    2023-02-21 Sell AMC 1950 5.5124 10749.18 0         FALSE 0           ⋯\n",
       "4 16    2023-02-22 Sell AMC 6000 6.6150 39690.00 0         FALSE 0           ⋯\n",
       "5 18    2023-02-27 Sell AMC 3000 7.8160 23448.00 0         FALSE 0           ⋯\n",
       "6 19    2023-02-27 Sell AMC 1850 7.5850 14032.25 0         FALSE 0           ⋯\n",
       "7 20    2023-02-27 Sell AMC 1000 7.8160  7816.00 0         FALSE 0           ⋯\n",
       "  buy_pps buy_basis sell_quan sell_pps sell_basis profit_loss sold_cf_quan\n",
       "3 0       0         0         0        0          0           0           \n",
       "4 0       0         0         0        0          0           0           \n",
       "5 0       0         0         0        0          0           0           \n",
       "6 0       0         0         0        0          0           0           \n",
       "7 0       0         0         0        0          0           0           \n",
       "  sold_cf_pps sold_cf_basis true_false\n",
       "3 0           0             0         \n",
       "4 0           0             0         \n",
       "5 0           0             0         \n",
       "6 0           0             0         \n",
       "7 0           0             0         "
      ]
     },
     "metadata": {},
     "output_type": "display_data"
    }
   ],
   "source": [
    "head(buys,5)\n",
    "head(sells,5)"
   ]
  },
  {
   "cell_type": "markdown",
   "id": "acb6158b-35f4-4944-867b-2bcc5c304086",
   "metadata": {},
   "source": [
    "#### <font color = yellow> 4. Update buys or sells with a new row (add_row) - whenever a transaction (loop) includes  c/f\n",
    "    \n",
    "###### Uses add_row () to transform any existing carryforward (buy or sell type) into the next element that will be processed for next (loop) buy/sell transaction\n",
    "\n"
   ]
  },
  {
   "cell_type": "code",
   "execution_count": 111,
   "id": "270a8e3f-fe1a-4211-b5f2-e92c3dab00bd",
   "metadata": {},
   "outputs": [
    {
     "name": "stdout",
     "output_type": "stream",
     "text": [
      "\n",
      " There is Buy carryforward. Update buys  50 \n",
      "the s2cf_quan is:  5950 \n",
      "the s2cf_pps is  6.615 \n",
      "printing updated buys[1 ], dim of buys increases with c/f  \n"
     ]
    }
   ],
   "source": [
    "# fct call\n",
    "return_list <- update_buys_sells(buys, sells)\n",
    "\n",
    "# returned the updated to buys / sells\n",
    "buys <- return_list[[1]]\n",
    "sells <- return_list[[2]]\n",
    "\n",
    "#dim(buys)\n",
    "# dim(sells)\n"
   ]
  },
  {
   "cell_type": "code",
   "execution_count": 112,
   "id": "c0e3de04-e193-44d6-a46f-5b203a0320bb",
   "metadata": {},
   "outputs": [
    {
     "data": {
      "text/html": [
       "<table class=\"dataframe\">\n",
       "<caption>A data.frame: 5 × 23</caption>\n",
       "<thead>\n",
       "\t<tr><th></th><th scope=col>index</th><th scope=col>date</th><th scope=col>type</th><th scope=col>co</th><th scope=col>quan</th><th scope=col>pps</th><th scope=col>basis</th><th scope=col>sale_quan</th><th scope=col>flag</th><th scope=col>buy_cf_quan</th><th scope=col>⋯</th><th scope=col>buy_pps</th><th scope=col>buy_basis</th><th scope=col>sell_quan</th><th scope=col>sell_pps</th><th scope=col>sell_basis</th><th scope=col>profit_loss</th><th scope=col>sold_cf_quan</th><th scope=col>sold_cf_pps</th><th scope=col>sold_cf_basis</th><th scope=col>true_false</th></tr>\n",
       "\t<tr><th></th><th scope=col>&lt;int&gt;</th><th scope=col>&lt;date&gt;</th><th scope=col>&lt;chr&gt;</th><th scope=col>&lt;chr&gt;</th><th scope=col>&lt;dbl&gt;</th><th scope=col>&lt;dbl&gt;</th><th scope=col>&lt;dbl&gt;</th><th scope=col>&lt;dbl&gt;</th><th scope=col>&lt;lgl&gt;</th><th scope=col>&lt;dbl&gt;</th><th scope=col>⋯</th><th scope=col>&lt;dbl&gt;</th><th scope=col>&lt;dbl&gt;</th><th scope=col>&lt;dbl&gt;</th><th scope=col>&lt;dbl&gt;</th><th scope=col>&lt;dbl&gt;</th><th scope=col>&lt;dbl&gt;</th><th scope=col>&lt;dbl&gt;</th><th scope=col>&lt;dbl&gt;</th><th scope=col>&lt;dbl&gt;</th><th scope=col>&lt;dbl&gt;</th></tr>\n",
       "</thead>\n",
       "<tbody>\n",
       "\t<tr><th scope=row>1</th><td> 9</td><td>2023-02-10</td><td>Buy   </td><td>AMC</td><td>2000</td><td>4.7450</td><td> 9490.00</td><td>0</td><td> TRUE</td><td>0</td><td>⋯</td><td>0</td><td>0</td><td>0</td><td>0</td><td>0</td><td>0</td><td>0</td><td>0</td><td>0</td><td>0</td></tr>\n",
       "\t<tr><th scope=row>2</th><td> 9</td><td>2023-02-10</td><td>Buy CF</td><td>AMC</td><td>  50</td><td>4.7450</td><td>  237.25</td><td>0</td><td> TRUE</td><td>0</td><td>⋯</td><td>0</td><td>0</td><td>0</td><td>0</td><td>0</td><td>0</td><td>0</td><td>0</td><td>0</td><td>0</td></tr>\n",
       "\t<tr><th scope=row>3</th><td>11</td><td>2023-02-10</td><td>Buy   </td><td>AMC</td><td>1000</td><td>4.7800</td><td> 4780.00</td><td>0</td><td>FALSE</td><td>0</td><td>⋯</td><td>0</td><td>0</td><td>0</td><td>0</td><td>0</td><td>0</td><td>0</td><td>0</td><td>0</td><td>0</td></tr>\n",
       "\t<tr><th scope=row>4</th><td>12</td><td>2023-02-13</td><td>Buy   </td><td>AMC</td><td>3000</td><td>4.7296</td><td>14188.80</td><td>0</td><td>FALSE</td><td>0</td><td>⋯</td><td>0</td><td>0</td><td>0</td><td>0</td><td>0</td><td>0</td><td>0</td><td>0</td><td>0</td><td>0</td></tr>\n",
       "\t<tr><th scope=row>5</th><td>13</td><td>2023-02-13</td><td>Buy   </td><td>AMC</td><td>1500</td><td>4.7183</td><td> 7077.45</td><td>0</td><td>FALSE</td><td>0</td><td>⋯</td><td>0</td><td>0</td><td>0</td><td>0</td><td>0</td><td>0</td><td>0</td><td>0</td><td>0</td><td>0</td></tr>\n",
       "</tbody>\n",
       "</table>\n"
      ],
      "text/latex": [
       "A data.frame: 5 × 23\n",
       "\\begin{tabular}{r|lllllllllllllllllllll}\n",
       "  & index & date & type & co & quan & pps & basis & sale\\_quan & flag & buy\\_cf\\_quan & ⋯ & buy\\_pps & buy\\_basis & sell\\_quan & sell\\_pps & sell\\_basis & profit\\_loss & sold\\_cf\\_quan & sold\\_cf\\_pps & sold\\_cf\\_basis & true\\_false\\\\\n",
       "  & <int> & <date> & <chr> & <chr> & <dbl> & <dbl> & <dbl> & <dbl> & <lgl> & <dbl> & ⋯ & <dbl> & <dbl> & <dbl> & <dbl> & <dbl> & <dbl> & <dbl> & <dbl> & <dbl> & <dbl>\\\\\n",
       "\\hline\n",
       "\t1 &  9 & 2023-02-10 & Buy    & AMC & 2000 & 4.7450 &  9490.00 & 0 &  TRUE & 0 & ⋯ & 0 & 0 & 0 & 0 & 0 & 0 & 0 & 0 & 0 & 0\\\\\n",
       "\t2 &  9 & 2023-02-10 & Buy CF & AMC &   50 & 4.7450 &   237.25 & 0 &  TRUE & 0 & ⋯ & 0 & 0 & 0 & 0 & 0 & 0 & 0 & 0 & 0 & 0\\\\\n",
       "\t3 & 11 & 2023-02-10 & Buy    & AMC & 1000 & 4.7800 &  4780.00 & 0 & FALSE & 0 & ⋯ & 0 & 0 & 0 & 0 & 0 & 0 & 0 & 0 & 0 & 0\\\\\n",
       "\t4 & 12 & 2023-02-13 & Buy    & AMC & 3000 & 4.7296 & 14188.80 & 0 & FALSE & 0 & ⋯ & 0 & 0 & 0 & 0 & 0 & 0 & 0 & 0 & 0 & 0\\\\\n",
       "\t5 & 13 & 2023-02-13 & Buy    & AMC & 1500 & 4.7183 &  7077.45 & 0 & FALSE & 0 & ⋯ & 0 & 0 & 0 & 0 & 0 & 0 & 0 & 0 & 0 & 0\\\\\n",
       "\\end{tabular}\n"
      ],
      "text/markdown": [
       "\n",
       "A data.frame: 5 × 23\n",
       "\n",
       "| <!--/--> | index &lt;int&gt; | date &lt;date&gt; | type &lt;chr&gt; | co &lt;chr&gt; | quan &lt;dbl&gt; | pps &lt;dbl&gt; | basis &lt;dbl&gt; | sale_quan &lt;dbl&gt; | flag &lt;lgl&gt; | buy_cf_quan &lt;dbl&gt; | ⋯ ⋯ | buy_pps &lt;dbl&gt; | buy_basis &lt;dbl&gt; | sell_quan &lt;dbl&gt; | sell_pps &lt;dbl&gt; | sell_basis &lt;dbl&gt; | profit_loss &lt;dbl&gt; | sold_cf_quan &lt;dbl&gt; | sold_cf_pps &lt;dbl&gt; | sold_cf_basis &lt;dbl&gt; | true_false &lt;dbl&gt; |\n",
       "|---|---|---|---|---|---|---|---|---|---|---|---|---|---|---|---|---|---|---|---|---|---|\n",
       "| 1 |  9 | 2023-02-10 | Buy    | AMC | 2000 | 4.7450 |  9490.00 | 0 |  TRUE | 0 | ⋯ | 0 | 0 | 0 | 0 | 0 | 0 | 0 | 0 | 0 | 0 |\n",
       "| 2 |  9 | 2023-02-10 | Buy CF | AMC |   50 | 4.7450 |   237.25 | 0 |  TRUE | 0 | ⋯ | 0 | 0 | 0 | 0 | 0 | 0 | 0 | 0 | 0 | 0 |\n",
       "| 3 | 11 | 2023-02-10 | Buy    | AMC | 1000 | 4.7800 |  4780.00 | 0 | FALSE | 0 | ⋯ | 0 | 0 | 0 | 0 | 0 | 0 | 0 | 0 | 0 | 0 |\n",
       "| 4 | 12 | 2023-02-13 | Buy    | AMC | 3000 | 4.7296 | 14188.80 | 0 | FALSE | 0 | ⋯ | 0 | 0 | 0 | 0 | 0 | 0 | 0 | 0 | 0 | 0 |\n",
       "| 5 | 13 | 2023-02-13 | Buy    | AMC | 1500 | 4.7183 |  7077.45 | 0 | FALSE | 0 | ⋯ | 0 | 0 | 0 | 0 | 0 | 0 | 0 | 0 | 0 | 0 |\n",
       "\n"
      ],
      "text/plain": [
       "  index date       type   co  quan pps    basis    sale_quan flag  buy_cf_quan\n",
       "1  9    2023-02-10 Buy    AMC 2000 4.7450  9490.00 0          TRUE 0          \n",
       "2  9    2023-02-10 Buy CF AMC   50 4.7450   237.25 0          TRUE 0          \n",
       "3 11    2023-02-10 Buy    AMC 1000 4.7800  4780.00 0         FALSE 0          \n",
       "4 12    2023-02-13 Buy    AMC 3000 4.7296 14188.80 0         FALSE 0          \n",
       "5 13    2023-02-13 Buy    AMC 1500 4.7183  7077.45 0         FALSE 0          \n",
       "  ⋯ buy_pps buy_basis sell_quan sell_pps sell_basis profit_loss sold_cf_quan\n",
       "1 ⋯ 0       0         0         0        0          0           0           \n",
       "2 ⋯ 0       0         0         0        0          0           0           \n",
       "3 ⋯ 0       0         0         0        0          0           0           \n",
       "4 ⋯ 0       0         0         0        0          0           0           \n",
       "5 ⋯ 0       0         0         0        0          0           0           \n",
       "  sold_cf_pps sold_cf_basis true_false\n",
       "1 0           0             0         \n",
       "2 0           0             0         \n",
       "3 0           0             0         \n",
       "4 0           0             0         \n",
       "5 0           0             0         "
      ]
     },
     "metadata": {},
     "output_type": "display_data"
    },
    {
     "data": {
      "text/html": [
       "<table class=\"dataframe\">\n",
       "<caption>A data.frame: 5 × 23</caption>\n",
       "<thead>\n",
       "\t<tr><th></th><th scope=col>index</th><th scope=col>date</th><th scope=col>type</th><th scope=col>co</th><th scope=col>quan</th><th scope=col>pps</th><th scope=col>basis</th><th scope=col>sale_quan</th><th scope=col>flag</th><th scope=col>buy_cf_quan</th><th scope=col>⋯</th><th scope=col>buy_pps</th><th scope=col>buy_basis</th><th scope=col>sell_quan</th><th scope=col>sell_pps</th><th scope=col>sell_basis</th><th scope=col>profit_loss</th><th scope=col>sold_cf_quan</th><th scope=col>sold_cf_pps</th><th scope=col>sold_cf_basis</th><th scope=col>true_false</th></tr>\n",
       "\t<tr><th></th><th scope=col>&lt;int&gt;</th><th scope=col>&lt;date&gt;</th><th scope=col>&lt;chr&gt;</th><th scope=col>&lt;chr&gt;</th><th scope=col>&lt;dbl&gt;</th><th scope=col>&lt;dbl&gt;</th><th scope=col>&lt;dbl&gt;</th><th scope=col>&lt;dbl&gt;</th><th scope=col>&lt;lgl&gt;</th><th scope=col>&lt;dbl&gt;</th><th scope=col>⋯</th><th scope=col>&lt;dbl&gt;</th><th scope=col>&lt;dbl&gt;</th><th scope=col>&lt;dbl&gt;</th><th scope=col>&lt;dbl&gt;</th><th scope=col>&lt;dbl&gt;</th><th scope=col>&lt;dbl&gt;</th><th scope=col>&lt;dbl&gt;</th><th scope=col>&lt;dbl&gt;</th><th scope=col>&lt;dbl&gt;</th><th scope=col>&lt;dbl&gt;</th></tr>\n",
       "</thead>\n",
       "<tbody>\n",
       "\t<tr><th scope=row>1</th><td> 9</td><td>2023-02-10</td><td>Sell CF</td><td>AMC</td><td>  50</td><td>5.5124</td><td>    5.5124</td><td>0</td><td> TRUE</td><td>0</td><td>⋯</td><td>0</td><td>0</td><td>0</td><td>0</td><td>0</td><td>0</td><td>0</td><td>0</td><td>0</td><td>0</td></tr>\n",
       "\t<tr><th scope=row>2</th><td>10</td><td>2023-02-21</td><td>Sell   </td><td>AMC</td><td>1950</td><td>5.5124</td><td>10749.1800</td><td>0</td><td>FALSE</td><td>0</td><td>⋯</td><td>0</td><td>0</td><td>0</td><td>0</td><td>0</td><td>0</td><td>0</td><td>0</td><td>0</td><td>0</td></tr>\n",
       "\t<tr><th scope=row>3</th><td>16</td><td>2023-02-22</td><td>Sell   </td><td>AMC</td><td>5950</td><td>5.5124</td><td>32798.7800</td><td>0</td><td>FALSE</td><td>0</td><td>⋯</td><td>0</td><td>0</td><td>0</td><td>0</td><td>0</td><td>0</td><td>0</td><td>0</td><td>0</td><td>0</td></tr>\n",
       "\t<tr><th scope=row>4</th><td>18</td><td>2023-02-27</td><td>Sell   </td><td>AMC</td><td>3000</td><td>7.8160</td><td>23448.0000</td><td>0</td><td>FALSE</td><td>0</td><td>⋯</td><td>0</td><td>0</td><td>0</td><td>0</td><td>0</td><td>0</td><td>0</td><td>0</td><td>0</td><td>0</td></tr>\n",
       "\t<tr><th scope=row>5</th><td>19</td><td>2023-02-27</td><td>Sell   </td><td>AMC</td><td>1850</td><td>7.5850</td><td>14032.2500</td><td>0</td><td>FALSE</td><td>0</td><td>⋯</td><td>0</td><td>0</td><td>0</td><td>0</td><td>0</td><td>0</td><td>0</td><td>0</td><td>0</td><td>0</td></tr>\n",
       "</tbody>\n",
       "</table>\n"
      ],
      "text/latex": [
       "A data.frame: 5 × 23\n",
       "\\begin{tabular}{r|lllllllllllllllllllll}\n",
       "  & index & date & type & co & quan & pps & basis & sale\\_quan & flag & buy\\_cf\\_quan & ⋯ & buy\\_pps & buy\\_basis & sell\\_quan & sell\\_pps & sell\\_basis & profit\\_loss & sold\\_cf\\_quan & sold\\_cf\\_pps & sold\\_cf\\_basis & true\\_false\\\\\n",
       "  & <int> & <date> & <chr> & <chr> & <dbl> & <dbl> & <dbl> & <dbl> & <lgl> & <dbl> & ⋯ & <dbl> & <dbl> & <dbl> & <dbl> & <dbl> & <dbl> & <dbl> & <dbl> & <dbl> & <dbl>\\\\\n",
       "\\hline\n",
       "\t1 &  9 & 2023-02-10 & Sell CF & AMC &   50 & 5.5124 &     5.5124 & 0 &  TRUE & 0 & ⋯ & 0 & 0 & 0 & 0 & 0 & 0 & 0 & 0 & 0 & 0\\\\\n",
       "\t2 & 10 & 2023-02-21 & Sell    & AMC & 1950 & 5.5124 & 10749.1800 & 0 & FALSE & 0 & ⋯ & 0 & 0 & 0 & 0 & 0 & 0 & 0 & 0 & 0 & 0\\\\\n",
       "\t3 & 16 & 2023-02-22 & Sell    & AMC & 5950 & 5.5124 & 32798.7800 & 0 & FALSE & 0 & ⋯ & 0 & 0 & 0 & 0 & 0 & 0 & 0 & 0 & 0 & 0\\\\\n",
       "\t4 & 18 & 2023-02-27 & Sell    & AMC & 3000 & 7.8160 & 23448.0000 & 0 & FALSE & 0 & ⋯ & 0 & 0 & 0 & 0 & 0 & 0 & 0 & 0 & 0 & 0\\\\\n",
       "\t5 & 19 & 2023-02-27 & Sell    & AMC & 1850 & 7.5850 & 14032.2500 & 0 & FALSE & 0 & ⋯ & 0 & 0 & 0 & 0 & 0 & 0 & 0 & 0 & 0 & 0\\\\\n",
       "\\end{tabular}\n"
      ],
      "text/markdown": [
       "\n",
       "A data.frame: 5 × 23\n",
       "\n",
       "| <!--/--> | index &lt;int&gt; | date &lt;date&gt; | type &lt;chr&gt; | co &lt;chr&gt; | quan &lt;dbl&gt; | pps &lt;dbl&gt; | basis &lt;dbl&gt; | sale_quan &lt;dbl&gt; | flag &lt;lgl&gt; | buy_cf_quan &lt;dbl&gt; | ⋯ ⋯ | buy_pps &lt;dbl&gt; | buy_basis &lt;dbl&gt; | sell_quan &lt;dbl&gt; | sell_pps &lt;dbl&gt; | sell_basis &lt;dbl&gt; | profit_loss &lt;dbl&gt; | sold_cf_quan &lt;dbl&gt; | sold_cf_pps &lt;dbl&gt; | sold_cf_basis &lt;dbl&gt; | true_false &lt;dbl&gt; |\n",
       "|---|---|---|---|---|---|---|---|---|---|---|---|---|---|---|---|---|---|---|---|---|---|\n",
       "| 1 |  9 | 2023-02-10 | Sell CF | AMC |   50 | 5.5124 |     5.5124 | 0 |  TRUE | 0 | ⋯ | 0 | 0 | 0 | 0 | 0 | 0 | 0 | 0 | 0 | 0 |\n",
       "| 2 | 10 | 2023-02-21 | Sell    | AMC | 1950 | 5.5124 | 10749.1800 | 0 | FALSE | 0 | ⋯ | 0 | 0 | 0 | 0 | 0 | 0 | 0 | 0 | 0 | 0 |\n",
       "| 3 | 16 | 2023-02-22 | Sell    | AMC | 5950 | 5.5124 | 32798.7800 | 0 | FALSE | 0 | ⋯ | 0 | 0 | 0 | 0 | 0 | 0 | 0 | 0 | 0 | 0 |\n",
       "| 4 | 18 | 2023-02-27 | Sell    | AMC | 3000 | 7.8160 | 23448.0000 | 0 | FALSE | 0 | ⋯ | 0 | 0 | 0 | 0 | 0 | 0 | 0 | 0 | 0 | 0 |\n",
       "| 5 | 19 | 2023-02-27 | Sell    | AMC | 1850 | 7.5850 | 14032.2500 | 0 | FALSE | 0 | ⋯ | 0 | 0 | 0 | 0 | 0 | 0 | 0 | 0 | 0 | 0 |\n",
       "\n"
      ],
      "text/plain": [
       "  index date       type    co  quan pps    basis      sale_quan flag \n",
       "1  9    2023-02-10 Sell CF AMC   50 5.5124     5.5124 0          TRUE\n",
       "2 10    2023-02-21 Sell    AMC 1950 5.5124 10749.1800 0         FALSE\n",
       "3 16    2023-02-22 Sell    AMC 5950 5.5124 32798.7800 0         FALSE\n",
       "4 18    2023-02-27 Sell    AMC 3000 7.8160 23448.0000 0         FALSE\n",
       "5 19    2023-02-27 Sell    AMC 1850 7.5850 14032.2500 0         FALSE\n",
       "  buy_cf_quan ⋯ buy_pps buy_basis sell_quan sell_pps sell_basis profit_loss\n",
       "1 0           ⋯ 0       0         0         0        0          0          \n",
       "2 0           ⋯ 0       0         0         0        0          0          \n",
       "3 0           ⋯ 0       0         0         0        0          0          \n",
       "4 0           ⋯ 0       0         0         0        0          0          \n",
       "5 0           ⋯ 0       0         0         0        0          0          \n",
       "  sold_cf_quan sold_cf_pps sold_cf_basis true_false\n",
       "1 0            0           0             0         \n",
       "2 0            0           0             0         \n",
       "3 0            0           0             0         \n",
       "4 0            0           0             0         \n",
       "5 0            0           0             0         "
      ]
     },
     "metadata": {},
     "output_type": "display_data"
    }
   ],
   "source": [
    "head(buys,5)\n",
    "head(sells,5)"
   ]
  },
  {
   "cell_type": "code",
   "execution_count": null,
   "id": "de8a3a17-0534-461f-a3f1-593f65a4c80e",
   "metadata": {},
   "outputs": [],
   "source": []
  },
  {
   "cell_type": "markdown",
   "id": "676bf625-cced-4af2-9d7f-1f0731cada2b",
   "metadata": {},
   "source": [
    "#### <font color = yellow>5. snips () Create a new variable from buys/sells row 1, then delete row 1 from buys and sells (copy_snip () )"
   ]
  },
  {
   "cell_type": "code",
   "execution_count": 113,
   "id": "b26ea6b6-3e7d-494f-8e57-22c4db498172",
   "metadata": {},
   "outputs": [
    {
     "name": "stdout",
     "output_type": "stream",
     "text": [
      " Contains buy carryforward - remove buys c/f row and DO snip sells \n"
     ]
    }
   ],
   "source": [
    "copy_snip_list <- copy_snip(b, s, buys, sells) \n",
    "\n",
    "b1 <- copy_snip_list[[1]]\n",
    "s1 <- copy_snip_list[[2]]\n",
    "buys <- copy_snip_list[[3]]\n",
    "sells <- copy_snip_list[[4]]\n",
    "\n",
    "# after\n",
    "# dim(buys)\n",
    "# dim(sells)\n",
    "# # b1\n",
    "# s1\n",
    "\n"
   ]
  },
  {
   "cell_type": "code",
   "execution_count": null,
   "id": "c69ec627-8dcb-441f-917c-ba277e4d7a6a",
   "metadata": {},
   "outputs": [],
   "source": []
  },
  {
   "cell_type": "markdown",
   "id": "46afa76a-db54-4d1a-be92-22f7d6383305",
   "metadata": {},
   "source": [
    "#### <font color = lime> QC: Loop 9 review buys & sells"
   ]
  },
  {
   "cell_type": "code",
   "execution_count": 114,
   "id": "0fb03500-1954-4442-8354-d5148362e375",
   "metadata": {},
   "outputs": [
    {
     "data": {
      "text/html": [
       "<table class=\"dataframe\">\n",
       "<caption>A data.frame: 9 × 23</caption>\n",
       "<thead>\n",
       "\t<tr><th scope=col>index</th><th scope=col>date</th><th scope=col>type</th><th scope=col>co</th><th scope=col>quan</th><th scope=col>pps</th><th scope=col>basis</th><th scope=col>sale_quan</th><th scope=col>flag</th><th scope=col>buy_cf_quan</th><th scope=col>⋯</th><th scope=col>buy_pps</th><th scope=col>buy_basis</th><th scope=col>sell_quan</th><th scope=col>sell_pps</th><th scope=col>sell_basis</th><th scope=col>profit_loss</th><th scope=col>sold_cf_quan</th><th scope=col>sold_cf_pps</th><th scope=col>sold_cf_basis</th><th scope=col>true_false</th></tr>\n",
       "\t<tr><th scope=col>&lt;int&gt;</th><th scope=col>&lt;date&gt;</th><th scope=col>&lt;chr&gt;</th><th scope=col>&lt;chr&gt;</th><th scope=col>&lt;dbl&gt;</th><th scope=col>&lt;dbl&gt;</th><th scope=col>&lt;dbl&gt;</th><th scope=col>&lt;dbl&gt;</th><th scope=col>&lt;lgl&gt;</th><th scope=col>&lt;dbl&gt;</th><th scope=col>⋯</th><th scope=col>&lt;dbl&gt;</th><th scope=col>&lt;dbl&gt;</th><th scope=col>&lt;dbl&gt;</th><th scope=col>&lt;dbl&gt;</th><th scope=col>&lt;dbl&gt;</th><th scope=col>&lt;dbl&gt;</th><th scope=col>&lt;dbl&gt;</th><th scope=col>&lt;dbl&gt;</th><th scope=col>&lt;dbl&gt;</th><th scope=col>&lt;dbl&gt;</th></tr>\n",
       "</thead>\n",
       "<tbody>\n",
       "\t<tr><td>9</td><td>2023-02-10</td><td>Buy   </td><td>AMC </td><td>2000</td><td>4.7450</td><td> 9490.00</td><td>1950</td><td>TRUE</td><td>0</td><td>⋯</td><td>4.7450</td><td>9252.75</td><td>1950</td><td>5.5124</td><td>10749.18</td><td>1496.43</td><td>  50</td><td>4.7450</td><td> 237.25</td><td>0</td></tr>\n",
       "\t<tr><td>7</td><td>2023-01-27</td><td>Buy CF</td><td>CFCF</td><td>1050</td><td>5.2394</td><td> 5501.37</td><td>   0</td><td>TRUE</td><td>0</td><td>⋯</td><td>5.2394</td><td>5501.37</td><td>1050</td><td>5.5124</td><td> 5788.02</td><td> 286.65</td><td>   0</td><td>0.0000</td><td>   0.00</td><td>1</td></tr>\n",
       "\t<tr><td>7</td><td>2023-01-27</td><td>Buy   </td><td>AMC </td><td>2000</td><td>5.2394</td><td>10478.80</td><td> 950</td><td>TRUE</td><td>0</td><td>⋯</td><td>5.2394</td><td>4977.43</td><td> 950</td><td>5.5124</td><td> 5236.78</td><td> 259.35</td><td>1050</td><td>5.2394</td><td>5501.37</td><td>0</td></tr>\n",
       "\t<tr><td>5</td><td>2023-01-23</td><td>Buy CF</td><td>CFCF</td><td>  50</td><td>5.7880</td><td>  289.40</td><td>   0</td><td>TRUE</td><td>0</td><td>⋯</td><td>5.7880</td><td> 289.40</td><td>  50</td><td>5.5124</td><td>  275.62</td><td> -13.78</td><td>   0</td><td>0.0000</td><td>   0.00</td><td>1</td></tr>\n",
       "\t<tr><td>5</td><td>2023-01-23</td><td>Buy   </td><td>AMC </td><td>1000</td><td>5.7880</td><td> 5788.00</td><td> 950</td><td>TRUE</td><td>0</td><td>⋯</td><td>5.7880</td><td>5498.60</td><td> 950</td><td>5.5124</td><td> 5236.78</td><td>-261.82</td><td>  50</td><td>5.7880</td><td> 289.40</td><td>0</td></tr>\n",
       "\t<tr><td>3</td><td>2023-01-20</td><td>Buy CF</td><td>CFCF</td><td>  50</td><td>5.6250</td><td>  281.25</td><td>   0</td><td>TRUE</td><td>0</td><td>⋯</td><td>5.6250</td><td> 281.25</td><td>  50</td><td>5.5124</td><td>  275.62</td><td>  -5.63</td><td>   0</td><td>0.0000</td><td>   0.00</td><td>1</td></tr>\n",
       "\t<tr><td>3</td><td>2023-01-20</td><td>Buy   </td><td>AMC </td><td>1000</td><td>5.6250</td><td> 5625.00</td><td> 950</td><td>TRUE</td><td>0</td><td>⋯</td><td>5.6250</td><td>5343.75</td><td> 950</td><td>5.5124</td><td> 5236.78</td><td>-106.97</td><td>  50</td><td>5.6250</td><td> 281.25</td><td>0</td></tr>\n",
       "\t<tr><td>1</td><td>2022-12-31</td><td>Buy CF</td><td>CFCF</td><td>  50</td><td>4.0700</td><td>  203.50</td><td>   0</td><td>TRUE</td><td>0</td><td>⋯</td><td>4.0700</td><td> 203.50</td><td>  50</td><td>5.5124</td><td>  275.62</td><td>  72.12</td><td>   0</td><td>0.0000</td><td>   0.00</td><td>1</td></tr>\n",
       "\t<tr><td>1</td><td>2022-12-31</td><td>Buy   </td><td>AMC </td><td>1050</td><td>4.0700</td><td> 4273.50</td><td>1000</td><td>TRUE</td><td>0</td><td>⋯</td><td>4.0700</td><td>4070.00</td><td>1000</td><td>5.5124</td><td> 5512.40</td><td>1442.40</td><td>  50</td><td>4.0700</td><td> 203.50</td><td>0</td></tr>\n",
       "</tbody>\n",
       "</table>\n"
      ],
      "text/latex": [
       "A data.frame: 9 × 23\n",
       "\\begin{tabular}{lllllllllllllllllllll}\n",
       " index & date & type & co & quan & pps & basis & sale\\_quan & flag & buy\\_cf\\_quan & ⋯ & buy\\_pps & buy\\_basis & sell\\_quan & sell\\_pps & sell\\_basis & profit\\_loss & sold\\_cf\\_quan & sold\\_cf\\_pps & sold\\_cf\\_basis & true\\_false\\\\\n",
       " <int> & <date> & <chr> & <chr> & <dbl> & <dbl> & <dbl> & <dbl> & <lgl> & <dbl> & ⋯ & <dbl> & <dbl> & <dbl> & <dbl> & <dbl> & <dbl> & <dbl> & <dbl> & <dbl> & <dbl>\\\\\n",
       "\\hline\n",
       "\t 9 & 2023-02-10 & Buy    & AMC  & 2000 & 4.7450 &  9490.00 & 1950 & TRUE & 0 & ⋯ & 4.7450 & 9252.75 & 1950 & 5.5124 & 10749.18 & 1496.43 &   50 & 4.7450 &  237.25 & 0\\\\\n",
       "\t 7 & 2023-01-27 & Buy CF & CFCF & 1050 & 5.2394 &  5501.37 &    0 & TRUE & 0 & ⋯ & 5.2394 & 5501.37 & 1050 & 5.5124 &  5788.02 &  286.65 &    0 & 0.0000 &    0.00 & 1\\\\\n",
       "\t 7 & 2023-01-27 & Buy    & AMC  & 2000 & 5.2394 & 10478.80 &  950 & TRUE & 0 & ⋯ & 5.2394 & 4977.43 &  950 & 5.5124 &  5236.78 &  259.35 & 1050 & 5.2394 & 5501.37 & 0\\\\\n",
       "\t 5 & 2023-01-23 & Buy CF & CFCF &   50 & 5.7880 &   289.40 &    0 & TRUE & 0 & ⋯ & 5.7880 &  289.40 &   50 & 5.5124 &   275.62 &  -13.78 &    0 & 0.0000 &    0.00 & 1\\\\\n",
       "\t 5 & 2023-01-23 & Buy    & AMC  & 1000 & 5.7880 &  5788.00 &  950 & TRUE & 0 & ⋯ & 5.7880 & 5498.60 &  950 & 5.5124 &  5236.78 & -261.82 &   50 & 5.7880 &  289.40 & 0\\\\\n",
       "\t 3 & 2023-01-20 & Buy CF & CFCF &   50 & 5.6250 &   281.25 &    0 & TRUE & 0 & ⋯ & 5.6250 &  281.25 &   50 & 5.5124 &   275.62 &   -5.63 &    0 & 0.0000 &    0.00 & 1\\\\\n",
       "\t 3 & 2023-01-20 & Buy    & AMC  & 1000 & 5.6250 &  5625.00 &  950 & TRUE & 0 & ⋯ & 5.6250 & 5343.75 &  950 & 5.5124 &  5236.78 & -106.97 &   50 & 5.6250 &  281.25 & 0\\\\\n",
       "\t 1 & 2022-12-31 & Buy CF & CFCF &   50 & 4.0700 &   203.50 &    0 & TRUE & 0 & ⋯ & 4.0700 &  203.50 &   50 & 5.5124 &   275.62 &   72.12 &    0 & 0.0000 &    0.00 & 1\\\\\n",
       "\t 1 & 2022-12-31 & Buy    & AMC  & 1050 & 4.0700 &  4273.50 & 1000 & TRUE & 0 & ⋯ & 4.0700 & 4070.00 & 1000 & 5.5124 &  5512.40 & 1442.40 &   50 & 4.0700 &  203.50 & 0\\\\\n",
       "\\end{tabular}\n"
      ],
      "text/markdown": [
       "\n",
       "A data.frame: 9 × 23\n",
       "\n",
       "| index &lt;int&gt; | date &lt;date&gt; | type &lt;chr&gt; | co &lt;chr&gt; | quan &lt;dbl&gt; | pps &lt;dbl&gt; | basis &lt;dbl&gt; | sale_quan &lt;dbl&gt; | flag &lt;lgl&gt; | buy_cf_quan &lt;dbl&gt; | ⋯ ⋯ | buy_pps &lt;dbl&gt; | buy_basis &lt;dbl&gt; | sell_quan &lt;dbl&gt; | sell_pps &lt;dbl&gt; | sell_basis &lt;dbl&gt; | profit_loss &lt;dbl&gt; | sold_cf_quan &lt;dbl&gt; | sold_cf_pps &lt;dbl&gt; | sold_cf_basis &lt;dbl&gt; | true_false &lt;dbl&gt; |\n",
       "|---|---|---|---|---|---|---|---|---|---|---|---|---|---|---|---|---|---|---|---|---|\n",
       "| 9 | 2023-02-10 | Buy    | AMC  | 2000 | 4.7450 |  9490.00 | 1950 | TRUE | 0 | ⋯ | 4.7450 | 9252.75 | 1950 | 5.5124 | 10749.18 | 1496.43 |   50 | 4.7450 |  237.25 | 0 |\n",
       "| 7 | 2023-01-27 | Buy CF | CFCF | 1050 | 5.2394 |  5501.37 |    0 | TRUE | 0 | ⋯ | 5.2394 | 5501.37 | 1050 | 5.5124 |  5788.02 |  286.65 |    0 | 0.0000 |    0.00 | 1 |\n",
       "| 7 | 2023-01-27 | Buy    | AMC  | 2000 | 5.2394 | 10478.80 |  950 | TRUE | 0 | ⋯ | 5.2394 | 4977.43 |  950 | 5.5124 |  5236.78 |  259.35 | 1050 | 5.2394 | 5501.37 | 0 |\n",
       "| 5 | 2023-01-23 | Buy CF | CFCF |   50 | 5.7880 |   289.40 |    0 | TRUE | 0 | ⋯ | 5.7880 |  289.40 |   50 | 5.5124 |   275.62 |  -13.78 |    0 | 0.0000 |    0.00 | 1 |\n",
       "| 5 | 2023-01-23 | Buy    | AMC  | 1000 | 5.7880 |  5788.00 |  950 | TRUE | 0 | ⋯ | 5.7880 | 5498.60 |  950 | 5.5124 |  5236.78 | -261.82 |   50 | 5.7880 |  289.40 | 0 |\n",
       "| 3 | 2023-01-20 | Buy CF | CFCF |   50 | 5.6250 |   281.25 |    0 | TRUE | 0 | ⋯ | 5.6250 |  281.25 |   50 | 5.5124 |   275.62 |   -5.63 |    0 | 0.0000 |    0.00 | 1 |\n",
       "| 3 | 2023-01-20 | Buy    | AMC  | 1000 | 5.6250 |  5625.00 |  950 | TRUE | 0 | ⋯ | 5.6250 | 5343.75 |  950 | 5.5124 |  5236.78 | -106.97 |   50 | 5.6250 |  281.25 | 0 |\n",
       "| 1 | 2022-12-31 | Buy CF | CFCF |   50 | 4.0700 |   203.50 |    0 | TRUE | 0 | ⋯ | 4.0700 |  203.50 |   50 | 5.5124 |   275.62 |   72.12 |    0 | 0.0000 |    0.00 | 1 |\n",
       "| 1 | 2022-12-31 | Buy    | AMC  | 1050 | 4.0700 |  4273.50 | 1000 | TRUE | 0 | ⋯ | 4.0700 | 4070.00 | 1000 | 5.5124 |  5512.40 | 1442.40 |   50 | 4.0700 |  203.50 | 0 |\n",
       "\n"
      ],
      "text/plain": [
       "  index date       type   co   quan pps    basis    sale_quan flag buy_cf_quan\n",
       "1 9     2023-02-10 Buy    AMC  2000 4.7450  9490.00 1950      TRUE 0          \n",
       "2 7     2023-01-27 Buy CF CFCF 1050 5.2394  5501.37    0      TRUE 0          \n",
       "3 7     2023-01-27 Buy    AMC  2000 5.2394 10478.80  950      TRUE 0          \n",
       "4 5     2023-01-23 Buy CF CFCF   50 5.7880   289.40    0      TRUE 0          \n",
       "5 5     2023-01-23 Buy    AMC  1000 5.7880  5788.00  950      TRUE 0          \n",
       "6 3     2023-01-20 Buy CF CFCF   50 5.6250   281.25    0      TRUE 0          \n",
       "7 3     2023-01-20 Buy    AMC  1000 5.6250  5625.00  950      TRUE 0          \n",
       "8 1     2022-12-31 Buy CF CFCF   50 4.0700   203.50    0      TRUE 0          \n",
       "9 1     2022-12-31 Buy    AMC  1050 4.0700  4273.50 1000      TRUE 0          \n",
       "  ⋯ buy_pps buy_basis sell_quan sell_pps sell_basis profit_loss sold_cf_quan\n",
       "1 ⋯ 4.7450  9252.75   1950      5.5124   10749.18   1496.43       50        \n",
       "2 ⋯ 5.2394  5501.37   1050      5.5124    5788.02    286.65        0        \n",
       "3 ⋯ 5.2394  4977.43    950      5.5124    5236.78    259.35     1050        \n",
       "4 ⋯ 5.7880   289.40     50      5.5124     275.62    -13.78        0        \n",
       "5 ⋯ 5.7880  5498.60    950      5.5124    5236.78   -261.82       50        \n",
       "6 ⋯ 5.6250   281.25     50      5.5124     275.62     -5.63        0        \n",
       "7 ⋯ 5.6250  5343.75    950      5.5124    5236.78   -106.97       50        \n",
       "8 ⋯ 4.0700   203.50     50      5.5124     275.62     72.12        0        \n",
       "9 ⋯ 4.0700  4070.00   1000      5.5124    5512.40   1442.40       50        \n",
       "  sold_cf_pps sold_cf_basis true_false\n",
       "1 4.7450       237.25       0         \n",
       "2 0.0000         0.00       1         \n",
       "3 5.2394      5501.37       0         \n",
       "4 0.0000         0.00       1         \n",
       "5 5.7880       289.40       0         \n",
       "6 0.0000         0.00       1         \n",
       "7 5.6250       281.25       0         \n",
       "8 0.0000         0.00       1         \n",
       "9 4.0700       203.50       0         "
      ]
     },
     "metadata": {},
     "output_type": "display_data"
    }
   ],
   "source": [
    "sale_records"
   ]
  },
  {
   "cell_type": "code",
   "execution_count": null,
   "id": "f880530a-a07b-45df-ad57-8eb2391fa7d7",
   "metadata": {},
   "outputs": [],
   "source": []
  },
  {
   "cell_type": "markdown",
   "id": "1565e66c-dfb4-4914-aaa1-095bf629f07c",
   "metadata": {},
   "source": [
    "#### <font color = lime> QC: Loop 9 review buys & sells"
   ]
  },
  {
   "cell_type": "code",
   "execution_count": 115,
   "id": "799980dd-ca8d-4808-bf1f-6cc738fcdd1b",
   "metadata": {},
   "outputs": [
    {
     "data": {
      "text/html": [
       "<style>\n",
       ".list-inline {list-style: none; margin:0; padding: 0}\n",
       ".list-inline>li {display: inline-block}\n",
       ".list-inline>li:not(:last-child)::after {content: \"\\00b7\"; padding: 0 .5ex}\n",
       "</style>\n",
       "<ol class=list-inline><li>19</li><li>23</li></ol>\n"
      ],
      "text/latex": [
       "\\begin{enumerate*}\n",
       "\\item 19\n",
       "\\item 23\n",
       "\\end{enumerate*}\n"
      ],
      "text/markdown": [
       "1. 19\n",
       "2. 23\n",
       "\n",
       "\n"
      ],
      "text/plain": [
       "[1] 19 23"
      ]
     },
     "metadata": {},
     "output_type": "display_data"
    },
    {
     "data": {
      "text/html": [
       "<style>\n",
       ".list-inline {list-style: none; margin:0; padding: 0}\n",
       ".list-inline>li {display: inline-block}\n",
       ".list-inline>li:not(:last-child)::after {content: \"\\00b7\"; padding: 0 .5ex}\n",
       "</style>\n",
       "<ol class=list-inline><li>14</li><li>23</li></ol>\n"
      ],
      "text/latex": [
       "\\begin{enumerate*}\n",
       "\\item 14\n",
       "\\item 23\n",
       "\\end{enumerate*}\n"
      ],
      "text/markdown": [
       "1. 14\n",
       "2. 23\n",
       "\n",
       "\n"
      ],
      "text/plain": [
       "[1] 14 23"
      ]
     },
     "metadata": {},
     "output_type": "display_data"
    },
    {
     "data": {
      "text/html": [
       "<table class=\"dataframe\">\n",
       "<caption>A data.frame: 4 × 23</caption>\n",
       "<thead>\n",
       "\t<tr><th></th><th scope=col>index</th><th scope=col>date</th><th scope=col>type</th><th scope=col>co</th><th scope=col>quan</th><th scope=col>pps</th><th scope=col>basis</th><th scope=col>sale_quan</th><th scope=col>flag</th><th scope=col>buy_cf_quan</th><th scope=col>⋯</th><th scope=col>buy_pps</th><th scope=col>buy_basis</th><th scope=col>sell_quan</th><th scope=col>sell_pps</th><th scope=col>sell_basis</th><th scope=col>profit_loss</th><th scope=col>sold_cf_quan</th><th scope=col>sold_cf_pps</th><th scope=col>sold_cf_basis</th><th scope=col>true_false</th></tr>\n",
       "\t<tr><th></th><th scope=col>&lt;int&gt;</th><th scope=col>&lt;date&gt;</th><th scope=col>&lt;chr&gt;</th><th scope=col>&lt;chr&gt;</th><th scope=col>&lt;dbl&gt;</th><th scope=col>&lt;dbl&gt;</th><th scope=col>&lt;dbl&gt;</th><th scope=col>&lt;dbl&gt;</th><th scope=col>&lt;lgl&gt;</th><th scope=col>&lt;dbl&gt;</th><th scope=col>⋯</th><th scope=col>&lt;dbl&gt;</th><th scope=col>&lt;dbl&gt;</th><th scope=col>&lt;dbl&gt;</th><th scope=col>&lt;dbl&gt;</th><th scope=col>&lt;dbl&gt;</th><th scope=col>&lt;dbl&gt;</th><th scope=col>&lt;dbl&gt;</th><th scope=col>&lt;dbl&gt;</th><th scope=col>&lt;dbl&gt;</th><th scope=col>&lt;dbl&gt;</th></tr>\n",
       "</thead>\n",
       "<tbody>\n",
       "\t<tr><th scope=row>2</th><td> 9</td><td>2023-02-10</td><td>Buy CF</td><td>AMC</td><td>  50</td><td>4.7450</td><td>  237.25</td><td>0</td><td> TRUE</td><td>0</td><td>⋯</td><td>0</td><td>0</td><td>0</td><td>0</td><td>0</td><td>0</td><td>0</td><td>0</td><td>0</td><td>0</td></tr>\n",
       "\t<tr><th scope=row>3</th><td>11</td><td>2023-02-10</td><td>Buy   </td><td>AMC</td><td>1000</td><td>4.7800</td><td> 4780.00</td><td>0</td><td>FALSE</td><td>0</td><td>⋯</td><td>0</td><td>0</td><td>0</td><td>0</td><td>0</td><td>0</td><td>0</td><td>0</td><td>0</td><td>0</td></tr>\n",
       "\t<tr><th scope=row>4</th><td>12</td><td>2023-02-13</td><td>Buy   </td><td>AMC</td><td>3000</td><td>4.7296</td><td>14188.80</td><td>0</td><td>FALSE</td><td>0</td><td>⋯</td><td>0</td><td>0</td><td>0</td><td>0</td><td>0</td><td>0</td><td>0</td><td>0</td><td>0</td><td>0</td></tr>\n",
       "\t<tr><th scope=row>5</th><td>13</td><td>2023-02-13</td><td>Buy   </td><td>AMC</td><td>1500</td><td>4.7183</td><td> 7077.45</td><td>0</td><td>FALSE</td><td>0</td><td>⋯</td><td>0</td><td>0</td><td>0</td><td>0</td><td>0</td><td>0</td><td>0</td><td>0</td><td>0</td><td>0</td></tr>\n",
       "</tbody>\n",
       "</table>\n"
      ],
      "text/latex": [
       "A data.frame: 4 × 23\n",
       "\\begin{tabular}{r|lllllllllllllllllllll}\n",
       "  & index & date & type & co & quan & pps & basis & sale\\_quan & flag & buy\\_cf\\_quan & ⋯ & buy\\_pps & buy\\_basis & sell\\_quan & sell\\_pps & sell\\_basis & profit\\_loss & sold\\_cf\\_quan & sold\\_cf\\_pps & sold\\_cf\\_basis & true\\_false\\\\\n",
       "  & <int> & <date> & <chr> & <chr> & <dbl> & <dbl> & <dbl> & <dbl> & <lgl> & <dbl> & ⋯ & <dbl> & <dbl> & <dbl> & <dbl> & <dbl> & <dbl> & <dbl> & <dbl> & <dbl> & <dbl>\\\\\n",
       "\\hline\n",
       "\t2 &  9 & 2023-02-10 & Buy CF & AMC &   50 & 4.7450 &   237.25 & 0 &  TRUE & 0 & ⋯ & 0 & 0 & 0 & 0 & 0 & 0 & 0 & 0 & 0 & 0\\\\\n",
       "\t3 & 11 & 2023-02-10 & Buy    & AMC & 1000 & 4.7800 &  4780.00 & 0 & FALSE & 0 & ⋯ & 0 & 0 & 0 & 0 & 0 & 0 & 0 & 0 & 0 & 0\\\\\n",
       "\t4 & 12 & 2023-02-13 & Buy    & AMC & 3000 & 4.7296 & 14188.80 & 0 & FALSE & 0 & ⋯ & 0 & 0 & 0 & 0 & 0 & 0 & 0 & 0 & 0 & 0\\\\\n",
       "\t5 & 13 & 2023-02-13 & Buy    & AMC & 1500 & 4.7183 &  7077.45 & 0 & FALSE & 0 & ⋯ & 0 & 0 & 0 & 0 & 0 & 0 & 0 & 0 & 0 & 0\\\\\n",
       "\\end{tabular}\n"
      ],
      "text/markdown": [
       "\n",
       "A data.frame: 4 × 23\n",
       "\n",
       "| <!--/--> | index &lt;int&gt; | date &lt;date&gt; | type &lt;chr&gt; | co &lt;chr&gt; | quan &lt;dbl&gt; | pps &lt;dbl&gt; | basis &lt;dbl&gt; | sale_quan &lt;dbl&gt; | flag &lt;lgl&gt; | buy_cf_quan &lt;dbl&gt; | ⋯ ⋯ | buy_pps &lt;dbl&gt; | buy_basis &lt;dbl&gt; | sell_quan &lt;dbl&gt; | sell_pps &lt;dbl&gt; | sell_basis &lt;dbl&gt; | profit_loss &lt;dbl&gt; | sold_cf_quan &lt;dbl&gt; | sold_cf_pps &lt;dbl&gt; | sold_cf_basis &lt;dbl&gt; | true_false &lt;dbl&gt; |\n",
       "|---|---|---|---|---|---|---|---|---|---|---|---|---|---|---|---|---|---|---|---|---|---|\n",
       "| 2 |  9 | 2023-02-10 | Buy CF | AMC |   50 | 4.7450 |   237.25 | 0 |  TRUE | 0 | ⋯ | 0 | 0 | 0 | 0 | 0 | 0 | 0 | 0 | 0 | 0 |\n",
       "| 3 | 11 | 2023-02-10 | Buy    | AMC | 1000 | 4.7800 |  4780.00 | 0 | FALSE | 0 | ⋯ | 0 | 0 | 0 | 0 | 0 | 0 | 0 | 0 | 0 | 0 |\n",
       "| 4 | 12 | 2023-02-13 | Buy    | AMC | 3000 | 4.7296 | 14188.80 | 0 | FALSE | 0 | ⋯ | 0 | 0 | 0 | 0 | 0 | 0 | 0 | 0 | 0 | 0 |\n",
       "| 5 | 13 | 2023-02-13 | Buy    | AMC | 1500 | 4.7183 |  7077.45 | 0 | FALSE | 0 | ⋯ | 0 | 0 | 0 | 0 | 0 | 0 | 0 | 0 | 0 | 0 |\n",
       "\n"
      ],
      "text/plain": [
       "  index date       type   co  quan pps    basis    sale_quan flag  buy_cf_quan\n",
       "2  9    2023-02-10 Buy CF AMC   50 4.7450   237.25 0          TRUE 0          \n",
       "3 11    2023-02-10 Buy    AMC 1000 4.7800  4780.00 0         FALSE 0          \n",
       "4 12    2023-02-13 Buy    AMC 3000 4.7296 14188.80 0         FALSE 0          \n",
       "5 13    2023-02-13 Buy    AMC 1500 4.7183  7077.45 0         FALSE 0          \n",
       "  ⋯ buy_pps buy_basis sell_quan sell_pps sell_basis profit_loss sold_cf_quan\n",
       "2 ⋯ 0       0         0         0        0          0           0           \n",
       "3 ⋯ 0       0         0         0        0          0           0           \n",
       "4 ⋯ 0       0         0         0        0          0           0           \n",
       "5 ⋯ 0       0         0         0        0          0           0           \n",
       "  sold_cf_pps sold_cf_basis true_false\n",
       "2 0           0             0         \n",
       "3 0           0             0         \n",
       "4 0           0             0         \n",
       "5 0           0             0         "
      ]
     },
     "metadata": {},
     "output_type": "display_data"
    },
    {
     "data": {
      "text/html": [
       "<table class=\"dataframe\">\n",
       "<caption>A data.frame: 4 × 23</caption>\n",
       "<thead>\n",
       "\t<tr><th></th><th scope=col>index</th><th scope=col>date</th><th scope=col>type</th><th scope=col>co</th><th scope=col>quan</th><th scope=col>pps</th><th scope=col>basis</th><th scope=col>sale_quan</th><th scope=col>flag</th><th scope=col>buy_cf_quan</th><th scope=col>⋯</th><th scope=col>buy_pps</th><th scope=col>buy_basis</th><th scope=col>sell_quan</th><th scope=col>sell_pps</th><th scope=col>sell_basis</th><th scope=col>profit_loss</th><th scope=col>sold_cf_quan</th><th scope=col>sold_cf_pps</th><th scope=col>sold_cf_basis</th><th scope=col>true_false</th></tr>\n",
       "\t<tr><th></th><th scope=col>&lt;int&gt;</th><th scope=col>&lt;date&gt;</th><th scope=col>&lt;chr&gt;</th><th scope=col>&lt;chr&gt;</th><th scope=col>&lt;dbl&gt;</th><th scope=col>&lt;dbl&gt;</th><th scope=col>&lt;dbl&gt;</th><th scope=col>&lt;dbl&gt;</th><th scope=col>&lt;lgl&gt;</th><th scope=col>&lt;dbl&gt;</th><th scope=col>⋯</th><th scope=col>&lt;dbl&gt;</th><th scope=col>&lt;dbl&gt;</th><th scope=col>&lt;dbl&gt;</th><th scope=col>&lt;dbl&gt;</th><th scope=col>&lt;dbl&gt;</th><th scope=col>&lt;dbl&gt;</th><th scope=col>&lt;dbl&gt;</th><th scope=col>&lt;dbl&gt;</th><th scope=col>&lt;dbl&gt;</th><th scope=col>&lt;dbl&gt;</th></tr>\n",
       "</thead>\n",
       "<tbody>\n",
       "\t<tr><th scope=row>1</th><td> 9</td><td>2023-02-10</td><td>Sell CF</td><td>AMC</td><td>  50</td><td>5.5124</td><td>    5.5124</td><td>0</td><td> TRUE</td><td>0</td><td>⋯</td><td>0</td><td>0</td><td>0</td><td>0</td><td>0</td><td>0</td><td>0</td><td>0</td><td>0</td><td>0</td></tr>\n",
       "\t<tr><th scope=row>3</th><td>16</td><td>2023-02-22</td><td>Sell   </td><td>AMC</td><td>5950</td><td>5.5124</td><td>32798.7800</td><td>0</td><td>FALSE</td><td>0</td><td>⋯</td><td>0</td><td>0</td><td>0</td><td>0</td><td>0</td><td>0</td><td>0</td><td>0</td><td>0</td><td>0</td></tr>\n",
       "\t<tr><th scope=row>4</th><td>18</td><td>2023-02-27</td><td>Sell   </td><td>AMC</td><td>3000</td><td>7.8160</td><td>23448.0000</td><td>0</td><td>FALSE</td><td>0</td><td>⋯</td><td>0</td><td>0</td><td>0</td><td>0</td><td>0</td><td>0</td><td>0</td><td>0</td><td>0</td><td>0</td></tr>\n",
       "\t<tr><th scope=row>5</th><td>19</td><td>2023-02-27</td><td>Sell   </td><td>AMC</td><td>1850</td><td>7.5850</td><td>14032.2500</td><td>0</td><td>FALSE</td><td>0</td><td>⋯</td><td>0</td><td>0</td><td>0</td><td>0</td><td>0</td><td>0</td><td>0</td><td>0</td><td>0</td><td>0</td></tr>\n",
       "</tbody>\n",
       "</table>\n"
      ],
      "text/latex": [
       "A data.frame: 4 × 23\n",
       "\\begin{tabular}{r|lllllllllllllllllllll}\n",
       "  & index & date & type & co & quan & pps & basis & sale\\_quan & flag & buy\\_cf\\_quan & ⋯ & buy\\_pps & buy\\_basis & sell\\_quan & sell\\_pps & sell\\_basis & profit\\_loss & sold\\_cf\\_quan & sold\\_cf\\_pps & sold\\_cf\\_basis & true\\_false\\\\\n",
       "  & <int> & <date> & <chr> & <chr> & <dbl> & <dbl> & <dbl> & <dbl> & <lgl> & <dbl> & ⋯ & <dbl> & <dbl> & <dbl> & <dbl> & <dbl> & <dbl> & <dbl> & <dbl> & <dbl> & <dbl>\\\\\n",
       "\\hline\n",
       "\t1 &  9 & 2023-02-10 & Sell CF & AMC &   50 & 5.5124 &     5.5124 & 0 &  TRUE & 0 & ⋯ & 0 & 0 & 0 & 0 & 0 & 0 & 0 & 0 & 0 & 0\\\\\n",
       "\t3 & 16 & 2023-02-22 & Sell    & AMC & 5950 & 5.5124 & 32798.7800 & 0 & FALSE & 0 & ⋯ & 0 & 0 & 0 & 0 & 0 & 0 & 0 & 0 & 0 & 0\\\\\n",
       "\t4 & 18 & 2023-02-27 & Sell    & AMC & 3000 & 7.8160 & 23448.0000 & 0 & FALSE & 0 & ⋯ & 0 & 0 & 0 & 0 & 0 & 0 & 0 & 0 & 0 & 0\\\\\n",
       "\t5 & 19 & 2023-02-27 & Sell    & AMC & 1850 & 7.5850 & 14032.2500 & 0 & FALSE & 0 & ⋯ & 0 & 0 & 0 & 0 & 0 & 0 & 0 & 0 & 0 & 0\\\\\n",
       "\\end{tabular}\n"
      ],
      "text/markdown": [
       "\n",
       "A data.frame: 4 × 23\n",
       "\n",
       "| <!--/--> | index &lt;int&gt; | date &lt;date&gt; | type &lt;chr&gt; | co &lt;chr&gt; | quan &lt;dbl&gt; | pps &lt;dbl&gt; | basis &lt;dbl&gt; | sale_quan &lt;dbl&gt; | flag &lt;lgl&gt; | buy_cf_quan &lt;dbl&gt; | ⋯ ⋯ | buy_pps &lt;dbl&gt; | buy_basis &lt;dbl&gt; | sell_quan &lt;dbl&gt; | sell_pps &lt;dbl&gt; | sell_basis &lt;dbl&gt; | profit_loss &lt;dbl&gt; | sold_cf_quan &lt;dbl&gt; | sold_cf_pps &lt;dbl&gt; | sold_cf_basis &lt;dbl&gt; | true_false &lt;dbl&gt; |\n",
       "|---|---|---|---|---|---|---|---|---|---|---|---|---|---|---|---|---|---|---|---|---|---|\n",
       "| 1 |  9 | 2023-02-10 | Sell CF | AMC |   50 | 5.5124 |     5.5124 | 0 |  TRUE | 0 | ⋯ | 0 | 0 | 0 | 0 | 0 | 0 | 0 | 0 | 0 | 0 |\n",
       "| 3 | 16 | 2023-02-22 | Sell    | AMC | 5950 | 5.5124 | 32798.7800 | 0 | FALSE | 0 | ⋯ | 0 | 0 | 0 | 0 | 0 | 0 | 0 | 0 | 0 | 0 |\n",
       "| 4 | 18 | 2023-02-27 | Sell    | AMC | 3000 | 7.8160 | 23448.0000 | 0 | FALSE | 0 | ⋯ | 0 | 0 | 0 | 0 | 0 | 0 | 0 | 0 | 0 | 0 |\n",
       "| 5 | 19 | 2023-02-27 | Sell    | AMC | 1850 | 7.5850 | 14032.2500 | 0 | FALSE | 0 | ⋯ | 0 | 0 | 0 | 0 | 0 | 0 | 0 | 0 | 0 | 0 |\n",
       "\n"
      ],
      "text/plain": [
       "  index date       type    co  quan pps    basis      sale_quan flag \n",
       "1  9    2023-02-10 Sell CF AMC   50 5.5124     5.5124 0          TRUE\n",
       "3 16    2023-02-22 Sell    AMC 5950 5.5124 32798.7800 0         FALSE\n",
       "4 18    2023-02-27 Sell    AMC 3000 7.8160 23448.0000 0         FALSE\n",
       "5 19    2023-02-27 Sell    AMC 1850 7.5850 14032.2500 0         FALSE\n",
       "  buy_cf_quan ⋯ buy_pps buy_basis sell_quan sell_pps sell_basis profit_loss\n",
       "1 0           ⋯ 0       0         0         0        0          0          \n",
       "3 0           ⋯ 0       0         0         0        0          0          \n",
       "4 0           ⋯ 0       0         0         0        0          0          \n",
       "5 0           ⋯ 0       0         0         0        0          0          \n",
       "  sold_cf_quan sold_cf_pps sold_cf_basis true_false\n",
       "1 0            0           0             0         \n",
       "3 0            0           0             0         \n",
       "4 0            0           0             0         \n",
       "5 0            0           0             0         "
      ]
     },
     "metadata": {},
     "output_type": "display_data"
    }
   ],
   "source": [
    "dim(buys)\n",
    "dim(sells)\n",
    "head(buys,4)\n",
    "head(sells,4)"
   ]
  },
  {
   "cell_type": "code",
   "execution_count": 116,
   "id": "65663952-8c57-462c-a7e9-87b3cb913094",
   "metadata": {},
   "outputs": [],
   "source": [
    "# stopps"
   ]
  },
  {
   "cell_type": "markdown",
   "id": "ff9e7645-4e9a-4320-ac93-5ab75000ecf3",
   "metadata": {},
   "source": [
    "# <font color = cyan> Proof of Concept above. End of loop 9"
   ]
  },
  {
   "cell_type": "code",
   "execution_count": null,
   "id": "43932e3d-9522-43c0-a6b8-b1c652e23a0a",
   "metadata": {},
   "outputs": [],
   "source": []
  },
  {
   "cell_type": "markdown",
   "id": "2d22d40f-92e3-4729-81bc-0dd578b30b64",
   "metadata": {},
   "source": [
    "#### <font color = yellow> 1. Create data & dfs"
   ]
  },
  {
   "cell_type": "code",
   "execution_count": 117,
   "id": "433ed58e-b919-4695-a8b7-410fc1279808",
   "metadata": {},
   "outputs": [],
   "source": [
    "b <- buys[1,]\n",
    "s <- sells[1,]\n"
   ]
  },
  {
   "cell_type": "code",
   "execution_count": null,
   "id": "6909e495-6379-4b41-bf92-2dcb3a2246d2",
   "metadata": {},
   "outputs": [],
   "source": []
  },
  {
   "cell_type": "markdown",
   "id": "c9b61cf8-96ae-46df-9112-892217f16ed4",
   "metadata": {},
   "source": [
    "### <font color = yellow> 2. Update b - the variable that records each buy/sell transaction (w/in loop)\n",
    "    \n",
    "#### b>s, b<s, b==s,"
   ]
  },
  {
   "cell_type": "code",
   "execution_count": 118,
   "id": "d767b34a-3a1e-4f0c-b08d-37adb8a41080",
   "metadata": {},
   "outputs": [
    {
     "name": "stdout",
     "output_type": "stream",
     "text": [
      "proof 3 \n",
      "proof \n",
      "POC - updated_s when b == s:  EQ SOLD \n"
     ]
    }
   ],
   "source": [
    "#fct call\n",
    "updated_b_list <- update_b(b,s,buys)\n",
    "\n",
    "updated_b <- updated_b_list[[1]]\n",
    "updated_s <- updated_b_list[[2]]\n",
    "buys <- updated_b_list[[3]]\n",
    "#dim(updated_b)\n",
    "#dim(buys)    \n"
   ]
  },
  {
   "cell_type": "code",
   "execution_count": 119,
   "id": "5162c292-08c9-4068-ba43-ccb3b6e3d276",
   "metadata": {},
   "outputs": [
    {
     "name": "stdout",
     "output_type": "stream",
     "text": [
      "Std buy-sell orientation \n"
     ]
    }
   ],
   "source": [
    "if(buys$type[i] == \"Buy\" && sells$type[i] == \"Sell\") {\n",
    "    cat(\"Std buy-sell orientation \\n\")    \n",
    "    }"
   ]
  },
  {
   "cell_type": "markdown",
   "id": "d827cbd7-b700-4ca6-bb7e-9a023a36b29e",
   "metadata": {},
   "source": [
    "### <font color = yellow>3. Update the sales_records (rbind) with updated_b for each transaction (loop)\n"
   ]
  },
  {
   "cell_type": "code",
   "execution_count": 120,
   "id": "249f7a7c-61c5-4e04-99ba-7f237ae5d8c2",
   "metadata": {},
   "outputs": [
    {
     "data": {
      "text/html": [
       "<table class=\"dataframe\">\n",
       "<caption>A data.frame: 1 × 23</caption>\n",
       "<thead>\n",
       "\t<tr><th></th><th scope=col>index</th><th scope=col>date</th><th scope=col>type</th><th scope=col>co</th><th scope=col>quan</th><th scope=col>pps</th><th scope=col>basis</th><th scope=col>sale_quan</th><th scope=col>flag</th><th scope=col>buy_cf_quan</th><th scope=col>⋯</th><th scope=col>buy_pps</th><th scope=col>buy_basis</th><th scope=col>sell_quan</th><th scope=col>sell_pps</th><th scope=col>sell_basis</th><th scope=col>profit_loss</th><th scope=col>sold_cf_quan</th><th scope=col>sold_cf_pps</th><th scope=col>sold_cf_basis</th><th scope=col>true_false</th></tr>\n",
       "\t<tr><th></th><th scope=col>&lt;int&gt;</th><th scope=col>&lt;date&gt;</th><th scope=col>&lt;chr&gt;</th><th scope=col>&lt;chr&gt;</th><th scope=col>&lt;dbl&gt;</th><th scope=col>&lt;dbl&gt;</th><th scope=col>&lt;dbl&gt;</th><th scope=col>&lt;dbl&gt;</th><th scope=col>&lt;lgl&gt;</th><th scope=col>&lt;dbl&gt;</th><th scope=col>⋯</th><th scope=col>&lt;dbl&gt;</th><th scope=col>&lt;dbl&gt;</th><th scope=col>&lt;dbl&gt;</th><th scope=col>&lt;dbl&gt;</th><th scope=col>&lt;dbl&gt;</th><th scope=col>&lt;dbl&gt;</th><th scope=col>&lt;dbl&gt;</th><th scope=col>&lt;dbl&gt;</th><th scope=col>&lt;dbl&gt;</th><th scope=col>&lt;dbl&gt;</th></tr>\n",
       "</thead>\n",
       "<tbody>\n",
       "\t<tr><th scope=row>1</th><td>9</td><td>2023-02-10</td><td>Buy CF</td><td>CFCF</td><td>50</td><td>4.745</td><td>237.25</td><td>0</td><td>TRUE</td><td>0</td><td>⋯</td><td>4.745</td><td>237.25</td><td>50</td><td>5.5124</td><td>275.62</td><td>38.37</td><td>0</td><td>0</td><td>0</td><td>1</td></tr>\n",
       "</tbody>\n",
       "</table>\n"
      ],
      "text/latex": [
       "A data.frame: 1 × 23\n",
       "\\begin{tabular}{r|lllllllllllllllllllll}\n",
       "  & index & date & type & co & quan & pps & basis & sale\\_quan & flag & buy\\_cf\\_quan & ⋯ & buy\\_pps & buy\\_basis & sell\\_quan & sell\\_pps & sell\\_basis & profit\\_loss & sold\\_cf\\_quan & sold\\_cf\\_pps & sold\\_cf\\_basis & true\\_false\\\\\n",
       "  & <int> & <date> & <chr> & <chr> & <dbl> & <dbl> & <dbl> & <dbl> & <lgl> & <dbl> & ⋯ & <dbl> & <dbl> & <dbl> & <dbl> & <dbl> & <dbl> & <dbl> & <dbl> & <dbl> & <dbl>\\\\\n",
       "\\hline\n",
       "\t1 & 9 & 2023-02-10 & Buy CF & CFCF & 50 & 4.745 & 237.25 & 0 & TRUE & 0 & ⋯ & 4.745 & 237.25 & 50 & 5.5124 & 275.62 & 38.37 & 0 & 0 & 0 & 1\\\\\n",
       "\\end{tabular}\n"
      ],
      "text/markdown": [
       "\n",
       "A data.frame: 1 × 23\n",
       "\n",
       "| <!--/--> | index &lt;int&gt; | date &lt;date&gt; | type &lt;chr&gt; | co &lt;chr&gt; | quan &lt;dbl&gt; | pps &lt;dbl&gt; | basis &lt;dbl&gt; | sale_quan &lt;dbl&gt; | flag &lt;lgl&gt; | buy_cf_quan &lt;dbl&gt; | ⋯ ⋯ | buy_pps &lt;dbl&gt; | buy_basis &lt;dbl&gt; | sell_quan &lt;dbl&gt; | sell_pps &lt;dbl&gt; | sell_basis &lt;dbl&gt; | profit_loss &lt;dbl&gt; | sold_cf_quan &lt;dbl&gt; | sold_cf_pps &lt;dbl&gt; | sold_cf_basis &lt;dbl&gt; | true_false &lt;dbl&gt; |\n",
       "|---|---|---|---|---|---|---|---|---|---|---|---|---|---|---|---|---|---|---|---|---|---|\n",
       "| 1 | 9 | 2023-02-10 | Buy CF | CFCF | 50 | 4.745 | 237.25 | 0 | TRUE | 0 | ⋯ | 4.745 | 237.25 | 50 | 5.5124 | 275.62 | 38.37 | 0 | 0 | 0 | 1 |\n",
       "\n"
      ],
      "text/plain": [
       "  index date       type   co   quan pps   basis  sale_quan flag buy_cf_quan ⋯\n",
       "1 9     2023-02-10 Buy CF CFCF 50   4.745 237.25 0         TRUE 0           ⋯\n",
       "  buy_pps buy_basis sell_quan sell_pps sell_basis profit_loss sold_cf_quan\n",
       "1 4.745   237.25    50        5.5124   275.62     38.37       0           \n",
       "  sold_cf_pps sold_cf_basis true_false\n",
       "1 0           0             1         "
      ]
     },
     "metadata": {},
     "output_type": "display_data"
    },
    {
     "data": {
      "text/html": [
       "<table class=\"dataframe\">\n",
       "<caption>A data.frame: 10 × 23</caption>\n",
       "<thead>\n",
       "\t<tr><th scope=col>index</th><th scope=col>date</th><th scope=col>type</th><th scope=col>co</th><th scope=col>quan</th><th scope=col>pps</th><th scope=col>basis</th><th scope=col>sale_quan</th><th scope=col>flag</th><th scope=col>buy_cf_quan</th><th scope=col>⋯</th><th scope=col>buy_pps</th><th scope=col>buy_basis</th><th scope=col>sell_quan</th><th scope=col>sell_pps</th><th scope=col>sell_basis</th><th scope=col>profit_loss</th><th scope=col>sold_cf_quan</th><th scope=col>sold_cf_pps</th><th scope=col>sold_cf_basis</th><th scope=col>true_false</th></tr>\n",
       "\t<tr><th scope=col>&lt;int&gt;</th><th scope=col>&lt;date&gt;</th><th scope=col>&lt;chr&gt;</th><th scope=col>&lt;chr&gt;</th><th scope=col>&lt;dbl&gt;</th><th scope=col>&lt;dbl&gt;</th><th scope=col>&lt;dbl&gt;</th><th scope=col>&lt;dbl&gt;</th><th scope=col>&lt;lgl&gt;</th><th scope=col>&lt;dbl&gt;</th><th scope=col>⋯</th><th scope=col>&lt;dbl&gt;</th><th scope=col>&lt;dbl&gt;</th><th scope=col>&lt;dbl&gt;</th><th scope=col>&lt;dbl&gt;</th><th scope=col>&lt;dbl&gt;</th><th scope=col>&lt;dbl&gt;</th><th scope=col>&lt;dbl&gt;</th><th scope=col>&lt;dbl&gt;</th><th scope=col>&lt;dbl&gt;</th><th scope=col>&lt;dbl&gt;</th></tr>\n",
       "</thead>\n",
       "<tbody>\n",
       "\t<tr><td>9</td><td>2023-02-10</td><td>Buy CF</td><td>CFCF</td><td>  50</td><td>4.7450</td><td>  237.25</td><td>   0</td><td>TRUE</td><td>0</td><td>⋯</td><td>4.7450</td><td> 237.25</td><td>  50</td><td>5.5124</td><td>  275.62</td><td>  38.37</td><td>   0</td><td>0.0000</td><td>   0.00</td><td>1</td></tr>\n",
       "\t<tr><td>9</td><td>2023-02-10</td><td>Buy   </td><td>AMC </td><td>2000</td><td>4.7450</td><td> 9490.00</td><td>1950</td><td>TRUE</td><td>0</td><td>⋯</td><td>4.7450</td><td>9252.75</td><td>1950</td><td>5.5124</td><td>10749.18</td><td>1496.43</td><td>  50</td><td>4.7450</td><td> 237.25</td><td>0</td></tr>\n",
       "\t<tr><td>7</td><td>2023-01-27</td><td>Buy CF</td><td>CFCF</td><td>1050</td><td>5.2394</td><td> 5501.37</td><td>   0</td><td>TRUE</td><td>0</td><td>⋯</td><td>5.2394</td><td>5501.37</td><td>1050</td><td>5.5124</td><td> 5788.02</td><td> 286.65</td><td>   0</td><td>0.0000</td><td>   0.00</td><td>1</td></tr>\n",
       "\t<tr><td>7</td><td>2023-01-27</td><td>Buy   </td><td>AMC </td><td>2000</td><td>5.2394</td><td>10478.80</td><td> 950</td><td>TRUE</td><td>0</td><td>⋯</td><td>5.2394</td><td>4977.43</td><td> 950</td><td>5.5124</td><td> 5236.78</td><td> 259.35</td><td>1050</td><td>5.2394</td><td>5501.37</td><td>0</td></tr>\n",
       "\t<tr><td>5</td><td>2023-01-23</td><td>Buy CF</td><td>CFCF</td><td>  50</td><td>5.7880</td><td>  289.40</td><td>   0</td><td>TRUE</td><td>0</td><td>⋯</td><td>5.7880</td><td> 289.40</td><td>  50</td><td>5.5124</td><td>  275.62</td><td> -13.78</td><td>   0</td><td>0.0000</td><td>   0.00</td><td>1</td></tr>\n",
       "\t<tr><td>5</td><td>2023-01-23</td><td>Buy   </td><td>AMC </td><td>1000</td><td>5.7880</td><td> 5788.00</td><td> 950</td><td>TRUE</td><td>0</td><td>⋯</td><td>5.7880</td><td>5498.60</td><td> 950</td><td>5.5124</td><td> 5236.78</td><td>-261.82</td><td>  50</td><td>5.7880</td><td> 289.40</td><td>0</td></tr>\n",
       "\t<tr><td>3</td><td>2023-01-20</td><td>Buy CF</td><td>CFCF</td><td>  50</td><td>5.6250</td><td>  281.25</td><td>   0</td><td>TRUE</td><td>0</td><td>⋯</td><td>5.6250</td><td> 281.25</td><td>  50</td><td>5.5124</td><td>  275.62</td><td>  -5.63</td><td>   0</td><td>0.0000</td><td>   0.00</td><td>1</td></tr>\n",
       "\t<tr><td>3</td><td>2023-01-20</td><td>Buy   </td><td>AMC </td><td>1000</td><td>5.6250</td><td> 5625.00</td><td> 950</td><td>TRUE</td><td>0</td><td>⋯</td><td>5.6250</td><td>5343.75</td><td> 950</td><td>5.5124</td><td> 5236.78</td><td>-106.97</td><td>  50</td><td>5.6250</td><td> 281.25</td><td>0</td></tr>\n",
       "\t<tr><td>1</td><td>2022-12-31</td><td>Buy CF</td><td>CFCF</td><td>  50</td><td>4.0700</td><td>  203.50</td><td>   0</td><td>TRUE</td><td>0</td><td>⋯</td><td>4.0700</td><td> 203.50</td><td>  50</td><td>5.5124</td><td>  275.62</td><td>  72.12</td><td>   0</td><td>0.0000</td><td>   0.00</td><td>1</td></tr>\n",
       "\t<tr><td>1</td><td>2022-12-31</td><td>Buy   </td><td>AMC </td><td>1050</td><td>4.0700</td><td> 4273.50</td><td>1000</td><td>TRUE</td><td>0</td><td>⋯</td><td>4.0700</td><td>4070.00</td><td>1000</td><td>5.5124</td><td> 5512.40</td><td>1442.40</td><td>  50</td><td>4.0700</td><td> 203.50</td><td>0</td></tr>\n",
       "</tbody>\n",
       "</table>\n"
      ],
      "text/latex": [
       "A data.frame: 10 × 23\n",
       "\\begin{tabular}{lllllllllllllllllllll}\n",
       " index & date & type & co & quan & pps & basis & sale\\_quan & flag & buy\\_cf\\_quan & ⋯ & buy\\_pps & buy\\_basis & sell\\_quan & sell\\_pps & sell\\_basis & profit\\_loss & sold\\_cf\\_quan & sold\\_cf\\_pps & sold\\_cf\\_basis & true\\_false\\\\\n",
       " <int> & <date> & <chr> & <chr> & <dbl> & <dbl> & <dbl> & <dbl> & <lgl> & <dbl> & ⋯ & <dbl> & <dbl> & <dbl> & <dbl> & <dbl> & <dbl> & <dbl> & <dbl> & <dbl> & <dbl>\\\\\n",
       "\\hline\n",
       "\t 9 & 2023-02-10 & Buy CF & CFCF &   50 & 4.7450 &   237.25 &    0 & TRUE & 0 & ⋯ & 4.7450 &  237.25 &   50 & 5.5124 &   275.62 &   38.37 &    0 & 0.0000 &    0.00 & 1\\\\\n",
       "\t 9 & 2023-02-10 & Buy    & AMC  & 2000 & 4.7450 &  9490.00 & 1950 & TRUE & 0 & ⋯ & 4.7450 & 9252.75 & 1950 & 5.5124 & 10749.18 & 1496.43 &   50 & 4.7450 &  237.25 & 0\\\\\n",
       "\t 7 & 2023-01-27 & Buy CF & CFCF & 1050 & 5.2394 &  5501.37 &    0 & TRUE & 0 & ⋯ & 5.2394 & 5501.37 & 1050 & 5.5124 &  5788.02 &  286.65 &    0 & 0.0000 &    0.00 & 1\\\\\n",
       "\t 7 & 2023-01-27 & Buy    & AMC  & 2000 & 5.2394 & 10478.80 &  950 & TRUE & 0 & ⋯ & 5.2394 & 4977.43 &  950 & 5.5124 &  5236.78 &  259.35 & 1050 & 5.2394 & 5501.37 & 0\\\\\n",
       "\t 5 & 2023-01-23 & Buy CF & CFCF &   50 & 5.7880 &   289.40 &    0 & TRUE & 0 & ⋯ & 5.7880 &  289.40 &   50 & 5.5124 &   275.62 &  -13.78 &    0 & 0.0000 &    0.00 & 1\\\\\n",
       "\t 5 & 2023-01-23 & Buy    & AMC  & 1000 & 5.7880 &  5788.00 &  950 & TRUE & 0 & ⋯ & 5.7880 & 5498.60 &  950 & 5.5124 &  5236.78 & -261.82 &   50 & 5.7880 &  289.40 & 0\\\\\n",
       "\t 3 & 2023-01-20 & Buy CF & CFCF &   50 & 5.6250 &   281.25 &    0 & TRUE & 0 & ⋯ & 5.6250 &  281.25 &   50 & 5.5124 &   275.62 &   -5.63 &    0 & 0.0000 &    0.00 & 1\\\\\n",
       "\t 3 & 2023-01-20 & Buy    & AMC  & 1000 & 5.6250 &  5625.00 &  950 & TRUE & 0 & ⋯ & 5.6250 & 5343.75 &  950 & 5.5124 &  5236.78 & -106.97 &   50 & 5.6250 &  281.25 & 0\\\\\n",
       "\t 1 & 2022-12-31 & Buy CF & CFCF &   50 & 4.0700 &   203.50 &    0 & TRUE & 0 & ⋯ & 4.0700 &  203.50 &   50 & 5.5124 &   275.62 &   72.12 &    0 & 0.0000 &    0.00 & 1\\\\\n",
       "\t 1 & 2022-12-31 & Buy    & AMC  & 1050 & 4.0700 &  4273.50 & 1000 & TRUE & 0 & ⋯ & 4.0700 & 4070.00 & 1000 & 5.5124 &  5512.40 & 1442.40 &   50 & 4.0700 &  203.50 & 0\\\\\n",
       "\\end{tabular}\n"
      ],
      "text/markdown": [
       "\n",
       "A data.frame: 10 × 23\n",
       "\n",
       "| index &lt;int&gt; | date &lt;date&gt; | type &lt;chr&gt; | co &lt;chr&gt; | quan &lt;dbl&gt; | pps &lt;dbl&gt; | basis &lt;dbl&gt; | sale_quan &lt;dbl&gt; | flag &lt;lgl&gt; | buy_cf_quan &lt;dbl&gt; | ⋯ ⋯ | buy_pps &lt;dbl&gt; | buy_basis &lt;dbl&gt; | sell_quan &lt;dbl&gt; | sell_pps &lt;dbl&gt; | sell_basis &lt;dbl&gt; | profit_loss &lt;dbl&gt; | sold_cf_quan &lt;dbl&gt; | sold_cf_pps &lt;dbl&gt; | sold_cf_basis &lt;dbl&gt; | true_false &lt;dbl&gt; |\n",
       "|---|---|---|---|---|---|---|---|---|---|---|---|---|---|---|---|---|---|---|---|---|\n",
       "| 9 | 2023-02-10 | Buy CF | CFCF |   50 | 4.7450 |   237.25 |    0 | TRUE | 0 | ⋯ | 4.7450 |  237.25 |   50 | 5.5124 |   275.62 |   38.37 |    0 | 0.0000 |    0.00 | 1 |\n",
       "| 9 | 2023-02-10 | Buy    | AMC  | 2000 | 4.7450 |  9490.00 | 1950 | TRUE | 0 | ⋯ | 4.7450 | 9252.75 | 1950 | 5.5124 | 10749.18 | 1496.43 |   50 | 4.7450 |  237.25 | 0 |\n",
       "| 7 | 2023-01-27 | Buy CF | CFCF | 1050 | 5.2394 |  5501.37 |    0 | TRUE | 0 | ⋯ | 5.2394 | 5501.37 | 1050 | 5.5124 |  5788.02 |  286.65 |    0 | 0.0000 |    0.00 | 1 |\n",
       "| 7 | 2023-01-27 | Buy    | AMC  | 2000 | 5.2394 | 10478.80 |  950 | TRUE | 0 | ⋯ | 5.2394 | 4977.43 |  950 | 5.5124 |  5236.78 |  259.35 | 1050 | 5.2394 | 5501.37 | 0 |\n",
       "| 5 | 2023-01-23 | Buy CF | CFCF |   50 | 5.7880 |   289.40 |    0 | TRUE | 0 | ⋯ | 5.7880 |  289.40 |   50 | 5.5124 |   275.62 |  -13.78 |    0 | 0.0000 |    0.00 | 1 |\n",
       "| 5 | 2023-01-23 | Buy    | AMC  | 1000 | 5.7880 |  5788.00 |  950 | TRUE | 0 | ⋯ | 5.7880 | 5498.60 |  950 | 5.5124 |  5236.78 | -261.82 |   50 | 5.7880 |  289.40 | 0 |\n",
       "| 3 | 2023-01-20 | Buy CF | CFCF |   50 | 5.6250 |   281.25 |    0 | TRUE | 0 | ⋯ | 5.6250 |  281.25 |   50 | 5.5124 |   275.62 |   -5.63 |    0 | 0.0000 |    0.00 | 1 |\n",
       "| 3 | 2023-01-20 | Buy    | AMC  | 1000 | 5.6250 |  5625.00 |  950 | TRUE | 0 | ⋯ | 5.6250 | 5343.75 |  950 | 5.5124 |  5236.78 | -106.97 |   50 | 5.6250 |  281.25 | 0 |\n",
       "| 1 | 2022-12-31 | Buy CF | CFCF |   50 | 4.0700 |   203.50 |    0 | TRUE | 0 | ⋯ | 4.0700 |  203.50 |   50 | 5.5124 |   275.62 |   72.12 |    0 | 0.0000 |    0.00 | 1 |\n",
       "| 1 | 2022-12-31 | Buy    | AMC  | 1050 | 4.0700 |  4273.50 | 1000 | TRUE | 0 | ⋯ | 4.0700 | 4070.00 | 1000 | 5.5124 |  5512.40 | 1442.40 |   50 | 4.0700 |  203.50 | 0 |\n",
       "\n"
      ],
      "text/plain": [
       "   index date       type   co   quan pps    basis    sale_quan flag buy_cf_quan\n",
       "1  9     2023-02-10 Buy CF CFCF   50 4.7450   237.25    0      TRUE 0          \n",
       "2  9     2023-02-10 Buy    AMC  2000 4.7450  9490.00 1950      TRUE 0          \n",
       "3  7     2023-01-27 Buy CF CFCF 1050 5.2394  5501.37    0      TRUE 0          \n",
       "4  7     2023-01-27 Buy    AMC  2000 5.2394 10478.80  950      TRUE 0          \n",
       "5  5     2023-01-23 Buy CF CFCF   50 5.7880   289.40    0      TRUE 0          \n",
       "6  5     2023-01-23 Buy    AMC  1000 5.7880  5788.00  950      TRUE 0          \n",
       "7  3     2023-01-20 Buy CF CFCF   50 5.6250   281.25    0      TRUE 0          \n",
       "8  3     2023-01-20 Buy    AMC  1000 5.6250  5625.00  950      TRUE 0          \n",
       "9  1     2022-12-31 Buy CF CFCF   50 4.0700   203.50    0      TRUE 0          \n",
       "10 1     2022-12-31 Buy    AMC  1050 4.0700  4273.50 1000      TRUE 0          \n",
       "   ⋯ buy_pps buy_basis sell_quan sell_pps sell_basis profit_loss sold_cf_quan\n",
       "1  ⋯ 4.7450   237.25     50      5.5124     275.62     38.37        0        \n",
       "2  ⋯ 4.7450  9252.75   1950      5.5124   10749.18   1496.43       50        \n",
       "3  ⋯ 5.2394  5501.37   1050      5.5124    5788.02    286.65        0        \n",
       "4  ⋯ 5.2394  4977.43    950      5.5124    5236.78    259.35     1050        \n",
       "5  ⋯ 5.7880   289.40     50      5.5124     275.62    -13.78        0        \n",
       "6  ⋯ 5.7880  5498.60    950      5.5124    5236.78   -261.82       50        \n",
       "7  ⋯ 5.6250   281.25     50      5.5124     275.62     -5.63        0        \n",
       "8  ⋯ 5.6250  5343.75    950      5.5124    5236.78   -106.97       50        \n",
       "9  ⋯ 4.0700   203.50     50      5.5124     275.62     72.12        0        \n",
       "10 ⋯ 4.0700  4070.00   1000      5.5124    5512.40   1442.40       50        \n",
       "   sold_cf_pps sold_cf_basis true_false\n",
       "1  0.0000         0.00       1         \n",
       "2  4.7450       237.25       0         \n",
       "3  0.0000         0.00       1         \n",
       "4  5.2394      5501.37       0         \n",
       "5  0.0000         0.00       1         \n",
       "6  5.7880       289.40       0         \n",
       "7  0.0000         0.00       1         \n",
       "8  5.6250       281.25       0         \n",
       "9  0.0000         0.00       1         \n",
       "10 4.0700       203.50       0         "
      ]
     },
     "metadata": {},
     "output_type": "display_data"
    }
   ],
   "source": [
    "# First go around needs rbind()\n",
    "# sale_records <- rbind(sale_records, updated_b)    \n",
    "\n",
    "sale_records <- sale_records %>% add_row(updated_b , .before = 1)\n",
    "sale_records[1,]\n",
    "sale_records\n"
   ]
  },
  {
   "cell_type": "code",
   "execution_count": null,
   "id": "b6c78dd6-ac00-490a-8b99-5534991c485a",
   "metadata": {},
   "outputs": [],
   "source": []
  },
  {
   "cell_type": "markdown",
   "id": "2dac531a-b260-49c1-947a-c88cfed9e6d6",
   "metadata": {},
   "source": [
    "#### <font color = yellow> 4. Update buys or sells with a new row (add_row) - whenever a transaction (loop) includes  c/f\n",
    "    \n",
    "###### Uses add_row () to transform any existing carryforward (buy or sell type) into the next element that will be processed for next (loop) buy/sell transaction"
   ]
  },
  {
   "cell_type": "code",
   "execution_count": 121,
   "id": "b3befeaa-af60-403a-b17d-1b6f59fd4993",
   "metadata": {},
   "outputs": [
    {
     "name": "stdout",
     "output_type": "stream",
     "text": [
      "printing updated buys[1 ], dim of buys increases with c/f  \n"
     ]
    }
   ],
   "source": [
    "# fct call\n",
    "return_list <- update_buys_sells(buys, sells)\n",
    "\n",
    "# returned the updated to buys / sells\n",
    "buys <- return_list[[1]]\n",
    "sells <- return_list[[2]]\n",
    "\n",
    "#dim(buys)\n",
    "# dim(sells)\n"
   ]
  },
  {
   "cell_type": "code",
   "execution_count": null,
   "id": "450a1d44-7172-4ed4-b17b-e20acadf49fb",
   "metadata": {},
   "outputs": [],
   "source": []
  },
  {
   "cell_type": "markdown",
   "id": "679deb5b-528d-443b-a335-ccdbecf7ee20",
   "metadata": {},
   "source": [
    "#### <font color = yellow>5. snips () Create a new variable from buys/sells row 1, then delete row 1 from buys and sells (copy_snip () )\n"
   ]
  },
  {
   "cell_type": "code",
   "execution_count": 122,
   "id": "8ed32289-ff73-4c18-a51e-f830bf9ba7e8",
   "metadata": {},
   "outputs": [
    {
     "name": "stdout",
     "output_type": "stream",
     "text": [
      "new condtional works for filtering in copy_snip when cf-cf \n"
     ]
    }
   ],
   "source": [
    "\n",
    "copy_snip_list <- copy_snip(b, s, buys, sells) \n",
    "\n",
    "b1 <- copy_snip_list[[1]]\n",
    "s1 <- copy_snip_list[[2]]\n",
    "buys <- copy_snip_list[[3]]\n",
    "sells <- copy_snip_list[[4]]\n",
    "\n",
    "# after\n",
    "# dim(buys)\n",
    "# dim(sells)\n",
    "# # b1\n",
    "# s1\n"
   ]
  },
  {
   "cell_type": "code",
   "execution_count": null,
   "id": "bf1caa76-8f31-4e4a-b17e-28cb2ba3cc1a",
   "metadata": {},
   "outputs": [],
   "source": []
  },
  {
   "cell_type": "markdown",
   "id": "906e261e-9794-4dcc-a812-33c3b8759fa2",
   "metadata": {},
   "source": [
    "\n",
    "#### <font color = lime> QC: Loop 10 review buys & sells"
   ]
  },
  {
   "cell_type": "code",
   "execution_count": 123,
   "id": "438ee38a-8b07-49fc-93f6-d26c207fbee4",
   "metadata": {},
   "outputs": [
    {
     "data": {
      "text/html": [
       "<table class=\"dataframe\">\n",
       "<caption>A data.frame: 10 × 23</caption>\n",
       "<thead>\n",
       "\t<tr><th scope=col>index</th><th scope=col>date</th><th scope=col>type</th><th scope=col>co</th><th scope=col>quan</th><th scope=col>pps</th><th scope=col>basis</th><th scope=col>sale_quan</th><th scope=col>flag</th><th scope=col>buy_cf_quan</th><th scope=col>⋯</th><th scope=col>buy_pps</th><th scope=col>buy_basis</th><th scope=col>sell_quan</th><th scope=col>sell_pps</th><th scope=col>sell_basis</th><th scope=col>profit_loss</th><th scope=col>sold_cf_quan</th><th scope=col>sold_cf_pps</th><th scope=col>sold_cf_basis</th><th scope=col>true_false</th></tr>\n",
       "\t<tr><th scope=col>&lt;int&gt;</th><th scope=col>&lt;date&gt;</th><th scope=col>&lt;chr&gt;</th><th scope=col>&lt;chr&gt;</th><th scope=col>&lt;dbl&gt;</th><th scope=col>&lt;dbl&gt;</th><th scope=col>&lt;dbl&gt;</th><th scope=col>&lt;dbl&gt;</th><th scope=col>&lt;lgl&gt;</th><th scope=col>&lt;dbl&gt;</th><th scope=col>⋯</th><th scope=col>&lt;dbl&gt;</th><th scope=col>&lt;dbl&gt;</th><th scope=col>&lt;dbl&gt;</th><th scope=col>&lt;dbl&gt;</th><th scope=col>&lt;dbl&gt;</th><th scope=col>&lt;dbl&gt;</th><th scope=col>&lt;dbl&gt;</th><th scope=col>&lt;dbl&gt;</th><th scope=col>&lt;dbl&gt;</th><th scope=col>&lt;dbl&gt;</th></tr>\n",
       "</thead>\n",
       "<tbody>\n",
       "\t<tr><td>9</td><td>2023-02-10</td><td>Buy CF</td><td>CFCF</td><td>  50</td><td>4.7450</td><td>  237.25</td><td>   0</td><td>TRUE</td><td>0</td><td>⋯</td><td>4.7450</td><td> 237.25</td><td>  50</td><td>5.5124</td><td>  275.62</td><td>  38.37</td><td>   0</td><td>0.0000</td><td>   0.00</td><td>1</td></tr>\n",
       "\t<tr><td>9</td><td>2023-02-10</td><td>Buy   </td><td>AMC </td><td>2000</td><td>4.7450</td><td> 9490.00</td><td>1950</td><td>TRUE</td><td>0</td><td>⋯</td><td>4.7450</td><td>9252.75</td><td>1950</td><td>5.5124</td><td>10749.18</td><td>1496.43</td><td>  50</td><td>4.7450</td><td> 237.25</td><td>0</td></tr>\n",
       "\t<tr><td>7</td><td>2023-01-27</td><td>Buy CF</td><td>CFCF</td><td>1050</td><td>5.2394</td><td> 5501.37</td><td>   0</td><td>TRUE</td><td>0</td><td>⋯</td><td>5.2394</td><td>5501.37</td><td>1050</td><td>5.5124</td><td> 5788.02</td><td> 286.65</td><td>   0</td><td>0.0000</td><td>   0.00</td><td>1</td></tr>\n",
       "\t<tr><td>7</td><td>2023-01-27</td><td>Buy   </td><td>AMC </td><td>2000</td><td>5.2394</td><td>10478.80</td><td> 950</td><td>TRUE</td><td>0</td><td>⋯</td><td>5.2394</td><td>4977.43</td><td> 950</td><td>5.5124</td><td> 5236.78</td><td> 259.35</td><td>1050</td><td>5.2394</td><td>5501.37</td><td>0</td></tr>\n",
       "\t<tr><td>5</td><td>2023-01-23</td><td>Buy CF</td><td>CFCF</td><td>  50</td><td>5.7880</td><td>  289.40</td><td>   0</td><td>TRUE</td><td>0</td><td>⋯</td><td>5.7880</td><td> 289.40</td><td>  50</td><td>5.5124</td><td>  275.62</td><td> -13.78</td><td>   0</td><td>0.0000</td><td>   0.00</td><td>1</td></tr>\n",
       "\t<tr><td>5</td><td>2023-01-23</td><td>Buy   </td><td>AMC </td><td>1000</td><td>5.7880</td><td> 5788.00</td><td> 950</td><td>TRUE</td><td>0</td><td>⋯</td><td>5.7880</td><td>5498.60</td><td> 950</td><td>5.5124</td><td> 5236.78</td><td>-261.82</td><td>  50</td><td>5.7880</td><td> 289.40</td><td>0</td></tr>\n",
       "\t<tr><td>3</td><td>2023-01-20</td><td>Buy CF</td><td>CFCF</td><td>  50</td><td>5.6250</td><td>  281.25</td><td>   0</td><td>TRUE</td><td>0</td><td>⋯</td><td>5.6250</td><td> 281.25</td><td>  50</td><td>5.5124</td><td>  275.62</td><td>  -5.63</td><td>   0</td><td>0.0000</td><td>   0.00</td><td>1</td></tr>\n",
       "\t<tr><td>3</td><td>2023-01-20</td><td>Buy   </td><td>AMC </td><td>1000</td><td>5.6250</td><td> 5625.00</td><td> 950</td><td>TRUE</td><td>0</td><td>⋯</td><td>5.6250</td><td>5343.75</td><td> 950</td><td>5.5124</td><td> 5236.78</td><td>-106.97</td><td>  50</td><td>5.6250</td><td> 281.25</td><td>0</td></tr>\n",
       "\t<tr><td>1</td><td>2022-12-31</td><td>Buy CF</td><td>CFCF</td><td>  50</td><td>4.0700</td><td>  203.50</td><td>   0</td><td>TRUE</td><td>0</td><td>⋯</td><td>4.0700</td><td> 203.50</td><td>  50</td><td>5.5124</td><td>  275.62</td><td>  72.12</td><td>   0</td><td>0.0000</td><td>   0.00</td><td>1</td></tr>\n",
       "\t<tr><td>1</td><td>2022-12-31</td><td>Buy   </td><td>AMC </td><td>1050</td><td>4.0700</td><td> 4273.50</td><td>1000</td><td>TRUE</td><td>0</td><td>⋯</td><td>4.0700</td><td>4070.00</td><td>1000</td><td>5.5124</td><td> 5512.40</td><td>1442.40</td><td>  50</td><td>4.0700</td><td> 203.50</td><td>0</td></tr>\n",
       "</tbody>\n",
       "</table>\n"
      ],
      "text/latex": [
       "A data.frame: 10 × 23\n",
       "\\begin{tabular}{lllllllllllllllllllll}\n",
       " index & date & type & co & quan & pps & basis & sale\\_quan & flag & buy\\_cf\\_quan & ⋯ & buy\\_pps & buy\\_basis & sell\\_quan & sell\\_pps & sell\\_basis & profit\\_loss & sold\\_cf\\_quan & sold\\_cf\\_pps & sold\\_cf\\_basis & true\\_false\\\\\n",
       " <int> & <date> & <chr> & <chr> & <dbl> & <dbl> & <dbl> & <dbl> & <lgl> & <dbl> & ⋯ & <dbl> & <dbl> & <dbl> & <dbl> & <dbl> & <dbl> & <dbl> & <dbl> & <dbl> & <dbl>\\\\\n",
       "\\hline\n",
       "\t 9 & 2023-02-10 & Buy CF & CFCF &   50 & 4.7450 &   237.25 &    0 & TRUE & 0 & ⋯ & 4.7450 &  237.25 &   50 & 5.5124 &   275.62 &   38.37 &    0 & 0.0000 &    0.00 & 1\\\\\n",
       "\t 9 & 2023-02-10 & Buy    & AMC  & 2000 & 4.7450 &  9490.00 & 1950 & TRUE & 0 & ⋯ & 4.7450 & 9252.75 & 1950 & 5.5124 & 10749.18 & 1496.43 &   50 & 4.7450 &  237.25 & 0\\\\\n",
       "\t 7 & 2023-01-27 & Buy CF & CFCF & 1050 & 5.2394 &  5501.37 &    0 & TRUE & 0 & ⋯ & 5.2394 & 5501.37 & 1050 & 5.5124 &  5788.02 &  286.65 &    0 & 0.0000 &    0.00 & 1\\\\\n",
       "\t 7 & 2023-01-27 & Buy    & AMC  & 2000 & 5.2394 & 10478.80 &  950 & TRUE & 0 & ⋯ & 5.2394 & 4977.43 &  950 & 5.5124 &  5236.78 &  259.35 & 1050 & 5.2394 & 5501.37 & 0\\\\\n",
       "\t 5 & 2023-01-23 & Buy CF & CFCF &   50 & 5.7880 &   289.40 &    0 & TRUE & 0 & ⋯ & 5.7880 &  289.40 &   50 & 5.5124 &   275.62 &  -13.78 &    0 & 0.0000 &    0.00 & 1\\\\\n",
       "\t 5 & 2023-01-23 & Buy    & AMC  & 1000 & 5.7880 &  5788.00 &  950 & TRUE & 0 & ⋯ & 5.7880 & 5498.60 &  950 & 5.5124 &  5236.78 & -261.82 &   50 & 5.7880 &  289.40 & 0\\\\\n",
       "\t 3 & 2023-01-20 & Buy CF & CFCF &   50 & 5.6250 &   281.25 &    0 & TRUE & 0 & ⋯ & 5.6250 &  281.25 &   50 & 5.5124 &   275.62 &   -5.63 &    0 & 0.0000 &    0.00 & 1\\\\\n",
       "\t 3 & 2023-01-20 & Buy    & AMC  & 1000 & 5.6250 &  5625.00 &  950 & TRUE & 0 & ⋯ & 5.6250 & 5343.75 &  950 & 5.5124 &  5236.78 & -106.97 &   50 & 5.6250 &  281.25 & 0\\\\\n",
       "\t 1 & 2022-12-31 & Buy CF & CFCF &   50 & 4.0700 &   203.50 &    0 & TRUE & 0 & ⋯ & 4.0700 &  203.50 &   50 & 5.5124 &   275.62 &   72.12 &    0 & 0.0000 &    0.00 & 1\\\\\n",
       "\t 1 & 2022-12-31 & Buy    & AMC  & 1050 & 4.0700 &  4273.50 & 1000 & TRUE & 0 & ⋯ & 4.0700 & 4070.00 & 1000 & 5.5124 &  5512.40 & 1442.40 &   50 & 4.0700 &  203.50 & 0\\\\\n",
       "\\end{tabular}\n"
      ],
      "text/markdown": [
       "\n",
       "A data.frame: 10 × 23\n",
       "\n",
       "| index &lt;int&gt; | date &lt;date&gt; | type &lt;chr&gt; | co &lt;chr&gt; | quan &lt;dbl&gt; | pps &lt;dbl&gt; | basis &lt;dbl&gt; | sale_quan &lt;dbl&gt; | flag &lt;lgl&gt; | buy_cf_quan &lt;dbl&gt; | ⋯ ⋯ | buy_pps &lt;dbl&gt; | buy_basis &lt;dbl&gt; | sell_quan &lt;dbl&gt; | sell_pps &lt;dbl&gt; | sell_basis &lt;dbl&gt; | profit_loss &lt;dbl&gt; | sold_cf_quan &lt;dbl&gt; | sold_cf_pps &lt;dbl&gt; | sold_cf_basis &lt;dbl&gt; | true_false &lt;dbl&gt; |\n",
       "|---|---|---|---|---|---|---|---|---|---|---|---|---|---|---|---|---|---|---|---|---|\n",
       "| 9 | 2023-02-10 | Buy CF | CFCF |   50 | 4.7450 |   237.25 |    0 | TRUE | 0 | ⋯ | 4.7450 |  237.25 |   50 | 5.5124 |   275.62 |   38.37 |    0 | 0.0000 |    0.00 | 1 |\n",
       "| 9 | 2023-02-10 | Buy    | AMC  | 2000 | 4.7450 |  9490.00 | 1950 | TRUE | 0 | ⋯ | 4.7450 | 9252.75 | 1950 | 5.5124 | 10749.18 | 1496.43 |   50 | 4.7450 |  237.25 | 0 |\n",
       "| 7 | 2023-01-27 | Buy CF | CFCF | 1050 | 5.2394 |  5501.37 |    0 | TRUE | 0 | ⋯ | 5.2394 | 5501.37 | 1050 | 5.5124 |  5788.02 |  286.65 |    0 | 0.0000 |    0.00 | 1 |\n",
       "| 7 | 2023-01-27 | Buy    | AMC  | 2000 | 5.2394 | 10478.80 |  950 | TRUE | 0 | ⋯ | 5.2394 | 4977.43 |  950 | 5.5124 |  5236.78 |  259.35 | 1050 | 5.2394 | 5501.37 | 0 |\n",
       "| 5 | 2023-01-23 | Buy CF | CFCF |   50 | 5.7880 |   289.40 |    0 | TRUE | 0 | ⋯ | 5.7880 |  289.40 |   50 | 5.5124 |   275.62 |  -13.78 |    0 | 0.0000 |    0.00 | 1 |\n",
       "| 5 | 2023-01-23 | Buy    | AMC  | 1000 | 5.7880 |  5788.00 |  950 | TRUE | 0 | ⋯ | 5.7880 | 5498.60 |  950 | 5.5124 |  5236.78 | -261.82 |   50 | 5.7880 |  289.40 | 0 |\n",
       "| 3 | 2023-01-20 | Buy CF | CFCF |   50 | 5.6250 |   281.25 |    0 | TRUE | 0 | ⋯ | 5.6250 |  281.25 |   50 | 5.5124 |   275.62 |   -5.63 |    0 | 0.0000 |    0.00 | 1 |\n",
       "| 3 | 2023-01-20 | Buy    | AMC  | 1000 | 5.6250 |  5625.00 |  950 | TRUE | 0 | ⋯ | 5.6250 | 5343.75 |  950 | 5.5124 |  5236.78 | -106.97 |   50 | 5.6250 |  281.25 | 0 |\n",
       "| 1 | 2022-12-31 | Buy CF | CFCF |   50 | 4.0700 |   203.50 |    0 | TRUE | 0 | ⋯ | 4.0700 |  203.50 |   50 | 5.5124 |   275.62 |   72.12 |    0 | 0.0000 |    0.00 | 1 |\n",
       "| 1 | 2022-12-31 | Buy    | AMC  | 1050 | 4.0700 |  4273.50 | 1000 | TRUE | 0 | ⋯ | 4.0700 | 4070.00 | 1000 | 5.5124 |  5512.40 | 1442.40 |   50 | 4.0700 |  203.50 | 0 |\n",
       "\n"
      ],
      "text/plain": [
       "   index date       type   co   quan pps    basis    sale_quan flag buy_cf_quan\n",
       "1  9     2023-02-10 Buy CF CFCF   50 4.7450   237.25    0      TRUE 0          \n",
       "2  9     2023-02-10 Buy    AMC  2000 4.7450  9490.00 1950      TRUE 0          \n",
       "3  7     2023-01-27 Buy CF CFCF 1050 5.2394  5501.37    0      TRUE 0          \n",
       "4  7     2023-01-27 Buy    AMC  2000 5.2394 10478.80  950      TRUE 0          \n",
       "5  5     2023-01-23 Buy CF CFCF   50 5.7880   289.40    0      TRUE 0          \n",
       "6  5     2023-01-23 Buy    AMC  1000 5.7880  5788.00  950      TRUE 0          \n",
       "7  3     2023-01-20 Buy CF CFCF   50 5.6250   281.25    0      TRUE 0          \n",
       "8  3     2023-01-20 Buy    AMC  1000 5.6250  5625.00  950      TRUE 0          \n",
       "9  1     2022-12-31 Buy CF CFCF   50 4.0700   203.50    0      TRUE 0          \n",
       "10 1     2022-12-31 Buy    AMC  1050 4.0700  4273.50 1000      TRUE 0          \n",
       "   ⋯ buy_pps buy_basis sell_quan sell_pps sell_basis profit_loss sold_cf_quan\n",
       "1  ⋯ 4.7450   237.25     50      5.5124     275.62     38.37        0        \n",
       "2  ⋯ 4.7450  9252.75   1950      5.5124   10749.18   1496.43       50        \n",
       "3  ⋯ 5.2394  5501.37   1050      5.5124    5788.02    286.65        0        \n",
       "4  ⋯ 5.2394  4977.43    950      5.5124    5236.78    259.35     1050        \n",
       "5  ⋯ 5.7880   289.40     50      5.5124     275.62    -13.78        0        \n",
       "6  ⋯ 5.7880  5498.60    950      5.5124    5236.78   -261.82       50        \n",
       "7  ⋯ 5.6250   281.25     50      5.5124     275.62     -5.63        0        \n",
       "8  ⋯ 5.6250  5343.75    950      5.5124    5236.78   -106.97       50        \n",
       "9  ⋯ 4.0700   203.50     50      5.5124     275.62     72.12        0        \n",
       "10 ⋯ 4.0700  4070.00   1000      5.5124    5512.40   1442.40       50        \n",
       "   sold_cf_pps sold_cf_basis true_false\n",
       "1  0.0000         0.00       1         \n",
       "2  4.7450       237.25       0         \n",
       "3  0.0000         0.00       1         \n",
       "4  5.2394      5501.37       0         \n",
       "5  0.0000         0.00       1         \n",
       "6  5.7880       289.40       0         \n",
       "7  0.0000         0.00       1         \n",
       "8  5.6250       281.25       0         \n",
       "9  0.0000         0.00       1         \n",
       "10 4.0700       203.50       0         "
      ]
     },
     "metadata": {},
     "output_type": "display_data"
    }
   ],
   "source": [
    "sale_records\n"
   ]
  },
  {
   "cell_type": "code",
   "execution_count": null,
   "id": "b1fa4980-9700-4013-b4ad-5f350cf273fb",
   "metadata": {},
   "outputs": [],
   "source": []
  },
  {
   "cell_type": "markdown",
   "id": "7b43f542-82ab-4e64-a05b-bf3354046a92",
   "metadata": {},
   "source": [
    "#### <font color = lime> QC: Loop 10 review buys & sells\n"
   ]
  },
  {
   "cell_type": "code",
   "execution_count": 124,
   "id": "5528aa63-7b22-4e40-a925-43dc7b798d27",
   "metadata": {},
   "outputs": [
    {
     "data": {
      "text/html": [
       "<style>\n",
       ".list-inline {list-style: none; margin:0; padding: 0}\n",
       ".list-inline>li {display: inline-block}\n",
       ".list-inline>li:not(:last-child)::after {content: \"\\00b7\"; padding: 0 .5ex}\n",
       "</style>\n",
       "<ol class=list-inline><li>18</li><li>23</li></ol>\n"
      ],
      "text/latex": [
       "\\begin{enumerate*}\n",
       "\\item 18\n",
       "\\item 23\n",
       "\\end{enumerate*}\n"
      ],
      "text/markdown": [
       "1. 18\n",
       "2. 23\n",
       "\n",
       "\n"
      ],
      "text/plain": [
       "[1] 18 23"
      ]
     },
     "metadata": {},
     "output_type": "display_data"
    },
    {
     "data": {
      "text/html": [
       "<style>\n",
       ".list-inline {list-style: none; margin:0; padding: 0}\n",
       ".list-inline>li {display: inline-block}\n",
       ".list-inline>li:not(:last-child)::after {content: \"\\00b7\"; padding: 0 .5ex}\n",
       "</style>\n",
       "<ol class=list-inline><li>13</li><li>23</li></ol>\n"
      ],
      "text/latex": [
       "\\begin{enumerate*}\n",
       "\\item 13\n",
       "\\item 23\n",
       "\\end{enumerate*}\n"
      ],
      "text/markdown": [
       "1. 13\n",
       "2. 23\n",
       "\n",
       "\n"
      ],
      "text/plain": [
       "[1] 13 23"
      ]
     },
     "metadata": {},
     "output_type": "display_data"
    },
    {
     "data": {
      "text/html": [
       "<table class=\"dataframe\">\n",
       "<caption>A data.frame: 4 × 23</caption>\n",
       "<thead>\n",
       "\t<tr><th></th><th scope=col>index</th><th scope=col>date</th><th scope=col>type</th><th scope=col>co</th><th scope=col>quan</th><th scope=col>pps</th><th scope=col>basis</th><th scope=col>sale_quan</th><th scope=col>flag</th><th scope=col>buy_cf_quan</th><th scope=col>⋯</th><th scope=col>buy_pps</th><th scope=col>buy_basis</th><th scope=col>sell_quan</th><th scope=col>sell_pps</th><th scope=col>sell_basis</th><th scope=col>profit_loss</th><th scope=col>sold_cf_quan</th><th scope=col>sold_cf_pps</th><th scope=col>sold_cf_basis</th><th scope=col>true_false</th></tr>\n",
       "\t<tr><th></th><th scope=col>&lt;int&gt;</th><th scope=col>&lt;date&gt;</th><th scope=col>&lt;chr&gt;</th><th scope=col>&lt;chr&gt;</th><th scope=col>&lt;dbl&gt;</th><th scope=col>&lt;dbl&gt;</th><th scope=col>&lt;dbl&gt;</th><th scope=col>&lt;dbl&gt;</th><th scope=col>&lt;lgl&gt;</th><th scope=col>&lt;dbl&gt;</th><th scope=col>⋯</th><th scope=col>&lt;dbl&gt;</th><th scope=col>&lt;dbl&gt;</th><th scope=col>&lt;dbl&gt;</th><th scope=col>&lt;dbl&gt;</th><th scope=col>&lt;dbl&gt;</th><th scope=col>&lt;dbl&gt;</th><th scope=col>&lt;dbl&gt;</th><th scope=col>&lt;dbl&gt;</th><th scope=col>&lt;dbl&gt;</th><th scope=col>&lt;dbl&gt;</th></tr>\n",
       "</thead>\n",
       "<tbody>\n",
       "\t<tr><th scope=row>3</th><td>11</td><td>2023-02-10</td><td>Buy</td><td>AMC</td><td>1000</td><td>4.7800</td><td> 4780.00</td><td>0</td><td>FALSE</td><td>0</td><td>⋯</td><td>0</td><td>0</td><td>0</td><td>0</td><td>0</td><td>0</td><td>0</td><td>0</td><td>0</td><td>0</td></tr>\n",
       "\t<tr><th scope=row>4</th><td>12</td><td>2023-02-13</td><td>Buy</td><td>AMC</td><td>3000</td><td>4.7296</td><td>14188.80</td><td>0</td><td>FALSE</td><td>0</td><td>⋯</td><td>0</td><td>0</td><td>0</td><td>0</td><td>0</td><td>0</td><td>0</td><td>0</td><td>0</td><td>0</td></tr>\n",
       "\t<tr><th scope=row>5</th><td>13</td><td>2023-02-13</td><td>Buy</td><td>AMC</td><td>1500</td><td>4.7183</td><td> 7077.45</td><td>0</td><td>FALSE</td><td>0</td><td>⋯</td><td>0</td><td>0</td><td>0</td><td>0</td><td>0</td><td>0</td><td>0</td><td>0</td><td>0</td><td>0</td></tr>\n",
       "\t<tr><th scope=row>6</th><td>14</td><td>2023-02-13</td><td>Buy</td><td>AMC</td><td> 300</td><td>4.7167</td><td> 1415.01</td><td>0</td><td>FALSE</td><td>0</td><td>⋯</td><td>0</td><td>0</td><td>0</td><td>0</td><td>0</td><td>0</td><td>0</td><td>0</td><td>0</td><td>0</td></tr>\n",
       "</tbody>\n",
       "</table>\n"
      ],
      "text/latex": [
       "A data.frame: 4 × 23\n",
       "\\begin{tabular}{r|lllllllllllllllllllll}\n",
       "  & index & date & type & co & quan & pps & basis & sale\\_quan & flag & buy\\_cf\\_quan & ⋯ & buy\\_pps & buy\\_basis & sell\\_quan & sell\\_pps & sell\\_basis & profit\\_loss & sold\\_cf\\_quan & sold\\_cf\\_pps & sold\\_cf\\_basis & true\\_false\\\\\n",
       "  & <int> & <date> & <chr> & <chr> & <dbl> & <dbl> & <dbl> & <dbl> & <lgl> & <dbl> & ⋯ & <dbl> & <dbl> & <dbl> & <dbl> & <dbl> & <dbl> & <dbl> & <dbl> & <dbl> & <dbl>\\\\\n",
       "\\hline\n",
       "\t3 & 11 & 2023-02-10 & Buy & AMC & 1000 & 4.7800 &  4780.00 & 0 & FALSE & 0 & ⋯ & 0 & 0 & 0 & 0 & 0 & 0 & 0 & 0 & 0 & 0\\\\\n",
       "\t4 & 12 & 2023-02-13 & Buy & AMC & 3000 & 4.7296 & 14188.80 & 0 & FALSE & 0 & ⋯ & 0 & 0 & 0 & 0 & 0 & 0 & 0 & 0 & 0 & 0\\\\\n",
       "\t5 & 13 & 2023-02-13 & Buy & AMC & 1500 & 4.7183 &  7077.45 & 0 & FALSE & 0 & ⋯ & 0 & 0 & 0 & 0 & 0 & 0 & 0 & 0 & 0 & 0\\\\\n",
       "\t6 & 14 & 2023-02-13 & Buy & AMC &  300 & 4.7167 &  1415.01 & 0 & FALSE & 0 & ⋯ & 0 & 0 & 0 & 0 & 0 & 0 & 0 & 0 & 0 & 0\\\\\n",
       "\\end{tabular}\n"
      ],
      "text/markdown": [
       "\n",
       "A data.frame: 4 × 23\n",
       "\n",
       "| <!--/--> | index &lt;int&gt; | date &lt;date&gt; | type &lt;chr&gt; | co &lt;chr&gt; | quan &lt;dbl&gt; | pps &lt;dbl&gt; | basis &lt;dbl&gt; | sale_quan &lt;dbl&gt; | flag &lt;lgl&gt; | buy_cf_quan &lt;dbl&gt; | ⋯ ⋯ | buy_pps &lt;dbl&gt; | buy_basis &lt;dbl&gt; | sell_quan &lt;dbl&gt; | sell_pps &lt;dbl&gt; | sell_basis &lt;dbl&gt; | profit_loss &lt;dbl&gt; | sold_cf_quan &lt;dbl&gt; | sold_cf_pps &lt;dbl&gt; | sold_cf_basis &lt;dbl&gt; | true_false &lt;dbl&gt; |\n",
       "|---|---|---|---|---|---|---|---|---|---|---|---|---|---|---|---|---|---|---|---|---|---|\n",
       "| 3 | 11 | 2023-02-10 | Buy | AMC | 1000 | 4.7800 |  4780.00 | 0 | FALSE | 0 | ⋯ | 0 | 0 | 0 | 0 | 0 | 0 | 0 | 0 | 0 | 0 |\n",
       "| 4 | 12 | 2023-02-13 | Buy | AMC | 3000 | 4.7296 | 14188.80 | 0 | FALSE | 0 | ⋯ | 0 | 0 | 0 | 0 | 0 | 0 | 0 | 0 | 0 | 0 |\n",
       "| 5 | 13 | 2023-02-13 | Buy | AMC | 1500 | 4.7183 |  7077.45 | 0 | FALSE | 0 | ⋯ | 0 | 0 | 0 | 0 | 0 | 0 | 0 | 0 | 0 | 0 |\n",
       "| 6 | 14 | 2023-02-13 | Buy | AMC |  300 | 4.7167 |  1415.01 | 0 | FALSE | 0 | ⋯ | 0 | 0 | 0 | 0 | 0 | 0 | 0 | 0 | 0 | 0 |\n",
       "\n"
      ],
      "text/plain": [
       "  index date       type co  quan pps    basis    sale_quan flag  buy_cf_quan ⋯\n",
       "3 11    2023-02-10 Buy  AMC 1000 4.7800  4780.00 0         FALSE 0           ⋯\n",
       "4 12    2023-02-13 Buy  AMC 3000 4.7296 14188.80 0         FALSE 0           ⋯\n",
       "5 13    2023-02-13 Buy  AMC 1500 4.7183  7077.45 0         FALSE 0           ⋯\n",
       "6 14    2023-02-13 Buy  AMC  300 4.7167  1415.01 0         FALSE 0           ⋯\n",
       "  buy_pps buy_basis sell_quan sell_pps sell_basis profit_loss sold_cf_quan\n",
       "3 0       0         0         0        0          0           0           \n",
       "4 0       0         0         0        0          0           0           \n",
       "5 0       0         0         0        0          0           0           \n",
       "6 0       0         0         0        0          0           0           \n",
       "  sold_cf_pps sold_cf_basis true_false\n",
       "3 0           0             0         \n",
       "4 0           0             0         \n",
       "5 0           0             0         \n",
       "6 0           0             0         "
      ]
     },
     "metadata": {},
     "output_type": "display_data"
    },
    {
     "data": {
      "text/html": [
       "<table class=\"dataframe\">\n",
       "<caption>A data.frame: 4 × 23</caption>\n",
       "<thead>\n",
       "\t<tr><th></th><th scope=col>index</th><th scope=col>date</th><th scope=col>type</th><th scope=col>co</th><th scope=col>quan</th><th scope=col>pps</th><th scope=col>basis</th><th scope=col>sale_quan</th><th scope=col>flag</th><th scope=col>buy_cf_quan</th><th scope=col>⋯</th><th scope=col>buy_pps</th><th scope=col>buy_basis</th><th scope=col>sell_quan</th><th scope=col>sell_pps</th><th scope=col>sell_basis</th><th scope=col>profit_loss</th><th scope=col>sold_cf_quan</th><th scope=col>sold_cf_pps</th><th scope=col>sold_cf_basis</th><th scope=col>true_false</th></tr>\n",
       "\t<tr><th></th><th scope=col>&lt;int&gt;</th><th scope=col>&lt;date&gt;</th><th scope=col>&lt;chr&gt;</th><th scope=col>&lt;chr&gt;</th><th scope=col>&lt;dbl&gt;</th><th scope=col>&lt;dbl&gt;</th><th scope=col>&lt;dbl&gt;</th><th scope=col>&lt;dbl&gt;</th><th scope=col>&lt;lgl&gt;</th><th scope=col>&lt;dbl&gt;</th><th scope=col>⋯</th><th scope=col>&lt;dbl&gt;</th><th scope=col>&lt;dbl&gt;</th><th scope=col>&lt;dbl&gt;</th><th scope=col>&lt;dbl&gt;</th><th scope=col>&lt;dbl&gt;</th><th scope=col>&lt;dbl&gt;</th><th scope=col>&lt;dbl&gt;</th><th scope=col>&lt;dbl&gt;</th><th scope=col>&lt;dbl&gt;</th><th scope=col>&lt;dbl&gt;</th></tr>\n",
       "</thead>\n",
       "<tbody>\n",
       "\t<tr><th scope=row>3</th><td>16</td><td>2023-02-22</td><td>Sell</td><td>AMC</td><td>5950</td><td>5.5124</td><td>32798.78</td><td>0</td><td>FALSE</td><td>0</td><td>⋯</td><td>0</td><td>0</td><td>0</td><td>0</td><td>0</td><td>0</td><td>0</td><td>0</td><td>0</td><td>0</td></tr>\n",
       "\t<tr><th scope=row>4</th><td>18</td><td>2023-02-27</td><td>Sell</td><td>AMC</td><td>3000</td><td>7.8160</td><td>23448.00</td><td>0</td><td>FALSE</td><td>0</td><td>⋯</td><td>0</td><td>0</td><td>0</td><td>0</td><td>0</td><td>0</td><td>0</td><td>0</td><td>0</td><td>0</td></tr>\n",
       "\t<tr><th scope=row>5</th><td>19</td><td>2023-02-27</td><td>Sell</td><td>AMC</td><td>1850</td><td>7.5850</td><td>14032.25</td><td>0</td><td>FALSE</td><td>0</td><td>⋯</td><td>0</td><td>0</td><td>0</td><td>0</td><td>0</td><td>0</td><td>0</td><td>0</td><td>0</td><td>0</td></tr>\n",
       "\t<tr><th scope=row>6</th><td>20</td><td>2023-02-27</td><td>Sell</td><td>AMC</td><td>1000</td><td>7.8160</td><td> 7816.00</td><td>0</td><td>FALSE</td><td>0</td><td>⋯</td><td>0</td><td>0</td><td>0</td><td>0</td><td>0</td><td>0</td><td>0</td><td>0</td><td>0</td><td>0</td></tr>\n",
       "</tbody>\n",
       "</table>\n"
      ],
      "text/latex": [
       "A data.frame: 4 × 23\n",
       "\\begin{tabular}{r|lllllllllllllllllllll}\n",
       "  & index & date & type & co & quan & pps & basis & sale\\_quan & flag & buy\\_cf\\_quan & ⋯ & buy\\_pps & buy\\_basis & sell\\_quan & sell\\_pps & sell\\_basis & profit\\_loss & sold\\_cf\\_quan & sold\\_cf\\_pps & sold\\_cf\\_basis & true\\_false\\\\\n",
       "  & <int> & <date> & <chr> & <chr> & <dbl> & <dbl> & <dbl> & <dbl> & <lgl> & <dbl> & ⋯ & <dbl> & <dbl> & <dbl> & <dbl> & <dbl> & <dbl> & <dbl> & <dbl> & <dbl> & <dbl>\\\\\n",
       "\\hline\n",
       "\t3 & 16 & 2023-02-22 & Sell & AMC & 5950 & 5.5124 & 32798.78 & 0 & FALSE & 0 & ⋯ & 0 & 0 & 0 & 0 & 0 & 0 & 0 & 0 & 0 & 0\\\\\n",
       "\t4 & 18 & 2023-02-27 & Sell & AMC & 3000 & 7.8160 & 23448.00 & 0 & FALSE & 0 & ⋯ & 0 & 0 & 0 & 0 & 0 & 0 & 0 & 0 & 0 & 0\\\\\n",
       "\t5 & 19 & 2023-02-27 & Sell & AMC & 1850 & 7.5850 & 14032.25 & 0 & FALSE & 0 & ⋯ & 0 & 0 & 0 & 0 & 0 & 0 & 0 & 0 & 0 & 0\\\\\n",
       "\t6 & 20 & 2023-02-27 & Sell & AMC & 1000 & 7.8160 &  7816.00 & 0 & FALSE & 0 & ⋯ & 0 & 0 & 0 & 0 & 0 & 0 & 0 & 0 & 0 & 0\\\\\n",
       "\\end{tabular}\n"
      ],
      "text/markdown": [
       "\n",
       "A data.frame: 4 × 23\n",
       "\n",
       "| <!--/--> | index &lt;int&gt; | date &lt;date&gt; | type &lt;chr&gt; | co &lt;chr&gt; | quan &lt;dbl&gt; | pps &lt;dbl&gt; | basis &lt;dbl&gt; | sale_quan &lt;dbl&gt; | flag &lt;lgl&gt; | buy_cf_quan &lt;dbl&gt; | ⋯ ⋯ | buy_pps &lt;dbl&gt; | buy_basis &lt;dbl&gt; | sell_quan &lt;dbl&gt; | sell_pps &lt;dbl&gt; | sell_basis &lt;dbl&gt; | profit_loss &lt;dbl&gt; | sold_cf_quan &lt;dbl&gt; | sold_cf_pps &lt;dbl&gt; | sold_cf_basis &lt;dbl&gt; | true_false &lt;dbl&gt; |\n",
       "|---|---|---|---|---|---|---|---|---|---|---|---|---|---|---|---|---|---|---|---|---|---|\n",
       "| 3 | 16 | 2023-02-22 | Sell | AMC | 5950 | 5.5124 | 32798.78 | 0 | FALSE | 0 | ⋯ | 0 | 0 | 0 | 0 | 0 | 0 | 0 | 0 | 0 | 0 |\n",
       "| 4 | 18 | 2023-02-27 | Sell | AMC | 3000 | 7.8160 | 23448.00 | 0 | FALSE | 0 | ⋯ | 0 | 0 | 0 | 0 | 0 | 0 | 0 | 0 | 0 | 0 |\n",
       "| 5 | 19 | 2023-02-27 | Sell | AMC | 1850 | 7.5850 | 14032.25 | 0 | FALSE | 0 | ⋯ | 0 | 0 | 0 | 0 | 0 | 0 | 0 | 0 | 0 | 0 |\n",
       "| 6 | 20 | 2023-02-27 | Sell | AMC | 1000 | 7.8160 |  7816.00 | 0 | FALSE | 0 | ⋯ | 0 | 0 | 0 | 0 | 0 | 0 | 0 | 0 | 0 | 0 |\n",
       "\n"
      ],
      "text/plain": [
       "  index date       type co  quan pps    basis    sale_quan flag  buy_cf_quan ⋯\n",
       "3 16    2023-02-22 Sell AMC 5950 5.5124 32798.78 0         FALSE 0           ⋯\n",
       "4 18    2023-02-27 Sell AMC 3000 7.8160 23448.00 0         FALSE 0           ⋯\n",
       "5 19    2023-02-27 Sell AMC 1850 7.5850 14032.25 0         FALSE 0           ⋯\n",
       "6 20    2023-02-27 Sell AMC 1000 7.8160  7816.00 0         FALSE 0           ⋯\n",
       "  buy_pps buy_basis sell_quan sell_pps sell_basis profit_loss sold_cf_quan\n",
       "3 0       0         0         0        0          0           0           \n",
       "4 0       0         0         0        0          0           0           \n",
       "5 0       0         0         0        0          0           0           \n",
       "6 0       0         0         0        0          0           0           \n",
       "  sold_cf_pps sold_cf_basis true_false\n",
       "3 0           0             0         \n",
       "4 0           0             0         \n",
       "5 0           0             0         \n",
       "6 0           0             0         "
      ]
     },
     "metadata": {},
     "output_type": "display_data"
    }
   ],
   "source": [
    "\n",
    "dim(buys)\n",
    "dim(sells)\n",
    "head(buys,4)\n",
    "head(sells,4)\n"
   ]
  },
  {
   "cell_type": "code",
   "execution_count": 125,
   "id": "2c93b704-2088-4b9e-92df-96517e70fc14",
   "metadata": {},
   "outputs": [],
   "source": [
    "# stopps\n"
   ]
  },
  {
   "cell_type": "markdown",
   "id": "b0b4f0c1-85c4-4eae-a946-8c991cc2307b",
   "metadata": {},
   "source": [
    "# <font color = cyan> Proof of Concept above. End of loop 10"
   ]
  },
  {
   "cell_type": "code",
   "execution_count": null,
   "id": "63fd36fe-d7e2-4c3c-80de-1dad18bd1f7e",
   "metadata": {},
   "outputs": [],
   "source": []
  },
  {
   "cell_type": "code",
   "execution_count": null,
   "id": "6de0e9ab-1aa3-4016-907e-949d13ba46b7",
   "metadata": {},
   "outputs": [],
   "source": []
  },
  {
   "cell_type": "markdown",
   "id": "cdfba2b8-34b7-4d58-857b-68e9f153fe74",
   "metadata": {},
   "source": []
  },
  {
   "cell_type": "code",
   "execution_count": null,
   "id": "106e744d-1b51-4aec-a736-be51892409cc",
   "metadata": {},
   "outputs": [],
   "source": []
  },
  {
   "cell_type": "code",
   "execution_count": null,
   "id": "e22e0206-9f91-4b35-85d8-67a2202f2dec",
   "metadata": {},
   "outputs": [],
   "source": []
  },
  {
   "cell_type": "markdown",
   "id": "f36bc2b5-5c13-4923-8663-012159487cc5",
   "metadata": {},
   "source": []
  },
  {
   "cell_type": "code",
   "execution_count": null,
   "id": "8e40a95a-e104-42bc-b9e5-4411d70363d3",
   "metadata": {},
   "outputs": [],
   "source": []
  },
  {
   "cell_type": "code",
   "execution_count": null,
   "id": "f6155f5b-ce0d-4c19-9bc9-9f48f4d81c66",
   "metadata": {},
   "outputs": [],
   "source": []
  },
  {
   "cell_type": "markdown",
   "id": "8fc421ab-b1f4-4d1f-b910-df3c786110ae",
   "metadata": {},
   "source": []
  },
  {
   "cell_type": "code",
   "execution_count": null,
   "id": "97019cae-f139-40c9-979c-3a132d50670d",
   "metadata": {},
   "outputs": [],
   "source": []
  },
  {
   "cell_type": "code",
   "execution_count": null,
   "id": "b47c114b-4dea-414f-abc2-ade8573623c3",
   "metadata": {},
   "outputs": [],
   "source": []
  },
  {
   "cell_type": "markdown",
   "id": "db2b3e2c-4792-41cd-937d-1e790fb1b256",
   "metadata": {},
   "source": []
  },
  {
   "cell_type": "code",
   "execution_count": null,
   "id": "dff1e030-5794-439d-a18f-5720c4206f4b",
   "metadata": {},
   "outputs": [],
   "source": []
  },
  {
   "cell_type": "code",
   "execution_count": null,
   "id": "ec28a0ab-872a-4ff2-97b1-e5798d186df9",
   "metadata": {},
   "outputs": [],
   "source": []
  },
  {
   "cell_type": "markdown",
   "id": "0df447e0-57a3-4b36-8d38-1ebf7eacc680",
   "metadata": {},
   "source": []
  },
  {
   "cell_type": "code",
   "execution_count": null,
   "id": "f6a0e4bf-ffa5-44e6-80d8-a74ef1cbc2e2",
   "metadata": {},
   "outputs": [],
   "source": []
  },
  {
   "cell_type": "code",
   "execution_count": null,
   "id": "1cb812a2-6e69-4b88-ab6e-0deacca28c7f",
   "metadata": {},
   "outputs": [],
   "source": []
  },
  {
   "cell_type": "markdown",
   "id": "5bb072ba-70ba-4b3d-b601-5f8f6b2556a1",
   "metadata": {},
   "source": []
  },
  {
   "cell_type": "code",
   "execution_count": 126,
   "id": "92127463-90e9-4f97-93dc-9b59d95b2825",
   "metadata": {},
   "outputs": [
    {
     "ename": "ERROR",
     "evalue": "Error in eval(expr, envir, enclos): object 'stopps' not found\n",
     "output_type": "error",
     "traceback": [
      "Error in eval(expr, envir, enclos): object 'stopps' not found\nTraceback:\n"
     ]
    }
   ],
   "source": [
    " stopps"
   ]
  },
  {
   "cell_type": "code",
   "execution_count": null,
   "id": "a9137307-8860-4338-8818-ea5cb88d0965",
   "metadata": {},
   "outputs": [],
   "source": []
  },
  {
   "cell_type": "code",
   "execution_count": null,
   "id": "31f2eb8f-40ae-4e8b-a827-872bcb6c825e",
   "metadata": {},
   "outputs": [],
   "source": [
    "library(tibble)\n",
    "create_data()\n",
    "sale_records <- data.frame()\n",
    "   \n",
    "\n",
    "for(i in 1:) {\n",
    "# for(i in 1:nrow(buys)) {\n",
    "    \n",
    "    tester <- function() {\n",
    "    if(buys$type[i] == \"Buy\" && sells$type[i+1] == \"Sell\") {\n",
    "        cat(\"\\n Std buy/sell row orientation.  buys$type[i] = : \", buys$type[i], \"sells$type[i+1] = : \", sells$type[i+1],  \"\\n\")    \n",
    "    }else if( buys$type[i] != \"Buy\" && sells$type[i+1] == \"Sell\") {\n",
    "        cat(\"\\n Irregular buy/sell row postion. buys$type[i] = : \", buys$type[i], \"sells$type[i+1] = : \", sells$type[i+1],  \"\\n\")   \n",
    "    }\n",
    "  } # fct\n",
    "    \n",
    "    \n",
    "tester()\n",
    "    \n",
    "    b <- buys[1,]\n",
    "    s <- sells[1,]\n",
    "    \n",
    "    # fct call 2\n",
    "    updated_b_list <- update_b(b,s,buys)\n",
    "    updated_b <- updated_b_list[[1]]\n",
    "    updated_s <- updated_b_list[[2]]\n",
    "    buys <- updated_b_list[[3]]\n",
    "    \n",
    "    # fct call 3\n",
    "    if(i == 1) {\n",
    "    sale_records <- rbind(sale_records, updated_b)            \n",
    "    } else {sale_records <- sale_records %>% add_row(updated_b , .before = 1) }\n",
    "    \n",
    "    # fct call 4\n",
    "    return_list <- update_buys_sells(buys, sells)\n",
    "    buys <- return_list[[1]]\n",
    "    sells <- return_list[[2]]\n",
    "    # fct call 5\n",
    "    copy_snip_list <- copy_snip(b, s, buys, sells) \n",
    "    b1 <- copy_snip_list[[1]]\n",
    "    s1 <- copy_snip_list[[2]]\n",
    "    buys <- copy_snip_list[[3]]\n",
    "    sells <- copy_snip_list[[4]]\n",
    "    \n",
    "    }\n",
    "                            \n",
    "sale_records"
   ]
  },
  {
   "cell_type": "code",
   "execution_count": null,
   "id": "756c3a5b-594d-4c84-8ab9-bf95570976ef",
   "metadata": {},
   "outputs": [],
   "source": [
    "write.csv(sale_records, file = \"sale_records.csv\")"
   ]
  },
  {
   "cell_type": "code",
   "execution_count": null,
   "id": "add11a92-118c-4279-a0e4-3f6db1034e39",
   "metadata": {},
   "outputs": [],
   "source": []
  },
  {
   "cell_type": "code",
   "execution_count": null,
   "id": "be9c49e0-4c88-4756-b004-f6b5ebecbec6",
   "metadata": {},
   "outputs": [],
   "source": [
    "?write.csv"
   ]
  },
  {
   "cell_type": "code",
   "execution_count": null,
   "id": "5fd0a68e-db94-4aae-ab98-c573b0090899",
   "metadata": {},
   "outputs": [],
   "source": []
  },
  {
   "cell_type": "code",
   "execution_count": null,
   "id": "9666e86a-97a9-454c-af04-2cdbc549bffb",
   "metadata": {},
   "outputs": [],
   "source": []
  },
  {
   "cell_type": "code",
   "execution_count": null,
   "id": "bf753393-d276-4906-90a6-01081019b29d",
   "metadata": {},
   "outputs": [],
   "source": []
  }
 ],
 "metadata": {
  "kernelspec": {
   "display_name": "R",
   "language": "R",
   "name": "ir"
  },
  "language_info": {
   "codemirror_mode": "r",
   "file_extension": ".r",
   "mimetype": "text/x-r-source",
   "name": "R",
   "pygments_lexer": "r",
   "version": "4.3.0"
  }
 },
 "nbformat": 4,
 "nbformat_minor": 5
}
