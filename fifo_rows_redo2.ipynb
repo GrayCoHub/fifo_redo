{
 "cells": [
  {
   "cell_type": "markdown",
   "id": "8a4f934a-bc5d-4389-8931-fa890b8b83b6",
   "metadata": {},
   "source": [
    "### <font color = yellow> This is a clean copy of fifo_rows_redo.ipynb at creation point"
   ]
  },
  {
   "cell_type": "code",
   "execution_count": null,
   "id": "95cbb875-6b9c-4a01-bf64-3197b32a7fd7",
   "metadata": {},
   "outputs": [],
   "source": []
  },
  {
   "cell_type": "code",
   "execution_count": 1,
   "id": "1a40d688-bd55-4df2-be07-c685b667921e",
   "metadata": {},
   "outputs": [],
   "source": [
    "library(tibble)"
   ]
  },
  {
   "cell_type": "code",
   "execution_count": 2,
   "id": "2c80d5a2-6093-4214-8997-320bba4a3ee0",
   "metadata": {},
   "outputs": [
    {
     "name": "stdout",
     "output_type": "stream",
     "text": [
      "One | Two | Three\n"
     ]
    }
   ],
   "source": [
    "cat(\"One\", \"Two\", \"Three\", sep = \" | \", fill = TRUE)"
   ]
  },
  {
   "cell_type": "code",
   "execution_count": null,
   "id": "b43ec630-440e-4d08-8a35-7ed746140572",
   "metadata": {},
   "outputs": [],
   "source": []
  },
  {
   "cell_type": "code",
   "execution_count": 3,
   "id": "688be791-4012-4380-9bd0-e831c4aa6d77",
   "metadata": {},
   "outputs": [],
   "source": [
    "options(pillar.width = Inf)\n"
   ]
  },
  {
   "cell_type": "markdown",
   "id": "18bdfbd9-160f-4efc-b792-3f83ccd72b58",
   "metadata": {},
   "source": [
    "## <font color = yellow> create_df function () - reads .csv"
   ]
  },
  {
   "cell_type": "code",
   "execution_count": 4,
   "id": "51840835-30c6-4641-bdaa-649d2fd9a34c",
   "metadata": {},
   "outputs": [],
   "source": [
    "   \n",
    "df <- read.csv(\"fifo_new.csv\", header = TRUE, sep = \",\")\n",
    "df$date <- as.Date(df$date, origin = \"1899-12-30\")"
   ]
  },
  {
   "cell_type": "code",
   "execution_count": 5,
   "id": "5a314ebe-1db3-4cbb-a923-f7978130ee34",
   "metadata": {},
   "outputs": [
    {
     "data": {
      "text/html": [
       "<table class=\"dataframe\">\n",
       "<caption>A data.frame: 2 × 23</caption>\n",
       "<thead>\n",
       "\t<tr><th></th><th scope=col>index</th><th scope=col>date</th><th scope=col>type</th><th scope=col>co</th><th scope=col>quan</th><th scope=col>pps</th><th scope=col>basis</th><th scope=col>sale_quan</th><th scope=col>flag</th><th scope=col>buy_cf_quan</th><th scope=col>⋯</th><th scope=col>buy_pps</th><th scope=col>buy_basis</th><th scope=col>sell_quan</th><th scope=col>sell_pps</th><th scope=col>sell_basis</th><th scope=col>profit_loss</th><th scope=col>sold_cf_quan</th><th scope=col>sold_cf_pps</th><th scope=col>sold_cf_basis</th><th scope=col>true_false</th></tr>\n",
       "\t<tr><th></th><th scope=col>&lt;int&gt;</th><th scope=col>&lt;date&gt;</th><th scope=col>&lt;chr&gt;</th><th scope=col>&lt;chr&gt;</th><th scope=col>&lt;int&gt;</th><th scope=col>&lt;dbl&gt;</th><th scope=col>&lt;dbl&gt;</th><th scope=col>&lt;int&gt;</th><th scope=col>&lt;int&gt;</th><th scope=col>&lt;int&gt;</th><th scope=col>⋯</th><th scope=col>&lt;dbl&gt;</th><th scope=col>&lt;dbl&gt;</th><th scope=col>&lt;int&gt;</th><th scope=col>&lt;dbl&gt;</th><th scope=col>&lt;dbl&gt;</th><th scope=col>&lt;dbl&gt;</th><th scope=col>&lt;int&gt;</th><th scope=col>&lt;dbl&gt;</th><th scope=col>&lt;dbl&gt;</th><th scope=col>&lt;int&gt;</th></tr>\n",
       "</thead>\n",
       "<tbody>\n",
       "\t<tr><th scope=row>1</th><td>1</td><td>2022-12-31</td><td>Buy </td><td>AMC</td><td> 100</td><td>4.0700</td><td>4273.5</td><td>0</td><td>0</td><td>0</td><td>⋯</td><td>0</td><td>0</td><td>0</td><td>0</td><td>0</td><td>0</td><td>0</td><td>0</td><td>0</td><td>0</td></tr>\n",
       "\t<tr><th scope=row>2</th><td>2</td><td>2023-01-27</td><td>Sell</td><td>AMC</td><td>1000</td><td>5.5124</td><td>5512.4</td><td>0</td><td>0</td><td>0</td><td>⋯</td><td>0</td><td>0</td><td>0</td><td>0</td><td>0</td><td>0</td><td>0</td><td>0</td><td>0</td><td>0</td></tr>\n",
       "</tbody>\n",
       "</table>\n"
      ],
      "text/latex": [
       "A data.frame: 2 × 23\n",
       "\\begin{tabular}{r|lllllllllllllllllllll}\n",
       "  & index & date & type & co & quan & pps & basis & sale\\_quan & flag & buy\\_cf\\_quan & ⋯ & buy\\_pps & buy\\_basis & sell\\_quan & sell\\_pps & sell\\_basis & profit\\_loss & sold\\_cf\\_quan & sold\\_cf\\_pps & sold\\_cf\\_basis & true\\_false\\\\\n",
       "  & <int> & <date> & <chr> & <chr> & <int> & <dbl> & <dbl> & <int> & <int> & <int> & ⋯ & <dbl> & <dbl> & <int> & <dbl> & <dbl> & <dbl> & <int> & <dbl> & <dbl> & <int>\\\\\n",
       "\\hline\n",
       "\t1 & 1 & 2022-12-31 & Buy  & AMC &  100 & 4.0700 & 4273.5 & 0 & 0 & 0 & ⋯ & 0 & 0 & 0 & 0 & 0 & 0 & 0 & 0 & 0 & 0\\\\\n",
       "\t2 & 2 & 2023-01-27 & Sell & AMC & 1000 & 5.5124 & 5512.4 & 0 & 0 & 0 & ⋯ & 0 & 0 & 0 & 0 & 0 & 0 & 0 & 0 & 0 & 0\\\\\n",
       "\\end{tabular}\n"
      ],
      "text/markdown": [
       "\n",
       "A data.frame: 2 × 23\n",
       "\n",
       "| <!--/--> | index &lt;int&gt; | date &lt;date&gt; | type &lt;chr&gt; | co &lt;chr&gt; | quan &lt;int&gt; | pps &lt;dbl&gt; | basis &lt;dbl&gt; | sale_quan &lt;int&gt; | flag &lt;int&gt; | buy_cf_quan &lt;int&gt; | ⋯ ⋯ | buy_pps &lt;dbl&gt; | buy_basis &lt;dbl&gt; | sell_quan &lt;int&gt; | sell_pps &lt;dbl&gt; | sell_basis &lt;dbl&gt; | profit_loss &lt;dbl&gt; | sold_cf_quan &lt;int&gt; | sold_cf_pps &lt;dbl&gt; | sold_cf_basis &lt;dbl&gt; | true_false &lt;int&gt; |\n",
       "|---|---|---|---|---|---|---|---|---|---|---|---|---|---|---|---|---|---|---|---|---|---|\n",
       "| 1 | 1 | 2022-12-31 | Buy  | AMC |  100 | 4.0700 | 4273.5 | 0 | 0 | 0 | ⋯ | 0 | 0 | 0 | 0 | 0 | 0 | 0 | 0 | 0 | 0 |\n",
       "| 2 | 2 | 2023-01-27 | Sell | AMC | 1000 | 5.5124 | 5512.4 | 0 | 0 | 0 | ⋯ | 0 | 0 | 0 | 0 | 0 | 0 | 0 | 0 | 0 | 0 |\n",
       "\n"
      ],
      "text/plain": [
       "  index date       type co  quan pps    basis  sale_quan flag buy_cf_quan ⋯\n",
       "1 1     2022-12-31 Buy  AMC  100 4.0700 4273.5 0         0    0           ⋯\n",
       "2 2     2023-01-27 Sell AMC 1000 5.5124 5512.4 0         0    0           ⋯\n",
       "  buy_pps buy_basis sell_quan sell_pps sell_basis profit_loss sold_cf_quan\n",
       "1 0       0         0         0        0          0           0           \n",
       "2 0       0         0         0        0          0           0           \n",
       "  sold_cf_pps sold_cf_basis true_false\n",
       "1 0           0             0         \n",
       "2 0           0             0         "
      ]
     },
     "metadata": {},
     "output_type": "display_data"
    }
   ],
   "source": [
    "head(df,2)"
   ]
  },
  {
   "cell_type": "code",
   "execution_count": 6,
   "id": "2ec1d402-7bf9-4ec5-8209-ec0c023622f4",
   "metadata": {},
   "outputs": [],
   "source": [
    "df$flag <- FALSE\n",
    "df$true_false <- FALSE\n"
   ]
  },
  {
   "cell_type": "code",
   "execution_count": 7,
   "id": "4c25354d-5db4-4eda-bf18-fe106bfd67ee",
   "metadata": {
    "tags": []
   },
   "outputs": [
    {
     "data": {
      "text/html": [
       "<table class=\"dataframe\">\n",
       "<caption>A data.frame: 2 × 23</caption>\n",
       "<thead>\n",
       "\t<tr><th></th><th scope=col>index</th><th scope=col>date</th><th scope=col>type</th><th scope=col>co</th><th scope=col>quan</th><th scope=col>pps</th><th scope=col>basis</th><th scope=col>sale_quan</th><th scope=col>flag</th><th scope=col>buy_cf_quan</th><th scope=col>⋯</th><th scope=col>buy_pps</th><th scope=col>buy_basis</th><th scope=col>sell_quan</th><th scope=col>sell_pps</th><th scope=col>sell_basis</th><th scope=col>profit_loss</th><th scope=col>sold_cf_quan</th><th scope=col>sold_cf_pps</th><th scope=col>sold_cf_basis</th><th scope=col>true_false</th></tr>\n",
       "\t<tr><th></th><th scope=col>&lt;int&gt;</th><th scope=col>&lt;date&gt;</th><th scope=col>&lt;chr&gt;</th><th scope=col>&lt;chr&gt;</th><th scope=col>&lt;int&gt;</th><th scope=col>&lt;dbl&gt;</th><th scope=col>&lt;dbl&gt;</th><th scope=col>&lt;int&gt;</th><th scope=col>&lt;lgl&gt;</th><th scope=col>&lt;int&gt;</th><th scope=col>⋯</th><th scope=col>&lt;dbl&gt;</th><th scope=col>&lt;dbl&gt;</th><th scope=col>&lt;int&gt;</th><th scope=col>&lt;dbl&gt;</th><th scope=col>&lt;dbl&gt;</th><th scope=col>&lt;dbl&gt;</th><th scope=col>&lt;int&gt;</th><th scope=col>&lt;dbl&gt;</th><th scope=col>&lt;dbl&gt;</th><th scope=col>&lt;lgl&gt;</th></tr>\n",
       "</thead>\n",
       "<tbody>\n",
       "\t<tr><th scope=row>1</th><td>1</td><td>2022-12-31</td><td>Buy </td><td>AMC</td><td> 100</td><td>4.0700</td><td>4273.5</td><td>0</td><td>FALSE</td><td>0</td><td>⋯</td><td>0</td><td>0</td><td>0</td><td>0</td><td>0</td><td>0</td><td>0</td><td>0</td><td>0</td><td>FALSE</td></tr>\n",
       "\t<tr><th scope=row>2</th><td>2</td><td>2023-01-27</td><td>Sell</td><td>AMC</td><td>1000</td><td>5.5124</td><td>5512.4</td><td>0</td><td>FALSE</td><td>0</td><td>⋯</td><td>0</td><td>0</td><td>0</td><td>0</td><td>0</td><td>0</td><td>0</td><td>0</td><td>0</td><td>FALSE</td></tr>\n",
       "</tbody>\n",
       "</table>\n"
      ],
      "text/latex": [
       "A data.frame: 2 × 23\n",
       "\\begin{tabular}{r|lllllllllllllllllllll}\n",
       "  & index & date & type & co & quan & pps & basis & sale\\_quan & flag & buy\\_cf\\_quan & ⋯ & buy\\_pps & buy\\_basis & sell\\_quan & sell\\_pps & sell\\_basis & profit\\_loss & sold\\_cf\\_quan & sold\\_cf\\_pps & sold\\_cf\\_basis & true\\_false\\\\\n",
       "  & <int> & <date> & <chr> & <chr> & <int> & <dbl> & <dbl> & <int> & <lgl> & <int> & ⋯ & <dbl> & <dbl> & <int> & <dbl> & <dbl> & <dbl> & <int> & <dbl> & <dbl> & <lgl>\\\\\n",
       "\\hline\n",
       "\t1 & 1 & 2022-12-31 & Buy  & AMC &  100 & 4.0700 & 4273.5 & 0 & FALSE & 0 & ⋯ & 0 & 0 & 0 & 0 & 0 & 0 & 0 & 0 & 0 & FALSE\\\\\n",
       "\t2 & 2 & 2023-01-27 & Sell & AMC & 1000 & 5.5124 & 5512.4 & 0 & FALSE & 0 & ⋯ & 0 & 0 & 0 & 0 & 0 & 0 & 0 & 0 & 0 & FALSE\\\\\n",
       "\\end{tabular}\n"
      ],
      "text/markdown": [
       "\n",
       "A data.frame: 2 × 23\n",
       "\n",
       "| <!--/--> | index &lt;int&gt; | date &lt;date&gt; | type &lt;chr&gt; | co &lt;chr&gt; | quan &lt;int&gt; | pps &lt;dbl&gt; | basis &lt;dbl&gt; | sale_quan &lt;int&gt; | flag &lt;lgl&gt; | buy_cf_quan &lt;int&gt; | ⋯ ⋯ | buy_pps &lt;dbl&gt; | buy_basis &lt;dbl&gt; | sell_quan &lt;int&gt; | sell_pps &lt;dbl&gt; | sell_basis &lt;dbl&gt; | profit_loss &lt;dbl&gt; | sold_cf_quan &lt;int&gt; | sold_cf_pps &lt;dbl&gt; | sold_cf_basis &lt;dbl&gt; | true_false &lt;lgl&gt; |\n",
       "|---|---|---|---|---|---|---|---|---|---|---|---|---|---|---|---|---|---|---|---|---|---|\n",
       "| 1 | 1 | 2022-12-31 | Buy  | AMC |  100 | 4.0700 | 4273.5 | 0 | FALSE | 0 | ⋯ | 0 | 0 | 0 | 0 | 0 | 0 | 0 | 0 | 0 | FALSE |\n",
       "| 2 | 2 | 2023-01-27 | Sell | AMC | 1000 | 5.5124 | 5512.4 | 0 | FALSE | 0 | ⋯ | 0 | 0 | 0 | 0 | 0 | 0 | 0 | 0 | 0 | FALSE |\n",
       "\n"
      ],
      "text/plain": [
       "  index date       type co  quan pps    basis  sale_quan flag  buy_cf_quan ⋯\n",
       "1 1     2022-12-31 Buy  AMC  100 4.0700 4273.5 0         FALSE 0           ⋯\n",
       "2 2     2023-01-27 Sell AMC 1000 5.5124 5512.4 0         FALSE 0           ⋯\n",
       "  buy_pps buy_basis sell_quan sell_pps sell_basis profit_loss sold_cf_quan\n",
       "1 0       0         0         0        0          0           0           \n",
       "2 0       0         0         0        0          0           0           \n",
       "  sold_cf_pps sold_cf_basis true_false\n",
       "1 0           0             FALSE     \n",
       "2 0           0             FALSE     "
      ]
     },
     "metadata": {},
     "output_type": "display_data"
    }
   ],
   "source": [
    "head(df, 2)"
   ]
  },
  {
   "cell_type": "markdown",
   "id": "ad6fef1e-5fa2-4f99-8d77-c5706407dfde",
   "metadata": {},
   "source": [
    "## <font color = yellow>1. Create data & dfs"
   ]
  },
  {
   "cell_type": "code",
   "execution_count": 8,
   "id": "105641ba-51ef-4815-9840-faa128ad81b9",
   "metadata": {
    "tags": []
   },
   "outputs": [],
   "source": [
    "create_data <- function () {   \n",
    "   \n",
    "    df <- read.csv(\"fifo_new.csv\", header = TRUE, sep = \",\")\n",
    "    df$date <- as.Date(df$date, origin = \"1899-12-30\")\n",
    " \n",
    "    df$flag <- FALSE\n",
    "    df$true_false <- FALSE\n",
    "    \n",
    "    sale_records <- data.frame() \n",
    "\n",
    "    # create dfs from filtered df\n",
    "    buys <- df[df$type == 'Buy', ]  # Filter buys\n",
    "    sells <- df[df$type == 'Sell', ]  # Filter sells\n",
    "    b <- buys[1,]\n",
    "    s <- sells[1,]\n",
    "    \n",
    "    \n",
    "    # Assign variables to the global environment\n",
    "    assign(\"df\", df, envir = .GlobalEnv)\n",
    "    assign(\"buys\", buys, envir = .GlobalEnv)\n",
    "    assign(\"sells\", sells, envir = .GlobalEnv)\n",
    "    assign(\"b\", b, envir = .GlobalEnv)\n",
    "    assign(\"s\", s, envir = .GlobalEnv)\n",
    "    \n",
    "    }\n",
    "\n",
    "create_data()\n"
   ]
  },
  {
   "cell_type": "code",
   "execution_count": 9,
   "id": "dac210bc-b2a1-47f7-a378-811d8a6122d5",
   "metadata": {},
   "outputs": [
    {
     "data": {
      "text/html": [
       "<style>\n",
       ".list-inline {list-style: none; margin:0; padding: 0}\n",
       ".list-inline>li {display: inline-block}\n",
       ".list-inline>li:not(:last-child)::after {content: \"\\00b7\"; padding: 0 .5ex}\n",
       "</style>\n",
       "<ol class=list-inline><li>41</li><li>23</li></ol>\n"
      ],
      "text/latex": [
       "\\begin{enumerate*}\n",
       "\\item 41\n",
       "\\item 23\n",
       "\\end{enumerate*}\n"
      ],
      "text/markdown": [
       "1. 41\n",
       "2. 23\n",
       "\n",
       "\n"
      ],
      "text/plain": [
       "[1] 41 23"
      ]
     },
     "metadata": {},
     "output_type": "display_data"
    }
   ],
   "source": [
    "dim(df)\n"
   ]
  },
  {
   "cell_type": "code",
   "execution_count": null,
   "id": "ca83265f-1bf6-45a0-b31e-0894e4361de8",
   "metadata": {},
   "outputs": [],
   "source": []
  },
  {
   "cell_type": "markdown",
   "id": "72333e7b-7971-4afa-9494-ad26116963ab",
   "metadata": {},
   "source": [
    "## <font color = lime> Examining data and dfs"
   ]
  },
  {
   "cell_type": "code",
   "execution_count": null,
   "id": "fd062d61-00f0-423e-af2f-58298aa04f5e",
   "metadata": {},
   "outputs": [],
   "source": []
  },
  {
   "cell_type": "code",
   "execution_count": 10,
   "id": "5a58d2a1-bd12-489a-9ce3-48e1a5ba6dda",
   "metadata": {},
   "outputs": [
    {
     "data": {
      "text/html": [
       "23"
      ],
      "text/latex": [
       "23"
      ],
      "text/markdown": [
       "23"
      ],
      "text/plain": [
       "[1] 23"
      ]
     },
     "metadata": {},
     "output_type": "display_data"
    },
    {
     "data": {
      "text/html": [
       "18"
      ],
      "text/latex": [
       "18"
      ],
      "text/markdown": [
       "18"
      ],
      "text/plain": [
       "[1] 18"
      ]
     },
     "metadata": {},
     "output_type": "display_data"
    },
    {
     "data": {
      "text/html": [
       "<style>\n",
       ".list-inline {list-style: none; margin:0; padding: 0}\n",
       ".list-inline>li {display: inline-block}\n",
       ".list-inline>li:not(:last-child)::after {content: \"\\00b7\"; padding: 0 .5ex}\n",
       "</style>\n",
       "<ol class=list-inline><li>18</li><li>23</li></ol>\n"
      ],
      "text/latex": [
       "\\begin{enumerate*}\n",
       "\\item 18\n",
       "\\item 23\n",
       "\\end{enumerate*}\n"
      ],
      "text/markdown": [
       "1. 18\n",
       "2. 23\n",
       "\n",
       "\n"
      ],
      "text/plain": [
       "[1] 18 23"
      ]
     },
     "metadata": {},
     "output_type": "display_data"
    },
    {
     "data": {
      "text/html": [
       "<table class=\"dataframe\">\n",
       "<caption>A data.frame: 2 × 23</caption>\n",
       "<thead>\n",
       "\t<tr><th></th><th scope=col>index</th><th scope=col>date</th><th scope=col>type</th><th scope=col>co</th><th scope=col>quan</th><th scope=col>pps</th><th scope=col>basis</th><th scope=col>sale_quan</th><th scope=col>flag</th><th scope=col>buy_cf_quan</th><th scope=col>⋯</th><th scope=col>buy_pps</th><th scope=col>buy_basis</th><th scope=col>sell_quan</th><th scope=col>sell_pps</th><th scope=col>sell_basis</th><th scope=col>profit_loss</th><th scope=col>sold_cf_quan</th><th scope=col>sold_cf_pps</th><th scope=col>sold_cf_basis</th><th scope=col>true_false</th></tr>\n",
       "\t<tr><th></th><th scope=col>&lt;int&gt;</th><th scope=col>&lt;date&gt;</th><th scope=col>&lt;chr&gt;</th><th scope=col>&lt;chr&gt;</th><th scope=col>&lt;int&gt;</th><th scope=col>&lt;dbl&gt;</th><th scope=col>&lt;dbl&gt;</th><th scope=col>&lt;int&gt;</th><th scope=col>&lt;lgl&gt;</th><th scope=col>&lt;int&gt;</th><th scope=col>⋯</th><th scope=col>&lt;dbl&gt;</th><th scope=col>&lt;dbl&gt;</th><th scope=col>&lt;int&gt;</th><th scope=col>&lt;dbl&gt;</th><th scope=col>&lt;dbl&gt;</th><th scope=col>&lt;dbl&gt;</th><th scope=col>&lt;int&gt;</th><th scope=col>&lt;dbl&gt;</th><th scope=col>&lt;dbl&gt;</th><th scope=col>&lt;lgl&gt;</th></tr>\n",
       "</thead>\n",
       "<tbody>\n",
       "\t<tr><th scope=row>1</th><td>1</td><td>2022-12-31</td><td>Buy</td><td>AMC</td><td> 100</td><td>4.070</td><td>4273.5</td><td>0</td><td>FALSE</td><td>0</td><td>⋯</td><td>0</td><td>0</td><td>0</td><td>0</td><td>0</td><td>0</td><td>0</td><td>0</td><td>0</td><td>FALSE</td></tr>\n",
       "\t<tr><th scope=row>3</th><td>3</td><td>2023-01-20</td><td>Buy</td><td>AMC</td><td>1000</td><td>5.625</td><td>5625.0</td><td>0</td><td>FALSE</td><td>0</td><td>⋯</td><td>0</td><td>0</td><td>0</td><td>0</td><td>0</td><td>0</td><td>0</td><td>0</td><td>0</td><td>FALSE</td></tr>\n",
       "</tbody>\n",
       "</table>\n"
      ],
      "text/latex": [
       "A data.frame: 2 × 23\n",
       "\\begin{tabular}{r|lllllllllllllllllllll}\n",
       "  & index & date & type & co & quan & pps & basis & sale\\_quan & flag & buy\\_cf\\_quan & ⋯ & buy\\_pps & buy\\_basis & sell\\_quan & sell\\_pps & sell\\_basis & profit\\_loss & sold\\_cf\\_quan & sold\\_cf\\_pps & sold\\_cf\\_basis & true\\_false\\\\\n",
       "  & <int> & <date> & <chr> & <chr> & <int> & <dbl> & <dbl> & <int> & <lgl> & <int> & ⋯ & <dbl> & <dbl> & <int> & <dbl> & <dbl> & <dbl> & <int> & <dbl> & <dbl> & <lgl>\\\\\n",
       "\\hline\n",
       "\t1 & 1 & 2022-12-31 & Buy & AMC &  100 & 4.070 & 4273.5 & 0 & FALSE & 0 & ⋯ & 0 & 0 & 0 & 0 & 0 & 0 & 0 & 0 & 0 & FALSE\\\\\n",
       "\t3 & 3 & 2023-01-20 & Buy & AMC & 1000 & 5.625 & 5625.0 & 0 & FALSE & 0 & ⋯ & 0 & 0 & 0 & 0 & 0 & 0 & 0 & 0 & 0 & FALSE\\\\\n",
       "\\end{tabular}\n"
      ],
      "text/markdown": [
       "\n",
       "A data.frame: 2 × 23\n",
       "\n",
       "| <!--/--> | index &lt;int&gt; | date &lt;date&gt; | type &lt;chr&gt; | co &lt;chr&gt; | quan &lt;int&gt; | pps &lt;dbl&gt; | basis &lt;dbl&gt; | sale_quan &lt;int&gt; | flag &lt;lgl&gt; | buy_cf_quan &lt;int&gt; | ⋯ ⋯ | buy_pps &lt;dbl&gt; | buy_basis &lt;dbl&gt; | sell_quan &lt;int&gt; | sell_pps &lt;dbl&gt; | sell_basis &lt;dbl&gt; | profit_loss &lt;dbl&gt; | sold_cf_quan &lt;int&gt; | sold_cf_pps &lt;dbl&gt; | sold_cf_basis &lt;dbl&gt; | true_false &lt;lgl&gt; |\n",
       "|---|---|---|---|---|---|---|---|---|---|---|---|---|---|---|---|---|---|---|---|---|---|\n",
       "| 1 | 1 | 2022-12-31 | Buy | AMC |  100 | 4.070 | 4273.5 | 0 | FALSE | 0 | ⋯ | 0 | 0 | 0 | 0 | 0 | 0 | 0 | 0 | 0 | FALSE |\n",
       "| 3 | 3 | 2023-01-20 | Buy | AMC | 1000 | 5.625 | 5625.0 | 0 | FALSE | 0 | ⋯ | 0 | 0 | 0 | 0 | 0 | 0 | 0 | 0 | 0 | FALSE |\n",
       "\n"
      ],
      "text/plain": [
       "  index date       type co  quan pps   basis  sale_quan flag  buy_cf_quan ⋯\n",
       "1 1     2022-12-31 Buy  AMC  100 4.070 4273.5 0         FALSE 0           ⋯\n",
       "3 3     2023-01-20 Buy  AMC 1000 5.625 5625.0 0         FALSE 0           ⋯\n",
       "  buy_pps buy_basis sell_quan sell_pps sell_basis profit_loss sold_cf_quan\n",
       "1 0       0         0         0        0          0           0           \n",
       "3 0       0         0         0        0          0           0           \n",
       "  sold_cf_pps sold_cf_basis true_false\n",
       "1 0           0             FALSE     \n",
       "3 0           0             FALSE     "
      ]
     },
     "metadata": {},
     "output_type": "display_data"
    },
    {
     "data": {
      "text/html": [
       "<table class=\"dataframe\">\n",
       "<caption>A data.frame: 2 × 23</caption>\n",
       "<thead>\n",
       "\t<tr><th></th><th scope=col>index</th><th scope=col>date</th><th scope=col>type</th><th scope=col>co</th><th scope=col>quan</th><th scope=col>pps</th><th scope=col>basis</th><th scope=col>sale_quan</th><th scope=col>flag</th><th scope=col>buy_cf_quan</th><th scope=col>⋯</th><th scope=col>buy_pps</th><th scope=col>buy_basis</th><th scope=col>sell_quan</th><th scope=col>sell_pps</th><th scope=col>sell_basis</th><th scope=col>profit_loss</th><th scope=col>sold_cf_quan</th><th scope=col>sold_cf_pps</th><th scope=col>sold_cf_basis</th><th scope=col>true_false</th></tr>\n",
       "\t<tr><th></th><th scope=col>&lt;int&gt;</th><th scope=col>&lt;date&gt;</th><th scope=col>&lt;chr&gt;</th><th scope=col>&lt;chr&gt;</th><th scope=col>&lt;int&gt;</th><th scope=col>&lt;dbl&gt;</th><th scope=col>&lt;dbl&gt;</th><th scope=col>&lt;int&gt;</th><th scope=col>&lt;lgl&gt;</th><th scope=col>&lt;int&gt;</th><th scope=col>⋯</th><th scope=col>&lt;dbl&gt;</th><th scope=col>&lt;dbl&gt;</th><th scope=col>&lt;int&gt;</th><th scope=col>&lt;dbl&gt;</th><th scope=col>&lt;dbl&gt;</th><th scope=col>&lt;dbl&gt;</th><th scope=col>&lt;int&gt;</th><th scope=col>&lt;dbl&gt;</th><th scope=col>&lt;dbl&gt;</th><th scope=col>&lt;lgl&gt;</th></tr>\n",
       "</thead>\n",
       "<tbody>\n",
       "\t<tr><th scope=row>2</th><td>2</td><td>2023-01-27</td><td>Sell</td><td>AMC</td><td>1000</td><td>5.51240</td><td>5512.40</td><td>0</td><td>FALSE</td><td>0</td><td>⋯</td><td>0</td><td>0</td><td>0</td><td>0</td><td>0</td><td>0</td><td>0</td><td>0</td><td>0</td><td>FALSE</td></tr>\n",
       "\t<tr><th scope=row>4</th><td>4</td><td>2023-02-03</td><td>Sell</td><td>AMC</td><td>1000</td><td>6.68255</td><td>6682.55</td><td>0</td><td>FALSE</td><td>0</td><td>⋯</td><td>0</td><td>0</td><td>0</td><td>0</td><td>0</td><td>0</td><td>0</td><td>0</td><td>0</td><td>FALSE</td></tr>\n",
       "</tbody>\n",
       "</table>\n"
      ],
      "text/latex": [
       "A data.frame: 2 × 23\n",
       "\\begin{tabular}{r|lllllllllllllllllllll}\n",
       "  & index & date & type & co & quan & pps & basis & sale\\_quan & flag & buy\\_cf\\_quan & ⋯ & buy\\_pps & buy\\_basis & sell\\_quan & sell\\_pps & sell\\_basis & profit\\_loss & sold\\_cf\\_quan & sold\\_cf\\_pps & sold\\_cf\\_basis & true\\_false\\\\\n",
       "  & <int> & <date> & <chr> & <chr> & <int> & <dbl> & <dbl> & <int> & <lgl> & <int> & ⋯ & <dbl> & <dbl> & <int> & <dbl> & <dbl> & <dbl> & <int> & <dbl> & <dbl> & <lgl>\\\\\n",
       "\\hline\n",
       "\t2 & 2 & 2023-01-27 & Sell & AMC & 1000 & 5.51240 & 5512.40 & 0 & FALSE & 0 & ⋯ & 0 & 0 & 0 & 0 & 0 & 0 & 0 & 0 & 0 & FALSE\\\\\n",
       "\t4 & 4 & 2023-02-03 & Sell & AMC & 1000 & 6.68255 & 6682.55 & 0 & FALSE & 0 & ⋯ & 0 & 0 & 0 & 0 & 0 & 0 & 0 & 0 & 0 & FALSE\\\\\n",
       "\\end{tabular}\n"
      ],
      "text/markdown": [
       "\n",
       "A data.frame: 2 × 23\n",
       "\n",
       "| <!--/--> | index &lt;int&gt; | date &lt;date&gt; | type &lt;chr&gt; | co &lt;chr&gt; | quan &lt;int&gt; | pps &lt;dbl&gt; | basis &lt;dbl&gt; | sale_quan &lt;int&gt; | flag &lt;lgl&gt; | buy_cf_quan &lt;int&gt; | ⋯ ⋯ | buy_pps &lt;dbl&gt; | buy_basis &lt;dbl&gt; | sell_quan &lt;int&gt; | sell_pps &lt;dbl&gt; | sell_basis &lt;dbl&gt; | profit_loss &lt;dbl&gt; | sold_cf_quan &lt;int&gt; | sold_cf_pps &lt;dbl&gt; | sold_cf_basis &lt;dbl&gt; | true_false &lt;lgl&gt; |\n",
       "|---|---|---|---|---|---|---|---|---|---|---|---|---|---|---|---|---|---|---|---|---|---|\n",
       "| 2 | 2 | 2023-01-27 | Sell | AMC | 1000 | 5.51240 | 5512.40 | 0 | FALSE | 0 | ⋯ | 0 | 0 | 0 | 0 | 0 | 0 | 0 | 0 | 0 | FALSE |\n",
       "| 4 | 4 | 2023-02-03 | Sell | AMC | 1000 | 6.68255 | 6682.55 | 0 | FALSE | 0 | ⋯ | 0 | 0 | 0 | 0 | 0 | 0 | 0 | 0 | 0 | FALSE |\n",
       "\n"
      ],
      "text/plain": [
       "  index date       type co  quan pps     basis   sale_quan flag  buy_cf_quan ⋯\n",
       "2 2     2023-01-27 Sell AMC 1000 5.51240 5512.40 0         FALSE 0           ⋯\n",
       "4 4     2023-02-03 Sell AMC 1000 6.68255 6682.55 0         FALSE 0           ⋯\n",
       "  buy_pps buy_basis sell_quan sell_pps sell_basis profit_loss sold_cf_quan\n",
       "2 0       0         0         0        0          0           0           \n",
       "4 0       0         0         0        0          0           0           \n",
       "  sold_cf_pps sold_cf_basis true_false\n",
       "2 0           0             FALSE     \n",
       "4 0           0             FALSE     "
      ]
     },
     "metadata": {},
     "output_type": "display_data"
    }
   ],
   "source": [
    "nrow(buys)\n",
    "nrow(sells)\n",
    "dim(sells)\n",
    "head(buys, 2)\n",
    "head(sells,2)"
   ]
  },
  {
   "cell_type": "code",
   "execution_count": 11,
   "id": "97c24639-f462-4470-b313-d40e24a5f1cb",
   "metadata": {},
   "outputs": [
    {
     "data": {
      "text/html": [
       "<style>\n",
       ".list-inline {list-style: none; margin:0; padding: 0}\n",
       ".list-inline>li {display: inline-block}\n",
       ".list-inline>li:not(:last-child)::after {content: \"\\00b7\"; padding: 0 .5ex}\n",
       "</style>\n",
       "<ol class=list-inline><li>1</li><li>23</li></ol>\n"
      ],
      "text/latex": [
       "\\begin{enumerate*}\n",
       "\\item 1\n",
       "\\item 23\n",
       "\\end{enumerate*}\n"
      ],
      "text/markdown": [
       "1. 1\n",
       "2. 23\n",
       "\n",
       "\n"
      ],
      "text/plain": [
       "[1]  1 23"
      ]
     },
     "metadata": {},
     "output_type": "display_data"
    },
    {
     "data": {
      "text/html": [
       "<table class=\"dataframe\">\n",
       "<caption>A data.frame: 1 × 23</caption>\n",
       "<thead>\n",
       "\t<tr><th></th><th scope=col>index</th><th scope=col>date</th><th scope=col>type</th><th scope=col>co</th><th scope=col>quan</th><th scope=col>pps</th><th scope=col>basis</th><th scope=col>sale_quan</th><th scope=col>flag</th><th scope=col>buy_cf_quan</th><th scope=col>⋯</th><th scope=col>buy_pps</th><th scope=col>buy_basis</th><th scope=col>sell_quan</th><th scope=col>sell_pps</th><th scope=col>sell_basis</th><th scope=col>profit_loss</th><th scope=col>sold_cf_quan</th><th scope=col>sold_cf_pps</th><th scope=col>sold_cf_basis</th><th scope=col>true_false</th></tr>\n",
       "\t<tr><th></th><th scope=col>&lt;int&gt;</th><th scope=col>&lt;date&gt;</th><th scope=col>&lt;chr&gt;</th><th scope=col>&lt;chr&gt;</th><th scope=col>&lt;int&gt;</th><th scope=col>&lt;dbl&gt;</th><th scope=col>&lt;dbl&gt;</th><th scope=col>&lt;int&gt;</th><th scope=col>&lt;lgl&gt;</th><th scope=col>&lt;int&gt;</th><th scope=col>⋯</th><th scope=col>&lt;dbl&gt;</th><th scope=col>&lt;dbl&gt;</th><th scope=col>&lt;int&gt;</th><th scope=col>&lt;dbl&gt;</th><th scope=col>&lt;dbl&gt;</th><th scope=col>&lt;dbl&gt;</th><th scope=col>&lt;int&gt;</th><th scope=col>&lt;dbl&gt;</th><th scope=col>&lt;dbl&gt;</th><th scope=col>&lt;lgl&gt;</th></tr>\n",
       "</thead>\n",
       "<tbody>\n",
       "\t<tr><th scope=row>1</th><td>1</td><td>2022-12-31</td><td>Buy</td><td>AMC</td><td>100</td><td>4.07</td><td>4273.5</td><td>0</td><td>FALSE</td><td>0</td><td>⋯</td><td>0</td><td>0</td><td>0</td><td>0</td><td>0</td><td>0</td><td>0</td><td>0</td><td>0</td><td>FALSE</td></tr>\n",
       "</tbody>\n",
       "</table>\n"
      ],
      "text/latex": [
       "A data.frame: 1 × 23\n",
       "\\begin{tabular}{r|lllllllllllllllllllll}\n",
       "  & index & date & type & co & quan & pps & basis & sale\\_quan & flag & buy\\_cf\\_quan & ⋯ & buy\\_pps & buy\\_basis & sell\\_quan & sell\\_pps & sell\\_basis & profit\\_loss & sold\\_cf\\_quan & sold\\_cf\\_pps & sold\\_cf\\_basis & true\\_false\\\\\n",
       "  & <int> & <date> & <chr> & <chr> & <int> & <dbl> & <dbl> & <int> & <lgl> & <int> & ⋯ & <dbl> & <dbl> & <int> & <dbl> & <dbl> & <dbl> & <int> & <dbl> & <dbl> & <lgl>\\\\\n",
       "\\hline\n",
       "\t1 & 1 & 2022-12-31 & Buy & AMC & 100 & 4.07 & 4273.5 & 0 & FALSE & 0 & ⋯ & 0 & 0 & 0 & 0 & 0 & 0 & 0 & 0 & 0 & FALSE\\\\\n",
       "\\end{tabular}\n"
      ],
      "text/markdown": [
       "\n",
       "A data.frame: 1 × 23\n",
       "\n",
       "| <!--/--> | index &lt;int&gt; | date &lt;date&gt; | type &lt;chr&gt; | co &lt;chr&gt; | quan &lt;int&gt; | pps &lt;dbl&gt; | basis &lt;dbl&gt; | sale_quan &lt;int&gt; | flag &lt;lgl&gt; | buy_cf_quan &lt;int&gt; | ⋯ ⋯ | buy_pps &lt;dbl&gt; | buy_basis &lt;dbl&gt; | sell_quan &lt;int&gt; | sell_pps &lt;dbl&gt; | sell_basis &lt;dbl&gt; | profit_loss &lt;dbl&gt; | sold_cf_quan &lt;int&gt; | sold_cf_pps &lt;dbl&gt; | sold_cf_basis &lt;dbl&gt; | true_false &lt;lgl&gt; |\n",
       "|---|---|---|---|---|---|---|---|---|---|---|---|---|---|---|---|---|---|---|---|---|---|\n",
       "| 1 | 1 | 2022-12-31 | Buy | AMC | 100 | 4.07 | 4273.5 | 0 | FALSE | 0 | ⋯ | 0 | 0 | 0 | 0 | 0 | 0 | 0 | 0 | 0 | FALSE |\n",
       "\n"
      ],
      "text/plain": [
       "  index date       type co  quan pps  basis  sale_quan flag  buy_cf_quan ⋯\n",
       "1 1     2022-12-31 Buy  AMC 100  4.07 4273.5 0         FALSE 0           ⋯\n",
       "  buy_pps buy_basis sell_quan sell_pps sell_basis profit_loss sold_cf_quan\n",
       "1 0       0         0         0        0          0           0           \n",
       "  sold_cf_pps sold_cf_basis true_false\n",
       "1 0           0             FALSE     "
      ]
     },
     "metadata": {},
     "output_type": "display_data"
    }
   ],
   "source": [
    "dim(b)\n",
    "b"
   ]
  },
  {
   "cell_type": "markdown",
   "id": "20e00a2d-d145-4062-ab58-910dee152307",
   "metadata": {},
   "source": [
    "### <font color = yellow>2. update_b() - updates the basic b variable with data from buy/sell rows \n",
    "    \n",
    "#### b>s, b<s, b==s,"
   ]
  },
  {
   "cell_type": "code",
   "execution_count": 12,
   "id": "1978c836-b9a7-4f64-86fe-bff3c8f19743",
   "metadata": {},
   "outputs": [
    {
     "name": "stdout",
     "output_type": "stream",
     "text": [
      "for loop, loop is i:  1 \n",
      "for loop, loop is i:  2 \n",
      "for loop, loop is i:  3 \n"
     ]
    }
   ],
   "source": [
    "for(i in 1:3) {\n",
    "    cat(\"for loop, loop is i: \", i, \"\\n\")\n",
    "    }"
   ]
  },
  {
   "cell_type": "code",
   "execution_count": 13,
   "id": "2c110e59-8021-41c9-a39e-918d3020b6df",
   "metadata": {},
   "outputs": [
    {
     "data": {
      "text/html": [
       "<table class=\"dataframe\">\n",
       "<caption>A data.frame: 1 × 23</caption>\n",
       "<thead>\n",
       "\t<tr><th></th><th scope=col>index</th><th scope=col>date</th><th scope=col>type</th><th scope=col>co</th><th scope=col>quan</th><th scope=col>pps</th><th scope=col>basis</th><th scope=col>sale_quan</th><th scope=col>flag</th><th scope=col>buy_cf_quan</th><th scope=col>⋯</th><th scope=col>buy_pps</th><th scope=col>buy_basis</th><th scope=col>sell_quan</th><th scope=col>sell_pps</th><th scope=col>sell_basis</th><th scope=col>profit_loss</th><th scope=col>sold_cf_quan</th><th scope=col>sold_cf_pps</th><th scope=col>sold_cf_basis</th><th scope=col>true_false</th></tr>\n",
       "\t<tr><th></th><th scope=col>&lt;int&gt;</th><th scope=col>&lt;date&gt;</th><th scope=col>&lt;chr&gt;</th><th scope=col>&lt;chr&gt;</th><th scope=col>&lt;int&gt;</th><th scope=col>&lt;dbl&gt;</th><th scope=col>&lt;dbl&gt;</th><th scope=col>&lt;int&gt;</th><th scope=col>&lt;lgl&gt;</th><th scope=col>&lt;int&gt;</th><th scope=col>⋯</th><th scope=col>&lt;dbl&gt;</th><th scope=col>&lt;dbl&gt;</th><th scope=col>&lt;int&gt;</th><th scope=col>&lt;dbl&gt;</th><th scope=col>&lt;dbl&gt;</th><th scope=col>&lt;dbl&gt;</th><th scope=col>&lt;int&gt;</th><th scope=col>&lt;dbl&gt;</th><th scope=col>&lt;dbl&gt;</th><th scope=col>&lt;lgl&gt;</th></tr>\n",
       "</thead>\n",
       "<tbody>\n",
       "\t<tr><th scope=row>39</th><td>39</td><td>2023-05-17</td><td>Buy</td><td>AMC</td><td>1000</td><td>5.009</td><td>5009</td><td>0</td><td>FALSE</td><td>0</td><td>⋯</td><td>0</td><td>0</td><td>0</td><td>0</td><td>0</td><td>0</td><td>0</td><td>0</td><td>0</td><td>FALSE</td></tr>\n",
       "</tbody>\n",
       "</table>\n"
      ],
      "text/latex": [
       "A data.frame: 1 × 23\n",
       "\\begin{tabular}{r|lllllllllllllllllllll}\n",
       "  & index & date & type & co & quan & pps & basis & sale\\_quan & flag & buy\\_cf\\_quan & ⋯ & buy\\_pps & buy\\_basis & sell\\_quan & sell\\_pps & sell\\_basis & profit\\_loss & sold\\_cf\\_quan & sold\\_cf\\_pps & sold\\_cf\\_basis & true\\_false\\\\\n",
       "  & <int> & <date> & <chr> & <chr> & <int> & <dbl> & <dbl> & <int> & <lgl> & <int> & ⋯ & <dbl> & <dbl> & <int> & <dbl> & <dbl> & <dbl> & <int> & <dbl> & <dbl> & <lgl>\\\\\n",
       "\\hline\n",
       "\t39 & 39 & 2023-05-17 & Buy & AMC & 1000 & 5.009 & 5009 & 0 & FALSE & 0 & ⋯ & 0 & 0 & 0 & 0 & 0 & 0 & 0 & 0 & 0 & FALSE\\\\\n",
       "\\end{tabular}\n"
      ],
      "text/markdown": [
       "\n",
       "A data.frame: 1 × 23\n",
       "\n",
       "| <!--/--> | index &lt;int&gt; | date &lt;date&gt; | type &lt;chr&gt; | co &lt;chr&gt; | quan &lt;int&gt; | pps &lt;dbl&gt; | basis &lt;dbl&gt; | sale_quan &lt;int&gt; | flag &lt;lgl&gt; | buy_cf_quan &lt;int&gt; | ⋯ ⋯ | buy_pps &lt;dbl&gt; | buy_basis &lt;dbl&gt; | sell_quan &lt;int&gt; | sell_pps &lt;dbl&gt; | sell_basis &lt;dbl&gt; | profit_loss &lt;dbl&gt; | sold_cf_quan &lt;int&gt; | sold_cf_pps &lt;dbl&gt; | sold_cf_basis &lt;dbl&gt; | true_false &lt;lgl&gt; |\n",
       "|---|---|---|---|---|---|---|---|---|---|---|---|---|---|---|---|---|---|---|---|---|---|\n",
       "| 39 | 39 | 2023-05-17 | Buy | AMC | 1000 | 5.009 | 5009 | 0 | FALSE | 0 | ⋯ | 0 | 0 | 0 | 0 | 0 | 0 | 0 | 0 | 0 | FALSE |\n",
       "\n"
      ],
      "text/plain": [
       "   index date       type co  quan pps   basis sale_quan flag  buy_cf_quan ⋯\n",
       "39 39    2023-05-17 Buy  AMC 1000 5.009 5009  0         FALSE 0           ⋯\n",
       "   buy_pps buy_basis sell_quan sell_pps sell_basis profit_loss sold_cf_quan\n",
       "39 0       0         0         0        0          0           0           \n",
       "   sold_cf_pps sold_cf_basis true_false\n",
       "39 0           0             FALSE     "
      ]
     },
     "metadata": {},
     "output_type": "display_data"
    }
   ],
   "source": [
    "last_row <- tail(buys, n = 1)\n",
    "last_row"
   ]
  },
  {
   "cell_type": "code",
   "execution_count": null,
   "id": "bc6cc4bb-0b62-4a60-ae33-36407796246a",
   "metadata": {},
   "outputs": [],
   "source": []
  },
  {
   "cell_type": "markdown",
   "id": "5cd65c8a-88a2-434f-afe7-9cccbb2cc00b",
   "metadata": {},
   "source": [
    "#### <font color = lime> Basic version: when b == s ( creates no c/f)\n",
    "    \n",
    "#### <font color = lime> Basic version: when b > s (creates b c/f)    \n",
    "    \n",
    "#### <font color = lime> Basic version: when b < s (creates s c/f)\n",
    "    "
   ]
  },
  {
   "cell_type": "code",
   "execution_count": 14,
   "id": "089c01db-88a1-4c20-aa2b-4f1e4e64ba3f",
   "metadata": {},
   "outputs": [
    {
     "data": {
      "text/html": [
       "<table class=\"dataframe\">\n",
       "<caption>A data.frame: 1 × 23</caption>\n",
       "<thead>\n",
       "\t<tr><th></th><th scope=col>index</th><th scope=col>date</th><th scope=col>type</th><th scope=col>co</th><th scope=col>quan</th><th scope=col>pps</th><th scope=col>basis</th><th scope=col>sale_quan</th><th scope=col>flag</th><th scope=col>buy_cf_quan</th><th scope=col>⋯</th><th scope=col>buy_pps</th><th scope=col>buy_basis</th><th scope=col>sell_quan</th><th scope=col>sell_pps</th><th scope=col>sell_basis</th><th scope=col>profit_loss</th><th scope=col>sold_cf_quan</th><th scope=col>sold_cf_pps</th><th scope=col>sold_cf_basis</th><th scope=col>true_false</th></tr>\n",
       "\t<tr><th></th><th scope=col>&lt;int&gt;</th><th scope=col>&lt;date&gt;</th><th scope=col>&lt;chr&gt;</th><th scope=col>&lt;chr&gt;</th><th scope=col>&lt;int&gt;</th><th scope=col>&lt;dbl&gt;</th><th scope=col>&lt;dbl&gt;</th><th scope=col>&lt;int&gt;</th><th scope=col>&lt;lgl&gt;</th><th scope=col>&lt;int&gt;</th><th scope=col>⋯</th><th scope=col>&lt;dbl&gt;</th><th scope=col>&lt;dbl&gt;</th><th scope=col>&lt;int&gt;</th><th scope=col>&lt;dbl&gt;</th><th scope=col>&lt;dbl&gt;</th><th scope=col>&lt;dbl&gt;</th><th scope=col>&lt;int&gt;</th><th scope=col>&lt;dbl&gt;</th><th scope=col>&lt;dbl&gt;</th><th scope=col>&lt;lgl&gt;</th></tr>\n",
       "</thead>\n",
       "<tbody>\n",
       "\t<tr><th scope=row>1</th><td>1</td><td>2022-12-31</td><td>Buy</td><td>AMC</td><td>100</td><td>4.07</td><td>407</td><td>100</td><td>FALSE</td><td>0</td><td>⋯</td><td>4.07</td><td>407</td><td>100</td><td>5.5124</td><td>551.24</td><td>144.24</td><td>900</td><td>5.5124</td><td>4961.16</td><td>TRUE</td></tr>\n",
       "</tbody>\n",
       "</table>\n"
      ],
      "text/latex": [
       "A data.frame: 1 × 23\n",
       "\\begin{tabular}{r|lllllllllllllllllllll}\n",
       "  & index & date & type & co & quan & pps & basis & sale\\_quan & flag & buy\\_cf\\_quan & ⋯ & buy\\_pps & buy\\_basis & sell\\_quan & sell\\_pps & sell\\_basis & profit\\_loss & sold\\_cf\\_quan & sold\\_cf\\_pps & sold\\_cf\\_basis & true\\_false\\\\\n",
       "  & <int> & <date> & <chr> & <chr> & <int> & <dbl> & <dbl> & <int> & <lgl> & <int> & ⋯ & <dbl> & <dbl> & <int> & <dbl> & <dbl> & <dbl> & <int> & <dbl> & <dbl> & <lgl>\\\\\n",
       "\\hline\n",
       "\t1 & 1 & 2022-12-31 & Buy & AMC & 100 & 4.07 & 407 & 100 & FALSE & 0 & ⋯ & 4.07 & 407 & 100 & 5.5124 & 551.24 & 144.24 & 900 & 5.5124 & 4961.16 & TRUE\\\\\n",
       "\\end{tabular}\n"
      ],
      "text/markdown": [
       "\n",
       "A data.frame: 1 × 23\n",
       "\n",
       "| <!--/--> | index &lt;int&gt; | date &lt;date&gt; | type &lt;chr&gt; | co &lt;chr&gt; | quan &lt;int&gt; | pps &lt;dbl&gt; | basis &lt;dbl&gt; | sale_quan &lt;int&gt; | flag &lt;lgl&gt; | buy_cf_quan &lt;int&gt; | ⋯ ⋯ | buy_pps &lt;dbl&gt; | buy_basis &lt;dbl&gt; | sell_quan &lt;int&gt; | sell_pps &lt;dbl&gt; | sell_basis &lt;dbl&gt; | profit_loss &lt;dbl&gt; | sold_cf_quan &lt;int&gt; | sold_cf_pps &lt;dbl&gt; | sold_cf_basis &lt;dbl&gt; | true_false &lt;lgl&gt; |\n",
       "|---|---|---|---|---|---|---|---|---|---|---|---|---|---|---|---|---|---|---|---|---|---|\n",
       "| 1 | 1 | 2022-12-31 | Buy | AMC | 100 | 4.07 | 407 | 100 | FALSE | 0 | ⋯ | 4.07 | 407 | 100 | 5.5124 | 551.24 | 144.24 | 900 | 5.5124 | 4961.16 | TRUE |\n",
       "\n"
      ],
      "text/plain": [
       "  index date       type co  quan pps  basis sale_quan flag  buy_cf_quan ⋯\n",
       "1 1     2022-12-31 Buy  AMC 100  4.07 407   100       FALSE 0           ⋯\n",
       "  buy_pps buy_basis sell_quan sell_pps sell_basis profit_loss sold_cf_quan\n",
       "1 4.07    407       100       5.5124   551.24     144.24      900         \n",
       "  sold_cf_pps sold_cf_basis true_false\n",
       "1 5.5124      4961.16       TRUE      "
      ]
     },
     "metadata": {},
     "output_type": "display_data"
    }
   ],
   "source": [
    "# # update b based upon the Sale Type: b>s, b<s, b==s \n",
    "\n",
    "update_b <- function() {\n",
    "\n",
    "\n",
    "        # ( b > s ) ,  Buy C/F \n",
    "    \n",
    "        if ( b$quan > s$quan) { \n",
    "            \n",
    "            b$sale_quan  <- s$quan    \n",
    "            b$buy_quan <- s$quan\n",
    "            b$buy_pps <-  b$pps\n",
    "            b$buy_basis <-  b$buy_quan * b$pps\n",
    "\n",
    "            b$sell_quan <- s$quan    \n",
    "            b$sell_pps <- s$pps\n",
    "            b$sell_basis <- s$quan * s$pps\n",
    "\n",
    "            b$sold_cf_quan <- (b$quan - s$quan)        \n",
    "            b$sold_cf_pps <- b$pps\n",
    "            b$sold_cf_basis <- b$sold_cf_quan * b$pps \n",
    "            b$profit_loss <- b$sell_basis - b$buy_basis\n",
    "            \n",
    "            # Has buy c/f \n",
    "            b$flag <- TRUE         \n",
    "    \n",
    "       # ( s > b ), has sell carryforward\n",
    " \n",
    "        }else if(b$quan < s$quan) {\n",
    "            \n",
    "            b$basis <-  b$quan * b$pps\n",
    "            b$sale_quan <- b$quan\n",
    "           \n",
    "            b$buy_quan <- b$quan\n",
    "            b$buy_pps <-  b$pps\n",
    "            b$buy_basis <- b$basis\n",
    "         \n",
    "            # Sell c/f\n",
    "            sold_cf_quan <- s$quan - b$quan           \n",
    "            b$sold_cf_quan <- sold_cf_quan\n",
    "            b$sold_cf_pps <- s$pps\n",
    "            b$sold_cf_basis <- sold_cf_quan * s$pps\n",
    "                   \n",
    "            b$sell_quan <- b$quan\n",
    "            b$sell_pps <- s$pps\n",
    "            b$sell_basis <- b$quan * s$pps\n",
    "            b$profit_loss <- b$sell_basis - b$buy_basis\n",
    "            \n",
    "            # Has sell c/f \n",
    "            b$true_false <- TRUE\n",
    "           \n",
    " #  s$type <- \"SELL-CF\"   \n",
    "            \n",
    "        }else if (b$quan == s$quan) {            \n",
    "                  \n",
    "            b$buy_quan <- s$quan\n",
    "            b$buy_pps <-  b$pps\n",
    "            b$buy_basis <- b$buy_quan * b$pps\n",
    "\n",
    "            b$sell_quan <- s$quan    \n",
    "            b$sell_pps <- s$pps\n",
    "            b$sell_basis <- s$quan * s$pps\n",
    "            b$profit_loss <- b$sell_basis - b$buy_basis\n",
    "          \n",
    " #           s$type <- \"SOLD\"            \n",
    "            }\n",
    "            \n",
    "        return(b)   \n",
    "}  # fct\n",
    "\n",
    "updated_b <- update_b()\n",
    "updated_b  \n",
    "    "
   ]
  },
  {
   "cell_type": "code",
   "execution_count": 15,
   "id": "15ff4381-bf59-4b78-89a8-5fbdbe8ba938",
   "metadata": {},
   "outputs": [
    {
     "data": {
      "text/html": [
       "<style>\n",
       ".list-inline {list-style: none; margin:0; padding: 0}\n",
       ".list-inline>li {display: inline-block}\n",
       ".list-inline>li:not(:last-child)::after {content: \"\\00b7\"; padding: 0 .5ex}\n",
       "</style>\n",
       "<ol class=list-inline><li>23</li><li>23</li></ol>\n"
      ],
      "text/latex": [
       "\\begin{enumerate*}\n",
       "\\item 23\n",
       "\\item 23\n",
       "\\end{enumerate*}\n"
      ],
      "text/markdown": [
       "1. 23\n",
       "2. 23\n",
       "\n",
       "\n"
      ],
      "text/plain": [
       "[1] 23 23"
      ]
     },
     "metadata": {},
     "output_type": "display_data"
    },
    {
     "data": {
      "text/html": [
       "<style>\n",
       ".list-inline {list-style: none; margin:0; padding: 0}\n",
       ".list-inline>li {display: inline-block}\n",
       ".list-inline>li:not(:last-child)::after {content: \"\\00b7\"; padding: 0 .5ex}\n",
       "</style>\n",
       "<ol class=list-inline><li>18</li><li>23</li></ol>\n"
      ],
      "text/latex": [
       "\\begin{enumerate*}\n",
       "\\item 18\n",
       "\\item 23\n",
       "\\end{enumerate*}\n"
      ],
      "text/markdown": [
       "1. 18\n",
       "2. 23\n",
       "\n",
       "\n"
      ],
      "text/plain": [
       "[1] 18 23"
      ]
     },
     "metadata": {},
     "output_type": "display_data"
    }
   ],
   "source": [
    "dim(buys)\n",
    "dim(sells)"
   ]
  },
  {
   "cell_type": "code",
   "execution_count": null,
   "id": "5b735dc6-0781-49d5-8dfe-58731fa55f3c",
   "metadata": {},
   "outputs": [],
   "source": []
  },
  {
   "cell_type": "markdown",
   "id": "0d43233d-62de-4ac3-9e39-d0b622ce7e10",
   "metadata": {},
   "source": [
    "### <font color = yellow>3. Update the sales_records (rbind) with updated_b "
   ]
  },
  {
   "cell_type": "code",
   "execution_count": 16,
   "id": "44f1c396-4486-41d7-8882-a40e02f98b16",
   "metadata": {},
   "outputs": [],
   "source": [
    "# sale_records <- data.frame()\n",
    "# sale_records <- rbind(sale_records, updated_b)\n",
    "# sale_records\n",
    "                      "
   ]
  },
  {
   "cell_type": "code",
   "execution_count": 17,
   "id": "82abe5ba-1344-406b-b56e-55d4cc6fdddb",
   "metadata": {},
   "outputs": [
    {
     "data": {
      "text/html": [
       "TRUE"
      ],
      "text/latex": [
       "TRUE"
      ],
      "text/markdown": [
       "TRUE"
      ],
      "text/plain": [
       "[1] TRUE"
      ]
     },
     "metadata": {},
     "output_type": "display_data"
    }
   ],
   "source": [
    "df_name <- \"iris\"  # Replace with your data frame name\n",
    "tryCatch(is.data.frame(get(df_name)), error = function(cond) FALSE)\n",
    "         "
   ]
  },
  {
   "cell_type": "code",
   "execution_count": 18,
   "id": "1717cd60-4aa1-4fed-bc93-41450e0677c2",
   "metadata": {},
   "outputs": [
    {
     "data": {
      "text/html": [
       "FALSE"
      ],
      "text/latex": [
       "FALSE"
      ],
      "text/markdown": [
       "FALSE"
      ],
      "text/plain": [
       "[1] FALSE"
      ]
     },
     "metadata": {},
     "output_type": "display_data"
    }
   ],
   "source": [
    "df_name <- \"sale_records\"\n",
    "tryCatch(is.data.frame(get(df_name)), error = function(cond) FALSE)"
   ]
  },
  {
   "cell_type": "code",
   "execution_count": 19,
   "id": "cd5691fa-7500-4943-962c-784d40a8621e",
   "metadata": {},
   "outputs": [
    {
     "name": "stdout",
     "output_type": "stream",
     "text": [
      "Newly created sale_records with updated_b data.  \n"
     ]
    },
    {
     "data": {
      "text/html": [
       "<table class=\"dataframe\">\n",
       "<caption>A data.frame: 1 × 23</caption>\n",
       "<thead>\n",
       "\t<tr><th scope=col>index</th><th scope=col>date</th><th scope=col>type</th><th scope=col>co</th><th scope=col>quan</th><th scope=col>pps</th><th scope=col>basis</th><th scope=col>sale_quan</th><th scope=col>flag</th><th scope=col>buy_cf_quan</th><th scope=col>⋯</th><th scope=col>buy_pps</th><th scope=col>buy_basis</th><th scope=col>sell_quan</th><th scope=col>sell_pps</th><th scope=col>sell_basis</th><th scope=col>profit_loss</th><th scope=col>sold_cf_quan</th><th scope=col>sold_cf_pps</th><th scope=col>sold_cf_basis</th><th scope=col>true_false</th></tr>\n",
       "\t<tr><th scope=col>&lt;int&gt;</th><th scope=col>&lt;date&gt;</th><th scope=col>&lt;chr&gt;</th><th scope=col>&lt;chr&gt;</th><th scope=col>&lt;int&gt;</th><th scope=col>&lt;dbl&gt;</th><th scope=col>&lt;dbl&gt;</th><th scope=col>&lt;int&gt;</th><th scope=col>&lt;lgl&gt;</th><th scope=col>&lt;int&gt;</th><th scope=col>⋯</th><th scope=col>&lt;dbl&gt;</th><th scope=col>&lt;dbl&gt;</th><th scope=col>&lt;int&gt;</th><th scope=col>&lt;dbl&gt;</th><th scope=col>&lt;dbl&gt;</th><th scope=col>&lt;dbl&gt;</th><th scope=col>&lt;int&gt;</th><th scope=col>&lt;dbl&gt;</th><th scope=col>&lt;dbl&gt;</th><th scope=col>&lt;lgl&gt;</th></tr>\n",
       "</thead>\n",
       "<tbody>\n",
       "\t<tr><td>1</td><td>2022-12-31</td><td>Buy</td><td>AMC</td><td>100</td><td>4.07</td><td>407</td><td>100</td><td>FALSE</td><td>0</td><td>⋯</td><td>4.07</td><td>407</td><td>100</td><td>5.5124</td><td>551.24</td><td>144.24</td><td>900</td><td>5.5124</td><td>4961.16</td><td>TRUE</td></tr>\n",
       "</tbody>\n",
       "</table>\n"
      ],
      "text/latex": [
       "A data.frame: 1 × 23\n",
       "\\begin{tabular}{lllllllllllllllllllll}\n",
       " index & date & type & co & quan & pps & basis & sale\\_quan & flag & buy\\_cf\\_quan & ⋯ & buy\\_pps & buy\\_basis & sell\\_quan & sell\\_pps & sell\\_basis & profit\\_loss & sold\\_cf\\_quan & sold\\_cf\\_pps & sold\\_cf\\_basis & true\\_false\\\\\n",
       " <int> & <date> & <chr> & <chr> & <int> & <dbl> & <dbl> & <int> & <lgl> & <int> & ⋯ & <dbl> & <dbl> & <int> & <dbl> & <dbl> & <dbl> & <int> & <dbl> & <dbl> & <lgl>\\\\\n",
       "\\hline\n",
       "\t 1 & 2022-12-31 & Buy & AMC & 100 & 4.07 & 407 & 100 & FALSE & 0 & ⋯ & 4.07 & 407 & 100 & 5.5124 & 551.24 & 144.24 & 900 & 5.5124 & 4961.16 & TRUE\\\\\n",
       "\\end{tabular}\n"
      ],
      "text/markdown": [
       "\n",
       "A data.frame: 1 × 23\n",
       "\n",
       "| index &lt;int&gt; | date &lt;date&gt; | type &lt;chr&gt; | co &lt;chr&gt; | quan &lt;int&gt; | pps &lt;dbl&gt; | basis &lt;dbl&gt; | sale_quan &lt;int&gt; | flag &lt;lgl&gt; | buy_cf_quan &lt;int&gt; | ⋯ ⋯ | buy_pps &lt;dbl&gt; | buy_basis &lt;dbl&gt; | sell_quan &lt;int&gt; | sell_pps &lt;dbl&gt; | sell_basis &lt;dbl&gt; | profit_loss &lt;dbl&gt; | sold_cf_quan &lt;int&gt; | sold_cf_pps &lt;dbl&gt; | sold_cf_basis &lt;dbl&gt; | true_false &lt;lgl&gt; |\n",
       "|---|---|---|---|---|---|---|---|---|---|---|---|---|---|---|---|---|---|---|---|---|\n",
       "| 1 | 2022-12-31 | Buy | AMC | 100 | 4.07 | 407 | 100 | FALSE | 0 | ⋯ | 4.07 | 407 | 100 | 5.5124 | 551.24 | 144.24 | 900 | 5.5124 | 4961.16 | TRUE |\n",
       "\n"
      ],
      "text/plain": [
       "  index date       type co  quan pps  basis sale_quan flag  buy_cf_quan ⋯\n",
       "1 1     2022-12-31 Buy  AMC 100  4.07 407   100       FALSE 0           ⋯\n",
       "  buy_pps buy_basis sell_quan sell_pps sell_basis profit_loss sold_cf_quan\n",
       "1 4.07    407       100       5.5124   551.24     144.24      900         \n",
       "  sold_cf_pps sold_cf_basis true_false\n",
       "1 5.5124      4961.16       TRUE      "
      ]
     },
     "metadata": {},
     "output_type": "display_data"
    }
   ],
   "source": [
    "if (exists(\"sale_records\") && is.data.frame(get(\"sale_records\"))) {\n",
    "  # Data frame exists and is a valid data frame\n",
    "  # Your code here...\n",
    "    cat(\"sale_records exists:     \", \"\\n\") \n",
    "} else {\n",
    "  # Data frame does not exist or is not a valid data frame\n",
    "  # Handle the case where the data frame is missing...\n",
    "    cat(\"Newly created sale_records with updated_b data. \", \"\\n\")\n",
    "    sale_records <- data.frame()\n",
    "    sale_records <- rbind(sale_records, updated_b)    \n",
    "}\n",
    "sale_records"
   ]
  },
  {
   "cell_type": "code",
   "execution_count": null,
   "id": "ebf5831f-c5f1-4d4b-a1d9-306acaf06701",
   "metadata": {},
   "outputs": [],
   "source": []
  },
  {
   "cell_type": "code",
   "execution_count": 20,
   "id": "737cad74-12aa-4548-bf41-1de2584d4fd1",
   "metadata": {},
   "outputs": [
    {
     "data": {
      "text/html": [
       "<table class=\"dataframe\">\n",
       "<caption>A data.frame: 1 × 23</caption>\n",
       "<thead>\n",
       "\t<tr><th></th><th scope=col>index</th><th scope=col>date</th><th scope=col>type</th><th scope=col>co</th><th scope=col>quan</th><th scope=col>pps</th><th scope=col>basis</th><th scope=col>sale_quan</th><th scope=col>flag</th><th scope=col>buy_cf_quan</th><th scope=col>⋯</th><th scope=col>buy_pps</th><th scope=col>buy_basis</th><th scope=col>sell_quan</th><th scope=col>sell_pps</th><th scope=col>sell_basis</th><th scope=col>profit_loss</th><th scope=col>sold_cf_quan</th><th scope=col>sold_cf_pps</th><th scope=col>sold_cf_basis</th><th scope=col>true_false</th></tr>\n",
       "\t<tr><th></th><th scope=col>&lt;int&gt;</th><th scope=col>&lt;date&gt;</th><th scope=col>&lt;chr&gt;</th><th scope=col>&lt;chr&gt;</th><th scope=col>&lt;int&gt;</th><th scope=col>&lt;dbl&gt;</th><th scope=col>&lt;dbl&gt;</th><th scope=col>&lt;int&gt;</th><th scope=col>&lt;lgl&gt;</th><th scope=col>&lt;int&gt;</th><th scope=col>⋯</th><th scope=col>&lt;dbl&gt;</th><th scope=col>&lt;dbl&gt;</th><th scope=col>&lt;int&gt;</th><th scope=col>&lt;dbl&gt;</th><th scope=col>&lt;dbl&gt;</th><th scope=col>&lt;dbl&gt;</th><th scope=col>&lt;int&gt;</th><th scope=col>&lt;dbl&gt;</th><th scope=col>&lt;dbl&gt;</th><th scope=col>&lt;lgl&gt;</th></tr>\n",
       "</thead>\n",
       "<tbody>\n",
       "\t<tr><th scope=row>1</th><td>1</td><td>2022-12-31</td><td>Buy</td><td>AMC</td><td>100</td><td>4.07</td><td>407</td><td>100</td><td>FALSE</td><td>0</td><td>⋯</td><td>4.07</td><td>407</td><td>100</td><td>5.5124</td><td>551.24</td><td>144.24</td><td>900</td><td>5.5124</td><td>4961.16</td><td>TRUE</td></tr>\n",
       "</tbody>\n",
       "</table>\n"
      ],
      "text/latex": [
       "A data.frame: 1 × 23\n",
       "\\begin{tabular}{r|lllllllllllllllllllll}\n",
       "  & index & date & type & co & quan & pps & basis & sale\\_quan & flag & buy\\_cf\\_quan & ⋯ & buy\\_pps & buy\\_basis & sell\\_quan & sell\\_pps & sell\\_basis & profit\\_loss & sold\\_cf\\_quan & sold\\_cf\\_pps & sold\\_cf\\_basis & true\\_false\\\\\n",
       "  & <int> & <date> & <chr> & <chr> & <int> & <dbl> & <dbl> & <int> & <lgl> & <int> & ⋯ & <dbl> & <dbl> & <int> & <dbl> & <dbl> & <dbl> & <int> & <dbl> & <dbl> & <lgl>\\\\\n",
       "\\hline\n",
       "\t1 & 1 & 2022-12-31 & Buy & AMC & 100 & 4.07 & 407 & 100 & FALSE & 0 & ⋯ & 4.07 & 407 & 100 & 5.5124 & 551.24 & 144.24 & 900 & 5.5124 & 4961.16 & TRUE\\\\\n",
       "\\end{tabular}\n"
      ],
      "text/markdown": [
       "\n",
       "A data.frame: 1 × 23\n",
       "\n",
       "| <!--/--> | index &lt;int&gt; | date &lt;date&gt; | type &lt;chr&gt; | co &lt;chr&gt; | quan &lt;int&gt; | pps &lt;dbl&gt; | basis &lt;dbl&gt; | sale_quan &lt;int&gt; | flag &lt;lgl&gt; | buy_cf_quan &lt;int&gt; | ⋯ ⋯ | buy_pps &lt;dbl&gt; | buy_basis &lt;dbl&gt; | sell_quan &lt;int&gt; | sell_pps &lt;dbl&gt; | sell_basis &lt;dbl&gt; | profit_loss &lt;dbl&gt; | sold_cf_quan &lt;int&gt; | sold_cf_pps &lt;dbl&gt; | sold_cf_basis &lt;dbl&gt; | true_false &lt;lgl&gt; |\n",
       "|---|---|---|---|---|---|---|---|---|---|---|---|---|---|---|---|---|---|---|---|---|---|\n",
       "| 1 | 1 | 2022-12-31 | Buy | AMC | 100 | 4.07 | 407 | 100 | FALSE | 0 | ⋯ | 4.07 | 407 | 100 | 5.5124 | 551.24 | 144.24 | 900 | 5.5124 | 4961.16 | TRUE |\n",
       "\n"
      ],
      "text/plain": [
       "  index date       type co  quan pps  basis sale_quan flag  buy_cf_quan ⋯\n",
       "1 1     2022-12-31 Buy  AMC 100  4.07 407   100       FALSE 0           ⋯\n",
       "  buy_pps buy_basis sell_quan sell_pps sell_basis profit_loss sold_cf_quan\n",
       "1 4.07    407       100       5.5124   551.24     144.24      900         \n",
       "  sold_cf_pps sold_cf_basis true_false\n",
       "1 5.5124      4961.16       TRUE      "
      ]
     },
     "metadata": {},
     "output_type": "display_data"
    }
   ],
   "source": [
    "updated_b"
   ]
  },
  {
   "cell_type": "code",
   "execution_count": 21,
   "id": "729dfdc3-b28c-4b8f-a9a2-99652d2f311c",
   "metadata": {},
   "outputs": [
    {
     "data": {
      "text/html": [
       "<style>\n",
       ".list-inline {list-style: none; margin:0; padding: 0}\n",
       ".list-inline>li {display: inline-block}\n",
       ".list-inline>li:not(:last-child)::after {content: \"\\00b7\"; padding: 0 .5ex}\n",
       "</style>\n",
       "<ol class=list-inline><li>23</li><li>23</li></ol>\n"
      ],
      "text/latex": [
       "\\begin{enumerate*}\n",
       "\\item 23\n",
       "\\item 23\n",
       "\\end{enumerate*}\n"
      ],
      "text/markdown": [
       "1. 23\n",
       "2. 23\n",
       "\n",
       "\n"
      ],
      "text/plain": [
       "[1] 23 23"
      ]
     },
     "metadata": {},
     "output_type": "display_data"
    },
    {
     "data": {
      "text/html": [
       "<style>\n",
       ".list-inline {list-style: none; margin:0; padding: 0}\n",
       ".list-inline>li {display: inline-block}\n",
       ".list-inline>li:not(:last-child)::after {content: \"\\00b7\"; padding: 0 .5ex}\n",
       "</style>\n",
       "<ol class=list-inline><li>18</li><li>23</li></ol>\n"
      ],
      "text/latex": [
       "\\begin{enumerate*}\n",
       "\\item 18\n",
       "\\item 23\n",
       "\\end{enumerate*}\n"
      ],
      "text/markdown": [
       "1. 18\n",
       "2. 23\n",
       "\n",
       "\n"
      ],
      "text/plain": [
       "[1] 18 23"
      ]
     },
     "metadata": {},
     "output_type": "display_data"
    }
   ],
   "source": [
    "dim(buys)\n",
    "dim(sells)"
   ]
  },
  {
   "cell_type": "markdown",
   "id": "333f2288-156e-40d7-b4aa-c3f2d88ba08e",
   "metadata": {},
   "source": [
    "### <font color = yellow> 4. with_c/f, update buys or sells with a new row (add_row) when c/f\n",
    "    \n",
    "###### Uses add_row () to transform any existing carryforward (buy or sell type) into the next element that will be processed for next (loop) buy/sell transaction\n"
   ]
  },
  {
   "cell_type": "markdown",
   "id": "cd875283-4243-429e-bae5-fa14495c644f",
   "metadata": {},
   "source": [
    "#### <font color = lime> How it's done"
   ]
  },
  {
   "cell_type": "code",
   "execution_count": 22,
   "id": "54624e6b-c644-4f03-9403-7741466d233e",
   "metadata": {},
   "outputs": [
    {
     "data": {
      "text/html": [
       "<table class=\"dataframe\">\n",
       "<caption>A tibble: 4 × 2</caption>\n",
       "<thead>\n",
       "\t<tr><th scope=col>x</th><th scope=col>y</th></tr>\n",
       "\t<tr><th scope=col>&lt;dbl&gt;</th><th scope=col>&lt;dbl&gt;</th></tr>\n",
       "</thead>\n",
       "<tbody>\n",
       "\t<tr><td>1</td><td>3</td></tr>\n",
       "\t<tr><td>4</td><td>0</td></tr>\n",
       "\t<tr><td>2</td><td>2</td></tr>\n",
       "\t<tr><td>3</td><td>1</td></tr>\n",
       "</tbody>\n",
       "</table>\n"
      ],
      "text/latex": [
       "A tibble: 4 × 2\n",
       "\\begin{tabular}{ll}\n",
       " x & y\\\\\n",
       " <dbl> & <dbl>\\\\\n",
       "\\hline\n",
       "\t 1 & 3\\\\\n",
       "\t 4 & 0\\\\\n",
       "\t 2 & 2\\\\\n",
       "\t 3 & 1\\\\\n",
       "\\end{tabular}\n"
      ],
      "text/markdown": [
       "\n",
       "A tibble: 4 × 2\n",
       "\n",
       "| x &lt;dbl&gt; | y &lt;dbl&gt; |\n",
       "|---|---|\n",
       "| 1 | 3 |\n",
       "| 4 | 0 |\n",
       "| 2 | 2 |\n",
       "| 3 | 1 |\n",
       "\n"
      ],
      "text/plain": [
       "  x y\n",
       "1 1 3\n",
       "2 4 0\n",
       "3 2 2\n",
       "4 3 1"
      ]
     },
     "metadata": {},
     "output_type": "display_data"
    }
   ],
   "source": [
    "# good example from R:  ?add_row\n",
    "df <- tibble(x = 1:3, y = 3:1)\n",
    "\n",
    "df <- df %>% add_row(x = 4, y = 0, .before = 2)\n",
    "df"
   ]
  },
  {
   "cell_type": "code",
   "execution_count": 23,
   "id": "121b5752-626c-4e22-aaec-989b5009e98a",
   "metadata": {},
   "outputs": [
    {
     "data": {
      "text/html": [
       "<table class=\"dataframe\">\n",
       "<caption>A data.frame: 1 × 23</caption>\n",
       "<thead>\n",
       "\t<tr><th></th><th scope=col>index</th><th scope=col>date</th><th scope=col>type</th><th scope=col>co</th><th scope=col>quan</th><th scope=col>pps</th><th scope=col>basis</th><th scope=col>sale_quan</th><th scope=col>flag</th><th scope=col>buy_cf_quan</th><th scope=col>⋯</th><th scope=col>buy_pps</th><th scope=col>buy_basis</th><th scope=col>sell_quan</th><th scope=col>sell_pps</th><th scope=col>sell_basis</th><th scope=col>profit_loss</th><th scope=col>sold_cf_quan</th><th scope=col>sold_cf_pps</th><th scope=col>sold_cf_basis</th><th scope=col>true_false</th></tr>\n",
       "\t<tr><th></th><th scope=col>&lt;int&gt;</th><th scope=col>&lt;date&gt;</th><th scope=col>&lt;chr&gt;</th><th scope=col>&lt;chr&gt;</th><th scope=col>&lt;int&gt;</th><th scope=col>&lt;dbl&gt;</th><th scope=col>&lt;dbl&gt;</th><th scope=col>&lt;int&gt;</th><th scope=col>&lt;lgl&gt;</th><th scope=col>&lt;int&gt;</th><th scope=col>⋯</th><th scope=col>&lt;dbl&gt;</th><th scope=col>&lt;dbl&gt;</th><th scope=col>&lt;int&gt;</th><th scope=col>&lt;dbl&gt;</th><th scope=col>&lt;dbl&gt;</th><th scope=col>&lt;dbl&gt;</th><th scope=col>&lt;int&gt;</th><th scope=col>&lt;dbl&gt;</th><th scope=col>&lt;dbl&gt;</th><th scope=col>&lt;lgl&gt;</th></tr>\n",
       "</thead>\n",
       "<tbody>\n",
       "\t<tr><th scope=row>2</th><td>2</td><td>2023-01-27</td><td>Sell</td><td>AMC</td><td>1000</td><td>5.5124</td><td>5512.4</td><td>0</td><td>FALSE</td><td>0</td><td>⋯</td><td>0</td><td>0</td><td>0</td><td>0</td><td>0</td><td>0</td><td>0</td><td>0</td><td>0</td><td>FALSE</td></tr>\n",
       "</tbody>\n",
       "</table>\n"
      ],
      "text/latex": [
       "A data.frame: 1 × 23\n",
       "\\begin{tabular}{r|lllllllllllllllllllll}\n",
       "  & index & date & type & co & quan & pps & basis & sale\\_quan & flag & buy\\_cf\\_quan & ⋯ & buy\\_pps & buy\\_basis & sell\\_quan & sell\\_pps & sell\\_basis & profit\\_loss & sold\\_cf\\_quan & sold\\_cf\\_pps & sold\\_cf\\_basis & true\\_false\\\\\n",
       "  & <int> & <date> & <chr> & <chr> & <int> & <dbl> & <dbl> & <int> & <lgl> & <int> & ⋯ & <dbl> & <dbl> & <int> & <dbl> & <dbl> & <dbl> & <int> & <dbl> & <dbl> & <lgl>\\\\\n",
       "\\hline\n",
       "\t2 & 2 & 2023-01-27 & Sell & AMC & 1000 & 5.5124 & 5512.4 & 0 & FALSE & 0 & ⋯ & 0 & 0 & 0 & 0 & 0 & 0 & 0 & 0 & 0 & FALSE\\\\\n",
       "\\end{tabular}\n"
      ],
      "text/markdown": [
       "\n",
       "A data.frame: 1 × 23\n",
       "\n",
       "| <!--/--> | index &lt;int&gt; | date &lt;date&gt; | type &lt;chr&gt; | co &lt;chr&gt; | quan &lt;int&gt; | pps &lt;dbl&gt; | basis &lt;dbl&gt; | sale_quan &lt;int&gt; | flag &lt;lgl&gt; | buy_cf_quan &lt;int&gt; | ⋯ ⋯ | buy_pps &lt;dbl&gt; | buy_basis &lt;dbl&gt; | sell_quan &lt;int&gt; | sell_pps &lt;dbl&gt; | sell_basis &lt;dbl&gt; | profit_loss &lt;dbl&gt; | sold_cf_quan &lt;int&gt; | sold_cf_pps &lt;dbl&gt; | sold_cf_basis &lt;dbl&gt; | true_false &lt;lgl&gt; |\n",
       "|---|---|---|---|---|---|---|---|---|---|---|---|---|---|---|---|---|---|---|---|---|---|\n",
       "| 2 | 2 | 2023-01-27 | Sell | AMC | 1000 | 5.5124 | 5512.4 | 0 | FALSE | 0 | ⋯ | 0 | 0 | 0 | 0 | 0 | 0 | 0 | 0 | 0 | FALSE |\n",
       "\n"
      ],
      "text/plain": [
       "  index date       type co  quan pps    basis  sale_quan flag  buy_cf_quan ⋯\n",
       "2 2     2023-01-27 Sell AMC 1000 5.5124 5512.4 0         FALSE 0           ⋯\n",
       "  buy_pps buy_basis sell_quan sell_pps sell_basis profit_loss sold_cf_quan\n",
       "2 0       0         0         0        0          0           0           \n",
       "  sold_cf_pps sold_cf_basis true_false\n",
       "2 0           0             FALSE     "
      ]
     },
     "metadata": {},
     "output_type": "display_data"
    }
   ],
   "source": [
    "first_row <- head(sells, 1)\n",
    "first_row"
   ]
  },
  {
   "cell_type": "code",
   "execution_count": 24,
   "id": "b574f4cf-4e75-4eff-bb37-e4054c9d9739",
   "metadata": {},
   "outputs": [
    {
     "data": {
      "text/html": [
       "<table class=\"dataframe\">\n",
       "<caption>A data.frame: 1 × 23</caption>\n",
       "<thead>\n",
       "\t<tr><th></th><th scope=col>index</th><th scope=col>date</th><th scope=col>type</th><th scope=col>co</th><th scope=col>quan</th><th scope=col>pps</th><th scope=col>basis</th><th scope=col>sale_quan</th><th scope=col>flag</th><th scope=col>buy_cf_quan</th><th scope=col>⋯</th><th scope=col>buy_pps</th><th scope=col>buy_basis</th><th scope=col>sell_quan</th><th scope=col>sell_pps</th><th scope=col>sell_basis</th><th scope=col>profit_loss</th><th scope=col>sold_cf_quan</th><th scope=col>sold_cf_pps</th><th scope=col>sold_cf_basis</th><th scope=col>true_false</th></tr>\n",
       "\t<tr><th></th><th scope=col>&lt;int&gt;</th><th scope=col>&lt;date&gt;</th><th scope=col>&lt;chr&gt;</th><th scope=col>&lt;chr&gt;</th><th scope=col>&lt;int&gt;</th><th scope=col>&lt;dbl&gt;</th><th scope=col>&lt;dbl&gt;</th><th scope=col>&lt;int&gt;</th><th scope=col>&lt;lgl&gt;</th><th scope=col>&lt;int&gt;</th><th scope=col>⋯</th><th scope=col>&lt;dbl&gt;</th><th scope=col>&lt;dbl&gt;</th><th scope=col>&lt;int&gt;</th><th scope=col>&lt;dbl&gt;</th><th scope=col>&lt;dbl&gt;</th><th scope=col>&lt;dbl&gt;</th><th scope=col>&lt;int&gt;</th><th scope=col>&lt;dbl&gt;</th><th scope=col>&lt;dbl&gt;</th><th scope=col>&lt;lgl&gt;</th></tr>\n",
       "</thead>\n",
       "<tbody>\n",
       "\t<tr><th scope=row>1</th><td>1</td><td>2022-12-31</td><td>Buy</td><td>AMC</td><td>100</td><td>4.07</td><td>407</td><td>100</td><td>FALSE</td><td>0</td><td>⋯</td><td>4.07</td><td>407</td><td>100</td><td>5.5124</td><td>551.24</td><td>144.24</td><td>900</td><td>5.5124</td><td>4961.16</td><td>TRUE</td></tr>\n",
       "</tbody>\n",
       "</table>\n"
      ],
      "text/latex": [
       "A data.frame: 1 × 23\n",
       "\\begin{tabular}{r|lllllllllllllllllllll}\n",
       "  & index & date & type & co & quan & pps & basis & sale\\_quan & flag & buy\\_cf\\_quan & ⋯ & buy\\_pps & buy\\_basis & sell\\_quan & sell\\_pps & sell\\_basis & profit\\_loss & sold\\_cf\\_quan & sold\\_cf\\_pps & sold\\_cf\\_basis & true\\_false\\\\\n",
       "  & <int> & <date> & <chr> & <chr> & <int> & <dbl> & <dbl> & <int> & <lgl> & <int> & ⋯ & <dbl> & <dbl> & <int> & <dbl> & <dbl> & <dbl> & <int> & <dbl> & <dbl> & <lgl>\\\\\n",
       "\\hline\n",
       "\t1 & 1 & 2022-12-31 & Buy & AMC & 100 & 4.07 & 407 & 100 & FALSE & 0 & ⋯ & 4.07 & 407 & 100 & 5.5124 & 551.24 & 144.24 & 900 & 5.5124 & 4961.16 & TRUE\\\\\n",
       "\\end{tabular}\n"
      ],
      "text/markdown": [
       "\n",
       "A data.frame: 1 × 23\n",
       "\n",
       "| <!--/--> | index &lt;int&gt; | date &lt;date&gt; | type &lt;chr&gt; | co &lt;chr&gt; | quan &lt;int&gt; | pps &lt;dbl&gt; | basis &lt;dbl&gt; | sale_quan &lt;int&gt; | flag &lt;lgl&gt; | buy_cf_quan &lt;int&gt; | ⋯ ⋯ | buy_pps &lt;dbl&gt; | buy_basis &lt;dbl&gt; | sell_quan &lt;int&gt; | sell_pps &lt;dbl&gt; | sell_basis &lt;dbl&gt; | profit_loss &lt;dbl&gt; | sold_cf_quan &lt;int&gt; | sold_cf_pps &lt;dbl&gt; | sold_cf_basis &lt;dbl&gt; | true_false &lt;lgl&gt; |\n",
       "|---|---|---|---|---|---|---|---|---|---|---|---|---|---|---|---|---|---|---|---|---|---|\n",
       "| 1 | 1 | 2022-12-31 | Buy | AMC | 100 | 4.07 | 407 | 100 | FALSE | 0 | ⋯ | 4.07 | 407 | 100 | 5.5124 | 551.24 | 144.24 | 900 | 5.5124 | 4961.16 | TRUE |\n",
       "\n"
      ],
      "text/plain": [
       "  index date       type co  quan pps  basis sale_quan flag  buy_cf_quan ⋯\n",
       "1 1     2022-12-31 Buy  AMC 100  4.07 407   100       FALSE 0           ⋯\n",
       "  buy_pps buy_basis sell_quan sell_pps sell_basis profit_loss sold_cf_quan\n",
       "1 4.07    407       100       5.5124   551.24     144.24      900         \n",
       "  sold_cf_pps sold_cf_basis true_false\n",
       "1 5.5124      4961.16       TRUE      "
      ]
     },
     "metadata": {},
     "output_type": "display_data"
    }
   ],
   "source": [
    "last_row <- tail(sale_records, n = 1)\n",
    "last_row"
   ]
  },
  {
   "cell_type": "code",
   "execution_count": 25,
   "id": "98d6f4e9-48e0-47ab-9d2d-ed64dce572e7",
   "metadata": {},
   "outputs": [
    {
     "data": {
      "text/html": [
       "<style>\n",
       ".list-inline {list-style: none; margin:0; padding: 0}\n",
       ".list-inline>li {display: inline-block}\n",
       ".list-inline>li:not(:last-child)::after {content: \"\\00b7\"; padding: 0 .5ex}\n",
       "</style>\n",
       "<ol class=list-inline><li>23</li><li>23</li></ol>\n"
      ],
      "text/latex": [
       "\\begin{enumerate*}\n",
       "\\item 23\n",
       "\\item 23\n",
       "\\end{enumerate*}\n"
      ],
      "text/markdown": [
       "1. 23\n",
       "2. 23\n",
       "\n",
       "\n"
      ],
      "text/plain": [
       "[1] 23 23"
      ]
     },
     "metadata": {},
     "output_type": "display_data"
    },
    {
     "data": {
      "text/html": [
       "<style>\n",
       ".list-inline {list-style: none; margin:0; padding: 0}\n",
       ".list-inline>li {display: inline-block}\n",
       ".list-inline>li:not(:last-child)::after {content: \"\\00b7\"; padding: 0 .5ex}\n",
       "</style>\n",
       "<ol class=list-inline><li>18</li><li>23</li></ol>\n"
      ],
      "text/latex": [
       "\\begin{enumerate*}\n",
       "\\item 18\n",
       "\\item 23\n",
       "\\end{enumerate*}\n"
      ],
      "text/markdown": [
       "1. 18\n",
       "2. 23\n",
       "\n",
       "\n"
      ],
      "text/plain": [
       "[1] 18 23"
      ]
     },
     "metadata": {},
     "output_type": "display_data"
    }
   ],
   "source": [
    "dim(buys)\n",
    "dim(sells)"
   ]
  },
  {
   "cell_type": "code",
   "execution_count": 26,
   "id": "2f39beb3-3e0c-4361-aa7f-8fc466eecd0c",
   "metadata": {},
   "outputs": [
    {
     "name": "stdout",
     "output_type": "stream",
     "text": [
      "\n",
      " There is Sold carryforward. Update sells  900 \n",
      "printing: s1 ... dim of sells increases with c/f  \n"
     ]
    },
    {
     "data": {
      "text/html": [
       "<style>\n",
       ".list-inline {list-style: none; margin:0; padding: 0}\n",
       ".list-inline>li {display: inline-block}\n",
       ".list-inline>li:not(:last-child)::after {content: \"\\00b7\"; padding: 0 .5ex}\n",
       "</style>\n",
       "<ol class=list-inline><li>23</li><li>23</li></ol>\n"
      ],
      "text/latex": [
       "\\begin{enumerate*}\n",
       "\\item 23\n",
       "\\item 23\n",
       "\\end{enumerate*}\n"
      ],
      "text/markdown": [
       "1. 23\n",
       "2. 23\n",
       "\n",
       "\n"
      ],
      "text/plain": [
       "[1] 23 23"
      ]
     },
     "metadata": {},
     "output_type": "display_data"
    },
    {
     "data": {
      "text/html": [
       "<style>\n",
       ".list-inline {list-style: none; margin:0; padding: 0}\n",
       ".list-inline>li {display: inline-block}\n",
       ".list-inline>li:not(:last-child)::after {content: \"\\00b7\"; padding: 0 .5ex}\n",
       "</style>\n",
       "<ol class=list-inline><li>19</li><li>23</li></ol>\n"
      ],
      "text/latex": [
       "\\begin{enumerate*}\n",
       "\\item 19\n",
       "\\item 23\n",
       "\\end{enumerate*}\n"
      ],
      "text/markdown": [
       "1. 19\n",
       "2. 23\n",
       "\n",
       "\n"
      ],
      "text/plain": [
       "[1] 19 23"
      ]
     },
     "metadata": {},
     "output_type": "display_data"
    }
   ],
   "source": [
    "# Evaluate the type of carryforward, then update buys or sells w/cf to prepare for next transaction (loop)\n",
    "\n",
    "update_withcf <- function(buys, sells) {\n",
    "\n",
    "    #  Check the most recent row ??? of sale_record or the last row of sale_record (was bind() or add_row() ? )\n",
    "    last_row <- tail(sale_records, n = 1)\n",
    "    \n",
    "    # b == s (no c/f)\n",
    "    if(last_row$flag == FALSE && last_row$true_false == FALSE) {\n",
    "         cat(\"\\n\", \"The buy == sell, t/f No update to buys or sells.  NO carryforward. \", last_row$buy_cf_quan, \"\\n\")\n",
    "      }  \n",
    "        \n",
    "    \n",
    "    #  b > s  ... buy c/f will be created \n",
    "    if (last_row$flag == TRUE && last_row$true_false == FALSE ) {\n",
    "        cat(\"\\n\", \"There is Buy carryforward. Update buys \", last_row$sold_cf_quan, \"\\n\")\n",
    "\n",
    "        last_row$co <- \"c/f\"\n",
    "        b1 <- last_row\n",
    "       \n",
    "        b1$type <- \"Buy CF\"\n",
    "        b1$quan <- b1$sold_cf_quan\n",
    "        b1$pps <- b1$sold_cf_pps\n",
    "        b1$basis <- b1$sold_cf_basis\n",
    "        b1$flag <- FALSE\n",
    "        b1$sale_quan <- 0\n",
    "        b1[ , 10:ncol(b1)] <- 0\n",
    "\n",
    "        test <- buys\n",
    "        test <- test %>% add_row(b1, .before = 1)\n",
    "        buys <- test\n",
    "\n",
    "    #   s > b ... sell carryforward will be created    create s1\n",
    "    } else if (last_row$flag == FALSE && last_row$true_false == TRUE ) {\n",
    "       \n",
    "        cat(\"\\n\", \"There is Sold carryforward. Update sells \", last_row$sold_cf_quan, \"\\n\")\n",
    "           # cat(\"dim(s1) : \", dim(s1), \"\\n\")\n",
    "         \n",
    "        last_row$co <- \"c/f\"\n",
    "        s1 <- last_row\n",
    "       \n",
    "        s1$type <- \"Sell CF\"\n",
    "        s1$quan <- s1$sold_cf_quan\n",
    "        s1$pps <- s1$sold_cf_pps\n",
    "        s1$basis <- s1$sold_cf_basis\n",
    "        s1$sale_quan <- 0\n",
    "        s1[ , 10:ncol(s1)] <- 0\n",
    "\n",
    "        test <- sells\n",
    "        test <- test %>% add_row(s1, .before = 1)\n",
    "        sells <- test\n",
    "                      \n",
    "        }\n",
    "\n",
    "    # print by type of c/f  ( buy or sell ) \n",
    "        if(last_row$flag == TRUE) {\n",
    "            cat(\"printing updated buys[1 ], dim of buys increases with c/f \", \"\\n\")\n",
    "            b1\n",
    "            #buys[1, ]\n",
    "        }else if (last_row$true_false == TRUE) {\n",
    "            cat(\"printing: s1 ... dim of sells increases with c/f \", \"\\n\")\n",
    "            s1\n",
    "        }else {\n",
    "            cat(\"If msg here, there is no CF and potential issue exists in fct update_withcf. \", \"\\n\")\n",
    "            }\n",
    "    \n",
    "    return(list(buys, sells))\n",
    "     \n",
    "  }  # fct\n",
    "\n",
    "# fct call\n",
    "return_list <- update_withcf(buys, sells)\n",
    "\n",
    "buys <- return_list[[1]]\n",
    "sells <- return_list[[2]]\n",
    "\n",
    "dim(buys)\n",
    "dim(sells)\n"
   ]
  },
  {
   "cell_type": "code",
   "execution_count": 27,
   "id": "553f917e-9d08-484c-9525-d34777780083",
   "metadata": {},
   "outputs": [
    {
     "data": {
      "text/html": [
       "<table class=\"dataframe\">\n",
       "<caption>A data.frame: 2 × 23</caption>\n",
       "<thead>\n",
       "\t<tr><th></th><th scope=col>index</th><th scope=col>date</th><th scope=col>type</th><th scope=col>co</th><th scope=col>quan</th><th scope=col>pps</th><th scope=col>basis</th><th scope=col>sale_quan</th><th scope=col>flag</th><th scope=col>buy_cf_quan</th><th scope=col>⋯</th><th scope=col>buy_pps</th><th scope=col>buy_basis</th><th scope=col>sell_quan</th><th scope=col>sell_pps</th><th scope=col>sell_basis</th><th scope=col>profit_loss</th><th scope=col>sold_cf_quan</th><th scope=col>sold_cf_pps</th><th scope=col>sold_cf_basis</th><th scope=col>true_false</th></tr>\n",
       "\t<tr><th></th><th scope=col>&lt;int&gt;</th><th scope=col>&lt;date&gt;</th><th scope=col>&lt;chr&gt;</th><th scope=col>&lt;chr&gt;</th><th scope=col>&lt;int&gt;</th><th scope=col>&lt;dbl&gt;</th><th scope=col>&lt;dbl&gt;</th><th scope=col>&lt;int&gt;</th><th scope=col>&lt;lgl&gt;</th><th scope=col>&lt;int&gt;</th><th scope=col>⋯</th><th scope=col>&lt;dbl&gt;</th><th scope=col>&lt;dbl&gt;</th><th scope=col>&lt;int&gt;</th><th scope=col>&lt;dbl&gt;</th><th scope=col>&lt;dbl&gt;</th><th scope=col>&lt;dbl&gt;</th><th scope=col>&lt;int&gt;</th><th scope=col>&lt;dbl&gt;</th><th scope=col>&lt;dbl&gt;</th><th scope=col>&lt;lgl&gt;</th></tr>\n",
       "</thead>\n",
       "<tbody>\n",
       "\t<tr><th scope=row>1</th><td>1</td><td>2022-12-31</td><td>Buy</td><td>AMC</td><td> 100</td><td>4.070</td><td>4273.5</td><td>0</td><td>FALSE</td><td>0</td><td>⋯</td><td>0</td><td>0</td><td>0</td><td>0</td><td>0</td><td>0</td><td>0</td><td>0</td><td>0</td><td>FALSE</td></tr>\n",
       "\t<tr><th scope=row>3</th><td>3</td><td>2023-01-20</td><td>Buy</td><td>AMC</td><td>1000</td><td>5.625</td><td>5625.0</td><td>0</td><td>FALSE</td><td>0</td><td>⋯</td><td>0</td><td>0</td><td>0</td><td>0</td><td>0</td><td>0</td><td>0</td><td>0</td><td>0</td><td>FALSE</td></tr>\n",
       "</tbody>\n",
       "</table>\n"
      ],
      "text/latex": [
       "A data.frame: 2 × 23\n",
       "\\begin{tabular}{r|lllllllllllllllllllll}\n",
       "  & index & date & type & co & quan & pps & basis & sale\\_quan & flag & buy\\_cf\\_quan & ⋯ & buy\\_pps & buy\\_basis & sell\\_quan & sell\\_pps & sell\\_basis & profit\\_loss & sold\\_cf\\_quan & sold\\_cf\\_pps & sold\\_cf\\_basis & true\\_false\\\\\n",
       "  & <int> & <date> & <chr> & <chr> & <int> & <dbl> & <dbl> & <int> & <lgl> & <int> & ⋯ & <dbl> & <dbl> & <int> & <dbl> & <dbl> & <dbl> & <int> & <dbl> & <dbl> & <lgl>\\\\\n",
       "\\hline\n",
       "\t1 & 1 & 2022-12-31 & Buy & AMC &  100 & 4.070 & 4273.5 & 0 & FALSE & 0 & ⋯ & 0 & 0 & 0 & 0 & 0 & 0 & 0 & 0 & 0 & FALSE\\\\\n",
       "\t3 & 3 & 2023-01-20 & Buy & AMC & 1000 & 5.625 & 5625.0 & 0 & FALSE & 0 & ⋯ & 0 & 0 & 0 & 0 & 0 & 0 & 0 & 0 & 0 & FALSE\\\\\n",
       "\\end{tabular}\n"
      ],
      "text/markdown": [
       "\n",
       "A data.frame: 2 × 23\n",
       "\n",
       "| <!--/--> | index &lt;int&gt; | date &lt;date&gt; | type &lt;chr&gt; | co &lt;chr&gt; | quan &lt;int&gt; | pps &lt;dbl&gt; | basis &lt;dbl&gt; | sale_quan &lt;int&gt; | flag &lt;lgl&gt; | buy_cf_quan &lt;int&gt; | ⋯ ⋯ | buy_pps &lt;dbl&gt; | buy_basis &lt;dbl&gt; | sell_quan &lt;int&gt; | sell_pps &lt;dbl&gt; | sell_basis &lt;dbl&gt; | profit_loss &lt;dbl&gt; | sold_cf_quan &lt;int&gt; | sold_cf_pps &lt;dbl&gt; | sold_cf_basis &lt;dbl&gt; | true_false &lt;lgl&gt; |\n",
       "|---|---|---|---|---|---|---|---|---|---|---|---|---|---|---|---|---|---|---|---|---|---|\n",
       "| 1 | 1 | 2022-12-31 | Buy | AMC |  100 | 4.070 | 4273.5 | 0 | FALSE | 0 | ⋯ | 0 | 0 | 0 | 0 | 0 | 0 | 0 | 0 | 0 | FALSE |\n",
       "| 3 | 3 | 2023-01-20 | Buy | AMC | 1000 | 5.625 | 5625.0 | 0 | FALSE | 0 | ⋯ | 0 | 0 | 0 | 0 | 0 | 0 | 0 | 0 | 0 | FALSE |\n",
       "\n"
      ],
      "text/plain": [
       "  index date       type co  quan pps   basis  sale_quan flag  buy_cf_quan ⋯\n",
       "1 1     2022-12-31 Buy  AMC  100 4.070 4273.5 0         FALSE 0           ⋯\n",
       "3 3     2023-01-20 Buy  AMC 1000 5.625 5625.0 0         FALSE 0           ⋯\n",
       "  buy_pps buy_basis sell_quan sell_pps sell_basis profit_loss sold_cf_quan\n",
       "1 0       0         0         0        0          0           0           \n",
       "3 0       0         0         0        0          0           0           \n",
       "  sold_cf_pps sold_cf_basis true_false\n",
       "1 0           0             FALSE     \n",
       "3 0           0             FALSE     "
      ]
     },
     "metadata": {},
     "output_type": "display_data"
    },
    {
     "data": {
      "text/html": [
       "<table class=\"dataframe\">\n",
       "<caption>A data.frame: 2 × 23</caption>\n",
       "<thead>\n",
       "\t<tr><th></th><th scope=col>index</th><th scope=col>date</th><th scope=col>type</th><th scope=col>co</th><th scope=col>quan</th><th scope=col>pps</th><th scope=col>basis</th><th scope=col>sale_quan</th><th scope=col>flag</th><th scope=col>buy_cf_quan</th><th scope=col>⋯</th><th scope=col>buy_pps</th><th scope=col>buy_basis</th><th scope=col>sell_quan</th><th scope=col>sell_pps</th><th scope=col>sell_basis</th><th scope=col>profit_loss</th><th scope=col>sold_cf_quan</th><th scope=col>sold_cf_pps</th><th scope=col>sold_cf_basis</th><th scope=col>true_false</th></tr>\n",
       "\t<tr><th></th><th scope=col>&lt;int&gt;</th><th scope=col>&lt;date&gt;</th><th scope=col>&lt;chr&gt;</th><th scope=col>&lt;chr&gt;</th><th scope=col>&lt;int&gt;</th><th scope=col>&lt;dbl&gt;</th><th scope=col>&lt;dbl&gt;</th><th scope=col>&lt;dbl&gt;</th><th scope=col>&lt;lgl&gt;</th><th scope=col>&lt;dbl&gt;</th><th scope=col>⋯</th><th scope=col>&lt;dbl&gt;</th><th scope=col>&lt;dbl&gt;</th><th scope=col>&lt;dbl&gt;</th><th scope=col>&lt;dbl&gt;</th><th scope=col>&lt;dbl&gt;</th><th scope=col>&lt;dbl&gt;</th><th scope=col>&lt;dbl&gt;</th><th scope=col>&lt;dbl&gt;</th><th scope=col>&lt;dbl&gt;</th><th scope=col>&lt;dbl&gt;</th></tr>\n",
       "</thead>\n",
       "<tbody>\n",
       "\t<tr><th scope=row>1</th><td>1</td><td>2022-12-31</td><td>Sell CF</td><td>c/f</td><td> 900</td><td>5.5124</td><td>4961.16</td><td>0</td><td>FALSE</td><td>0</td><td>⋯</td><td>0</td><td>0</td><td>0</td><td>0</td><td>0</td><td>0</td><td>0</td><td>0</td><td>0</td><td>0</td></tr>\n",
       "\t<tr><th scope=row>2</th><td>2</td><td>2023-01-27</td><td>Sell   </td><td>AMC</td><td>1000</td><td>5.5124</td><td>5512.40</td><td>0</td><td>FALSE</td><td>0</td><td>⋯</td><td>0</td><td>0</td><td>0</td><td>0</td><td>0</td><td>0</td><td>0</td><td>0</td><td>0</td><td>0</td></tr>\n",
       "</tbody>\n",
       "</table>\n"
      ],
      "text/latex": [
       "A data.frame: 2 × 23\n",
       "\\begin{tabular}{r|lllllllllllllllllllll}\n",
       "  & index & date & type & co & quan & pps & basis & sale\\_quan & flag & buy\\_cf\\_quan & ⋯ & buy\\_pps & buy\\_basis & sell\\_quan & sell\\_pps & sell\\_basis & profit\\_loss & sold\\_cf\\_quan & sold\\_cf\\_pps & sold\\_cf\\_basis & true\\_false\\\\\n",
       "  & <int> & <date> & <chr> & <chr> & <int> & <dbl> & <dbl> & <dbl> & <lgl> & <dbl> & ⋯ & <dbl> & <dbl> & <dbl> & <dbl> & <dbl> & <dbl> & <dbl> & <dbl> & <dbl> & <dbl>\\\\\n",
       "\\hline\n",
       "\t1 & 1 & 2022-12-31 & Sell CF & c/f &  900 & 5.5124 & 4961.16 & 0 & FALSE & 0 & ⋯ & 0 & 0 & 0 & 0 & 0 & 0 & 0 & 0 & 0 & 0\\\\\n",
       "\t2 & 2 & 2023-01-27 & Sell    & AMC & 1000 & 5.5124 & 5512.40 & 0 & FALSE & 0 & ⋯ & 0 & 0 & 0 & 0 & 0 & 0 & 0 & 0 & 0 & 0\\\\\n",
       "\\end{tabular}\n"
      ],
      "text/markdown": [
       "\n",
       "A data.frame: 2 × 23\n",
       "\n",
       "| <!--/--> | index &lt;int&gt; | date &lt;date&gt; | type &lt;chr&gt; | co &lt;chr&gt; | quan &lt;int&gt; | pps &lt;dbl&gt; | basis &lt;dbl&gt; | sale_quan &lt;dbl&gt; | flag &lt;lgl&gt; | buy_cf_quan &lt;dbl&gt; | ⋯ ⋯ | buy_pps &lt;dbl&gt; | buy_basis &lt;dbl&gt; | sell_quan &lt;dbl&gt; | sell_pps &lt;dbl&gt; | sell_basis &lt;dbl&gt; | profit_loss &lt;dbl&gt; | sold_cf_quan &lt;dbl&gt; | sold_cf_pps &lt;dbl&gt; | sold_cf_basis &lt;dbl&gt; | true_false &lt;dbl&gt; |\n",
       "|---|---|---|---|---|---|---|---|---|---|---|---|---|---|---|---|---|---|---|---|---|---|\n",
       "| 1 | 1 | 2022-12-31 | Sell CF | c/f |  900 | 5.5124 | 4961.16 | 0 | FALSE | 0 | ⋯ | 0 | 0 | 0 | 0 | 0 | 0 | 0 | 0 | 0 | 0 |\n",
       "| 2 | 2 | 2023-01-27 | Sell    | AMC | 1000 | 5.5124 | 5512.40 | 0 | FALSE | 0 | ⋯ | 0 | 0 | 0 | 0 | 0 | 0 | 0 | 0 | 0 | 0 |\n",
       "\n"
      ],
      "text/plain": [
       "  index date       type    co  quan pps    basis   sale_quan flag  buy_cf_quan\n",
       "1 1     2022-12-31 Sell CF c/f  900 5.5124 4961.16 0         FALSE 0          \n",
       "2 2     2023-01-27 Sell    AMC 1000 5.5124 5512.40 0         FALSE 0          \n",
       "  ⋯ buy_pps buy_basis sell_quan sell_pps sell_basis profit_loss sold_cf_quan\n",
       "1 ⋯ 0       0         0         0        0          0           0           \n",
       "2 ⋯ 0       0         0         0        0          0           0           \n",
       "  sold_cf_pps sold_cf_basis true_false\n",
       "1 0           0             0         \n",
       "2 0           0             0         "
      ]
     },
     "metadata": {},
     "output_type": "display_data"
    }
   ],
   "source": [
    "buys[1:2, ]\n",
    "sells[1:2,]"
   ]
  },
  {
   "cell_type": "code",
   "execution_count": null,
   "id": "f798b540-9c0e-4a8f-a5f1-81d0c5f6f43d",
   "metadata": {},
   "outputs": [],
   "source": []
  },
  {
   "cell_type": "markdown",
   "id": "35cf7052-5523-4b99-a0df-0e38fe1d320c",
   "metadata": {},
   "source": [
    "#### <font color = yellow>5. Snip(), delete row from buys and sells / replace row when c/f "
   ]
  },
  {
   "cell_type": "code",
   "execution_count": 28,
   "id": "699122cb-7b66-4179-afeb-f1f11abefa03",
   "metadata": {},
   "outputs": [
    {
     "data": {
      "text/html": [
       "<table class=\"dataframe\">\n",
       "<caption>A data.frame: 2 × 23</caption>\n",
       "<thead>\n",
       "\t<tr><th></th><th scope=col>index</th><th scope=col>date</th><th scope=col>type</th><th scope=col>co</th><th scope=col>quan</th><th scope=col>pps</th><th scope=col>basis</th><th scope=col>sale_quan</th><th scope=col>flag</th><th scope=col>buy_cf_quan</th><th scope=col>⋯</th><th scope=col>buy_pps</th><th scope=col>buy_basis</th><th scope=col>sell_quan</th><th scope=col>sell_pps</th><th scope=col>sell_basis</th><th scope=col>profit_loss</th><th scope=col>sold_cf_quan</th><th scope=col>sold_cf_pps</th><th scope=col>sold_cf_basis</th><th scope=col>true_false</th></tr>\n",
       "\t<tr><th></th><th scope=col>&lt;int&gt;</th><th scope=col>&lt;date&gt;</th><th scope=col>&lt;chr&gt;</th><th scope=col>&lt;chr&gt;</th><th scope=col>&lt;int&gt;</th><th scope=col>&lt;dbl&gt;</th><th scope=col>&lt;dbl&gt;</th><th scope=col>&lt;int&gt;</th><th scope=col>&lt;lgl&gt;</th><th scope=col>&lt;int&gt;</th><th scope=col>⋯</th><th scope=col>&lt;dbl&gt;</th><th scope=col>&lt;dbl&gt;</th><th scope=col>&lt;int&gt;</th><th scope=col>&lt;dbl&gt;</th><th scope=col>&lt;dbl&gt;</th><th scope=col>&lt;dbl&gt;</th><th scope=col>&lt;int&gt;</th><th scope=col>&lt;dbl&gt;</th><th scope=col>&lt;dbl&gt;</th><th scope=col>&lt;lgl&gt;</th></tr>\n",
       "</thead>\n",
       "<tbody>\n",
       "\t<tr><th scope=row>1</th><td>1</td><td>2022-12-31</td><td>Buy</td><td>AMC</td><td> 100</td><td>4.070</td><td>4273.5</td><td>0</td><td>FALSE</td><td>0</td><td>⋯</td><td>0</td><td>0</td><td>0</td><td>0</td><td>0</td><td>0</td><td>0</td><td>0</td><td>0</td><td>FALSE</td></tr>\n",
       "\t<tr><th scope=row>3</th><td>3</td><td>2023-01-20</td><td>Buy</td><td>AMC</td><td>1000</td><td>5.625</td><td>5625.0</td><td>0</td><td>FALSE</td><td>0</td><td>⋯</td><td>0</td><td>0</td><td>0</td><td>0</td><td>0</td><td>0</td><td>0</td><td>0</td><td>0</td><td>FALSE</td></tr>\n",
       "</tbody>\n",
       "</table>\n"
      ],
      "text/latex": [
       "A data.frame: 2 × 23\n",
       "\\begin{tabular}{r|lllllllllllllllllllll}\n",
       "  & index & date & type & co & quan & pps & basis & sale\\_quan & flag & buy\\_cf\\_quan & ⋯ & buy\\_pps & buy\\_basis & sell\\_quan & sell\\_pps & sell\\_basis & profit\\_loss & sold\\_cf\\_quan & sold\\_cf\\_pps & sold\\_cf\\_basis & true\\_false\\\\\n",
       "  & <int> & <date> & <chr> & <chr> & <int> & <dbl> & <dbl> & <int> & <lgl> & <int> & ⋯ & <dbl> & <dbl> & <int> & <dbl> & <dbl> & <dbl> & <int> & <dbl> & <dbl> & <lgl>\\\\\n",
       "\\hline\n",
       "\t1 & 1 & 2022-12-31 & Buy & AMC &  100 & 4.070 & 4273.5 & 0 & FALSE & 0 & ⋯ & 0 & 0 & 0 & 0 & 0 & 0 & 0 & 0 & 0 & FALSE\\\\\n",
       "\t3 & 3 & 2023-01-20 & Buy & AMC & 1000 & 5.625 & 5625.0 & 0 & FALSE & 0 & ⋯ & 0 & 0 & 0 & 0 & 0 & 0 & 0 & 0 & 0 & FALSE\\\\\n",
       "\\end{tabular}\n"
      ],
      "text/markdown": [
       "\n",
       "A data.frame: 2 × 23\n",
       "\n",
       "| <!--/--> | index &lt;int&gt; | date &lt;date&gt; | type &lt;chr&gt; | co &lt;chr&gt; | quan &lt;int&gt; | pps &lt;dbl&gt; | basis &lt;dbl&gt; | sale_quan &lt;int&gt; | flag &lt;lgl&gt; | buy_cf_quan &lt;int&gt; | ⋯ ⋯ | buy_pps &lt;dbl&gt; | buy_basis &lt;dbl&gt; | sell_quan &lt;int&gt; | sell_pps &lt;dbl&gt; | sell_basis &lt;dbl&gt; | profit_loss &lt;dbl&gt; | sold_cf_quan &lt;int&gt; | sold_cf_pps &lt;dbl&gt; | sold_cf_basis &lt;dbl&gt; | true_false &lt;lgl&gt; |\n",
       "|---|---|---|---|---|---|---|---|---|---|---|---|---|---|---|---|---|---|---|---|---|---|\n",
       "| 1 | 1 | 2022-12-31 | Buy | AMC |  100 | 4.070 | 4273.5 | 0 | FALSE | 0 | ⋯ | 0 | 0 | 0 | 0 | 0 | 0 | 0 | 0 | 0 | FALSE |\n",
       "| 3 | 3 | 2023-01-20 | Buy | AMC | 1000 | 5.625 | 5625.0 | 0 | FALSE | 0 | ⋯ | 0 | 0 | 0 | 0 | 0 | 0 | 0 | 0 | 0 | FALSE |\n",
       "\n"
      ],
      "text/plain": [
       "  index date       type co  quan pps   basis  sale_quan flag  buy_cf_quan ⋯\n",
       "1 1     2022-12-31 Buy  AMC  100 4.070 4273.5 0         FALSE 0           ⋯\n",
       "3 3     2023-01-20 Buy  AMC 1000 5.625 5625.0 0         FALSE 0           ⋯\n",
       "  buy_pps buy_basis sell_quan sell_pps sell_basis profit_loss sold_cf_quan\n",
       "1 0       0         0         0        0          0           0           \n",
       "3 0       0         0         0        0          0           0           \n",
       "  sold_cf_pps sold_cf_basis true_false\n",
       "1 0           0             FALSE     \n",
       "3 0           0             FALSE     "
      ]
     },
     "metadata": {},
     "output_type": "display_data"
    },
    {
     "data": {
      "text/html": [
       "<table class=\"dataframe\">\n",
       "<caption>A data.frame: 2 × 23</caption>\n",
       "<thead>\n",
       "\t<tr><th></th><th scope=col>index</th><th scope=col>date</th><th scope=col>type</th><th scope=col>co</th><th scope=col>quan</th><th scope=col>pps</th><th scope=col>basis</th><th scope=col>sale_quan</th><th scope=col>flag</th><th scope=col>buy_cf_quan</th><th scope=col>⋯</th><th scope=col>buy_pps</th><th scope=col>buy_basis</th><th scope=col>sell_quan</th><th scope=col>sell_pps</th><th scope=col>sell_basis</th><th scope=col>profit_loss</th><th scope=col>sold_cf_quan</th><th scope=col>sold_cf_pps</th><th scope=col>sold_cf_basis</th><th scope=col>true_false</th></tr>\n",
       "\t<tr><th></th><th scope=col>&lt;int&gt;</th><th scope=col>&lt;date&gt;</th><th scope=col>&lt;chr&gt;</th><th scope=col>&lt;chr&gt;</th><th scope=col>&lt;int&gt;</th><th scope=col>&lt;dbl&gt;</th><th scope=col>&lt;dbl&gt;</th><th scope=col>&lt;dbl&gt;</th><th scope=col>&lt;lgl&gt;</th><th scope=col>&lt;dbl&gt;</th><th scope=col>⋯</th><th scope=col>&lt;dbl&gt;</th><th scope=col>&lt;dbl&gt;</th><th scope=col>&lt;dbl&gt;</th><th scope=col>&lt;dbl&gt;</th><th scope=col>&lt;dbl&gt;</th><th scope=col>&lt;dbl&gt;</th><th scope=col>&lt;dbl&gt;</th><th scope=col>&lt;dbl&gt;</th><th scope=col>&lt;dbl&gt;</th><th scope=col>&lt;dbl&gt;</th></tr>\n",
       "</thead>\n",
       "<tbody>\n",
       "\t<tr><th scope=row>1</th><td>1</td><td>2022-12-31</td><td>Sell CF</td><td>c/f</td><td> 900</td><td>5.5124</td><td>4961.16</td><td>0</td><td>FALSE</td><td>0</td><td>⋯</td><td>0</td><td>0</td><td>0</td><td>0</td><td>0</td><td>0</td><td>0</td><td>0</td><td>0</td><td>0</td></tr>\n",
       "\t<tr><th scope=row>2</th><td>2</td><td>2023-01-27</td><td>Sell   </td><td>AMC</td><td>1000</td><td>5.5124</td><td>5512.40</td><td>0</td><td>FALSE</td><td>0</td><td>⋯</td><td>0</td><td>0</td><td>0</td><td>0</td><td>0</td><td>0</td><td>0</td><td>0</td><td>0</td><td>0</td></tr>\n",
       "</tbody>\n",
       "</table>\n"
      ],
      "text/latex": [
       "A data.frame: 2 × 23\n",
       "\\begin{tabular}{r|lllllllllllllllllllll}\n",
       "  & index & date & type & co & quan & pps & basis & sale\\_quan & flag & buy\\_cf\\_quan & ⋯ & buy\\_pps & buy\\_basis & sell\\_quan & sell\\_pps & sell\\_basis & profit\\_loss & sold\\_cf\\_quan & sold\\_cf\\_pps & sold\\_cf\\_basis & true\\_false\\\\\n",
       "  & <int> & <date> & <chr> & <chr> & <int> & <dbl> & <dbl> & <dbl> & <lgl> & <dbl> & ⋯ & <dbl> & <dbl> & <dbl> & <dbl> & <dbl> & <dbl> & <dbl> & <dbl> & <dbl> & <dbl>\\\\\n",
       "\\hline\n",
       "\t1 & 1 & 2022-12-31 & Sell CF & c/f &  900 & 5.5124 & 4961.16 & 0 & FALSE & 0 & ⋯ & 0 & 0 & 0 & 0 & 0 & 0 & 0 & 0 & 0 & 0\\\\\n",
       "\t2 & 2 & 2023-01-27 & Sell    & AMC & 1000 & 5.5124 & 5512.40 & 0 & FALSE & 0 & ⋯ & 0 & 0 & 0 & 0 & 0 & 0 & 0 & 0 & 0 & 0\\\\\n",
       "\\end{tabular}\n"
      ],
      "text/markdown": [
       "\n",
       "A data.frame: 2 × 23\n",
       "\n",
       "| <!--/--> | index &lt;int&gt; | date &lt;date&gt; | type &lt;chr&gt; | co &lt;chr&gt; | quan &lt;int&gt; | pps &lt;dbl&gt; | basis &lt;dbl&gt; | sale_quan &lt;dbl&gt; | flag &lt;lgl&gt; | buy_cf_quan &lt;dbl&gt; | ⋯ ⋯ | buy_pps &lt;dbl&gt; | buy_basis &lt;dbl&gt; | sell_quan &lt;dbl&gt; | sell_pps &lt;dbl&gt; | sell_basis &lt;dbl&gt; | profit_loss &lt;dbl&gt; | sold_cf_quan &lt;dbl&gt; | sold_cf_pps &lt;dbl&gt; | sold_cf_basis &lt;dbl&gt; | true_false &lt;dbl&gt; |\n",
       "|---|---|---|---|---|---|---|---|---|---|---|---|---|---|---|---|---|---|---|---|---|---|\n",
       "| 1 | 1 | 2022-12-31 | Sell CF | c/f |  900 | 5.5124 | 4961.16 | 0 | FALSE | 0 | ⋯ | 0 | 0 | 0 | 0 | 0 | 0 | 0 | 0 | 0 | 0 |\n",
       "| 2 | 2 | 2023-01-27 | Sell    | AMC | 1000 | 5.5124 | 5512.40 | 0 | FALSE | 0 | ⋯ | 0 | 0 | 0 | 0 | 0 | 0 | 0 | 0 | 0 | 0 |\n",
       "\n"
      ],
      "text/plain": [
       "  index date       type    co  quan pps    basis   sale_quan flag  buy_cf_quan\n",
       "1 1     2022-12-31 Sell CF c/f  900 5.5124 4961.16 0         FALSE 0          \n",
       "2 2     2023-01-27 Sell    AMC 1000 5.5124 5512.40 0         FALSE 0          \n",
       "  ⋯ buy_pps buy_basis sell_quan sell_pps sell_basis profit_loss sold_cf_quan\n",
       "1 ⋯ 0       0         0         0        0          0           0           \n",
       "2 ⋯ 0       0         0         0        0          0           0           \n",
       "  sold_cf_pps sold_cf_basis true_false\n",
       "1 0           0             0         \n",
       "2 0           0             0         "
      ]
     },
     "metadata": {},
     "output_type": "display_data"
    }
   ],
   "source": [
    "buys[1:2,]\n",
    "sells[1:2,]"
   ]
  },
  {
   "cell_type": "code",
   "execution_count": null,
   "id": "22c08f90-8fd4-4aa8-ae33-ab4b62916a46",
   "metadata": {},
   "outputs": [],
   "source": []
  },
  {
   "cell_type": "code",
   "execution_count": 29,
   "id": "7d330d3b-59bf-4c2e-8ea5-dc00679a8f91",
   "metadata": {},
   "outputs": [
    {
     "data": {
      "text/html": [
       "<style>\n",
       ".list-inline {list-style: none; margin:0; padding: 0}\n",
       ".list-inline>li {display: inline-block}\n",
       ".list-inline>li:not(:last-child)::after {content: \"\\00b7\"; padding: 0 .5ex}\n",
       "</style>\n",
       "<ol class=list-inline><li>-3.4</li><li>0.3</li></ol>\n"
      ],
      "text/latex": [
       "\\begin{enumerate*}\n",
       "\\item -3.4\n",
       "\\item 0.3\n",
       "\\end{enumerate*}\n"
      ],
      "text/markdown": [
       "1. -3.4\n",
       "2. 0.3\n",
       "\n",
       "\n"
      ],
      "text/plain": [
       "[1] -3.4  0.3"
      ]
     },
     "metadata": {},
     "output_type": "display_data"
    },
    {
     "name": "stdout",
     "output_type": "stream",
     "text": [
      "x contains negative values\n"
     ]
    }
   ],
   "source": [
    "range(x <- sort(round(stats::rnorm(10) - 1.2, 1)))\n",
    "\n",
    "if(any(x < 0)) cat(\"x contains negative values\\n\")"
   ]
  },
  {
   "cell_type": "code",
   "execution_count": 30,
   "id": "b98a24ae-cee2-47ff-92fd-b090bc365061",
   "metadata": {},
   "outputs": [
    {
     "name": "stdout",
     "output_type": "stream",
     "text": [
      "buys contains cf \n"
     ]
    }
   ],
   "source": [
    "if(any(buys[1,] == TRUE)) cat(\"buys contains cf \\n\")"
   ]
  },
  {
   "cell_type": "code",
   "execution_count": 31,
   "id": "2cd100b4-2658-47f7-9885-d26efb7df202",
   "metadata": {},
   "outputs": [
    {
     "data": {
      "text/html": [
       "<table class=\"dataframe\">\n",
       "<caption>A data.frame: 1 × 23</caption>\n",
       "<thead>\n",
       "\t<tr><th></th><th scope=col>index</th><th scope=col>date</th><th scope=col>type</th><th scope=col>co</th><th scope=col>quan</th><th scope=col>pps</th><th scope=col>basis</th><th scope=col>sale_quan</th><th scope=col>flag</th><th scope=col>buy_cf_quan</th><th scope=col>⋯</th><th scope=col>buy_pps</th><th scope=col>buy_basis</th><th scope=col>sell_quan</th><th scope=col>sell_pps</th><th scope=col>sell_basis</th><th scope=col>profit_loss</th><th scope=col>sold_cf_quan</th><th scope=col>sold_cf_pps</th><th scope=col>sold_cf_basis</th><th scope=col>true_false</th></tr>\n",
       "\t<tr><th></th><th scope=col>&lt;int&gt;</th><th scope=col>&lt;date&gt;</th><th scope=col>&lt;chr&gt;</th><th scope=col>&lt;chr&gt;</th><th scope=col>&lt;int&gt;</th><th scope=col>&lt;dbl&gt;</th><th scope=col>&lt;dbl&gt;</th><th scope=col>&lt;int&gt;</th><th scope=col>&lt;lgl&gt;</th><th scope=col>&lt;int&gt;</th><th scope=col>⋯</th><th scope=col>&lt;dbl&gt;</th><th scope=col>&lt;dbl&gt;</th><th scope=col>&lt;int&gt;</th><th scope=col>&lt;dbl&gt;</th><th scope=col>&lt;dbl&gt;</th><th scope=col>&lt;dbl&gt;</th><th scope=col>&lt;int&gt;</th><th scope=col>&lt;dbl&gt;</th><th scope=col>&lt;dbl&gt;</th><th scope=col>&lt;lgl&gt;</th></tr>\n",
       "</thead>\n",
       "<tbody>\n",
       "\t<tr><th scope=row>1</th><td>1</td><td>2022-12-31</td><td>Buy</td><td>AMC</td><td>100</td><td>4.07</td><td>4273.5</td><td>0</td><td>FALSE</td><td>0</td><td>⋯</td><td>0</td><td>0</td><td>0</td><td>0</td><td>0</td><td>0</td><td>0</td><td>0</td><td>0</td><td>FALSE</td></tr>\n",
       "</tbody>\n",
       "</table>\n"
      ],
      "text/latex": [
       "A data.frame: 1 × 23\n",
       "\\begin{tabular}{r|lllllllllllllllllllll}\n",
       "  & index & date & type & co & quan & pps & basis & sale\\_quan & flag & buy\\_cf\\_quan & ⋯ & buy\\_pps & buy\\_basis & sell\\_quan & sell\\_pps & sell\\_basis & profit\\_loss & sold\\_cf\\_quan & sold\\_cf\\_pps & sold\\_cf\\_basis & true\\_false\\\\\n",
       "  & <int> & <date> & <chr> & <chr> & <int> & <dbl> & <dbl> & <int> & <lgl> & <int> & ⋯ & <dbl> & <dbl> & <int> & <dbl> & <dbl> & <dbl> & <int> & <dbl> & <dbl> & <lgl>\\\\\n",
       "\\hline\n",
       "\t1 & 1 & 2022-12-31 & Buy & AMC & 100 & 4.07 & 4273.5 & 0 & FALSE & 0 & ⋯ & 0 & 0 & 0 & 0 & 0 & 0 & 0 & 0 & 0 & FALSE\\\\\n",
       "\\end{tabular}\n"
      ],
      "text/markdown": [
       "\n",
       "A data.frame: 1 × 23\n",
       "\n",
       "| <!--/--> | index &lt;int&gt; | date &lt;date&gt; | type &lt;chr&gt; | co &lt;chr&gt; | quan &lt;int&gt; | pps &lt;dbl&gt; | basis &lt;dbl&gt; | sale_quan &lt;int&gt; | flag &lt;lgl&gt; | buy_cf_quan &lt;int&gt; | ⋯ ⋯ | buy_pps &lt;dbl&gt; | buy_basis &lt;dbl&gt; | sell_quan &lt;int&gt; | sell_pps &lt;dbl&gt; | sell_basis &lt;dbl&gt; | profit_loss &lt;dbl&gt; | sold_cf_quan &lt;int&gt; | sold_cf_pps &lt;dbl&gt; | sold_cf_basis &lt;dbl&gt; | true_false &lt;lgl&gt; |\n",
       "|---|---|---|---|---|---|---|---|---|---|---|---|---|---|---|---|---|---|---|---|---|---|\n",
       "| 1 | 1 | 2022-12-31 | Buy | AMC | 100 | 4.07 | 4273.5 | 0 | FALSE | 0 | ⋯ | 0 | 0 | 0 | 0 | 0 | 0 | 0 | 0 | 0 | FALSE |\n",
       "\n"
      ],
      "text/plain": [
       "  index date       type co  quan pps  basis  sale_quan flag  buy_cf_quan ⋯\n",
       "1 1     2022-12-31 Buy  AMC 100  4.07 4273.5 0         FALSE 0           ⋯\n",
       "  buy_pps buy_basis sell_quan sell_pps sell_basis profit_loss sold_cf_quan\n",
       "1 0       0         0         0        0          0           0           \n",
       "  sold_cf_pps sold_cf_basis true_false\n",
       "1 0           0             FALSE     "
      ]
     },
     "metadata": {},
     "output_type": "display_data"
    },
    {
     "data": {
      "text/html": [
       "<table class=\"dataframe\">\n",
       "<caption>A data.frame: 1 × 23</caption>\n",
       "<thead>\n",
       "\t<tr><th></th><th scope=col>index</th><th scope=col>date</th><th scope=col>type</th><th scope=col>co</th><th scope=col>quan</th><th scope=col>pps</th><th scope=col>basis</th><th scope=col>sale_quan</th><th scope=col>flag</th><th scope=col>buy_cf_quan</th><th scope=col>⋯</th><th scope=col>buy_pps</th><th scope=col>buy_basis</th><th scope=col>sell_quan</th><th scope=col>sell_pps</th><th scope=col>sell_basis</th><th scope=col>profit_loss</th><th scope=col>sold_cf_quan</th><th scope=col>sold_cf_pps</th><th scope=col>sold_cf_basis</th><th scope=col>true_false</th></tr>\n",
       "\t<tr><th></th><th scope=col>&lt;int&gt;</th><th scope=col>&lt;date&gt;</th><th scope=col>&lt;chr&gt;</th><th scope=col>&lt;chr&gt;</th><th scope=col>&lt;int&gt;</th><th scope=col>&lt;dbl&gt;</th><th scope=col>&lt;dbl&gt;</th><th scope=col>&lt;dbl&gt;</th><th scope=col>&lt;lgl&gt;</th><th scope=col>&lt;dbl&gt;</th><th scope=col>⋯</th><th scope=col>&lt;dbl&gt;</th><th scope=col>&lt;dbl&gt;</th><th scope=col>&lt;dbl&gt;</th><th scope=col>&lt;dbl&gt;</th><th scope=col>&lt;dbl&gt;</th><th scope=col>&lt;dbl&gt;</th><th scope=col>&lt;dbl&gt;</th><th scope=col>&lt;dbl&gt;</th><th scope=col>&lt;dbl&gt;</th><th scope=col>&lt;dbl&gt;</th></tr>\n",
       "</thead>\n",
       "<tbody>\n",
       "\t<tr><th scope=row>1</th><td>1</td><td>2022-12-31</td><td>Sell CF</td><td>c/f</td><td>900</td><td>5.5124</td><td>4961.16</td><td>0</td><td>FALSE</td><td>0</td><td>⋯</td><td>0</td><td>0</td><td>0</td><td>0</td><td>0</td><td>0</td><td>0</td><td>0</td><td>0</td><td>0</td></tr>\n",
       "</tbody>\n",
       "</table>\n"
      ],
      "text/latex": [
       "A data.frame: 1 × 23\n",
       "\\begin{tabular}{r|lllllllllllllllllllll}\n",
       "  & index & date & type & co & quan & pps & basis & sale\\_quan & flag & buy\\_cf\\_quan & ⋯ & buy\\_pps & buy\\_basis & sell\\_quan & sell\\_pps & sell\\_basis & profit\\_loss & sold\\_cf\\_quan & sold\\_cf\\_pps & sold\\_cf\\_basis & true\\_false\\\\\n",
       "  & <int> & <date> & <chr> & <chr> & <int> & <dbl> & <dbl> & <dbl> & <lgl> & <dbl> & ⋯ & <dbl> & <dbl> & <dbl> & <dbl> & <dbl> & <dbl> & <dbl> & <dbl> & <dbl> & <dbl>\\\\\n",
       "\\hline\n",
       "\t1 & 1 & 2022-12-31 & Sell CF & c/f & 900 & 5.5124 & 4961.16 & 0 & FALSE & 0 & ⋯ & 0 & 0 & 0 & 0 & 0 & 0 & 0 & 0 & 0 & 0\\\\\n",
       "\\end{tabular}\n"
      ],
      "text/markdown": [
       "\n",
       "A data.frame: 1 × 23\n",
       "\n",
       "| <!--/--> | index &lt;int&gt; | date &lt;date&gt; | type &lt;chr&gt; | co &lt;chr&gt; | quan &lt;int&gt; | pps &lt;dbl&gt; | basis &lt;dbl&gt; | sale_quan &lt;dbl&gt; | flag &lt;lgl&gt; | buy_cf_quan &lt;dbl&gt; | ⋯ ⋯ | buy_pps &lt;dbl&gt; | buy_basis &lt;dbl&gt; | sell_quan &lt;dbl&gt; | sell_pps &lt;dbl&gt; | sell_basis &lt;dbl&gt; | profit_loss &lt;dbl&gt; | sold_cf_quan &lt;dbl&gt; | sold_cf_pps &lt;dbl&gt; | sold_cf_basis &lt;dbl&gt; | true_false &lt;dbl&gt; |\n",
       "|---|---|---|---|---|---|---|---|---|---|---|---|---|---|---|---|---|---|---|---|---|---|\n",
       "| 1 | 1 | 2022-12-31 | Sell CF | c/f | 900 | 5.5124 | 4961.16 | 0 | FALSE | 0 | ⋯ | 0 | 0 | 0 | 0 | 0 | 0 | 0 | 0 | 0 | 0 |\n",
       "\n"
      ],
      "text/plain": [
       "  index date       type    co  quan pps    basis   sale_quan flag  buy_cf_quan\n",
       "1 1     2022-12-31 Sell CF c/f 900  5.5124 4961.16 0         FALSE 0          \n",
       "  ⋯ buy_pps buy_basis sell_quan sell_pps sell_basis profit_loss sold_cf_quan\n",
       "1 ⋯ 0       0         0         0        0          0           0           \n",
       "  sold_cf_pps sold_cf_basis true_false\n",
       "1 0           0             0         "
      ]
     },
     "metadata": {},
     "output_type": "display_data"
    },
    {
     "data": {
      "text/html": [
       "<style>\n",
       ".list-inline {list-style: none; margin:0; padding: 0}\n",
       ".list-inline>li {display: inline-block}\n",
       ".list-inline>li:not(:last-child)::after {content: \"\\00b7\"; padding: 0 .5ex}\n",
       "</style>\n",
       "<ol class=list-inline><li>23</li><li>23</li></ol>\n"
      ],
      "text/latex": [
       "\\begin{enumerate*}\n",
       "\\item 23\n",
       "\\item 23\n",
       "\\end{enumerate*}\n"
      ],
      "text/markdown": [
       "1. 23\n",
       "2. 23\n",
       "\n",
       "\n"
      ],
      "text/plain": [
       "[1] 23 23"
      ]
     },
     "metadata": {},
     "output_type": "display_data"
    },
    {
     "data": {
      "text/html": [
       "<style>\n",
       ".list-inline {list-style: none; margin:0; padding: 0}\n",
       ".list-inline>li {display: inline-block}\n",
       ".list-inline>li:not(:last-child)::after {content: \"\\00b7\"; padding: 0 .5ex}\n",
       "</style>\n",
       "<ol class=list-inline><li>19</li><li>23</li></ol>\n"
      ],
      "text/latex": [
       "\\begin{enumerate*}\n",
       "\\item 19\n",
       "\\item 23\n",
       "\\end{enumerate*}\n"
      ],
      "text/markdown": [
       "1. 19\n",
       "2. 23\n",
       "\n",
       "\n"
      ],
      "text/plain": [
       "[1] 19 23"
      ]
     },
     "metadata": {},
     "output_type": "display_data"
    }
   ],
   "source": [
    "\n",
    "buys[1,]\n",
    "sells[1,]\n",
    "dim(buys)\n",
    "dim(sells)"
   ]
  },
  {
   "cell_type": "code",
   "execution_count": 32,
   "id": "27ad0b29-d123-4b96-88e5-a88250809a6c",
   "metadata": {},
   "outputs": [
    {
     "name": "stdout",
     "output_type": "stream",
     "text": [
      "buys$type[1] is  Buy \n"
     ]
    },
    {
     "data": {
      "text/html": [
       "'Sell CF'"
      ],
      "text/latex": [
       "'Sell CF'"
      ],
      "text/markdown": [
       "'Sell CF'"
      ],
      "text/plain": [
       "[1] \"Sell CF\""
      ]
     },
     "metadata": {},
     "output_type": "display_data"
    }
   ],
   "source": [
    "cat(\"buys$type[1] is \", buys$type[1], \"\\n\")\n",
    "sells$type[1]"
   ]
  },
  {
   "cell_type": "code",
   "execution_count": null,
   "id": "47aa4f20-81d0-4038-b00d-07ed2184671a",
   "metadata": {},
   "outputs": [],
   "source": []
  },
  {
   "cell_type": "code",
   "execution_count": 33,
   "id": "856f2e15-794f-4d44-90a6-3b07b035786b",
   "metadata": {},
   "outputs": [
    {
     "name": "stdout",
     "output_type": "stream",
     "text": [
      "sells contains carryforward .. Replace sells and DO snip buys \n"
     ]
    },
    {
     "data": {
      "text/html": [
       "<style>\n",
       ".list-inline {list-style: none; margin:0; padding: 0}\n",
       ".list-inline>li {display: inline-block}\n",
       ".list-inline>li:not(:last-child)::after {content: \"\\00b7\"; padding: 0 .5ex}\n",
       "</style>\n",
       "<ol class=list-inline><li>22</li><li>23</li></ol>\n"
      ],
      "text/latex": [
       "\\begin{enumerate*}\n",
       "\\item 22\n",
       "\\item 23\n",
       "\\end{enumerate*}\n"
      ],
      "text/markdown": [
       "1. 22\n",
       "2. 23\n",
       "\n",
       "\n"
      ],
      "text/plain": [
       "[1] 22 23"
      ]
     },
     "metadata": {},
     "output_type": "display_data"
    },
    {
     "data": {
      "text/html": [
       "<style>\n",
       ".list-inline {list-style: none; margin:0; padding: 0}\n",
       ".list-inline>li {display: inline-block}\n",
       ".list-inline>li:not(:last-child)::after {content: \"\\00b7\"; padding: 0 .5ex}\n",
       "</style>\n",
       "<ol class=list-inline><li>18</li><li>23</li></ol>\n"
      ],
      "text/latex": [
       "\\begin{enumerate*}\n",
       "\\item 18\n",
       "\\item 23\n",
       "\\end{enumerate*}\n"
      ],
      "text/markdown": [
       "1. 18\n",
       "2. 23\n",
       "\n",
       "\n"
      ],
      "text/plain": [
       "[1] 18 23"
      ]
     },
     "metadata": {},
     "output_type": "display_data"
    }
   ],
   "source": [
    "#  save_sell_one <- data.frame()   #  keep for c/f >> Sell[1, ]\n",
    "copy_snip <- function (buys, sells) {\n",
    "   \n",
    "    # parameters - rep the input vars (arguments)  ... may be extraneous\n",
    "    b1 <- buys [1, ]\n",
    "    s1 <- sells [1, ]\n",
    "    \n",
    "   \n",
    "    # snip .... if \n",
    "# if(any(buys$type[1] == \"Buy CF\") ||  any(sells$type[1] == TRUE))  {         \n",
    "    if(buys$type[1] == \"Buy CF\")   {         \n",
    "        cat(\"buys contains carryforward - Replace buys and DO snip sells \\n\") \n",
    "        \n",
    "         buys <- buys[-2, ]\n",
    "        # buys <-  buys %>% add_row(b1, .before = 1)\n",
    "        sells <- sells[-1,]       \n",
    "        return(list(b1, s1, buys, sells))    \n",
    "    } else if (sells$type[1] == \"Sell CF\") {\n",
    "        cat(\"sells contains carryforward .. Replace sells and DO snip buys \\n\") \n",
    "        sells <- sells[-2,]\n",
    "        buys <- buys[-1,]\n",
    "        return(list(b1, s1, buys, sells))    \n",
    "    } else {\n",
    "        cat(\"There is no carryforward in buys or sells, DO snip buys and Do snip sells \\n\")\n",
    "        buys <- buys[-1,]\n",
    "        sells <- sells[-1,]\n",
    "        return(list(b1, s1, buys, sells))    \n",
    "    }\n",
    "}    \n",
    "   \n",
    "\n",
    "# fct call passing 2 arguments\n",
    "copy_snip_list <- copy_snip(buys, sells) \n",
    "\n",
    "b1 <- copy_snip_list[[1]]\n",
    "s1 <- copy_snip_list[[2]]\n",
    "buys <- copy_snip_list[[3]]\n",
    "sells <- copy_snip_list[[4]]\n",
    "\n",
    "# after\n",
    "dim(buys)\n",
    "dim(sells)\n",
    "# b1\n",
    "# s1"
   ]
  },
  {
   "cell_type": "code",
   "execution_count": null,
   "id": "b3a7cf65-c94f-42a5-9c68-76d369008b34",
   "metadata": {},
   "outputs": [],
   "source": []
  },
  {
   "cell_type": "code",
   "execution_count": 34,
   "id": "e065d636-acbc-43d3-9077-d0210d5620c1",
   "metadata": {},
   "outputs": [
    {
     "data": {
      "text/html": [
       "<table class=\"dataframe\">\n",
       "<caption>A data.frame: 1 × 23</caption>\n",
       "<thead>\n",
       "\t<tr><th></th><th scope=col>index</th><th scope=col>date</th><th scope=col>type</th><th scope=col>co</th><th scope=col>quan</th><th scope=col>pps</th><th scope=col>basis</th><th scope=col>sale_quan</th><th scope=col>flag</th><th scope=col>buy_cf_quan</th><th scope=col>⋯</th><th scope=col>buy_pps</th><th scope=col>buy_basis</th><th scope=col>sell_quan</th><th scope=col>sell_pps</th><th scope=col>sell_basis</th><th scope=col>profit_loss</th><th scope=col>sold_cf_quan</th><th scope=col>sold_cf_pps</th><th scope=col>sold_cf_basis</th><th scope=col>true_false</th></tr>\n",
       "\t<tr><th></th><th scope=col>&lt;int&gt;</th><th scope=col>&lt;date&gt;</th><th scope=col>&lt;chr&gt;</th><th scope=col>&lt;chr&gt;</th><th scope=col>&lt;int&gt;</th><th scope=col>&lt;dbl&gt;</th><th scope=col>&lt;dbl&gt;</th><th scope=col>&lt;int&gt;</th><th scope=col>&lt;lgl&gt;</th><th scope=col>&lt;int&gt;</th><th scope=col>⋯</th><th scope=col>&lt;dbl&gt;</th><th scope=col>&lt;dbl&gt;</th><th scope=col>&lt;int&gt;</th><th scope=col>&lt;dbl&gt;</th><th scope=col>&lt;dbl&gt;</th><th scope=col>&lt;dbl&gt;</th><th scope=col>&lt;int&gt;</th><th scope=col>&lt;dbl&gt;</th><th scope=col>&lt;dbl&gt;</th><th scope=col>&lt;lgl&gt;</th></tr>\n",
       "</thead>\n",
       "<tbody>\n",
       "\t<tr><th scope=row>3</th><td>3</td><td>2023-01-20</td><td>Buy</td><td>AMC</td><td>1000</td><td>5.625</td><td>5625</td><td>0</td><td>FALSE</td><td>0</td><td>⋯</td><td>0</td><td>0</td><td>0</td><td>0</td><td>0</td><td>0</td><td>0</td><td>0</td><td>0</td><td>FALSE</td></tr>\n",
       "</tbody>\n",
       "</table>\n"
      ],
      "text/latex": [
       "A data.frame: 1 × 23\n",
       "\\begin{tabular}{r|lllllllllllllllllllll}\n",
       "  & index & date & type & co & quan & pps & basis & sale\\_quan & flag & buy\\_cf\\_quan & ⋯ & buy\\_pps & buy\\_basis & sell\\_quan & sell\\_pps & sell\\_basis & profit\\_loss & sold\\_cf\\_quan & sold\\_cf\\_pps & sold\\_cf\\_basis & true\\_false\\\\\n",
       "  & <int> & <date> & <chr> & <chr> & <int> & <dbl> & <dbl> & <int> & <lgl> & <int> & ⋯ & <dbl> & <dbl> & <int> & <dbl> & <dbl> & <dbl> & <int> & <dbl> & <dbl> & <lgl>\\\\\n",
       "\\hline\n",
       "\t3 & 3 & 2023-01-20 & Buy & AMC & 1000 & 5.625 & 5625 & 0 & FALSE & 0 & ⋯ & 0 & 0 & 0 & 0 & 0 & 0 & 0 & 0 & 0 & FALSE\\\\\n",
       "\\end{tabular}\n"
      ],
      "text/markdown": [
       "\n",
       "A data.frame: 1 × 23\n",
       "\n",
       "| <!--/--> | index &lt;int&gt; | date &lt;date&gt; | type &lt;chr&gt; | co &lt;chr&gt; | quan &lt;int&gt; | pps &lt;dbl&gt; | basis &lt;dbl&gt; | sale_quan &lt;int&gt; | flag &lt;lgl&gt; | buy_cf_quan &lt;int&gt; | ⋯ ⋯ | buy_pps &lt;dbl&gt; | buy_basis &lt;dbl&gt; | sell_quan &lt;int&gt; | sell_pps &lt;dbl&gt; | sell_basis &lt;dbl&gt; | profit_loss &lt;dbl&gt; | sold_cf_quan &lt;int&gt; | sold_cf_pps &lt;dbl&gt; | sold_cf_basis &lt;dbl&gt; | true_false &lt;lgl&gt; |\n",
       "|---|---|---|---|---|---|---|---|---|---|---|---|---|---|---|---|---|---|---|---|---|---|\n",
       "| 3 | 3 | 2023-01-20 | Buy | AMC | 1000 | 5.625 | 5625 | 0 | FALSE | 0 | ⋯ | 0 | 0 | 0 | 0 | 0 | 0 | 0 | 0 | 0 | FALSE |\n",
       "\n"
      ],
      "text/plain": [
       "  index date       type co  quan pps   basis sale_quan flag  buy_cf_quan ⋯\n",
       "3 3     2023-01-20 Buy  AMC 1000 5.625 5625  0         FALSE 0           ⋯\n",
       "  buy_pps buy_basis sell_quan sell_pps sell_basis profit_loss sold_cf_quan\n",
       "3 0       0         0         0        0          0           0           \n",
       "  sold_cf_pps sold_cf_basis true_false\n",
       "3 0           0             FALSE     "
      ]
     },
     "metadata": {},
     "output_type": "display_data"
    },
    {
     "data": {
      "text/html": [
       "<table class=\"dataframe\">\n",
       "<caption>A data.frame: 1 × 23</caption>\n",
       "<thead>\n",
       "\t<tr><th></th><th scope=col>index</th><th scope=col>date</th><th scope=col>type</th><th scope=col>co</th><th scope=col>quan</th><th scope=col>pps</th><th scope=col>basis</th><th scope=col>sale_quan</th><th scope=col>flag</th><th scope=col>buy_cf_quan</th><th scope=col>⋯</th><th scope=col>buy_pps</th><th scope=col>buy_basis</th><th scope=col>sell_quan</th><th scope=col>sell_pps</th><th scope=col>sell_basis</th><th scope=col>profit_loss</th><th scope=col>sold_cf_quan</th><th scope=col>sold_cf_pps</th><th scope=col>sold_cf_basis</th><th scope=col>true_false</th></tr>\n",
       "\t<tr><th></th><th scope=col>&lt;int&gt;</th><th scope=col>&lt;date&gt;</th><th scope=col>&lt;chr&gt;</th><th scope=col>&lt;chr&gt;</th><th scope=col>&lt;int&gt;</th><th scope=col>&lt;dbl&gt;</th><th scope=col>&lt;dbl&gt;</th><th scope=col>&lt;dbl&gt;</th><th scope=col>&lt;lgl&gt;</th><th scope=col>&lt;dbl&gt;</th><th scope=col>⋯</th><th scope=col>&lt;dbl&gt;</th><th scope=col>&lt;dbl&gt;</th><th scope=col>&lt;dbl&gt;</th><th scope=col>&lt;dbl&gt;</th><th scope=col>&lt;dbl&gt;</th><th scope=col>&lt;dbl&gt;</th><th scope=col>&lt;dbl&gt;</th><th scope=col>&lt;dbl&gt;</th><th scope=col>&lt;dbl&gt;</th><th scope=col>&lt;dbl&gt;</th></tr>\n",
       "</thead>\n",
       "<tbody>\n",
       "\t<tr><th scope=row>1</th><td>1</td><td>2022-12-31</td><td>Sell CF</td><td>c/f</td><td>900</td><td>5.5124</td><td>4961.16</td><td>0</td><td>FALSE</td><td>0</td><td>⋯</td><td>0</td><td>0</td><td>0</td><td>0</td><td>0</td><td>0</td><td>0</td><td>0</td><td>0</td><td>0</td></tr>\n",
       "</tbody>\n",
       "</table>\n"
      ],
      "text/latex": [
       "A data.frame: 1 × 23\n",
       "\\begin{tabular}{r|lllllllllllllllllllll}\n",
       "  & index & date & type & co & quan & pps & basis & sale\\_quan & flag & buy\\_cf\\_quan & ⋯ & buy\\_pps & buy\\_basis & sell\\_quan & sell\\_pps & sell\\_basis & profit\\_loss & sold\\_cf\\_quan & sold\\_cf\\_pps & sold\\_cf\\_basis & true\\_false\\\\\n",
       "  & <int> & <date> & <chr> & <chr> & <int> & <dbl> & <dbl> & <dbl> & <lgl> & <dbl> & ⋯ & <dbl> & <dbl> & <dbl> & <dbl> & <dbl> & <dbl> & <dbl> & <dbl> & <dbl> & <dbl>\\\\\n",
       "\\hline\n",
       "\t1 & 1 & 2022-12-31 & Sell CF & c/f & 900 & 5.5124 & 4961.16 & 0 & FALSE & 0 & ⋯ & 0 & 0 & 0 & 0 & 0 & 0 & 0 & 0 & 0 & 0\\\\\n",
       "\\end{tabular}\n"
      ],
      "text/markdown": [
       "\n",
       "A data.frame: 1 × 23\n",
       "\n",
       "| <!--/--> | index &lt;int&gt; | date &lt;date&gt; | type &lt;chr&gt; | co &lt;chr&gt; | quan &lt;int&gt; | pps &lt;dbl&gt; | basis &lt;dbl&gt; | sale_quan &lt;dbl&gt; | flag &lt;lgl&gt; | buy_cf_quan &lt;dbl&gt; | ⋯ ⋯ | buy_pps &lt;dbl&gt; | buy_basis &lt;dbl&gt; | sell_quan &lt;dbl&gt; | sell_pps &lt;dbl&gt; | sell_basis &lt;dbl&gt; | profit_loss &lt;dbl&gt; | sold_cf_quan &lt;dbl&gt; | sold_cf_pps &lt;dbl&gt; | sold_cf_basis &lt;dbl&gt; | true_false &lt;dbl&gt; |\n",
       "|---|---|---|---|---|---|---|---|---|---|---|---|---|---|---|---|---|---|---|---|---|---|\n",
       "| 1 | 1 | 2022-12-31 | Sell CF | c/f | 900 | 5.5124 | 4961.16 | 0 | FALSE | 0 | ⋯ | 0 | 0 | 0 | 0 | 0 | 0 | 0 | 0 | 0 | 0 |\n",
       "\n"
      ],
      "text/plain": [
       "  index date       type    co  quan pps    basis   sale_quan flag  buy_cf_quan\n",
       "1 1     2022-12-31 Sell CF c/f 900  5.5124 4961.16 0         FALSE 0          \n",
       "  ⋯ buy_pps buy_basis sell_quan sell_pps sell_basis profit_loss sold_cf_quan\n",
       "1 ⋯ 0       0         0         0        0          0           0           \n",
       "  sold_cf_pps sold_cf_basis true_false\n",
       "1 0           0             0         "
      ]
     },
     "metadata": {},
     "output_type": "display_data"
    }
   ],
   "source": [
    "buys[1,]\n",
    "sells[1,]"
   ]
  },
  {
   "cell_type": "code",
   "execution_count": null,
   "id": "440557ed-c013-47c4-8ae9-3d3e339cfc3e",
   "metadata": {},
   "outputs": [],
   "source": []
  },
  {
   "cell_type": "markdown",
   "id": "d3c3f312-f2ea-42ef-93cc-7b0b362417c6",
   "metadata": {},
   "source": [
    "#### <font color = lime> QC: Loop1 review buys-sells for updated carryforward\n",
    "    \n",
    "#### When c/f exists, that c/f (type) must be inserted into the next row of either buys or sells"
   ]
  },
  {
   "cell_type": "code",
   "execution_count": 35,
   "id": "6bc3881e-d099-4b5a-9834-d54fb03b48d9",
   "metadata": {},
   "outputs": [
    {
     "data": {
      "text/html": [
       "<table class=\"dataframe\">\n",
       "<caption>A data.frame: 3 × 23</caption>\n",
       "<thead>\n",
       "\t<tr><th></th><th scope=col>index</th><th scope=col>date</th><th scope=col>type</th><th scope=col>co</th><th scope=col>quan</th><th scope=col>pps</th><th scope=col>basis</th><th scope=col>sale_quan</th><th scope=col>flag</th><th scope=col>buy_cf_quan</th><th scope=col>⋯</th><th scope=col>buy_pps</th><th scope=col>buy_basis</th><th scope=col>sell_quan</th><th scope=col>sell_pps</th><th scope=col>sell_basis</th><th scope=col>profit_loss</th><th scope=col>sold_cf_quan</th><th scope=col>sold_cf_pps</th><th scope=col>sold_cf_basis</th><th scope=col>true_false</th></tr>\n",
       "\t<tr><th></th><th scope=col>&lt;int&gt;</th><th scope=col>&lt;date&gt;</th><th scope=col>&lt;chr&gt;</th><th scope=col>&lt;chr&gt;</th><th scope=col>&lt;int&gt;</th><th scope=col>&lt;dbl&gt;</th><th scope=col>&lt;dbl&gt;</th><th scope=col>&lt;int&gt;</th><th scope=col>&lt;lgl&gt;</th><th scope=col>&lt;int&gt;</th><th scope=col>⋯</th><th scope=col>&lt;dbl&gt;</th><th scope=col>&lt;dbl&gt;</th><th scope=col>&lt;int&gt;</th><th scope=col>&lt;dbl&gt;</th><th scope=col>&lt;dbl&gt;</th><th scope=col>&lt;dbl&gt;</th><th scope=col>&lt;int&gt;</th><th scope=col>&lt;dbl&gt;</th><th scope=col>&lt;dbl&gt;</th><th scope=col>&lt;lgl&gt;</th></tr>\n",
       "</thead>\n",
       "<tbody>\n",
       "\t<tr><th scope=row>3</th><td>3</td><td>2023-01-20</td><td>Buy</td><td>AMC</td><td>1000</td><td>5.6250</td><td> 5625.0</td><td>0</td><td>FALSE</td><td>0</td><td>⋯</td><td>0</td><td>0</td><td>0</td><td>0</td><td>0</td><td>0</td><td>0</td><td>0</td><td>0</td><td>FALSE</td></tr>\n",
       "\t<tr><th scope=row>5</th><td>5</td><td>2023-01-23</td><td>Buy</td><td>AMC</td><td>1000</td><td>5.7880</td><td> 5788.0</td><td>0</td><td>FALSE</td><td>0</td><td>⋯</td><td>0</td><td>0</td><td>0</td><td>0</td><td>0</td><td>0</td><td>0</td><td>0</td><td>0</td><td>FALSE</td></tr>\n",
       "\t<tr><th scope=row>7</th><td>7</td><td>2023-01-27</td><td>Buy</td><td>AMC</td><td>2000</td><td>5.2394</td><td>10478.8</td><td>0</td><td>FALSE</td><td>0</td><td>⋯</td><td>0</td><td>0</td><td>0</td><td>0</td><td>0</td><td>0</td><td>0</td><td>0</td><td>0</td><td>FALSE</td></tr>\n",
       "</tbody>\n",
       "</table>\n"
      ],
      "text/latex": [
       "A data.frame: 3 × 23\n",
       "\\begin{tabular}{r|lllllllllllllllllllll}\n",
       "  & index & date & type & co & quan & pps & basis & sale\\_quan & flag & buy\\_cf\\_quan & ⋯ & buy\\_pps & buy\\_basis & sell\\_quan & sell\\_pps & sell\\_basis & profit\\_loss & sold\\_cf\\_quan & sold\\_cf\\_pps & sold\\_cf\\_basis & true\\_false\\\\\n",
       "  & <int> & <date> & <chr> & <chr> & <int> & <dbl> & <dbl> & <int> & <lgl> & <int> & ⋯ & <dbl> & <dbl> & <int> & <dbl> & <dbl> & <dbl> & <int> & <dbl> & <dbl> & <lgl>\\\\\n",
       "\\hline\n",
       "\t3 & 3 & 2023-01-20 & Buy & AMC & 1000 & 5.6250 &  5625.0 & 0 & FALSE & 0 & ⋯ & 0 & 0 & 0 & 0 & 0 & 0 & 0 & 0 & 0 & FALSE\\\\\n",
       "\t5 & 5 & 2023-01-23 & Buy & AMC & 1000 & 5.7880 &  5788.0 & 0 & FALSE & 0 & ⋯ & 0 & 0 & 0 & 0 & 0 & 0 & 0 & 0 & 0 & FALSE\\\\\n",
       "\t7 & 7 & 2023-01-27 & Buy & AMC & 2000 & 5.2394 & 10478.8 & 0 & FALSE & 0 & ⋯ & 0 & 0 & 0 & 0 & 0 & 0 & 0 & 0 & 0 & FALSE\\\\\n",
       "\\end{tabular}\n"
      ],
      "text/markdown": [
       "\n",
       "A data.frame: 3 × 23\n",
       "\n",
       "| <!--/--> | index &lt;int&gt; | date &lt;date&gt; | type &lt;chr&gt; | co &lt;chr&gt; | quan &lt;int&gt; | pps &lt;dbl&gt; | basis &lt;dbl&gt; | sale_quan &lt;int&gt; | flag &lt;lgl&gt; | buy_cf_quan &lt;int&gt; | ⋯ ⋯ | buy_pps &lt;dbl&gt; | buy_basis &lt;dbl&gt; | sell_quan &lt;int&gt; | sell_pps &lt;dbl&gt; | sell_basis &lt;dbl&gt; | profit_loss &lt;dbl&gt; | sold_cf_quan &lt;int&gt; | sold_cf_pps &lt;dbl&gt; | sold_cf_basis &lt;dbl&gt; | true_false &lt;lgl&gt; |\n",
       "|---|---|---|---|---|---|---|---|---|---|---|---|---|---|---|---|---|---|---|---|---|---|\n",
       "| 3 | 3 | 2023-01-20 | Buy | AMC | 1000 | 5.6250 |  5625.0 | 0 | FALSE | 0 | ⋯ | 0 | 0 | 0 | 0 | 0 | 0 | 0 | 0 | 0 | FALSE |\n",
       "| 5 | 5 | 2023-01-23 | Buy | AMC | 1000 | 5.7880 |  5788.0 | 0 | FALSE | 0 | ⋯ | 0 | 0 | 0 | 0 | 0 | 0 | 0 | 0 | 0 | FALSE |\n",
       "| 7 | 7 | 2023-01-27 | Buy | AMC | 2000 | 5.2394 | 10478.8 | 0 | FALSE | 0 | ⋯ | 0 | 0 | 0 | 0 | 0 | 0 | 0 | 0 | 0 | FALSE |\n",
       "\n"
      ],
      "text/plain": [
       "  index date       type co  quan pps    basis   sale_quan flag  buy_cf_quan ⋯\n",
       "3 3     2023-01-20 Buy  AMC 1000 5.6250  5625.0 0         FALSE 0           ⋯\n",
       "5 5     2023-01-23 Buy  AMC 1000 5.7880  5788.0 0         FALSE 0           ⋯\n",
       "7 7     2023-01-27 Buy  AMC 2000 5.2394 10478.8 0         FALSE 0           ⋯\n",
       "  buy_pps buy_basis sell_quan sell_pps sell_basis profit_loss sold_cf_quan\n",
       "3 0       0         0         0        0          0           0           \n",
       "5 0       0         0         0        0          0           0           \n",
       "7 0       0         0         0        0          0           0           \n",
       "  sold_cf_pps sold_cf_basis true_false\n",
       "3 0           0             FALSE     \n",
       "5 0           0             FALSE     \n",
       "7 0           0             FALSE     "
      ]
     },
     "metadata": {},
     "output_type": "display_data"
    },
    {
     "data": {
      "text/html": [
       "<table class=\"dataframe\">\n",
       "<caption>A data.frame: 3 × 23</caption>\n",
       "<thead>\n",
       "\t<tr><th></th><th scope=col>index</th><th scope=col>date</th><th scope=col>type</th><th scope=col>co</th><th scope=col>quan</th><th scope=col>pps</th><th scope=col>basis</th><th scope=col>sale_quan</th><th scope=col>flag</th><th scope=col>buy_cf_quan</th><th scope=col>⋯</th><th scope=col>buy_pps</th><th scope=col>buy_basis</th><th scope=col>sell_quan</th><th scope=col>sell_pps</th><th scope=col>sell_basis</th><th scope=col>profit_loss</th><th scope=col>sold_cf_quan</th><th scope=col>sold_cf_pps</th><th scope=col>sold_cf_basis</th><th scope=col>true_false</th></tr>\n",
       "\t<tr><th></th><th scope=col>&lt;int&gt;</th><th scope=col>&lt;date&gt;</th><th scope=col>&lt;chr&gt;</th><th scope=col>&lt;chr&gt;</th><th scope=col>&lt;int&gt;</th><th scope=col>&lt;dbl&gt;</th><th scope=col>&lt;dbl&gt;</th><th scope=col>&lt;dbl&gt;</th><th scope=col>&lt;lgl&gt;</th><th scope=col>&lt;dbl&gt;</th><th scope=col>⋯</th><th scope=col>&lt;dbl&gt;</th><th scope=col>&lt;dbl&gt;</th><th scope=col>&lt;dbl&gt;</th><th scope=col>&lt;dbl&gt;</th><th scope=col>&lt;dbl&gt;</th><th scope=col>&lt;dbl&gt;</th><th scope=col>&lt;dbl&gt;</th><th scope=col>&lt;dbl&gt;</th><th scope=col>&lt;dbl&gt;</th><th scope=col>&lt;dbl&gt;</th></tr>\n",
       "</thead>\n",
       "<tbody>\n",
       "\t<tr><th scope=row>1</th><td>1</td><td>2022-12-31</td><td>Sell CF</td><td>c/f</td><td> 900</td><td>5.51240</td><td>4961.16</td><td>0</td><td>FALSE</td><td>0</td><td>⋯</td><td>0</td><td>0</td><td>0</td><td>0</td><td>0</td><td>0</td><td>0</td><td>0</td><td>0</td><td>0</td></tr>\n",
       "\t<tr><th scope=row>3</th><td>4</td><td>2023-02-03</td><td>Sell   </td><td>AMC</td><td>1000</td><td>6.68255</td><td>6682.55</td><td>0</td><td>FALSE</td><td>0</td><td>⋯</td><td>0</td><td>0</td><td>0</td><td>0</td><td>0</td><td>0</td><td>0</td><td>0</td><td>0</td><td>0</td></tr>\n",
       "\t<tr><th scope=row>4</th><td>6</td><td>2023-02-03</td><td>Sell   </td><td>AMC</td><td>1000</td><td>6.25500</td><td>6255.00</td><td>0</td><td>FALSE</td><td>0</td><td>⋯</td><td>0</td><td>0</td><td>0</td><td>0</td><td>0</td><td>0</td><td>0</td><td>0</td><td>0</td><td>0</td></tr>\n",
       "</tbody>\n",
       "</table>\n"
      ],
      "text/latex": [
       "A data.frame: 3 × 23\n",
       "\\begin{tabular}{r|lllllllllllllllllllll}\n",
       "  & index & date & type & co & quan & pps & basis & sale\\_quan & flag & buy\\_cf\\_quan & ⋯ & buy\\_pps & buy\\_basis & sell\\_quan & sell\\_pps & sell\\_basis & profit\\_loss & sold\\_cf\\_quan & sold\\_cf\\_pps & sold\\_cf\\_basis & true\\_false\\\\\n",
       "  & <int> & <date> & <chr> & <chr> & <int> & <dbl> & <dbl> & <dbl> & <lgl> & <dbl> & ⋯ & <dbl> & <dbl> & <dbl> & <dbl> & <dbl> & <dbl> & <dbl> & <dbl> & <dbl> & <dbl>\\\\\n",
       "\\hline\n",
       "\t1 & 1 & 2022-12-31 & Sell CF & c/f &  900 & 5.51240 & 4961.16 & 0 & FALSE & 0 & ⋯ & 0 & 0 & 0 & 0 & 0 & 0 & 0 & 0 & 0 & 0\\\\\n",
       "\t3 & 4 & 2023-02-03 & Sell    & AMC & 1000 & 6.68255 & 6682.55 & 0 & FALSE & 0 & ⋯ & 0 & 0 & 0 & 0 & 0 & 0 & 0 & 0 & 0 & 0\\\\\n",
       "\t4 & 6 & 2023-02-03 & Sell    & AMC & 1000 & 6.25500 & 6255.00 & 0 & FALSE & 0 & ⋯ & 0 & 0 & 0 & 0 & 0 & 0 & 0 & 0 & 0 & 0\\\\\n",
       "\\end{tabular}\n"
      ],
      "text/markdown": [
       "\n",
       "A data.frame: 3 × 23\n",
       "\n",
       "| <!--/--> | index &lt;int&gt; | date &lt;date&gt; | type &lt;chr&gt; | co &lt;chr&gt; | quan &lt;int&gt; | pps &lt;dbl&gt; | basis &lt;dbl&gt; | sale_quan &lt;dbl&gt; | flag &lt;lgl&gt; | buy_cf_quan &lt;dbl&gt; | ⋯ ⋯ | buy_pps &lt;dbl&gt; | buy_basis &lt;dbl&gt; | sell_quan &lt;dbl&gt; | sell_pps &lt;dbl&gt; | sell_basis &lt;dbl&gt; | profit_loss &lt;dbl&gt; | sold_cf_quan &lt;dbl&gt; | sold_cf_pps &lt;dbl&gt; | sold_cf_basis &lt;dbl&gt; | true_false &lt;dbl&gt; |\n",
       "|---|---|---|---|---|---|---|---|---|---|---|---|---|---|---|---|---|---|---|---|---|---|\n",
       "| 1 | 1 | 2022-12-31 | Sell CF | c/f |  900 | 5.51240 | 4961.16 | 0 | FALSE | 0 | ⋯ | 0 | 0 | 0 | 0 | 0 | 0 | 0 | 0 | 0 | 0 |\n",
       "| 3 | 4 | 2023-02-03 | Sell    | AMC | 1000 | 6.68255 | 6682.55 | 0 | FALSE | 0 | ⋯ | 0 | 0 | 0 | 0 | 0 | 0 | 0 | 0 | 0 | 0 |\n",
       "| 4 | 6 | 2023-02-03 | Sell    | AMC | 1000 | 6.25500 | 6255.00 | 0 | FALSE | 0 | ⋯ | 0 | 0 | 0 | 0 | 0 | 0 | 0 | 0 | 0 | 0 |\n",
       "\n"
      ],
      "text/plain": [
       "  index date       type    co  quan pps     basis   sale_quan flag  buy_cf_quan\n",
       "1 1     2022-12-31 Sell CF c/f  900 5.51240 4961.16 0         FALSE 0          \n",
       "3 4     2023-02-03 Sell    AMC 1000 6.68255 6682.55 0         FALSE 0          \n",
       "4 6     2023-02-03 Sell    AMC 1000 6.25500 6255.00 0         FALSE 0          \n",
       "  ⋯ buy_pps buy_basis sell_quan sell_pps sell_basis profit_loss sold_cf_quan\n",
       "1 ⋯ 0       0         0         0        0          0           0           \n",
       "3 ⋯ 0       0         0         0        0          0           0           \n",
       "4 ⋯ 0       0         0         0        0          0           0           \n",
       "  sold_cf_pps sold_cf_basis true_false\n",
       "1 0           0             0         \n",
       "3 0           0             0         \n",
       "4 0           0             0         "
      ]
     },
     "metadata": {},
     "output_type": "display_data"
    }
   ],
   "source": [
    "head(buys,3)\n",
    "head(sells,3)"
   ]
  },
  {
   "cell_type": "code",
   "execution_count": null,
   "id": "a71687c7-80e7-4e95-90f5-8ef13f260562",
   "metadata": {},
   "outputs": [],
   "source": []
  },
  {
   "cell_type": "markdown",
   "id": "eab5aa35-2ed8-4e56-a5d5-6971ccdfb8a0",
   "metadata": {},
   "source": [
    "#### <font color = lime> QC: Loop 1 review sale_record for accuracy"
   ]
  },
  {
   "cell_type": "code",
   "execution_count": 36,
   "id": "ae6231d1-0886-472d-8503-a11e04165b1a",
   "metadata": {},
   "outputs": [
    {
     "data": {
      "text/html": [
       "<table class=\"dataframe\">\n",
       "<caption>A data.frame: 1 × 23</caption>\n",
       "<thead>\n",
       "\t<tr><th scope=col>index</th><th scope=col>date</th><th scope=col>type</th><th scope=col>co</th><th scope=col>quan</th><th scope=col>pps</th><th scope=col>basis</th><th scope=col>sale_quan</th><th scope=col>flag</th><th scope=col>buy_cf_quan</th><th scope=col>⋯</th><th scope=col>buy_pps</th><th scope=col>buy_basis</th><th scope=col>sell_quan</th><th scope=col>sell_pps</th><th scope=col>sell_basis</th><th scope=col>profit_loss</th><th scope=col>sold_cf_quan</th><th scope=col>sold_cf_pps</th><th scope=col>sold_cf_basis</th><th scope=col>true_false</th></tr>\n",
       "\t<tr><th scope=col>&lt;int&gt;</th><th scope=col>&lt;date&gt;</th><th scope=col>&lt;chr&gt;</th><th scope=col>&lt;chr&gt;</th><th scope=col>&lt;int&gt;</th><th scope=col>&lt;dbl&gt;</th><th scope=col>&lt;dbl&gt;</th><th scope=col>&lt;int&gt;</th><th scope=col>&lt;lgl&gt;</th><th scope=col>&lt;int&gt;</th><th scope=col>⋯</th><th scope=col>&lt;dbl&gt;</th><th scope=col>&lt;dbl&gt;</th><th scope=col>&lt;int&gt;</th><th scope=col>&lt;dbl&gt;</th><th scope=col>&lt;dbl&gt;</th><th scope=col>&lt;dbl&gt;</th><th scope=col>&lt;int&gt;</th><th scope=col>&lt;dbl&gt;</th><th scope=col>&lt;dbl&gt;</th><th scope=col>&lt;lgl&gt;</th></tr>\n",
       "</thead>\n",
       "<tbody>\n",
       "\t<tr><td>1</td><td>2022-12-31</td><td>Buy</td><td>AMC</td><td>100</td><td>4.07</td><td>407</td><td>100</td><td>FALSE</td><td>0</td><td>⋯</td><td>4.07</td><td>407</td><td>100</td><td>5.5124</td><td>551.24</td><td>144.24</td><td>900</td><td>5.5124</td><td>4961.16</td><td>TRUE</td></tr>\n",
       "</tbody>\n",
       "</table>\n"
      ],
      "text/latex": [
       "A data.frame: 1 × 23\n",
       "\\begin{tabular}{lllllllllllllllllllll}\n",
       " index & date & type & co & quan & pps & basis & sale\\_quan & flag & buy\\_cf\\_quan & ⋯ & buy\\_pps & buy\\_basis & sell\\_quan & sell\\_pps & sell\\_basis & profit\\_loss & sold\\_cf\\_quan & sold\\_cf\\_pps & sold\\_cf\\_basis & true\\_false\\\\\n",
       " <int> & <date> & <chr> & <chr> & <int> & <dbl> & <dbl> & <int> & <lgl> & <int> & ⋯ & <dbl> & <dbl> & <int> & <dbl> & <dbl> & <dbl> & <int> & <dbl> & <dbl> & <lgl>\\\\\n",
       "\\hline\n",
       "\t 1 & 2022-12-31 & Buy & AMC & 100 & 4.07 & 407 & 100 & FALSE & 0 & ⋯ & 4.07 & 407 & 100 & 5.5124 & 551.24 & 144.24 & 900 & 5.5124 & 4961.16 & TRUE\\\\\n",
       "\\end{tabular}\n"
      ],
      "text/markdown": [
       "\n",
       "A data.frame: 1 × 23\n",
       "\n",
       "| index &lt;int&gt; | date &lt;date&gt; | type &lt;chr&gt; | co &lt;chr&gt; | quan &lt;int&gt; | pps &lt;dbl&gt; | basis &lt;dbl&gt; | sale_quan &lt;int&gt; | flag &lt;lgl&gt; | buy_cf_quan &lt;int&gt; | ⋯ ⋯ | buy_pps &lt;dbl&gt; | buy_basis &lt;dbl&gt; | sell_quan &lt;int&gt; | sell_pps &lt;dbl&gt; | sell_basis &lt;dbl&gt; | profit_loss &lt;dbl&gt; | sold_cf_quan &lt;int&gt; | sold_cf_pps &lt;dbl&gt; | sold_cf_basis &lt;dbl&gt; | true_false &lt;lgl&gt; |\n",
       "|---|---|---|---|---|---|---|---|---|---|---|---|---|---|---|---|---|---|---|---|---|\n",
       "| 1 | 2022-12-31 | Buy | AMC | 100 | 4.07 | 407 | 100 | FALSE | 0 | ⋯ | 4.07 | 407 | 100 | 5.5124 | 551.24 | 144.24 | 900 | 5.5124 | 4961.16 | TRUE |\n",
       "\n"
      ],
      "text/plain": [
       "  index date       type co  quan pps  basis sale_quan flag  buy_cf_quan ⋯\n",
       "1 1     2022-12-31 Buy  AMC 100  4.07 407   100       FALSE 0           ⋯\n",
       "  buy_pps buy_basis sell_quan sell_pps sell_basis profit_loss sold_cf_quan\n",
       "1 4.07    407       100       5.5124   551.24     144.24      900         \n",
       "  sold_cf_pps sold_cf_basis true_false\n",
       "1 5.5124      4961.16       TRUE      "
      ]
     },
     "metadata": {},
     "output_type": "display_data"
    }
   ],
   "source": [
    "sale_records"
   ]
  },
  {
   "cell_type": "markdown",
   "id": "10a3a398-05db-4786-914e-ad9ace85e93b",
   "metadata": {},
   "source": [
    "### <font color = lime> Got it!  The components above are modular and can be combined into a loop"
   ]
  },
  {
   "cell_type": "code",
   "execution_count": null,
   "id": "d15af399-9286-4171-9e33-2d3e9cc3a21b",
   "metadata": {},
   "outputs": [],
   "source": []
  },
  {
   "cell_type": "code",
   "execution_count": null,
   "id": "cdfe0393-e547-482c-9789-4aeeaffb80ca",
   "metadata": {},
   "outputs": [],
   "source": []
  },
  {
   "cell_type": "code",
   "execution_count": null,
   "id": "e1e64fda-22b1-46d5-82b7-d62f047f657a",
   "metadata": {},
   "outputs": [],
   "source": []
  },
  {
   "cell_type": "code",
   "execution_count": 37,
   "id": "558ac618-20c0-44d1-92da-2293b36c7aad",
   "metadata": {},
   "outputs": [],
   "source": [
    "# stopps #  Old code"
   ]
  },
  {
   "cell_type": "code",
   "execution_count": 38,
   "id": "e934fa25-3b0c-4d58-ab5c-19e9be2b3268",
   "metadata": {},
   "outputs": [
    {
     "name": "stdout",
     "output_type": "stream",
     "text": [
      "sale_records exists:      \n"
     ]
    }
   ],
   "source": [
    "if (exists(\"sale_records\") && is.data.frame(get(\"sale_records\"))) {\n",
    "  # Data frame exists and is a valid data frame\n",
    "  # Your code here...\n",
    "    cat(\"sale_records exists:     \", \"\\n\") \n",
    "} "
   ]
  },
  {
   "cell_type": "code",
   "execution_count": 39,
   "id": "bcec074e-99cc-44a9-a789-951e3d1f1096",
   "metadata": {},
   "outputs": [
    {
     "data": {
      "text/html": [
       "<table class=\"dataframe\">\n",
       "<caption>A data.frame: 1 × 23</caption>\n",
       "<thead>\n",
       "\t<tr><th scope=col>index</th><th scope=col>date</th><th scope=col>type</th><th scope=col>co</th><th scope=col>quan</th><th scope=col>pps</th><th scope=col>basis</th><th scope=col>sale_quan</th><th scope=col>flag</th><th scope=col>buy_cf_quan</th><th scope=col>⋯</th><th scope=col>buy_pps</th><th scope=col>buy_basis</th><th scope=col>sell_quan</th><th scope=col>sell_pps</th><th scope=col>sell_basis</th><th scope=col>profit_loss</th><th scope=col>sold_cf_quan</th><th scope=col>sold_cf_pps</th><th scope=col>sold_cf_basis</th><th scope=col>true_false</th></tr>\n",
       "\t<tr><th scope=col>&lt;int&gt;</th><th scope=col>&lt;date&gt;</th><th scope=col>&lt;chr&gt;</th><th scope=col>&lt;chr&gt;</th><th scope=col>&lt;int&gt;</th><th scope=col>&lt;dbl&gt;</th><th scope=col>&lt;dbl&gt;</th><th scope=col>&lt;int&gt;</th><th scope=col>&lt;lgl&gt;</th><th scope=col>&lt;int&gt;</th><th scope=col>⋯</th><th scope=col>&lt;dbl&gt;</th><th scope=col>&lt;dbl&gt;</th><th scope=col>&lt;int&gt;</th><th scope=col>&lt;dbl&gt;</th><th scope=col>&lt;dbl&gt;</th><th scope=col>&lt;dbl&gt;</th><th scope=col>&lt;int&gt;</th><th scope=col>&lt;dbl&gt;</th><th scope=col>&lt;dbl&gt;</th><th scope=col>&lt;lgl&gt;</th></tr>\n",
       "</thead>\n",
       "<tbody>\n",
       "\t<tr><td>1</td><td>2022-12-31</td><td>Buy</td><td>AMC</td><td>100</td><td>4.07</td><td>407</td><td>100</td><td>FALSE</td><td>0</td><td>⋯</td><td>4.07</td><td>407</td><td>100</td><td>5.5124</td><td>551.24</td><td>144.24</td><td>900</td><td>5.5124</td><td>4961.16</td><td>TRUE</td></tr>\n",
       "</tbody>\n",
       "</table>\n"
      ],
      "text/latex": [
       "A data.frame: 1 × 23\n",
       "\\begin{tabular}{lllllllllllllllllllll}\n",
       " index & date & type & co & quan & pps & basis & sale\\_quan & flag & buy\\_cf\\_quan & ⋯ & buy\\_pps & buy\\_basis & sell\\_quan & sell\\_pps & sell\\_basis & profit\\_loss & sold\\_cf\\_quan & sold\\_cf\\_pps & sold\\_cf\\_basis & true\\_false\\\\\n",
       " <int> & <date> & <chr> & <chr> & <int> & <dbl> & <dbl> & <int> & <lgl> & <int> & ⋯ & <dbl> & <dbl> & <int> & <dbl> & <dbl> & <dbl> & <int> & <dbl> & <dbl> & <lgl>\\\\\n",
       "\\hline\n",
       "\t 1 & 2022-12-31 & Buy & AMC & 100 & 4.07 & 407 & 100 & FALSE & 0 & ⋯ & 4.07 & 407 & 100 & 5.5124 & 551.24 & 144.24 & 900 & 5.5124 & 4961.16 & TRUE\\\\\n",
       "\\end{tabular}\n"
      ],
      "text/markdown": [
       "\n",
       "A data.frame: 1 × 23\n",
       "\n",
       "| index &lt;int&gt; | date &lt;date&gt; | type &lt;chr&gt; | co &lt;chr&gt; | quan &lt;int&gt; | pps &lt;dbl&gt; | basis &lt;dbl&gt; | sale_quan &lt;int&gt; | flag &lt;lgl&gt; | buy_cf_quan &lt;int&gt; | ⋯ ⋯ | buy_pps &lt;dbl&gt; | buy_basis &lt;dbl&gt; | sell_quan &lt;int&gt; | sell_pps &lt;dbl&gt; | sell_basis &lt;dbl&gt; | profit_loss &lt;dbl&gt; | sold_cf_quan &lt;int&gt; | sold_cf_pps &lt;dbl&gt; | sold_cf_basis &lt;dbl&gt; | true_false &lt;lgl&gt; |\n",
       "|---|---|---|---|---|---|---|---|---|---|---|---|---|---|---|---|---|---|---|---|---|\n",
       "| 1 | 2022-12-31 | Buy | AMC | 100 | 4.07 | 407 | 100 | FALSE | 0 | ⋯ | 4.07 | 407 | 100 | 5.5124 | 551.24 | 144.24 | 900 | 5.5124 | 4961.16 | TRUE |\n",
       "\n"
      ],
      "text/plain": [
       "  index date       type co  quan pps  basis sale_quan flag  buy_cf_quan ⋯\n",
       "1 1     2022-12-31 Buy  AMC 100  4.07 407   100       FALSE 0           ⋯\n",
       "  buy_pps buy_basis sell_quan sell_pps sell_basis profit_loss sold_cf_quan\n",
       "1 4.07    407       100       5.5124   551.24     144.24      900         \n",
       "  sold_cf_pps sold_cf_basis true_false\n",
       "1 5.5124      4961.16       TRUE      "
      ]
     },
     "metadata": {},
     "output_type": "display_data"
    }
   ],
   "source": [
    "sale_records"
   ]
  },
  {
   "cell_type": "code",
   "execution_count": null,
   "id": "f6b72dc6-17f5-4b5e-b780-4283f70f2122",
   "metadata": {},
   "outputs": [],
   "source": []
  },
  {
   "cell_type": "markdown",
   "id": "5af8547e-56ed-433c-8ab9-f582710678ce",
   "metadata": {},
   "source": [
    "## <font color = yellow> Proof of Concept above. Make it loop 2 x."
   ]
  },
  {
   "cell_type": "code",
   "execution_count": null,
   "id": "beeb8a5b-1dd6-43e6-8db6-e3b03fd388ca",
   "metadata": {},
   "outputs": [],
   "source": []
  },
  {
   "cell_type": "markdown",
   "id": "fe9a4eff-5362-471b-b888-4713a200ffdb",
   "metadata": {},
   "source": [
    "#### <font color = yellow>1. Create data & dfs"
   ]
  },
  {
   "cell_type": "code",
   "execution_count": 40,
   "id": "b9477fb0-de01-4d4e-865a-b05786c7b4fd",
   "metadata": {},
   "outputs": [],
   "source": [
    "b <- buys[1,]\n",
    "s <- sells[1,]"
   ]
  },
  {
   "cell_type": "code",
   "execution_count": null,
   "id": "acd9c5a0-89bb-41c7-95d8-ed851ea2fa88",
   "metadata": {},
   "outputs": [],
   "source": []
  },
  {
   "cell_type": "markdown",
   "id": "31f51e3d-191f-452b-b4d0-9a9cab7ba55c",
   "metadata": {},
   "source": [
    "### <font color = yellow>2. Update b - the variable that records each buy/sell transaction (w/in loop)\n",
    "    \n",
    "#### b>s, b<s, b==s,"
   ]
  },
  {
   "cell_type": "code",
   "execution_count": 41,
   "id": "20cf76be-e74d-4d7c-b6f1-c44cd9c0d2dc",
   "metadata": {},
   "outputs": [
    {
     "data": {
      "text/html": [
       "<table class=\"dataframe\">\n",
       "<caption>A data.frame: 1 × 23</caption>\n",
       "<thead>\n",
       "\t<tr><th></th><th scope=col>index</th><th scope=col>date</th><th scope=col>type</th><th scope=col>co</th><th scope=col>quan</th><th scope=col>pps</th><th scope=col>basis</th><th scope=col>sale_quan</th><th scope=col>flag</th><th scope=col>buy_cf_quan</th><th scope=col>⋯</th><th scope=col>buy_pps</th><th scope=col>buy_basis</th><th scope=col>sell_quan</th><th scope=col>sell_pps</th><th scope=col>sell_basis</th><th scope=col>profit_loss</th><th scope=col>sold_cf_quan</th><th scope=col>sold_cf_pps</th><th scope=col>sold_cf_basis</th><th scope=col>true_false</th></tr>\n",
       "\t<tr><th></th><th scope=col>&lt;int&gt;</th><th scope=col>&lt;date&gt;</th><th scope=col>&lt;chr&gt;</th><th scope=col>&lt;chr&gt;</th><th scope=col>&lt;int&gt;</th><th scope=col>&lt;dbl&gt;</th><th scope=col>&lt;dbl&gt;</th><th scope=col>&lt;int&gt;</th><th scope=col>&lt;lgl&gt;</th><th scope=col>&lt;int&gt;</th><th scope=col>⋯</th><th scope=col>&lt;dbl&gt;</th><th scope=col>&lt;dbl&gt;</th><th scope=col>&lt;int&gt;</th><th scope=col>&lt;dbl&gt;</th><th scope=col>&lt;dbl&gt;</th><th scope=col>&lt;dbl&gt;</th><th scope=col>&lt;int&gt;</th><th scope=col>&lt;dbl&gt;</th><th scope=col>&lt;dbl&gt;</th><th scope=col>&lt;lgl&gt;</th></tr>\n",
       "</thead>\n",
       "<tbody>\n",
       "\t<tr><th scope=row>3</th><td>3</td><td>2023-01-20</td><td>Buy</td><td>AMC</td><td>1000</td><td>5.625</td><td>5625</td><td>900</td><td>TRUE</td><td>0</td><td>⋯</td><td>5.625</td><td>5062.5</td><td>900</td><td>5.5124</td><td>4961.16</td><td>-101.34</td><td>100</td><td>5.625</td><td>562.5</td><td>FALSE</td></tr>\n",
       "</tbody>\n",
       "</table>\n"
      ],
      "text/latex": [
       "A data.frame: 1 × 23\n",
       "\\begin{tabular}{r|lllllllllllllllllllll}\n",
       "  & index & date & type & co & quan & pps & basis & sale\\_quan & flag & buy\\_cf\\_quan & ⋯ & buy\\_pps & buy\\_basis & sell\\_quan & sell\\_pps & sell\\_basis & profit\\_loss & sold\\_cf\\_quan & sold\\_cf\\_pps & sold\\_cf\\_basis & true\\_false\\\\\n",
       "  & <int> & <date> & <chr> & <chr> & <int> & <dbl> & <dbl> & <int> & <lgl> & <int> & ⋯ & <dbl> & <dbl> & <int> & <dbl> & <dbl> & <dbl> & <int> & <dbl> & <dbl> & <lgl>\\\\\n",
       "\\hline\n",
       "\t3 & 3 & 2023-01-20 & Buy & AMC & 1000 & 5.625 & 5625 & 900 & TRUE & 0 & ⋯ & 5.625 & 5062.5 & 900 & 5.5124 & 4961.16 & -101.34 & 100 & 5.625 & 562.5 & FALSE\\\\\n",
       "\\end{tabular}\n"
      ],
      "text/markdown": [
       "\n",
       "A data.frame: 1 × 23\n",
       "\n",
       "| <!--/--> | index &lt;int&gt; | date &lt;date&gt; | type &lt;chr&gt; | co &lt;chr&gt; | quan &lt;int&gt; | pps &lt;dbl&gt; | basis &lt;dbl&gt; | sale_quan &lt;int&gt; | flag &lt;lgl&gt; | buy_cf_quan &lt;int&gt; | ⋯ ⋯ | buy_pps &lt;dbl&gt; | buy_basis &lt;dbl&gt; | sell_quan &lt;int&gt; | sell_pps &lt;dbl&gt; | sell_basis &lt;dbl&gt; | profit_loss &lt;dbl&gt; | sold_cf_quan &lt;int&gt; | sold_cf_pps &lt;dbl&gt; | sold_cf_basis &lt;dbl&gt; | true_false &lt;lgl&gt; |\n",
       "|---|---|---|---|---|---|---|---|---|---|---|---|---|---|---|---|---|---|---|---|---|---|\n",
       "| 3 | 3 | 2023-01-20 | Buy | AMC | 1000 | 5.625 | 5625 | 900 | TRUE | 0 | ⋯ | 5.625 | 5062.5 | 900 | 5.5124 | 4961.16 | -101.34 | 100 | 5.625 | 562.5 | FALSE |\n",
       "\n"
      ],
      "text/plain": [
       "  index date       type co  quan pps   basis sale_quan flag buy_cf_quan ⋯\n",
       "3 3     2023-01-20 Buy  AMC 1000 5.625 5625  900       TRUE 0           ⋯\n",
       "  buy_pps buy_basis sell_quan sell_pps sell_basis profit_loss sold_cf_quan\n",
       "3 5.625   5062.5    900       5.5124   4961.16    -101.34     100         \n",
       "  sold_cf_pps sold_cf_basis true_false\n",
       "3 5.625       562.5         FALSE     "
      ]
     },
     "metadata": {},
     "output_type": "display_data"
    }
   ],
   "source": [
    "updated_b <- update_b()\n",
    "updated_b  \n",
    "    "
   ]
  },
  {
   "cell_type": "markdown",
   "id": "5f1e6e07-aef7-482f-9d67-bdff865cb2cc",
   "metadata": {},
   "source": [
    "### <font color = yellow>3. Update the sales_records (rbind) with updated_b for each transaction (loop)"
   ]
  },
  {
   "cell_type": "code",
   "execution_count": 42,
   "id": "b145b78e-4531-40b7-9d1d-5ba2b0a327ac",
   "metadata": {},
   "outputs": [
    {
     "name": "stdout",
     "output_type": "stream",
     "text": [
      "sale_records exists:      \n"
     ]
    }
   ],
   "source": [
    "if (exists(\"sale_records\") && is.data.frame(get(\"sale_records\"))) {\n",
    "  # Data frame exists and is a valid data frame\n",
    "  # Your code here...\n",
    "    cat(\"sale_records exists:     \", \"\\n\") \n",
    "    sale_records <- rbind(sale_records, updated_b)\n",
    "        \n",
    "} else {\n",
    "  # Data frame does not exist or is not a valid data frame\n",
    "  # Handle the case where the data frame is missing...\n",
    "    # cat(\"Newly created sale_records with updated_b data. \", \"\\n\")\n",
    "    # sale_records <- data.frame()\n",
    "    # sale_records <- rbind(sale_records, updated_b)    \n",
    "}\n"
   ]
  },
  {
   "cell_type": "code",
   "execution_count": null,
   "id": "950edc71-ddde-469d-b00c-6ebca1946530",
   "metadata": {},
   "outputs": [],
   "source": []
  },
  {
   "cell_type": "markdown",
   "id": "f0d1a084-3150-4952-82cd-e9ef9bd4a082",
   "metadata": {},
   "source": [
    "### The sale_record is correct for buy c/f in the second loop\n",
    "\n",
    "### the idea is for the second loop to only process the sale of 50 when buy cf exist, t/f \n",
    "\n",
    "###  at the end of loop two, the buys should be showing the next loop is ready for 1000 (next buys)\n",
    "\n",
    "### and the sells s/b showing 950"
   ]
  },
  {
   "cell_type": "code",
   "execution_count": 43,
   "id": "bd05242c-ec42-4d6b-bae1-f929ee0e791c",
   "metadata": {},
   "outputs": [
    {
     "data": {
      "text/html": [
       "<table class=\"dataframe\">\n",
       "<caption>A data.frame: 2 × 23</caption>\n",
       "<thead>\n",
       "\t<tr><th></th><th scope=col>index</th><th scope=col>date</th><th scope=col>type</th><th scope=col>co</th><th scope=col>quan</th><th scope=col>pps</th><th scope=col>basis</th><th scope=col>sale_quan</th><th scope=col>flag</th><th scope=col>buy_cf_quan</th><th scope=col>⋯</th><th scope=col>buy_pps</th><th scope=col>buy_basis</th><th scope=col>sell_quan</th><th scope=col>sell_pps</th><th scope=col>sell_basis</th><th scope=col>profit_loss</th><th scope=col>sold_cf_quan</th><th scope=col>sold_cf_pps</th><th scope=col>sold_cf_basis</th><th scope=col>true_false</th></tr>\n",
       "\t<tr><th></th><th scope=col>&lt;int&gt;</th><th scope=col>&lt;date&gt;</th><th scope=col>&lt;chr&gt;</th><th scope=col>&lt;chr&gt;</th><th scope=col>&lt;int&gt;</th><th scope=col>&lt;dbl&gt;</th><th scope=col>&lt;dbl&gt;</th><th scope=col>&lt;int&gt;</th><th scope=col>&lt;lgl&gt;</th><th scope=col>&lt;int&gt;</th><th scope=col>⋯</th><th scope=col>&lt;dbl&gt;</th><th scope=col>&lt;dbl&gt;</th><th scope=col>&lt;int&gt;</th><th scope=col>&lt;dbl&gt;</th><th scope=col>&lt;dbl&gt;</th><th scope=col>&lt;dbl&gt;</th><th scope=col>&lt;int&gt;</th><th scope=col>&lt;dbl&gt;</th><th scope=col>&lt;dbl&gt;</th><th scope=col>&lt;lgl&gt;</th></tr>\n",
       "</thead>\n",
       "<tbody>\n",
       "\t<tr><th scope=row>1</th><td>1</td><td>2022-12-31</td><td>Buy</td><td>AMC</td><td> 100</td><td>4.070</td><td> 407</td><td>100</td><td>FALSE</td><td>0</td><td>⋯</td><td>4.070</td><td> 407.0</td><td>100</td><td>5.5124</td><td> 551.24</td><td> 144.24</td><td>900</td><td>5.5124</td><td>4961.16</td><td> TRUE</td></tr>\n",
       "\t<tr><th scope=row>3</th><td>3</td><td>2023-01-20</td><td>Buy</td><td>AMC</td><td>1000</td><td>5.625</td><td>5625</td><td>900</td><td> TRUE</td><td>0</td><td>⋯</td><td>5.625</td><td>5062.5</td><td>900</td><td>5.5124</td><td>4961.16</td><td>-101.34</td><td>100</td><td>5.6250</td><td> 562.50</td><td>FALSE</td></tr>\n",
       "</tbody>\n",
       "</table>\n"
      ],
      "text/latex": [
       "A data.frame: 2 × 23\n",
       "\\begin{tabular}{r|lllllllllllllllllllll}\n",
       "  & index & date & type & co & quan & pps & basis & sale\\_quan & flag & buy\\_cf\\_quan & ⋯ & buy\\_pps & buy\\_basis & sell\\_quan & sell\\_pps & sell\\_basis & profit\\_loss & sold\\_cf\\_quan & sold\\_cf\\_pps & sold\\_cf\\_basis & true\\_false\\\\\n",
       "  & <int> & <date> & <chr> & <chr> & <int> & <dbl> & <dbl> & <int> & <lgl> & <int> & ⋯ & <dbl> & <dbl> & <int> & <dbl> & <dbl> & <dbl> & <int> & <dbl> & <dbl> & <lgl>\\\\\n",
       "\\hline\n",
       "\t1 & 1 & 2022-12-31 & Buy & AMC &  100 & 4.070 &  407 & 100 & FALSE & 0 & ⋯ & 4.070 &  407.0 & 100 & 5.5124 &  551.24 &  144.24 & 900 & 5.5124 & 4961.16 &  TRUE\\\\\n",
       "\t3 & 3 & 2023-01-20 & Buy & AMC & 1000 & 5.625 & 5625 & 900 &  TRUE & 0 & ⋯ & 5.625 & 5062.5 & 900 & 5.5124 & 4961.16 & -101.34 & 100 & 5.6250 &  562.50 & FALSE\\\\\n",
       "\\end{tabular}\n"
      ],
      "text/markdown": [
       "\n",
       "A data.frame: 2 × 23\n",
       "\n",
       "| <!--/--> | index &lt;int&gt; | date &lt;date&gt; | type &lt;chr&gt; | co &lt;chr&gt; | quan &lt;int&gt; | pps &lt;dbl&gt; | basis &lt;dbl&gt; | sale_quan &lt;int&gt; | flag &lt;lgl&gt; | buy_cf_quan &lt;int&gt; | ⋯ ⋯ | buy_pps &lt;dbl&gt; | buy_basis &lt;dbl&gt; | sell_quan &lt;int&gt; | sell_pps &lt;dbl&gt; | sell_basis &lt;dbl&gt; | profit_loss &lt;dbl&gt; | sold_cf_quan &lt;int&gt; | sold_cf_pps &lt;dbl&gt; | sold_cf_basis &lt;dbl&gt; | true_false &lt;lgl&gt; |\n",
       "|---|---|---|---|---|---|---|---|---|---|---|---|---|---|---|---|---|---|---|---|---|---|\n",
       "| 1 | 1 | 2022-12-31 | Buy | AMC |  100 | 4.070 |  407 | 100 | FALSE | 0 | ⋯ | 4.070 |  407.0 | 100 | 5.5124 |  551.24 |  144.24 | 900 | 5.5124 | 4961.16 |  TRUE |\n",
       "| 3 | 3 | 2023-01-20 | Buy | AMC | 1000 | 5.625 | 5625 | 900 |  TRUE | 0 | ⋯ | 5.625 | 5062.5 | 900 | 5.5124 | 4961.16 | -101.34 | 100 | 5.6250 |  562.50 | FALSE |\n",
       "\n"
      ],
      "text/plain": [
       "  index date       type co  quan pps   basis sale_quan flag  buy_cf_quan ⋯\n",
       "1 1     2022-12-31 Buy  AMC  100 4.070  407  100       FALSE 0           ⋯\n",
       "3 3     2023-01-20 Buy  AMC 1000 5.625 5625  900        TRUE 0           ⋯\n",
       "  buy_pps buy_basis sell_quan sell_pps sell_basis profit_loss sold_cf_quan\n",
       "1 4.070    407.0    100       5.5124    551.24     144.24     900         \n",
       "3 5.625   5062.5    900       5.5124   4961.16    -101.34     100         \n",
       "  sold_cf_pps sold_cf_basis true_false\n",
       "1 5.5124      4961.16        TRUE     \n",
       "3 5.6250       562.50       FALSE     "
      ]
     },
     "metadata": {},
     "output_type": "display_data"
    }
   ],
   "source": [
    "sale_records"
   ]
  },
  {
   "cell_type": "markdown",
   "id": "d8e37370-12f1-4118-822a-6ab11e268c18",
   "metadata": {},
   "source": [
    "#### <font color = yellow> 4. Update buys or sells with a new row (add_row) - whenever a transaction (loop) includes  c/f\n",
    "    \n",
    "###### Uses add_row () to transform any existing carryforward (buy or sell type) into the next element that will be processed for next (loop) buy/sell transaction"
   ]
  },
  {
   "cell_type": "code",
   "execution_count": null,
   "id": "b9371aad-c641-4992-82f5-11759bb8fc46",
   "metadata": {},
   "outputs": [],
   "source": []
  },
  {
   "cell_type": "code",
   "execution_count": 44,
   "id": "dacdadad-f003-4890-98e0-20b7f13ca16a",
   "metadata": {},
   "outputs": [
    {
     "name": "stdout",
     "output_type": "stream",
     "text": [
      "\n",
      " There is Buy carryforward. Update buys  100 \n",
      "printing updated buys[1 ], dim of buys increases with c/f  \n"
     ]
    },
    {
     "data": {
      "text/html": [
       "<style>\n",
       ".list-inline {list-style: none; margin:0; padding: 0}\n",
       ".list-inline>li {display: inline-block}\n",
       ".list-inline>li:not(:last-child)::after {content: \"\\00b7\"; padding: 0 .5ex}\n",
       "</style>\n",
       "<ol class=list-inline><li>23</li><li>23</li></ol>\n"
      ],
      "text/latex": [
       "\\begin{enumerate*}\n",
       "\\item 23\n",
       "\\item 23\n",
       "\\end{enumerate*}\n"
      ],
      "text/markdown": [
       "1. 23\n",
       "2. 23\n",
       "\n",
       "\n"
      ],
      "text/plain": [
       "[1] 23 23"
      ]
     },
     "metadata": {},
     "output_type": "display_data"
    },
    {
     "data": {
      "text/html": [
       "<style>\n",
       ".list-inline {list-style: none; margin:0; padding: 0}\n",
       ".list-inline>li {display: inline-block}\n",
       ".list-inline>li:not(:last-child)::after {content: \"\\00b7\"; padding: 0 .5ex}\n",
       "</style>\n",
       "<ol class=list-inline><li>18</li><li>23</li></ol>\n"
      ],
      "text/latex": [
       "\\begin{enumerate*}\n",
       "\\item 18\n",
       "\\item 23\n",
       "\\end{enumerate*}\n"
      ],
      "text/markdown": [
       "1. 18\n",
       "2. 23\n",
       "\n",
       "\n"
      ],
      "text/plain": [
       "[1] 18 23"
      ]
     },
     "metadata": {},
     "output_type": "display_data"
    }
   ],
   "source": [
    "# fct call\n",
    "return_list <- update_withcf(buys, sells)\n",
    "\n",
    "buys <- return_list[[1]]\n",
    "sells <- return_list[[2]]\n",
    "\n",
    "dim(buys)\n",
    "dim(sells)\n"
   ]
  },
  {
   "cell_type": "code",
   "execution_count": null,
   "id": "eeda704f-4568-4e68-9a54-96425f946bed",
   "metadata": {},
   "outputs": [],
   "source": []
  },
  {
   "cell_type": "markdown",
   "id": "080899e3-17f9-4175-b6f1-230b013ad7d2",
   "metadata": {},
   "source": [
    "## This is the place the issue becomes apparent"
   ]
  },
  {
   "cell_type": "code",
   "execution_count": 45,
   "id": "3bd22ed6-aeac-497e-944b-bb0d17cbebb9",
   "metadata": {},
   "outputs": [
    {
     "data": {
      "text/html": [
       "<table class=\"dataframe\">\n",
       "<caption>A data.frame: 3 × 23</caption>\n",
       "<thead>\n",
       "\t<tr><th></th><th scope=col>index</th><th scope=col>date</th><th scope=col>type</th><th scope=col>co</th><th scope=col>quan</th><th scope=col>pps</th><th scope=col>basis</th><th scope=col>sale_quan</th><th scope=col>flag</th><th scope=col>buy_cf_quan</th><th scope=col>⋯</th><th scope=col>buy_pps</th><th scope=col>buy_basis</th><th scope=col>sell_quan</th><th scope=col>sell_pps</th><th scope=col>sell_basis</th><th scope=col>profit_loss</th><th scope=col>sold_cf_quan</th><th scope=col>sold_cf_pps</th><th scope=col>sold_cf_basis</th><th scope=col>true_false</th></tr>\n",
       "\t<tr><th></th><th scope=col>&lt;int&gt;</th><th scope=col>&lt;date&gt;</th><th scope=col>&lt;chr&gt;</th><th scope=col>&lt;chr&gt;</th><th scope=col>&lt;int&gt;</th><th scope=col>&lt;dbl&gt;</th><th scope=col>&lt;dbl&gt;</th><th scope=col>&lt;dbl&gt;</th><th scope=col>&lt;lgl&gt;</th><th scope=col>&lt;dbl&gt;</th><th scope=col>⋯</th><th scope=col>&lt;dbl&gt;</th><th scope=col>&lt;dbl&gt;</th><th scope=col>&lt;dbl&gt;</th><th scope=col>&lt;dbl&gt;</th><th scope=col>&lt;dbl&gt;</th><th scope=col>&lt;dbl&gt;</th><th scope=col>&lt;dbl&gt;</th><th scope=col>&lt;dbl&gt;</th><th scope=col>&lt;dbl&gt;</th><th scope=col>&lt;dbl&gt;</th></tr>\n",
       "</thead>\n",
       "<tbody>\n",
       "\t<tr><th scope=row>1</th><td>3</td><td>2023-01-20</td><td>Buy CF</td><td>c/f</td><td> 100</td><td>5.625</td><td> 562.5</td><td>0</td><td>FALSE</td><td>0</td><td>⋯</td><td>0</td><td>0</td><td>0</td><td>0</td><td>0</td><td>0</td><td>0</td><td>0</td><td>0</td><td>0</td></tr>\n",
       "\t<tr><th scope=row>2</th><td>3</td><td>2023-01-20</td><td>Buy   </td><td>AMC</td><td>1000</td><td>5.625</td><td>5625.0</td><td>0</td><td>FALSE</td><td>0</td><td>⋯</td><td>0</td><td>0</td><td>0</td><td>0</td><td>0</td><td>0</td><td>0</td><td>0</td><td>0</td><td>0</td></tr>\n",
       "\t<tr><th scope=row>3</th><td>5</td><td>2023-01-23</td><td>Buy   </td><td>AMC</td><td>1000</td><td>5.788</td><td>5788.0</td><td>0</td><td>FALSE</td><td>0</td><td>⋯</td><td>0</td><td>0</td><td>0</td><td>0</td><td>0</td><td>0</td><td>0</td><td>0</td><td>0</td><td>0</td></tr>\n",
       "</tbody>\n",
       "</table>\n"
      ],
      "text/latex": [
       "A data.frame: 3 × 23\n",
       "\\begin{tabular}{r|lllllllllllllllllllll}\n",
       "  & index & date & type & co & quan & pps & basis & sale\\_quan & flag & buy\\_cf\\_quan & ⋯ & buy\\_pps & buy\\_basis & sell\\_quan & sell\\_pps & sell\\_basis & profit\\_loss & sold\\_cf\\_quan & sold\\_cf\\_pps & sold\\_cf\\_basis & true\\_false\\\\\n",
       "  & <int> & <date> & <chr> & <chr> & <int> & <dbl> & <dbl> & <dbl> & <lgl> & <dbl> & ⋯ & <dbl> & <dbl> & <dbl> & <dbl> & <dbl> & <dbl> & <dbl> & <dbl> & <dbl> & <dbl>\\\\\n",
       "\\hline\n",
       "\t1 & 3 & 2023-01-20 & Buy CF & c/f &  100 & 5.625 &  562.5 & 0 & FALSE & 0 & ⋯ & 0 & 0 & 0 & 0 & 0 & 0 & 0 & 0 & 0 & 0\\\\\n",
       "\t2 & 3 & 2023-01-20 & Buy    & AMC & 1000 & 5.625 & 5625.0 & 0 & FALSE & 0 & ⋯ & 0 & 0 & 0 & 0 & 0 & 0 & 0 & 0 & 0 & 0\\\\\n",
       "\t3 & 5 & 2023-01-23 & Buy    & AMC & 1000 & 5.788 & 5788.0 & 0 & FALSE & 0 & ⋯ & 0 & 0 & 0 & 0 & 0 & 0 & 0 & 0 & 0 & 0\\\\\n",
       "\\end{tabular}\n"
      ],
      "text/markdown": [
       "\n",
       "A data.frame: 3 × 23\n",
       "\n",
       "| <!--/--> | index &lt;int&gt; | date &lt;date&gt; | type &lt;chr&gt; | co &lt;chr&gt; | quan &lt;int&gt; | pps &lt;dbl&gt; | basis &lt;dbl&gt; | sale_quan &lt;dbl&gt; | flag &lt;lgl&gt; | buy_cf_quan &lt;dbl&gt; | ⋯ ⋯ | buy_pps &lt;dbl&gt; | buy_basis &lt;dbl&gt; | sell_quan &lt;dbl&gt; | sell_pps &lt;dbl&gt; | sell_basis &lt;dbl&gt; | profit_loss &lt;dbl&gt; | sold_cf_quan &lt;dbl&gt; | sold_cf_pps &lt;dbl&gt; | sold_cf_basis &lt;dbl&gt; | true_false &lt;dbl&gt; |\n",
       "|---|---|---|---|---|---|---|---|---|---|---|---|---|---|---|---|---|---|---|---|---|---|\n",
       "| 1 | 3 | 2023-01-20 | Buy CF | c/f |  100 | 5.625 |  562.5 | 0 | FALSE | 0 | ⋯ | 0 | 0 | 0 | 0 | 0 | 0 | 0 | 0 | 0 | 0 |\n",
       "| 2 | 3 | 2023-01-20 | Buy    | AMC | 1000 | 5.625 | 5625.0 | 0 | FALSE | 0 | ⋯ | 0 | 0 | 0 | 0 | 0 | 0 | 0 | 0 | 0 | 0 |\n",
       "| 3 | 5 | 2023-01-23 | Buy    | AMC | 1000 | 5.788 | 5788.0 | 0 | FALSE | 0 | ⋯ | 0 | 0 | 0 | 0 | 0 | 0 | 0 | 0 | 0 | 0 |\n",
       "\n"
      ],
      "text/plain": [
       "  index date       type   co  quan pps   basis  sale_quan flag  buy_cf_quan ⋯\n",
       "1 3     2023-01-20 Buy CF c/f  100 5.625  562.5 0         FALSE 0           ⋯\n",
       "2 3     2023-01-20 Buy    AMC 1000 5.625 5625.0 0         FALSE 0           ⋯\n",
       "3 5     2023-01-23 Buy    AMC 1000 5.788 5788.0 0         FALSE 0           ⋯\n",
       "  buy_pps buy_basis sell_quan sell_pps sell_basis profit_loss sold_cf_quan\n",
       "1 0       0         0         0        0          0           0           \n",
       "2 0       0         0         0        0          0           0           \n",
       "3 0       0         0         0        0          0           0           \n",
       "  sold_cf_pps sold_cf_basis true_false\n",
       "1 0           0             0         \n",
       "2 0           0             0         \n",
       "3 0           0             0         "
      ]
     },
     "metadata": {},
     "output_type": "display_data"
    },
    {
     "data": {
      "text/html": [
       "<table class=\"dataframe\">\n",
       "<caption>A data.frame: 3 × 23</caption>\n",
       "<thead>\n",
       "\t<tr><th></th><th scope=col>index</th><th scope=col>date</th><th scope=col>type</th><th scope=col>co</th><th scope=col>quan</th><th scope=col>pps</th><th scope=col>basis</th><th scope=col>sale_quan</th><th scope=col>flag</th><th scope=col>buy_cf_quan</th><th scope=col>⋯</th><th scope=col>buy_pps</th><th scope=col>buy_basis</th><th scope=col>sell_quan</th><th scope=col>sell_pps</th><th scope=col>sell_basis</th><th scope=col>profit_loss</th><th scope=col>sold_cf_quan</th><th scope=col>sold_cf_pps</th><th scope=col>sold_cf_basis</th><th scope=col>true_false</th></tr>\n",
       "\t<tr><th></th><th scope=col>&lt;int&gt;</th><th scope=col>&lt;date&gt;</th><th scope=col>&lt;chr&gt;</th><th scope=col>&lt;chr&gt;</th><th scope=col>&lt;int&gt;</th><th scope=col>&lt;dbl&gt;</th><th scope=col>&lt;dbl&gt;</th><th scope=col>&lt;dbl&gt;</th><th scope=col>&lt;lgl&gt;</th><th scope=col>&lt;dbl&gt;</th><th scope=col>⋯</th><th scope=col>&lt;dbl&gt;</th><th scope=col>&lt;dbl&gt;</th><th scope=col>&lt;dbl&gt;</th><th scope=col>&lt;dbl&gt;</th><th scope=col>&lt;dbl&gt;</th><th scope=col>&lt;dbl&gt;</th><th scope=col>&lt;dbl&gt;</th><th scope=col>&lt;dbl&gt;</th><th scope=col>&lt;dbl&gt;</th><th scope=col>&lt;dbl&gt;</th></tr>\n",
       "</thead>\n",
       "<tbody>\n",
       "\t<tr><th scope=row>1</th><td>1</td><td>2022-12-31</td><td>Sell CF</td><td>c/f</td><td> 900</td><td>5.51240</td><td>4961.16</td><td>0</td><td>FALSE</td><td>0</td><td>⋯</td><td>0</td><td>0</td><td>0</td><td>0</td><td>0</td><td>0</td><td>0</td><td>0</td><td>0</td><td>0</td></tr>\n",
       "\t<tr><th scope=row>3</th><td>4</td><td>2023-02-03</td><td>Sell   </td><td>AMC</td><td>1000</td><td>6.68255</td><td>6682.55</td><td>0</td><td>FALSE</td><td>0</td><td>⋯</td><td>0</td><td>0</td><td>0</td><td>0</td><td>0</td><td>0</td><td>0</td><td>0</td><td>0</td><td>0</td></tr>\n",
       "\t<tr><th scope=row>4</th><td>6</td><td>2023-02-03</td><td>Sell   </td><td>AMC</td><td>1000</td><td>6.25500</td><td>6255.00</td><td>0</td><td>FALSE</td><td>0</td><td>⋯</td><td>0</td><td>0</td><td>0</td><td>0</td><td>0</td><td>0</td><td>0</td><td>0</td><td>0</td><td>0</td></tr>\n",
       "</tbody>\n",
       "</table>\n"
      ],
      "text/latex": [
       "A data.frame: 3 × 23\n",
       "\\begin{tabular}{r|lllllllllllllllllllll}\n",
       "  & index & date & type & co & quan & pps & basis & sale\\_quan & flag & buy\\_cf\\_quan & ⋯ & buy\\_pps & buy\\_basis & sell\\_quan & sell\\_pps & sell\\_basis & profit\\_loss & sold\\_cf\\_quan & sold\\_cf\\_pps & sold\\_cf\\_basis & true\\_false\\\\\n",
       "  & <int> & <date> & <chr> & <chr> & <int> & <dbl> & <dbl> & <dbl> & <lgl> & <dbl> & ⋯ & <dbl> & <dbl> & <dbl> & <dbl> & <dbl> & <dbl> & <dbl> & <dbl> & <dbl> & <dbl>\\\\\n",
       "\\hline\n",
       "\t1 & 1 & 2022-12-31 & Sell CF & c/f &  900 & 5.51240 & 4961.16 & 0 & FALSE & 0 & ⋯ & 0 & 0 & 0 & 0 & 0 & 0 & 0 & 0 & 0 & 0\\\\\n",
       "\t3 & 4 & 2023-02-03 & Sell    & AMC & 1000 & 6.68255 & 6682.55 & 0 & FALSE & 0 & ⋯ & 0 & 0 & 0 & 0 & 0 & 0 & 0 & 0 & 0 & 0\\\\\n",
       "\t4 & 6 & 2023-02-03 & Sell    & AMC & 1000 & 6.25500 & 6255.00 & 0 & FALSE & 0 & ⋯ & 0 & 0 & 0 & 0 & 0 & 0 & 0 & 0 & 0 & 0\\\\\n",
       "\\end{tabular}\n"
      ],
      "text/markdown": [
       "\n",
       "A data.frame: 3 × 23\n",
       "\n",
       "| <!--/--> | index &lt;int&gt; | date &lt;date&gt; | type &lt;chr&gt; | co &lt;chr&gt; | quan &lt;int&gt; | pps &lt;dbl&gt; | basis &lt;dbl&gt; | sale_quan &lt;dbl&gt; | flag &lt;lgl&gt; | buy_cf_quan &lt;dbl&gt; | ⋯ ⋯ | buy_pps &lt;dbl&gt; | buy_basis &lt;dbl&gt; | sell_quan &lt;dbl&gt; | sell_pps &lt;dbl&gt; | sell_basis &lt;dbl&gt; | profit_loss &lt;dbl&gt; | sold_cf_quan &lt;dbl&gt; | sold_cf_pps &lt;dbl&gt; | sold_cf_basis &lt;dbl&gt; | true_false &lt;dbl&gt; |\n",
       "|---|---|---|---|---|---|---|---|---|---|---|---|---|---|---|---|---|---|---|---|---|---|\n",
       "| 1 | 1 | 2022-12-31 | Sell CF | c/f |  900 | 5.51240 | 4961.16 | 0 | FALSE | 0 | ⋯ | 0 | 0 | 0 | 0 | 0 | 0 | 0 | 0 | 0 | 0 |\n",
       "| 3 | 4 | 2023-02-03 | Sell    | AMC | 1000 | 6.68255 | 6682.55 | 0 | FALSE | 0 | ⋯ | 0 | 0 | 0 | 0 | 0 | 0 | 0 | 0 | 0 | 0 |\n",
       "| 4 | 6 | 2023-02-03 | Sell    | AMC | 1000 | 6.25500 | 6255.00 | 0 | FALSE | 0 | ⋯ | 0 | 0 | 0 | 0 | 0 | 0 | 0 | 0 | 0 | 0 |\n",
       "\n"
      ],
      "text/plain": [
       "  index date       type    co  quan pps     basis   sale_quan flag  buy_cf_quan\n",
       "1 1     2022-12-31 Sell CF c/f  900 5.51240 4961.16 0         FALSE 0          \n",
       "3 4     2023-02-03 Sell    AMC 1000 6.68255 6682.55 0         FALSE 0          \n",
       "4 6     2023-02-03 Sell    AMC 1000 6.25500 6255.00 0         FALSE 0          \n",
       "  ⋯ buy_pps buy_basis sell_quan sell_pps sell_basis profit_loss sold_cf_quan\n",
       "1 ⋯ 0       0         0         0        0          0           0           \n",
       "3 ⋯ 0       0         0         0        0          0           0           \n",
       "4 ⋯ 0       0         0         0        0          0           0           \n",
       "  sold_cf_pps sold_cf_basis true_false\n",
       "1 0           0             0         \n",
       "3 0           0             0         \n",
       "4 0           0             0         "
      ]
     },
     "metadata": {},
     "output_type": "display_data"
    }
   ],
   "source": [
    "#  These are the two values in this transaction\n",
    "\n",
    "head(buys,3)\n",
    "head(sells, 3)"
   ]
  },
  {
   "cell_type": "markdown",
   "id": "6083df0e-2295-4a2b-82c8-63318c5776aa",
   "metadata": {},
   "source": [
    "#### <font color = yellow>5. snips () Create a new variable from buys/sells row 1, then delete row 1 from buys and sells (copy_snip () )"
   ]
  },
  {
   "cell_type": "code",
   "execution_count": null,
   "id": "15cc4605-9f11-4908-8d82-6e6caab5c20f",
   "metadata": {},
   "outputs": [],
   "source": []
  },
  {
   "cell_type": "code",
   "execution_count": null,
   "id": "cb3b4aba-90c7-466f-a2fb-1c77a73fc3b6",
   "metadata": {},
   "outputs": [],
   "source": []
  },
  {
   "cell_type": "code",
   "execution_count": null,
   "id": "b78df441-4e19-4642-a22e-28a2220fccba",
   "metadata": {},
   "outputs": [],
   "source": []
  },
  {
   "cell_type": "code",
   "execution_count": 46,
   "id": "ce5b206f-021f-4387-b5e1-c0b230c23024",
   "metadata": {},
   "outputs": [
    {
     "name": "stdout",
     "output_type": "stream",
     "text": [
      "buys contains carryforward - remove buys c/f row and DO snip sells \n"
     ]
    },
    {
     "data": {
      "text/html": [
       "<style>\n",
       ".list-inline {list-style: none; margin:0; padding: 0}\n",
       ".list-inline>li {display: inline-block}\n",
       ".list-inline>li:not(:last-child)::after {content: \"\\00b7\"; padding: 0 .5ex}\n",
       "</style>\n",
       "<ol class=list-inline><li>22</li><li>23</li></ol>\n"
      ],
      "text/latex": [
       "\\begin{enumerate*}\n",
       "\\item 22\n",
       "\\item 23\n",
       "\\end{enumerate*}\n"
      ],
      "text/markdown": [
       "1. 22\n",
       "2. 23\n",
       "\n",
       "\n"
      ],
      "text/plain": [
       "[1] 22 23"
      ]
     },
     "metadata": {},
     "output_type": "display_data"
    },
    {
     "data": {
      "text/html": [
       "<style>\n",
       ".list-inline {list-style: none; margin:0; padding: 0}\n",
       ".list-inline>li {display: inline-block}\n",
       ".list-inline>li:not(:last-child)::after {content: \"\\00b7\"; padding: 0 .5ex}\n",
       "</style>\n",
       "<ol class=list-inline><li>17</li><li>23</li></ol>\n"
      ],
      "text/latex": [
       "\\begin{enumerate*}\n",
       "\\item 17\n",
       "\\item 23\n",
       "\\end{enumerate*}\n"
      ],
      "text/markdown": [
       "1. 17\n",
       "2. 23\n",
       "\n",
       "\n"
      ],
      "text/plain": [
       "[1] 17 23"
      ]
     },
     "metadata": {},
     "output_type": "display_data"
    }
   ],
   "source": [
    "#  save_sell_one <- data.frame()   #  keep for c/f >> Sell[1, ]\n",
    "copy_snip <- function (buys, sells) {\n",
    "   \n",
    "    # parameters - rep the input vars (arguments)  ... may be extraneous\n",
    "    b1 <- buys [1, ]\n",
    "    s1 <- sells [1, ]\n",
    "    \n",
    "   \n",
    "    # snip .... if \n",
    "# if(any(buys$type[1] == \"Buy CF\") ||  any(sells$type[1] == TRUE))  {         \n",
    "    if(buys$type[1] == \"Buy CF\")   {         \n",
    "        cat(\"buys contains carryforward - remove buys c/f row and DO snip sells \\n\") \n",
    "        \n",
    "         buys <- buys[-1, ]\n",
    "        # buys <-  buys %>% add_row(b1, .before = 1)\n",
    "        sells <- sells[-1,]       \n",
    "        return(list(b1, s1, buys, sells))    \n",
    "    } else if (sells$type[1] == \"Sell CF\") {\n",
    "        cat(\"sells contains carryforward .. Replace sells and DO snip buys \\n\") \n",
    "        sells <- sells[-2,]\n",
    "        buys <- buys[-1,]\n",
    "        return(list(b1, s1, buys, sells))    \n",
    "    } else {\n",
    "        cat(\"There is no carryforward in buys or sells, DO snip buys and Do snip sells \\n\")\n",
    "        buys <- buys[-1,]\n",
    "        sells <- sells[-1,]\n",
    "        return(list(b1, s1, buys, sells))    \n",
    "    }\n",
    "}    \n",
    "   \n",
    "\n",
    "# fct call passing 2 arguments\n",
    "copy_snip_list <- copy_snip(buys, sells) \n",
    "\n",
    "b1 <- copy_snip_list[[1]]\n",
    "s1 <- copy_snip_list[[2]]\n",
    "buys <- copy_snip_list[[3]]\n",
    "sells <- copy_snip_list[[4]]\n",
    "\n",
    "# after\n",
    "dim(buys)\n",
    "dim(sells)\n",
    "# b1\n",
    "# s1"
   ]
  },
  {
   "cell_type": "code",
   "execution_count": null,
   "id": "6f3698fa-1405-4acc-aa1f-a6a8c8020595",
   "metadata": {},
   "outputs": [],
   "source": []
  },
  {
   "cell_type": "code",
   "execution_count": null,
   "id": "d6be4883-d4af-44dd-8f7a-967c99aa1a1c",
   "metadata": {},
   "outputs": [],
   "source": []
  },
  {
   "cell_type": "code",
   "execution_count": 47,
   "id": "cce4336a-7aa2-4b04-8c10-a3d3165f0c74",
   "metadata": {},
   "outputs": [
    {
     "name": "stdout",
     "output_type": "stream",
     "text": [
      "There is no carryforward in buys or sells, DO snip buys and Do snip sells \n"
     ]
    }
   ],
   "source": [
    "copy_snip_list <- copy_snip(buys, sells) \n",
    "\n",
    "b1 <- copy_snip_list[[1]]\n",
    "s1 <- copy_snip_list[[2]]\n",
    "buys <- copy_snip_list[[3]]\n",
    "sells <- copy_snip_list[[4]]"
   ]
  },
  {
   "cell_type": "code",
   "execution_count": null,
   "id": "44aae982-4fda-41fe-aa48-d5e66731a053",
   "metadata": {},
   "outputs": [],
   "source": []
  },
  {
   "cell_type": "markdown",
   "id": "5c70cb35-e500-4f99-a7d2-26604e30254f",
   "metadata": {},
   "source": [
    "#### <font color = lime> QC: Loop 2 review sale_record for accuracy"
   ]
  },
  {
   "cell_type": "code",
   "execution_count": null,
   "id": "b58c7335-58e0-487c-b278-5d0fc3029ac5",
   "metadata": {},
   "outputs": [],
   "source": []
  },
  {
   "cell_type": "code",
   "execution_count": 48,
   "id": "5c86609e-045e-43ec-8b9d-c67f20324ede",
   "metadata": {},
   "outputs": [
    {
     "data": {
      "text/html": [
       "<table class=\"dataframe\">\n",
       "<caption>A data.frame: 2 × 23</caption>\n",
       "<thead>\n",
       "\t<tr><th></th><th scope=col>index</th><th scope=col>date</th><th scope=col>type</th><th scope=col>co</th><th scope=col>quan</th><th scope=col>pps</th><th scope=col>basis</th><th scope=col>sale_quan</th><th scope=col>flag</th><th scope=col>buy_cf_quan</th><th scope=col>⋯</th><th scope=col>buy_pps</th><th scope=col>buy_basis</th><th scope=col>sell_quan</th><th scope=col>sell_pps</th><th scope=col>sell_basis</th><th scope=col>profit_loss</th><th scope=col>sold_cf_quan</th><th scope=col>sold_cf_pps</th><th scope=col>sold_cf_basis</th><th scope=col>true_false</th></tr>\n",
       "\t<tr><th></th><th scope=col>&lt;int&gt;</th><th scope=col>&lt;date&gt;</th><th scope=col>&lt;chr&gt;</th><th scope=col>&lt;chr&gt;</th><th scope=col>&lt;int&gt;</th><th scope=col>&lt;dbl&gt;</th><th scope=col>&lt;dbl&gt;</th><th scope=col>&lt;int&gt;</th><th scope=col>&lt;lgl&gt;</th><th scope=col>&lt;int&gt;</th><th scope=col>⋯</th><th scope=col>&lt;dbl&gt;</th><th scope=col>&lt;dbl&gt;</th><th scope=col>&lt;int&gt;</th><th scope=col>&lt;dbl&gt;</th><th scope=col>&lt;dbl&gt;</th><th scope=col>&lt;dbl&gt;</th><th scope=col>&lt;int&gt;</th><th scope=col>&lt;dbl&gt;</th><th scope=col>&lt;dbl&gt;</th><th scope=col>&lt;lgl&gt;</th></tr>\n",
       "</thead>\n",
       "<tbody>\n",
       "\t<tr><th scope=row>1</th><td>1</td><td>2022-12-31</td><td>Buy</td><td>AMC</td><td> 100</td><td>4.070</td><td> 407</td><td>100</td><td>FALSE</td><td>0</td><td>⋯</td><td>4.070</td><td> 407.0</td><td>100</td><td>5.5124</td><td> 551.24</td><td> 144.24</td><td>900</td><td>5.5124</td><td>4961.16</td><td> TRUE</td></tr>\n",
       "\t<tr><th scope=row>3</th><td>3</td><td>2023-01-20</td><td>Buy</td><td>AMC</td><td>1000</td><td>5.625</td><td>5625</td><td>900</td><td> TRUE</td><td>0</td><td>⋯</td><td>5.625</td><td>5062.5</td><td>900</td><td>5.5124</td><td>4961.16</td><td>-101.34</td><td>100</td><td>5.6250</td><td> 562.50</td><td>FALSE</td></tr>\n",
       "</tbody>\n",
       "</table>\n"
      ],
      "text/latex": [
       "A data.frame: 2 × 23\n",
       "\\begin{tabular}{r|lllllllllllllllllllll}\n",
       "  & index & date & type & co & quan & pps & basis & sale\\_quan & flag & buy\\_cf\\_quan & ⋯ & buy\\_pps & buy\\_basis & sell\\_quan & sell\\_pps & sell\\_basis & profit\\_loss & sold\\_cf\\_quan & sold\\_cf\\_pps & sold\\_cf\\_basis & true\\_false\\\\\n",
       "  & <int> & <date> & <chr> & <chr> & <int> & <dbl> & <dbl> & <int> & <lgl> & <int> & ⋯ & <dbl> & <dbl> & <int> & <dbl> & <dbl> & <dbl> & <int> & <dbl> & <dbl> & <lgl>\\\\\n",
       "\\hline\n",
       "\t1 & 1 & 2022-12-31 & Buy & AMC &  100 & 4.070 &  407 & 100 & FALSE & 0 & ⋯ & 4.070 &  407.0 & 100 & 5.5124 &  551.24 &  144.24 & 900 & 5.5124 & 4961.16 &  TRUE\\\\\n",
       "\t3 & 3 & 2023-01-20 & Buy & AMC & 1000 & 5.625 & 5625 & 900 &  TRUE & 0 & ⋯ & 5.625 & 5062.5 & 900 & 5.5124 & 4961.16 & -101.34 & 100 & 5.6250 &  562.50 & FALSE\\\\\n",
       "\\end{tabular}\n"
      ],
      "text/markdown": [
       "\n",
       "A data.frame: 2 × 23\n",
       "\n",
       "| <!--/--> | index &lt;int&gt; | date &lt;date&gt; | type &lt;chr&gt; | co &lt;chr&gt; | quan &lt;int&gt; | pps &lt;dbl&gt; | basis &lt;dbl&gt; | sale_quan &lt;int&gt; | flag &lt;lgl&gt; | buy_cf_quan &lt;int&gt; | ⋯ ⋯ | buy_pps &lt;dbl&gt; | buy_basis &lt;dbl&gt; | sell_quan &lt;int&gt; | sell_pps &lt;dbl&gt; | sell_basis &lt;dbl&gt; | profit_loss &lt;dbl&gt; | sold_cf_quan &lt;int&gt; | sold_cf_pps &lt;dbl&gt; | sold_cf_basis &lt;dbl&gt; | true_false &lt;lgl&gt; |\n",
       "|---|---|---|---|---|---|---|---|---|---|---|---|---|---|---|---|---|---|---|---|---|---|\n",
       "| 1 | 1 | 2022-12-31 | Buy | AMC |  100 | 4.070 |  407 | 100 | FALSE | 0 | ⋯ | 4.070 |  407.0 | 100 | 5.5124 |  551.24 |  144.24 | 900 | 5.5124 | 4961.16 |  TRUE |\n",
       "| 3 | 3 | 2023-01-20 | Buy | AMC | 1000 | 5.625 | 5625 | 900 |  TRUE | 0 | ⋯ | 5.625 | 5062.5 | 900 | 5.5124 | 4961.16 | -101.34 | 100 | 5.6250 |  562.50 | FALSE |\n",
       "\n"
      ],
      "text/plain": [
       "  index date       type co  quan pps   basis sale_quan flag  buy_cf_quan ⋯\n",
       "1 1     2022-12-31 Buy  AMC  100 4.070  407  100       FALSE 0           ⋯\n",
       "3 3     2023-01-20 Buy  AMC 1000 5.625 5625  900        TRUE 0           ⋯\n",
       "  buy_pps buy_basis sell_quan sell_pps sell_basis profit_loss sold_cf_quan\n",
       "1 4.070    407.0    100       5.5124    551.24     144.24     900         \n",
       "3 5.625   5062.5    900       5.5124   4961.16    -101.34     100         \n",
       "  sold_cf_pps sold_cf_basis true_false\n",
       "1 5.5124      4961.16        TRUE     \n",
       "3 5.6250       562.50       FALSE     "
      ]
     },
     "metadata": {},
     "output_type": "display_data"
    }
   ],
   "source": [
    "sale_records"
   ]
  },
  {
   "cell_type": "code",
   "execution_count": null,
   "id": "162f2705-9e66-4fa4-b361-e2acfa0b1335",
   "metadata": {},
   "outputs": [],
   "source": []
  },
  {
   "cell_type": "code",
   "execution_count": 49,
   "id": "c26e5a84-62f6-4962-981a-d689d0547f03",
   "metadata": {},
   "outputs": [
    {
     "data": {
      "text/html": [
       "<style>\n",
       ".list-inline {list-style: none; margin:0; padding: 0}\n",
       ".list-inline>li {display: inline-block}\n",
       ".list-inline>li:not(:last-child)::after {content: \"\\00b7\"; padding: 0 .5ex}\n",
       "</style>\n",
       "<ol class=list-inline><li>21</li><li>23</li></ol>\n"
      ],
      "text/latex": [
       "\\begin{enumerate*}\n",
       "\\item 21\n",
       "\\item 23\n",
       "\\end{enumerate*}\n"
      ],
      "text/markdown": [
       "1. 21\n",
       "2. 23\n",
       "\n",
       "\n"
      ],
      "text/plain": [
       "[1] 21 23"
      ]
     },
     "metadata": {},
     "output_type": "display_data"
    },
    {
     "data": {
      "text/html": [
       "<style>\n",
       ".list-inline {list-style: none; margin:0; padding: 0}\n",
       ".list-inline>li {display: inline-block}\n",
       ".list-inline>li:not(:last-child)::after {content: \"\\00b7\"; padding: 0 .5ex}\n",
       "</style>\n",
       "<ol class=list-inline><li>16</li><li>23</li></ol>\n"
      ],
      "text/latex": [
       "\\begin{enumerate*}\n",
       "\\item 16\n",
       "\\item 23\n",
       "\\end{enumerate*}\n"
      ],
      "text/markdown": [
       "1. 16\n",
       "2. 23\n",
       "\n",
       "\n"
      ],
      "text/plain": [
       "[1] 16 23"
      ]
     },
     "metadata": {},
     "output_type": "display_data"
    },
    {
     "data": {
      "text/html": [
       "<table class=\"dataframe\">\n",
       "<caption>A data.frame: 3 × 23</caption>\n",
       "<thead>\n",
       "\t<tr><th></th><th scope=col>index</th><th scope=col>date</th><th scope=col>type</th><th scope=col>co</th><th scope=col>quan</th><th scope=col>pps</th><th scope=col>basis</th><th scope=col>sale_quan</th><th scope=col>flag</th><th scope=col>buy_cf_quan</th><th scope=col>⋯</th><th scope=col>buy_pps</th><th scope=col>buy_basis</th><th scope=col>sell_quan</th><th scope=col>sell_pps</th><th scope=col>sell_basis</th><th scope=col>profit_loss</th><th scope=col>sold_cf_quan</th><th scope=col>sold_cf_pps</th><th scope=col>sold_cf_basis</th><th scope=col>true_false</th></tr>\n",
       "\t<tr><th></th><th scope=col>&lt;int&gt;</th><th scope=col>&lt;date&gt;</th><th scope=col>&lt;chr&gt;</th><th scope=col>&lt;chr&gt;</th><th scope=col>&lt;int&gt;</th><th scope=col>&lt;dbl&gt;</th><th scope=col>&lt;dbl&gt;</th><th scope=col>&lt;dbl&gt;</th><th scope=col>&lt;lgl&gt;</th><th scope=col>&lt;dbl&gt;</th><th scope=col>⋯</th><th scope=col>&lt;dbl&gt;</th><th scope=col>&lt;dbl&gt;</th><th scope=col>&lt;dbl&gt;</th><th scope=col>&lt;dbl&gt;</th><th scope=col>&lt;dbl&gt;</th><th scope=col>&lt;dbl&gt;</th><th scope=col>&lt;dbl&gt;</th><th scope=col>&lt;dbl&gt;</th><th scope=col>&lt;dbl&gt;</th><th scope=col>&lt;dbl&gt;</th></tr>\n",
       "</thead>\n",
       "<tbody>\n",
       "\t<tr><th scope=row>3</th><td>5</td><td>2023-01-23</td><td>Buy</td><td>AMC</td><td>1000</td><td>5.7880</td><td> 5788.0</td><td>0</td><td>FALSE</td><td>0</td><td>⋯</td><td>0</td><td>0</td><td>0</td><td>0</td><td>0</td><td>0</td><td>0</td><td>0</td><td>0</td><td>0</td></tr>\n",
       "\t<tr><th scope=row>4</th><td>7</td><td>2023-01-27</td><td>Buy</td><td>AMC</td><td>2000</td><td>5.2394</td><td>10478.8</td><td>0</td><td>FALSE</td><td>0</td><td>⋯</td><td>0</td><td>0</td><td>0</td><td>0</td><td>0</td><td>0</td><td>0</td><td>0</td><td>0</td><td>0</td></tr>\n",
       "\t<tr><th scope=row>5</th><td>9</td><td>2023-02-10</td><td>Buy</td><td>AMC</td><td>2000</td><td>4.7450</td><td> 9490.0</td><td>0</td><td>FALSE</td><td>0</td><td>⋯</td><td>0</td><td>0</td><td>0</td><td>0</td><td>0</td><td>0</td><td>0</td><td>0</td><td>0</td><td>0</td></tr>\n",
       "</tbody>\n",
       "</table>\n"
      ],
      "text/latex": [
       "A data.frame: 3 × 23\n",
       "\\begin{tabular}{r|lllllllllllllllllllll}\n",
       "  & index & date & type & co & quan & pps & basis & sale\\_quan & flag & buy\\_cf\\_quan & ⋯ & buy\\_pps & buy\\_basis & sell\\_quan & sell\\_pps & sell\\_basis & profit\\_loss & sold\\_cf\\_quan & sold\\_cf\\_pps & sold\\_cf\\_basis & true\\_false\\\\\n",
       "  & <int> & <date> & <chr> & <chr> & <int> & <dbl> & <dbl> & <dbl> & <lgl> & <dbl> & ⋯ & <dbl> & <dbl> & <dbl> & <dbl> & <dbl> & <dbl> & <dbl> & <dbl> & <dbl> & <dbl>\\\\\n",
       "\\hline\n",
       "\t3 & 5 & 2023-01-23 & Buy & AMC & 1000 & 5.7880 &  5788.0 & 0 & FALSE & 0 & ⋯ & 0 & 0 & 0 & 0 & 0 & 0 & 0 & 0 & 0 & 0\\\\\n",
       "\t4 & 7 & 2023-01-27 & Buy & AMC & 2000 & 5.2394 & 10478.8 & 0 & FALSE & 0 & ⋯ & 0 & 0 & 0 & 0 & 0 & 0 & 0 & 0 & 0 & 0\\\\\n",
       "\t5 & 9 & 2023-02-10 & Buy & AMC & 2000 & 4.7450 &  9490.0 & 0 & FALSE & 0 & ⋯ & 0 & 0 & 0 & 0 & 0 & 0 & 0 & 0 & 0 & 0\\\\\n",
       "\\end{tabular}\n"
      ],
      "text/markdown": [
       "\n",
       "A data.frame: 3 × 23\n",
       "\n",
       "| <!--/--> | index &lt;int&gt; | date &lt;date&gt; | type &lt;chr&gt; | co &lt;chr&gt; | quan &lt;int&gt; | pps &lt;dbl&gt; | basis &lt;dbl&gt; | sale_quan &lt;dbl&gt; | flag &lt;lgl&gt; | buy_cf_quan &lt;dbl&gt; | ⋯ ⋯ | buy_pps &lt;dbl&gt; | buy_basis &lt;dbl&gt; | sell_quan &lt;dbl&gt; | sell_pps &lt;dbl&gt; | sell_basis &lt;dbl&gt; | profit_loss &lt;dbl&gt; | sold_cf_quan &lt;dbl&gt; | sold_cf_pps &lt;dbl&gt; | sold_cf_basis &lt;dbl&gt; | true_false &lt;dbl&gt; |\n",
       "|---|---|---|---|---|---|---|---|---|---|---|---|---|---|---|---|---|---|---|---|---|---|\n",
       "| 3 | 5 | 2023-01-23 | Buy | AMC | 1000 | 5.7880 |  5788.0 | 0 | FALSE | 0 | ⋯ | 0 | 0 | 0 | 0 | 0 | 0 | 0 | 0 | 0 | 0 |\n",
       "| 4 | 7 | 2023-01-27 | Buy | AMC | 2000 | 5.2394 | 10478.8 | 0 | FALSE | 0 | ⋯ | 0 | 0 | 0 | 0 | 0 | 0 | 0 | 0 | 0 | 0 |\n",
       "| 5 | 9 | 2023-02-10 | Buy | AMC | 2000 | 4.7450 |  9490.0 | 0 | FALSE | 0 | ⋯ | 0 | 0 | 0 | 0 | 0 | 0 | 0 | 0 | 0 | 0 |\n",
       "\n"
      ],
      "text/plain": [
       "  index date       type co  quan pps    basis   sale_quan flag  buy_cf_quan ⋯\n",
       "3 5     2023-01-23 Buy  AMC 1000 5.7880  5788.0 0         FALSE 0           ⋯\n",
       "4 7     2023-01-27 Buy  AMC 2000 5.2394 10478.8 0         FALSE 0           ⋯\n",
       "5 9     2023-02-10 Buy  AMC 2000 4.7450  9490.0 0         FALSE 0           ⋯\n",
       "  buy_pps buy_basis sell_quan sell_pps sell_basis profit_loss sold_cf_quan\n",
       "3 0       0         0         0        0          0           0           \n",
       "4 0       0         0         0        0          0           0           \n",
       "5 0       0         0         0        0          0           0           \n",
       "  sold_cf_pps sold_cf_basis true_false\n",
       "3 0           0             0         \n",
       "4 0           0             0         \n",
       "5 0           0             0         "
      ]
     },
     "metadata": {},
     "output_type": "display_data"
    },
    {
     "data": {
      "text/html": [
       "<table class=\"dataframe\">\n",
       "<caption>A data.frame: 3 × 23</caption>\n",
       "<thead>\n",
       "\t<tr><th></th><th scope=col>index</th><th scope=col>date</th><th scope=col>type</th><th scope=col>co</th><th scope=col>quan</th><th scope=col>pps</th><th scope=col>basis</th><th scope=col>sale_quan</th><th scope=col>flag</th><th scope=col>buy_cf_quan</th><th scope=col>⋯</th><th scope=col>buy_pps</th><th scope=col>buy_basis</th><th scope=col>sell_quan</th><th scope=col>sell_pps</th><th scope=col>sell_basis</th><th scope=col>profit_loss</th><th scope=col>sold_cf_quan</th><th scope=col>sold_cf_pps</th><th scope=col>sold_cf_basis</th><th scope=col>true_false</th></tr>\n",
       "\t<tr><th></th><th scope=col>&lt;int&gt;</th><th scope=col>&lt;date&gt;</th><th scope=col>&lt;chr&gt;</th><th scope=col>&lt;chr&gt;</th><th scope=col>&lt;int&gt;</th><th scope=col>&lt;dbl&gt;</th><th scope=col>&lt;dbl&gt;</th><th scope=col>&lt;dbl&gt;</th><th scope=col>&lt;lgl&gt;</th><th scope=col>&lt;dbl&gt;</th><th scope=col>⋯</th><th scope=col>&lt;dbl&gt;</th><th scope=col>&lt;dbl&gt;</th><th scope=col>&lt;dbl&gt;</th><th scope=col>&lt;dbl&gt;</th><th scope=col>&lt;dbl&gt;</th><th scope=col>&lt;dbl&gt;</th><th scope=col>&lt;dbl&gt;</th><th scope=col>&lt;dbl&gt;</th><th scope=col>&lt;dbl&gt;</th><th scope=col>&lt;dbl&gt;</th></tr>\n",
       "</thead>\n",
       "<tbody>\n",
       "\t<tr><th scope=row>4</th><td> 6</td><td>2023-02-03</td><td>Sell</td><td>AMC</td><td>1000</td><td>6.2550</td><td> 6255.0</td><td>0</td><td>FALSE</td><td>0</td><td>⋯</td><td>0</td><td>0</td><td>0</td><td>0</td><td>0</td><td>0</td><td>0</td><td>0</td><td>0</td><td>0</td></tr>\n",
       "\t<tr><th scope=row>5</th><td> 8</td><td>2023-02-03</td><td>Sell</td><td>AMC</td><td>1000</td><td>6.1901</td><td> 6190.1</td><td>0</td><td>FALSE</td><td>0</td><td>⋯</td><td>0</td><td>0</td><td>0</td><td>0</td><td>0</td><td>0</td><td>0</td><td>0</td><td>0</td><td>0</td></tr>\n",
       "\t<tr><th scope=row>6</th><td>10</td><td>2023-02-21</td><td>Sell</td><td>AMC</td><td>3000</td><td>5.8550</td><td>17565.0</td><td>0</td><td>FALSE</td><td>0</td><td>⋯</td><td>0</td><td>0</td><td>0</td><td>0</td><td>0</td><td>0</td><td>0</td><td>0</td><td>0</td><td>0</td></tr>\n",
       "</tbody>\n",
       "</table>\n"
      ],
      "text/latex": [
       "A data.frame: 3 × 23\n",
       "\\begin{tabular}{r|lllllllllllllllllllll}\n",
       "  & index & date & type & co & quan & pps & basis & sale\\_quan & flag & buy\\_cf\\_quan & ⋯ & buy\\_pps & buy\\_basis & sell\\_quan & sell\\_pps & sell\\_basis & profit\\_loss & sold\\_cf\\_quan & sold\\_cf\\_pps & sold\\_cf\\_basis & true\\_false\\\\\n",
       "  & <int> & <date> & <chr> & <chr> & <int> & <dbl> & <dbl> & <dbl> & <lgl> & <dbl> & ⋯ & <dbl> & <dbl> & <dbl> & <dbl> & <dbl> & <dbl> & <dbl> & <dbl> & <dbl> & <dbl>\\\\\n",
       "\\hline\n",
       "\t4 &  6 & 2023-02-03 & Sell & AMC & 1000 & 6.2550 &  6255.0 & 0 & FALSE & 0 & ⋯ & 0 & 0 & 0 & 0 & 0 & 0 & 0 & 0 & 0 & 0\\\\\n",
       "\t5 &  8 & 2023-02-03 & Sell & AMC & 1000 & 6.1901 &  6190.1 & 0 & FALSE & 0 & ⋯ & 0 & 0 & 0 & 0 & 0 & 0 & 0 & 0 & 0 & 0\\\\\n",
       "\t6 & 10 & 2023-02-21 & Sell & AMC & 3000 & 5.8550 & 17565.0 & 0 & FALSE & 0 & ⋯ & 0 & 0 & 0 & 0 & 0 & 0 & 0 & 0 & 0 & 0\\\\\n",
       "\\end{tabular}\n"
      ],
      "text/markdown": [
       "\n",
       "A data.frame: 3 × 23\n",
       "\n",
       "| <!--/--> | index &lt;int&gt; | date &lt;date&gt; | type &lt;chr&gt; | co &lt;chr&gt; | quan &lt;int&gt; | pps &lt;dbl&gt; | basis &lt;dbl&gt; | sale_quan &lt;dbl&gt; | flag &lt;lgl&gt; | buy_cf_quan &lt;dbl&gt; | ⋯ ⋯ | buy_pps &lt;dbl&gt; | buy_basis &lt;dbl&gt; | sell_quan &lt;dbl&gt; | sell_pps &lt;dbl&gt; | sell_basis &lt;dbl&gt; | profit_loss &lt;dbl&gt; | sold_cf_quan &lt;dbl&gt; | sold_cf_pps &lt;dbl&gt; | sold_cf_basis &lt;dbl&gt; | true_false &lt;dbl&gt; |\n",
       "|---|---|---|---|---|---|---|---|---|---|---|---|---|---|---|---|---|---|---|---|---|---|\n",
       "| 4 |  6 | 2023-02-03 | Sell | AMC | 1000 | 6.2550 |  6255.0 | 0 | FALSE | 0 | ⋯ | 0 | 0 | 0 | 0 | 0 | 0 | 0 | 0 | 0 | 0 |\n",
       "| 5 |  8 | 2023-02-03 | Sell | AMC | 1000 | 6.1901 |  6190.1 | 0 | FALSE | 0 | ⋯ | 0 | 0 | 0 | 0 | 0 | 0 | 0 | 0 | 0 | 0 |\n",
       "| 6 | 10 | 2023-02-21 | Sell | AMC | 3000 | 5.8550 | 17565.0 | 0 | FALSE | 0 | ⋯ | 0 | 0 | 0 | 0 | 0 | 0 | 0 | 0 | 0 | 0 |\n",
       "\n"
      ],
      "text/plain": [
       "  index date       type co  quan pps    basis   sale_quan flag  buy_cf_quan ⋯\n",
       "4  6    2023-02-03 Sell AMC 1000 6.2550  6255.0 0         FALSE 0           ⋯\n",
       "5  8    2023-02-03 Sell AMC 1000 6.1901  6190.1 0         FALSE 0           ⋯\n",
       "6 10    2023-02-21 Sell AMC 3000 5.8550 17565.0 0         FALSE 0           ⋯\n",
       "  buy_pps buy_basis sell_quan sell_pps sell_basis profit_loss sold_cf_quan\n",
       "4 0       0         0         0        0          0           0           \n",
       "5 0       0         0         0        0          0           0           \n",
       "6 0       0         0         0        0          0           0           \n",
       "  sold_cf_pps sold_cf_basis true_false\n",
       "4 0           0             0         \n",
       "5 0           0             0         \n",
       "6 0           0             0         "
      ]
     },
     "metadata": {},
     "output_type": "display_data"
    }
   ],
   "source": [
    "dim(buys)\n",
    "dim(sells)\n",
    "head(buys,3)\n",
    "head(sells,3)"
   ]
  },
  {
   "cell_type": "code",
   "execution_count": null,
   "id": "edb18a10-b76e-4a41-ab71-f4e2efc8e93e",
   "metadata": {},
   "outputs": [],
   "source": []
  },
  {
   "cell_type": "markdown",
   "id": "6bf6c5b7-fe70-409d-aaba-94782388a3a0",
   "metadata": {},
   "source": [
    "### The sale_record is correct for buy c/f in the second loop\n",
    "\n",
    "### the idea is for the second loop to only process the sale of 50 when buy cf exist, t/f \n",
    "\n",
    "###  at the end of loop two, the buys should be showing the next loop is ready for 1000 (next buys)\n",
    "\n",
    "### and the sells s/b showing 950"
   ]
  },
  {
   "cell_type": "code",
   "execution_count": 50,
   "id": "9f3e5b39-4c41-4948-b7cb-aae25b51ba89",
   "metadata": {},
   "outputs": [
    {
     "ename": "ERROR",
     "evalue": "Error in eval(expr, envir, enclos): object 'stopps' not found\n",
     "output_type": "error",
     "traceback": [
      "Error in eval(expr, envir, enclos): object 'stopps' not found\nTraceback:\n"
     ]
    }
   ],
   "source": [
    "stopps"
   ]
  },
  {
   "cell_type": "code",
   "execution_count": null,
   "id": "9799ba85-5f9f-434a-83eb-1b0621f0fd12",
   "metadata": {},
   "outputs": [],
   "source": []
  },
  {
   "cell_type": "markdown",
   "id": "6b5dd27c-8fd8-4c1a-85a7-d5c641d579dd",
   "metadata": {},
   "source": [
    "#### <font color = lime> QC: review buys-sells for updated carryforward\n",
    "    \n",
    "#### When c/f exists, that c/f (type) must be inserted into the next row of either buys or sells"
   ]
  },
  {
   "cell_type": "code",
   "execution_count": null,
   "id": "8b0ff2e0-d906-411e-9e2c-04d4ec2dbdbc",
   "metadata": {},
   "outputs": [],
   "source": []
  },
  {
   "cell_type": "code",
   "execution_count": null,
   "id": "9e026000-05d8-4e8d-8775-3bd049bfd287",
   "metadata": {},
   "outputs": [],
   "source": []
  },
  {
   "cell_type": "code",
   "execution_count": null,
   "id": "427616b1-b244-481e-913b-9ef9af1d7933",
   "metadata": {},
   "outputs": [],
   "source": []
  }
 ],
 "metadata": {
  "kernelspec": {
   "display_name": "R",
   "language": "R",
   "name": "ir"
  },
  "language_info": {
   "codemirror_mode": "r",
   "file_extension": ".r",
   "mimetype": "text/x-r-source",
   "name": "R",
   "pygments_lexer": "r",
   "version": "4.3.0"
  }
 },
 "nbformat": 4,
 "nbformat_minor": 5
}
