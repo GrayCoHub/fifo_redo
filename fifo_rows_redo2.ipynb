{
 "cells": [
  {
   "cell_type": "markdown",
   "id": "8a4f934a-bc5d-4389-8931-fa890b8b83b6",
   "metadata": {},
   "source": [
    "### <font color = yellow> This is a clean copy of fifo_rows_redo.ipynb at creation point"
   ]
  },
  {
   "cell_type": "code",
   "execution_count": null,
   "id": "95cbb875-6b9c-4a01-bf64-3197b32a7fd7",
   "metadata": {},
   "outputs": [],
   "source": []
  },
  {
   "cell_type": "code",
   "execution_count": 1,
   "id": "1a40d688-bd55-4df2-be07-c685b667921e",
   "metadata": {},
   "outputs": [],
   "source": [
    "library(tibble)"
   ]
  },
  {
   "cell_type": "code",
   "execution_count": 2,
   "id": "2c80d5a2-6093-4214-8997-320bba4a3ee0",
   "metadata": {},
   "outputs": [
    {
     "name": "stdout",
     "output_type": "stream",
     "text": [
      "One | Two | Three\n"
     ]
    }
   ],
   "source": [
    "cat(\"One\", \"Two\", \"Three\", sep = \" | \", fill = TRUE)"
   ]
  },
  {
   "cell_type": "code",
   "execution_count": null,
   "id": "b43ec630-440e-4d08-8a35-7ed746140572",
   "metadata": {},
   "outputs": [],
   "source": []
  },
  {
   "cell_type": "code",
   "execution_count": 3,
   "id": "688be791-4012-4380-9bd0-e831c4aa6d77",
   "metadata": {},
   "outputs": [],
   "source": [
    "options(pillar.width = Inf)\n"
   ]
  },
  {
   "cell_type": "markdown",
   "id": "18bdfbd9-160f-4efc-b792-3f83ccd72b58",
   "metadata": {},
   "source": [
    "## <font color = yellow> create_df function () - reads .csv"
   ]
  },
  {
   "cell_type": "code",
   "execution_count": 4,
   "id": "51840835-30c6-4641-bdaa-649d2fd9a34c",
   "metadata": {},
   "outputs": [],
   "source": [
    "   \n",
    "df <- read.csv(\"fifo_new.csv\", header = TRUE, sep = \",\")\n",
    "df$date <- as.Date(df$date, origin = \"1899-12-30\")"
   ]
  },
  {
   "cell_type": "code",
   "execution_count": 5,
   "id": "5a314ebe-1db3-4cbb-a923-f7978130ee34",
   "metadata": {},
   "outputs": [
    {
     "data": {
      "text/html": [
       "<table class=\"dataframe\">\n",
       "<caption>A data.frame: 2 × 23</caption>\n",
       "<thead>\n",
       "\t<tr><th></th><th scope=col>index</th><th scope=col>date</th><th scope=col>type</th><th scope=col>co</th><th scope=col>quan</th><th scope=col>pps</th><th scope=col>basis</th><th scope=col>sale_quan</th><th scope=col>flag</th><th scope=col>buy_cf_quan</th><th scope=col>⋯</th><th scope=col>buy_pps</th><th scope=col>buy_basis</th><th scope=col>sell_quan</th><th scope=col>sell_pps</th><th scope=col>sell_basis</th><th scope=col>profit_loss</th><th scope=col>sold_cf_quan</th><th scope=col>sold_cf_pps</th><th scope=col>sold_cf_basis</th><th scope=col>true_false</th></tr>\n",
       "\t<tr><th></th><th scope=col>&lt;int&gt;</th><th scope=col>&lt;date&gt;</th><th scope=col>&lt;chr&gt;</th><th scope=col>&lt;chr&gt;</th><th scope=col>&lt;int&gt;</th><th scope=col>&lt;dbl&gt;</th><th scope=col>&lt;dbl&gt;</th><th scope=col>&lt;int&gt;</th><th scope=col>&lt;int&gt;</th><th scope=col>&lt;int&gt;</th><th scope=col>⋯</th><th scope=col>&lt;dbl&gt;</th><th scope=col>&lt;dbl&gt;</th><th scope=col>&lt;int&gt;</th><th scope=col>&lt;dbl&gt;</th><th scope=col>&lt;dbl&gt;</th><th scope=col>&lt;dbl&gt;</th><th scope=col>&lt;int&gt;</th><th scope=col>&lt;dbl&gt;</th><th scope=col>&lt;dbl&gt;</th><th scope=col>&lt;int&gt;</th></tr>\n",
       "</thead>\n",
       "<tbody>\n",
       "\t<tr><th scope=row>1</th><td>1</td><td>2022-12-31</td><td>Buy </td><td>AMC</td><td> 100</td><td>4.0700</td><td>4273.5</td><td>0</td><td>0</td><td>0</td><td>⋯</td><td>0</td><td>0</td><td>0</td><td>0</td><td>0</td><td>0</td><td>0</td><td>0</td><td>0</td><td>0</td></tr>\n",
       "\t<tr><th scope=row>2</th><td>2</td><td>2023-01-27</td><td>Sell</td><td>AMC</td><td>1000</td><td>5.5124</td><td>5512.4</td><td>0</td><td>0</td><td>0</td><td>⋯</td><td>0</td><td>0</td><td>0</td><td>0</td><td>0</td><td>0</td><td>0</td><td>0</td><td>0</td><td>0</td></tr>\n",
       "</tbody>\n",
       "</table>\n"
      ],
      "text/latex": [
       "A data.frame: 2 × 23\n",
       "\\begin{tabular}{r|lllllllllllllllllllll}\n",
       "  & index & date & type & co & quan & pps & basis & sale\\_quan & flag & buy\\_cf\\_quan & ⋯ & buy\\_pps & buy\\_basis & sell\\_quan & sell\\_pps & sell\\_basis & profit\\_loss & sold\\_cf\\_quan & sold\\_cf\\_pps & sold\\_cf\\_basis & true\\_false\\\\\n",
       "  & <int> & <date> & <chr> & <chr> & <int> & <dbl> & <dbl> & <int> & <int> & <int> & ⋯ & <dbl> & <dbl> & <int> & <dbl> & <dbl> & <dbl> & <int> & <dbl> & <dbl> & <int>\\\\\n",
       "\\hline\n",
       "\t1 & 1 & 2022-12-31 & Buy  & AMC &  100 & 4.0700 & 4273.5 & 0 & 0 & 0 & ⋯ & 0 & 0 & 0 & 0 & 0 & 0 & 0 & 0 & 0 & 0\\\\\n",
       "\t2 & 2 & 2023-01-27 & Sell & AMC & 1000 & 5.5124 & 5512.4 & 0 & 0 & 0 & ⋯ & 0 & 0 & 0 & 0 & 0 & 0 & 0 & 0 & 0 & 0\\\\\n",
       "\\end{tabular}\n"
      ],
      "text/markdown": [
       "\n",
       "A data.frame: 2 × 23\n",
       "\n",
       "| <!--/--> | index &lt;int&gt; | date &lt;date&gt; | type &lt;chr&gt; | co &lt;chr&gt; | quan &lt;int&gt; | pps &lt;dbl&gt; | basis &lt;dbl&gt; | sale_quan &lt;int&gt; | flag &lt;int&gt; | buy_cf_quan &lt;int&gt; | ⋯ ⋯ | buy_pps &lt;dbl&gt; | buy_basis &lt;dbl&gt; | sell_quan &lt;int&gt; | sell_pps &lt;dbl&gt; | sell_basis &lt;dbl&gt; | profit_loss &lt;dbl&gt; | sold_cf_quan &lt;int&gt; | sold_cf_pps &lt;dbl&gt; | sold_cf_basis &lt;dbl&gt; | true_false &lt;int&gt; |\n",
       "|---|---|---|---|---|---|---|---|---|---|---|---|---|---|---|---|---|---|---|---|---|---|\n",
       "| 1 | 1 | 2022-12-31 | Buy  | AMC |  100 | 4.0700 | 4273.5 | 0 | 0 | 0 | ⋯ | 0 | 0 | 0 | 0 | 0 | 0 | 0 | 0 | 0 | 0 |\n",
       "| 2 | 2 | 2023-01-27 | Sell | AMC | 1000 | 5.5124 | 5512.4 | 0 | 0 | 0 | ⋯ | 0 | 0 | 0 | 0 | 0 | 0 | 0 | 0 | 0 | 0 |\n",
       "\n"
      ],
      "text/plain": [
       "  index date       type co  quan pps    basis  sale_quan flag buy_cf_quan ⋯\n",
       "1 1     2022-12-31 Buy  AMC  100 4.0700 4273.5 0         0    0           ⋯\n",
       "2 2     2023-01-27 Sell AMC 1000 5.5124 5512.4 0         0    0           ⋯\n",
       "  buy_pps buy_basis sell_quan sell_pps sell_basis profit_loss sold_cf_quan\n",
       "1 0       0         0         0        0          0           0           \n",
       "2 0       0         0         0        0          0           0           \n",
       "  sold_cf_pps sold_cf_basis true_false\n",
       "1 0           0             0         \n",
       "2 0           0             0         "
      ]
     },
     "metadata": {},
     "output_type": "display_data"
    }
   ],
   "source": [
    "head(df,2)"
   ]
  },
  {
   "cell_type": "code",
   "execution_count": 6,
   "id": "2ec1d402-7bf9-4ec5-8209-ec0c023622f4",
   "metadata": {},
   "outputs": [],
   "source": [
    "df$flag <- FALSE\n",
    "df$true_false <- FALSE\n"
   ]
  },
  {
   "cell_type": "code",
   "execution_count": 7,
   "id": "4c25354d-5db4-4eda-bf18-fe106bfd67ee",
   "metadata": {
    "tags": []
   },
   "outputs": [
    {
     "data": {
      "text/html": [
       "<table class=\"dataframe\">\n",
       "<caption>A data.frame: 2 × 23</caption>\n",
       "<thead>\n",
       "\t<tr><th></th><th scope=col>index</th><th scope=col>date</th><th scope=col>type</th><th scope=col>co</th><th scope=col>quan</th><th scope=col>pps</th><th scope=col>basis</th><th scope=col>sale_quan</th><th scope=col>flag</th><th scope=col>buy_cf_quan</th><th scope=col>⋯</th><th scope=col>buy_pps</th><th scope=col>buy_basis</th><th scope=col>sell_quan</th><th scope=col>sell_pps</th><th scope=col>sell_basis</th><th scope=col>profit_loss</th><th scope=col>sold_cf_quan</th><th scope=col>sold_cf_pps</th><th scope=col>sold_cf_basis</th><th scope=col>true_false</th></tr>\n",
       "\t<tr><th></th><th scope=col>&lt;int&gt;</th><th scope=col>&lt;date&gt;</th><th scope=col>&lt;chr&gt;</th><th scope=col>&lt;chr&gt;</th><th scope=col>&lt;int&gt;</th><th scope=col>&lt;dbl&gt;</th><th scope=col>&lt;dbl&gt;</th><th scope=col>&lt;int&gt;</th><th scope=col>&lt;lgl&gt;</th><th scope=col>&lt;int&gt;</th><th scope=col>⋯</th><th scope=col>&lt;dbl&gt;</th><th scope=col>&lt;dbl&gt;</th><th scope=col>&lt;int&gt;</th><th scope=col>&lt;dbl&gt;</th><th scope=col>&lt;dbl&gt;</th><th scope=col>&lt;dbl&gt;</th><th scope=col>&lt;int&gt;</th><th scope=col>&lt;dbl&gt;</th><th scope=col>&lt;dbl&gt;</th><th scope=col>&lt;lgl&gt;</th></tr>\n",
       "</thead>\n",
       "<tbody>\n",
       "\t<tr><th scope=row>1</th><td>1</td><td>2022-12-31</td><td>Buy </td><td>AMC</td><td> 100</td><td>4.0700</td><td>4273.5</td><td>0</td><td>FALSE</td><td>0</td><td>⋯</td><td>0</td><td>0</td><td>0</td><td>0</td><td>0</td><td>0</td><td>0</td><td>0</td><td>0</td><td>FALSE</td></tr>\n",
       "\t<tr><th scope=row>2</th><td>2</td><td>2023-01-27</td><td>Sell</td><td>AMC</td><td>1000</td><td>5.5124</td><td>5512.4</td><td>0</td><td>FALSE</td><td>0</td><td>⋯</td><td>0</td><td>0</td><td>0</td><td>0</td><td>0</td><td>0</td><td>0</td><td>0</td><td>0</td><td>FALSE</td></tr>\n",
       "</tbody>\n",
       "</table>\n"
      ],
      "text/latex": [
       "A data.frame: 2 × 23\n",
       "\\begin{tabular}{r|lllllllllllllllllllll}\n",
       "  & index & date & type & co & quan & pps & basis & sale\\_quan & flag & buy\\_cf\\_quan & ⋯ & buy\\_pps & buy\\_basis & sell\\_quan & sell\\_pps & sell\\_basis & profit\\_loss & sold\\_cf\\_quan & sold\\_cf\\_pps & sold\\_cf\\_basis & true\\_false\\\\\n",
       "  & <int> & <date> & <chr> & <chr> & <int> & <dbl> & <dbl> & <int> & <lgl> & <int> & ⋯ & <dbl> & <dbl> & <int> & <dbl> & <dbl> & <dbl> & <int> & <dbl> & <dbl> & <lgl>\\\\\n",
       "\\hline\n",
       "\t1 & 1 & 2022-12-31 & Buy  & AMC &  100 & 4.0700 & 4273.5 & 0 & FALSE & 0 & ⋯ & 0 & 0 & 0 & 0 & 0 & 0 & 0 & 0 & 0 & FALSE\\\\\n",
       "\t2 & 2 & 2023-01-27 & Sell & AMC & 1000 & 5.5124 & 5512.4 & 0 & FALSE & 0 & ⋯ & 0 & 0 & 0 & 0 & 0 & 0 & 0 & 0 & 0 & FALSE\\\\\n",
       "\\end{tabular}\n"
      ],
      "text/markdown": [
       "\n",
       "A data.frame: 2 × 23\n",
       "\n",
       "| <!--/--> | index &lt;int&gt; | date &lt;date&gt; | type &lt;chr&gt; | co &lt;chr&gt; | quan &lt;int&gt; | pps &lt;dbl&gt; | basis &lt;dbl&gt; | sale_quan &lt;int&gt; | flag &lt;lgl&gt; | buy_cf_quan &lt;int&gt; | ⋯ ⋯ | buy_pps &lt;dbl&gt; | buy_basis &lt;dbl&gt; | sell_quan &lt;int&gt; | sell_pps &lt;dbl&gt; | sell_basis &lt;dbl&gt; | profit_loss &lt;dbl&gt; | sold_cf_quan &lt;int&gt; | sold_cf_pps &lt;dbl&gt; | sold_cf_basis &lt;dbl&gt; | true_false &lt;lgl&gt; |\n",
       "|---|---|---|---|---|---|---|---|---|---|---|---|---|---|---|---|---|---|---|---|---|---|\n",
       "| 1 | 1 | 2022-12-31 | Buy  | AMC |  100 | 4.0700 | 4273.5 | 0 | FALSE | 0 | ⋯ | 0 | 0 | 0 | 0 | 0 | 0 | 0 | 0 | 0 | FALSE |\n",
       "| 2 | 2 | 2023-01-27 | Sell | AMC | 1000 | 5.5124 | 5512.4 | 0 | FALSE | 0 | ⋯ | 0 | 0 | 0 | 0 | 0 | 0 | 0 | 0 | 0 | FALSE |\n",
       "\n"
      ],
      "text/plain": [
       "  index date       type co  quan pps    basis  sale_quan flag  buy_cf_quan ⋯\n",
       "1 1     2022-12-31 Buy  AMC  100 4.0700 4273.5 0         FALSE 0           ⋯\n",
       "2 2     2023-01-27 Sell AMC 1000 5.5124 5512.4 0         FALSE 0           ⋯\n",
       "  buy_pps buy_basis sell_quan sell_pps sell_basis profit_loss sold_cf_quan\n",
       "1 0       0         0         0        0          0           0           \n",
       "2 0       0         0         0        0          0           0           \n",
       "  sold_cf_pps sold_cf_basis true_false\n",
       "1 0           0             FALSE     \n",
       "2 0           0             FALSE     "
      ]
     },
     "metadata": {},
     "output_type": "display_data"
    }
   ],
   "source": [
    "head(df, 2)"
   ]
  },
  {
   "cell_type": "markdown",
   "id": "ad6fef1e-5fa2-4f99-8d77-c5706407dfde",
   "metadata": {},
   "source": [
    "## <font color = yellow>1. Create data & dfs"
   ]
  },
  {
   "cell_type": "code",
   "execution_count": 8,
   "id": "105641ba-51ef-4815-9840-faa128ad81b9",
   "metadata": {
    "tags": []
   },
   "outputs": [],
   "source": [
    "create_data <- function () {   \n",
    "   \n",
    "    df <- read.csv(\"fifo_new.csv\", header = TRUE, sep = \",\")\n",
    "    df$date <- as.Date(df$date, origin = \"1899-12-30\")\n",
    " \n",
    "    df$flag <- FALSE\n",
    "    df$true_false <- FALSE\n",
    "    \n",
    "    sale_records <- data.frame() \n",
    "\n",
    "    # create dfs from filtered df\n",
    "    buys <- df[df$type == 'Buy', ]  # Filter buys\n",
    "    sells <- df[df$type == 'Sell', ]  # Filter sells\n",
    "    b <- buys[1,]\n",
    "    s <- sells[1,]\n",
    "    \n",
    "    \n",
    "    # Assign variables to the global environment\n",
    "    assign(\"df\", df, envir = .GlobalEnv)\n",
    "    assign(\"buys\", buys, envir = .GlobalEnv)\n",
    "    assign(\"sells\", sells, envir = .GlobalEnv)\n",
    "    assign(\"b\", b, envir = .GlobalEnv)\n",
    "    assign(\"s\", s, envir = .GlobalEnv)\n",
    "    \n",
    "    }\n",
    "\n",
    "create_data()\n"
   ]
  },
  {
   "cell_type": "code",
   "execution_count": 9,
   "id": "dac210bc-b2a1-47f7-a378-811d8a6122d5",
   "metadata": {},
   "outputs": [
    {
     "data": {
      "text/html": [
       "<style>\n",
       ".list-inline {list-style: none; margin:0; padding: 0}\n",
       ".list-inline>li {display: inline-block}\n",
       ".list-inline>li:not(:last-child)::after {content: \"\\00b7\"; padding: 0 .5ex}\n",
       "</style>\n",
       "<ol class=list-inline><li>41</li><li>23</li></ol>\n"
      ],
      "text/latex": [
       "\\begin{enumerate*}\n",
       "\\item 41\n",
       "\\item 23\n",
       "\\end{enumerate*}\n"
      ],
      "text/markdown": [
       "1. 41\n",
       "2. 23\n",
       "\n",
       "\n"
      ],
      "text/plain": [
       "[1] 41 23"
      ]
     },
     "metadata": {},
     "output_type": "display_data"
    }
   ],
   "source": [
    "dim(df)\n"
   ]
  },
  {
   "cell_type": "code",
   "execution_count": 10,
   "id": "ca83265f-1bf6-45a0-b31e-0894e4361de8",
   "metadata": {},
   "outputs": [],
   "source": [
    "sale_records <- data.frame()"
   ]
  },
  {
   "cell_type": "markdown",
   "id": "72333e7b-7971-4afa-9494-ad26116963ab",
   "metadata": {},
   "source": [
    "## <font color = lime> Examining data and dfs"
   ]
  },
  {
   "cell_type": "code",
   "execution_count": null,
   "id": "fd062d61-00f0-423e-af2f-58298aa04f5e",
   "metadata": {},
   "outputs": [],
   "source": []
  },
  {
   "cell_type": "code",
   "execution_count": 11,
   "id": "5a58d2a1-bd12-489a-9ce3-48e1a5ba6dda",
   "metadata": {},
   "outputs": [
    {
     "data": {
      "text/html": [
       "23"
      ],
      "text/latex": [
       "23"
      ],
      "text/markdown": [
       "23"
      ],
      "text/plain": [
       "[1] 23"
      ]
     },
     "metadata": {},
     "output_type": "display_data"
    },
    {
     "data": {
      "text/html": [
       "18"
      ],
      "text/latex": [
       "18"
      ],
      "text/markdown": [
       "18"
      ],
      "text/plain": [
       "[1] 18"
      ]
     },
     "metadata": {},
     "output_type": "display_data"
    },
    {
     "data": {
      "text/html": [
       "<style>\n",
       ".list-inline {list-style: none; margin:0; padding: 0}\n",
       ".list-inline>li {display: inline-block}\n",
       ".list-inline>li:not(:last-child)::after {content: \"\\00b7\"; padding: 0 .5ex}\n",
       "</style>\n",
       "<ol class=list-inline><li>18</li><li>23</li></ol>\n"
      ],
      "text/latex": [
       "\\begin{enumerate*}\n",
       "\\item 18\n",
       "\\item 23\n",
       "\\end{enumerate*}\n"
      ],
      "text/markdown": [
       "1. 18\n",
       "2. 23\n",
       "\n",
       "\n"
      ],
      "text/plain": [
       "[1] 18 23"
      ]
     },
     "metadata": {},
     "output_type": "display_data"
    },
    {
     "data": {
      "text/html": [
       "<table class=\"dataframe\">\n",
       "<caption>A data.frame: 3 × 23</caption>\n",
       "<thead>\n",
       "\t<tr><th></th><th scope=col>index</th><th scope=col>date</th><th scope=col>type</th><th scope=col>co</th><th scope=col>quan</th><th scope=col>pps</th><th scope=col>basis</th><th scope=col>sale_quan</th><th scope=col>flag</th><th scope=col>buy_cf_quan</th><th scope=col>⋯</th><th scope=col>buy_pps</th><th scope=col>buy_basis</th><th scope=col>sell_quan</th><th scope=col>sell_pps</th><th scope=col>sell_basis</th><th scope=col>profit_loss</th><th scope=col>sold_cf_quan</th><th scope=col>sold_cf_pps</th><th scope=col>sold_cf_basis</th><th scope=col>true_false</th></tr>\n",
       "\t<tr><th></th><th scope=col>&lt;int&gt;</th><th scope=col>&lt;date&gt;</th><th scope=col>&lt;chr&gt;</th><th scope=col>&lt;chr&gt;</th><th scope=col>&lt;int&gt;</th><th scope=col>&lt;dbl&gt;</th><th scope=col>&lt;dbl&gt;</th><th scope=col>&lt;int&gt;</th><th scope=col>&lt;lgl&gt;</th><th scope=col>&lt;int&gt;</th><th scope=col>⋯</th><th scope=col>&lt;dbl&gt;</th><th scope=col>&lt;dbl&gt;</th><th scope=col>&lt;int&gt;</th><th scope=col>&lt;dbl&gt;</th><th scope=col>&lt;dbl&gt;</th><th scope=col>&lt;dbl&gt;</th><th scope=col>&lt;int&gt;</th><th scope=col>&lt;dbl&gt;</th><th scope=col>&lt;dbl&gt;</th><th scope=col>&lt;lgl&gt;</th></tr>\n",
       "</thead>\n",
       "<tbody>\n",
       "\t<tr><th scope=row>1</th><td>1</td><td>2022-12-31</td><td>Buy</td><td>AMC</td><td> 100</td><td>4.070</td><td>4273.5</td><td>0</td><td>FALSE</td><td>0</td><td>⋯</td><td>0</td><td>0</td><td>0</td><td>0</td><td>0</td><td>0</td><td>0</td><td>0</td><td>0</td><td>FALSE</td></tr>\n",
       "\t<tr><th scope=row>3</th><td>3</td><td>2023-01-20</td><td>Buy</td><td>AMC</td><td>1000</td><td>5.625</td><td>5625.0</td><td>0</td><td>FALSE</td><td>0</td><td>⋯</td><td>0</td><td>0</td><td>0</td><td>0</td><td>0</td><td>0</td><td>0</td><td>0</td><td>0</td><td>FALSE</td></tr>\n",
       "\t<tr><th scope=row>5</th><td>5</td><td>2023-01-23</td><td>Buy</td><td>AMC</td><td>1000</td><td>5.788</td><td>5788.0</td><td>0</td><td>FALSE</td><td>0</td><td>⋯</td><td>0</td><td>0</td><td>0</td><td>0</td><td>0</td><td>0</td><td>0</td><td>0</td><td>0</td><td>FALSE</td></tr>\n",
       "</tbody>\n",
       "</table>\n"
      ],
      "text/latex": [
       "A data.frame: 3 × 23\n",
       "\\begin{tabular}{r|lllllllllllllllllllll}\n",
       "  & index & date & type & co & quan & pps & basis & sale\\_quan & flag & buy\\_cf\\_quan & ⋯ & buy\\_pps & buy\\_basis & sell\\_quan & sell\\_pps & sell\\_basis & profit\\_loss & sold\\_cf\\_quan & sold\\_cf\\_pps & sold\\_cf\\_basis & true\\_false\\\\\n",
       "  & <int> & <date> & <chr> & <chr> & <int> & <dbl> & <dbl> & <int> & <lgl> & <int> & ⋯ & <dbl> & <dbl> & <int> & <dbl> & <dbl> & <dbl> & <int> & <dbl> & <dbl> & <lgl>\\\\\n",
       "\\hline\n",
       "\t1 & 1 & 2022-12-31 & Buy & AMC &  100 & 4.070 & 4273.5 & 0 & FALSE & 0 & ⋯ & 0 & 0 & 0 & 0 & 0 & 0 & 0 & 0 & 0 & FALSE\\\\\n",
       "\t3 & 3 & 2023-01-20 & Buy & AMC & 1000 & 5.625 & 5625.0 & 0 & FALSE & 0 & ⋯ & 0 & 0 & 0 & 0 & 0 & 0 & 0 & 0 & 0 & FALSE\\\\\n",
       "\t5 & 5 & 2023-01-23 & Buy & AMC & 1000 & 5.788 & 5788.0 & 0 & FALSE & 0 & ⋯ & 0 & 0 & 0 & 0 & 0 & 0 & 0 & 0 & 0 & FALSE\\\\\n",
       "\\end{tabular}\n"
      ],
      "text/markdown": [
       "\n",
       "A data.frame: 3 × 23\n",
       "\n",
       "| <!--/--> | index &lt;int&gt; | date &lt;date&gt; | type &lt;chr&gt; | co &lt;chr&gt; | quan &lt;int&gt; | pps &lt;dbl&gt; | basis &lt;dbl&gt; | sale_quan &lt;int&gt; | flag &lt;lgl&gt; | buy_cf_quan &lt;int&gt; | ⋯ ⋯ | buy_pps &lt;dbl&gt; | buy_basis &lt;dbl&gt; | sell_quan &lt;int&gt; | sell_pps &lt;dbl&gt; | sell_basis &lt;dbl&gt; | profit_loss &lt;dbl&gt; | sold_cf_quan &lt;int&gt; | sold_cf_pps &lt;dbl&gt; | sold_cf_basis &lt;dbl&gt; | true_false &lt;lgl&gt; |\n",
       "|---|---|---|---|---|---|---|---|---|---|---|---|---|---|---|---|---|---|---|---|---|---|\n",
       "| 1 | 1 | 2022-12-31 | Buy | AMC |  100 | 4.070 | 4273.5 | 0 | FALSE | 0 | ⋯ | 0 | 0 | 0 | 0 | 0 | 0 | 0 | 0 | 0 | FALSE |\n",
       "| 3 | 3 | 2023-01-20 | Buy | AMC | 1000 | 5.625 | 5625.0 | 0 | FALSE | 0 | ⋯ | 0 | 0 | 0 | 0 | 0 | 0 | 0 | 0 | 0 | FALSE |\n",
       "| 5 | 5 | 2023-01-23 | Buy | AMC | 1000 | 5.788 | 5788.0 | 0 | FALSE | 0 | ⋯ | 0 | 0 | 0 | 0 | 0 | 0 | 0 | 0 | 0 | FALSE |\n",
       "\n"
      ],
      "text/plain": [
       "  index date       type co  quan pps   basis  sale_quan flag  buy_cf_quan ⋯\n",
       "1 1     2022-12-31 Buy  AMC  100 4.070 4273.5 0         FALSE 0           ⋯\n",
       "3 3     2023-01-20 Buy  AMC 1000 5.625 5625.0 0         FALSE 0           ⋯\n",
       "5 5     2023-01-23 Buy  AMC 1000 5.788 5788.0 0         FALSE 0           ⋯\n",
       "  buy_pps buy_basis sell_quan sell_pps sell_basis profit_loss sold_cf_quan\n",
       "1 0       0         0         0        0          0           0           \n",
       "3 0       0         0         0        0          0           0           \n",
       "5 0       0         0         0        0          0           0           \n",
       "  sold_cf_pps sold_cf_basis true_false\n",
       "1 0           0             FALSE     \n",
       "3 0           0             FALSE     \n",
       "5 0           0             FALSE     "
      ]
     },
     "metadata": {},
     "output_type": "display_data"
    },
    {
     "data": {
      "text/html": [
       "<table class=\"dataframe\">\n",
       "<caption>A data.frame: 3 × 23</caption>\n",
       "<thead>\n",
       "\t<tr><th></th><th scope=col>index</th><th scope=col>date</th><th scope=col>type</th><th scope=col>co</th><th scope=col>quan</th><th scope=col>pps</th><th scope=col>basis</th><th scope=col>sale_quan</th><th scope=col>flag</th><th scope=col>buy_cf_quan</th><th scope=col>⋯</th><th scope=col>buy_pps</th><th scope=col>buy_basis</th><th scope=col>sell_quan</th><th scope=col>sell_pps</th><th scope=col>sell_basis</th><th scope=col>profit_loss</th><th scope=col>sold_cf_quan</th><th scope=col>sold_cf_pps</th><th scope=col>sold_cf_basis</th><th scope=col>true_false</th></tr>\n",
       "\t<tr><th></th><th scope=col>&lt;int&gt;</th><th scope=col>&lt;date&gt;</th><th scope=col>&lt;chr&gt;</th><th scope=col>&lt;chr&gt;</th><th scope=col>&lt;int&gt;</th><th scope=col>&lt;dbl&gt;</th><th scope=col>&lt;dbl&gt;</th><th scope=col>&lt;int&gt;</th><th scope=col>&lt;lgl&gt;</th><th scope=col>&lt;int&gt;</th><th scope=col>⋯</th><th scope=col>&lt;dbl&gt;</th><th scope=col>&lt;dbl&gt;</th><th scope=col>&lt;int&gt;</th><th scope=col>&lt;dbl&gt;</th><th scope=col>&lt;dbl&gt;</th><th scope=col>&lt;dbl&gt;</th><th scope=col>&lt;int&gt;</th><th scope=col>&lt;dbl&gt;</th><th scope=col>&lt;dbl&gt;</th><th scope=col>&lt;lgl&gt;</th></tr>\n",
       "</thead>\n",
       "<tbody>\n",
       "\t<tr><th scope=row>2</th><td>2</td><td>2023-01-27</td><td>Sell</td><td>AMC</td><td>1000</td><td>5.51240</td><td>5512.40</td><td>0</td><td>FALSE</td><td>0</td><td>⋯</td><td>0</td><td>0</td><td>0</td><td>0</td><td>0</td><td>0</td><td>0</td><td>0</td><td>0</td><td>FALSE</td></tr>\n",
       "\t<tr><th scope=row>4</th><td>4</td><td>2023-02-03</td><td>Sell</td><td>AMC</td><td>1000</td><td>6.68255</td><td>6682.55</td><td>0</td><td>FALSE</td><td>0</td><td>⋯</td><td>0</td><td>0</td><td>0</td><td>0</td><td>0</td><td>0</td><td>0</td><td>0</td><td>0</td><td>FALSE</td></tr>\n",
       "\t<tr><th scope=row>6</th><td>6</td><td>2023-02-03</td><td>Sell</td><td>AMC</td><td>1000</td><td>6.25500</td><td>6255.00</td><td>0</td><td>FALSE</td><td>0</td><td>⋯</td><td>0</td><td>0</td><td>0</td><td>0</td><td>0</td><td>0</td><td>0</td><td>0</td><td>0</td><td>FALSE</td></tr>\n",
       "</tbody>\n",
       "</table>\n"
      ],
      "text/latex": [
       "A data.frame: 3 × 23\n",
       "\\begin{tabular}{r|lllllllllllllllllllll}\n",
       "  & index & date & type & co & quan & pps & basis & sale\\_quan & flag & buy\\_cf\\_quan & ⋯ & buy\\_pps & buy\\_basis & sell\\_quan & sell\\_pps & sell\\_basis & profit\\_loss & sold\\_cf\\_quan & sold\\_cf\\_pps & sold\\_cf\\_basis & true\\_false\\\\\n",
       "  & <int> & <date> & <chr> & <chr> & <int> & <dbl> & <dbl> & <int> & <lgl> & <int> & ⋯ & <dbl> & <dbl> & <int> & <dbl> & <dbl> & <dbl> & <int> & <dbl> & <dbl> & <lgl>\\\\\n",
       "\\hline\n",
       "\t2 & 2 & 2023-01-27 & Sell & AMC & 1000 & 5.51240 & 5512.40 & 0 & FALSE & 0 & ⋯ & 0 & 0 & 0 & 0 & 0 & 0 & 0 & 0 & 0 & FALSE\\\\\n",
       "\t4 & 4 & 2023-02-03 & Sell & AMC & 1000 & 6.68255 & 6682.55 & 0 & FALSE & 0 & ⋯ & 0 & 0 & 0 & 0 & 0 & 0 & 0 & 0 & 0 & FALSE\\\\\n",
       "\t6 & 6 & 2023-02-03 & Sell & AMC & 1000 & 6.25500 & 6255.00 & 0 & FALSE & 0 & ⋯ & 0 & 0 & 0 & 0 & 0 & 0 & 0 & 0 & 0 & FALSE\\\\\n",
       "\\end{tabular}\n"
      ],
      "text/markdown": [
       "\n",
       "A data.frame: 3 × 23\n",
       "\n",
       "| <!--/--> | index &lt;int&gt; | date &lt;date&gt; | type &lt;chr&gt; | co &lt;chr&gt; | quan &lt;int&gt; | pps &lt;dbl&gt; | basis &lt;dbl&gt; | sale_quan &lt;int&gt; | flag &lt;lgl&gt; | buy_cf_quan &lt;int&gt; | ⋯ ⋯ | buy_pps &lt;dbl&gt; | buy_basis &lt;dbl&gt; | sell_quan &lt;int&gt; | sell_pps &lt;dbl&gt; | sell_basis &lt;dbl&gt; | profit_loss &lt;dbl&gt; | sold_cf_quan &lt;int&gt; | sold_cf_pps &lt;dbl&gt; | sold_cf_basis &lt;dbl&gt; | true_false &lt;lgl&gt; |\n",
       "|---|---|---|---|---|---|---|---|---|---|---|---|---|---|---|---|---|---|---|---|---|---|\n",
       "| 2 | 2 | 2023-01-27 | Sell | AMC | 1000 | 5.51240 | 5512.40 | 0 | FALSE | 0 | ⋯ | 0 | 0 | 0 | 0 | 0 | 0 | 0 | 0 | 0 | FALSE |\n",
       "| 4 | 4 | 2023-02-03 | Sell | AMC | 1000 | 6.68255 | 6682.55 | 0 | FALSE | 0 | ⋯ | 0 | 0 | 0 | 0 | 0 | 0 | 0 | 0 | 0 | FALSE |\n",
       "| 6 | 6 | 2023-02-03 | Sell | AMC | 1000 | 6.25500 | 6255.00 | 0 | FALSE | 0 | ⋯ | 0 | 0 | 0 | 0 | 0 | 0 | 0 | 0 | 0 | FALSE |\n",
       "\n"
      ],
      "text/plain": [
       "  index date       type co  quan pps     basis   sale_quan flag  buy_cf_quan ⋯\n",
       "2 2     2023-01-27 Sell AMC 1000 5.51240 5512.40 0         FALSE 0           ⋯\n",
       "4 4     2023-02-03 Sell AMC 1000 6.68255 6682.55 0         FALSE 0           ⋯\n",
       "6 6     2023-02-03 Sell AMC 1000 6.25500 6255.00 0         FALSE 0           ⋯\n",
       "  buy_pps buy_basis sell_quan sell_pps sell_basis profit_loss sold_cf_quan\n",
       "2 0       0         0         0        0          0           0           \n",
       "4 0       0         0         0        0          0           0           \n",
       "6 0       0         0         0        0          0           0           \n",
       "  sold_cf_pps sold_cf_basis true_false\n",
       "2 0           0             FALSE     \n",
       "4 0           0             FALSE     \n",
       "6 0           0             FALSE     "
      ]
     },
     "metadata": {},
     "output_type": "display_data"
    }
   ],
   "source": [
    "nrow(buys)\n",
    "nrow(sells)\n",
    "dim(sells)\n",
    "head(buys, 3)\n",
    "head(sells,3)"
   ]
  },
  {
   "cell_type": "code",
   "execution_count": 12,
   "id": "97c24639-f462-4470-b313-d40e24a5f1cb",
   "metadata": {},
   "outputs": [
    {
     "data": {
      "text/html": [
       "<style>\n",
       ".list-inline {list-style: none; margin:0; padding: 0}\n",
       ".list-inline>li {display: inline-block}\n",
       ".list-inline>li:not(:last-child)::after {content: \"\\00b7\"; padding: 0 .5ex}\n",
       "</style>\n",
       "<ol class=list-inline><li>1</li><li>23</li></ol>\n"
      ],
      "text/latex": [
       "\\begin{enumerate*}\n",
       "\\item 1\n",
       "\\item 23\n",
       "\\end{enumerate*}\n"
      ],
      "text/markdown": [
       "1. 1\n",
       "2. 23\n",
       "\n",
       "\n"
      ],
      "text/plain": [
       "[1]  1 23"
      ]
     },
     "metadata": {},
     "output_type": "display_data"
    },
    {
     "data": {
      "text/html": [
       "<table class=\"dataframe\">\n",
       "<caption>A data.frame: 1 × 23</caption>\n",
       "<thead>\n",
       "\t<tr><th></th><th scope=col>index</th><th scope=col>date</th><th scope=col>type</th><th scope=col>co</th><th scope=col>quan</th><th scope=col>pps</th><th scope=col>basis</th><th scope=col>sale_quan</th><th scope=col>flag</th><th scope=col>buy_cf_quan</th><th scope=col>⋯</th><th scope=col>buy_pps</th><th scope=col>buy_basis</th><th scope=col>sell_quan</th><th scope=col>sell_pps</th><th scope=col>sell_basis</th><th scope=col>profit_loss</th><th scope=col>sold_cf_quan</th><th scope=col>sold_cf_pps</th><th scope=col>sold_cf_basis</th><th scope=col>true_false</th></tr>\n",
       "\t<tr><th></th><th scope=col>&lt;int&gt;</th><th scope=col>&lt;date&gt;</th><th scope=col>&lt;chr&gt;</th><th scope=col>&lt;chr&gt;</th><th scope=col>&lt;int&gt;</th><th scope=col>&lt;dbl&gt;</th><th scope=col>&lt;dbl&gt;</th><th scope=col>&lt;int&gt;</th><th scope=col>&lt;lgl&gt;</th><th scope=col>&lt;int&gt;</th><th scope=col>⋯</th><th scope=col>&lt;dbl&gt;</th><th scope=col>&lt;dbl&gt;</th><th scope=col>&lt;int&gt;</th><th scope=col>&lt;dbl&gt;</th><th scope=col>&lt;dbl&gt;</th><th scope=col>&lt;dbl&gt;</th><th scope=col>&lt;int&gt;</th><th scope=col>&lt;dbl&gt;</th><th scope=col>&lt;dbl&gt;</th><th scope=col>&lt;lgl&gt;</th></tr>\n",
       "</thead>\n",
       "<tbody>\n",
       "\t<tr><th scope=row>1</th><td>1</td><td>2022-12-31</td><td>Buy</td><td>AMC</td><td>100</td><td>4.07</td><td>4273.5</td><td>0</td><td>FALSE</td><td>0</td><td>⋯</td><td>0</td><td>0</td><td>0</td><td>0</td><td>0</td><td>0</td><td>0</td><td>0</td><td>0</td><td>FALSE</td></tr>\n",
       "</tbody>\n",
       "</table>\n"
      ],
      "text/latex": [
       "A data.frame: 1 × 23\n",
       "\\begin{tabular}{r|lllllllllllllllllllll}\n",
       "  & index & date & type & co & quan & pps & basis & sale\\_quan & flag & buy\\_cf\\_quan & ⋯ & buy\\_pps & buy\\_basis & sell\\_quan & sell\\_pps & sell\\_basis & profit\\_loss & sold\\_cf\\_quan & sold\\_cf\\_pps & sold\\_cf\\_basis & true\\_false\\\\\n",
       "  & <int> & <date> & <chr> & <chr> & <int> & <dbl> & <dbl> & <int> & <lgl> & <int> & ⋯ & <dbl> & <dbl> & <int> & <dbl> & <dbl> & <dbl> & <int> & <dbl> & <dbl> & <lgl>\\\\\n",
       "\\hline\n",
       "\t1 & 1 & 2022-12-31 & Buy & AMC & 100 & 4.07 & 4273.5 & 0 & FALSE & 0 & ⋯ & 0 & 0 & 0 & 0 & 0 & 0 & 0 & 0 & 0 & FALSE\\\\\n",
       "\\end{tabular}\n"
      ],
      "text/markdown": [
       "\n",
       "A data.frame: 1 × 23\n",
       "\n",
       "| <!--/--> | index &lt;int&gt; | date &lt;date&gt; | type &lt;chr&gt; | co &lt;chr&gt; | quan &lt;int&gt; | pps &lt;dbl&gt; | basis &lt;dbl&gt; | sale_quan &lt;int&gt; | flag &lt;lgl&gt; | buy_cf_quan &lt;int&gt; | ⋯ ⋯ | buy_pps &lt;dbl&gt; | buy_basis &lt;dbl&gt; | sell_quan &lt;int&gt; | sell_pps &lt;dbl&gt; | sell_basis &lt;dbl&gt; | profit_loss &lt;dbl&gt; | sold_cf_quan &lt;int&gt; | sold_cf_pps &lt;dbl&gt; | sold_cf_basis &lt;dbl&gt; | true_false &lt;lgl&gt; |\n",
       "|---|---|---|---|---|---|---|---|---|---|---|---|---|---|---|---|---|---|---|---|---|---|\n",
       "| 1 | 1 | 2022-12-31 | Buy | AMC | 100 | 4.07 | 4273.5 | 0 | FALSE | 0 | ⋯ | 0 | 0 | 0 | 0 | 0 | 0 | 0 | 0 | 0 | FALSE |\n",
       "\n"
      ],
      "text/plain": [
       "  index date       type co  quan pps  basis  sale_quan flag  buy_cf_quan ⋯\n",
       "1 1     2022-12-31 Buy  AMC 100  4.07 4273.5 0         FALSE 0           ⋯\n",
       "  buy_pps buy_basis sell_quan sell_pps sell_basis profit_loss sold_cf_quan\n",
       "1 0       0         0         0        0          0           0           \n",
       "  sold_cf_pps sold_cf_basis true_false\n",
       "1 0           0             FALSE     "
      ]
     },
     "metadata": {},
     "output_type": "display_data"
    }
   ],
   "source": [
    "dim(b)\n",
    "b"
   ]
  },
  {
   "cell_type": "code",
   "execution_count": null,
   "id": "9f2143e2-09d8-4405-ace5-ffb54a578e14",
   "metadata": {},
   "outputs": [],
   "source": []
  },
  {
   "cell_type": "markdown",
   "id": "20e00a2d-d145-4062-ab58-910dee152307",
   "metadata": {},
   "source": [
    "### <font color = yellow>2. update_b() - updates the basic b variable with data from buy/sell rows \n",
    "    \n",
    "#### b>s, b<s, b==s,"
   ]
  },
  {
   "cell_type": "code",
   "execution_count": 13,
   "id": "1978c836-b9a7-4f64-86fe-bff3c8f19743",
   "metadata": {},
   "outputs": [
    {
     "name": "stdout",
     "output_type": "stream",
     "text": [
      "for loop, loop is i:  1 \n",
      "for loop, loop is i:  2 \n",
      "for loop, loop is i:  3 \n"
     ]
    }
   ],
   "source": [
    "for(i in 1:3) {\n",
    "    cat(\"for loop, loop is i: \", i, \"\\n\")\n",
    "    }"
   ]
  },
  {
   "cell_type": "code",
   "execution_count": 14,
   "id": "2c110e59-8021-41c9-a39e-918d3020b6df",
   "metadata": {},
   "outputs": [
    {
     "data": {
      "text/html": [
       "<table class=\"dataframe\">\n",
       "<caption>A data.frame: 1 × 23</caption>\n",
       "<thead>\n",
       "\t<tr><th></th><th scope=col>index</th><th scope=col>date</th><th scope=col>type</th><th scope=col>co</th><th scope=col>quan</th><th scope=col>pps</th><th scope=col>basis</th><th scope=col>sale_quan</th><th scope=col>flag</th><th scope=col>buy_cf_quan</th><th scope=col>⋯</th><th scope=col>buy_pps</th><th scope=col>buy_basis</th><th scope=col>sell_quan</th><th scope=col>sell_pps</th><th scope=col>sell_basis</th><th scope=col>profit_loss</th><th scope=col>sold_cf_quan</th><th scope=col>sold_cf_pps</th><th scope=col>sold_cf_basis</th><th scope=col>true_false</th></tr>\n",
       "\t<tr><th></th><th scope=col>&lt;int&gt;</th><th scope=col>&lt;date&gt;</th><th scope=col>&lt;chr&gt;</th><th scope=col>&lt;chr&gt;</th><th scope=col>&lt;int&gt;</th><th scope=col>&lt;dbl&gt;</th><th scope=col>&lt;dbl&gt;</th><th scope=col>&lt;int&gt;</th><th scope=col>&lt;lgl&gt;</th><th scope=col>&lt;int&gt;</th><th scope=col>⋯</th><th scope=col>&lt;dbl&gt;</th><th scope=col>&lt;dbl&gt;</th><th scope=col>&lt;int&gt;</th><th scope=col>&lt;dbl&gt;</th><th scope=col>&lt;dbl&gt;</th><th scope=col>&lt;dbl&gt;</th><th scope=col>&lt;int&gt;</th><th scope=col>&lt;dbl&gt;</th><th scope=col>&lt;dbl&gt;</th><th scope=col>&lt;lgl&gt;</th></tr>\n",
       "</thead>\n",
       "<tbody>\n",
       "\t<tr><th scope=row>39</th><td>39</td><td>2023-05-17</td><td>Buy</td><td>AMC</td><td>1000</td><td>5.009</td><td>5009</td><td>0</td><td>FALSE</td><td>0</td><td>⋯</td><td>0</td><td>0</td><td>0</td><td>0</td><td>0</td><td>0</td><td>0</td><td>0</td><td>0</td><td>FALSE</td></tr>\n",
       "</tbody>\n",
       "</table>\n"
      ],
      "text/latex": [
       "A data.frame: 1 × 23\n",
       "\\begin{tabular}{r|lllllllllllllllllllll}\n",
       "  & index & date & type & co & quan & pps & basis & sale\\_quan & flag & buy\\_cf\\_quan & ⋯ & buy\\_pps & buy\\_basis & sell\\_quan & sell\\_pps & sell\\_basis & profit\\_loss & sold\\_cf\\_quan & sold\\_cf\\_pps & sold\\_cf\\_basis & true\\_false\\\\\n",
       "  & <int> & <date> & <chr> & <chr> & <int> & <dbl> & <dbl> & <int> & <lgl> & <int> & ⋯ & <dbl> & <dbl> & <int> & <dbl> & <dbl> & <dbl> & <int> & <dbl> & <dbl> & <lgl>\\\\\n",
       "\\hline\n",
       "\t39 & 39 & 2023-05-17 & Buy & AMC & 1000 & 5.009 & 5009 & 0 & FALSE & 0 & ⋯ & 0 & 0 & 0 & 0 & 0 & 0 & 0 & 0 & 0 & FALSE\\\\\n",
       "\\end{tabular}\n"
      ],
      "text/markdown": [
       "\n",
       "A data.frame: 1 × 23\n",
       "\n",
       "| <!--/--> | index &lt;int&gt; | date &lt;date&gt; | type &lt;chr&gt; | co &lt;chr&gt; | quan &lt;int&gt; | pps &lt;dbl&gt; | basis &lt;dbl&gt; | sale_quan &lt;int&gt; | flag &lt;lgl&gt; | buy_cf_quan &lt;int&gt; | ⋯ ⋯ | buy_pps &lt;dbl&gt; | buy_basis &lt;dbl&gt; | sell_quan &lt;int&gt; | sell_pps &lt;dbl&gt; | sell_basis &lt;dbl&gt; | profit_loss &lt;dbl&gt; | sold_cf_quan &lt;int&gt; | sold_cf_pps &lt;dbl&gt; | sold_cf_basis &lt;dbl&gt; | true_false &lt;lgl&gt; |\n",
       "|---|---|---|---|---|---|---|---|---|---|---|---|---|---|---|---|---|---|---|---|---|---|\n",
       "| 39 | 39 | 2023-05-17 | Buy | AMC | 1000 | 5.009 | 5009 | 0 | FALSE | 0 | ⋯ | 0 | 0 | 0 | 0 | 0 | 0 | 0 | 0 | 0 | FALSE |\n",
       "\n"
      ],
      "text/plain": [
       "   index date       type co  quan pps   basis sale_quan flag  buy_cf_quan ⋯\n",
       "39 39    2023-05-17 Buy  AMC 1000 5.009 5009  0         FALSE 0           ⋯\n",
       "   buy_pps buy_basis sell_quan sell_pps sell_basis profit_loss sold_cf_quan\n",
       "39 0       0         0         0        0          0           0           \n",
       "   sold_cf_pps sold_cf_basis true_false\n",
       "39 0           0             FALSE     "
      ]
     },
     "metadata": {},
     "output_type": "display_data"
    }
   ],
   "source": [
    "last_row <- tail(buys, n = 1)\n",
    "last_row"
   ]
  },
  {
   "cell_type": "code",
   "execution_count": null,
   "id": "bc6cc4bb-0b62-4a60-ae33-36407796246a",
   "metadata": {},
   "outputs": [],
   "source": []
  },
  {
   "cell_type": "markdown",
   "id": "5cd65c8a-88a2-434f-afe7-9cccbb2cc00b",
   "metadata": {},
   "source": [
    "#### <font color = lime> Basic version: when b == s ( creates no c/f)\n",
    "    \n",
    "#### <font color = lime> Basic version: when b > s (creates b c/f)    \n",
    "    \n",
    "#### <font color = lime> Basic version: when b < s (creates s c/f)\n",
    "    "
   ]
  },
  {
   "cell_type": "code",
   "execution_count": 15,
   "id": "089c01db-88a1-4c20-aa2b-4f1e4e64ba3f",
   "metadata": {},
   "outputs": [
    {
     "data": {
      "text/html": [
       "<style>\n",
       ".list-inline {list-style: none; margin:0; padding: 0}\n",
       ".list-inline>li {display: inline-block}\n",
       ".list-inline>li:not(:last-child)::after {content: \"\\00b7\"; padding: 0 .5ex}\n",
       "</style>\n",
       "<ol class=list-inline><li>1</li><li>23</li></ol>\n"
      ],
      "text/latex": [
       "\\begin{enumerate*}\n",
       "\\item 1\n",
       "\\item 23\n",
       "\\end{enumerate*}\n"
      ],
      "text/markdown": [
       "1. 1\n",
       "2. 23\n",
       "\n",
       "\n"
      ],
      "text/plain": [
       "[1]  1 23"
      ]
     },
     "metadata": {},
     "output_type": "display_data"
    },
    {
     "data": {
      "text/html": [
       "<style>\n",
       ".list-inline {list-style: none; margin:0; padding: 0}\n",
       ".list-inline>li {display: inline-block}\n",
       ".list-inline>li:not(:last-child)::after {content: \"\\00b7\"; padding: 0 .5ex}\n",
       "</style>\n",
       "<ol class=list-inline><li>23</li><li>23</li></ol>\n"
      ],
      "text/latex": [
       "\\begin{enumerate*}\n",
       "\\item 23\n",
       "\\item 23\n",
       "\\end{enumerate*}\n"
      ],
      "text/markdown": [
       "1. 23\n",
       "2. 23\n",
       "\n",
       "\n"
      ],
      "text/plain": [
       "[1] 23 23"
      ]
     },
     "metadata": {},
     "output_type": "display_data"
    }
   ],
   "source": [
    "# # update b based upon the Sale Type: b>s, b<s, b==s \n",
    "\n",
    "update_b <- function(b, buys) {\n",
    "\n",
    "\n",
    "        # ( b > s ) ,  Buy C/F \n",
    "    \n",
    "        if ( b$quan > s$quan) { \n",
    "            \n",
    "            b$sale_quan  <- s$quan    \n",
    "            b$buy_quan <- s$quan\n",
    "            b$buy_pps <-  b$pps\n",
    "            b$buy_basis <-  b$buy_quan * b$pps\n",
    "\n",
    "            b$sell_quan <- s$quan    \n",
    "            b$sell_pps <- s$pps\n",
    "            b$sell_basis <- s$quan * s$pps\n",
    "\n",
    "            b$sold_cf_quan <- (b$quan - s$quan)        \n",
    "            b$sold_cf_pps <- b$pps\n",
    "            b$sold_cf_basis <- b$sold_cf_quan * b$pps \n",
    "            b$profit_loss <- b$sell_basis - b$buy_basis\n",
    "            \n",
    "            # Has buy c/f \n",
    "            b$flag <- TRUE \n",
    "            buys$flag[1] <- TRUE\n",
    "    \n",
    "       # ( s > b ), has sell carryforward\n",
    " \n",
    "        }else if(b$quan < s$quan) {\n",
    "            \n",
    "            b$basis <-  b$quan * b$pps\n",
    "            b$sale_quan <- b$quan\n",
    "           \n",
    "            b$buy_quan <- b$quan\n",
    "            b$buy_pps <-  b$pps\n",
    "            b$buy_basis <- b$basis\n",
    "         \n",
    "            # Sell c/f\n",
    "            sold_cf_quan <- s$quan - b$quan           \n",
    "            b$sold_cf_quan <- sold_cf_quan\n",
    "            b$sold_cf_pps <- s$pps\n",
    "            b$sold_cf_basis <- sold_cf_quan * s$pps\n",
    "                   \n",
    "            b$sell_quan <- b$quan\n",
    "            b$sell_pps <- s$pps\n",
    "            b$sell_basis <- b$quan * s$pps\n",
    "            b$profit_loss <- b$sell_basis - b$buy_basis\n",
    "            \n",
    "            # Has sell c/f \n",
    "            b$true_false <- TRUE\n",
    "           \n",
    " #  s$type <- \"SELL-CF\"   \n",
    "            \n",
    "        }else if (b$quan == s$quan) {            \n",
    "                  \n",
    "            b$buy_quan <- s$quan\n",
    "            b$buy_pps <-  b$pps\n",
    "            b$buy_basis <- b$buy_quan * b$pps\n",
    "\n",
    "            b$sell_quan <- s$quan    \n",
    "            b$sell_pps <- s$pps\n",
    "            b$sell_basis <- s$quan * s$pps\n",
    "            b$profit_loss <- b$sell_basis - b$buy_basis\n",
    "          \n",
    " #           s$type <- \"SOLD\"            \n",
    "            }\n",
    "            \n",
    "        return(list(b, buys))   \n",
    "}  # fct\n",
    "\n",
    "update_b_list <- update_b(b, buys)\n",
    "updated_b <- update_b_list[[1]]\n",
    "buys <- update_b_list[[2]]\n",
    "dim(updated_b)\n",
    "dim(buys)\n",
    "    "
   ]
  },
  {
   "cell_type": "code",
   "execution_count": null,
   "id": "f7842cc1-fb09-4028-bb9e-cf7f0ec3b08e",
   "metadata": {},
   "outputs": [],
   "source": []
  },
  {
   "cell_type": "code",
   "execution_count": 16,
   "id": "8655ba46-5d02-4488-9bbc-2fb365b4aa20",
   "metadata": {},
   "outputs": [
    {
     "data": {
      "text/html": [
       "<table class=\"dataframe\">\n",
       "<caption>A data.frame: 1 × 23</caption>\n",
       "<thead>\n",
       "\t<tr><th></th><th scope=col>index</th><th scope=col>date</th><th scope=col>type</th><th scope=col>co</th><th scope=col>quan</th><th scope=col>pps</th><th scope=col>basis</th><th scope=col>sale_quan</th><th scope=col>flag</th><th scope=col>buy_cf_quan</th><th scope=col>⋯</th><th scope=col>buy_pps</th><th scope=col>buy_basis</th><th scope=col>sell_quan</th><th scope=col>sell_pps</th><th scope=col>sell_basis</th><th scope=col>profit_loss</th><th scope=col>sold_cf_quan</th><th scope=col>sold_cf_pps</th><th scope=col>sold_cf_basis</th><th scope=col>true_false</th></tr>\n",
       "\t<tr><th></th><th scope=col>&lt;int&gt;</th><th scope=col>&lt;date&gt;</th><th scope=col>&lt;chr&gt;</th><th scope=col>&lt;chr&gt;</th><th scope=col>&lt;int&gt;</th><th scope=col>&lt;dbl&gt;</th><th scope=col>&lt;dbl&gt;</th><th scope=col>&lt;int&gt;</th><th scope=col>&lt;lgl&gt;</th><th scope=col>&lt;int&gt;</th><th scope=col>⋯</th><th scope=col>&lt;dbl&gt;</th><th scope=col>&lt;dbl&gt;</th><th scope=col>&lt;int&gt;</th><th scope=col>&lt;dbl&gt;</th><th scope=col>&lt;dbl&gt;</th><th scope=col>&lt;dbl&gt;</th><th scope=col>&lt;int&gt;</th><th scope=col>&lt;dbl&gt;</th><th scope=col>&lt;dbl&gt;</th><th scope=col>&lt;lgl&gt;</th></tr>\n",
       "</thead>\n",
       "<tbody>\n",
       "\t<tr><th scope=row>1</th><td>1</td><td>2022-12-31</td><td>Buy</td><td>AMC</td><td>100</td><td>4.07</td><td>407</td><td>100</td><td>FALSE</td><td>0</td><td>⋯</td><td>4.07</td><td>407</td><td>100</td><td>5.5124</td><td>551.24</td><td>144.24</td><td>900</td><td>5.5124</td><td>4961.16</td><td>TRUE</td></tr>\n",
       "</tbody>\n",
       "</table>\n"
      ],
      "text/latex": [
       "A data.frame: 1 × 23\n",
       "\\begin{tabular}{r|lllllllllllllllllllll}\n",
       "  & index & date & type & co & quan & pps & basis & sale\\_quan & flag & buy\\_cf\\_quan & ⋯ & buy\\_pps & buy\\_basis & sell\\_quan & sell\\_pps & sell\\_basis & profit\\_loss & sold\\_cf\\_quan & sold\\_cf\\_pps & sold\\_cf\\_basis & true\\_false\\\\\n",
       "  & <int> & <date> & <chr> & <chr> & <int> & <dbl> & <dbl> & <int> & <lgl> & <int> & ⋯ & <dbl> & <dbl> & <int> & <dbl> & <dbl> & <dbl> & <int> & <dbl> & <dbl> & <lgl>\\\\\n",
       "\\hline\n",
       "\t1 & 1 & 2022-12-31 & Buy & AMC & 100 & 4.07 & 407 & 100 & FALSE & 0 & ⋯ & 4.07 & 407 & 100 & 5.5124 & 551.24 & 144.24 & 900 & 5.5124 & 4961.16 & TRUE\\\\\n",
       "\\end{tabular}\n"
      ],
      "text/markdown": [
       "\n",
       "A data.frame: 1 × 23\n",
       "\n",
       "| <!--/--> | index &lt;int&gt; | date &lt;date&gt; | type &lt;chr&gt; | co &lt;chr&gt; | quan &lt;int&gt; | pps &lt;dbl&gt; | basis &lt;dbl&gt; | sale_quan &lt;int&gt; | flag &lt;lgl&gt; | buy_cf_quan &lt;int&gt; | ⋯ ⋯ | buy_pps &lt;dbl&gt; | buy_basis &lt;dbl&gt; | sell_quan &lt;int&gt; | sell_pps &lt;dbl&gt; | sell_basis &lt;dbl&gt; | profit_loss &lt;dbl&gt; | sold_cf_quan &lt;int&gt; | sold_cf_pps &lt;dbl&gt; | sold_cf_basis &lt;dbl&gt; | true_false &lt;lgl&gt; |\n",
       "|---|---|---|---|---|---|---|---|---|---|---|---|---|---|---|---|---|---|---|---|---|---|\n",
       "| 1 | 1 | 2022-12-31 | Buy | AMC | 100 | 4.07 | 407 | 100 | FALSE | 0 | ⋯ | 4.07 | 407 | 100 | 5.5124 | 551.24 | 144.24 | 900 | 5.5124 | 4961.16 | TRUE |\n",
       "\n"
      ],
      "text/plain": [
       "  index date       type co  quan pps  basis sale_quan flag  buy_cf_quan ⋯\n",
       "1 1     2022-12-31 Buy  AMC 100  4.07 407   100       FALSE 0           ⋯\n",
       "  buy_pps buy_basis sell_quan sell_pps sell_basis profit_loss sold_cf_quan\n",
       "1 4.07    407       100       5.5124   551.24     144.24      900         \n",
       "  sold_cf_pps sold_cf_basis true_false\n",
       "1 5.5124      4961.16       TRUE      "
      ]
     },
     "metadata": {},
     "output_type": "display_data"
    }
   ],
   "source": [
    "updated_b"
   ]
  },
  {
   "cell_type": "code",
   "execution_count": null,
   "id": "0fbb7e13-4d0d-482c-a1db-f41e97767618",
   "metadata": {},
   "outputs": [],
   "source": []
  },
  {
   "cell_type": "code",
   "execution_count": 17,
   "id": "5b735dc6-0781-49d5-8dfe-58731fa55f3c",
   "metadata": {},
   "outputs": [
    {
     "data": {
      "text/html": [
       "<table class=\"dataframe\">\n",
       "<caption>A data.frame: 3 × 23</caption>\n",
       "<thead>\n",
       "\t<tr><th></th><th scope=col>index</th><th scope=col>date</th><th scope=col>type</th><th scope=col>co</th><th scope=col>quan</th><th scope=col>pps</th><th scope=col>basis</th><th scope=col>sale_quan</th><th scope=col>flag</th><th scope=col>buy_cf_quan</th><th scope=col>⋯</th><th scope=col>buy_pps</th><th scope=col>buy_basis</th><th scope=col>sell_quan</th><th scope=col>sell_pps</th><th scope=col>sell_basis</th><th scope=col>profit_loss</th><th scope=col>sold_cf_quan</th><th scope=col>sold_cf_pps</th><th scope=col>sold_cf_basis</th><th scope=col>true_false</th></tr>\n",
       "\t<tr><th></th><th scope=col>&lt;int&gt;</th><th scope=col>&lt;date&gt;</th><th scope=col>&lt;chr&gt;</th><th scope=col>&lt;chr&gt;</th><th scope=col>&lt;int&gt;</th><th scope=col>&lt;dbl&gt;</th><th scope=col>&lt;dbl&gt;</th><th scope=col>&lt;int&gt;</th><th scope=col>&lt;lgl&gt;</th><th scope=col>&lt;int&gt;</th><th scope=col>⋯</th><th scope=col>&lt;dbl&gt;</th><th scope=col>&lt;dbl&gt;</th><th scope=col>&lt;int&gt;</th><th scope=col>&lt;dbl&gt;</th><th scope=col>&lt;dbl&gt;</th><th scope=col>&lt;dbl&gt;</th><th scope=col>&lt;int&gt;</th><th scope=col>&lt;dbl&gt;</th><th scope=col>&lt;dbl&gt;</th><th scope=col>&lt;lgl&gt;</th></tr>\n",
       "</thead>\n",
       "<tbody>\n",
       "\t<tr><th scope=row>1</th><td>1</td><td>2022-12-31</td><td>Buy</td><td>AMC</td><td> 100</td><td>4.070</td><td>4273.5</td><td>0</td><td>FALSE</td><td>0</td><td>⋯</td><td>0</td><td>0</td><td>0</td><td>0</td><td>0</td><td>0</td><td>0</td><td>0</td><td>0</td><td>FALSE</td></tr>\n",
       "\t<tr><th scope=row>3</th><td>3</td><td>2023-01-20</td><td>Buy</td><td>AMC</td><td>1000</td><td>5.625</td><td>5625.0</td><td>0</td><td>FALSE</td><td>0</td><td>⋯</td><td>0</td><td>0</td><td>0</td><td>0</td><td>0</td><td>0</td><td>0</td><td>0</td><td>0</td><td>FALSE</td></tr>\n",
       "\t<tr><th scope=row>5</th><td>5</td><td>2023-01-23</td><td>Buy</td><td>AMC</td><td>1000</td><td>5.788</td><td>5788.0</td><td>0</td><td>FALSE</td><td>0</td><td>⋯</td><td>0</td><td>0</td><td>0</td><td>0</td><td>0</td><td>0</td><td>0</td><td>0</td><td>0</td><td>FALSE</td></tr>\n",
       "</tbody>\n",
       "</table>\n"
      ],
      "text/latex": [
       "A data.frame: 3 × 23\n",
       "\\begin{tabular}{r|lllllllllllllllllllll}\n",
       "  & index & date & type & co & quan & pps & basis & sale\\_quan & flag & buy\\_cf\\_quan & ⋯ & buy\\_pps & buy\\_basis & sell\\_quan & sell\\_pps & sell\\_basis & profit\\_loss & sold\\_cf\\_quan & sold\\_cf\\_pps & sold\\_cf\\_basis & true\\_false\\\\\n",
       "  & <int> & <date> & <chr> & <chr> & <int> & <dbl> & <dbl> & <int> & <lgl> & <int> & ⋯ & <dbl> & <dbl> & <int> & <dbl> & <dbl> & <dbl> & <int> & <dbl> & <dbl> & <lgl>\\\\\n",
       "\\hline\n",
       "\t1 & 1 & 2022-12-31 & Buy & AMC &  100 & 4.070 & 4273.5 & 0 & FALSE & 0 & ⋯ & 0 & 0 & 0 & 0 & 0 & 0 & 0 & 0 & 0 & FALSE\\\\\n",
       "\t3 & 3 & 2023-01-20 & Buy & AMC & 1000 & 5.625 & 5625.0 & 0 & FALSE & 0 & ⋯ & 0 & 0 & 0 & 0 & 0 & 0 & 0 & 0 & 0 & FALSE\\\\\n",
       "\t5 & 5 & 2023-01-23 & Buy & AMC & 1000 & 5.788 & 5788.0 & 0 & FALSE & 0 & ⋯ & 0 & 0 & 0 & 0 & 0 & 0 & 0 & 0 & 0 & FALSE\\\\\n",
       "\\end{tabular}\n"
      ],
      "text/markdown": [
       "\n",
       "A data.frame: 3 × 23\n",
       "\n",
       "| <!--/--> | index &lt;int&gt; | date &lt;date&gt; | type &lt;chr&gt; | co &lt;chr&gt; | quan &lt;int&gt; | pps &lt;dbl&gt; | basis &lt;dbl&gt; | sale_quan &lt;int&gt; | flag &lt;lgl&gt; | buy_cf_quan &lt;int&gt; | ⋯ ⋯ | buy_pps &lt;dbl&gt; | buy_basis &lt;dbl&gt; | sell_quan &lt;int&gt; | sell_pps &lt;dbl&gt; | sell_basis &lt;dbl&gt; | profit_loss &lt;dbl&gt; | sold_cf_quan &lt;int&gt; | sold_cf_pps &lt;dbl&gt; | sold_cf_basis &lt;dbl&gt; | true_false &lt;lgl&gt; |\n",
       "|---|---|---|---|---|---|---|---|---|---|---|---|---|---|---|---|---|---|---|---|---|---|\n",
       "| 1 | 1 | 2022-12-31 | Buy | AMC |  100 | 4.070 | 4273.5 | 0 | FALSE | 0 | ⋯ | 0 | 0 | 0 | 0 | 0 | 0 | 0 | 0 | 0 | FALSE |\n",
       "| 3 | 3 | 2023-01-20 | Buy | AMC | 1000 | 5.625 | 5625.0 | 0 | FALSE | 0 | ⋯ | 0 | 0 | 0 | 0 | 0 | 0 | 0 | 0 | 0 | FALSE |\n",
       "| 5 | 5 | 2023-01-23 | Buy | AMC | 1000 | 5.788 | 5788.0 | 0 | FALSE | 0 | ⋯ | 0 | 0 | 0 | 0 | 0 | 0 | 0 | 0 | 0 | FALSE |\n",
       "\n"
      ],
      "text/plain": [
       "  index date       type co  quan pps   basis  sale_quan flag  buy_cf_quan ⋯\n",
       "1 1     2022-12-31 Buy  AMC  100 4.070 4273.5 0         FALSE 0           ⋯\n",
       "3 3     2023-01-20 Buy  AMC 1000 5.625 5625.0 0         FALSE 0           ⋯\n",
       "5 5     2023-01-23 Buy  AMC 1000 5.788 5788.0 0         FALSE 0           ⋯\n",
       "  buy_pps buy_basis sell_quan sell_pps sell_basis profit_loss sold_cf_quan\n",
       "1 0       0         0         0        0          0           0           \n",
       "3 0       0         0         0        0          0           0           \n",
       "5 0       0         0         0        0          0           0           \n",
       "  sold_cf_pps sold_cf_basis true_false\n",
       "1 0           0             FALSE     \n",
       "3 0           0             FALSE     \n",
       "5 0           0             FALSE     "
      ]
     },
     "metadata": {},
     "output_type": "display_data"
    }
   ],
   "source": [
    "buys[1:3,]"
   ]
  },
  {
   "cell_type": "markdown",
   "id": "0d43233d-62de-4ac3-9e39-d0b622ce7e10",
   "metadata": {},
   "source": [
    "### <font color = yellow>3. create new sales_records (rbind) with the updated_b "
   ]
  },
  {
   "cell_type": "code",
   "execution_count": 18,
   "id": "82abe5ba-1344-406b-b56e-55d4cc6fdddb",
   "metadata": {},
   "outputs": [],
   "source": [
    "# df_name <- \"iris\"  # Replace with your data frame name\n",
    "# tryCatch(is.data.frame(get(df_name)), error = function(cond) FALSE)\n",
    "         "
   ]
  },
  {
   "cell_type": "code",
   "execution_count": 19,
   "id": "1717cd60-4aa1-4fed-bc93-41450e0677c2",
   "metadata": {},
   "outputs": [],
   "source": [
    "# df_name <- \"sale_records\"\n",
    "# tryCatch(is.data.frame(get(df_name)), error = function(cond) FALSE)"
   ]
  },
  {
   "cell_type": "code",
   "execution_count": 20,
   "id": "cd5691fa-7500-4943-962c-784d40a8621e",
   "metadata": {},
   "outputs": [],
   "source": [
    "# if (exists(\"sale_records\") && is.data.frame(get(\"sale_records\"))) {\n",
    "#   # Data frame exists and is a valid data frame\n",
    "#   # Your code here...\n",
    "#     cat(\"sale_records exists:     \", \"\\n\") \n",
    "# } else {\n",
    "#   # Data frame does not exist or is not a valid data frame\n",
    "#   # Handle the case where the data frame is missing...\n",
    "#     cat(\"Newly created sale_records with updated_b data. \", \"\\n\")\n",
    "#     sale_records <- data.frame()\n",
    "#     sale_records <- rbind(sale_records, updated_b)    \n",
    "#     # sale_records <- add_row(updated_b ) # , .before = 1)\n",
    "# }\n",
    "# sale_records\n",
    "        \n",
    "        "
   ]
  },
  {
   "cell_type": "code",
   "execution_count": 21,
   "id": "19a8ce27-4cfd-4005-b0f5-287118cb7576",
   "metadata": {},
   "outputs": [],
   "source": [
    "sale_records <- rbind(sale_records, updated_b)    "
   ]
  },
  {
   "cell_type": "code",
   "execution_count": 22,
   "id": "fd1a7c3a-8c95-4af1-b6a0-5405441ec253",
   "metadata": {},
   "outputs": [
    {
     "data": {
      "text/html": [
       "<table class=\"dataframe\">\n",
       "<caption>A data.frame: 1 × 23</caption>\n",
       "<thead>\n",
       "\t<tr><th scope=col>index</th><th scope=col>date</th><th scope=col>type</th><th scope=col>co</th><th scope=col>quan</th><th scope=col>pps</th><th scope=col>basis</th><th scope=col>sale_quan</th><th scope=col>flag</th><th scope=col>buy_cf_quan</th><th scope=col>⋯</th><th scope=col>buy_pps</th><th scope=col>buy_basis</th><th scope=col>sell_quan</th><th scope=col>sell_pps</th><th scope=col>sell_basis</th><th scope=col>profit_loss</th><th scope=col>sold_cf_quan</th><th scope=col>sold_cf_pps</th><th scope=col>sold_cf_basis</th><th scope=col>true_false</th></tr>\n",
       "\t<tr><th scope=col>&lt;int&gt;</th><th scope=col>&lt;date&gt;</th><th scope=col>&lt;chr&gt;</th><th scope=col>&lt;chr&gt;</th><th scope=col>&lt;int&gt;</th><th scope=col>&lt;dbl&gt;</th><th scope=col>&lt;dbl&gt;</th><th scope=col>&lt;int&gt;</th><th scope=col>&lt;lgl&gt;</th><th scope=col>&lt;int&gt;</th><th scope=col>⋯</th><th scope=col>&lt;dbl&gt;</th><th scope=col>&lt;dbl&gt;</th><th scope=col>&lt;int&gt;</th><th scope=col>&lt;dbl&gt;</th><th scope=col>&lt;dbl&gt;</th><th scope=col>&lt;dbl&gt;</th><th scope=col>&lt;int&gt;</th><th scope=col>&lt;dbl&gt;</th><th scope=col>&lt;dbl&gt;</th><th scope=col>&lt;lgl&gt;</th></tr>\n",
       "</thead>\n",
       "<tbody>\n",
       "\t<tr><td>1</td><td>2022-12-31</td><td>Buy</td><td>AMC</td><td>100</td><td>4.07</td><td>407</td><td>100</td><td>FALSE</td><td>0</td><td>⋯</td><td>4.07</td><td>407</td><td>100</td><td>5.5124</td><td>551.24</td><td>144.24</td><td>900</td><td>5.5124</td><td>4961.16</td><td>TRUE</td></tr>\n",
       "</tbody>\n",
       "</table>\n"
      ],
      "text/latex": [
       "A data.frame: 1 × 23\n",
       "\\begin{tabular}{lllllllllllllllllllll}\n",
       " index & date & type & co & quan & pps & basis & sale\\_quan & flag & buy\\_cf\\_quan & ⋯ & buy\\_pps & buy\\_basis & sell\\_quan & sell\\_pps & sell\\_basis & profit\\_loss & sold\\_cf\\_quan & sold\\_cf\\_pps & sold\\_cf\\_basis & true\\_false\\\\\n",
       " <int> & <date> & <chr> & <chr> & <int> & <dbl> & <dbl> & <int> & <lgl> & <int> & ⋯ & <dbl> & <dbl> & <int> & <dbl> & <dbl> & <dbl> & <int> & <dbl> & <dbl> & <lgl>\\\\\n",
       "\\hline\n",
       "\t 1 & 2022-12-31 & Buy & AMC & 100 & 4.07 & 407 & 100 & FALSE & 0 & ⋯ & 4.07 & 407 & 100 & 5.5124 & 551.24 & 144.24 & 900 & 5.5124 & 4961.16 & TRUE\\\\\n",
       "\\end{tabular}\n"
      ],
      "text/markdown": [
       "\n",
       "A data.frame: 1 × 23\n",
       "\n",
       "| index &lt;int&gt; | date &lt;date&gt; | type &lt;chr&gt; | co &lt;chr&gt; | quan &lt;int&gt; | pps &lt;dbl&gt; | basis &lt;dbl&gt; | sale_quan &lt;int&gt; | flag &lt;lgl&gt; | buy_cf_quan &lt;int&gt; | ⋯ ⋯ | buy_pps &lt;dbl&gt; | buy_basis &lt;dbl&gt; | sell_quan &lt;int&gt; | sell_pps &lt;dbl&gt; | sell_basis &lt;dbl&gt; | profit_loss &lt;dbl&gt; | sold_cf_quan &lt;int&gt; | sold_cf_pps &lt;dbl&gt; | sold_cf_basis &lt;dbl&gt; | true_false &lt;lgl&gt; |\n",
       "|---|---|---|---|---|---|---|---|---|---|---|---|---|---|---|---|---|---|---|---|---|\n",
       "| 1 | 2022-12-31 | Buy | AMC | 100 | 4.07 | 407 | 100 | FALSE | 0 | ⋯ | 4.07 | 407 | 100 | 5.5124 | 551.24 | 144.24 | 900 | 5.5124 | 4961.16 | TRUE |\n",
       "\n"
      ],
      "text/plain": [
       "  index date       type co  quan pps  basis sale_quan flag  buy_cf_quan ⋯\n",
       "1 1     2022-12-31 Buy  AMC 100  4.07 407   100       FALSE 0           ⋯\n",
       "  buy_pps buy_basis sell_quan sell_pps sell_basis profit_loss sold_cf_quan\n",
       "1 4.07    407       100       5.5124   551.24     144.24      900         \n",
       "  sold_cf_pps sold_cf_basis true_false\n",
       "1 5.5124      4961.16       TRUE      "
      ]
     },
     "metadata": {},
     "output_type": "display_data"
    }
   ],
   "source": [
    "sale_records"
   ]
  },
  {
   "cell_type": "code",
   "execution_count": 23,
   "id": "a462c3b0-0556-42bb-95e2-4f82f69da95f",
   "metadata": {},
   "outputs": [
    {
     "data": {
      "text/html": [
       "<table class=\"dataframe\">\n",
       "<caption>A data.frame: 2 × 23</caption>\n",
       "<thead>\n",
       "\t<tr><th></th><th scope=col>index</th><th scope=col>date</th><th scope=col>type</th><th scope=col>co</th><th scope=col>quan</th><th scope=col>pps</th><th scope=col>basis</th><th scope=col>sale_quan</th><th scope=col>flag</th><th scope=col>buy_cf_quan</th><th scope=col>⋯</th><th scope=col>buy_pps</th><th scope=col>buy_basis</th><th scope=col>sell_quan</th><th scope=col>sell_pps</th><th scope=col>sell_basis</th><th scope=col>profit_loss</th><th scope=col>sold_cf_quan</th><th scope=col>sold_cf_pps</th><th scope=col>sold_cf_basis</th><th scope=col>true_false</th></tr>\n",
       "\t<tr><th></th><th scope=col>&lt;int&gt;</th><th scope=col>&lt;date&gt;</th><th scope=col>&lt;chr&gt;</th><th scope=col>&lt;chr&gt;</th><th scope=col>&lt;int&gt;</th><th scope=col>&lt;dbl&gt;</th><th scope=col>&lt;dbl&gt;</th><th scope=col>&lt;int&gt;</th><th scope=col>&lt;lgl&gt;</th><th scope=col>&lt;int&gt;</th><th scope=col>⋯</th><th scope=col>&lt;dbl&gt;</th><th scope=col>&lt;dbl&gt;</th><th scope=col>&lt;int&gt;</th><th scope=col>&lt;dbl&gt;</th><th scope=col>&lt;dbl&gt;</th><th scope=col>&lt;dbl&gt;</th><th scope=col>&lt;int&gt;</th><th scope=col>&lt;dbl&gt;</th><th scope=col>&lt;dbl&gt;</th><th scope=col>&lt;lgl&gt;</th></tr>\n",
       "</thead>\n",
       "<tbody>\n",
       "\t<tr><th scope=row>1</th><td>1</td><td>2022-12-31</td><td>Buy</td><td>AMC</td><td> 100</td><td>4.070</td><td>4273.5</td><td>0</td><td>FALSE</td><td>0</td><td>⋯</td><td>0</td><td>0</td><td>0</td><td>0</td><td>0</td><td>0</td><td>0</td><td>0</td><td>0</td><td>FALSE</td></tr>\n",
       "\t<tr><th scope=row>3</th><td>3</td><td>2023-01-20</td><td>Buy</td><td>AMC</td><td>1000</td><td>5.625</td><td>5625.0</td><td>0</td><td>FALSE</td><td>0</td><td>⋯</td><td>0</td><td>0</td><td>0</td><td>0</td><td>0</td><td>0</td><td>0</td><td>0</td><td>0</td><td>FALSE</td></tr>\n",
       "</tbody>\n",
       "</table>\n"
      ],
      "text/latex": [
       "A data.frame: 2 × 23\n",
       "\\begin{tabular}{r|lllllllllllllllllllll}\n",
       "  & index & date & type & co & quan & pps & basis & sale\\_quan & flag & buy\\_cf\\_quan & ⋯ & buy\\_pps & buy\\_basis & sell\\_quan & sell\\_pps & sell\\_basis & profit\\_loss & sold\\_cf\\_quan & sold\\_cf\\_pps & sold\\_cf\\_basis & true\\_false\\\\\n",
       "  & <int> & <date> & <chr> & <chr> & <int> & <dbl> & <dbl> & <int> & <lgl> & <int> & ⋯ & <dbl> & <dbl> & <int> & <dbl> & <dbl> & <dbl> & <int> & <dbl> & <dbl> & <lgl>\\\\\n",
       "\\hline\n",
       "\t1 & 1 & 2022-12-31 & Buy & AMC &  100 & 4.070 & 4273.5 & 0 & FALSE & 0 & ⋯ & 0 & 0 & 0 & 0 & 0 & 0 & 0 & 0 & 0 & FALSE\\\\\n",
       "\t3 & 3 & 2023-01-20 & Buy & AMC & 1000 & 5.625 & 5625.0 & 0 & FALSE & 0 & ⋯ & 0 & 0 & 0 & 0 & 0 & 0 & 0 & 0 & 0 & FALSE\\\\\n",
       "\\end{tabular}\n"
      ],
      "text/markdown": [
       "\n",
       "A data.frame: 2 × 23\n",
       "\n",
       "| <!--/--> | index &lt;int&gt; | date &lt;date&gt; | type &lt;chr&gt; | co &lt;chr&gt; | quan &lt;int&gt; | pps &lt;dbl&gt; | basis &lt;dbl&gt; | sale_quan &lt;int&gt; | flag &lt;lgl&gt; | buy_cf_quan &lt;int&gt; | ⋯ ⋯ | buy_pps &lt;dbl&gt; | buy_basis &lt;dbl&gt; | sell_quan &lt;int&gt; | sell_pps &lt;dbl&gt; | sell_basis &lt;dbl&gt; | profit_loss &lt;dbl&gt; | sold_cf_quan &lt;int&gt; | sold_cf_pps &lt;dbl&gt; | sold_cf_basis &lt;dbl&gt; | true_false &lt;lgl&gt; |\n",
       "|---|---|---|---|---|---|---|---|---|---|---|---|---|---|---|---|---|---|---|---|---|---|\n",
       "| 1 | 1 | 2022-12-31 | Buy | AMC |  100 | 4.070 | 4273.5 | 0 | FALSE | 0 | ⋯ | 0 | 0 | 0 | 0 | 0 | 0 | 0 | 0 | 0 | FALSE |\n",
       "| 3 | 3 | 2023-01-20 | Buy | AMC | 1000 | 5.625 | 5625.0 | 0 | FALSE | 0 | ⋯ | 0 | 0 | 0 | 0 | 0 | 0 | 0 | 0 | 0 | FALSE |\n",
       "\n"
      ],
      "text/plain": [
       "  index date       type co  quan pps   basis  sale_quan flag  buy_cf_quan ⋯\n",
       "1 1     2022-12-31 Buy  AMC  100 4.070 4273.5 0         FALSE 0           ⋯\n",
       "3 3     2023-01-20 Buy  AMC 1000 5.625 5625.0 0         FALSE 0           ⋯\n",
       "  buy_pps buy_basis sell_quan sell_pps sell_basis profit_loss sold_cf_quan\n",
       "1 0       0         0         0        0          0           0           \n",
       "3 0       0         0         0        0          0           0           \n",
       "  sold_cf_pps sold_cf_basis true_false\n",
       "1 0           0             FALSE     \n",
       "3 0           0             FALSE     "
      ]
     },
     "metadata": {},
     "output_type": "display_data"
    }
   ],
   "source": [
    "buys[1:2,]"
   ]
  },
  {
   "cell_type": "code",
   "execution_count": null,
   "id": "8a7fc960-faee-4028-aa4a-64f99694c3f1",
   "metadata": {},
   "outputs": [],
   "source": []
  },
  {
   "cell_type": "markdown",
   "id": "333f2288-156e-40d7-b4aa-c3f2d88ba08e",
   "metadata": {},
   "source": [
    "### <font color = yellow> 4. update_buys_sells() \n",
    "### <font color = yellow>  update buys or sells (add_row) when c/f\n",
    "    \n",
    "###### Uses add_row () to transform any existing carryforward (buy or sell type) into the next element that will be processed for next (loop) buy/sell transaction\n"
   ]
  },
  {
   "cell_type": "markdown",
   "id": "cd875283-4243-429e-bae5-fa14495c644f",
   "metadata": {},
   "source": [
    "#### <font color = lime> How it's done"
   ]
  },
  {
   "cell_type": "code",
   "execution_count": 24,
   "id": "54624e6b-c644-4f03-9403-7741466d233e",
   "metadata": {},
   "outputs": [
    {
     "data": {
      "text/html": [
       "<table class=\"dataframe\">\n",
       "<caption>A tibble: 4 × 2</caption>\n",
       "<thead>\n",
       "\t<tr><th scope=col>x</th><th scope=col>y</th></tr>\n",
       "\t<tr><th scope=col>&lt;dbl&gt;</th><th scope=col>&lt;dbl&gt;</th></tr>\n",
       "</thead>\n",
       "<tbody>\n",
       "\t<tr><td>1</td><td>3</td></tr>\n",
       "\t<tr><td>4</td><td>0</td></tr>\n",
       "\t<tr><td>2</td><td>2</td></tr>\n",
       "\t<tr><td>3</td><td>1</td></tr>\n",
       "</tbody>\n",
       "</table>\n"
      ],
      "text/latex": [
       "A tibble: 4 × 2\n",
       "\\begin{tabular}{ll}\n",
       " x & y\\\\\n",
       " <dbl> & <dbl>\\\\\n",
       "\\hline\n",
       "\t 1 & 3\\\\\n",
       "\t 4 & 0\\\\\n",
       "\t 2 & 2\\\\\n",
       "\t 3 & 1\\\\\n",
       "\\end{tabular}\n"
      ],
      "text/markdown": [
       "\n",
       "A tibble: 4 × 2\n",
       "\n",
       "| x &lt;dbl&gt; | y &lt;dbl&gt; |\n",
       "|---|---|\n",
       "| 1 | 3 |\n",
       "| 4 | 0 |\n",
       "| 2 | 2 |\n",
       "| 3 | 1 |\n",
       "\n"
      ],
      "text/plain": [
       "  x y\n",
       "1 1 3\n",
       "2 4 0\n",
       "3 2 2\n",
       "4 3 1"
      ]
     },
     "metadata": {},
     "output_type": "display_data"
    }
   ],
   "source": [
    "# good example from R:  ?add_row\n",
    "df <- tibble(x = 1:3, y = 3:1)\n",
    "\n",
    "df <- df %>% add_row(x = 4, y = 0, .before = 2)\n",
    "df"
   ]
  },
  {
   "cell_type": "code",
   "execution_count": 25,
   "id": "121b5752-626c-4e22-aaec-989b5009e98a",
   "metadata": {},
   "outputs": [
    {
     "data": {
      "text/html": [
       "<table class=\"dataframe\">\n",
       "<caption>A data.frame: 3 × 23</caption>\n",
       "<thead>\n",
       "\t<tr><th></th><th scope=col>index</th><th scope=col>date</th><th scope=col>type</th><th scope=col>co</th><th scope=col>quan</th><th scope=col>pps</th><th scope=col>basis</th><th scope=col>sale_quan</th><th scope=col>flag</th><th scope=col>buy_cf_quan</th><th scope=col>⋯</th><th scope=col>buy_pps</th><th scope=col>buy_basis</th><th scope=col>sell_quan</th><th scope=col>sell_pps</th><th scope=col>sell_basis</th><th scope=col>profit_loss</th><th scope=col>sold_cf_quan</th><th scope=col>sold_cf_pps</th><th scope=col>sold_cf_basis</th><th scope=col>true_false</th></tr>\n",
       "\t<tr><th></th><th scope=col>&lt;int&gt;</th><th scope=col>&lt;date&gt;</th><th scope=col>&lt;chr&gt;</th><th scope=col>&lt;chr&gt;</th><th scope=col>&lt;int&gt;</th><th scope=col>&lt;dbl&gt;</th><th scope=col>&lt;dbl&gt;</th><th scope=col>&lt;int&gt;</th><th scope=col>&lt;lgl&gt;</th><th scope=col>&lt;int&gt;</th><th scope=col>⋯</th><th scope=col>&lt;dbl&gt;</th><th scope=col>&lt;dbl&gt;</th><th scope=col>&lt;int&gt;</th><th scope=col>&lt;dbl&gt;</th><th scope=col>&lt;dbl&gt;</th><th scope=col>&lt;dbl&gt;</th><th scope=col>&lt;int&gt;</th><th scope=col>&lt;dbl&gt;</th><th scope=col>&lt;dbl&gt;</th><th scope=col>&lt;lgl&gt;</th></tr>\n",
       "</thead>\n",
       "<tbody>\n",
       "\t<tr><th scope=row>1</th><td>1</td><td>2022-12-31</td><td>Buy</td><td>AMC</td><td> 100</td><td>4.070</td><td>4273.5</td><td>0</td><td>FALSE</td><td>0</td><td>⋯</td><td>0</td><td>0</td><td>0</td><td>0</td><td>0</td><td>0</td><td>0</td><td>0</td><td>0</td><td>FALSE</td></tr>\n",
       "\t<tr><th scope=row>3</th><td>3</td><td>2023-01-20</td><td>Buy</td><td>AMC</td><td>1000</td><td>5.625</td><td>5625.0</td><td>0</td><td>FALSE</td><td>0</td><td>⋯</td><td>0</td><td>0</td><td>0</td><td>0</td><td>0</td><td>0</td><td>0</td><td>0</td><td>0</td><td>FALSE</td></tr>\n",
       "\t<tr><th scope=row>5</th><td>5</td><td>2023-01-23</td><td>Buy</td><td>AMC</td><td>1000</td><td>5.788</td><td>5788.0</td><td>0</td><td>FALSE</td><td>0</td><td>⋯</td><td>0</td><td>0</td><td>0</td><td>0</td><td>0</td><td>0</td><td>0</td><td>0</td><td>0</td><td>FALSE</td></tr>\n",
       "</tbody>\n",
       "</table>\n"
      ],
      "text/latex": [
       "A data.frame: 3 × 23\n",
       "\\begin{tabular}{r|lllllllllllllllllllll}\n",
       "  & index & date & type & co & quan & pps & basis & sale\\_quan & flag & buy\\_cf\\_quan & ⋯ & buy\\_pps & buy\\_basis & sell\\_quan & sell\\_pps & sell\\_basis & profit\\_loss & sold\\_cf\\_quan & sold\\_cf\\_pps & sold\\_cf\\_basis & true\\_false\\\\\n",
       "  & <int> & <date> & <chr> & <chr> & <int> & <dbl> & <dbl> & <int> & <lgl> & <int> & ⋯ & <dbl> & <dbl> & <int> & <dbl> & <dbl> & <dbl> & <int> & <dbl> & <dbl> & <lgl>\\\\\n",
       "\\hline\n",
       "\t1 & 1 & 2022-12-31 & Buy & AMC &  100 & 4.070 & 4273.5 & 0 & FALSE & 0 & ⋯ & 0 & 0 & 0 & 0 & 0 & 0 & 0 & 0 & 0 & FALSE\\\\\n",
       "\t3 & 3 & 2023-01-20 & Buy & AMC & 1000 & 5.625 & 5625.0 & 0 & FALSE & 0 & ⋯ & 0 & 0 & 0 & 0 & 0 & 0 & 0 & 0 & 0 & FALSE\\\\\n",
       "\t5 & 5 & 2023-01-23 & Buy & AMC & 1000 & 5.788 & 5788.0 & 0 & FALSE & 0 & ⋯ & 0 & 0 & 0 & 0 & 0 & 0 & 0 & 0 & 0 & FALSE\\\\\n",
       "\\end{tabular}\n"
      ],
      "text/markdown": [
       "\n",
       "A data.frame: 3 × 23\n",
       "\n",
       "| <!--/--> | index &lt;int&gt; | date &lt;date&gt; | type &lt;chr&gt; | co &lt;chr&gt; | quan &lt;int&gt; | pps &lt;dbl&gt; | basis &lt;dbl&gt; | sale_quan &lt;int&gt; | flag &lt;lgl&gt; | buy_cf_quan &lt;int&gt; | ⋯ ⋯ | buy_pps &lt;dbl&gt; | buy_basis &lt;dbl&gt; | sell_quan &lt;int&gt; | sell_pps &lt;dbl&gt; | sell_basis &lt;dbl&gt; | profit_loss &lt;dbl&gt; | sold_cf_quan &lt;int&gt; | sold_cf_pps &lt;dbl&gt; | sold_cf_basis &lt;dbl&gt; | true_false &lt;lgl&gt; |\n",
       "|---|---|---|---|---|---|---|---|---|---|---|---|---|---|---|---|---|---|---|---|---|---|\n",
       "| 1 | 1 | 2022-12-31 | Buy | AMC |  100 | 4.070 | 4273.5 | 0 | FALSE | 0 | ⋯ | 0 | 0 | 0 | 0 | 0 | 0 | 0 | 0 | 0 | FALSE |\n",
       "| 3 | 3 | 2023-01-20 | Buy | AMC | 1000 | 5.625 | 5625.0 | 0 | FALSE | 0 | ⋯ | 0 | 0 | 0 | 0 | 0 | 0 | 0 | 0 | 0 | FALSE |\n",
       "| 5 | 5 | 2023-01-23 | Buy | AMC | 1000 | 5.788 | 5788.0 | 0 | FALSE | 0 | ⋯ | 0 | 0 | 0 | 0 | 0 | 0 | 0 | 0 | 0 | FALSE |\n",
       "\n"
      ],
      "text/plain": [
       "  index date       type co  quan pps   basis  sale_quan flag  buy_cf_quan ⋯\n",
       "1 1     2022-12-31 Buy  AMC  100 4.070 4273.5 0         FALSE 0           ⋯\n",
       "3 3     2023-01-20 Buy  AMC 1000 5.625 5625.0 0         FALSE 0           ⋯\n",
       "5 5     2023-01-23 Buy  AMC 1000 5.788 5788.0 0         FALSE 0           ⋯\n",
       "  buy_pps buy_basis sell_quan sell_pps sell_basis profit_loss sold_cf_quan\n",
       "1 0       0         0         0        0          0           0           \n",
       "3 0       0         0         0        0          0           0           \n",
       "5 0       0         0         0        0          0           0           \n",
       "  sold_cf_pps sold_cf_basis true_false\n",
       "1 0           0             FALSE     \n",
       "3 0           0             FALSE     \n",
       "5 0           0             FALSE     "
      ]
     },
     "metadata": {},
     "output_type": "display_data"
    },
    {
     "data": {
      "text/html": [
       "<table class=\"dataframe\">\n",
       "<caption>A data.frame: 3 × 23</caption>\n",
       "<thead>\n",
       "\t<tr><th></th><th scope=col>index</th><th scope=col>date</th><th scope=col>type</th><th scope=col>co</th><th scope=col>quan</th><th scope=col>pps</th><th scope=col>basis</th><th scope=col>sale_quan</th><th scope=col>flag</th><th scope=col>buy_cf_quan</th><th scope=col>⋯</th><th scope=col>buy_pps</th><th scope=col>buy_basis</th><th scope=col>sell_quan</th><th scope=col>sell_pps</th><th scope=col>sell_basis</th><th scope=col>profit_loss</th><th scope=col>sold_cf_quan</th><th scope=col>sold_cf_pps</th><th scope=col>sold_cf_basis</th><th scope=col>true_false</th></tr>\n",
       "\t<tr><th></th><th scope=col>&lt;int&gt;</th><th scope=col>&lt;date&gt;</th><th scope=col>&lt;chr&gt;</th><th scope=col>&lt;chr&gt;</th><th scope=col>&lt;int&gt;</th><th scope=col>&lt;dbl&gt;</th><th scope=col>&lt;dbl&gt;</th><th scope=col>&lt;int&gt;</th><th scope=col>&lt;lgl&gt;</th><th scope=col>&lt;int&gt;</th><th scope=col>⋯</th><th scope=col>&lt;dbl&gt;</th><th scope=col>&lt;dbl&gt;</th><th scope=col>&lt;int&gt;</th><th scope=col>&lt;dbl&gt;</th><th scope=col>&lt;dbl&gt;</th><th scope=col>&lt;dbl&gt;</th><th scope=col>&lt;int&gt;</th><th scope=col>&lt;dbl&gt;</th><th scope=col>&lt;dbl&gt;</th><th scope=col>&lt;lgl&gt;</th></tr>\n",
       "</thead>\n",
       "<tbody>\n",
       "\t<tr><th scope=row>2</th><td>2</td><td>2023-01-27</td><td>Sell</td><td>AMC</td><td>1000</td><td>5.51240</td><td>5512.40</td><td>0</td><td>FALSE</td><td>0</td><td>⋯</td><td>0</td><td>0</td><td>0</td><td>0</td><td>0</td><td>0</td><td>0</td><td>0</td><td>0</td><td>FALSE</td></tr>\n",
       "\t<tr><th scope=row>4</th><td>4</td><td>2023-02-03</td><td>Sell</td><td>AMC</td><td>1000</td><td>6.68255</td><td>6682.55</td><td>0</td><td>FALSE</td><td>0</td><td>⋯</td><td>0</td><td>0</td><td>0</td><td>0</td><td>0</td><td>0</td><td>0</td><td>0</td><td>0</td><td>FALSE</td></tr>\n",
       "\t<tr><th scope=row>6</th><td>6</td><td>2023-02-03</td><td>Sell</td><td>AMC</td><td>1000</td><td>6.25500</td><td>6255.00</td><td>0</td><td>FALSE</td><td>0</td><td>⋯</td><td>0</td><td>0</td><td>0</td><td>0</td><td>0</td><td>0</td><td>0</td><td>0</td><td>0</td><td>FALSE</td></tr>\n",
       "</tbody>\n",
       "</table>\n"
      ],
      "text/latex": [
       "A data.frame: 3 × 23\n",
       "\\begin{tabular}{r|lllllllllllllllllllll}\n",
       "  & index & date & type & co & quan & pps & basis & sale\\_quan & flag & buy\\_cf\\_quan & ⋯ & buy\\_pps & buy\\_basis & sell\\_quan & sell\\_pps & sell\\_basis & profit\\_loss & sold\\_cf\\_quan & sold\\_cf\\_pps & sold\\_cf\\_basis & true\\_false\\\\\n",
       "  & <int> & <date> & <chr> & <chr> & <int> & <dbl> & <dbl> & <int> & <lgl> & <int> & ⋯ & <dbl> & <dbl> & <int> & <dbl> & <dbl> & <dbl> & <int> & <dbl> & <dbl> & <lgl>\\\\\n",
       "\\hline\n",
       "\t2 & 2 & 2023-01-27 & Sell & AMC & 1000 & 5.51240 & 5512.40 & 0 & FALSE & 0 & ⋯ & 0 & 0 & 0 & 0 & 0 & 0 & 0 & 0 & 0 & FALSE\\\\\n",
       "\t4 & 4 & 2023-02-03 & Sell & AMC & 1000 & 6.68255 & 6682.55 & 0 & FALSE & 0 & ⋯ & 0 & 0 & 0 & 0 & 0 & 0 & 0 & 0 & 0 & FALSE\\\\\n",
       "\t6 & 6 & 2023-02-03 & Sell & AMC & 1000 & 6.25500 & 6255.00 & 0 & FALSE & 0 & ⋯ & 0 & 0 & 0 & 0 & 0 & 0 & 0 & 0 & 0 & FALSE\\\\\n",
       "\\end{tabular}\n"
      ],
      "text/markdown": [
       "\n",
       "A data.frame: 3 × 23\n",
       "\n",
       "| <!--/--> | index &lt;int&gt; | date &lt;date&gt; | type &lt;chr&gt; | co &lt;chr&gt; | quan &lt;int&gt; | pps &lt;dbl&gt; | basis &lt;dbl&gt; | sale_quan &lt;int&gt; | flag &lt;lgl&gt; | buy_cf_quan &lt;int&gt; | ⋯ ⋯ | buy_pps &lt;dbl&gt; | buy_basis &lt;dbl&gt; | sell_quan &lt;int&gt; | sell_pps &lt;dbl&gt; | sell_basis &lt;dbl&gt; | profit_loss &lt;dbl&gt; | sold_cf_quan &lt;int&gt; | sold_cf_pps &lt;dbl&gt; | sold_cf_basis &lt;dbl&gt; | true_false &lt;lgl&gt; |\n",
       "|---|---|---|---|---|---|---|---|---|---|---|---|---|---|---|---|---|---|---|---|---|---|\n",
       "| 2 | 2 | 2023-01-27 | Sell | AMC | 1000 | 5.51240 | 5512.40 | 0 | FALSE | 0 | ⋯ | 0 | 0 | 0 | 0 | 0 | 0 | 0 | 0 | 0 | FALSE |\n",
       "| 4 | 4 | 2023-02-03 | Sell | AMC | 1000 | 6.68255 | 6682.55 | 0 | FALSE | 0 | ⋯ | 0 | 0 | 0 | 0 | 0 | 0 | 0 | 0 | 0 | FALSE |\n",
       "| 6 | 6 | 2023-02-03 | Sell | AMC | 1000 | 6.25500 | 6255.00 | 0 | FALSE | 0 | ⋯ | 0 | 0 | 0 | 0 | 0 | 0 | 0 | 0 | 0 | FALSE |\n",
       "\n"
      ],
      "text/plain": [
       "  index date       type co  quan pps     basis   sale_quan flag  buy_cf_quan ⋯\n",
       "2 2     2023-01-27 Sell AMC 1000 5.51240 5512.40 0         FALSE 0           ⋯\n",
       "4 4     2023-02-03 Sell AMC 1000 6.68255 6682.55 0         FALSE 0           ⋯\n",
       "6 6     2023-02-03 Sell AMC 1000 6.25500 6255.00 0         FALSE 0           ⋯\n",
       "  buy_pps buy_basis sell_quan sell_pps sell_basis profit_loss sold_cf_quan\n",
       "2 0       0         0         0        0          0           0           \n",
       "4 0       0         0         0        0          0           0           \n",
       "6 0       0         0         0        0          0           0           \n",
       "  sold_cf_pps sold_cf_basis true_false\n",
       "2 0           0             FALSE     \n",
       "4 0           0             FALSE     \n",
       "6 0           0             FALSE     "
      ]
     },
     "metadata": {},
     "output_type": "display_data"
    }
   ],
   "source": [
    "buys[1:3,]\n",
    "sells[1:3,]\n"
   ]
  },
  {
   "cell_type": "code",
   "execution_count": 26,
   "id": "98d6f4e9-48e0-47ab-9d2d-ed64dce572e7",
   "metadata": {},
   "outputs": [
    {
     "data": {
      "text/html": [
       "<style>\n",
       ".list-inline {list-style: none; margin:0; padding: 0}\n",
       ".list-inline>li {display: inline-block}\n",
       ".list-inline>li:not(:last-child)::after {content: \"\\00b7\"; padding: 0 .5ex}\n",
       "</style>\n",
       "<ol class=list-inline><li>23</li><li>23</li></ol>\n"
      ],
      "text/latex": [
       "\\begin{enumerate*}\n",
       "\\item 23\n",
       "\\item 23\n",
       "\\end{enumerate*}\n"
      ],
      "text/markdown": [
       "1. 23\n",
       "2. 23\n",
       "\n",
       "\n"
      ],
      "text/plain": [
       "[1] 23 23"
      ]
     },
     "metadata": {},
     "output_type": "display_data"
    },
    {
     "data": {
      "text/html": [
       "<style>\n",
       ".list-inline {list-style: none; margin:0; padding: 0}\n",
       ".list-inline>li {display: inline-block}\n",
       ".list-inline>li:not(:last-child)::after {content: \"\\00b7\"; padding: 0 .5ex}\n",
       "</style>\n",
       "<ol class=list-inline><li>18</li><li>23</li></ol>\n"
      ],
      "text/latex": [
       "\\begin{enumerate*}\n",
       "\\item 18\n",
       "\\item 23\n",
       "\\end{enumerate*}\n"
      ],
      "text/markdown": [
       "1. 18\n",
       "2. 23\n",
       "\n",
       "\n"
      ],
      "text/plain": [
       "[1] 18 23"
      ]
     },
     "metadata": {},
     "output_type": "display_data"
    }
   ],
   "source": [
    "dim(buys)\n",
    "dim(sells)"
   ]
  },
  {
   "cell_type": "code",
   "execution_count": 27,
   "id": "2ab35509-f0f5-4568-9118-4898d2f9043b",
   "metadata": {},
   "outputs": [
    {
     "data": {
      "text/html": [
       "<table class=\"dataframe\">\n",
       "<caption>A data.frame: 1 × 23</caption>\n",
       "<thead>\n",
       "\t<tr><th scope=col>index</th><th scope=col>date</th><th scope=col>type</th><th scope=col>co</th><th scope=col>quan</th><th scope=col>pps</th><th scope=col>basis</th><th scope=col>sale_quan</th><th scope=col>flag</th><th scope=col>buy_cf_quan</th><th scope=col>⋯</th><th scope=col>buy_pps</th><th scope=col>buy_basis</th><th scope=col>sell_quan</th><th scope=col>sell_pps</th><th scope=col>sell_basis</th><th scope=col>profit_loss</th><th scope=col>sold_cf_quan</th><th scope=col>sold_cf_pps</th><th scope=col>sold_cf_basis</th><th scope=col>true_false</th></tr>\n",
       "\t<tr><th scope=col>&lt;int&gt;</th><th scope=col>&lt;date&gt;</th><th scope=col>&lt;chr&gt;</th><th scope=col>&lt;chr&gt;</th><th scope=col>&lt;int&gt;</th><th scope=col>&lt;dbl&gt;</th><th scope=col>&lt;dbl&gt;</th><th scope=col>&lt;int&gt;</th><th scope=col>&lt;lgl&gt;</th><th scope=col>&lt;int&gt;</th><th scope=col>⋯</th><th scope=col>&lt;dbl&gt;</th><th scope=col>&lt;dbl&gt;</th><th scope=col>&lt;int&gt;</th><th scope=col>&lt;dbl&gt;</th><th scope=col>&lt;dbl&gt;</th><th scope=col>&lt;dbl&gt;</th><th scope=col>&lt;int&gt;</th><th scope=col>&lt;dbl&gt;</th><th scope=col>&lt;dbl&gt;</th><th scope=col>&lt;lgl&gt;</th></tr>\n",
       "</thead>\n",
       "<tbody>\n",
       "\t<tr><td>1</td><td>2022-12-31</td><td>Buy</td><td>AMC</td><td>100</td><td>4.07</td><td>407</td><td>100</td><td>FALSE</td><td>0</td><td>⋯</td><td>4.07</td><td>407</td><td>100</td><td>5.5124</td><td>551.24</td><td>144.24</td><td>900</td><td>5.5124</td><td>4961.16</td><td>TRUE</td></tr>\n",
       "</tbody>\n",
       "</table>\n"
      ],
      "text/latex": [
       "A data.frame: 1 × 23\n",
       "\\begin{tabular}{lllllllllllllllllllll}\n",
       " index & date & type & co & quan & pps & basis & sale\\_quan & flag & buy\\_cf\\_quan & ⋯ & buy\\_pps & buy\\_basis & sell\\_quan & sell\\_pps & sell\\_basis & profit\\_loss & sold\\_cf\\_quan & sold\\_cf\\_pps & sold\\_cf\\_basis & true\\_false\\\\\n",
       " <int> & <date> & <chr> & <chr> & <int> & <dbl> & <dbl> & <int> & <lgl> & <int> & ⋯ & <dbl> & <dbl> & <int> & <dbl> & <dbl> & <dbl> & <int> & <dbl> & <dbl> & <lgl>\\\\\n",
       "\\hline\n",
       "\t 1 & 2022-12-31 & Buy & AMC & 100 & 4.07 & 407 & 100 & FALSE & 0 & ⋯ & 4.07 & 407 & 100 & 5.5124 & 551.24 & 144.24 & 900 & 5.5124 & 4961.16 & TRUE\\\\\n",
       "\\end{tabular}\n"
      ],
      "text/markdown": [
       "\n",
       "A data.frame: 1 × 23\n",
       "\n",
       "| index &lt;int&gt; | date &lt;date&gt; | type &lt;chr&gt; | co &lt;chr&gt; | quan &lt;int&gt; | pps &lt;dbl&gt; | basis &lt;dbl&gt; | sale_quan &lt;int&gt; | flag &lt;lgl&gt; | buy_cf_quan &lt;int&gt; | ⋯ ⋯ | buy_pps &lt;dbl&gt; | buy_basis &lt;dbl&gt; | sell_quan &lt;int&gt; | sell_pps &lt;dbl&gt; | sell_basis &lt;dbl&gt; | profit_loss &lt;dbl&gt; | sold_cf_quan &lt;int&gt; | sold_cf_pps &lt;dbl&gt; | sold_cf_basis &lt;dbl&gt; | true_false &lt;lgl&gt; |\n",
       "|---|---|---|---|---|---|---|---|---|---|---|---|---|---|---|---|---|---|---|---|---|\n",
       "| 1 | 2022-12-31 | Buy | AMC | 100 | 4.07 | 407 | 100 | FALSE | 0 | ⋯ | 4.07 | 407 | 100 | 5.5124 | 551.24 | 144.24 | 900 | 5.5124 | 4961.16 | TRUE |\n",
       "\n"
      ],
      "text/plain": [
       "  index date       type co  quan pps  basis sale_quan flag  buy_cf_quan ⋯\n",
       "1 1     2022-12-31 Buy  AMC 100  4.07 407   100       FALSE 0           ⋯\n",
       "  buy_pps buy_basis sell_quan sell_pps sell_basis profit_loss sold_cf_quan\n",
       "1 4.07    407       100       5.5124   551.24     144.24      900         \n",
       "  sold_cf_pps sold_cf_basis true_false\n",
       "1 5.5124      4961.16       TRUE      "
      ]
     },
     "metadata": {},
     "output_type": "display_data"
    }
   ],
   "source": [
    "sale_records"
   ]
  },
  {
   "cell_type": "code",
   "execution_count": 28,
   "id": "2f39beb3-3e0c-4361-aa7f-8fc466eecd0c",
   "metadata": {},
   "outputs": [
    {
     "name": "stdout",
     "output_type": "stream",
     "text": [
      "\n",
      " There is Sold carryforward. Update sells  900 \n",
      "printing: s1 ... dim of sells increases with c/f  \n"
     ]
    },
    {
     "data": {
      "text/html": [
       "<style>\n",
       ".list-inline {list-style: none; margin:0; padding: 0}\n",
       ".list-inline>li {display: inline-block}\n",
       ".list-inline>li:not(:last-child)::after {content: \"\\00b7\"; padding: 0 .5ex}\n",
       "</style>\n",
       "<ol class=list-inline><li>24</li><li>23</li></ol>\n"
      ],
      "text/latex": [
       "\\begin{enumerate*}\n",
       "\\item 24\n",
       "\\item 23\n",
       "\\end{enumerate*}\n"
      ],
      "text/markdown": [
       "1. 24\n",
       "2. 23\n",
       "\n",
       "\n"
      ],
      "text/plain": [
       "[1] 24 23"
      ]
     },
     "metadata": {},
     "output_type": "display_data"
    },
    {
     "data": {
      "text/html": [
       "<style>\n",
       ".list-inline {list-style: none; margin:0; padding: 0}\n",
       ".list-inline>li {display: inline-block}\n",
       ".list-inline>li:not(:last-child)::after {content: \"\\00b7\"; padding: 0 .5ex}\n",
       "</style>\n",
       "<ol class=list-inline><li>19</li><li>23</li></ol>\n"
      ],
      "text/latex": [
       "\\begin{enumerate*}\n",
       "\\item 19\n",
       "\\item 23\n",
       "\\end{enumerate*}\n"
      ],
      "text/markdown": [
       "1. 19\n",
       "2. 23\n",
       "\n",
       "\n"
      ],
      "text/plain": [
       "[1] 19 23"
      ]
     },
     "metadata": {},
     "output_type": "display_data"
    }
   ],
   "source": [
    "# Evaluate the type of carryforward, then update buys or sells w/cf to prepare for next transaction (loop)\n",
    "\n",
    "update_buys_sells <- function(buys, sells) {\n",
    "\n",
    "    #  Check the most recent row ??? of sale_record or the last row of sale_record (was bind() or add_row() ? )\n",
    "    \n",
    "   last_row <- head(sale_records, n = 1)\n",
    "   \n",
    "    #first_row <- head(sale_records, n=1)\n",
    "    \n",
    "    # b == s (no c/f)\n",
    "    if(last_row$flag == FALSE && last_row$true_false == FALSE) {\n",
    "         cat(\"\\n\", \"The buy == sell, t/f No update to buys or sells.  NO carryforward. \", last_row$buy_cf_quan, \"\\n\")\n",
    "      }  \n",
    "        \n",
    "    # both start with the same inputs from the sale_records\n",
    "    b1 <- last_row\n",
    "    s1 <- last_row\n",
    "    \n",
    "    \n",
    "    \n",
    "    \n",
    "    \n",
    "    \n",
    "    \n",
    "    #  b > s  ... buy c/f will be created \n",
    "   \n",
    "    if (last_row$flag == TRUE && last_row$true_false == FALSE ) {\n",
    "        \n",
    "        \n",
    "        cat(\"\\n\", \"There is Buy carryforward. Update buys \", last_row$sold_cf_quan, \"\\n\")\n",
    "\n",
    "        last_row$co <- \"c/f\"\n",
    "       \n",
    "        \n",
    "        \n",
    "   \n",
    "        \n",
    "        \n",
    "# -------------------------------------------------------------------------------------------------------------------------   \n",
    "        \n",
    "        \n",
    "        # NEW  ... This section makes changes in sells[2, ]  which becomes sells[3,] , due to add_row()\n",
    "                \n",
    "        \n",
    "        s2cf_quan <- sells$quan[2] - s1$sold_cf_quan\n",
    "        s2cf_pps <- sells$pps[2]\n",
    "        \n",
    "        cat(\"the s2cf_quan is: \", s2cf_quan, \"\\n\")\n",
    "        cat(\"the s2cf_pps is \", s2cf_pps, \"\\n\")\n",
    "        \n",
    "        sells$quan[2] <- s2cf_quan\n",
    "        sells$pps[2] <-  s1$sell_pps                     #    s2cf_pps \n",
    "        sells[2, ]\n",
    "        sells$basis[2] <- sells$pps[2] * s2cf_quan\n",
    "        \n",
    "        \n",
    "       \n",
    "        \n",
    "# -------------------------------------------------------------------------------------------------------------------------    \n",
    "        \n",
    "        \n",
    "        #  The section updates b1   .... t/f buys\n",
    "        \n",
    "       \n",
    "        b1$type <- \"Buy CF\"\n",
    "        b1$quan <- b1$sold_cf_quan\n",
    "        b1$pps <- b1$sold_cf_pps\n",
    "        b1$basis <- b1$sold_cf_basis\n",
    "        b1$flag <- TRUE\n",
    "        b1$sale_quan <- 0\n",
    "        b1[ , 10:ncol(b1)] <- 0\n",
    "\n",
    "        test <- buys\n",
    "        \n",
    "      #  test <- test %>% add_row(b1, .before = 1)\n",
    "        test <- test %>% add_row(b1, .after = 1)\n",
    "        buys <- test\n",
    "        \n",
    "  # ---------------------------------------------------------------------------------------------------------------      \n",
    "        \n",
    "               \n",
    "        # this section updates s1 ... t/f sells\n",
    "       \n",
    "        \n",
    "            \n",
    "        last_row$co <- \"c/f\"    \n",
    "        \n",
    "       \n",
    "        s1$type <- \"Sell CF\"\n",
    "        s1$quan <- s1$sold_cf_quan\n",
    "        s1$pps <-  s1$sell_pps               #    s1$sold_cf_pps\n",
    "        s1$basis <- s1$sell_pps\n",
    "        s1$sale_quan <- 0\n",
    "        s1[ , 10:ncol(s1)] <- 0\n",
    "\n",
    "        test <- sells\n",
    "        test <- test %>% add_row(s1, .before = 1)\n",
    "        sells <- test\n",
    "        \n",
    " \n",
    "        \n",
    "        \n",
    "# =================================================================================================================\n",
    "# ==============================================================================================================\n",
    "        \n",
    "        \n",
    "             #   s > b ... sell carryforward will be created    \n",
    "        \n",
    "\n",
    "    \n",
    "    } else if (last_row$flag == FALSE && last_row$true_false == TRUE ) {\n",
    "        \n",
    "        \n",
    "       \n",
    "        cat(\"\\n\", \"There is Sold carryforward. Update sells \", last_row$sold_cf_quan, \"\\n\")\n",
    "           # cat(\"dim(s1) : \", dim(s1), \"\\n\")\n",
    "         \n",
    "        last_row$co <- \"c/f\"      \n",
    "       \n",
    "        s1$type <- \"Sell CF\"\n",
    "        s1$quan <- s1$sold_cf_quan\n",
    "        s1$pps <- sells$pps[2]\n",
    "        s1$basis <- s1$sold_cf_basis\n",
    "        s1$sale_quan <- 0\n",
    "        s1[ , 10:ncol(s1)] <- 0\n",
    "\n",
    "        test <- sells\n",
    "        test <- test %>% add_row(s1, .before = 1)\n",
    "        sells <- test\n",
    "        \n",
    "        ## must also update the buys to match that sells c/f (this will allow for loop2 to begin \n",
    "        ## with both the buy and sell processing the c/f (example when sell cf = 900, then the \n",
    "        ## buy row needs to be that same 900 .... do not delete, just update here and now \n",
    "        \n",
    "        b1$type <- \"Buy CF\"\n",
    "        b1$quan <- b1$sold_cf_quan\n",
    "        b1$pps <- b1$sold_cf_pps\n",
    "        b1$basis <- b1$sold_cf_basis\n",
    "        b1$flag <- TRUE\n",
    "        \n",
    "        b1$sale_quan <- 0\n",
    "        b1[ , 10:ncol(b1)] <- 0\n",
    "        \n",
    "        test2 <- buys\n",
    "        test2 <- test2 %>% add_row(b1, .before = 1)\n",
    "        buys <- test2\n",
    "                      \n",
    "        }\n",
    "\n",
    "    # print by type of c/f  ( buy or sell ) \n",
    "        if(last_row$flag == TRUE) {\n",
    "            cat(\"printing updated buys[1 ], dim of buys increases with c/f \", \"\\n\")\n",
    "            b1\n",
    "            #buys[1, ]\n",
    "        }else if (last_row$true_false == TRUE) {\n",
    "            cat(\"printing: s1 ... dim of sells increases with c/f \", \"\\n\")\n",
    "            s1\n",
    "        }else {\n",
    "            cat(\"If msg here, there is no CF and potential issue exists in fct update_buys_sells. \", \"\\n\")\n",
    "            }\n",
    "    \n",
    "    return(list(buys, sells))\n",
    "     \n",
    "  }  # fct\n",
    "\n",
    "# fct call\n",
    "return_list <- update_buys_sells(buys, sells)\n",
    "\n",
    "buys <- return_list[[1]]\n",
    "sells <- return_list[[2]]\n",
    "\n",
    "dim(buys)\n",
    "dim(sells)\n"
   ]
  },
  {
   "cell_type": "code",
   "execution_count": 29,
   "id": "500bcca7-badf-49eb-908c-638ee38fd67d",
   "metadata": {},
   "outputs": [
    {
     "data": {
      "text/html": [
       "<table class=\"dataframe\">\n",
       "<caption>A data.frame: 4 × 23</caption>\n",
       "<thead>\n",
       "\t<tr><th></th><th scope=col>index</th><th scope=col>date</th><th scope=col>type</th><th scope=col>co</th><th scope=col>quan</th><th scope=col>pps</th><th scope=col>basis</th><th scope=col>sale_quan</th><th scope=col>flag</th><th scope=col>buy_cf_quan</th><th scope=col>⋯</th><th scope=col>buy_pps</th><th scope=col>buy_basis</th><th scope=col>sell_quan</th><th scope=col>sell_pps</th><th scope=col>sell_basis</th><th scope=col>profit_loss</th><th scope=col>sold_cf_quan</th><th scope=col>sold_cf_pps</th><th scope=col>sold_cf_basis</th><th scope=col>true_false</th></tr>\n",
       "\t<tr><th></th><th scope=col>&lt;int&gt;</th><th scope=col>&lt;date&gt;</th><th scope=col>&lt;chr&gt;</th><th scope=col>&lt;chr&gt;</th><th scope=col>&lt;int&gt;</th><th scope=col>&lt;dbl&gt;</th><th scope=col>&lt;dbl&gt;</th><th scope=col>&lt;dbl&gt;</th><th scope=col>&lt;lgl&gt;</th><th scope=col>&lt;dbl&gt;</th><th scope=col>⋯</th><th scope=col>&lt;dbl&gt;</th><th scope=col>&lt;dbl&gt;</th><th scope=col>&lt;dbl&gt;</th><th scope=col>&lt;dbl&gt;</th><th scope=col>&lt;dbl&gt;</th><th scope=col>&lt;dbl&gt;</th><th scope=col>&lt;dbl&gt;</th><th scope=col>&lt;dbl&gt;</th><th scope=col>&lt;dbl&gt;</th><th scope=col>&lt;dbl&gt;</th></tr>\n",
       "</thead>\n",
       "<tbody>\n",
       "\t<tr><th scope=row>1</th><td>1</td><td>2022-12-31</td><td>Buy CF</td><td>AMC</td><td> 900</td><td>5.5124</td><td>4961.16</td><td>0</td><td> TRUE</td><td>0</td><td>⋯</td><td>0</td><td>0</td><td>0</td><td>0</td><td>0</td><td>0</td><td>0</td><td>0</td><td>0</td><td>0</td></tr>\n",
       "\t<tr><th scope=row>2</th><td>1</td><td>2022-12-31</td><td>Buy   </td><td>AMC</td><td> 100</td><td>4.0700</td><td>4273.50</td><td>0</td><td>FALSE</td><td>0</td><td>⋯</td><td>0</td><td>0</td><td>0</td><td>0</td><td>0</td><td>0</td><td>0</td><td>0</td><td>0</td><td>0</td></tr>\n",
       "\t<tr><th scope=row>3</th><td>3</td><td>2023-01-20</td><td>Buy   </td><td>AMC</td><td>1000</td><td>5.6250</td><td>5625.00</td><td>0</td><td>FALSE</td><td>0</td><td>⋯</td><td>0</td><td>0</td><td>0</td><td>0</td><td>0</td><td>0</td><td>0</td><td>0</td><td>0</td><td>0</td></tr>\n",
       "\t<tr><th scope=row>4</th><td>5</td><td>2023-01-23</td><td>Buy   </td><td>AMC</td><td>1000</td><td>5.7880</td><td>5788.00</td><td>0</td><td>FALSE</td><td>0</td><td>⋯</td><td>0</td><td>0</td><td>0</td><td>0</td><td>0</td><td>0</td><td>0</td><td>0</td><td>0</td><td>0</td></tr>\n",
       "</tbody>\n",
       "</table>\n"
      ],
      "text/latex": [
       "A data.frame: 4 × 23\n",
       "\\begin{tabular}{r|lllllllllllllllllllll}\n",
       "  & index & date & type & co & quan & pps & basis & sale\\_quan & flag & buy\\_cf\\_quan & ⋯ & buy\\_pps & buy\\_basis & sell\\_quan & sell\\_pps & sell\\_basis & profit\\_loss & sold\\_cf\\_quan & sold\\_cf\\_pps & sold\\_cf\\_basis & true\\_false\\\\\n",
       "  & <int> & <date> & <chr> & <chr> & <int> & <dbl> & <dbl> & <dbl> & <lgl> & <dbl> & ⋯ & <dbl> & <dbl> & <dbl> & <dbl> & <dbl> & <dbl> & <dbl> & <dbl> & <dbl> & <dbl>\\\\\n",
       "\\hline\n",
       "\t1 & 1 & 2022-12-31 & Buy CF & AMC &  900 & 5.5124 & 4961.16 & 0 &  TRUE & 0 & ⋯ & 0 & 0 & 0 & 0 & 0 & 0 & 0 & 0 & 0 & 0\\\\\n",
       "\t2 & 1 & 2022-12-31 & Buy    & AMC &  100 & 4.0700 & 4273.50 & 0 & FALSE & 0 & ⋯ & 0 & 0 & 0 & 0 & 0 & 0 & 0 & 0 & 0 & 0\\\\\n",
       "\t3 & 3 & 2023-01-20 & Buy    & AMC & 1000 & 5.6250 & 5625.00 & 0 & FALSE & 0 & ⋯ & 0 & 0 & 0 & 0 & 0 & 0 & 0 & 0 & 0 & 0\\\\\n",
       "\t4 & 5 & 2023-01-23 & Buy    & AMC & 1000 & 5.7880 & 5788.00 & 0 & FALSE & 0 & ⋯ & 0 & 0 & 0 & 0 & 0 & 0 & 0 & 0 & 0 & 0\\\\\n",
       "\\end{tabular}\n"
      ],
      "text/markdown": [
       "\n",
       "A data.frame: 4 × 23\n",
       "\n",
       "| <!--/--> | index &lt;int&gt; | date &lt;date&gt; | type &lt;chr&gt; | co &lt;chr&gt; | quan &lt;int&gt; | pps &lt;dbl&gt; | basis &lt;dbl&gt; | sale_quan &lt;dbl&gt; | flag &lt;lgl&gt; | buy_cf_quan &lt;dbl&gt; | ⋯ ⋯ | buy_pps &lt;dbl&gt; | buy_basis &lt;dbl&gt; | sell_quan &lt;dbl&gt; | sell_pps &lt;dbl&gt; | sell_basis &lt;dbl&gt; | profit_loss &lt;dbl&gt; | sold_cf_quan &lt;dbl&gt; | sold_cf_pps &lt;dbl&gt; | sold_cf_basis &lt;dbl&gt; | true_false &lt;dbl&gt; |\n",
       "|---|---|---|---|---|---|---|---|---|---|---|---|---|---|---|---|---|---|---|---|---|---|\n",
       "| 1 | 1 | 2022-12-31 | Buy CF | AMC |  900 | 5.5124 | 4961.16 | 0 |  TRUE | 0 | ⋯ | 0 | 0 | 0 | 0 | 0 | 0 | 0 | 0 | 0 | 0 |\n",
       "| 2 | 1 | 2022-12-31 | Buy    | AMC |  100 | 4.0700 | 4273.50 | 0 | FALSE | 0 | ⋯ | 0 | 0 | 0 | 0 | 0 | 0 | 0 | 0 | 0 | 0 |\n",
       "| 3 | 3 | 2023-01-20 | Buy    | AMC | 1000 | 5.6250 | 5625.00 | 0 | FALSE | 0 | ⋯ | 0 | 0 | 0 | 0 | 0 | 0 | 0 | 0 | 0 | 0 |\n",
       "| 4 | 5 | 2023-01-23 | Buy    | AMC | 1000 | 5.7880 | 5788.00 | 0 | FALSE | 0 | ⋯ | 0 | 0 | 0 | 0 | 0 | 0 | 0 | 0 | 0 | 0 |\n",
       "\n"
      ],
      "text/plain": [
       "  index date       type   co  quan pps    basis   sale_quan flag  buy_cf_quan ⋯\n",
       "1 1     2022-12-31 Buy CF AMC  900 5.5124 4961.16 0          TRUE 0           ⋯\n",
       "2 1     2022-12-31 Buy    AMC  100 4.0700 4273.50 0         FALSE 0           ⋯\n",
       "3 3     2023-01-20 Buy    AMC 1000 5.6250 5625.00 0         FALSE 0           ⋯\n",
       "4 5     2023-01-23 Buy    AMC 1000 5.7880 5788.00 0         FALSE 0           ⋯\n",
       "  buy_pps buy_basis sell_quan sell_pps sell_basis profit_loss sold_cf_quan\n",
       "1 0       0         0         0        0          0           0           \n",
       "2 0       0         0         0        0          0           0           \n",
       "3 0       0         0         0        0          0           0           \n",
       "4 0       0         0         0        0          0           0           \n",
       "  sold_cf_pps sold_cf_basis true_false\n",
       "1 0           0             0         \n",
       "2 0           0             0         \n",
       "3 0           0             0         \n",
       "4 0           0             0         "
      ]
     },
     "metadata": {},
     "output_type": "display_data"
    },
    {
     "data": {
      "text/html": [
       "<table class=\"dataframe\">\n",
       "<caption>A data.frame: 4 × 23</caption>\n",
       "<thead>\n",
       "\t<tr><th></th><th scope=col>index</th><th scope=col>date</th><th scope=col>type</th><th scope=col>co</th><th scope=col>quan</th><th scope=col>pps</th><th scope=col>basis</th><th scope=col>sale_quan</th><th scope=col>flag</th><th scope=col>buy_cf_quan</th><th scope=col>⋯</th><th scope=col>buy_pps</th><th scope=col>buy_basis</th><th scope=col>sell_quan</th><th scope=col>sell_pps</th><th scope=col>sell_basis</th><th scope=col>profit_loss</th><th scope=col>sold_cf_quan</th><th scope=col>sold_cf_pps</th><th scope=col>sold_cf_basis</th><th scope=col>true_false</th></tr>\n",
       "\t<tr><th></th><th scope=col>&lt;int&gt;</th><th scope=col>&lt;date&gt;</th><th scope=col>&lt;chr&gt;</th><th scope=col>&lt;chr&gt;</th><th scope=col>&lt;int&gt;</th><th scope=col>&lt;dbl&gt;</th><th scope=col>&lt;dbl&gt;</th><th scope=col>&lt;dbl&gt;</th><th scope=col>&lt;lgl&gt;</th><th scope=col>&lt;dbl&gt;</th><th scope=col>⋯</th><th scope=col>&lt;dbl&gt;</th><th scope=col>&lt;dbl&gt;</th><th scope=col>&lt;dbl&gt;</th><th scope=col>&lt;dbl&gt;</th><th scope=col>&lt;dbl&gt;</th><th scope=col>&lt;dbl&gt;</th><th scope=col>&lt;dbl&gt;</th><th scope=col>&lt;dbl&gt;</th><th scope=col>&lt;dbl&gt;</th><th scope=col>&lt;dbl&gt;</th></tr>\n",
       "</thead>\n",
       "<tbody>\n",
       "\t<tr><th scope=row>1</th><td>1</td><td>2022-12-31</td><td>Sell CF</td><td>AMC</td><td> 900</td><td>6.68255</td><td>4961.16</td><td>0</td><td>FALSE</td><td>0</td><td>⋯</td><td>0</td><td>0</td><td>0</td><td>0</td><td>0</td><td>0</td><td>0</td><td>0</td><td>0</td><td>0</td></tr>\n",
       "\t<tr><th scope=row>2</th><td>2</td><td>2023-01-27</td><td>Sell   </td><td>AMC</td><td>1000</td><td>5.51240</td><td>5512.40</td><td>0</td><td>FALSE</td><td>0</td><td>⋯</td><td>0</td><td>0</td><td>0</td><td>0</td><td>0</td><td>0</td><td>0</td><td>0</td><td>0</td><td>0</td></tr>\n",
       "\t<tr><th scope=row>3</th><td>4</td><td>2023-02-03</td><td>Sell   </td><td>AMC</td><td>1000</td><td>6.68255</td><td>6682.55</td><td>0</td><td>FALSE</td><td>0</td><td>⋯</td><td>0</td><td>0</td><td>0</td><td>0</td><td>0</td><td>0</td><td>0</td><td>0</td><td>0</td><td>0</td></tr>\n",
       "\t<tr><th scope=row>4</th><td>6</td><td>2023-02-03</td><td>Sell   </td><td>AMC</td><td>1000</td><td>6.25500</td><td>6255.00</td><td>0</td><td>FALSE</td><td>0</td><td>⋯</td><td>0</td><td>0</td><td>0</td><td>0</td><td>0</td><td>0</td><td>0</td><td>0</td><td>0</td><td>0</td></tr>\n",
       "</tbody>\n",
       "</table>\n"
      ],
      "text/latex": [
       "A data.frame: 4 × 23\n",
       "\\begin{tabular}{r|lllllllllllllllllllll}\n",
       "  & index & date & type & co & quan & pps & basis & sale\\_quan & flag & buy\\_cf\\_quan & ⋯ & buy\\_pps & buy\\_basis & sell\\_quan & sell\\_pps & sell\\_basis & profit\\_loss & sold\\_cf\\_quan & sold\\_cf\\_pps & sold\\_cf\\_basis & true\\_false\\\\\n",
       "  & <int> & <date> & <chr> & <chr> & <int> & <dbl> & <dbl> & <dbl> & <lgl> & <dbl> & ⋯ & <dbl> & <dbl> & <dbl> & <dbl> & <dbl> & <dbl> & <dbl> & <dbl> & <dbl> & <dbl>\\\\\n",
       "\\hline\n",
       "\t1 & 1 & 2022-12-31 & Sell CF & AMC &  900 & 6.68255 & 4961.16 & 0 & FALSE & 0 & ⋯ & 0 & 0 & 0 & 0 & 0 & 0 & 0 & 0 & 0 & 0\\\\\n",
       "\t2 & 2 & 2023-01-27 & Sell    & AMC & 1000 & 5.51240 & 5512.40 & 0 & FALSE & 0 & ⋯ & 0 & 0 & 0 & 0 & 0 & 0 & 0 & 0 & 0 & 0\\\\\n",
       "\t3 & 4 & 2023-02-03 & Sell    & AMC & 1000 & 6.68255 & 6682.55 & 0 & FALSE & 0 & ⋯ & 0 & 0 & 0 & 0 & 0 & 0 & 0 & 0 & 0 & 0\\\\\n",
       "\t4 & 6 & 2023-02-03 & Sell    & AMC & 1000 & 6.25500 & 6255.00 & 0 & FALSE & 0 & ⋯ & 0 & 0 & 0 & 0 & 0 & 0 & 0 & 0 & 0 & 0\\\\\n",
       "\\end{tabular}\n"
      ],
      "text/markdown": [
       "\n",
       "A data.frame: 4 × 23\n",
       "\n",
       "| <!--/--> | index &lt;int&gt; | date &lt;date&gt; | type &lt;chr&gt; | co &lt;chr&gt; | quan &lt;int&gt; | pps &lt;dbl&gt; | basis &lt;dbl&gt; | sale_quan &lt;dbl&gt; | flag &lt;lgl&gt; | buy_cf_quan &lt;dbl&gt; | ⋯ ⋯ | buy_pps &lt;dbl&gt; | buy_basis &lt;dbl&gt; | sell_quan &lt;dbl&gt; | sell_pps &lt;dbl&gt; | sell_basis &lt;dbl&gt; | profit_loss &lt;dbl&gt; | sold_cf_quan &lt;dbl&gt; | sold_cf_pps &lt;dbl&gt; | sold_cf_basis &lt;dbl&gt; | true_false &lt;dbl&gt; |\n",
       "|---|---|---|---|---|---|---|---|---|---|---|---|---|---|---|---|---|---|---|---|---|---|\n",
       "| 1 | 1 | 2022-12-31 | Sell CF | AMC |  900 | 6.68255 | 4961.16 | 0 | FALSE | 0 | ⋯ | 0 | 0 | 0 | 0 | 0 | 0 | 0 | 0 | 0 | 0 |\n",
       "| 2 | 2 | 2023-01-27 | Sell    | AMC | 1000 | 5.51240 | 5512.40 | 0 | FALSE | 0 | ⋯ | 0 | 0 | 0 | 0 | 0 | 0 | 0 | 0 | 0 | 0 |\n",
       "| 3 | 4 | 2023-02-03 | Sell    | AMC | 1000 | 6.68255 | 6682.55 | 0 | FALSE | 0 | ⋯ | 0 | 0 | 0 | 0 | 0 | 0 | 0 | 0 | 0 | 0 |\n",
       "| 4 | 6 | 2023-02-03 | Sell    | AMC | 1000 | 6.25500 | 6255.00 | 0 | FALSE | 0 | ⋯ | 0 | 0 | 0 | 0 | 0 | 0 | 0 | 0 | 0 | 0 |\n",
       "\n"
      ],
      "text/plain": [
       "  index date       type    co  quan pps     basis   sale_quan flag  buy_cf_quan\n",
       "1 1     2022-12-31 Sell CF AMC  900 6.68255 4961.16 0         FALSE 0          \n",
       "2 2     2023-01-27 Sell    AMC 1000 5.51240 5512.40 0         FALSE 0          \n",
       "3 4     2023-02-03 Sell    AMC 1000 6.68255 6682.55 0         FALSE 0          \n",
       "4 6     2023-02-03 Sell    AMC 1000 6.25500 6255.00 0         FALSE 0          \n",
       "  ⋯ buy_pps buy_basis sell_quan sell_pps sell_basis profit_loss sold_cf_quan\n",
       "1 ⋯ 0       0         0         0        0          0           0           \n",
       "2 ⋯ 0       0         0         0        0          0           0           \n",
       "3 ⋯ 0       0         0         0        0          0           0           \n",
       "4 ⋯ 0       0         0         0        0          0           0           \n",
       "  sold_cf_pps sold_cf_basis true_false\n",
       "1 0           0             0         \n",
       "2 0           0             0         \n",
       "3 0           0             0         \n",
       "4 0           0             0         "
      ]
     },
     "metadata": {},
     "output_type": "display_data"
    }
   ],
   "source": [
    "buys[1:4,]\n",
    "sells[1:4,]\n"
   ]
  },
  {
   "cell_type": "markdown",
   "id": "35cf7052-5523-4b99-a0df-0e38fe1d320c",
   "metadata": {},
   "source": [
    "#### <font color = yellow>5. Snip(), delete row from buys and sells / replace row when c/f "
   ]
  },
  {
   "cell_type": "code",
   "execution_count": null,
   "id": "22c08f90-8fd4-4aa8-ae33-ab4b62916a46",
   "metadata": {},
   "outputs": [],
   "source": []
  },
  {
   "cell_type": "code",
   "execution_count": 30,
   "id": "7d330d3b-59bf-4c2e-8ea5-dc00679a8f91",
   "metadata": {},
   "outputs": [
    {
     "data": {
      "text/html": [
       "<style>\n",
       ".list-inline {list-style: none; margin:0; padding: 0}\n",
       ".list-inline>li {display: inline-block}\n",
       ".list-inline>li:not(:last-child)::after {content: \"\\00b7\"; padding: 0 .5ex}\n",
       "</style>\n",
       "<ol class=list-inline><li>-2.2</li><li>-0.3</li></ol>\n"
      ],
      "text/latex": [
       "\\begin{enumerate*}\n",
       "\\item -2.2\n",
       "\\item -0.3\n",
       "\\end{enumerate*}\n"
      ],
      "text/markdown": [
       "1. -2.2\n",
       "2. -0.3\n",
       "\n",
       "\n"
      ],
      "text/plain": [
       "[1] -2.2 -0.3"
      ]
     },
     "metadata": {},
     "output_type": "display_data"
    },
    {
     "name": "stdout",
     "output_type": "stream",
     "text": [
      "x contains negative values\n"
     ]
    }
   ],
   "source": [
    "range(x <- sort(round(stats::rnorm(10) - 1.2, 1)))\n",
    "\n",
    "if(any(x < 0)) cat(\"x contains negative values\\n\")"
   ]
  },
  {
   "cell_type": "code",
   "execution_count": 31,
   "id": "b98a24ae-cee2-47ff-92fd-b090bc365061",
   "metadata": {},
   "outputs": [
    {
     "name": "stdout",
     "output_type": "stream",
     "text": [
      "buys contains cf \n"
     ]
    }
   ],
   "source": [
    "if(any(buys[1,] == TRUE)) cat(\"buys contains cf \\n\")"
   ]
  },
  {
   "cell_type": "code",
   "execution_count": null,
   "id": "bfae2aff-a8fe-4b4c-8844-0a4c469238f9",
   "metadata": {},
   "outputs": [],
   "source": []
  },
  {
   "cell_type": "code",
   "execution_count": 32,
   "id": "4e1448e8-7836-4aae-85a5-87e6eb473b4a",
   "metadata": {},
   "outputs": [
    {
     "data": {
      "text/html": [
       "<table class=\"dataframe\">\n",
       "<caption>A data.frame: 1 × 23</caption>\n",
       "<thead>\n",
       "\t<tr><th scope=col>index</th><th scope=col>date</th><th scope=col>type</th><th scope=col>co</th><th scope=col>quan</th><th scope=col>pps</th><th scope=col>basis</th><th scope=col>sale_quan</th><th scope=col>flag</th><th scope=col>buy_cf_quan</th><th scope=col>⋯</th><th scope=col>buy_pps</th><th scope=col>buy_basis</th><th scope=col>sell_quan</th><th scope=col>sell_pps</th><th scope=col>sell_basis</th><th scope=col>profit_loss</th><th scope=col>sold_cf_quan</th><th scope=col>sold_cf_pps</th><th scope=col>sold_cf_basis</th><th scope=col>true_false</th></tr>\n",
       "\t<tr><th scope=col>&lt;int&gt;</th><th scope=col>&lt;date&gt;</th><th scope=col>&lt;chr&gt;</th><th scope=col>&lt;chr&gt;</th><th scope=col>&lt;int&gt;</th><th scope=col>&lt;dbl&gt;</th><th scope=col>&lt;dbl&gt;</th><th scope=col>&lt;int&gt;</th><th scope=col>&lt;lgl&gt;</th><th scope=col>&lt;int&gt;</th><th scope=col>⋯</th><th scope=col>&lt;dbl&gt;</th><th scope=col>&lt;dbl&gt;</th><th scope=col>&lt;int&gt;</th><th scope=col>&lt;dbl&gt;</th><th scope=col>&lt;dbl&gt;</th><th scope=col>&lt;dbl&gt;</th><th scope=col>&lt;int&gt;</th><th scope=col>&lt;dbl&gt;</th><th scope=col>&lt;dbl&gt;</th><th scope=col>&lt;lgl&gt;</th></tr>\n",
       "</thead>\n",
       "<tbody>\n",
       "\t<tr><td>1</td><td>2022-12-31</td><td>Buy</td><td>AMC</td><td>100</td><td>4.07</td><td>407</td><td>100</td><td>FALSE</td><td>0</td><td>⋯</td><td>4.07</td><td>407</td><td>100</td><td>5.5124</td><td>551.24</td><td>144.24</td><td>900</td><td>5.5124</td><td>4961.16</td><td>TRUE</td></tr>\n",
       "</tbody>\n",
       "</table>\n"
      ],
      "text/latex": [
       "A data.frame: 1 × 23\n",
       "\\begin{tabular}{lllllllllllllllllllll}\n",
       " index & date & type & co & quan & pps & basis & sale\\_quan & flag & buy\\_cf\\_quan & ⋯ & buy\\_pps & buy\\_basis & sell\\_quan & sell\\_pps & sell\\_basis & profit\\_loss & sold\\_cf\\_quan & sold\\_cf\\_pps & sold\\_cf\\_basis & true\\_false\\\\\n",
       " <int> & <date> & <chr> & <chr> & <int> & <dbl> & <dbl> & <int> & <lgl> & <int> & ⋯ & <dbl> & <dbl> & <int> & <dbl> & <dbl> & <dbl> & <int> & <dbl> & <dbl> & <lgl>\\\\\n",
       "\\hline\n",
       "\t 1 & 2022-12-31 & Buy & AMC & 100 & 4.07 & 407 & 100 & FALSE & 0 & ⋯ & 4.07 & 407 & 100 & 5.5124 & 551.24 & 144.24 & 900 & 5.5124 & 4961.16 & TRUE\\\\\n",
       "\\end{tabular}\n"
      ],
      "text/markdown": [
       "\n",
       "A data.frame: 1 × 23\n",
       "\n",
       "| index &lt;int&gt; | date &lt;date&gt; | type &lt;chr&gt; | co &lt;chr&gt; | quan &lt;int&gt; | pps &lt;dbl&gt; | basis &lt;dbl&gt; | sale_quan &lt;int&gt; | flag &lt;lgl&gt; | buy_cf_quan &lt;int&gt; | ⋯ ⋯ | buy_pps &lt;dbl&gt; | buy_basis &lt;dbl&gt; | sell_quan &lt;int&gt; | sell_pps &lt;dbl&gt; | sell_basis &lt;dbl&gt; | profit_loss &lt;dbl&gt; | sold_cf_quan &lt;int&gt; | sold_cf_pps &lt;dbl&gt; | sold_cf_basis &lt;dbl&gt; | true_false &lt;lgl&gt; |\n",
       "|---|---|---|---|---|---|---|---|---|---|---|---|---|---|---|---|---|---|---|---|---|\n",
       "| 1 | 2022-12-31 | Buy | AMC | 100 | 4.07 | 407 | 100 | FALSE | 0 | ⋯ | 4.07 | 407 | 100 | 5.5124 | 551.24 | 144.24 | 900 | 5.5124 | 4961.16 | TRUE |\n",
       "\n"
      ],
      "text/plain": [
       "  index date       type co  quan pps  basis sale_quan flag  buy_cf_quan ⋯\n",
       "1 1     2022-12-31 Buy  AMC 100  4.07 407   100       FALSE 0           ⋯\n",
       "  buy_pps buy_basis sell_quan sell_pps sell_basis profit_loss sold_cf_quan\n",
       "1 4.07    407       100       5.5124   551.24     144.24      900         \n",
       "  sold_cf_pps sold_cf_basis true_false\n",
       "1 5.5124      4961.16       TRUE      "
      ]
     },
     "metadata": {},
     "output_type": "display_data"
    }
   ],
   "source": [
    "sale_records"
   ]
  },
  {
   "cell_type": "code",
   "execution_count": 33,
   "id": "b788f5f8-4ecf-43bd-82a0-4d602669a686",
   "metadata": {},
   "outputs": [
    {
     "data": {
      "text/html": [
       "<table class=\"dataframe\">\n",
       "<caption>A data.frame: 1 × 23</caption>\n",
       "<thead>\n",
       "\t<tr><th></th><th scope=col>index</th><th scope=col>date</th><th scope=col>type</th><th scope=col>co</th><th scope=col>quan</th><th scope=col>pps</th><th scope=col>basis</th><th scope=col>sale_quan</th><th scope=col>flag</th><th scope=col>buy_cf_quan</th><th scope=col>⋯</th><th scope=col>buy_pps</th><th scope=col>buy_basis</th><th scope=col>sell_quan</th><th scope=col>sell_pps</th><th scope=col>sell_basis</th><th scope=col>profit_loss</th><th scope=col>sold_cf_quan</th><th scope=col>sold_cf_pps</th><th scope=col>sold_cf_basis</th><th scope=col>true_false</th></tr>\n",
       "\t<tr><th></th><th scope=col>&lt;int&gt;</th><th scope=col>&lt;date&gt;</th><th scope=col>&lt;chr&gt;</th><th scope=col>&lt;chr&gt;</th><th scope=col>&lt;int&gt;</th><th scope=col>&lt;dbl&gt;</th><th scope=col>&lt;dbl&gt;</th><th scope=col>&lt;dbl&gt;</th><th scope=col>&lt;lgl&gt;</th><th scope=col>&lt;dbl&gt;</th><th scope=col>⋯</th><th scope=col>&lt;dbl&gt;</th><th scope=col>&lt;dbl&gt;</th><th scope=col>&lt;dbl&gt;</th><th scope=col>&lt;dbl&gt;</th><th scope=col>&lt;dbl&gt;</th><th scope=col>&lt;dbl&gt;</th><th scope=col>&lt;dbl&gt;</th><th scope=col>&lt;dbl&gt;</th><th scope=col>&lt;dbl&gt;</th><th scope=col>&lt;dbl&gt;</th></tr>\n",
       "</thead>\n",
       "<tbody>\n",
       "\t<tr><th scope=row>1</th><td>1</td><td>2022-12-31</td><td>Buy CF</td><td>AMC</td><td>900</td><td>5.5124</td><td>4961.16</td><td>0</td><td>TRUE</td><td>0</td><td>⋯</td><td>0</td><td>0</td><td>0</td><td>0</td><td>0</td><td>0</td><td>0</td><td>0</td><td>0</td><td>0</td></tr>\n",
       "</tbody>\n",
       "</table>\n"
      ],
      "text/latex": [
       "A data.frame: 1 × 23\n",
       "\\begin{tabular}{r|lllllllllllllllllllll}\n",
       "  & index & date & type & co & quan & pps & basis & sale\\_quan & flag & buy\\_cf\\_quan & ⋯ & buy\\_pps & buy\\_basis & sell\\_quan & sell\\_pps & sell\\_basis & profit\\_loss & sold\\_cf\\_quan & sold\\_cf\\_pps & sold\\_cf\\_basis & true\\_false\\\\\n",
       "  & <int> & <date> & <chr> & <chr> & <int> & <dbl> & <dbl> & <dbl> & <lgl> & <dbl> & ⋯ & <dbl> & <dbl> & <dbl> & <dbl> & <dbl> & <dbl> & <dbl> & <dbl> & <dbl> & <dbl>\\\\\n",
       "\\hline\n",
       "\t1 & 1 & 2022-12-31 & Buy CF & AMC & 900 & 5.5124 & 4961.16 & 0 & TRUE & 0 & ⋯ & 0 & 0 & 0 & 0 & 0 & 0 & 0 & 0 & 0 & 0\\\\\n",
       "\\end{tabular}\n"
      ],
      "text/markdown": [
       "\n",
       "A data.frame: 1 × 23\n",
       "\n",
       "| <!--/--> | index &lt;int&gt; | date &lt;date&gt; | type &lt;chr&gt; | co &lt;chr&gt; | quan &lt;int&gt; | pps &lt;dbl&gt; | basis &lt;dbl&gt; | sale_quan &lt;dbl&gt; | flag &lt;lgl&gt; | buy_cf_quan &lt;dbl&gt; | ⋯ ⋯ | buy_pps &lt;dbl&gt; | buy_basis &lt;dbl&gt; | sell_quan &lt;dbl&gt; | sell_pps &lt;dbl&gt; | sell_basis &lt;dbl&gt; | profit_loss &lt;dbl&gt; | sold_cf_quan &lt;dbl&gt; | sold_cf_pps &lt;dbl&gt; | sold_cf_basis &lt;dbl&gt; | true_false &lt;dbl&gt; |\n",
       "|---|---|---|---|---|---|---|---|---|---|---|---|---|---|---|---|---|---|---|---|---|---|\n",
       "| 1 | 1 | 2022-12-31 | Buy CF | AMC | 900 | 5.5124 | 4961.16 | 0 | TRUE | 0 | ⋯ | 0 | 0 | 0 | 0 | 0 | 0 | 0 | 0 | 0 | 0 |\n",
       "\n"
      ],
      "text/plain": [
       "  index date       type   co  quan pps    basis   sale_quan flag buy_cf_quan ⋯\n",
       "1 1     2022-12-31 Buy CF AMC 900  5.5124 4961.16 0         TRUE 0           ⋯\n",
       "  buy_pps buy_basis sell_quan sell_pps sell_basis profit_loss sold_cf_quan\n",
       "1 0       0         0         0        0          0           0           \n",
       "  sold_cf_pps sold_cf_basis true_false\n",
       "1 0           0             0         "
      ]
     },
     "metadata": {},
     "output_type": "display_data"
    },
    {
     "data": {
      "text/html": [
       "<table class=\"dataframe\">\n",
       "<caption>A data.frame: 1 × 23</caption>\n",
       "<thead>\n",
       "\t<tr><th></th><th scope=col>index</th><th scope=col>date</th><th scope=col>type</th><th scope=col>co</th><th scope=col>quan</th><th scope=col>pps</th><th scope=col>basis</th><th scope=col>sale_quan</th><th scope=col>flag</th><th scope=col>buy_cf_quan</th><th scope=col>⋯</th><th scope=col>buy_pps</th><th scope=col>buy_basis</th><th scope=col>sell_quan</th><th scope=col>sell_pps</th><th scope=col>sell_basis</th><th scope=col>profit_loss</th><th scope=col>sold_cf_quan</th><th scope=col>sold_cf_pps</th><th scope=col>sold_cf_basis</th><th scope=col>true_false</th></tr>\n",
       "\t<tr><th></th><th scope=col>&lt;int&gt;</th><th scope=col>&lt;date&gt;</th><th scope=col>&lt;chr&gt;</th><th scope=col>&lt;chr&gt;</th><th scope=col>&lt;int&gt;</th><th scope=col>&lt;dbl&gt;</th><th scope=col>&lt;dbl&gt;</th><th scope=col>&lt;dbl&gt;</th><th scope=col>&lt;lgl&gt;</th><th scope=col>&lt;dbl&gt;</th><th scope=col>⋯</th><th scope=col>&lt;dbl&gt;</th><th scope=col>&lt;dbl&gt;</th><th scope=col>&lt;dbl&gt;</th><th scope=col>&lt;dbl&gt;</th><th scope=col>&lt;dbl&gt;</th><th scope=col>&lt;dbl&gt;</th><th scope=col>&lt;dbl&gt;</th><th scope=col>&lt;dbl&gt;</th><th scope=col>&lt;dbl&gt;</th><th scope=col>&lt;dbl&gt;</th></tr>\n",
       "</thead>\n",
       "<tbody>\n",
       "\t<tr><th scope=row>1</th><td>1</td><td>2022-12-31</td><td>Sell CF</td><td>AMC</td><td>900</td><td>6.68255</td><td>4961.16</td><td>0</td><td>FALSE</td><td>0</td><td>⋯</td><td>0</td><td>0</td><td>0</td><td>0</td><td>0</td><td>0</td><td>0</td><td>0</td><td>0</td><td>0</td></tr>\n",
       "</tbody>\n",
       "</table>\n"
      ],
      "text/latex": [
       "A data.frame: 1 × 23\n",
       "\\begin{tabular}{r|lllllllllllllllllllll}\n",
       "  & index & date & type & co & quan & pps & basis & sale\\_quan & flag & buy\\_cf\\_quan & ⋯ & buy\\_pps & buy\\_basis & sell\\_quan & sell\\_pps & sell\\_basis & profit\\_loss & sold\\_cf\\_quan & sold\\_cf\\_pps & sold\\_cf\\_basis & true\\_false\\\\\n",
       "  & <int> & <date> & <chr> & <chr> & <int> & <dbl> & <dbl> & <dbl> & <lgl> & <dbl> & ⋯ & <dbl> & <dbl> & <dbl> & <dbl> & <dbl> & <dbl> & <dbl> & <dbl> & <dbl> & <dbl>\\\\\n",
       "\\hline\n",
       "\t1 & 1 & 2022-12-31 & Sell CF & AMC & 900 & 6.68255 & 4961.16 & 0 & FALSE & 0 & ⋯ & 0 & 0 & 0 & 0 & 0 & 0 & 0 & 0 & 0 & 0\\\\\n",
       "\\end{tabular}\n"
      ],
      "text/markdown": [
       "\n",
       "A data.frame: 1 × 23\n",
       "\n",
       "| <!--/--> | index &lt;int&gt; | date &lt;date&gt; | type &lt;chr&gt; | co &lt;chr&gt; | quan &lt;int&gt; | pps &lt;dbl&gt; | basis &lt;dbl&gt; | sale_quan &lt;dbl&gt; | flag &lt;lgl&gt; | buy_cf_quan &lt;dbl&gt; | ⋯ ⋯ | buy_pps &lt;dbl&gt; | buy_basis &lt;dbl&gt; | sell_quan &lt;dbl&gt; | sell_pps &lt;dbl&gt; | sell_basis &lt;dbl&gt; | profit_loss &lt;dbl&gt; | sold_cf_quan &lt;dbl&gt; | sold_cf_pps &lt;dbl&gt; | sold_cf_basis &lt;dbl&gt; | true_false &lt;dbl&gt; |\n",
       "|---|---|---|---|---|---|---|---|---|---|---|---|---|---|---|---|---|---|---|---|---|---|\n",
       "| 1 | 1 | 2022-12-31 | Sell CF | AMC | 900 | 6.68255 | 4961.16 | 0 | FALSE | 0 | ⋯ | 0 | 0 | 0 | 0 | 0 | 0 | 0 | 0 | 0 | 0 |\n",
       "\n"
      ],
      "text/plain": [
       "  index date       type    co  quan pps     basis   sale_quan flag  buy_cf_quan\n",
       "1 1     2022-12-31 Sell CF AMC 900  6.68255 4961.16 0         FALSE 0          \n",
       "  ⋯ buy_pps buy_basis sell_quan sell_pps sell_basis profit_loss sold_cf_quan\n",
       "1 ⋯ 0       0         0         0        0          0           0           \n",
       "  sold_cf_pps sold_cf_basis true_false\n",
       "1 0           0             0         "
      ]
     },
     "metadata": {},
     "output_type": "display_data"
    }
   ],
   "source": [
    "buys[1,]\n",
    "sells[1,]"
   ]
  },
  {
   "cell_type": "code",
   "execution_count": 34,
   "id": "856f2e15-794f-4d44-90a6-3b07b035786b",
   "metadata": {},
   "outputs": [
    {
     "name": "stdout",
     "output_type": "stream",
     "text": [
      " Contains buy carryforward - remove buys c/f row and DO snip sells \n"
     ]
    },
    {
     "data": {
      "text/html": [
       "<style>\n",
       ".list-inline {list-style: none; margin:0; padding: 0}\n",
       ".list-inline>li {display: inline-block}\n",
       ".list-inline>li:not(:last-child)::after {content: \"\\00b7\"; padding: 0 .5ex}\n",
       "</style>\n",
       "<ol class=list-inline><li>23</li><li>23</li></ol>\n"
      ],
      "text/latex": [
       "\\begin{enumerate*}\n",
       "\\item 23\n",
       "\\item 23\n",
       "\\end{enumerate*}\n"
      ],
      "text/markdown": [
       "1. 23\n",
       "2. 23\n",
       "\n",
       "\n"
      ],
      "text/plain": [
       "[1] 23 23"
      ]
     },
     "metadata": {},
     "output_type": "display_data"
    },
    {
     "data": {
      "text/html": [
       "<style>\n",
       ".list-inline {list-style: none; margin:0; padding: 0}\n",
       ".list-inline>li {display: inline-block}\n",
       ".list-inline>li:not(:last-child)::after {content: \"\\00b7\"; padding: 0 .5ex}\n",
       "</style>\n",
       "<ol class=list-inline><li>18</li><li>23</li></ol>\n"
      ],
      "text/latex": [
       "\\begin{enumerate*}\n",
       "\\item 18\n",
       "\\item 23\n",
       "\\end{enumerate*}\n"
      ],
      "text/markdown": [
       "1. 18\n",
       "2. 23\n",
       "\n",
       "\n"
      ],
      "text/plain": [
       "[1] 18 23"
      ]
     },
     "metadata": {},
     "output_type": "display_data"
    }
   ],
   "source": [
    "#  save_sell_one <- data.frame()   #  keep for c/f >> Sell[1, ]\n",
    "copy_snip <- function (buys, sells) {\n",
    "   \n",
    "    # parameters - rep the input vars (arguments)  ... may be extraneous\n",
    "    b1 <- buys [1, ]\n",
    "    s1 <- sells [1, ]\n",
    "       \n",
    "    # snip .... if \n",
    "\n",
    "  #  if(buys$type[1] == \"Buy CF\")   { \n",
    "    if(buys$type[1] == \"Buy CF\" || buys$flag[1] == TRUE)   {         \n",
    "   # if(buys$flag[1] == \"TRUE\")   {         \n",
    "        cat(\" Contains buy carryforward - remove buys c/f row and DO snip sells \\n\")         \n",
    "         # remove the original buys and sells\n",
    "         buys <- buys[-1, ]    \n",
    "         sells <- sells[-2, ]\n",
    "        return(list(b1, s1, buys, sells))                   \n",
    "        \n",
    "    } else if (sells$type[1] == \"Sell CF\") {\n",
    "        cat(\"sells contains carryforward .. Replace sells and DO snip buys \\n\") \n",
    "        sells <- sells[-2,]\n",
    "        buys <- buys[-1,]\n",
    "        return(list(b1, s1, buys, sells))    \n",
    "    } else {\n",
    "        cat(\"There is no carryforward in buys or sells, DO snip buys and Do snip sells \\n\")\n",
    "        buys <- buys[-1,]\n",
    "        sells <- sells[-1,]\n",
    "        return(list(b1, s1, buys, sells))    \n",
    "    }\n",
    "}    \n",
    "   \n",
    "# fct call passing 2 arguments\n",
    "copy_snip_list <- copy_snip(buys, sells) \n",
    "\n",
    "b1 <- copy_snip_list[[1]]\n",
    "s1 <- copy_snip_list[[2]]\n",
    "buys <- copy_snip_list[[3]]\n",
    "sells <- copy_snip_list[[4]]\n",
    "\n",
    "# after\n",
    "dim(buys)\n",
    "dim(sells)\n",
    "# b1\n",
    "# s1"
   ]
  },
  {
   "cell_type": "code",
   "execution_count": null,
   "id": "4c2d30a5-c433-4c32-8f7a-9130c0d92826",
   "metadata": {},
   "outputs": [],
   "source": []
  },
  {
   "cell_type": "markdown",
   "id": "2d3de47c-1c14-442e-839e-213881677d89",
   "metadata": {},
   "source": [
    "#### <font color = lime> QC: Loop 1 review buys & sells"
   ]
  },
  {
   "cell_type": "code",
   "execution_count": 35,
   "id": "e065d636-acbc-43d3-9077-d0210d5620c1",
   "metadata": {},
   "outputs": [
    {
     "data": {
      "text/html": [
       "<table class=\"dataframe\">\n",
       "<caption>A data.frame: 4 × 23</caption>\n",
       "<thead>\n",
       "\t<tr><th></th><th scope=col>index</th><th scope=col>date</th><th scope=col>type</th><th scope=col>co</th><th scope=col>quan</th><th scope=col>pps</th><th scope=col>basis</th><th scope=col>sale_quan</th><th scope=col>flag</th><th scope=col>buy_cf_quan</th><th scope=col>⋯</th><th scope=col>buy_pps</th><th scope=col>buy_basis</th><th scope=col>sell_quan</th><th scope=col>sell_pps</th><th scope=col>sell_basis</th><th scope=col>profit_loss</th><th scope=col>sold_cf_quan</th><th scope=col>sold_cf_pps</th><th scope=col>sold_cf_basis</th><th scope=col>true_false</th></tr>\n",
       "\t<tr><th></th><th scope=col>&lt;int&gt;</th><th scope=col>&lt;date&gt;</th><th scope=col>&lt;chr&gt;</th><th scope=col>&lt;chr&gt;</th><th scope=col>&lt;int&gt;</th><th scope=col>&lt;dbl&gt;</th><th scope=col>&lt;dbl&gt;</th><th scope=col>&lt;dbl&gt;</th><th scope=col>&lt;lgl&gt;</th><th scope=col>&lt;dbl&gt;</th><th scope=col>⋯</th><th scope=col>&lt;dbl&gt;</th><th scope=col>&lt;dbl&gt;</th><th scope=col>&lt;dbl&gt;</th><th scope=col>&lt;dbl&gt;</th><th scope=col>&lt;dbl&gt;</th><th scope=col>&lt;dbl&gt;</th><th scope=col>&lt;dbl&gt;</th><th scope=col>&lt;dbl&gt;</th><th scope=col>&lt;dbl&gt;</th><th scope=col>&lt;dbl&gt;</th></tr>\n",
       "</thead>\n",
       "<tbody>\n",
       "\t<tr><th scope=row>2</th><td>1</td><td>2022-12-31</td><td>Buy</td><td>AMC</td><td> 100</td><td>4.0700</td><td> 4273.5</td><td>0</td><td>FALSE</td><td>0</td><td>⋯</td><td>0</td><td>0</td><td>0</td><td>0</td><td>0</td><td>0</td><td>0</td><td>0</td><td>0</td><td>0</td></tr>\n",
       "\t<tr><th scope=row>3</th><td>3</td><td>2023-01-20</td><td>Buy</td><td>AMC</td><td>1000</td><td>5.6250</td><td> 5625.0</td><td>0</td><td>FALSE</td><td>0</td><td>⋯</td><td>0</td><td>0</td><td>0</td><td>0</td><td>0</td><td>0</td><td>0</td><td>0</td><td>0</td><td>0</td></tr>\n",
       "\t<tr><th scope=row>4</th><td>5</td><td>2023-01-23</td><td>Buy</td><td>AMC</td><td>1000</td><td>5.7880</td><td> 5788.0</td><td>0</td><td>FALSE</td><td>0</td><td>⋯</td><td>0</td><td>0</td><td>0</td><td>0</td><td>0</td><td>0</td><td>0</td><td>0</td><td>0</td><td>0</td></tr>\n",
       "\t<tr><th scope=row>5</th><td>7</td><td>2023-01-27</td><td>Buy</td><td>AMC</td><td>2000</td><td>5.2394</td><td>10478.8</td><td>0</td><td>FALSE</td><td>0</td><td>⋯</td><td>0</td><td>0</td><td>0</td><td>0</td><td>0</td><td>0</td><td>0</td><td>0</td><td>0</td><td>0</td></tr>\n",
       "</tbody>\n",
       "</table>\n"
      ],
      "text/latex": [
       "A data.frame: 4 × 23\n",
       "\\begin{tabular}{r|lllllllllllllllllllll}\n",
       "  & index & date & type & co & quan & pps & basis & sale\\_quan & flag & buy\\_cf\\_quan & ⋯ & buy\\_pps & buy\\_basis & sell\\_quan & sell\\_pps & sell\\_basis & profit\\_loss & sold\\_cf\\_quan & sold\\_cf\\_pps & sold\\_cf\\_basis & true\\_false\\\\\n",
       "  & <int> & <date> & <chr> & <chr> & <int> & <dbl> & <dbl> & <dbl> & <lgl> & <dbl> & ⋯ & <dbl> & <dbl> & <dbl> & <dbl> & <dbl> & <dbl> & <dbl> & <dbl> & <dbl> & <dbl>\\\\\n",
       "\\hline\n",
       "\t2 & 1 & 2022-12-31 & Buy & AMC &  100 & 4.0700 &  4273.5 & 0 & FALSE & 0 & ⋯ & 0 & 0 & 0 & 0 & 0 & 0 & 0 & 0 & 0 & 0\\\\\n",
       "\t3 & 3 & 2023-01-20 & Buy & AMC & 1000 & 5.6250 &  5625.0 & 0 & FALSE & 0 & ⋯ & 0 & 0 & 0 & 0 & 0 & 0 & 0 & 0 & 0 & 0\\\\\n",
       "\t4 & 5 & 2023-01-23 & Buy & AMC & 1000 & 5.7880 &  5788.0 & 0 & FALSE & 0 & ⋯ & 0 & 0 & 0 & 0 & 0 & 0 & 0 & 0 & 0 & 0\\\\\n",
       "\t5 & 7 & 2023-01-27 & Buy & AMC & 2000 & 5.2394 & 10478.8 & 0 & FALSE & 0 & ⋯ & 0 & 0 & 0 & 0 & 0 & 0 & 0 & 0 & 0 & 0\\\\\n",
       "\\end{tabular}\n"
      ],
      "text/markdown": [
       "\n",
       "A data.frame: 4 × 23\n",
       "\n",
       "| <!--/--> | index &lt;int&gt; | date &lt;date&gt; | type &lt;chr&gt; | co &lt;chr&gt; | quan &lt;int&gt; | pps &lt;dbl&gt; | basis &lt;dbl&gt; | sale_quan &lt;dbl&gt; | flag &lt;lgl&gt; | buy_cf_quan &lt;dbl&gt; | ⋯ ⋯ | buy_pps &lt;dbl&gt; | buy_basis &lt;dbl&gt; | sell_quan &lt;dbl&gt; | sell_pps &lt;dbl&gt; | sell_basis &lt;dbl&gt; | profit_loss &lt;dbl&gt; | sold_cf_quan &lt;dbl&gt; | sold_cf_pps &lt;dbl&gt; | sold_cf_basis &lt;dbl&gt; | true_false &lt;dbl&gt; |\n",
       "|---|---|---|---|---|---|---|---|---|---|---|---|---|---|---|---|---|---|---|---|---|---|\n",
       "| 2 | 1 | 2022-12-31 | Buy | AMC |  100 | 4.0700 |  4273.5 | 0 | FALSE | 0 | ⋯ | 0 | 0 | 0 | 0 | 0 | 0 | 0 | 0 | 0 | 0 |\n",
       "| 3 | 3 | 2023-01-20 | Buy | AMC | 1000 | 5.6250 |  5625.0 | 0 | FALSE | 0 | ⋯ | 0 | 0 | 0 | 0 | 0 | 0 | 0 | 0 | 0 | 0 |\n",
       "| 4 | 5 | 2023-01-23 | Buy | AMC | 1000 | 5.7880 |  5788.0 | 0 | FALSE | 0 | ⋯ | 0 | 0 | 0 | 0 | 0 | 0 | 0 | 0 | 0 | 0 |\n",
       "| 5 | 7 | 2023-01-27 | Buy | AMC | 2000 | 5.2394 | 10478.8 | 0 | FALSE | 0 | ⋯ | 0 | 0 | 0 | 0 | 0 | 0 | 0 | 0 | 0 | 0 |\n",
       "\n"
      ],
      "text/plain": [
       "  index date       type co  quan pps    basis   sale_quan flag  buy_cf_quan ⋯\n",
       "2 1     2022-12-31 Buy  AMC  100 4.0700  4273.5 0         FALSE 0           ⋯\n",
       "3 3     2023-01-20 Buy  AMC 1000 5.6250  5625.0 0         FALSE 0           ⋯\n",
       "4 5     2023-01-23 Buy  AMC 1000 5.7880  5788.0 0         FALSE 0           ⋯\n",
       "5 7     2023-01-27 Buy  AMC 2000 5.2394 10478.8 0         FALSE 0           ⋯\n",
       "  buy_pps buy_basis sell_quan sell_pps sell_basis profit_loss sold_cf_quan\n",
       "2 0       0         0         0        0          0           0           \n",
       "3 0       0         0         0        0          0           0           \n",
       "4 0       0         0         0        0          0           0           \n",
       "5 0       0         0         0        0          0           0           \n",
       "  sold_cf_pps sold_cf_basis true_false\n",
       "2 0           0             0         \n",
       "3 0           0             0         \n",
       "4 0           0             0         \n",
       "5 0           0             0         "
      ]
     },
     "metadata": {},
     "output_type": "display_data"
    },
    {
     "data": {
      "text/html": [
       "<table class=\"dataframe\">\n",
       "<caption>A data.frame: 4 × 23</caption>\n",
       "<thead>\n",
       "\t<tr><th></th><th scope=col>index</th><th scope=col>date</th><th scope=col>type</th><th scope=col>co</th><th scope=col>quan</th><th scope=col>pps</th><th scope=col>basis</th><th scope=col>sale_quan</th><th scope=col>flag</th><th scope=col>buy_cf_quan</th><th scope=col>⋯</th><th scope=col>buy_pps</th><th scope=col>buy_basis</th><th scope=col>sell_quan</th><th scope=col>sell_pps</th><th scope=col>sell_basis</th><th scope=col>profit_loss</th><th scope=col>sold_cf_quan</th><th scope=col>sold_cf_pps</th><th scope=col>sold_cf_basis</th><th scope=col>true_false</th></tr>\n",
       "\t<tr><th></th><th scope=col>&lt;int&gt;</th><th scope=col>&lt;date&gt;</th><th scope=col>&lt;chr&gt;</th><th scope=col>&lt;chr&gt;</th><th scope=col>&lt;int&gt;</th><th scope=col>&lt;dbl&gt;</th><th scope=col>&lt;dbl&gt;</th><th scope=col>&lt;dbl&gt;</th><th scope=col>&lt;lgl&gt;</th><th scope=col>&lt;dbl&gt;</th><th scope=col>⋯</th><th scope=col>&lt;dbl&gt;</th><th scope=col>&lt;dbl&gt;</th><th scope=col>&lt;dbl&gt;</th><th scope=col>&lt;dbl&gt;</th><th scope=col>&lt;dbl&gt;</th><th scope=col>&lt;dbl&gt;</th><th scope=col>&lt;dbl&gt;</th><th scope=col>&lt;dbl&gt;</th><th scope=col>&lt;dbl&gt;</th><th scope=col>&lt;dbl&gt;</th></tr>\n",
       "</thead>\n",
       "<tbody>\n",
       "\t<tr><th scope=row>1</th><td>1</td><td>2022-12-31</td><td>Sell CF</td><td>AMC</td><td> 900</td><td>6.68255</td><td>4961.16</td><td>0</td><td>FALSE</td><td>0</td><td>⋯</td><td>0</td><td>0</td><td>0</td><td>0</td><td>0</td><td>0</td><td>0</td><td>0</td><td>0</td><td>0</td></tr>\n",
       "\t<tr><th scope=row>3</th><td>4</td><td>2023-02-03</td><td>Sell   </td><td>AMC</td><td>1000</td><td>6.68255</td><td>6682.55</td><td>0</td><td>FALSE</td><td>0</td><td>⋯</td><td>0</td><td>0</td><td>0</td><td>0</td><td>0</td><td>0</td><td>0</td><td>0</td><td>0</td><td>0</td></tr>\n",
       "\t<tr><th scope=row>4</th><td>6</td><td>2023-02-03</td><td>Sell   </td><td>AMC</td><td>1000</td><td>6.25500</td><td>6255.00</td><td>0</td><td>FALSE</td><td>0</td><td>⋯</td><td>0</td><td>0</td><td>0</td><td>0</td><td>0</td><td>0</td><td>0</td><td>0</td><td>0</td><td>0</td></tr>\n",
       "\t<tr><th scope=row>5</th><td>8</td><td>2023-02-03</td><td>Sell   </td><td>AMC</td><td>1000</td><td>6.19010</td><td>6190.10</td><td>0</td><td>FALSE</td><td>0</td><td>⋯</td><td>0</td><td>0</td><td>0</td><td>0</td><td>0</td><td>0</td><td>0</td><td>0</td><td>0</td><td>0</td></tr>\n",
       "</tbody>\n",
       "</table>\n"
      ],
      "text/latex": [
       "A data.frame: 4 × 23\n",
       "\\begin{tabular}{r|lllllllllllllllllllll}\n",
       "  & index & date & type & co & quan & pps & basis & sale\\_quan & flag & buy\\_cf\\_quan & ⋯ & buy\\_pps & buy\\_basis & sell\\_quan & sell\\_pps & sell\\_basis & profit\\_loss & sold\\_cf\\_quan & sold\\_cf\\_pps & sold\\_cf\\_basis & true\\_false\\\\\n",
       "  & <int> & <date> & <chr> & <chr> & <int> & <dbl> & <dbl> & <dbl> & <lgl> & <dbl> & ⋯ & <dbl> & <dbl> & <dbl> & <dbl> & <dbl> & <dbl> & <dbl> & <dbl> & <dbl> & <dbl>\\\\\n",
       "\\hline\n",
       "\t1 & 1 & 2022-12-31 & Sell CF & AMC &  900 & 6.68255 & 4961.16 & 0 & FALSE & 0 & ⋯ & 0 & 0 & 0 & 0 & 0 & 0 & 0 & 0 & 0 & 0\\\\\n",
       "\t3 & 4 & 2023-02-03 & Sell    & AMC & 1000 & 6.68255 & 6682.55 & 0 & FALSE & 0 & ⋯ & 0 & 0 & 0 & 0 & 0 & 0 & 0 & 0 & 0 & 0\\\\\n",
       "\t4 & 6 & 2023-02-03 & Sell    & AMC & 1000 & 6.25500 & 6255.00 & 0 & FALSE & 0 & ⋯ & 0 & 0 & 0 & 0 & 0 & 0 & 0 & 0 & 0 & 0\\\\\n",
       "\t5 & 8 & 2023-02-03 & Sell    & AMC & 1000 & 6.19010 & 6190.10 & 0 & FALSE & 0 & ⋯ & 0 & 0 & 0 & 0 & 0 & 0 & 0 & 0 & 0 & 0\\\\\n",
       "\\end{tabular}\n"
      ],
      "text/markdown": [
       "\n",
       "A data.frame: 4 × 23\n",
       "\n",
       "| <!--/--> | index &lt;int&gt; | date &lt;date&gt; | type &lt;chr&gt; | co &lt;chr&gt; | quan &lt;int&gt; | pps &lt;dbl&gt; | basis &lt;dbl&gt; | sale_quan &lt;dbl&gt; | flag &lt;lgl&gt; | buy_cf_quan &lt;dbl&gt; | ⋯ ⋯ | buy_pps &lt;dbl&gt; | buy_basis &lt;dbl&gt; | sell_quan &lt;dbl&gt; | sell_pps &lt;dbl&gt; | sell_basis &lt;dbl&gt; | profit_loss &lt;dbl&gt; | sold_cf_quan &lt;dbl&gt; | sold_cf_pps &lt;dbl&gt; | sold_cf_basis &lt;dbl&gt; | true_false &lt;dbl&gt; |\n",
       "|---|---|---|---|---|---|---|---|---|---|---|---|---|---|---|---|---|---|---|---|---|---|\n",
       "| 1 | 1 | 2022-12-31 | Sell CF | AMC |  900 | 6.68255 | 4961.16 | 0 | FALSE | 0 | ⋯ | 0 | 0 | 0 | 0 | 0 | 0 | 0 | 0 | 0 | 0 |\n",
       "| 3 | 4 | 2023-02-03 | Sell    | AMC | 1000 | 6.68255 | 6682.55 | 0 | FALSE | 0 | ⋯ | 0 | 0 | 0 | 0 | 0 | 0 | 0 | 0 | 0 | 0 |\n",
       "| 4 | 6 | 2023-02-03 | Sell    | AMC | 1000 | 6.25500 | 6255.00 | 0 | FALSE | 0 | ⋯ | 0 | 0 | 0 | 0 | 0 | 0 | 0 | 0 | 0 | 0 |\n",
       "| 5 | 8 | 2023-02-03 | Sell    | AMC | 1000 | 6.19010 | 6190.10 | 0 | FALSE | 0 | ⋯ | 0 | 0 | 0 | 0 | 0 | 0 | 0 | 0 | 0 | 0 |\n",
       "\n"
      ],
      "text/plain": [
       "  index date       type    co  quan pps     basis   sale_quan flag  buy_cf_quan\n",
       "1 1     2022-12-31 Sell CF AMC  900 6.68255 4961.16 0         FALSE 0          \n",
       "3 4     2023-02-03 Sell    AMC 1000 6.68255 6682.55 0         FALSE 0          \n",
       "4 6     2023-02-03 Sell    AMC 1000 6.25500 6255.00 0         FALSE 0          \n",
       "5 8     2023-02-03 Sell    AMC 1000 6.19010 6190.10 0         FALSE 0          \n",
       "  ⋯ buy_pps buy_basis sell_quan sell_pps sell_basis profit_loss sold_cf_quan\n",
       "1 ⋯ 0       0         0         0        0          0           0           \n",
       "3 ⋯ 0       0         0         0        0          0           0           \n",
       "4 ⋯ 0       0         0         0        0          0           0           \n",
       "5 ⋯ 0       0         0         0        0          0           0           \n",
       "  sold_cf_pps sold_cf_basis true_false\n",
       "1 0           0             0         \n",
       "3 0           0             0         \n",
       "4 0           0             0         \n",
       "5 0           0             0         "
      ]
     },
     "metadata": {},
     "output_type": "display_data"
    }
   ],
   "source": [
    "buys[1:4,]\n",
    "sells[1:4,]"
   ]
  },
  {
   "cell_type": "code",
   "execution_count": null,
   "id": "440557ed-c013-47c4-8ae9-3d3e339cfc3e",
   "metadata": {},
   "outputs": [],
   "source": []
  },
  {
   "cell_type": "markdown",
   "id": "eab5aa35-2ed8-4e56-a5d5-6971ccdfb8a0",
   "metadata": {},
   "source": [
    "#### <font color = lime> QC: Loop 1 review sale_record for accuracy"
   ]
  },
  {
   "cell_type": "code",
   "execution_count": 36,
   "id": "ae6231d1-0886-472d-8503-a11e04165b1a",
   "metadata": {},
   "outputs": [
    {
     "data": {
      "text/html": [
       "<table class=\"dataframe\">\n",
       "<caption>A data.frame: 1 × 23</caption>\n",
       "<thead>\n",
       "\t<tr><th scope=col>index</th><th scope=col>date</th><th scope=col>type</th><th scope=col>co</th><th scope=col>quan</th><th scope=col>pps</th><th scope=col>basis</th><th scope=col>sale_quan</th><th scope=col>flag</th><th scope=col>buy_cf_quan</th><th scope=col>⋯</th><th scope=col>buy_pps</th><th scope=col>buy_basis</th><th scope=col>sell_quan</th><th scope=col>sell_pps</th><th scope=col>sell_basis</th><th scope=col>profit_loss</th><th scope=col>sold_cf_quan</th><th scope=col>sold_cf_pps</th><th scope=col>sold_cf_basis</th><th scope=col>true_false</th></tr>\n",
       "\t<tr><th scope=col>&lt;int&gt;</th><th scope=col>&lt;date&gt;</th><th scope=col>&lt;chr&gt;</th><th scope=col>&lt;chr&gt;</th><th scope=col>&lt;int&gt;</th><th scope=col>&lt;dbl&gt;</th><th scope=col>&lt;dbl&gt;</th><th scope=col>&lt;int&gt;</th><th scope=col>&lt;lgl&gt;</th><th scope=col>&lt;int&gt;</th><th scope=col>⋯</th><th scope=col>&lt;dbl&gt;</th><th scope=col>&lt;dbl&gt;</th><th scope=col>&lt;int&gt;</th><th scope=col>&lt;dbl&gt;</th><th scope=col>&lt;dbl&gt;</th><th scope=col>&lt;dbl&gt;</th><th scope=col>&lt;int&gt;</th><th scope=col>&lt;dbl&gt;</th><th scope=col>&lt;dbl&gt;</th><th scope=col>&lt;lgl&gt;</th></tr>\n",
       "</thead>\n",
       "<tbody>\n",
       "\t<tr><td>1</td><td>2022-12-31</td><td>Buy</td><td>AMC</td><td>100</td><td>4.07</td><td>407</td><td>100</td><td>FALSE</td><td>0</td><td>⋯</td><td>4.07</td><td>407</td><td>100</td><td>5.5124</td><td>551.24</td><td>144.24</td><td>900</td><td>5.5124</td><td>4961.16</td><td>TRUE</td></tr>\n",
       "</tbody>\n",
       "</table>\n"
      ],
      "text/latex": [
       "A data.frame: 1 × 23\n",
       "\\begin{tabular}{lllllllllllllllllllll}\n",
       " index & date & type & co & quan & pps & basis & sale\\_quan & flag & buy\\_cf\\_quan & ⋯ & buy\\_pps & buy\\_basis & sell\\_quan & sell\\_pps & sell\\_basis & profit\\_loss & sold\\_cf\\_quan & sold\\_cf\\_pps & sold\\_cf\\_basis & true\\_false\\\\\n",
       " <int> & <date> & <chr> & <chr> & <int> & <dbl> & <dbl> & <int> & <lgl> & <int> & ⋯ & <dbl> & <dbl> & <int> & <dbl> & <dbl> & <dbl> & <int> & <dbl> & <dbl> & <lgl>\\\\\n",
       "\\hline\n",
       "\t 1 & 2022-12-31 & Buy & AMC & 100 & 4.07 & 407 & 100 & FALSE & 0 & ⋯ & 4.07 & 407 & 100 & 5.5124 & 551.24 & 144.24 & 900 & 5.5124 & 4961.16 & TRUE\\\\\n",
       "\\end{tabular}\n"
      ],
      "text/markdown": [
       "\n",
       "A data.frame: 1 × 23\n",
       "\n",
       "| index &lt;int&gt; | date &lt;date&gt; | type &lt;chr&gt; | co &lt;chr&gt; | quan &lt;int&gt; | pps &lt;dbl&gt; | basis &lt;dbl&gt; | sale_quan &lt;int&gt; | flag &lt;lgl&gt; | buy_cf_quan &lt;int&gt; | ⋯ ⋯ | buy_pps &lt;dbl&gt; | buy_basis &lt;dbl&gt; | sell_quan &lt;int&gt; | sell_pps &lt;dbl&gt; | sell_basis &lt;dbl&gt; | profit_loss &lt;dbl&gt; | sold_cf_quan &lt;int&gt; | sold_cf_pps &lt;dbl&gt; | sold_cf_basis &lt;dbl&gt; | true_false &lt;lgl&gt; |\n",
       "|---|---|---|---|---|---|---|---|---|---|---|---|---|---|---|---|---|---|---|---|---|\n",
       "| 1 | 2022-12-31 | Buy | AMC | 100 | 4.07 | 407 | 100 | FALSE | 0 | ⋯ | 4.07 | 407 | 100 | 5.5124 | 551.24 | 144.24 | 900 | 5.5124 | 4961.16 | TRUE |\n",
       "\n"
      ],
      "text/plain": [
       "  index date       type co  quan pps  basis sale_quan flag  buy_cf_quan ⋯\n",
       "1 1     2022-12-31 Buy  AMC 100  4.07 407   100       FALSE 0           ⋯\n",
       "  buy_pps buy_basis sell_quan sell_pps sell_basis profit_loss sold_cf_quan\n",
       "1 4.07    407       100       5.5124   551.24     144.24      900         \n",
       "  sold_cf_pps sold_cf_basis true_false\n",
       "1 5.5124      4961.16       TRUE      "
      ]
     },
     "metadata": {},
     "output_type": "display_data"
    }
   ],
   "source": [
    "sale_records"
   ]
  },
  {
   "cell_type": "markdown",
   "id": "10a3a398-05db-4786-914e-ad9ace85e93b",
   "metadata": {},
   "source": [
    "### <font color = lime> Got it!  The components above are modular and can be combined into a loop"
   ]
  },
  {
   "cell_type": "code",
   "execution_count": null,
   "id": "d15af399-9286-4171-9e33-2d3e9cc3a21b",
   "metadata": {},
   "outputs": [],
   "source": []
  },
  {
   "cell_type": "code",
   "execution_count": 37,
   "id": "e934fa25-3b0c-4d58-ab5c-19e9be2b3268",
   "metadata": {},
   "outputs": [
    {
     "name": "stdout",
     "output_type": "stream",
     "text": [
      "sale_records exists:      \n"
     ]
    }
   ],
   "source": [
    "if (exists(\"sale_records\") && is.data.frame(get(\"sale_records\"))) {\n",
    "  # Data frame exists and is a valid data frame\n",
    "  # Your code here...\n",
    "    cat(\"sale_records exists:     \", \"\\n\") \n",
    "} "
   ]
  },
  {
   "cell_type": "code",
   "execution_count": 38,
   "id": "c979183e-d717-43a3-a371-627d000788ba",
   "metadata": {},
   "outputs": [
    {
     "data": {
      "text/html": [
       "<table class=\"dataframe\">\n",
       "<caption>A data.frame: 1 × 23</caption>\n",
       "<thead>\n",
       "\t<tr><th scope=col>index</th><th scope=col>date</th><th scope=col>type</th><th scope=col>co</th><th scope=col>quan</th><th scope=col>pps</th><th scope=col>basis</th><th scope=col>sale_quan</th><th scope=col>flag</th><th scope=col>buy_cf_quan</th><th scope=col>⋯</th><th scope=col>buy_pps</th><th scope=col>buy_basis</th><th scope=col>sell_quan</th><th scope=col>sell_pps</th><th scope=col>sell_basis</th><th scope=col>profit_loss</th><th scope=col>sold_cf_quan</th><th scope=col>sold_cf_pps</th><th scope=col>sold_cf_basis</th><th scope=col>true_false</th></tr>\n",
       "\t<tr><th scope=col>&lt;int&gt;</th><th scope=col>&lt;date&gt;</th><th scope=col>&lt;chr&gt;</th><th scope=col>&lt;chr&gt;</th><th scope=col>&lt;int&gt;</th><th scope=col>&lt;dbl&gt;</th><th scope=col>&lt;dbl&gt;</th><th scope=col>&lt;int&gt;</th><th scope=col>&lt;lgl&gt;</th><th scope=col>&lt;int&gt;</th><th scope=col>⋯</th><th scope=col>&lt;dbl&gt;</th><th scope=col>&lt;dbl&gt;</th><th scope=col>&lt;int&gt;</th><th scope=col>&lt;dbl&gt;</th><th scope=col>&lt;dbl&gt;</th><th scope=col>&lt;dbl&gt;</th><th scope=col>&lt;int&gt;</th><th scope=col>&lt;dbl&gt;</th><th scope=col>&lt;dbl&gt;</th><th scope=col>&lt;lgl&gt;</th></tr>\n",
       "</thead>\n",
       "<tbody>\n",
       "\t<tr><td>1</td><td>2022-12-31</td><td>Buy</td><td>AMC</td><td>100</td><td>4.07</td><td>407</td><td>100</td><td>FALSE</td><td>0</td><td>⋯</td><td>4.07</td><td>407</td><td>100</td><td>5.5124</td><td>551.24</td><td>144.24</td><td>900</td><td>5.5124</td><td>4961.16</td><td>TRUE</td></tr>\n",
       "</tbody>\n",
       "</table>\n"
      ],
      "text/latex": [
       "A data.frame: 1 × 23\n",
       "\\begin{tabular}{lllllllllllllllllllll}\n",
       " index & date & type & co & quan & pps & basis & sale\\_quan & flag & buy\\_cf\\_quan & ⋯ & buy\\_pps & buy\\_basis & sell\\_quan & sell\\_pps & sell\\_basis & profit\\_loss & sold\\_cf\\_quan & sold\\_cf\\_pps & sold\\_cf\\_basis & true\\_false\\\\\n",
       " <int> & <date> & <chr> & <chr> & <int> & <dbl> & <dbl> & <int> & <lgl> & <int> & ⋯ & <dbl> & <dbl> & <int> & <dbl> & <dbl> & <dbl> & <int> & <dbl> & <dbl> & <lgl>\\\\\n",
       "\\hline\n",
       "\t 1 & 2022-12-31 & Buy & AMC & 100 & 4.07 & 407 & 100 & FALSE & 0 & ⋯ & 4.07 & 407 & 100 & 5.5124 & 551.24 & 144.24 & 900 & 5.5124 & 4961.16 & TRUE\\\\\n",
       "\\end{tabular}\n"
      ],
      "text/markdown": [
       "\n",
       "A data.frame: 1 × 23\n",
       "\n",
       "| index &lt;int&gt; | date &lt;date&gt; | type &lt;chr&gt; | co &lt;chr&gt; | quan &lt;int&gt; | pps &lt;dbl&gt; | basis &lt;dbl&gt; | sale_quan &lt;int&gt; | flag &lt;lgl&gt; | buy_cf_quan &lt;int&gt; | ⋯ ⋯ | buy_pps &lt;dbl&gt; | buy_basis &lt;dbl&gt; | sell_quan &lt;int&gt; | sell_pps &lt;dbl&gt; | sell_basis &lt;dbl&gt; | profit_loss &lt;dbl&gt; | sold_cf_quan &lt;int&gt; | sold_cf_pps &lt;dbl&gt; | sold_cf_basis &lt;dbl&gt; | true_false &lt;lgl&gt; |\n",
       "|---|---|---|---|---|---|---|---|---|---|---|---|---|---|---|---|---|---|---|---|---|\n",
       "| 1 | 2022-12-31 | Buy | AMC | 100 | 4.07 | 407 | 100 | FALSE | 0 | ⋯ | 4.07 | 407 | 100 | 5.5124 | 551.24 | 144.24 | 900 | 5.5124 | 4961.16 | TRUE |\n",
       "\n"
      ],
      "text/plain": [
       "  index date       type co  quan pps  basis sale_quan flag  buy_cf_quan ⋯\n",
       "1 1     2022-12-31 Buy  AMC 100  4.07 407   100       FALSE 0           ⋯\n",
       "  buy_pps buy_basis sell_quan sell_pps sell_basis profit_loss sold_cf_quan\n",
       "1 4.07    407       100       5.5124   551.24     144.24      900         \n",
       "  sold_cf_pps sold_cf_basis true_false\n",
       "1 5.5124      4961.16       TRUE      "
      ]
     },
     "metadata": {},
     "output_type": "display_data"
    }
   ],
   "source": [
    "sale_records"
   ]
  },
  {
   "cell_type": "code",
   "execution_count": 39,
   "id": "f6b72dc6-17f5-4b5e-b780-4283f70f2122",
   "metadata": {},
   "outputs": [
    {
     "ename": "ERROR",
     "evalue": "Error in eval(expr, envir, enclos): object 'stopps' not found\n",
     "output_type": "error",
     "traceback": [
      "Error in eval(expr, envir, enclos): object 'stopps' not found\nTraceback:\n"
     ]
    }
   ],
   "source": [
    " stopps #  Old code"
   ]
  },
  {
   "cell_type": "code",
   "execution_count": null,
   "id": "41cd995f-611c-4788-b497-e22f00aa020f",
   "metadata": {},
   "outputs": [],
   "source": []
  },
  {
   "cell_type": "markdown",
   "id": "5af8547e-56ed-433c-8ab9-f582710678ce",
   "metadata": {},
   "source": [
    "# <font color = cyan> Proof of Concept above. Make it loop 2 x."
   ]
  },
  {
   "cell_type": "code",
   "execution_count": null,
   "id": "beeb8a5b-1dd6-43e6-8db6-e3b03fd388ca",
   "metadata": {},
   "outputs": [],
   "source": []
  },
  {
   "cell_type": "markdown",
   "id": "fe9a4eff-5362-471b-b888-4713a200ffdb",
   "metadata": {},
   "source": [
    "#### <font color = yellow>1. Create data & dfs"
   ]
  },
  {
   "cell_type": "code",
   "execution_count": null,
   "id": "b9477fb0-de01-4d4e-865a-b05786c7b4fd",
   "metadata": {},
   "outputs": [],
   "source": [
    "b <- buys[1,]\n",
    "s <- sells[1,]"
   ]
  },
  {
   "cell_type": "code",
   "execution_count": null,
   "id": "acd9c5a0-89bb-41c7-95d8-ed851ea2fa88",
   "metadata": {},
   "outputs": [],
   "source": [
    "b\n",
    "s"
   ]
  },
  {
   "cell_type": "markdown",
   "id": "31f51e3d-191f-452b-b4d0-9a9cab7ba55c",
   "metadata": {},
   "source": [
    "### <font color = yellow>2. Update b - the variable that records each buy/sell transaction (w/in loop)\n",
    "    \n",
    "#### b>s, b<s, b==s,"
   ]
  },
  {
   "cell_type": "code",
   "execution_count": null,
   "id": "dac7a7df-2d95-4d6a-9b63-e2f76e172dd6",
   "metadata": {},
   "outputs": [],
   "source": [
    "# # update b based upon the Sale Type: b>s, b<s, b==s \n",
    "\n",
    "update_b <- function() {\n",
    "\n",
    "\n",
    "        # ( b > s ) ,  Buy C/F \n",
    "    \n",
    "        if ( b$quan > s$quan) { \n",
    "            \n",
    "            b$sale_quan  <- s$quan    \n",
    "            b$buy_quan <- s$quan\n",
    "            b$buy_pps <-  b$pps\n",
    "            b$buy_basis <-  b$buy_quan * b$pps\n",
    "\n",
    "            b$sell_quan <- s$quan    \n",
    "            b$sell_pps <- s$pps\n",
    "            b$sell_basis <- s$quan * s$pps\n",
    "\n",
    "            b$sold_cf_quan <- (b$quan - s$quan)        \n",
    "            b$sold_cf_pps <- b$pps\n",
    "            b$sold_cf_basis <- b$sold_cf_quan * b$pps \n",
    "            b$profit_loss <- b$sell_basis - b$buy_basis\n",
    "            \n",
    "            # Has buy c/f \n",
    "            b$flag <- TRUE         \n",
    "    \n",
    "       # ( s > b ), has sell carryforward\n",
    " \n",
    "        }else if(b$quan < s$quan) {\n",
    "            \n",
    "            b$basis <-  b$quan * b$pps\n",
    "            b$sale_quan <- b$quan\n",
    "           \n",
    "            b$buy_quan <- b$quan\n",
    "            b$buy_pps <-  b$pps\n",
    "            b$buy_basis <- b$basis\n",
    "         \n",
    "            # Sell c/f\n",
    "            sold_cf_quan <- s$quan - b$quan           \n",
    "            b$sold_cf_quan <- sold_cf_quan\n",
    "            b$sold_cf_pps <- s$pps\n",
    "            b$sold_cf_basis <- sold_cf_quan * s$pps\n",
    "                   \n",
    "            b$sell_quan <- b$quan\n",
    "            b$sell_pps <- s$pps\n",
    "            b$sell_basis <- b$quan * s$pps\n",
    "            b$profit_loss <- b$sell_basis - b$buy_basis\n",
    "            \n",
    "            # Has sell c/f \n",
    "            b$true_false <- TRUE\n",
    "           \n",
    " #  s$type <- \"SELL-CF\"   \n",
    "            \n",
    "        }else if (b$quan == s$quan) {            \n",
    "                  \n",
    "            b$buy_quan <- s$quan\n",
    "            b$buy_pps <-  b$pps\n",
    "            b$buy_basis <- b$buy_quan * b$pps\n",
    "\n",
    "            b$sell_quan <- s$quan    \n",
    "            b$sell_pps <- s$pps\n",
    "            b$sell_basis <- s$quan * s$pps\n",
    "            b$profit_loss <- b$sell_basis - b$buy_basis\n",
    "          \n",
    " #           s$type <- \"SOLD\"            \n",
    "            }\n",
    "            \n",
    "        return(b)   \n",
    "}  # fct\n",
    "\n",
    "updated_b <- update_b()\n",
    "updated_b  "
   ]
  },
  {
   "cell_type": "code",
   "execution_count": null,
   "id": "20cf76be-e74d-4d7c-b6f1-c44cd9c0d2dc",
   "metadata": {},
   "outputs": [],
   "source": [
    "# updated_b <- update_b()\n",
    "# updated_b  \n",
    "    "
   ]
  },
  {
   "cell_type": "markdown",
   "id": "5f1e6e07-aef7-482f-9d67-bdff865cb2cc",
   "metadata": {},
   "source": [
    "### <font color = yellow>3. Update the sales_records (rbind) with updated_b for each transaction (loop)"
   ]
  },
  {
   "cell_type": "code",
   "execution_count": null,
   "id": "f799e348-d69e-4f92-8f9c-34fb69014bee",
   "metadata": {},
   "outputs": [],
   "source": []
  },
  {
   "cell_type": "code",
   "execution_count": null,
   "id": "b145b78e-4531-40b7-9d1d-5ba2b0a327ac",
   "metadata": {
    "jupyter": {
     "source_hidden": true
    },
    "tags": []
   },
   "outputs": [],
   "source": [
    "#         if (exists(\"sale_records\") && is.data.frame(get(\"sale_records\"))) {\n",
    "#           # Data frame exists and is a valid data frame\n",
    "#           # Your code here...\n",
    "#             cat(\"sale_records exists:     \", \"\\n\") \n",
    "#             sale_records <- rbind(sale_records, updated_b)\n",
    "\n",
    "\n",
    "#         } else {\n",
    "#           # Data frame does not exist or is not a valid data frame\n",
    "#           # Handle the case where the data frame is missing...\n",
    "#             # cat(\"Newly created sale_records with updated_b data. \", \"\\n\")\n",
    "#             # sale_records <- data.frame()\n",
    "#             # sale_records <- rbind(sale_records, updated_b)    \n",
    "#         }\n"
   ]
  },
  {
   "cell_type": "code",
   "execution_count": null,
   "id": "760bc22f-3f97-4f01-8239-165b1a59b2bf",
   "metadata": {},
   "outputs": [],
   "source": []
  },
  {
   "cell_type": "code",
   "execution_count": null,
   "id": "5a0c82ac-18a9-485a-bd18-7259d3dd5670",
   "metadata": {},
   "outputs": [],
   "source": [
    "updated_b"
   ]
  },
  {
   "cell_type": "code",
   "execution_count": null,
   "id": "e1ec1d47-0901-4675-8e1c-918896eb21a4",
   "metadata": {},
   "outputs": [],
   "source": [
    "sale_records <- sale_records %>% add_row(updated_b , .before = 1)\n",
    "sale_records"
   ]
  },
  {
   "cell_type": "code",
   "execution_count": null,
   "id": "950edc71-ddde-469d-b00c-6ebca1946530",
   "metadata": {},
   "outputs": [],
   "source": []
  },
  {
   "cell_type": "code",
   "execution_count": null,
   "id": "cb6a1a8d-80bb-4fdd-a168-56d8a1474f86",
   "metadata": {},
   "outputs": [],
   "source": [
    "   last_row <- tail(sale_records, n = 1)\n",
    "last_row"
   ]
  },
  {
   "cell_type": "markdown",
   "id": "d8e37370-12f1-4118-822a-6ab11e268c18",
   "metadata": {},
   "source": [
    "#### <font color = yellow> 4. Update buys or sells with a new row (add_row) - whenever a transaction (loop) includes  c/f\n",
    "    \n",
    "###### Uses add_row () to transform any existing carryforward (buy or sell type) into the next element that will be processed for next (loop) buy/sell transaction"
   ]
  },
  {
   "cell_type": "code",
   "execution_count": null,
   "id": "61521a7f-4bc2-49eb-9eae-a137eaf1ed67",
   "metadata": {},
   "outputs": [],
   "source": []
  },
  {
   "cell_type": "code",
   "execution_count": null,
   "id": "c827c995-40d7-4edd-b0a9-013f7aaaca22",
   "metadata": {},
   "outputs": [],
   "source": [
    "# Evaluate the type of carryforward, then update buys or sells w/cf to prepare for next transaction (loop)\n",
    "\n",
    "update_buys_sells <- function(buys, sells) {\n",
    "\n",
    "    #  Check the most recent row ??? of sale_record or the last row of sale_record (was bind() or add_row() ? )\n",
    "    \n",
    "    last_row <- tail(sale_records, n = 1)\n",
    "   # first_row <- head(sale_records, n=1)\n",
    "    \n",
    "    # b == s (no c/f)\n",
    "    if(last_row$flag == FALSE && last_row$true_false == FALSE) {\n",
    "         cat(\"\\n\", \"The buy == sell, t/f No update to buys or sells.  NO carryforward. \", last_row$buy_cf_quan, \"\\n\")\n",
    "      }  \n",
    "        \n",
    "    # both start with the same inputs from the sale_records\n",
    "    b1 <- last_row\n",
    "    s1 <- last_row\n",
    "    \n",
    "    \n",
    "    \n",
    "    \n",
    "    \n",
    "    \n",
    "    \n",
    "    #  b > s  ... buy c/f will be created \n",
    "   \n",
    "    if (last_row$flag == TRUE && last_row$true_false == FALSE ) {\n",
    "        \n",
    "        \n",
    "        cat(\"\\n\", \"There is Buy carryforward. Update buys \", last_row$sold_cf_quan, \"\\n\")\n",
    "\n",
    "        last_row$co <- \"c/f\"\n",
    "        \n",
    "        \n",
    "        \n",
    "   \n",
    "        \n",
    "        \n",
    "# -------------------------------------------------------------------------------------------------------------------------   \n",
    "        \n",
    "        \n",
    "        # NEW  ... This section makes changes in sells[2, ]  which becomes sells[3,] , due to add_row()\n",
    "                \n",
    "        \n",
    "        s2cf_quan <- sells$quan[2] - s1$sold_cf_quan\n",
    "        s2cf_pps <- sells$pps[2]\n",
    "        \n",
    "        cat(\"the s2cf_quan is: \", s2cf_quan, \"\\n\")\n",
    "        cat(\"the s2cf_pps is \", s2cf_pps, \"\\n\")\n",
    "        \n",
    "        sells$quan[2] <- s2cf_quan\n",
    "        sells$pps[2] <-  s1$sell_pps                     #    s2cf_pps \n",
    "        sells[2, ]\n",
    "        sells$basis[2] <- sells$pps[2] * s2cf_quan\n",
    "        \n",
    "       \n",
    "        \n",
    "# -------------------------------------------------------------------------------------------------------------------------    \n",
    "        \n",
    "        \n",
    "        #  The section updates b1   .... t/f buys\n",
    "        \n",
    "       \n",
    "        b1$type <- \"Buy CF\"\n",
    "        b1$quan <- b1$sold_cf_quan\n",
    "        b1$pps <- b1$sold_cf_pps\n",
    "        b1$basis <- b1$sold_cf_basis\n",
    "        b1$flag <- FALSE\n",
    "        b1$sale_quan <- 0\n",
    "        b1[ , 10:ncol(b1)] <- 0\n",
    "\n",
    "        test <- buys\n",
    "        test <- test %>% add_row(b1, .before = 1)\n",
    "        buys <- test\n",
    "        \n",
    "  # ---------------------------------------------------------------------------------------------------------------      \n",
    "        \n",
    "               \n",
    "        # this section updates s1 ... t/f sells\n",
    "       \n",
    "        \n",
    "            \n",
    "        last_row$co <- \"c/f\"    \n",
    "        \n",
    "       \n",
    "        s1$type <- \"Sell CF\"\n",
    "        s1$quan <- s1$sold_cf_quan\n",
    "        s1$pps <-  s1$sell_pps               #    s1$sold_cf_pps\n",
    "        s1$basis <- s1$sell_pps\n",
    "        s1$sale_quan <- 0\n",
    "        s1[ , 10:ncol(s1)] <- 0\n",
    "\n",
    "        test <- sells\n",
    "        test <- test %>% add_row(s1, .before = 1)\n",
    "        sells <- test\n",
    "        \n",
    " \n",
    "        \n",
    "        \n",
    "# =================================================================================================================\n",
    "# ==============================================================================================================\n",
    "        \n",
    "        \n",
    "             #   s > b ... sell carryforward will be created    \n",
    "        \n",
    "\n",
    "    \n",
    "    } else if (last_row$flag == FALSE && last_row$true_false == TRUE ) {\n",
    "        \n",
    "        \n",
    "       \n",
    "        cat(\"\\n\", \"There is Sold carryforward. Update sells \", last_row$sold_cf_quan, \"\\n\")\n",
    "           # cat(\"dim(s1) : \", dim(s1), \"\\n\")\n",
    "         \n",
    "        last_row$co <- \"c/f\"      \n",
    "       \n",
    "        s1$type <- \"Sell CF\"\n",
    "        s1$quan <- s1$sold_cf_quan\n",
    "        s1$pps <- sells$pps[2]\n",
    "        s1$basis <- s1$sold_cf_basis\n",
    "        s1$sale_quan <- 0\n",
    "        s1[ , 10:ncol(s1)] <- 0\n",
    "\n",
    "        test <- sells\n",
    "        test <- test %>% add_row(s1, .before = 1)\n",
    "        sells <- test\n",
    "        \n",
    "        ## must also update the buys to match that sells c/f (this will allow for loop2 to begin \n",
    "        ## with both the buy and sell processing the c/f (example when sell cf = 900, then the \n",
    "        ## buy row needs to be that same 900 .... do not delete, just update here and now \n",
    "        \n",
    "        b1$type <- \"Buy CF\"\n",
    "        b1$quan <- b1$sold_cf_quan\n",
    "        b1$pps <- b1$sold_cf_pps\n",
    "        b1$basis <- b1$sold_cf_basis\n",
    "        b1$flag <- TRUE\n",
    "        \n",
    "        b1$sale_quan <- 0\n",
    "        b1[ , 10:ncol(b1)] <- 0\n",
    "        \n",
    "        test2 <- buys\n",
    "        test2 <- test2 %>% add_row(b1, .before = 1)\n",
    "        buys <- test2\n",
    "                      \n",
    "        }\n",
    "\n",
    "    # print by type of c/f  ( buy or sell ) \n",
    "        if(last_row$flag == TRUE) {\n",
    "            cat(\"printing updated buys[1 ], dim of buys increases with c/f \", \"\\n\")\n",
    "            b1\n",
    "            #buys[1, ]\n",
    "        }else if (last_row$true_false == TRUE) {\n",
    "            cat(\"printing: s1 ... dim of sells increases with c/f \", \"\\n\")\n",
    "            s1\n",
    "        }else {\n",
    "            cat(\"If msg here, there is no CF and potential issue exists in fct update_buys_sells. \", \"\\n\")\n",
    "            }\n",
    "    \n",
    "    return(list(buys, sells))\n",
    "     \n",
    "  }  # fct\n",
    "\n",
    "# fct call\n",
    "return_list <- update_buys_sells(buys, sells)\n",
    "\n",
    "buys <- return_list[[1]]\n",
    "sells <- return_list[[2]]\n",
    "\n",
    "dim(buys)\n",
    "dim(sells)\n"
   ]
  },
  {
   "cell_type": "code",
   "execution_count": null,
   "id": "5c1fcaad-92be-437b-9674-0d9e54f3c9bc",
   "metadata": {},
   "outputs": [],
   "source": []
  },
  {
   "cell_type": "code",
   "execution_count": null,
   "id": "6fe4bb6e-de4b-4baf-9ffc-089bcbd8e895",
   "metadata": {},
   "outputs": [],
   "source": []
  },
  {
   "cell_type": "code",
   "execution_count": null,
   "id": "013b2bcc-8eee-4b28-aa05-72c283572fd1",
   "metadata": {},
   "outputs": [],
   "source": []
  },
  {
   "cell_type": "code",
   "execution_count": null,
   "id": "dacdadad-f003-4890-98e0-20b7f13ca16a",
   "metadata": {
    "jupyter": {
     "source_hidden": true
    },
    "tags": []
   },
   "outputs": [],
   "source": [
    "# # fct call\n",
    "# return_list <- update_buys_sells(buys, sells)\n",
    "\n",
    "# buys <- return_list[[1]]\n",
    "# sells <- return_list[[2]]\n",
    "\n",
    "# dim(buys)\n",
    "# dim(sells)\n"
   ]
  },
  {
   "cell_type": "markdown",
   "id": "0c9e1a43-5200-45ec-9645-9797f00dc40b",
   "metadata": {},
   "source": [
    "#### <font color = lime> At this point, the first two rows of buys and sells match (when using 1050 ), after next fct, s/b only 1 row each"
   ]
  },
  {
   "cell_type": "code",
   "execution_count": null,
   "id": "cbe06561-e4d8-406e-b7ac-fd9795b8b12a",
   "metadata": {},
   "outputs": [],
   "source": [
    "buys[1:4,]\n",
    "sells[1:4,]"
   ]
  },
  {
   "cell_type": "code",
   "execution_count": null,
   "id": "0f70cf6f-205e-4a30-8116-e11b6f40eee3",
   "metadata": {},
   "outputs": [],
   "source": []
  },
  {
   "cell_type": "code",
   "execution_count": null,
   "id": "d12e7835-5262-4e1c-ab1c-de36c2d908be",
   "metadata": {},
   "outputs": [],
   "source": []
  },
  {
   "cell_type": "code",
   "execution_count": null,
   "id": "e4f563bf-3d09-47ef-8249-03f00d53f725",
   "metadata": {},
   "outputs": [],
   "source": []
  },
  {
   "cell_type": "code",
   "execution_count": null,
   "id": "eeda704f-4568-4e68-9a54-96425f946bed",
   "metadata": {},
   "outputs": [],
   "source": []
  },
  {
   "cell_type": "markdown",
   "id": "6083df0e-2295-4a2b-82c8-63318c5776aa",
   "metadata": {},
   "source": [
    "#### <font color = yellow>5. snips () Create a new variable from buys/sells row 1, then delete row 1 from buys and sells (copy_snip () )"
   ]
  },
  {
   "cell_type": "code",
   "execution_count": null,
   "id": "cce4336a-7aa2-4b04-8c10-a3d3165f0c74",
   "metadata": {},
   "outputs": [],
   "source": [
    "copy_snip_list <- copy_snip(buys, sells) \n",
    "\n",
    "b1 <- copy_snip_list[[1]]\n",
    "s1 <- copy_snip_list[[2]]\n",
    "buys <- copy_snip_list[[3]]\n",
    "sells <- copy_snip_list[[4]]"
   ]
  },
  {
   "cell_type": "code",
   "execution_count": null,
   "id": "61e4ce80-8bdd-4a6c-b79f-8cebb5a080b5",
   "metadata": {},
   "outputs": [],
   "source": []
  },
  {
   "cell_type": "code",
   "execution_count": null,
   "id": "44aae982-4fda-41fe-aa48-d5e66731a053",
   "metadata": {},
   "outputs": [],
   "source": []
  },
  {
   "cell_type": "markdown",
   "id": "5c70cb35-e500-4f99-a7d2-26604e30254f",
   "metadata": {},
   "source": [
    "#### <font color = lime> QC: Loop 2 review sale_record for accuracy"
   ]
  },
  {
   "cell_type": "code",
   "execution_count": null,
   "id": "5c86609e-045e-43ec-8b9d-c67f20324ede",
   "metadata": {},
   "outputs": [],
   "source": [
    "sale_records"
   ]
  },
  {
   "cell_type": "code",
   "execution_count": null,
   "id": "7a24d340-f336-4f52-954f-81e4e21d02e7",
   "metadata": {},
   "outputs": [],
   "source": []
  },
  {
   "cell_type": "markdown",
   "id": "fecd7575-7012-452a-a00c-aeaeefe42497",
   "metadata": {
    "tags": []
   },
   "source": [
    "#### <font color = lime> QC: Loop 2 review buys & sells"
   ]
  },
  {
   "cell_type": "code",
   "execution_count": null,
   "id": "c26e5a84-62f6-4962-981a-d689d0547f03",
   "metadata": {},
   "outputs": [],
   "source": [
    "dim(buys)\n",
    "dim(sells)\n",
    "head(buys,3)\n",
    "head(sells,3)"
   ]
  },
  {
   "cell_type": "code",
   "execution_count": null,
   "id": "edb18a10-b76e-4a41-ab71-f4e2efc8e93e",
   "metadata": {},
   "outputs": [],
   "source": []
  },
  {
   "cell_type": "markdown",
   "id": "21ca92e4-64d8-42e2-9595-9dee677ed2c5",
   "metadata": {},
   "source": [
    "#### <font color = lime> It seems the first rows of buys and sells s/b gone, but  they are not"
   ]
  },
  {
   "cell_type": "code",
   "execution_count": null,
   "id": "bbbc1857-a588-4e03-94fb-32c9606cfde2",
   "metadata": {},
   "outputs": [],
   "source": []
  },
  {
   "cell_type": "code",
   "execution_count": null,
   "id": "d9d215cb-23c4-4fcb-865c-a2dee7378bcf",
   "metadata": {},
   "outputs": [],
   "source": []
  },
  {
   "cell_type": "code",
   "execution_count": null,
   "id": "9f3e5b39-4c41-4948-b7cb-aae25b51ba89",
   "metadata": {},
   "outputs": [],
   "source": [
    "stopps"
   ]
  },
  {
   "cell_type": "markdown",
   "id": "c7d5754f-7369-49e7-896f-95411b15c3fd",
   "metadata": {},
   "source": [
    "Markdown Notes:\n",
    "\n",
    "Notes: This version is from a git check-out.  I had a notebook going South with bad code this AM.   \n",
    "I made a local copy of the notebook named: redo2_b4hardreset.), then exited Jupyter / Terminal.  \n",
    "With a new Terminal, I then performed a git log, then a check out (not a hard reset.)\n",
    "\n",
    "This checked out version is from the commit named:  end of day, from late last night - a good working version.\n",
    "The check out creates a detached HEAD state.  To eliminate the detached Head, I immediately created a new branch \n",
    "with this checked out version. \n",
    "This working version of the notebook is now on a new local branch named git fifo_redo3.  \n"
   ]
  },
  {
   "cell_type": "code",
   "execution_count": null,
   "id": "dafa4276-84b4-4781-8c7b-498f15c1d222",
   "metadata": {},
   "outputs": [],
   "source": []
  },
  {
   "cell_type": "markdown",
   "id": "b53a3bcd-1f72-44f8-adb4-32a5263bdad6",
   "metadata": {},
   "source": [
    "# <font color = cyan> Proof of Concept above. Make it loop 3 x."
   ]
  },
  {
   "cell_type": "code",
   "execution_count": null,
   "id": "f4ac33b5-c60f-4959-a1e7-2507da70c7f6",
   "metadata": {},
   "outputs": [],
   "source": [
    "\n"
   ]
  },
  {
   "cell_type": "code",
   "execution_count": null,
   "id": "dd2fed98-378b-489a-982f-7d8b08cc82e5",
   "metadata": {},
   "outputs": [],
   "source": []
  },
  {
   "cell_type": "markdown",
   "id": "6af1a707-1831-43cc-b344-6932c5fd5708",
   "metadata": {
    "tags": []
   },
   "source": [
    "# fct call 1\n",
    "b <- buys[1,]\n",
    "s <- sells[1,]\n",
    "\n",
    "# fct call 2\n",
    "updated_b <- update_b()\n",
    "updated_b  \n",
    "\n",
    "# fct call 3\n",
    "if (exists(\"sale_records\") && is.data.frame(get(\"sale_records\"))) {\n",
    "  # Data frame exists and is a valid data frame\n",
    "  # Your code here...\n",
    "    cat(\"sale_records exists:     \", \"\\n\") \n",
    "    sale_records <- rbind(sale_records, updated_b)\n",
    "        \n",
    "} else {\n",
    "  # Data frame does not exist or is not a valid data frame\n",
    "  # Handle the case where the data frame is missing...\n",
    "    # cat(\"Newly created sale_records with updated_b data. \", \"\\n\")\n",
    "    # sale_records <- data.frame()\n",
    "    # sale_records <- rbind(sale_records, updated_b)    \n",
    "}\n",
    "\n",
    "# fct call 4\n",
    "return_list <- update_buys_sells(buys, sells)\n",
    "buys <- return_list[[1]]\n",
    "sells <- return_list[[2]]\n",
    "\n",
    "\n",
    "\n",
    "# fct call 5\n",
    "copy_snip_list <- copy_snip(buys, sells) \n",
    "b1 <- copy_snip_list[[1]]\n",
    "s1 <- copy_snip_list[[2]]\n",
    "buys <- copy_snip_list[[3]]\n",
    "sells <- copy_snip_list[[4]]\n"
   ]
  },
  {
   "cell_type": "code",
   "execution_count": null,
   "id": "b01a950f-1765-4937-9118-1c08deb92185",
   "metadata": {},
   "outputs": [],
   "source": []
  },
  {
   "cell_type": "code",
   "execution_count": null,
   "id": "3d33370e-13f0-475f-993e-36ebee90b731",
   "metadata": {},
   "outputs": [],
   "source": [
    "# fct call 1\n",
    "b <- buys[1,]\n",
    "s <- sells[1,]\n",
    "b\n",
    "s"
   ]
  },
  {
   "cell_type": "code",
   "execution_count": null,
   "id": "acd86da0-5d97-4809-a84d-cea0264c033d",
   "metadata": {},
   "outputs": [],
   "source": []
  },
  {
   "cell_type": "code",
   "execution_count": null,
   "id": "92cf6997-07d5-4a60-8de5-dc07e98618a2",
   "metadata": {},
   "outputs": [],
   "source": [
    "# fct call 2\n",
    "updated_b <- update_b()\n",
    "updated_b  "
   ]
  },
  {
   "cell_type": "code",
   "execution_count": null,
   "id": "44461f43-b729-4d24-92d4-6c0085bb7a1e",
   "metadata": {},
   "outputs": [],
   "source": []
  },
  {
   "cell_type": "code",
   "execution_count": null,
   "id": "2c1ae95e-407a-47fb-9a1d-713b18d09493",
   "metadata": {},
   "outputs": [],
   "source": [
    "# fct call 3\n",
    "if (exists(\"sale_records\") && is.data.frame(get(\"sale_records\"))) {\n",
    "  # Data frame exists and is a valid data frame\n",
    "  # Your code here...\n",
    "    cat(\"sale_records exists:     \", \"\\n\") \n",
    "    sale_records <- rbind(sale_records, updated_b)\n",
    "        \n",
    "} else {\n",
    "  # Data frame does not exist or is not a valid data frame\n",
    "  # Handle the case where the data frame is missing...\n",
    "    # cat(\"Newly created sale_records with updated_b data. \", \"\\n\")\n",
    "    # sale_records <- data.frame()\n",
    "    # sale_records <- rbind(sale_records, updated_b)    \n",
    "}"
   ]
  },
  {
   "cell_type": "code",
   "execution_count": null,
   "id": "df7747a4-55f3-4f6c-91fd-cb77f6a00af3",
   "metadata": {},
   "outputs": [],
   "source": []
  },
  {
   "cell_type": "code",
   "execution_count": null,
   "id": "94f5f8ae-d0e1-4553-a70f-2f177859fa0f",
   "metadata": {},
   "outputs": [],
   "source": [
    "# fct call 4\n",
    "return_list <- update_buys_sells(buys, sells)\n",
    "buys <- return_list[[1]]\n",
    "sells <- return_list[[2]]"
   ]
  },
  {
   "cell_type": "code",
   "execution_count": null,
   "id": "dcc0fbd0-9b84-4fc4-86ae-73d911dbb531",
   "metadata": {},
   "outputs": [],
   "source": []
  },
  {
   "cell_type": "code",
   "execution_count": null,
   "id": "8981e131-828f-459b-9882-1057a87fd64f",
   "metadata": {},
   "outputs": [],
   "source": [
    "# fct call 5\n",
    "copy_snip_list <- copy_snip(buys, sells) \n",
    "b1 <- copy_snip_list[[1]]\n",
    "s1 <- copy_snip_list[[2]]\n",
    "buys <- copy_snip_list[[3]]\n",
    "sells <- copy_snip_list[[4]]"
   ]
  },
  {
   "cell_type": "code",
   "execution_count": null,
   "id": "f284a0ae-e2fe-4d89-b46a-7094beb10fd1",
   "metadata": {},
   "outputs": [],
   "source": []
  },
  {
   "cell_type": "code",
   "execution_count": null,
   "id": "7927426c-be79-48a3-99c9-970febd82ca6",
   "metadata": {},
   "outputs": [],
   "source": []
  },
  {
   "cell_type": "code",
   "execution_count": null,
   "id": "9f3abc74-dfc2-41ba-a81f-77cfa446b338",
   "metadata": {},
   "outputs": [],
   "source": []
  },
  {
   "cell_type": "markdown",
   "id": "6b5dd27c-8fd8-4c1a-85a7-d5c641d579dd",
   "metadata": {},
   "source": [
    "#### <font color = lime> QC: Loop 3 review buys & sells\n",
    "    \n"
   ]
  },
  {
   "cell_type": "code",
   "execution_count": null,
   "id": "9799ba85-5f9f-434a-83eb-1b0621f0fd12",
   "metadata": {},
   "outputs": [],
   "source": [
    "dim(buys)\n",
    "dim(sells)\n",
    "head(buys, 5)\n",
    "head(sells, 5)"
   ]
  },
  {
   "cell_type": "code",
   "execution_count": null,
   "id": "8b0ff2e0-d906-411e-9e2c-04d4ec2dbdbc",
   "metadata": {},
   "outputs": [],
   "source": []
  },
  {
   "cell_type": "code",
   "execution_count": null,
   "id": "9e026000-05d8-4e8d-8775-3bd049bfd287",
   "metadata": {},
   "outputs": [],
   "source": [
    "sale_records"
   ]
  },
  {
   "cell_type": "code",
   "execution_count": null,
   "id": "427616b1-b244-481e-913b-9ef9af1d7933",
   "metadata": {},
   "outputs": [],
   "source": [
    "t(sale_records)"
   ]
  }
 ],
 "metadata": {
  "kernelspec": {
   "display_name": "R",
   "language": "R",
   "name": "ir"
  },
  "language_info": {
   "codemirror_mode": "r",
   "file_extension": ".r",
   "mimetype": "text/x-r-source",
   "name": "R",
   "pygments_lexer": "r",
   "version": "4.3.0"
  }
 },
 "nbformat": 4,
 "nbformat_minor": 5
}
