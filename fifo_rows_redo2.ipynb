{
 "cells": [
  {
   "cell_type": "markdown",
   "id": "8a4f934a-bc5d-4389-8931-fa890b8b83b6",
   "metadata": {},
   "source": [
    "### <font color = yellow> This is a clean copy of fifo_rows_redo.ipynb at creation point"
   ]
  },
  {
   "cell_type": "code",
   "execution_count": null,
   "id": "95cbb875-6b9c-4a01-bf64-3197b32a7fd7",
   "metadata": {},
   "outputs": [],
   "source": []
  },
  {
   "cell_type": "code",
   "execution_count": 1,
   "id": "1a40d688-bd55-4df2-be07-c685b667921e",
   "metadata": {},
   "outputs": [],
   "source": [
    "library(tibble)"
   ]
  },
  {
   "cell_type": "code",
   "execution_count": 2,
   "id": "2c80d5a2-6093-4214-8997-320bba4a3ee0",
   "metadata": {},
   "outputs": [
    {
     "name": "stdout",
     "output_type": "stream",
     "text": [
      "One | Two | Three\n"
     ]
    }
   ],
   "source": [
    "cat(\"One\", \"Two\", \"Three\", sep = \" | \", fill = TRUE)"
   ]
  },
  {
   "cell_type": "code",
   "execution_count": 3,
   "id": "688be791-4012-4380-9bd0-e831c4aa6d77",
   "metadata": {},
   "outputs": [],
   "source": [
    "options(pillar.width = Inf)\n"
   ]
  },
  {
   "cell_type": "markdown",
   "id": "18bdfbd9-160f-4efc-b792-3f83ccd72b58",
   "metadata": {},
   "source": [
    "## <font color = yellow> create_df function () - reads .csv"
   ]
  },
  {
   "cell_type": "code",
   "execution_count": 4,
   "id": "51840835-30c6-4641-bdaa-649d2fd9a34c",
   "metadata": {},
   "outputs": [],
   "source": [
    "   \n",
    "df <- read.csv(\"fifo_new.csv\", header = TRUE, sep = \",\")\n",
    "df$date <- as.Date(df$date, origin = \"1899-12-30\")"
   ]
  },
  {
   "cell_type": "code",
   "execution_count": 5,
   "id": "5a314ebe-1db3-4cbb-a923-f7978130ee34",
   "metadata": {},
   "outputs": [
    {
     "data": {
      "text/html": [
       "<table class=\"dataframe\">\n",
       "<caption>A data.frame: 2 × 23</caption>\n",
       "<thead>\n",
       "\t<tr><th></th><th scope=col>index</th><th scope=col>date</th><th scope=col>type</th><th scope=col>co</th><th scope=col>quan</th><th scope=col>pps</th><th scope=col>basis</th><th scope=col>sale_quan</th><th scope=col>tally</th><th scope=col>cf_quan</th><th scope=col>⋯</th><th scope=col>buy_pps</th><th scope=col>buy_basis</th><th scope=col>sell_quan</th><th scope=col>sell_pps</th><th scope=col>sell_basis</th><th scope=col>profit_loss</th><th scope=col>Sell_cf</th><th scope=col>Sell_cf_pps</th><th scope=col>Sell_cf_basis</th><th scope=col>TorF</th></tr>\n",
       "\t<tr><th></th><th scope=col>&lt;int&gt;</th><th scope=col>&lt;date&gt;</th><th scope=col>&lt;chr&gt;</th><th scope=col>&lt;chr&gt;</th><th scope=col>&lt;int&gt;</th><th scope=col>&lt;dbl&gt;</th><th scope=col>&lt;dbl&gt;</th><th scope=col>&lt;int&gt;</th><th scope=col>&lt;int&gt;</th><th scope=col>&lt;int&gt;</th><th scope=col>⋯</th><th scope=col>&lt;dbl&gt;</th><th scope=col>&lt;dbl&gt;</th><th scope=col>&lt;int&gt;</th><th scope=col>&lt;dbl&gt;</th><th scope=col>&lt;dbl&gt;</th><th scope=col>&lt;dbl&gt;</th><th scope=col>&lt;int&gt;</th><th scope=col>&lt;dbl&gt;</th><th scope=col>&lt;dbl&gt;</th><th scope=col>&lt;int&gt;</th></tr>\n",
       "</thead>\n",
       "<tbody>\n",
       "\t<tr><th scope=row>1</th><td>1</td><td>2022-12-31</td><td>Buy </td><td>AMC</td><td>1050</td><td>4.0700</td><td>4273.5</td><td>0</td><td>0</td><td>0</td><td>⋯</td><td>0</td><td>0</td><td>0</td><td>0</td><td>0</td><td>0</td><td>0</td><td>0</td><td>0</td><td>0</td></tr>\n",
       "\t<tr><th scope=row>2</th><td>2</td><td>2023-01-27</td><td>Sell</td><td>AMC</td><td>1000</td><td>5.5124</td><td>5512.4</td><td>0</td><td>0</td><td>0</td><td>⋯</td><td>0</td><td>0</td><td>0</td><td>0</td><td>0</td><td>0</td><td>0</td><td>0</td><td>0</td><td>0</td></tr>\n",
       "</tbody>\n",
       "</table>\n"
      ],
      "text/latex": [
       "A data.frame: 2 × 23\n",
       "\\begin{tabular}{r|lllllllllllllllllllll}\n",
       "  & index & date & type & co & quan & pps & basis & sale\\_quan & tally & cf\\_quan & ⋯ & buy\\_pps & buy\\_basis & sell\\_quan & sell\\_pps & sell\\_basis & profit\\_loss & Sell\\_cf & Sell\\_cf\\_pps & Sell\\_cf\\_basis & TorF\\\\\n",
       "  & <int> & <date> & <chr> & <chr> & <int> & <dbl> & <dbl> & <int> & <int> & <int> & ⋯ & <dbl> & <dbl> & <int> & <dbl> & <dbl> & <dbl> & <int> & <dbl> & <dbl> & <int>\\\\\n",
       "\\hline\n",
       "\t1 & 1 & 2022-12-31 & Buy  & AMC & 1050 & 4.0700 & 4273.5 & 0 & 0 & 0 & ⋯ & 0 & 0 & 0 & 0 & 0 & 0 & 0 & 0 & 0 & 0\\\\\n",
       "\t2 & 2 & 2023-01-27 & Sell & AMC & 1000 & 5.5124 & 5512.4 & 0 & 0 & 0 & ⋯ & 0 & 0 & 0 & 0 & 0 & 0 & 0 & 0 & 0 & 0\\\\\n",
       "\\end{tabular}\n"
      ],
      "text/markdown": [
       "\n",
       "A data.frame: 2 × 23\n",
       "\n",
       "| <!--/--> | index &lt;int&gt; | date &lt;date&gt; | type &lt;chr&gt; | co &lt;chr&gt; | quan &lt;int&gt; | pps &lt;dbl&gt; | basis &lt;dbl&gt; | sale_quan &lt;int&gt; | tally &lt;int&gt; | cf_quan &lt;int&gt; | ⋯ ⋯ | buy_pps &lt;dbl&gt; | buy_basis &lt;dbl&gt; | sell_quan &lt;int&gt; | sell_pps &lt;dbl&gt; | sell_basis &lt;dbl&gt; | profit_loss &lt;dbl&gt; | Sell_cf &lt;int&gt; | Sell_cf_pps &lt;dbl&gt; | Sell_cf_basis &lt;dbl&gt; | TorF &lt;int&gt; |\n",
       "|---|---|---|---|---|---|---|---|---|---|---|---|---|---|---|---|---|---|---|---|---|---|\n",
       "| 1 | 1 | 2022-12-31 | Buy  | AMC | 1050 | 4.0700 | 4273.5 | 0 | 0 | 0 | ⋯ | 0 | 0 | 0 | 0 | 0 | 0 | 0 | 0 | 0 | 0 |\n",
       "| 2 | 2 | 2023-01-27 | Sell | AMC | 1000 | 5.5124 | 5512.4 | 0 | 0 | 0 | ⋯ | 0 | 0 | 0 | 0 | 0 | 0 | 0 | 0 | 0 | 0 |\n",
       "\n"
      ],
      "text/plain": [
       "  index date       type co  quan pps    basis  sale_quan tally cf_quan ⋯\n",
       "1 1     2022-12-31 Buy  AMC 1050 4.0700 4273.5 0         0     0       ⋯\n",
       "2 2     2023-01-27 Sell AMC 1000 5.5124 5512.4 0         0     0       ⋯\n",
       "  buy_pps buy_basis sell_quan sell_pps sell_basis profit_loss Sell_cf\n",
       "1 0       0         0         0        0          0           0      \n",
       "2 0       0         0         0        0          0           0      \n",
       "  Sell_cf_pps Sell_cf_basis TorF\n",
       "1 0           0             0   \n",
       "2 0           0             0   "
      ]
     },
     "metadata": {},
     "output_type": "display_data"
    }
   ],
   "source": [
    "head(df,2)"
   ]
  },
  {
   "cell_type": "code",
   "execution_count": 6,
   "id": "2ec1d402-7bf9-4ec5-8209-ec0c023622f4",
   "metadata": {},
   "outputs": [],
   "source": [
    "df$true_false <- FALSE\n",
    "df$flag <- FALSE"
   ]
  },
  {
   "cell_type": "code",
   "execution_count": 7,
   "id": "4c25354d-5db4-4eda-bf18-fe106bfd67ee",
   "metadata": {
    "tags": []
   },
   "outputs": [
    {
     "data": {
      "text/html": [
       "<table class=\"dataframe\">\n",
       "<caption>A data.frame: 2 × 25</caption>\n",
       "<thead>\n",
       "\t<tr><th></th><th scope=col>index</th><th scope=col>date</th><th scope=col>type</th><th scope=col>co</th><th scope=col>quan</th><th scope=col>pps</th><th scope=col>basis</th><th scope=col>sale_quan</th><th scope=col>tally</th><th scope=col>cf_quan</th><th scope=col>⋯</th><th scope=col>sell_quan</th><th scope=col>sell_pps</th><th scope=col>sell_basis</th><th scope=col>profit_loss</th><th scope=col>Sell_cf</th><th scope=col>Sell_cf_pps</th><th scope=col>Sell_cf_basis</th><th scope=col>TorF</th><th scope=col>true_false</th><th scope=col>flag</th></tr>\n",
       "\t<tr><th></th><th scope=col>&lt;int&gt;</th><th scope=col>&lt;date&gt;</th><th scope=col>&lt;chr&gt;</th><th scope=col>&lt;chr&gt;</th><th scope=col>&lt;int&gt;</th><th scope=col>&lt;dbl&gt;</th><th scope=col>&lt;dbl&gt;</th><th scope=col>&lt;int&gt;</th><th scope=col>&lt;int&gt;</th><th scope=col>&lt;int&gt;</th><th scope=col>⋯</th><th scope=col>&lt;int&gt;</th><th scope=col>&lt;dbl&gt;</th><th scope=col>&lt;dbl&gt;</th><th scope=col>&lt;dbl&gt;</th><th scope=col>&lt;int&gt;</th><th scope=col>&lt;dbl&gt;</th><th scope=col>&lt;dbl&gt;</th><th scope=col>&lt;int&gt;</th><th scope=col>&lt;lgl&gt;</th><th scope=col>&lt;lgl&gt;</th></tr>\n",
       "</thead>\n",
       "<tbody>\n",
       "\t<tr><th scope=row>1</th><td>1</td><td>2022-12-31</td><td>Buy </td><td>AMC</td><td>1050</td><td>4.0700</td><td>4273.5</td><td>0</td><td>0</td><td>0</td><td>⋯</td><td>0</td><td>0</td><td>0</td><td>0</td><td>0</td><td>0</td><td>0</td><td>0</td><td>FALSE</td><td>FALSE</td></tr>\n",
       "\t<tr><th scope=row>2</th><td>2</td><td>2023-01-27</td><td>Sell</td><td>AMC</td><td>1000</td><td>5.5124</td><td>5512.4</td><td>0</td><td>0</td><td>0</td><td>⋯</td><td>0</td><td>0</td><td>0</td><td>0</td><td>0</td><td>0</td><td>0</td><td>0</td><td>FALSE</td><td>FALSE</td></tr>\n",
       "</tbody>\n",
       "</table>\n"
      ],
      "text/latex": [
       "A data.frame: 2 × 25\n",
       "\\begin{tabular}{r|lllllllllllllllllllll}\n",
       "  & index & date & type & co & quan & pps & basis & sale\\_quan & tally & cf\\_quan & ⋯ & sell\\_quan & sell\\_pps & sell\\_basis & profit\\_loss & Sell\\_cf & Sell\\_cf\\_pps & Sell\\_cf\\_basis & TorF & true\\_false & flag\\\\\n",
       "  & <int> & <date> & <chr> & <chr> & <int> & <dbl> & <dbl> & <int> & <int> & <int> & ⋯ & <int> & <dbl> & <dbl> & <dbl> & <int> & <dbl> & <dbl> & <int> & <lgl> & <lgl>\\\\\n",
       "\\hline\n",
       "\t1 & 1 & 2022-12-31 & Buy  & AMC & 1050 & 4.0700 & 4273.5 & 0 & 0 & 0 & ⋯ & 0 & 0 & 0 & 0 & 0 & 0 & 0 & 0 & FALSE & FALSE\\\\\n",
       "\t2 & 2 & 2023-01-27 & Sell & AMC & 1000 & 5.5124 & 5512.4 & 0 & 0 & 0 & ⋯ & 0 & 0 & 0 & 0 & 0 & 0 & 0 & 0 & FALSE & FALSE\\\\\n",
       "\\end{tabular}\n"
      ],
      "text/markdown": [
       "\n",
       "A data.frame: 2 × 25\n",
       "\n",
       "| <!--/--> | index &lt;int&gt; | date &lt;date&gt; | type &lt;chr&gt; | co &lt;chr&gt; | quan &lt;int&gt; | pps &lt;dbl&gt; | basis &lt;dbl&gt; | sale_quan &lt;int&gt; | tally &lt;int&gt; | cf_quan &lt;int&gt; | ⋯ ⋯ | sell_quan &lt;int&gt; | sell_pps &lt;dbl&gt; | sell_basis &lt;dbl&gt; | profit_loss &lt;dbl&gt; | Sell_cf &lt;int&gt; | Sell_cf_pps &lt;dbl&gt; | Sell_cf_basis &lt;dbl&gt; | TorF &lt;int&gt; | true_false &lt;lgl&gt; | flag &lt;lgl&gt; |\n",
       "|---|---|---|---|---|---|---|---|---|---|---|---|---|---|---|---|---|---|---|---|---|---|\n",
       "| 1 | 1 | 2022-12-31 | Buy  | AMC | 1050 | 4.0700 | 4273.5 | 0 | 0 | 0 | ⋯ | 0 | 0 | 0 | 0 | 0 | 0 | 0 | 0 | FALSE | FALSE |\n",
       "| 2 | 2 | 2023-01-27 | Sell | AMC | 1000 | 5.5124 | 5512.4 | 0 | 0 | 0 | ⋯ | 0 | 0 | 0 | 0 | 0 | 0 | 0 | 0 | FALSE | FALSE |\n",
       "\n"
      ],
      "text/plain": [
       "  index date       type co  quan pps    basis  sale_quan tally cf_quan ⋯\n",
       "1 1     2022-12-31 Buy  AMC 1050 4.0700 4273.5 0         0     0       ⋯\n",
       "2 2     2023-01-27 Sell AMC 1000 5.5124 5512.4 0         0     0       ⋯\n",
       "  sell_quan sell_pps sell_basis profit_loss Sell_cf Sell_cf_pps Sell_cf_basis\n",
       "1 0         0        0          0           0       0           0            \n",
       "2 0         0        0          0           0       0           0            \n",
       "  TorF true_false flag \n",
       "1 0    FALSE      FALSE\n",
       "2 0    FALSE      FALSE"
      ]
     },
     "metadata": {},
     "output_type": "display_data"
    }
   ],
   "source": [
    "head(df, 2)"
   ]
  },
  {
   "cell_type": "markdown",
   "id": "ad6fef1e-5fa2-4f99-8d77-c5706407dfde",
   "metadata": {},
   "source": [
    "## <font color = yellow>1. Create data & dfs"
   ]
  },
  {
   "cell_type": "code",
   "execution_count": 8,
   "id": "5f879b68-2a45-4a2a-b267-a64c7cee5a21",
   "metadata": {
    "tags": []
   },
   "outputs": [],
   "source": [
    "#    df_records <- data.frame()\n",
    "sale_records <- data.frame() \n"
   ]
  },
  {
   "cell_type": "code",
   "execution_count": 9,
   "id": "7e4c688a-c2bc-4c3a-8280-7d93e3c3b477",
   "metadata": {
    "tags": []
   },
   "outputs": [
    {
     "data": {
      "text/html": [
       "<table class=\"dataframe\">\n",
       "<caption>A data.frame: 1 × 25</caption>\n",
       "<thead>\n",
       "\t<tr><th></th><th scope=col>index</th><th scope=col>date</th><th scope=col>type</th><th scope=col>co</th><th scope=col>quan</th><th scope=col>pps</th><th scope=col>basis</th><th scope=col>sale_quan</th><th scope=col>tally</th><th scope=col>cf_quan</th><th scope=col>⋯</th><th scope=col>sell_quan</th><th scope=col>sell_pps</th><th scope=col>sell_basis</th><th scope=col>profit_loss</th><th scope=col>Sell_cf</th><th scope=col>Sell_cf_pps</th><th scope=col>Sell_cf_basis</th><th scope=col>TorF</th><th scope=col>true_false</th><th scope=col>flag</th></tr>\n",
       "\t<tr><th></th><th scope=col>&lt;int&gt;</th><th scope=col>&lt;date&gt;</th><th scope=col>&lt;chr&gt;</th><th scope=col>&lt;chr&gt;</th><th scope=col>&lt;int&gt;</th><th scope=col>&lt;dbl&gt;</th><th scope=col>&lt;dbl&gt;</th><th scope=col>&lt;int&gt;</th><th scope=col>&lt;int&gt;</th><th scope=col>&lt;int&gt;</th><th scope=col>⋯</th><th scope=col>&lt;int&gt;</th><th scope=col>&lt;dbl&gt;</th><th scope=col>&lt;dbl&gt;</th><th scope=col>&lt;dbl&gt;</th><th scope=col>&lt;int&gt;</th><th scope=col>&lt;dbl&gt;</th><th scope=col>&lt;dbl&gt;</th><th scope=col>&lt;int&gt;</th><th scope=col>&lt;lgl&gt;</th><th scope=col>&lt;lgl&gt;</th></tr>\n",
       "</thead>\n",
       "<tbody>\n",
       "\t<tr><th scope=row>1</th><td>1</td><td>2022-12-31</td><td>Buy</td><td>AMC</td><td>1050</td><td>4.07</td><td>4273.5</td><td>0</td><td>0</td><td>0</td><td>⋯</td><td>0</td><td>0</td><td>0</td><td>0</td><td>0</td><td>0</td><td>0</td><td>0</td><td>FALSE</td><td>FALSE</td></tr>\n",
       "</tbody>\n",
       "</table>\n"
      ],
      "text/latex": [
       "A data.frame: 1 × 25\n",
       "\\begin{tabular}{r|lllllllllllllllllllll}\n",
       "  & index & date & type & co & quan & pps & basis & sale\\_quan & tally & cf\\_quan & ⋯ & sell\\_quan & sell\\_pps & sell\\_basis & profit\\_loss & Sell\\_cf & Sell\\_cf\\_pps & Sell\\_cf\\_basis & TorF & true\\_false & flag\\\\\n",
       "  & <int> & <date> & <chr> & <chr> & <int> & <dbl> & <dbl> & <int> & <int> & <int> & ⋯ & <int> & <dbl> & <dbl> & <dbl> & <int> & <dbl> & <dbl> & <int> & <lgl> & <lgl>\\\\\n",
       "\\hline\n",
       "\t1 & 1 & 2022-12-31 & Buy & AMC & 1050 & 4.07 & 4273.5 & 0 & 0 & 0 & ⋯ & 0 & 0 & 0 & 0 & 0 & 0 & 0 & 0 & FALSE & FALSE\\\\\n",
       "\\end{tabular}\n"
      ],
      "text/markdown": [
       "\n",
       "A data.frame: 1 × 25\n",
       "\n",
       "| <!--/--> | index &lt;int&gt; | date &lt;date&gt; | type &lt;chr&gt; | co &lt;chr&gt; | quan &lt;int&gt; | pps &lt;dbl&gt; | basis &lt;dbl&gt; | sale_quan &lt;int&gt; | tally &lt;int&gt; | cf_quan &lt;int&gt; | ⋯ ⋯ | sell_quan &lt;int&gt; | sell_pps &lt;dbl&gt; | sell_basis &lt;dbl&gt; | profit_loss &lt;dbl&gt; | Sell_cf &lt;int&gt; | Sell_cf_pps &lt;dbl&gt; | Sell_cf_basis &lt;dbl&gt; | TorF &lt;int&gt; | true_false &lt;lgl&gt; | flag &lt;lgl&gt; |\n",
       "|---|---|---|---|---|---|---|---|---|---|---|---|---|---|---|---|---|---|---|---|---|---|\n",
       "| 1 | 1 | 2022-12-31 | Buy | AMC | 1050 | 4.07 | 4273.5 | 0 | 0 | 0 | ⋯ | 0 | 0 | 0 | 0 | 0 | 0 | 0 | 0 | FALSE | FALSE |\n",
       "\n"
      ],
      "text/plain": [
       "  index date       type co  quan pps  basis  sale_quan tally cf_quan ⋯\n",
       "1 1     2022-12-31 Buy  AMC 1050 4.07 4273.5 0         0     0       ⋯\n",
       "  sell_quan sell_pps sell_basis profit_loss Sell_cf Sell_cf_pps Sell_cf_basis\n",
       "1 0         0        0          0           0       0           0            \n",
       "  TorF true_false flag \n",
       "1 0    FALSE      FALSE"
      ]
     },
     "metadata": {},
     "output_type": "display_data"
    }
   ],
   "source": [
    "# create dfs from filtered df\n",
    "buys <- df[df$type == 'Buy', ]  # Filter buys\n",
    "sells <- df[df$type == 'Sell', ]  # Filter sells\n",
    "b <- buys[1,]\n",
    "s <- sells[1,]\n",
    "b"
   ]
  },
  {
   "cell_type": "markdown",
   "id": "72333e7b-7971-4afa-9494-ad26116963ab",
   "metadata": {},
   "source": [
    "## <font color = yellow> Examining data and dfs"
   ]
  },
  {
   "cell_type": "code",
   "execution_count": 10,
   "id": "5a58d2a1-bd12-489a-9ce3-48e1a5ba6dda",
   "metadata": {},
   "outputs": [
    {
     "data": {
      "text/html": [
       "23"
      ],
      "text/latex": [
       "23"
      ],
      "text/markdown": [
       "23"
      ],
      "text/plain": [
       "[1] 23"
      ]
     },
     "metadata": {},
     "output_type": "display_data"
    },
    {
     "data": {
      "text/html": [
       "18"
      ],
      "text/latex": [
       "18"
      ],
      "text/markdown": [
       "18"
      ],
      "text/plain": [
       "[1] 18"
      ]
     },
     "metadata": {},
     "output_type": "display_data"
    },
    {
     "data": {
      "text/html": [
       "<style>\n",
       ".list-inline {list-style: none; margin:0; padding: 0}\n",
       ".list-inline>li {display: inline-block}\n",
       ".list-inline>li:not(:last-child)::after {content: \"\\00b7\"; padding: 0 .5ex}\n",
       "</style>\n",
       "<ol class=list-inline><li>18</li><li>25</li></ol>\n"
      ],
      "text/latex": [
       "\\begin{enumerate*}\n",
       "\\item 18\n",
       "\\item 25\n",
       "\\end{enumerate*}\n"
      ],
      "text/markdown": [
       "1. 18\n",
       "2. 25\n",
       "\n",
       "\n"
      ],
      "text/plain": [
       "[1] 18 25"
      ]
     },
     "metadata": {},
     "output_type": "display_data"
    },
    {
     "data": {
      "text/html": [
       "<table class=\"dataframe\">\n",
       "<caption>A data.frame: 2 × 25</caption>\n",
       "<thead>\n",
       "\t<tr><th></th><th scope=col>index</th><th scope=col>date</th><th scope=col>type</th><th scope=col>co</th><th scope=col>quan</th><th scope=col>pps</th><th scope=col>basis</th><th scope=col>sale_quan</th><th scope=col>tally</th><th scope=col>cf_quan</th><th scope=col>⋯</th><th scope=col>sell_quan</th><th scope=col>sell_pps</th><th scope=col>sell_basis</th><th scope=col>profit_loss</th><th scope=col>Sell_cf</th><th scope=col>Sell_cf_pps</th><th scope=col>Sell_cf_basis</th><th scope=col>TorF</th><th scope=col>true_false</th><th scope=col>flag</th></tr>\n",
       "\t<tr><th></th><th scope=col>&lt;int&gt;</th><th scope=col>&lt;date&gt;</th><th scope=col>&lt;chr&gt;</th><th scope=col>&lt;chr&gt;</th><th scope=col>&lt;int&gt;</th><th scope=col>&lt;dbl&gt;</th><th scope=col>&lt;dbl&gt;</th><th scope=col>&lt;int&gt;</th><th scope=col>&lt;int&gt;</th><th scope=col>&lt;int&gt;</th><th scope=col>⋯</th><th scope=col>&lt;int&gt;</th><th scope=col>&lt;dbl&gt;</th><th scope=col>&lt;dbl&gt;</th><th scope=col>&lt;dbl&gt;</th><th scope=col>&lt;int&gt;</th><th scope=col>&lt;dbl&gt;</th><th scope=col>&lt;dbl&gt;</th><th scope=col>&lt;int&gt;</th><th scope=col>&lt;lgl&gt;</th><th scope=col>&lt;lgl&gt;</th></tr>\n",
       "</thead>\n",
       "<tbody>\n",
       "\t<tr><th scope=row>1</th><td>1</td><td>2022-12-31</td><td>Buy</td><td>AMC</td><td>1050</td><td>4.070</td><td>4273.5</td><td>0</td><td>0</td><td>0</td><td>⋯</td><td>0</td><td>0</td><td>0</td><td>0</td><td>0</td><td>0</td><td>0</td><td>0</td><td>FALSE</td><td>FALSE</td></tr>\n",
       "\t<tr><th scope=row>3</th><td>3</td><td>2023-01-20</td><td>Buy</td><td>AMC</td><td>1000</td><td>5.625</td><td>5625.0</td><td>0</td><td>0</td><td>0</td><td>⋯</td><td>0</td><td>0</td><td>0</td><td>0</td><td>0</td><td>0</td><td>0</td><td>0</td><td>FALSE</td><td>FALSE</td></tr>\n",
       "</tbody>\n",
       "</table>\n"
      ],
      "text/latex": [
       "A data.frame: 2 × 25\n",
       "\\begin{tabular}{r|lllllllllllllllllllll}\n",
       "  & index & date & type & co & quan & pps & basis & sale\\_quan & tally & cf\\_quan & ⋯ & sell\\_quan & sell\\_pps & sell\\_basis & profit\\_loss & Sell\\_cf & Sell\\_cf\\_pps & Sell\\_cf\\_basis & TorF & true\\_false & flag\\\\\n",
       "  & <int> & <date> & <chr> & <chr> & <int> & <dbl> & <dbl> & <int> & <int> & <int> & ⋯ & <int> & <dbl> & <dbl> & <dbl> & <int> & <dbl> & <dbl> & <int> & <lgl> & <lgl>\\\\\n",
       "\\hline\n",
       "\t1 & 1 & 2022-12-31 & Buy & AMC & 1050 & 4.070 & 4273.5 & 0 & 0 & 0 & ⋯ & 0 & 0 & 0 & 0 & 0 & 0 & 0 & 0 & FALSE & FALSE\\\\\n",
       "\t3 & 3 & 2023-01-20 & Buy & AMC & 1000 & 5.625 & 5625.0 & 0 & 0 & 0 & ⋯ & 0 & 0 & 0 & 0 & 0 & 0 & 0 & 0 & FALSE & FALSE\\\\\n",
       "\\end{tabular}\n"
      ],
      "text/markdown": [
       "\n",
       "A data.frame: 2 × 25\n",
       "\n",
       "| <!--/--> | index &lt;int&gt; | date &lt;date&gt; | type &lt;chr&gt; | co &lt;chr&gt; | quan &lt;int&gt; | pps &lt;dbl&gt; | basis &lt;dbl&gt; | sale_quan &lt;int&gt; | tally &lt;int&gt; | cf_quan &lt;int&gt; | ⋯ ⋯ | sell_quan &lt;int&gt; | sell_pps &lt;dbl&gt; | sell_basis &lt;dbl&gt; | profit_loss &lt;dbl&gt; | Sell_cf &lt;int&gt; | Sell_cf_pps &lt;dbl&gt; | Sell_cf_basis &lt;dbl&gt; | TorF &lt;int&gt; | true_false &lt;lgl&gt; | flag &lt;lgl&gt; |\n",
       "|---|---|---|---|---|---|---|---|---|---|---|---|---|---|---|---|---|---|---|---|---|---|\n",
       "| 1 | 1 | 2022-12-31 | Buy | AMC | 1050 | 4.070 | 4273.5 | 0 | 0 | 0 | ⋯ | 0 | 0 | 0 | 0 | 0 | 0 | 0 | 0 | FALSE | FALSE |\n",
       "| 3 | 3 | 2023-01-20 | Buy | AMC | 1000 | 5.625 | 5625.0 | 0 | 0 | 0 | ⋯ | 0 | 0 | 0 | 0 | 0 | 0 | 0 | 0 | FALSE | FALSE |\n",
       "\n"
      ],
      "text/plain": [
       "  index date       type co  quan pps   basis  sale_quan tally cf_quan ⋯\n",
       "1 1     2022-12-31 Buy  AMC 1050 4.070 4273.5 0         0     0       ⋯\n",
       "3 3     2023-01-20 Buy  AMC 1000 5.625 5625.0 0         0     0       ⋯\n",
       "  sell_quan sell_pps sell_basis profit_loss Sell_cf Sell_cf_pps Sell_cf_basis\n",
       "1 0         0        0          0           0       0           0            \n",
       "3 0         0        0          0           0       0           0            \n",
       "  TorF true_false flag \n",
       "1 0    FALSE      FALSE\n",
       "3 0    FALSE      FALSE"
      ]
     },
     "metadata": {},
     "output_type": "display_data"
    },
    {
     "data": {
      "text/html": [
       "<table class=\"dataframe\">\n",
       "<caption>A data.frame: 2 × 25</caption>\n",
       "<thead>\n",
       "\t<tr><th></th><th scope=col>index</th><th scope=col>date</th><th scope=col>type</th><th scope=col>co</th><th scope=col>quan</th><th scope=col>pps</th><th scope=col>basis</th><th scope=col>sale_quan</th><th scope=col>tally</th><th scope=col>cf_quan</th><th scope=col>⋯</th><th scope=col>sell_quan</th><th scope=col>sell_pps</th><th scope=col>sell_basis</th><th scope=col>profit_loss</th><th scope=col>Sell_cf</th><th scope=col>Sell_cf_pps</th><th scope=col>Sell_cf_basis</th><th scope=col>TorF</th><th scope=col>true_false</th><th scope=col>flag</th></tr>\n",
       "\t<tr><th></th><th scope=col>&lt;int&gt;</th><th scope=col>&lt;date&gt;</th><th scope=col>&lt;chr&gt;</th><th scope=col>&lt;chr&gt;</th><th scope=col>&lt;int&gt;</th><th scope=col>&lt;dbl&gt;</th><th scope=col>&lt;dbl&gt;</th><th scope=col>&lt;int&gt;</th><th scope=col>&lt;int&gt;</th><th scope=col>&lt;int&gt;</th><th scope=col>⋯</th><th scope=col>&lt;int&gt;</th><th scope=col>&lt;dbl&gt;</th><th scope=col>&lt;dbl&gt;</th><th scope=col>&lt;dbl&gt;</th><th scope=col>&lt;int&gt;</th><th scope=col>&lt;dbl&gt;</th><th scope=col>&lt;dbl&gt;</th><th scope=col>&lt;int&gt;</th><th scope=col>&lt;lgl&gt;</th><th scope=col>&lt;lgl&gt;</th></tr>\n",
       "</thead>\n",
       "<tbody>\n",
       "\t<tr><th scope=row>2</th><td>2</td><td>2023-01-27</td><td>Sell</td><td>AMC</td><td>1000</td><td>5.51240</td><td>5512.40</td><td>0</td><td>0</td><td>0</td><td>⋯</td><td>0</td><td>0</td><td>0</td><td>0</td><td>0</td><td>0</td><td>0</td><td>0</td><td>FALSE</td><td>FALSE</td></tr>\n",
       "\t<tr><th scope=row>4</th><td>4</td><td>2023-02-03</td><td>Sell</td><td>AMC</td><td>1000</td><td>6.68255</td><td>6682.55</td><td>0</td><td>0</td><td>0</td><td>⋯</td><td>0</td><td>0</td><td>0</td><td>0</td><td>0</td><td>0</td><td>0</td><td>0</td><td>FALSE</td><td>FALSE</td></tr>\n",
       "</tbody>\n",
       "</table>\n"
      ],
      "text/latex": [
       "A data.frame: 2 × 25\n",
       "\\begin{tabular}{r|lllllllllllllllllllll}\n",
       "  & index & date & type & co & quan & pps & basis & sale\\_quan & tally & cf\\_quan & ⋯ & sell\\_quan & sell\\_pps & sell\\_basis & profit\\_loss & Sell\\_cf & Sell\\_cf\\_pps & Sell\\_cf\\_basis & TorF & true\\_false & flag\\\\\n",
       "  & <int> & <date> & <chr> & <chr> & <int> & <dbl> & <dbl> & <int> & <int> & <int> & ⋯ & <int> & <dbl> & <dbl> & <dbl> & <int> & <dbl> & <dbl> & <int> & <lgl> & <lgl>\\\\\n",
       "\\hline\n",
       "\t2 & 2 & 2023-01-27 & Sell & AMC & 1000 & 5.51240 & 5512.40 & 0 & 0 & 0 & ⋯ & 0 & 0 & 0 & 0 & 0 & 0 & 0 & 0 & FALSE & FALSE\\\\\n",
       "\t4 & 4 & 2023-02-03 & Sell & AMC & 1000 & 6.68255 & 6682.55 & 0 & 0 & 0 & ⋯ & 0 & 0 & 0 & 0 & 0 & 0 & 0 & 0 & FALSE & FALSE\\\\\n",
       "\\end{tabular}\n"
      ],
      "text/markdown": [
       "\n",
       "A data.frame: 2 × 25\n",
       "\n",
       "| <!--/--> | index &lt;int&gt; | date &lt;date&gt; | type &lt;chr&gt; | co &lt;chr&gt; | quan &lt;int&gt; | pps &lt;dbl&gt; | basis &lt;dbl&gt; | sale_quan &lt;int&gt; | tally &lt;int&gt; | cf_quan &lt;int&gt; | ⋯ ⋯ | sell_quan &lt;int&gt; | sell_pps &lt;dbl&gt; | sell_basis &lt;dbl&gt; | profit_loss &lt;dbl&gt; | Sell_cf &lt;int&gt; | Sell_cf_pps &lt;dbl&gt; | Sell_cf_basis &lt;dbl&gt; | TorF &lt;int&gt; | true_false &lt;lgl&gt; | flag &lt;lgl&gt; |\n",
       "|---|---|---|---|---|---|---|---|---|---|---|---|---|---|---|---|---|---|---|---|---|---|\n",
       "| 2 | 2 | 2023-01-27 | Sell | AMC | 1000 | 5.51240 | 5512.40 | 0 | 0 | 0 | ⋯ | 0 | 0 | 0 | 0 | 0 | 0 | 0 | 0 | FALSE | FALSE |\n",
       "| 4 | 4 | 2023-02-03 | Sell | AMC | 1000 | 6.68255 | 6682.55 | 0 | 0 | 0 | ⋯ | 0 | 0 | 0 | 0 | 0 | 0 | 0 | 0 | FALSE | FALSE |\n",
       "\n"
      ],
      "text/plain": [
       "  index date       type co  quan pps     basis   sale_quan tally cf_quan ⋯\n",
       "2 2     2023-01-27 Sell AMC 1000 5.51240 5512.40 0         0     0       ⋯\n",
       "4 4     2023-02-03 Sell AMC 1000 6.68255 6682.55 0         0     0       ⋯\n",
       "  sell_quan sell_pps sell_basis profit_loss Sell_cf Sell_cf_pps Sell_cf_basis\n",
       "2 0         0        0          0           0       0           0            \n",
       "4 0         0        0          0           0       0           0            \n",
       "  TorF true_false flag \n",
       "2 0    FALSE      FALSE\n",
       "4 0    FALSE      FALSE"
      ]
     },
     "metadata": {},
     "output_type": "display_data"
    }
   ],
   "source": [
    "nrow(buys)\n",
    "nrow(sells)\n",
    "dim(sells)\n",
    "head(buys, 2)\n",
    "head(sells,2)"
   ]
  },
  {
   "cell_type": "code",
   "execution_count": 11,
   "id": "97c24639-f462-4470-b313-d40e24a5f1cb",
   "metadata": {},
   "outputs": [
    {
     "data": {
      "text/html": [
       "<style>\n",
       ".list-inline {list-style: none; margin:0; padding: 0}\n",
       ".list-inline>li {display: inline-block}\n",
       ".list-inline>li:not(:last-child)::after {content: \"\\00b7\"; padding: 0 .5ex}\n",
       "</style>\n",
       "<ol class=list-inline><li>1</li><li>25</li></ol>\n"
      ],
      "text/latex": [
       "\\begin{enumerate*}\n",
       "\\item 1\n",
       "\\item 25\n",
       "\\end{enumerate*}\n"
      ],
      "text/markdown": [
       "1. 1\n",
       "2. 25\n",
       "\n",
       "\n"
      ],
      "text/plain": [
       "[1]  1 25"
      ]
     },
     "metadata": {},
     "output_type": "display_data"
    },
    {
     "name": "stdout",
     "output_type": "stream",
     "text": [
      "'data.frame':\t1 obs. of  25 variables:\n",
      " $ index        : int 1\n",
      " $ date         : Date, format: \"2022-12-31\"\n",
      " $ type         : chr \"Buy\"\n",
      " $ co           : chr \"AMC\"\n",
      " $ quan         : int 1050\n",
      " $ pps          : num 4.07\n",
      " $ basis        : num 4274\n",
      " $ sale_quan    : int 0\n",
      " $ tally        : int 0\n",
      " $ cf_quan      : int 0\n",
      " $ cf_pps       : num 0\n",
      " $ cf_basis     : num 0\n",
      " $ buy_quan     : int 0\n",
      " $ buy_pps      : num 0\n",
      " $ buy_basis    : num 0\n",
      " $ sell_quan    : int 0\n",
      " $ sell_pps     : num 0\n",
      " $ sell_basis   : num 0\n",
      " $ profit_loss  : num 0\n",
      " $ Sell_cf      : int 0\n",
      " $ Sell_cf_pps  : num 0\n",
      " $ Sell_cf_basis: num 0\n",
      " $ TorF         : int 0\n",
      " $ true_false   : logi FALSE\n",
      " $ flag         : logi FALSE\n"
     ]
    }
   ],
   "source": [
    "dim(b)\n",
    "str(b)"
   ]
  },
  {
   "cell_type": "markdown",
   "id": "20e00a2d-d145-4062-ab58-910dee152307",
   "metadata": {},
   "source": [
    "## <font color = yellow>2. Update b - the variable that records each buy/sell transaction (w/in loop)\n",
    "    \n",
    "#### b>s, b<s, b==s,"
   ]
  },
  {
   "cell_type": "code",
   "execution_count": 12,
   "id": "1978c836-b9a7-4f64-86fe-bff3c8f19743",
   "metadata": {},
   "outputs": [
    {
     "name": "stdout",
     "output_type": "stream",
     "text": [
      "for loop, loop is i:  1 \n",
      "for loop, loop is i:  2 \n",
      "for loop, loop is i:  3 \n"
     ]
    }
   ],
   "source": [
    "for(i in 1:3) {\n",
    "    cat(\"for loop, loop is i: \", i, \"\\n\")\n",
    "    }"
   ]
  },
  {
   "cell_type": "markdown",
   "id": "5cd65c8a-88a2-434f-afe7-9cccbb2cc00b",
   "metadata": {},
   "source": [
    "#### <font color = lime> Basic version: when b == s ( creates no c/f)\n",
    "    \n",
    "#### <font color = lime> Basic version: when b > s (creates b c/f)    \n",
    "    \n",
    "#### <font color = lime> Basic version: when b < s (creates s c/f)\n",
    "    "
   ]
  },
  {
   "cell_type": "code",
   "execution_count": 13,
   "id": "089c01db-88a1-4c20-aa2b-4f1e4e64ba3f",
   "metadata": {},
   "outputs": [
    {
     "data": {
      "text/html": [
       "<table class=\"dataframe\">\n",
       "<caption>A data.frame: 1 × 28</caption>\n",
       "<thead>\n",
       "\t<tr><th></th><th scope=col>index</th><th scope=col>date</th><th scope=col>type</th><th scope=col>co</th><th scope=col>quan</th><th scope=col>pps</th><th scope=col>basis</th><th scope=col>sale_quan</th><th scope=col>tally</th><th scope=col>cf_quan</th><th scope=col>⋯</th><th scope=col>profit_loss</th><th scope=col>Sell_cf</th><th scope=col>Sell_cf_pps</th><th scope=col>Sell_cf_basis</th><th scope=col>TorF</th><th scope=col>true_false</th><th scope=col>flag</th><th scope=col>bot_cf_quan</th><th scope=col>bot_cf_pps</th><th scope=col>bot_cf_basis</th></tr>\n",
       "\t<tr><th></th><th scope=col>&lt;int&gt;</th><th scope=col>&lt;date&gt;</th><th scope=col>&lt;chr&gt;</th><th scope=col>&lt;chr&gt;</th><th scope=col>&lt;int&gt;</th><th scope=col>&lt;dbl&gt;</th><th scope=col>&lt;dbl&gt;</th><th scope=col>&lt;int&gt;</th><th scope=col>&lt;int&gt;</th><th scope=col>&lt;int&gt;</th><th scope=col>⋯</th><th scope=col>&lt;dbl&gt;</th><th scope=col>&lt;int&gt;</th><th scope=col>&lt;dbl&gt;</th><th scope=col>&lt;dbl&gt;</th><th scope=col>&lt;int&gt;</th><th scope=col>&lt;lgl&gt;</th><th scope=col>&lt;lgl&gt;</th><th scope=col>&lt;int&gt;</th><th scope=col>&lt;dbl&gt;</th><th scope=col>&lt;dbl&gt;</th></tr>\n",
       "</thead>\n",
       "<tbody>\n",
       "\t<tr><th scope=row>1</th><td>1</td><td>2022-12-31</td><td>Buy</td><td>AMC</td><td>1050</td><td>4.07</td><td>4273.5</td><td>1000</td><td>0</td><td>0</td><td>⋯</td><td>1442.4</td><td>0</td><td>0</td><td>0</td><td>0</td><td>FALSE</td><td>TRUE</td><td>50</td><td>4.07</td><td>203.5</td></tr>\n",
       "</tbody>\n",
       "</table>\n"
      ],
      "text/latex": [
       "A data.frame: 1 × 28\n",
       "\\begin{tabular}{r|lllllllllllllllllllll}\n",
       "  & index & date & type & co & quan & pps & basis & sale\\_quan & tally & cf\\_quan & ⋯ & profit\\_loss & Sell\\_cf & Sell\\_cf\\_pps & Sell\\_cf\\_basis & TorF & true\\_false & flag & bot\\_cf\\_quan & bot\\_cf\\_pps & bot\\_cf\\_basis\\\\\n",
       "  & <int> & <date> & <chr> & <chr> & <int> & <dbl> & <dbl> & <int> & <int> & <int> & ⋯ & <dbl> & <int> & <dbl> & <dbl> & <int> & <lgl> & <lgl> & <int> & <dbl> & <dbl>\\\\\n",
       "\\hline\n",
       "\t1 & 1 & 2022-12-31 & Buy & AMC & 1050 & 4.07 & 4273.5 & 1000 & 0 & 0 & ⋯ & 1442.4 & 0 & 0 & 0 & 0 & FALSE & TRUE & 50 & 4.07 & 203.5\\\\\n",
       "\\end{tabular}\n"
      ],
      "text/markdown": [
       "\n",
       "A data.frame: 1 × 28\n",
       "\n",
       "| <!--/--> | index &lt;int&gt; | date &lt;date&gt; | type &lt;chr&gt; | co &lt;chr&gt; | quan &lt;int&gt; | pps &lt;dbl&gt; | basis &lt;dbl&gt; | sale_quan &lt;int&gt; | tally &lt;int&gt; | cf_quan &lt;int&gt; | ⋯ ⋯ | profit_loss &lt;dbl&gt; | Sell_cf &lt;int&gt; | Sell_cf_pps &lt;dbl&gt; | Sell_cf_basis &lt;dbl&gt; | TorF &lt;int&gt; | true_false &lt;lgl&gt; | flag &lt;lgl&gt; | bot_cf_quan &lt;int&gt; | bot_cf_pps &lt;dbl&gt; | bot_cf_basis &lt;dbl&gt; |\n",
       "|---|---|---|---|---|---|---|---|---|---|---|---|---|---|---|---|---|---|---|---|---|---|\n",
       "| 1 | 1 | 2022-12-31 | Buy | AMC | 1050 | 4.07 | 4273.5 | 1000 | 0 | 0 | ⋯ | 1442.4 | 0 | 0 | 0 | 0 | FALSE | TRUE | 50 | 4.07 | 203.5 |\n",
       "\n"
      ],
      "text/plain": [
       "  index date       type co  quan pps  basis  sale_quan tally cf_quan ⋯\n",
       "1 1     2022-12-31 Buy  AMC 1050 4.07 4273.5 1000      0     0       ⋯\n",
       "  profit_loss Sell_cf Sell_cf_pps Sell_cf_basis TorF true_false flag\n",
       "1 1442.4      0       0           0             0    FALSE      TRUE\n",
       "  bot_cf_quan bot_cf_pps bot_cf_basis\n",
       "1 50          4.07       203.5       "
      ]
     },
     "metadata": {},
     "output_type": "display_data"
    }
   ],
   "source": [
    "# # update b based upon the Sale Type: b>s, b<s, b==s \n",
    "\n",
    "update_b <- function() {\n",
    "\n",
    "\n",
    "        #  b > s                       Buy C/F \n",
    "        if ( b$quan > s$quan) { \n",
    "            \n",
    "                        \n",
    "            b$sale_quan  <- s$quan     # sb the sell quantity\n",
    "            b$buy_quan <- s$quan\n",
    "            b$buy_pps <-  b$pps\n",
    "            b$buy_basis <-  b$buy_quan * b$pps\n",
    "\n",
    "\n",
    "            b$sell_quan <- s$quan    # cannot sell more than the buy_quan\n",
    "           # b$sell_quan <- b$quan\n",
    "            b$sell_pps <- s$pps\n",
    "            b$sell_basis <- s$quan * s$pps\n",
    "\n",
    "            b$bot_cf_quan <- (b$quan - s$quan)        \n",
    "            b$bot_cf_pps <- b$pps\n",
    "            b$bot_cf_basis <- b$bot_cf_quan * b$pps           \n",
    "\n",
    "            b$profit_loss <- b$sell_basis - b$buy_basis\n",
    "            \n",
    "            # Has buy c/f \n",
    "            b$flag <- TRUE\n",
    "\n",
    "           # s$type <- \"Buy-CF\"\n",
    "    \n",
    "       # ( s > b ), has sell carryforward\n",
    " # cat(\"If s > b, then S_cf_quan is: \", S_cf_quan, \" and Sell_cf is \", b$Sell_cf, \"\\n\")  \n",
    "        }else if(b$quan < s$quan) {\n",
    "            \n",
    "            b$basis <-  b$quan * b$pps\n",
    "            b$sale_quan <- b$quan\n",
    "           \n",
    "            # b$buy_quan <- s$quan \n",
    "            b$buy_quan <- b$quan\n",
    "            b$buy_pps <-  b$pps\n",
    "            b$buy_basis <- b$basis\n",
    "          \n",
    "\n",
    "        \n",
    "            # Sell c/f\n",
    "            sold_cf_quan <- s$quan - b$quan           \n",
    "            b$sold_cf_quan <- sold_cf_quan\n",
    "            b$sold_cf_pps <- s$pps\n",
    "            b$sold_cf_basis <- sold_cf_quan * s$pps\n",
    "            \n",
    "\n",
    "            # b$sell_quan <- s$quan    # cannot sell more than the buy_quan\n",
    "            b$sell_quan <- b$quan\n",
    "            b$sell_pps <- s$pps\n",
    "            b$sell_basis <- b$quan * s$pps\n",
    "\n",
    "            b$profit_loss <- b$sell_basis - b$buy_basis\n",
    "            \n",
    "            # Has sell c/f \n",
    "            b$true_false <- TRUE\n",
    "            \n",
    "            \n",
    "            # b$sale <- sale\n",
    "\n",
    "            s$type <- \"SELL-CF\"   \n",
    "            \n",
    "        }else if (s$quan == b$quan) {\n",
    "            \n",
    "            \n",
    "             # b$sale_quan <- b$quan\n",
    "            b$buy_quan <- s$quan\n",
    "            b$buy_pps <-  b$pps\n",
    "            b$buy_basis <- b$buy_quan * b$pps\n",
    "\n",
    "\n",
    "            b$sell_quan <- s$quan    # cannot sell more than the buy_quan\n",
    "           # b$sell_quan <- b$quan\n",
    "            b$sell_pps <- s$pps\n",
    "            b$sell_basis <- s$quan * s$pps\n",
    "\n",
    "            b$profit_loss <- b$sell_basis - b$buy_basis\n",
    "            # b$sale <- sale\n",
    "\n",
    "            s$type <- \"SOLD\"\n",
    "            \n",
    "            }\n",
    "            \n",
    "        return(b)   \n",
    "}  # fct\n",
    "\n",
    "updated_b <- update_b()\n",
    "updated_b  \n",
    "    "
   ]
  },
  {
   "cell_type": "code",
   "execution_count": 14,
   "id": "f3f79289-4eeb-41ab-bbc5-deb928101421",
   "metadata": {
    "tags": []
   },
   "outputs": [],
   "source": [
    "# print(t(updated_b))"
   ]
  },
  {
   "cell_type": "code",
   "execution_count": null,
   "id": "eafbd93e-5476-4334-a6d4-7bf323a6a562",
   "metadata": {},
   "outputs": [],
   "source": []
  },
  {
   "cell_type": "code",
   "execution_count": 15,
   "id": "01e7538b-8837-46d3-b6c3-5d3671e79f5d",
   "metadata": {},
   "outputs": [],
   "source": [
    "# updated_b <- update_b()\n",
    "# updated_b"
   ]
  },
  {
   "cell_type": "code",
   "execution_count": null,
   "id": "89b172c0-403c-4719-90bb-b4bd26c8a5d3",
   "metadata": {},
   "outputs": [],
   "source": []
  },
  {
   "cell_type": "markdown",
   "id": "5f5abcf8-cdec-4a7f-af1f-50a2637d3bd6",
   "metadata": {},
   "source": [
    "### <font color = lime> Works with each sale type:( b > s , s > b, b = s, buys_cf, sells_cf )"
   ]
  },
  {
   "cell_type": "markdown",
   "id": "30bece1a-1bf9-490f-a665-33483217b1fd",
   "metadata": {},
   "source": [
    "### <font color = yellow>3. Create a new variable from buys/sells row 1, then delete row 1 from buys and sells"
   ]
  },
  {
   "cell_type": "code",
   "execution_count": 16,
   "id": "6e7ecb99-08c6-47b2-9459-dcb78518bba8",
   "metadata": {},
   "outputs": [
    {
     "data": {
      "text/html": [
       "23"
      ],
      "text/latex": [
       "23"
      ],
      "text/markdown": [
       "23"
      ],
      "text/plain": [
       "[1] 23"
      ]
     },
     "metadata": {},
     "output_type": "display_data"
    },
    {
     "data": {
      "text/html": [
       "18"
      ],
      "text/latex": [
       "18"
      ],
      "text/markdown": [
       "18"
      ],
      "text/plain": [
       "[1] 18"
      ]
     },
     "metadata": {},
     "output_type": "display_data"
    },
    {
     "data": {
      "text/html": [
       "<style>\n",
       ".list-inline {list-style: none; margin:0; padding: 0}\n",
       ".list-inline>li {display: inline-block}\n",
       ".list-inline>li:not(:last-child)::after {content: \"\\00b7\"; padding: 0 .5ex}\n",
       "</style>\n",
       "<ol class=list-inline><li>1</li><li>25</li></ol>\n"
      ],
      "text/latex": [
       "\\begin{enumerate*}\n",
       "\\item 1\n",
       "\\item 25\n",
       "\\end{enumerate*}\n"
      ],
      "text/markdown": [
       "1. 1\n",
       "2. 25\n",
       "\n",
       "\n"
      ],
      "text/plain": [
       "[1]  1 25"
      ]
     },
     "metadata": {},
     "output_type": "display_data"
    },
    {
     "data": {
      "text/html": [
       "22"
      ],
      "text/latex": [
       "22"
      ],
      "text/markdown": [
       "22"
      ],
      "text/plain": [
       "[1] 22"
      ]
     },
     "metadata": {},
     "output_type": "display_data"
    },
    {
     "data": {
      "text/html": [
       "17"
      ],
      "text/latex": [
       "17"
      ],
      "text/markdown": [
       "17"
      ],
      "text/plain": [
       "[1] 17"
      ]
     },
     "metadata": {},
     "output_type": "display_data"
    }
   ],
   "source": [
    "#  save_sell_one <- data.frame()   #  keep for c/f >> Sell[1, ]\n",
    "\n",
    "nrow(buys)\n",
    "nrow(sells)\n",
    "\n",
    "b1 <- buys [1, ]\n",
    "s1 <- sells [1, ]\n",
    "dim(s1)\n",
    "# save_buy_one <- buys[-1,]\n",
    "\n",
    "buys <- buys[-1, ]\n",
    "sells <- sells[-1, ]\n",
    "\n",
    "nrow(buys)\n",
    "nrow(sells)"
   ]
  },
  {
   "cell_type": "code",
   "execution_count": 17,
   "id": "ad20884a-52c1-4f8b-b45b-ec7d4f546ed2",
   "metadata": {},
   "outputs": [
    {
     "data": {
      "text/html": [
       "<table class=\"dataframe\">\n",
       "<caption>A data.frame: 1 × 25</caption>\n",
       "<thead>\n",
       "\t<tr><th></th><th scope=col>index</th><th scope=col>date</th><th scope=col>type</th><th scope=col>co</th><th scope=col>quan</th><th scope=col>pps</th><th scope=col>basis</th><th scope=col>sale_quan</th><th scope=col>tally</th><th scope=col>cf_quan</th><th scope=col>⋯</th><th scope=col>sell_quan</th><th scope=col>sell_pps</th><th scope=col>sell_basis</th><th scope=col>profit_loss</th><th scope=col>Sell_cf</th><th scope=col>Sell_cf_pps</th><th scope=col>Sell_cf_basis</th><th scope=col>TorF</th><th scope=col>true_false</th><th scope=col>flag</th></tr>\n",
       "\t<tr><th></th><th scope=col>&lt;int&gt;</th><th scope=col>&lt;date&gt;</th><th scope=col>&lt;chr&gt;</th><th scope=col>&lt;chr&gt;</th><th scope=col>&lt;int&gt;</th><th scope=col>&lt;dbl&gt;</th><th scope=col>&lt;dbl&gt;</th><th scope=col>&lt;int&gt;</th><th scope=col>&lt;int&gt;</th><th scope=col>&lt;int&gt;</th><th scope=col>⋯</th><th scope=col>&lt;int&gt;</th><th scope=col>&lt;dbl&gt;</th><th scope=col>&lt;dbl&gt;</th><th scope=col>&lt;dbl&gt;</th><th scope=col>&lt;int&gt;</th><th scope=col>&lt;dbl&gt;</th><th scope=col>&lt;dbl&gt;</th><th scope=col>&lt;int&gt;</th><th scope=col>&lt;lgl&gt;</th><th scope=col>&lt;lgl&gt;</th></tr>\n",
       "</thead>\n",
       "<tbody>\n",
       "\t<tr><th scope=row>4</th><td>4</td><td>2023-02-03</td><td>Sell</td><td>AMC</td><td>1000</td><td>6.68255</td><td>6682.55</td><td>0</td><td>0</td><td>0</td><td>⋯</td><td>0</td><td>0</td><td>0</td><td>0</td><td>0</td><td>0</td><td>0</td><td>0</td><td>FALSE</td><td>FALSE</td></tr>\n",
       "</tbody>\n",
       "</table>\n"
      ],
      "text/latex": [
       "A data.frame: 1 × 25\n",
       "\\begin{tabular}{r|lllllllllllllllllllll}\n",
       "  & index & date & type & co & quan & pps & basis & sale\\_quan & tally & cf\\_quan & ⋯ & sell\\_quan & sell\\_pps & sell\\_basis & profit\\_loss & Sell\\_cf & Sell\\_cf\\_pps & Sell\\_cf\\_basis & TorF & true\\_false & flag\\\\\n",
       "  & <int> & <date> & <chr> & <chr> & <int> & <dbl> & <dbl> & <int> & <int> & <int> & ⋯ & <int> & <dbl> & <dbl> & <dbl> & <int> & <dbl> & <dbl> & <int> & <lgl> & <lgl>\\\\\n",
       "\\hline\n",
       "\t4 & 4 & 2023-02-03 & Sell & AMC & 1000 & 6.68255 & 6682.55 & 0 & 0 & 0 & ⋯ & 0 & 0 & 0 & 0 & 0 & 0 & 0 & 0 & FALSE & FALSE\\\\\n",
       "\\end{tabular}\n"
      ],
      "text/markdown": [
       "\n",
       "A data.frame: 1 × 25\n",
       "\n",
       "| <!--/--> | index &lt;int&gt; | date &lt;date&gt; | type &lt;chr&gt; | co &lt;chr&gt; | quan &lt;int&gt; | pps &lt;dbl&gt; | basis &lt;dbl&gt; | sale_quan &lt;int&gt; | tally &lt;int&gt; | cf_quan &lt;int&gt; | ⋯ ⋯ | sell_quan &lt;int&gt; | sell_pps &lt;dbl&gt; | sell_basis &lt;dbl&gt; | profit_loss &lt;dbl&gt; | Sell_cf &lt;int&gt; | Sell_cf_pps &lt;dbl&gt; | Sell_cf_basis &lt;dbl&gt; | TorF &lt;int&gt; | true_false &lt;lgl&gt; | flag &lt;lgl&gt; |\n",
       "|---|---|---|---|---|---|---|---|---|---|---|---|---|---|---|---|---|---|---|---|---|---|\n",
       "| 4 | 4 | 2023-02-03 | Sell | AMC | 1000 | 6.68255 | 6682.55 | 0 | 0 | 0 | ⋯ | 0 | 0 | 0 | 0 | 0 | 0 | 0 | 0 | FALSE | FALSE |\n",
       "\n"
      ],
      "text/plain": [
       "  index date       type co  quan pps     basis   sale_quan tally cf_quan ⋯\n",
       "4 4     2023-02-03 Sell AMC 1000 6.68255 6682.55 0         0     0       ⋯\n",
       "  sell_quan sell_pps sell_basis profit_loss Sell_cf Sell_cf_pps Sell_cf_basis\n",
       "4 0         0        0          0           0       0           0            \n",
       "  TorF true_false flag \n",
       "4 0    FALSE      FALSE"
      ]
     },
     "metadata": {},
     "output_type": "display_data"
    }
   ],
   "source": [
    "sells[1,]"
   ]
  },
  {
   "cell_type": "code",
   "execution_count": 18,
   "id": "1717cd60-4aa1-4fed-bc93-41450e0677c2",
   "metadata": {},
   "outputs": [
    {
     "data": {
      "text/html": [
       "<table class=\"dataframe\">\n",
       "<caption>A data.frame: 1 × 25</caption>\n",
       "<thead>\n",
       "\t<tr><th></th><th scope=col>index</th><th scope=col>date</th><th scope=col>type</th><th scope=col>co</th><th scope=col>quan</th><th scope=col>pps</th><th scope=col>basis</th><th scope=col>sale_quan</th><th scope=col>tally</th><th scope=col>cf_quan</th><th scope=col>⋯</th><th scope=col>sell_quan</th><th scope=col>sell_pps</th><th scope=col>sell_basis</th><th scope=col>profit_loss</th><th scope=col>Sell_cf</th><th scope=col>Sell_cf_pps</th><th scope=col>Sell_cf_basis</th><th scope=col>TorF</th><th scope=col>true_false</th><th scope=col>flag</th></tr>\n",
       "\t<tr><th></th><th scope=col>&lt;int&gt;</th><th scope=col>&lt;date&gt;</th><th scope=col>&lt;chr&gt;</th><th scope=col>&lt;chr&gt;</th><th scope=col>&lt;int&gt;</th><th scope=col>&lt;dbl&gt;</th><th scope=col>&lt;dbl&gt;</th><th scope=col>&lt;int&gt;</th><th scope=col>&lt;int&gt;</th><th scope=col>&lt;int&gt;</th><th scope=col>⋯</th><th scope=col>&lt;int&gt;</th><th scope=col>&lt;dbl&gt;</th><th scope=col>&lt;dbl&gt;</th><th scope=col>&lt;dbl&gt;</th><th scope=col>&lt;int&gt;</th><th scope=col>&lt;dbl&gt;</th><th scope=col>&lt;dbl&gt;</th><th scope=col>&lt;int&gt;</th><th scope=col>&lt;lgl&gt;</th><th scope=col>&lt;lgl&gt;</th></tr>\n",
       "</thead>\n",
       "<tbody>\n",
       "\t<tr><th scope=row>2</th><td>2</td><td>2023-01-27</td><td>Sell</td><td>AMC</td><td>1000</td><td>5.5124</td><td>5512.4</td><td>0</td><td>0</td><td>0</td><td>⋯</td><td>0</td><td>0</td><td>0</td><td>0</td><td>0</td><td>0</td><td>0</td><td>0</td><td>FALSE</td><td>FALSE</td></tr>\n",
       "</tbody>\n",
       "</table>\n"
      ],
      "text/latex": [
       "A data.frame: 1 × 25\n",
       "\\begin{tabular}{r|lllllllllllllllllllll}\n",
       "  & index & date & type & co & quan & pps & basis & sale\\_quan & tally & cf\\_quan & ⋯ & sell\\_quan & sell\\_pps & sell\\_basis & profit\\_loss & Sell\\_cf & Sell\\_cf\\_pps & Sell\\_cf\\_basis & TorF & true\\_false & flag\\\\\n",
       "  & <int> & <date> & <chr> & <chr> & <int> & <dbl> & <dbl> & <int> & <int> & <int> & ⋯ & <int> & <dbl> & <dbl> & <dbl> & <int> & <dbl> & <dbl> & <int> & <lgl> & <lgl>\\\\\n",
       "\\hline\n",
       "\t2 & 2 & 2023-01-27 & Sell & AMC & 1000 & 5.5124 & 5512.4 & 0 & 0 & 0 & ⋯ & 0 & 0 & 0 & 0 & 0 & 0 & 0 & 0 & FALSE & FALSE\\\\\n",
       "\\end{tabular}\n"
      ],
      "text/markdown": [
       "\n",
       "A data.frame: 1 × 25\n",
       "\n",
       "| <!--/--> | index &lt;int&gt; | date &lt;date&gt; | type &lt;chr&gt; | co &lt;chr&gt; | quan &lt;int&gt; | pps &lt;dbl&gt; | basis &lt;dbl&gt; | sale_quan &lt;int&gt; | tally &lt;int&gt; | cf_quan &lt;int&gt; | ⋯ ⋯ | sell_quan &lt;int&gt; | sell_pps &lt;dbl&gt; | sell_basis &lt;dbl&gt; | profit_loss &lt;dbl&gt; | Sell_cf &lt;int&gt; | Sell_cf_pps &lt;dbl&gt; | Sell_cf_basis &lt;dbl&gt; | TorF &lt;int&gt; | true_false &lt;lgl&gt; | flag &lt;lgl&gt; |\n",
       "|---|---|---|---|---|---|---|---|---|---|---|---|---|---|---|---|---|---|---|---|---|---|\n",
       "| 2 | 2 | 2023-01-27 | Sell | AMC | 1000 | 5.5124 | 5512.4 | 0 | 0 | 0 | ⋯ | 0 | 0 | 0 | 0 | 0 | 0 | 0 | 0 | FALSE | FALSE |\n",
       "\n"
      ],
      "text/plain": [
       "  index date       type co  quan pps    basis  sale_quan tally cf_quan ⋯\n",
       "2 2     2023-01-27 Sell AMC 1000 5.5124 5512.4 0         0     0       ⋯\n",
       "  sell_quan sell_pps sell_basis profit_loss Sell_cf Sell_cf_pps Sell_cf_basis\n",
       "2 0         0        0          0           0       0           0            \n",
       "  TorF true_false flag \n",
       "2 0    FALSE      FALSE"
      ]
     },
     "metadata": {},
     "output_type": "display_data"
    }
   ],
   "source": [
    "s1"
   ]
  },
  {
   "cell_type": "markdown",
   "id": "0d43233d-62de-4ac3-9e39-d0b622ce7e10",
   "metadata": {},
   "source": [
    "### <font color = yellow>4. Update the sales_records (rbind) with updated_b for each transaction (loop)"
   ]
  },
  {
   "cell_type": "code",
   "execution_count": 19,
   "id": "44f1c396-4486-41d7-8882-a40e02f98b16",
   "metadata": {},
   "outputs": [
    {
     "data": {
      "text/html": [
       "<table class=\"dataframe\">\n",
       "<caption>A data.frame: 1 × 28</caption>\n",
       "<thead>\n",
       "\t<tr><th scope=col>index</th><th scope=col>date</th><th scope=col>type</th><th scope=col>co</th><th scope=col>quan</th><th scope=col>pps</th><th scope=col>basis</th><th scope=col>sale_quan</th><th scope=col>tally</th><th scope=col>cf_quan</th><th scope=col>⋯</th><th scope=col>profit_loss</th><th scope=col>Sell_cf</th><th scope=col>Sell_cf_pps</th><th scope=col>Sell_cf_basis</th><th scope=col>TorF</th><th scope=col>true_false</th><th scope=col>flag</th><th scope=col>bot_cf_quan</th><th scope=col>bot_cf_pps</th><th scope=col>bot_cf_basis</th></tr>\n",
       "\t<tr><th scope=col>&lt;int&gt;</th><th scope=col>&lt;date&gt;</th><th scope=col>&lt;chr&gt;</th><th scope=col>&lt;chr&gt;</th><th scope=col>&lt;int&gt;</th><th scope=col>&lt;dbl&gt;</th><th scope=col>&lt;dbl&gt;</th><th scope=col>&lt;int&gt;</th><th scope=col>&lt;int&gt;</th><th scope=col>&lt;int&gt;</th><th scope=col>⋯</th><th scope=col>&lt;dbl&gt;</th><th scope=col>&lt;int&gt;</th><th scope=col>&lt;dbl&gt;</th><th scope=col>&lt;dbl&gt;</th><th scope=col>&lt;int&gt;</th><th scope=col>&lt;lgl&gt;</th><th scope=col>&lt;lgl&gt;</th><th scope=col>&lt;int&gt;</th><th scope=col>&lt;dbl&gt;</th><th scope=col>&lt;dbl&gt;</th></tr>\n",
       "</thead>\n",
       "<tbody>\n",
       "\t<tr><td>1</td><td>2022-12-31</td><td>Buy</td><td>AMC</td><td>1050</td><td>4.07</td><td>4273.5</td><td>1000</td><td>0</td><td>0</td><td>⋯</td><td>1442.4</td><td>0</td><td>0</td><td>0</td><td>0</td><td>FALSE</td><td>TRUE</td><td>50</td><td>4.07</td><td>203.5</td></tr>\n",
       "</tbody>\n",
       "</table>\n"
      ],
      "text/latex": [
       "A data.frame: 1 × 28\n",
       "\\begin{tabular}{lllllllllllllllllllll}\n",
       " index & date & type & co & quan & pps & basis & sale\\_quan & tally & cf\\_quan & ⋯ & profit\\_loss & Sell\\_cf & Sell\\_cf\\_pps & Sell\\_cf\\_basis & TorF & true\\_false & flag & bot\\_cf\\_quan & bot\\_cf\\_pps & bot\\_cf\\_basis\\\\\n",
       " <int> & <date> & <chr> & <chr> & <int> & <dbl> & <dbl> & <int> & <int> & <int> & ⋯ & <dbl> & <int> & <dbl> & <dbl> & <int> & <lgl> & <lgl> & <int> & <dbl> & <dbl>\\\\\n",
       "\\hline\n",
       "\t 1 & 2022-12-31 & Buy & AMC & 1050 & 4.07 & 4273.5 & 1000 & 0 & 0 & ⋯ & 1442.4 & 0 & 0 & 0 & 0 & FALSE & TRUE & 50 & 4.07 & 203.5\\\\\n",
       "\\end{tabular}\n"
      ],
      "text/markdown": [
       "\n",
       "A data.frame: 1 × 28\n",
       "\n",
       "| index &lt;int&gt; | date &lt;date&gt; | type &lt;chr&gt; | co &lt;chr&gt; | quan &lt;int&gt; | pps &lt;dbl&gt; | basis &lt;dbl&gt; | sale_quan &lt;int&gt; | tally &lt;int&gt; | cf_quan &lt;int&gt; | ⋯ ⋯ | profit_loss &lt;dbl&gt; | Sell_cf &lt;int&gt; | Sell_cf_pps &lt;dbl&gt; | Sell_cf_basis &lt;dbl&gt; | TorF &lt;int&gt; | true_false &lt;lgl&gt; | flag &lt;lgl&gt; | bot_cf_quan &lt;int&gt; | bot_cf_pps &lt;dbl&gt; | bot_cf_basis &lt;dbl&gt; |\n",
       "|---|---|---|---|---|---|---|---|---|---|---|---|---|---|---|---|---|---|---|---|---|\n",
       "| 1 | 2022-12-31 | Buy | AMC | 1050 | 4.07 | 4273.5 | 1000 | 0 | 0 | ⋯ | 1442.4 | 0 | 0 | 0 | 0 | FALSE | TRUE | 50 | 4.07 | 203.5 |\n",
       "\n"
      ],
      "text/plain": [
       "  index date       type co  quan pps  basis  sale_quan tally cf_quan ⋯\n",
       "1 1     2022-12-31 Buy  AMC 1050 4.07 4273.5 1000      0     0       ⋯\n",
       "  profit_loss Sell_cf Sell_cf_pps Sell_cf_basis TorF true_false flag\n",
       "1 1442.4      0       0           0             0    FALSE      TRUE\n",
       "  bot_cf_quan bot_cf_pps bot_cf_basis\n",
       "1 50          4.07       203.5       "
      ]
     },
     "metadata": {},
     "output_type": "display_data"
    }
   ],
   "source": [
    "sale_records <- rbind(sale_records, updated_b)\n",
    "sale_records\n",
    "                      "
   ]
  },
  {
   "cell_type": "code",
   "execution_count": null,
   "id": "87cc100d-994c-411a-8e0a-b7083fc0cea3",
   "metadata": {},
   "outputs": [],
   "source": []
  },
  {
   "cell_type": "markdown",
   "id": "333f2288-156e-40d7-b4aa-c3f2d88ba08e",
   "metadata": {},
   "source": [
    "### <font color = yellow> 5. Update buys or sells with a new row (add_row) - whenever a transaction (loop) includes  c/f\n",
    "    \n",
    "###### Uses add_row () to transform any existing carryforward (buy or sell type) into the next element that will be processed for next (loop) buy/sell transaction\n"
   ]
  },
  {
   "cell_type": "code",
   "execution_count": 20,
   "id": "54624e6b-c644-4f03-9403-7741466d233e",
   "metadata": {},
   "outputs": [
    {
     "data": {
      "text/html": [
       "<table class=\"dataframe\">\n",
       "<caption>A tibble: 4 × 2</caption>\n",
       "<thead>\n",
       "\t<tr><th scope=col>x</th><th scope=col>y</th></tr>\n",
       "\t<tr><th scope=col>&lt;dbl&gt;</th><th scope=col>&lt;dbl&gt;</th></tr>\n",
       "</thead>\n",
       "<tbody>\n",
       "\t<tr><td>1</td><td>3</td></tr>\n",
       "\t<tr><td>4</td><td>0</td></tr>\n",
       "\t<tr><td>2</td><td>2</td></tr>\n",
       "\t<tr><td>3</td><td>1</td></tr>\n",
       "</tbody>\n",
       "</table>\n"
      ],
      "text/latex": [
       "A tibble: 4 × 2\n",
       "\\begin{tabular}{ll}\n",
       " x & y\\\\\n",
       " <dbl> & <dbl>\\\\\n",
       "\\hline\n",
       "\t 1 & 3\\\\\n",
       "\t 4 & 0\\\\\n",
       "\t 2 & 2\\\\\n",
       "\t 3 & 1\\\\\n",
       "\\end{tabular}\n"
      ],
      "text/markdown": [
       "\n",
       "A tibble: 4 × 2\n",
       "\n",
       "| x &lt;dbl&gt; | y &lt;dbl&gt; |\n",
       "|---|---|\n",
       "| 1 | 3 |\n",
       "| 4 | 0 |\n",
       "| 2 | 2 |\n",
       "| 3 | 1 |\n",
       "\n"
      ],
      "text/plain": [
       "  x y\n",
       "1 1 3\n",
       "2 4 0\n",
       "3 2 2\n",
       "4 3 1"
      ]
     },
     "metadata": {},
     "output_type": "display_data"
    }
   ],
   "source": [
    "# good example from R:  ?add_row\n",
    "df <- tibble(x = 1:3, y = 3:1)\n",
    "\n",
    "df <- df %>% add_row(x = 4, y = 0, .before = 2)\n",
    "df"
   ]
  },
  {
   "cell_type": "markdown",
   "id": "cd875283-4243-429e-bae5-fa14495c644f",
   "metadata": {},
   "source": [
    "#### <font color = lime> How it's done"
   ]
  },
  {
   "cell_type": "code",
   "execution_count": 21,
   "id": "b574f4cf-4e75-4eff-bb37-e4054c9d9739",
   "metadata": {},
   "outputs": [
    {
     "data": {
      "text/html": [
       "<table class=\"dataframe\">\n",
       "<caption>A data.frame: 1 × 28</caption>\n",
       "<thead>\n",
       "\t<tr><th></th><th scope=col>index</th><th scope=col>date</th><th scope=col>type</th><th scope=col>co</th><th scope=col>quan</th><th scope=col>pps</th><th scope=col>basis</th><th scope=col>sale_quan</th><th scope=col>tally</th><th scope=col>cf_quan</th><th scope=col>⋯</th><th scope=col>profit_loss</th><th scope=col>Sell_cf</th><th scope=col>Sell_cf_pps</th><th scope=col>Sell_cf_basis</th><th scope=col>TorF</th><th scope=col>true_false</th><th scope=col>flag</th><th scope=col>bot_cf_quan</th><th scope=col>bot_cf_pps</th><th scope=col>bot_cf_basis</th></tr>\n",
       "\t<tr><th></th><th scope=col>&lt;int&gt;</th><th scope=col>&lt;date&gt;</th><th scope=col>&lt;chr&gt;</th><th scope=col>&lt;chr&gt;</th><th scope=col>&lt;int&gt;</th><th scope=col>&lt;dbl&gt;</th><th scope=col>&lt;dbl&gt;</th><th scope=col>&lt;int&gt;</th><th scope=col>&lt;int&gt;</th><th scope=col>&lt;int&gt;</th><th scope=col>⋯</th><th scope=col>&lt;dbl&gt;</th><th scope=col>&lt;int&gt;</th><th scope=col>&lt;dbl&gt;</th><th scope=col>&lt;dbl&gt;</th><th scope=col>&lt;int&gt;</th><th scope=col>&lt;lgl&gt;</th><th scope=col>&lt;lgl&gt;</th><th scope=col>&lt;int&gt;</th><th scope=col>&lt;dbl&gt;</th><th scope=col>&lt;dbl&gt;</th></tr>\n",
       "</thead>\n",
       "<tbody>\n",
       "\t<tr><th scope=row>1</th><td>1</td><td>2022-12-31</td><td>Buy</td><td>AMC</td><td>1050</td><td>4.07</td><td>4273.5</td><td>1000</td><td>0</td><td>0</td><td>⋯</td><td>1442.4</td><td>0</td><td>0</td><td>0</td><td>0</td><td>FALSE</td><td>TRUE</td><td>50</td><td>4.07</td><td>203.5</td></tr>\n",
       "</tbody>\n",
       "</table>\n"
      ],
      "text/latex": [
       "A data.frame: 1 × 28\n",
       "\\begin{tabular}{r|lllllllllllllllllllll}\n",
       "  & index & date & type & co & quan & pps & basis & sale\\_quan & tally & cf\\_quan & ⋯ & profit\\_loss & Sell\\_cf & Sell\\_cf\\_pps & Sell\\_cf\\_basis & TorF & true\\_false & flag & bot\\_cf\\_quan & bot\\_cf\\_pps & bot\\_cf\\_basis\\\\\n",
       "  & <int> & <date> & <chr> & <chr> & <int> & <dbl> & <dbl> & <int> & <int> & <int> & ⋯ & <dbl> & <int> & <dbl> & <dbl> & <int> & <lgl> & <lgl> & <int> & <dbl> & <dbl>\\\\\n",
       "\\hline\n",
       "\t1 & 1 & 2022-12-31 & Buy & AMC & 1050 & 4.07 & 4273.5 & 1000 & 0 & 0 & ⋯ & 1442.4 & 0 & 0 & 0 & 0 & FALSE & TRUE & 50 & 4.07 & 203.5\\\\\n",
       "\\end{tabular}\n"
      ],
      "text/markdown": [
       "\n",
       "A data.frame: 1 × 28\n",
       "\n",
       "| <!--/--> | index &lt;int&gt; | date &lt;date&gt; | type &lt;chr&gt; | co &lt;chr&gt; | quan &lt;int&gt; | pps &lt;dbl&gt; | basis &lt;dbl&gt; | sale_quan &lt;int&gt; | tally &lt;int&gt; | cf_quan &lt;int&gt; | ⋯ ⋯ | profit_loss &lt;dbl&gt; | Sell_cf &lt;int&gt; | Sell_cf_pps &lt;dbl&gt; | Sell_cf_basis &lt;dbl&gt; | TorF &lt;int&gt; | true_false &lt;lgl&gt; | flag &lt;lgl&gt; | bot_cf_quan &lt;int&gt; | bot_cf_pps &lt;dbl&gt; | bot_cf_basis &lt;dbl&gt; |\n",
       "|---|---|---|---|---|---|---|---|---|---|---|---|---|---|---|---|---|---|---|---|---|---|\n",
       "| 1 | 1 | 2022-12-31 | Buy | AMC | 1050 | 4.07 | 4273.5 | 1000 | 0 | 0 | ⋯ | 1442.4 | 0 | 0 | 0 | 0 | FALSE | TRUE | 50 | 4.07 | 203.5 |\n",
       "\n"
      ],
      "text/plain": [
       "  index date       type co  quan pps  basis  sale_quan tally cf_quan ⋯\n",
       "1 1     2022-12-31 Buy  AMC 1050 4.07 4273.5 1000      0     0       ⋯\n",
       "  profit_loss Sell_cf Sell_cf_pps Sell_cf_basis TorF true_false flag\n",
       "1 1442.4      0       0           0             0    FALSE      TRUE\n",
       "  bot_cf_quan bot_cf_pps bot_cf_basis\n",
       "1 50          4.07       203.5       "
      ]
     },
     "metadata": {},
     "output_type": "display_data"
    }
   ],
   "source": [
    "last_row <- tail(sale_records, n = 1)\n",
    "last_row"
   ]
  },
  {
   "cell_type": "code",
   "execution_count": null,
   "id": "ebf5831f-c5f1-4d4b-a1d9-306acaf06701",
   "metadata": {},
   "outputs": [],
   "source": []
  },
  {
   "cell_type": "code",
   "execution_count": 22,
   "id": "2f39beb3-3e0c-4361-aa7f-8fc466eecd0c",
   "metadata": {},
   "outputs": [
    {
     "name": "stdout",
     "output_type": "stream",
     "text": [
      "\n",
      " There is Buy carryforward. Update buys  50 \n"
     ]
    },
    {
     "ename": "ERROR",
     "evalue": "\u001b[1m\u001b[33mError\u001b[39m in `add_row()`:\u001b[22m\n\u001b[1m\u001b[22m\u001b[33m!\u001b[39m New rows can't add columns.\n\u001b[31m✖\u001b[39m Can't find columns `bot_cf_quan`, `bot_cf_pps`, and\n  `bot_cf_basis` in `.data`.\n",
     "output_type": "error",
     "traceback": [
      "\u001b[1m\u001b[33mError\u001b[39m in `add_row()`:\u001b[22m\n\u001b[1m\u001b[22m\u001b[33m!\u001b[39m New rows can't add columns.\n\u001b[31m✖\u001b[39m Can't find columns `bot_cf_quan`, `bot_cf_pps`, and\n  `bot_cf_basis` in `.data`.\nTraceback:\n",
      "1. update_withcf()",
      "2. test %>% add_row(b1, .before = 1)   # at line 20 of file <text>",
      "3. add_row(., b1, .before = 1)",
      "4. abort_incompatible_new_rows(extra_vars)",
      "5. tibble_abort(call = call, problems(\"New rows can't add columns:\", \n .     msg_unknown_column_names(names)), names = names)",
      "6. abort(x, class, ..., call = call, parent = parent, use_cli_format = TRUE)",
      "7. signal_abort(cnd, .file)"
     ]
    }
   ],
   "source": [
    "# Evaluate the type of carryforward, then update buys or sells w/cf to prepare for next transaction (loop)\n",
    "\n",
    "update_withcf <- function() {\n",
    "\n",
    "    last_row <- tail(sale_records, n = 1)\n",
    "\n",
    "    if (last_row$flag == TRUE && last_row$true_false == FALSE ) {\n",
    "        cat(\"\\n\", \"There is Buy carryforward. Update buys \", last_row$bot_cf_quan, \"\\n\")\n",
    "\n",
    "        b1 <- last_row\n",
    "\n",
    "        b1$type <- \"Buy CF\"\n",
    "        b1$quan <- b1$bot_cf_quan\n",
    "        b1$pps <- b1$bot_cf_pps\n",
    "        b1$basis <- b1$bot_cf_basis\n",
    "        b1$sale_quan <- 0\n",
    "        b1[ , 10:ncol(b1)] <- 0\n",
    "\n",
    "        test <- buys\n",
    "        test <- test %>% add_row(b1, .before = 1)\n",
    "        buys <- test\n",
    "\n",
    "\n",
    "\n",
    "    } else if (last_row$flag == FALSE && last_row$true_false == TRUE ) {\n",
    "        cat(\"\\n\", \"There is Sold carryforward. Update sells \", last_row$sold_cf_quan, \"\\n\")\n",
    "            cat(\"dim(s1) : \", dim(s1), \"\\n\")\n",
    "\n",
    "        s1$type <- \"Sell-CF\"\n",
    "        s1$quan <- updated_b$sold_cf_quan\n",
    "        s1$pps <-  updated_b$sold_cf_pps\n",
    "        s1$basis <- updated_b$sold_basis\n",
    "        s1$buy_quan <- 0\n",
    "        s1$buy_pps <- 0\n",
    "        s1$buy_basis <- 0\n",
    "        s1$sell_quan <- 0\n",
    "        s1$sell_pps <- 0 \n",
    "        s1$sell_basis <- 0\n",
    "        s1$profit_loss <- 0    \n",
    "\n",
    "        # s1$true_false <- TRUE\n",
    "\n",
    "         test <- sells\n",
    "         test <- test %>% add_row(s1, .before = 1)\n",
    "         sells <- test    \n",
    "        }\n",
    "\n",
    "        if(last_row$flag == TRUE) {\n",
    "            cat(\"printing updated buys[1 ] w/ bot c/f \", \"\\n\")\n",
    "            b1\n",
    "            #buys[1, ]\n",
    "        }else {\n",
    "            cat(\"printing: s1 ... Sells c/f \", \"\\n\")\n",
    "            s1\n",
    "            #sells[1, ]\n",
    "        }\n",
    "    }  # fct\n",
    "\n",
    "update_withcf()\n",
    "\n",
    "updated_b\n"
   ]
  },
  {
   "cell_type": "markdown",
   "id": "d3c3f312-f2ea-42ef-93cc-7b0b362417c6",
   "metadata": {},
   "source": [
    "#### <font color = lime> QC: review buys-sells for updated carryforward\n",
    "    \n",
    "#### When c/f exists, that c/f (type) must be inserted into the next row of either buys or sells"
   ]
  },
  {
   "cell_type": "code",
   "execution_count": null,
   "id": "6bc3881e-d099-4b5a-9834-d54fb03b48d9",
   "metadata": {},
   "outputs": [],
   "source": [
    "\n",
    "buys[1, ]\n",
    "sells[1,]"
   ]
  },
  {
   "cell_type": "code",
   "execution_count": null,
   "id": "a71687c7-80e7-4e95-90f5-8ef13f260562",
   "metadata": {},
   "outputs": [],
   "source": []
  },
  {
   "cell_type": "markdown",
   "id": "eab5aa35-2ed8-4e56-a5d5-6971ccdfb8a0",
   "metadata": {},
   "source": [
    "#### <font color = lime> QC: review sale_record for accuracy"
   ]
  },
  {
   "cell_type": "code",
   "execution_count": null,
   "id": "ae6231d1-0886-472d-8503-a11e04165b1a",
   "metadata": {},
   "outputs": [],
   "source": [
    "sale_records"
   ]
  },
  {
   "cell_type": "code",
   "execution_count": null,
   "id": "8a2fa833-d6ae-4a13-abf4-01debae70828",
   "metadata": {},
   "outputs": [],
   "source": []
  },
  {
   "cell_type": "markdown",
   "id": "10a3a398-05db-4786-914e-ad9ace85e93b",
   "metadata": {},
   "source": [
    "### <font color = lime> Got it!  The components above are modular and can be combined into a loop"
   ]
  },
  {
   "cell_type": "code",
   "execution_count": null,
   "id": "e1e64fda-22b1-46d5-82b7-d62f047f657a",
   "metadata": {},
   "outputs": [],
   "source": []
  },
  {
   "cell_type": "code",
   "execution_count": null,
   "id": "558ac618-20c0-44d1-92da-2293b36c7aad",
   "metadata": {},
   "outputs": [],
   "source": [
    "stopps #  Old code"
   ]
  },
  {
   "cell_type": "code",
   "execution_count": null,
   "id": "5dc6f7ef-b304-4455-a71c-6eb0e6917eee",
   "metadata": {},
   "outputs": [],
   "source": []
  },
  {
   "cell_type": "markdown",
   "id": "5af8547e-56ed-433c-8ab9-f582710678ce",
   "metadata": {},
   "source": [
    "## <font color = yellow> Continue! Inputs: buys, sells, sale_records "
   ]
  },
  {
   "cell_type": "code",
   "execution_count": null,
   "id": "a71a31a6-69bd-4041-8fad-c543c5ef7732",
   "metadata": {},
   "outputs": [],
   "source": [
    "nrow(buys)    # if  b > s, then -1, +1 , t/f 23/17\n",
    "nrow(sells)   # if  s > b, then -1, +1 , t/f 22/18\n",
    "nrow(sale_records)\n",
    "\n",
    "# "
   ]
  },
  {
   "cell_type": "code",
   "execution_count": null,
   "id": "beeb8a5b-1dd6-43e6-8db6-e3b03fd388ca",
   "metadata": {},
   "outputs": [],
   "source": []
  },
  {
   "cell_type": "markdown",
   "id": "fe9a4eff-5362-471b-b888-4713a200ffdb",
   "metadata": {},
   "source": [
    "## <font color = yellow> 1.  b and s"
   ]
  },
  {
   "cell_type": "code",
   "execution_count": null,
   "id": "c707802d-aed2-4ce8-be9a-aedda0ec9b12",
   "metadata": {},
   "outputs": [],
   "source": [
    "b <- buys[1,]\n",
    "s <- sells[1,]\n",
    "b\n",
    "s"
   ]
  },
  {
   "cell_type": "code",
   "execution_count": null,
   "id": "3fc178d0-ecb1-4435-900d-0d8016098ae3",
   "metadata": {},
   "outputs": [],
   "source": []
  },
  {
   "cell_type": "code",
   "execution_count": null,
   "id": "3b152a3e-c7de-4314-8ddc-cf6c5d876ace",
   "metadata": {},
   "outputs": [],
   "source": [
    "sale_records\n"
   ]
  },
  {
   "cell_type": "markdown",
   "id": "31f51e3d-191f-452b-b4d0-9a9cab7ba55c",
   "metadata": {},
   "source": [
    "## <font color = yellow> 2.  updated_b  <-  b"
   ]
  },
  {
   "cell_type": "code",
   "execution_count": null,
   "id": "b9477fb0-de01-4d4e-865a-b05786c7b4fd",
   "metadata": {},
   "outputs": [],
   "source": []
  },
  {
   "cell_type": "code",
   "execution_count": null,
   "id": "e1d3fcc7-1095-4939-bfec-9c251362215a",
   "metadata": {},
   "outputs": [],
   "source": [
    "# update b based on Sale Type: \n",
    "\n",
    "update_b <- function(b) {\n",
    "    \n",
    "     cat(\"Inside update_b, test for: $quan < s$quan && b$type == 'Buy CF': \", \"\\n\")\n",
    "    \n",
    "        if(b$quan < s$quan && b$type == 'Buy CF') {\n",
    "            cat(\"True\", \"\\n\")\n",
    "            }\n",
    "\n",
    "        sale <- s$quan\n",
    "        bs_ratio <- b$quan / s$quan\n",
    "        bot_cf_quan <-  b$quan - s$quan\n",
    "\n",
    "        # assign the cf values - if they exist\n",
    "         #  b > s ... restricted to Buy only\n",
    "        if ( b$quan > s$quan && b$type == \"Buy\") {  \n",
    "            \n",
    "            # b$sale_quan <- b$quan\n",
    "            b$buy_quan <- s$quan\n",
    "            b$buy_pps <-  b$pps\n",
    "            b$buy_basis <-  b$buy_quan * b$pps\n",
    "\n",
    "\n",
    "            b$sell_quan <- s$quan    # cannot sell more than the buy_quan\n",
    "           # b$sell_quan <- b$quan\n",
    "            b$sell_pps <- s$pps\n",
    "            b$sell_basis <- s$quan * s$pps\n",
    "\n",
    "            b$bot_cf_quan <- (b$quan - s$quan)        \n",
    "            b$cf_pps <- b$pps\n",
    "            b$cf_basis <- bot_cf_quan * b$pps           \n",
    "\n",
    "            b$profit_loss <- b$sell_basis - b$buy_basis\n",
    "            # b$sale <- sale\n",
    "\n",
    "            s$type <- \"Buy-CF\"           \n",
    "        \n",
    "            \n",
    "        }else if( b$quan < s$quan && b$type == 'Buy CF') {    \n",
    "\n",
    "                # protect b from errors\n",
    "            temp <- b  \n",
    "\n",
    "            temp$type <- \"Buy-2xCF\"           \n",
    "            temp$sell_quan <- temp$quan\n",
    "            temp$sell_pps <- sale_records$sell_pps[1]\n",
    "            temp$sell_basis <- temp$sell_quan * sale_records$sell_pps\n",
    "            temp$profit_loss <- temp$sell_basis - temp$basis\n",
    "\n",
    "            temp$Sell_cf  <-  sale_records$sell_quan - sale_records$bot_cf_quan \n",
    "            temp$Sell_cf_pps   <- sale_records$sell_pps\n",
    "            # update b with temp\n",
    "            b <- temp\n",
    "            s$type <- \"Buy-2xCF\"       \n",
    "\n",
    "\n",
    "               # ( s > b ), has sell carryforward\n",
    "        }else if(s$quan > b$quan) {            \n",
    "            \n",
    "            b$sale_quan <- b$quan\n",
    "           # b$buy_quan <- s$quan \n",
    "            b$buy_quan <- b$quan\n",
    "            b$buy_pps <-  b$pps\n",
    "            b$buy_basis <-  b$buy_quan * b$pps\n",
    "        \n",
    "            # Sell c/f\n",
    "            S_cf_quan <- s$quan - b$quan           \n",
    "            b$Sell_cf <-S_cf_quan\n",
    "            b$Sell_cf_pps <- s$pps\n",
    "            b$Sell_cf_basis <- S_cf_quan * s$pps\n",
    "            \n",
    "     \n",
    "            b$sell_quan <- b$quan\n",
    "            b$sell_pps <- s$pps\n",
    "            b$sell_basis <- b$quan * s$pps\n",
    "\n",
    "            b$profit_loss <- b$sell_basis - b$buy_basis          \n",
    "            s$type <- \"SELL-CF\"   \n",
    "            \n",
    "        }else if (s$quan == b$quan) {            \n",
    "           \n",
    "             # b$sale_quan <- b$quan\n",
    "            b$buy_quan <- s$quan\n",
    "            b$buy_pps <-  b$pps\n",
    "            b$buy_basis <-  b$buy_quan * b$pps\n",
    "\n",
    "            b$sell_quan <- s$quan    # cannot sell more than the buy_quan\n",
    "           # b$sell_quan <- b$quan\n",
    "            b$sell_pps <- s$pps\n",
    "            b$sell_basis <- s$quan * s$pps\n",
    "\n",
    "            b$profit_loss <- b$sell_basis - b$buy_basis\n",
    "            b$sale <- sale1\n",
    "            s$type <- \"SOLD\"\n",
    "            \n",
    "            }\n",
    "    \n",
    "        return(b)   \n",
    "}  # fct\n",
    "\n",
    "updated_b <- update_b(b)\n",
    "updated_b  \n",
    "    "
   ]
  },
  {
   "cell_type": "code",
   "execution_count": null,
   "id": "1d0caada-f7c8-4822-94f8-7719839eb506",
   "metadata": {
    "tags": []
   },
   "outputs": [],
   "source": [
    "print(t(updated_b))"
   ]
  },
  {
   "cell_type": "code",
   "execution_count": null,
   "id": "5c8b3a1a-442c-483e-b932-40aabc91f49a",
   "metadata": {},
   "outputs": [],
   "source": []
  },
  {
   "cell_type": "markdown",
   "id": "90c7b050-17e0-4b5b-9659-7cb6ebdecc6c",
   "metadata": {},
   "source": [
    "## <font color = yellow>3.  buys <- buy[-1, ], sells <- sells[-1, ]\n",
    "    \n",
    "#### Nec to start loop at the first (unprocessed rows in buys / sells at the top of the loop"
   ]
  },
  {
   "cell_type": "code",
   "execution_count": null,
   "id": "e2b2765b-df84-4fe1-bff8-0eef3aa480f0",
   "metadata": {},
   "outputs": [],
   "source": [
    "save_sell_one <- data.frame()   #  keep for c/f >> Sell[1, ]\n",
    "\n",
    "nrow(buys)\n",
    "\n",
    "save_sell_one <- sells [1, ]\n",
    "save_buy_one <- buys[-1,]\n",
    "\n",
    "buys <- buys[-1, ]\n",
    "sells <- sells[-1, ]\n",
    "\n",
    "nrow(buys)"
   ]
  },
  {
   "cell_type": "code",
   "execution_count": null,
   "id": "c8c38b9c-8ca9-401d-8203-dbff36e4408c",
   "metadata": {},
   "outputs": [],
   "source": []
  },
  {
   "cell_type": "markdown",
   "id": "9154257b-1029-43f7-874b-2e738d1e0da5",
   "metadata": {},
   "source": [
    "## <font color = yellow> 4. sale_records <- rbind(sale_records, updated_b)"
   ]
  },
  {
   "cell_type": "code",
   "execution_count": null,
   "id": "e54c64f2-e095-4e6c-bf76-d3e352ee6d11",
   "metadata": {},
   "outputs": [],
   "source": [
    "sale_records <- rbind(sale_records, updated_b)\n",
    "sale_records"
   ]
  },
  {
   "cell_type": "code",
   "execution_count": null,
   "id": "16bf2a83-6e1b-4172-a07d-45f448ecb857",
   "metadata": {},
   "outputs": [],
   "source": []
  },
  {
   "cell_type": "code",
   "execution_count": null,
   "id": "54029f63-eb39-49d1-a75a-e7408ef146ea",
   "metadata": {},
   "outputs": [],
   "source": [
    "# stopps"
   ]
  },
  {
   "cell_type": "code",
   "execution_count": null,
   "id": "abf5ae4f-151e-4ded-9eb5-25a0af082e65",
   "metadata": {},
   "outputs": [],
   "source": []
  },
  {
   "cell_type": "markdown",
   "id": "83f2d524-34f6-41fd-a840-237830d9d494",
   "metadata": {},
   "source": [
    "# <font color = yellow> Looks good.  Loop 3   \n",
    "    "
   ]
  },
  {
   "cell_type": "code",
   "execution_count": null,
   "id": "042235f2-bae2-47c5-8755-ddcfa2786dc9",
   "metadata": {},
   "outputs": [],
   "source": [
    "stopps"
   ]
  },
  {
   "cell_type": "markdown",
   "id": "6a2f0c28-8e6e-4d7f-8eab-d61d52f5e06c",
   "metadata": {},
   "source": [
    "### <font color = lime > 1.  b and s"
   ]
  },
  {
   "cell_type": "code",
   "execution_count": null,
   "id": "65f80156-9425-4a69-8fb6-e65c6c39302d",
   "metadata": {},
   "outputs": [],
   "source": [
    "b <- buys[1,]\n",
    "s <- sells[1,]\n",
    "b\n",
    "s"
   ]
  },
  {
   "cell_type": "markdown",
   "id": "f0eac6d5-eaf2-4a50-b8a2-4612ef9ee4d1",
   "metadata": {},
   "source": [
    "### <font color = lime> 2.  updated_b  <-  b"
   ]
  },
  {
   "cell_type": "code",
   "execution_count": null,
   "id": "cf79e4a1-9a38-4dac-bf05-7c2821dbedc2",
   "metadata": {},
   "outputs": [],
   "source": [
    "# update b based on Sale Type: \n",
    "\n",
    "update_b <- function(b) {\n",
    "    \n",
    "     cat(\"Inside update_b, test for: $quan < s$quan && b$type == 'Buy CF': \", \"\\n\")\n",
    "    \n",
    "        if(b$quan < s$quan && b$type == 'Buy CF') {\n",
    "            cat(\"True\", \"\\n\")\n",
    "            }\n",
    "\n",
    "        sale <- s$quan\n",
    "        bs_ratio <- b$quan / s$quan\n",
    "        bot_cf_quan <-  b$quan - s$quan\n",
    "\n",
    "        # assign the cf values - if they exist\n",
    "         #  b > s ... restricted to Buy only\n",
    "        if ( b$quan > s$quan && b$type == \"Buy\") {  \n",
    "            \n",
    "            # b$sale_quan <- b$quan\n",
    "            b$buy_quan <- s$quan\n",
    "            b$buy_pps <-  b$pps\n",
    "            b$buy_basis <-  b$buy_quan * b$pps\n",
    "\n",
    "\n",
    "            b$sell_quan <- s$quan    # cannot sell more than the buy_quan\n",
    "           # b$sell_quan <- b$quan\n",
    "            b$sell_pps <- s$pps\n",
    "            b$sell_basis <- s$quan * s$pps\n",
    "\n",
    "            b$bot_cf_quan <- (b$quan - s$quan)        \n",
    "            b$cf_pps <- b$pps\n",
    "            b$cf_basis <- cf_quan * b$pps           \n",
    "\n",
    "            b$profit_loss <- b$sell_basis - b$buy_basis\n",
    "            # b$sale <- sale\n",
    "\n",
    "            s$type <- \"Buy-CF\"           \n",
    "        \n",
    "            \n",
    "        }else if( b$quan < s$quan && b$type == 'Buy CF') {    \n",
    "\n",
    "                # protect b from errors\n",
    "            temp <- b  \n",
    "\n",
    "            temp$type <- \"Buy-2xCF\"           \n",
    "            temp$sell_quan <- temp$quan\n",
    "            temp$sell_pps <- sale_records$sell_pps[1]\n",
    "            temp$sell_basis <- temp$sell_quan * sale_records$sell_pps\n",
    "            temp$profit_loss <- temp$sell_basis - temp$basis\n",
    "\n",
    "            temp$Sell_cf  <-  sale_records$sell_quan - sale_records$bot_cf_quan \n",
    "            temp$Sell_cf_pps   <- sale_records$sell_pps\n",
    "            # update b with temp\n",
    "            b <- temp\n",
    "            s$type <- \"Buy-2xCF\"       \n",
    "\n",
    "\n",
    "               # ( s > b ), has sell carryforward\n",
    "        }else if(s$quan > b$quan) {            \n",
    "            \n",
    "            b$sale_quan <- b$quan\n",
    "           # b$buy_quan <- s$quan \n",
    "            b$buy_quan <- b$quan\n",
    "            b$buy_pps <-  b$pps\n",
    "            b$buy_basis <-  b$buy_quan * b$pps\n",
    "        \n",
    "            # Sell c/f\n",
    "            S_cf_quan <- s$quan - b$quan           \n",
    "            b$Sell_cf <-S_cf_quan\n",
    "            b$Sell_cf_pps <- s$pps\n",
    "            b$Sell_cf_basis <- S_cf_quan * s$pps\n",
    "            \n",
    "     \n",
    "            b$sell_quan <- b$quan\n",
    "            b$sell_pps <- s$pps\n",
    "            b$sell_basis <- b$quan * s$pps\n",
    "\n",
    "            b$profit_loss <- b$sell_basis - b$buy_basis          \n",
    "            s$type <- \"SELL-CF\"   \n",
    "            \n",
    "        }else if (s$quan == b$quan) {            \n",
    "           \n",
    "             # b$sale_quan <- b$quan\n",
    "            b$buy_quan <- s$quan\n",
    "            b$buy_pps <-  b$pps\n",
    "            b$buy_basis <-  b$buy_quan * b$pps\n",
    "\n",
    "            b$sell_quan <- s$quan    # cannot sell more than the buy_quan\n",
    "           # b$sell_quan <- b$quan\n",
    "            b$sell_pps <- s$pps\n",
    "            b$sell_basis <- s$quan * s$pps\n",
    "\n",
    "            b$profit_loss <- b$sell_basis - b$buy_basis\n",
    "           # b$sale <- \"sale1\"\n",
    "            s$type <- \"SOLD\"\n",
    "            \n",
    "            }\n",
    "    \n",
    "        return(b)   \n",
    "}  # fct\n",
    "\n",
    "updated_b <- update_b(b)\n",
    "updated_b  \n",
    "    "
   ]
  },
  {
   "cell_type": "code",
   "execution_count": null,
   "id": "445d0f8d-8310-44ee-919f-91d5edac9c06",
   "metadata": {},
   "outputs": [],
   "source": []
  },
  {
   "cell_type": "code",
   "execution_count": null,
   "id": "fd14716b-08bc-4e22-a0bc-67b7102848e3",
   "metadata": {},
   "outputs": [],
   "source": []
  },
  {
   "cell_type": "markdown",
   "id": "7f95eaa4-a986-4155-9519-7a5e07c5ef93",
   "metadata": {},
   "source": [
    "### <font color = lime>3.  buys <- buy[-1, ], sells <- sells[-1, ]\n",
    "    \n",
    "##### Nec to start loop at the first (unprocessed rows in buys / sells at the top of the loop"
   ]
  },
  {
   "cell_type": "code",
   "execution_count": null,
   "id": "69bee614-20d5-4429-b4d7-5830c0a37453",
   "metadata": {},
   "outputs": [],
   "source": [
    "save_sell_one <- data.frame()   #  keep for c/f >> Sell[1, ]\n",
    "\n",
    "nrow(buys)\n",
    "\n",
    "save_sell_one <- sells [1, ]\n",
    "save_buy_one <- buys[-1,]\n",
    "\n",
    "buys <- buys[-1, ]\n",
    "sells <- sells[-1, ]\n",
    "\n",
    "# nrow(buys)"
   ]
  },
  {
   "cell_type": "code",
   "execution_count": null,
   "id": "9937dea1-f445-44ec-808f-b708bb74b6bd",
   "metadata": {},
   "outputs": [],
   "source": []
  },
  {
   "cell_type": "markdown",
   "id": "f404a837-6284-418f-87e3-2c1ea1df0d10",
   "metadata": {},
   "source": [
    "### <font color = lime> 4. sale_records <- rbind(sale_records, updated_b)"
   ]
  },
  {
   "cell_type": "code",
   "execution_count": null,
   "id": "d10b4e8c-efa4-4a9b-a82b-e1cf6905221c",
   "metadata": {},
   "outputs": [],
   "source": [
    "sale_records <- rbind(sale_records, updated_b)\n",
    "sale_records"
   ]
  },
  {
   "cell_type": "code",
   "execution_count": null,
   "id": "427616b1-b244-481e-913b-9ef9af1d7933",
   "metadata": {},
   "outputs": [],
   "source": []
  }
 ],
 "metadata": {
  "kernelspec": {
   "display_name": "R",
   "language": "R",
   "name": "ir"
  },
  "language_info": {
   "codemirror_mode": "r",
   "file_extension": ".r",
   "mimetype": "text/x-r-source",
   "name": "R",
   "pygments_lexer": "r",
   "version": "4.3.0"
  }
 },
 "nbformat": 4,
 "nbformat_minor": 5
}
