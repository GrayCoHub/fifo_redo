{
 "cells": [
  {
   "cell_type": "markdown",
   "id": "8a4f934a-bc5d-4389-8931-fa890b8b83b6",
   "metadata": {},
   "source": [
    "### <font color = yellow> This is a clean copy of fifo_rows_redo.ipynb at creation point"
   ]
  },
  {
   "cell_type": "code",
   "execution_count": null,
   "id": "95cbb875-6b9c-4a01-bf64-3197b32a7fd7",
   "metadata": {},
   "outputs": [],
   "source": []
  },
  {
   "cell_type": "code",
   "execution_count": null,
   "id": "1a40d688-bd55-4df2-be07-c685b667921e",
   "metadata": {},
   "outputs": [],
   "source": [
    "library(tibble)"
   ]
  },
  {
   "cell_type": "code",
   "execution_count": null,
   "id": "2c80d5a2-6093-4214-8997-320bba4a3ee0",
   "metadata": {},
   "outputs": [],
   "source": [
    "cat(\"One\", \"Two\", \"Three\", sep = \" | \", fill = TRUE)"
   ]
  },
  {
   "cell_type": "code",
   "execution_count": null,
   "id": "b43ec630-440e-4d08-8a35-7ed746140572",
   "metadata": {},
   "outputs": [],
   "source": []
  },
  {
   "cell_type": "code",
   "execution_count": null,
   "id": "688be791-4012-4380-9bd0-e831c4aa6d77",
   "metadata": {},
   "outputs": [],
   "source": [
    "options(pillar.width = Inf)\n"
   ]
  },
  {
   "cell_type": "markdown",
   "id": "18bdfbd9-160f-4efc-b792-3f83ccd72b58",
   "metadata": {},
   "source": [
    "## <font color = yellow> create_df function () - reads .csv"
   ]
  },
  {
   "cell_type": "code",
   "execution_count": null,
   "id": "51840835-30c6-4641-bdaa-649d2fd9a34c",
   "metadata": {},
   "outputs": [],
   "source": [
    "   \n",
    "df <- read.csv(\"fifo_new.csv\", header = TRUE, sep = \",\")\n",
    "df$date <- as.Date(df$date, origin = \"1899-12-30\")"
   ]
  },
  {
   "cell_type": "code",
   "execution_count": null,
   "id": "5a314ebe-1db3-4cbb-a923-f7978130ee34",
   "metadata": {},
   "outputs": [],
   "source": [
    "head(df,2)"
   ]
  },
  {
   "cell_type": "code",
   "execution_count": null,
   "id": "2ec1d402-7bf9-4ec5-8209-ec0c023622f4",
   "metadata": {},
   "outputs": [],
   "source": [
    "df$flag <- FALSE\n",
    "df$true_false <- FALSE\n"
   ]
  },
  {
   "cell_type": "code",
   "execution_count": null,
   "id": "4c25354d-5db4-4eda-bf18-fe106bfd67ee",
   "metadata": {
    "tags": []
   },
   "outputs": [],
   "source": [
    "head(df, 2)"
   ]
  },
  {
   "cell_type": "markdown",
   "id": "ad6fef1e-5fa2-4f99-8d77-c5706407dfde",
   "metadata": {},
   "source": [
    "## <font color = yellow>1. Create data & dfs"
   ]
  },
  {
   "cell_type": "code",
   "execution_count": null,
   "id": "105641ba-51ef-4815-9840-faa128ad81b9",
   "metadata": {
    "tags": []
   },
   "outputs": [],
   "source": [
    "create_data <- function () {   \n",
    "   \n",
    "    df <- read.csv(\"fifo_new.csv\", header = TRUE, sep = \",\")\n",
    "    df$date <- as.Date(df$date, origin = \"1899-12-30\")\n",
    " \n",
    "    df$flag <- FALSE\n",
    "    df$true_false <- FALSE\n",
    "    \n",
    "    sale_records <- data.frame() \n",
    "\n",
    "    # create dfs from filtered df\n",
    "    buys <- df[df$type == 'Buy', ]  # Filter buys\n",
    "    sells <- df[df$type == 'Sell', ]  # Filter sells\n",
    "    b <- buys[1,]\n",
    "    s <- sells[1,]\n",
    "    \n",
    "    \n",
    "    # Assign variables to the global environment\n",
    "    assign(\"df\", df, envir = .GlobalEnv)\n",
    "    assign(\"buys\", buys, envir = .GlobalEnv)\n",
    "    assign(\"sells\", sells, envir = .GlobalEnv)\n",
    "    assign(\"b\", b, envir = .GlobalEnv)\n",
    "    assign(\"s\", s, envir = .GlobalEnv)\n",
    "    \n",
    "    }\n",
    "\n",
    "create_data()\n"
   ]
  },
  {
   "cell_type": "code",
   "execution_count": null,
   "id": "dac210bc-b2a1-47f7-a378-811d8a6122d5",
   "metadata": {},
   "outputs": [],
   "source": [
    "dim(df)\n"
   ]
  },
  {
   "cell_type": "code",
   "execution_count": null,
   "id": "ca83265f-1bf6-45a0-b31e-0894e4361de8",
   "metadata": {},
   "outputs": [],
   "source": []
  },
  {
   "cell_type": "markdown",
   "id": "72333e7b-7971-4afa-9494-ad26116963ab",
   "metadata": {},
   "source": [
    "## <font color = lime> Examining data and dfs"
   ]
  },
  {
   "cell_type": "code",
   "execution_count": null,
   "id": "fd062d61-00f0-423e-af2f-58298aa04f5e",
   "metadata": {},
   "outputs": [],
   "source": []
  },
  {
   "cell_type": "code",
   "execution_count": null,
   "id": "5a58d2a1-bd12-489a-9ce3-48e1a5ba6dda",
   "metadata": {},
   "outputs": [],
   "source": [
    "nrow(buys)\n",
    "nrow(sells)\n",
    "dim(sells)\n",
    "head(buys, 2)\n",
    "head(sells,2)"
   ]
  },
  {
   "cell_type": "code",
   "execution_count": null,
   "id": "97c24639-f462-4470-b313-d40e24a5f1cb",
   "metadata": {},
   "outputs": [],
   "source": [
    "dim(b)\n",
    "b"
   ]
  },
  {
   "cell_type": "markdown",
   "id": "20e00a2d-d145-4062-ab58-910dee152307",
   "metadata": {},
   "source": [
    "## <font color = yellow>2. Update b - the variable that records each buy/sell transaction (w/in loop)\n",
    "    \n",
    "#### b>s, b<s, b==s,"
   ]
  },
  {
   "cell_type": "code",
   "execution_count": null,
   "id": "1978c836-b9a7-4f64-86fe-bff3c8f19743",
   "metadata": {},
   "outputs": [],
   "source": [
    "for(i in 1:3) {\n",
    "    cat(\"for loop, loop is i: \", i, \"\\n\")\n",
    "    }"
   ]
  },
  {
   "cell_type": "code",
   "execution_count": null,
   "id": "2c110e59-8021-41c9-a39e-918d3020b6df",
   "metadata": {},
   "outputs": [],
   "source": [
    "last_row <- tail(buys, n = 1)\n",
    "last_row"
   ]
  },
  {
   "cell_type": "code",
   "execution_count": null,
   "id": "bc6cc4bb-0b62-4a60-ae33-36407796246a",
   "metadata": {},
   "outputs": [],
   "source": []
  },
  {
   "cell_type": "markdown",
   "id": "5cd65c8a-88a2-434f-afe7-9cccbb2cc00b",
   "metadata": {},
   "source": [
    "#### <font color = lime> Basic version: when b == s ( creates no c/f)\n",
    "    \n",
    "#### <font color = lime> Basic version: when b > s (creates b c/f)    \n",
    "    \n",
    "#### <font color = lime> Basic version: when b < s (creates s c/f)\n",
    "    "
   ]
  },
  {
   "cell_type": "code",
   "execution_count": null,
   "id": "089c01db-88a1-4c20-aa2b-4f1e4e64ba3f",
   "metadata": {},
   "outputs": [],
   "source": [
    "# # update b based upon the Sale Type: b>s, b<s, b==s \n",
    "\n",
    "update_b <- function() {\n",
    "\n",
    "\n",
    "        # ( b > s ) ,  Buy C/F \n",
    "    \n",
    "        if ( b$quan > s$quan) { \n",
    "            \n",
    "            b$sale_quan  <- s$quan    \n",
    "            b$buy_quan <- s$quan\n",
    "            b$buy_pps <-  b$pps\n",
    "            b$buy_basis <-  b$buy_quan * b$pps\n",
    "\n",
    "            b$sell_quan <- s$quan    \n",
    "            b$sell_pps <- s$pps\n",
    "            b$sell_basis <- s$quan * s$pps\n",
    "\n",
    "            b$sold_cf_quan <- (b$quan - s$quan)        \n",
    "            b$sold_cf_pps <- b$pps\n",
    "            b$sold_cf_basis <- b$sold_cf_quan * b$pps \n",
    "            b$profit_loss <- b$sell_basis - b$buy_basis\n",
    "            \n",
    "            # Has buy c/f \n",
    "            b$flag <- TRUE         \n",
    "    \n",
    "       # ( s > b ), has sell carryforward\n",
    " \n",
    "        }else if(b$quan < s$quan) {\n",
    "            \n",
    "            b$basis <-  b$quan * b$pps\n",
    "            b$sale_quan <- b$quan\n",
    "           \n",
    "            b$buy_quan <- b$quan\n",
    "            b$buy_pps <-  b$pps\n",
    "            b$buy_basis <- b$basis\n",
    "         \n",
    "            # Sell c/f\n",
    "            sold_cf_quan <- s$quan - b$quan           \n",
    "            b$sold_cf_quan <- sold_cf_quan\n",
    "            b$sold_cf_pps <- s$pps\n",
    "            b$sold_cf_basis <- sold_cf_quan * s$pps\n",
    "                   \n",
    "            b$sell_quan <- b$quan\n",
    "            b$sell_pps <- s$pps\n",
    "            b$sell_basis <- b$quan * s$pps\n",
    "            b$profit_loss <- b$sell_basis - b$buy_basis\n",
    "            \n",
    "            # Has sell c/f \n",
    "            b$true_false <- TRUE\n",
    "           \n",
    " #  s$type <- \"SELL-CF\"   \n",
    "            \n",
    "        }else if (b$quan == s$quan) {            \n",
    "                  \n",
    "            b$buy_quan <- s$quan\n",
    "            b$buy_pps <-  b$pps\n",
    "            b$buy_basis <- b$buy_quan * b$pps\n",
    "\n",
    "            b$sell_quan <- s$quan    \n",
    "            b$sell_pps <- s$pps\n",
    "            b$sell_basis <- s$quan * s$pps\n",
    "            b$profit_loss <- b$sell_basis - b$buy_basis\n",
    "          \n",
    " #           s$type <- \"SOLD\"            \n",
    "            }\n",
    "            \n",
    "        return(b)   \n",
    "}  # fct\n",
    "\n",
    "updated_b <- update_b()\n",
    "updated_b  \n",
    "    "
   ]
  },
  {
   "cell_type": "code",
   "execution_count": null,
   "id": "f3f79289-4eeb-41ab-bbc5-deb928101421",
   "metadata": {
    "tags": []
   },
   "outputs": [],
   "source": [
    "# print(t(updated_b))"
   ]
  },
  {
   "cell_type": "markdown",
   "id": "30bece1a-1bf9-490f-a665-33483217b1fd",
   "metadata": {},
   "source": [
    "### <font color = yellow>3. Create a new variable from buys/sells row 1, then delete row 1 from buys and sells (copy_snip () )  MOVED"
   ]
  },
  {
   "cell_type": "code",
   "execution_count": null,
   "id": "15ff4381-bf59-4b78-89a8-5fbdbe8ba938",
   "metadata": {},
   "outputs": [],
   "source": [
    "dim(buys)\n",
    "dim(sells)"
   ]
  },
  {
   "cell_type": "code",
   "execution_count": null,
   "id": "6e7ecb99-08c6-47b2-9459-dcb78518bba8",
   "metadata": {},
   "outputs": [],
   "source": [
    "#  save_sell_one <- data.frame()   #  keep for c/f >> Sell[1, ]\n",
    "copy_snip <- function (buys, sells) {\n",
    "   \n",
    "    b1 <- buys [1, ]\n",
    "    s1 <- sells [1, ]\n",
    "    dim(s1)\n",
    "    # save_buy_one <- buys[-1,]\n",
    "\n",
    "    buys <- buys[-1, ]\n",
    "    sells <- sells[-1, ]\n",
    "    \n",
    "    return(list(b1, s1, buys, sells))\n",
    "        }\n",
    "\n",
    "# copy_snip_list <- copy_snip(buys, sells) \n",
    "\n",
    "# b1 <- copy_snip_list[[1]]\n",
    "# s1 <- copy_snip_list[[2]]\n",
    "# buys <- copy_snip_list[[3]]\n",
    "# sells <- copy_snip_list[[4]]\n",
    "\n",
    "# after\n",
    "# dim(buys)\n",
    "# dim(sells)\n",
    "# b1\n",
    "# s1"
   ]
  },
  {
   "cell_type": "code",
   "execution_count": null,
   "id": "5b735dc6-0781-49d5-8dfe-58731fa55f3c",
   "metadata": {},
   "outputs": [],
   "source": []
  },
  {
   "cell_type": "markdown",
   "id": "0d43233d-62de-4ac3-9e39-d0b622ce7e10",
   "metadata": {},
   "source": [
    "### <font color = yellow>4. Update the sales_records (rbind) with updated_b for each transaction (loop)"
   ]
  },
  {
   "cell_type": "code",
   "execution_count": null,
   "id": "82abe5ba-1344-406b-b56e-55d4cc6fdddb",
   "metadata": {},
   "outputs": [],
   "source": [
    "df_name <- \"iris\"  # Replace with your data frame name\n",
    "tryCatch(is.data.frame(get(df_name)), error = function(cond) FALSE)\n",
    "         "
   ]
  },
  {
   "cell_type": "code",
   "execution_count": null,
   "id": "1717cd60-4aa1-4fed-bc93-41450e0677c2",
   "metadata": {},
   "outputs": [],
   "source": [
    "df_name <- \"sale_records\"\n",
    "tryCatch(is.data.frame(get(df_name)), error = function(cond) FALSE)"
   ]
  },
  {
   "cell_type": "code",
   "execution_count": null,
   "id": "44f1c396-4486-41d7-8882-a40e02f98b16",
   "metadata": {},
   "outputs": [],
   "source": [
    "# sale_records <- data.frame()\n",
    "# sale_records <- rbind(sale_records, updated_b)\n",
    "# sale_records\n",
    "                      "
   ]
  },
  {
   "cell_type": "code",
   "execution_count": null,
   "id": "cd5691fa-7500-4943-962c-784d40a8621e",
   "metadata": {},
   "outputs": [],
   "source": [
    "if (exists(\"sale_records\") && is.data.frame(get(\"sale_records\"))) {\n",
    "  # Data frame exists and is a valid data frame\n",
    "  # Your code here...\n",
    "    cat(\"sale_records exists:     \", \"\\n\") \n",
    "} else {\n",
    "  # Data frame does not exist or is not a valid data frame\n",
    "  # Handle the case where the data frame is missing...\n",
    "    cat(\"Newly created sale_records with updated_b data. \", \"\\n\")\n",
    "    sale_records <- data.frame()\n",
    "    sale_records <- rbind(sale_records, updated_b)    \n",
    "}\n",
    "sale_records"
   ]
  },
  {
   "cell_type": "code",
   "execution_count": null,
   "id": "ebf5831f-c5f1-4d4b-a1d9-306acaf06701",
   "metadata": {},
   "outputs": [],
   "source": []
  },
  {
   "cell_type": "code",
   "execution_count": null,
   "id": "737cad74-12aa-4548-bf41-1de2584d4fd1",
   "metadata": {},
   "outputs": [],
   "source": [
    "updated_b"
   ]
  },
  {
   "cell_type": "code",
   "execution_count": null,
   "id": "729dfdc3-b28c-4b8f-a9a2-99652d2f311c",
   "metadata": {},
   "outputs": [],
   "source": [
    "dim(buys)\n",
    "dim(sells)"
   ]
  },
  {
   "cell_type": "markdown",
   "id": "333f2288-156e-40d7-b4aa-c3f2d88ba08e",
   "metadata": {},
   "source": [
    "### <font color = yellow> 5. Update buys or sells with a new row (add_row) - whenever a transaction (loop) includes  c/f\n",
    "    \n",
    "###### Uses add_row () to transform any existing carryforward (buy or sell type) into the next element that will be processed for next (loop) buy/sell transaction\n"
   ]
  },
  {
   "cell_type": "markdown",
   "id": "cd875283-4243-429e-bae5-fa14495c644f",
   "metadata": {},
   "source": [
    "#### <font color = lime> How it's done"
   ]
  },
  {
   "cell_type": "code",
   "execution_count": null,
   "id": "54624e6b-c644-4f03-9403-7741466d233e",
   "metadata": {},
   "outputs": [],
   "source": [
    "# good example from R:  ?add_row\n",
    "df <- tibble(x = 1:3, y = 3:1)\n",
    "\n",
    "df <- df %>% add_row(x = 4, y = 0, .before = 2)\n",
    "df"
   ]
  },
  {
   "cell_type": "code",
   "execution_count": null,
   "id": "121b5752-626c-4e22-aaec-989b5009e98a",
   "metadata": {},
   "outputs": [],
   "source": [
    "first_row <- head(sells, n = 1)\n",
    "first_row"
   ]
  },
  {
   "cell_type": "code",
   "execution_count": null,
   "id": "b574f4cf-4e75-4eff-bb37-e4054c9d9739",
   "metadata": {},
   "outputs": [],
   "source": [
    "last_row <- tail(sale_records, n = 1)\n",
    "last_row"
   ]
  },
  {
   "cell_type": "code",
   "execution_count": null,
   "id": "2f39beb3-3e0c-4361-aa7f-8fc466eecd0c",
   "metadata": {},
   "outputs": [],
   "source": [
    "# Evaluate the type of carryforward, then update buys or sells w/cf to prepare for next transaction (loop)\n",
    "\n",
    "update_withcf <- function(buys, sells) {\n",
    "\n",
    "    last_row <- tail(sale_records, n = 1)\n",
    "    \n",
    "    # b == s (no c/f)\n",
    "    if(last_row$flag == FALSE && last_row$true_false == FALSE) {\n",
    "         cat(\"\\n\", \"The buy == sell, t/f No update to buys or sells.  NO carryforward. \", last_row$buy_cf_quan, \"\\n\")\n",
    "      }  \n",
    "        \n",
    "    \n",
    "    #  b > s  ... buy c/f\n",
    "    if (last_row$flag == TRUE && last_row$true_false == FALSE ) {\n",
    "        cat(\"\\n\", \"There is Buy carryforward. Update buys \", last_row$sold_cf_quan, \"\\n\")\n",
    "\n",
    "        last_row$co <- \"c/f\"\n",
    "        b1 <- last_row\n",
    "       \n",
    "        b1$type <- \"Buy CF\"\n",
    "        b1$quan <- b1$sold_cf_quan\n",
    "        b1$pps <- b1$sold_cf_pps\n",
    "        b1$basis <- b1$sold_cf_basis\n",
    "        b1$sale_quan <- 0\n",
    "        b1[ , 10:ncol(b1)] <- 0\n",
    "\n",
    "        test <- buys\n",
    "        test <- test %>% add_row(b1, .before = 1)\n",
    "        buys <- test\n",
    "\n",
    "       \n",
    "    } else if (last_row$flag == FALSE && last_row$true_false == TRUE ) {\n",
    "       \n",
    "        cat(\"\\n\", \"There is Sold carryforward. Update sells \", last_row$sold_cf_quan, \"\\n\")\n",
    "            cat(\"dim(s1) : \", dim(s1), \"\\n\")\n",
    "         \n",
    "        last_row$co <- \"c/f\"\n",
    "        b1 <- last_row\n",
    "       \n",
    "        b1$type <- \"Sell CF\"\n",
    "        b1$quan <- b1$sold_cf_quan\n",
    "        b1$pps <- b1$sold_cf_pps\n",
    "        b1$basis <- b1$sold_cf_basis\n",
    "        b1$sale_quan <- 0\n",
    "        b1[ , 10:ncol(b1)] <- 0\n",
    "\n",
    "        test <- sells\n",
    "        test <- test %>% add_row(b1, .before = 1)\n",
    "        sells <- test\n",
    "                      \n",
    "        }\n",
    "\n",
    "    # print by type of c/f  ( buy or sell ) \n",
    "        if(last_row$flag == TRUE) {\n",
    "            cat(\"printing updated buys[1 ] w/ sold c/f \", \"\\n\")\n",
    "            b1\n",
    "            #buys[1, ]\n",
    "        }else if (last_row$true_false == TRUE) {\n",
    "            cat(\"printing: s1 ... Sells c/f \", \"\\n\")\n",
    "            s1\n",
    "        }else {\n",
    "            cat(\"If msg here, there is no CF and potential issue exists in fct update_withcf. \", \"\\n\")\n",
    "            }\n",
    "    \n",
    "    return(list(buys, sells))\n",
    "     \n",
    "  }  # fct\n",
    "\n",
    "# fct call\n",
    "return_list <- update_withcf(buys, sells)\n",
    "buys <- return_list[[1]]\n",
    "sells <- return_list[[2]]\n",
    "\n",
    "dim(buys)\n",
    "dim(sells)\n"
   ]
  },
  {
   "cell_type": "markdown",
   "id": "35cf7052-5523-4b99-a0df-0e38fe1d320c",
   "metadata": {},
   "source": [
    "### <font color = yellow>3. Create a new variable from buys/sells row 1, then delete row 1 from buys and sells (copy_snip () )"
   ]
  },
  {
   "cell_type": "code",
   "execution_count": null,
   "id": "699122cb-7b66-4179-afeb-f1f11abefa03",
   "metadata": {},
   "outputs": [],
   "source": [
    "buys[1,]"
   ]
  },
  {
   "cell_type": "code",
   "execution_count": null,
   "id": "22c08f90-8fd4-4aa8-ae33-ab4b62916a46",
   "metadata": {},
   "outputs": [],
   "source": [
    "dim(buys)\n",
    "dim(sells)"
   ]
  },
  {
   "cell_type": "code",
   "execution_count": null,
   "id": "856f2e15-794f-4d44-90a6-3b07b035786b",
   "metadata": {},
   "outputs": [],
   "source": [
    "#  save_sell_one <- data.frame()   #  keep for c/f >> Sell[1, ]\n",
    "copy_snip <- function (buys, sells) {\n",
    "   \n",
    "    b1 <- buys [1, ]\n",
    "    s1 <- sells [1, ]\n",
    "    dim(s1)\n",
    "    # save_buy_one <- buys[-1,]\n",
    "\n",
    "    buys <- buys[-1, ]\n",
    "    sells <- sells[-1, ]\n",
    "    \n",
    "    return(list(b1, s1, buys, sells))\n",
    "        }\n",
    "\n",
    "copy_snip_list <- copy_snip(buys, sells) \n",
    "\n",
    "b1 <- copy_snip_list[[1]]\n",
    "s1 <- copy_snip_list[[2]]\n",
    "buys <- copy_snip_list[[3]]\n",
    "sells <- copy_snip_list[[4]]\n",
    "\n",
    "# after\n",
    "dim(buys)\n",
    "dim(sells)\n",
    "b1\n",
    "s1"
   ]
  },
  {
   "cell_type": "markdown",
   "id": "d3c3f312-f2ea-42ef-93cc-7b0b362417c6",
   "metadata": {},
   "source": [
    "#### <font color = lime> QC: review buys-sells for updated carryforward\n",
    "    \n",
    "#### When c/f exists, that c/f (type) must be inserted into the next row of either buys or sells"
   ]
  },
  {
   "cell_type": "code",
   "execution_count": null,
   "id": "6bc3881e-d099-4b5a-9834-d54fb03b48d9",
   "metadata": {},
   "outputs": [],
   "source": [
    "head(buys,2)\n",
    "head(sells,2)"
   ]
  },
  {
   "cell_type": "code",
   "execution_count": null,
   "id": "a71687c7-80e7-4e95-90f5-8ef13f260562",
   "metadata": {},
   "outputs": [],
   "source": []
  },
  {
   "cell_type": "markdown",
   "id": "eab5aa35-2ed8-4e56-a5d5-6971ccdfb8a0",
   "metadata": {},
   "source": [
    "#### <font color = lime> QC: review sale_record for accuracy"
   ]
  },
  {
   "cell_type": "code",
   "execution_count": null,
   "id": "ae6231d1-0886-472d-8503-a11e04165b1a",
   "metadata": {},
   "outputs": [],
   "source": [
    "sale_records"
   ]
  },
  {
   "cell_type": "markdown",
   "id": "10a3a398-05db-4786-914e-ad9ace85e93b",
   "metadata": {},
   "source": [
    "### <font color = lime> Got it!  The components above are modular and can be combined into a loop"
   ]
  },
  {
   "cell_type": "code",
   "execution_count": null,
   "id": "e1e64fda-22b1-46d5-82b7-d62f047f657a",
   "metadata": {},
   "outputs": [],
   "source": []
  },
  {
   "cell_type": "code",
   "execution_count": null,
   "id": "558ac618-20c0-44d1-92da-2293b36c7aad",
   "metadata": {},
   "outputs": [],
   "source": [
    "stopps #  Old code"
   ]
  },
  {
   "cell_type": "code",
   "execution_count": null,
   "id": "e934fa25-3b0c-4d58-ab5c-19e9be2b3268",
   "metadata": {},
   "outputs": [],
   "source": []
  },
  {
   "cell_type": "code",
   "execution_count": null,
   "id": "f4c6ae61-4314-415d-b824-b2a7ef9be0a1",
   "metadata": {},
   "outputs": [],
   "source": []
  },
  {
   "cell_type": "code",
   "execution_count": null,
   "id": "d62ce1e4-24c7-4fe2-b493-e1a162b92c8f",
   "metadata": {},
   "outputs": [],
   "source": []
  },
  {
   "cell_type": "code",
   "execution_count": null,
   "id": "875127a6-4e57-4f10-aff9-973070ccfa79",
   "metadata": {},
   "outputs": [],
   "source": []
  },
  {
   "cell_type": "code",
   "execution_count": null,
   "id": "a476d6e4-0b7a-4841-be3f-51998a6491eb",
   "metadata": {},
   "outputs": [],
   "source": []
  },
  {
   "cell_type": "code",
   "execution_count": null,
   "id": "e3905406-74f3-4a78-a592-6cb83f820054",
   "metadata": {},
   "outputs": [],
   "source": []
  },
  {
   "cell_type": "code",
   "execution_count": null,
   "id": "5f10b8c8-2e61-4bcc-8ae3-f346b18056f5",
   "metadata": {},
   "outputs": [],
   "source": []
  },
  {
   "cell_type": "code",
   "execution_count": null,
   "id": "9fb511f3-d33e-466f-8c53-77ccccedae6e",
   "metadata": {},
   "outputs": [],
   "source": []
  },
  {
   "cell_type": "code",
   "execution_count": null,
   "id": "3c99aca7-d24d-4f0e-9e03-81a81520ee45",
   "metadata": {},
   "outputs": [],
   "source": []
  },
  {
   "cell_type": "code",
   "execution_count": null,
   "id": "60c3c5e3-17c3-4cb3-b06a-dc3c5017243a",
   "metadata": {},
   "outputs": [],
   "source": []
  },
  {
   "cell_type": "code",
   "execution_count": null,
   "id": "c84d3741-70ff-4dcb-9940-11ce7525b067",
   "metadata": {},
   "outputs": [],
   "source": []
  },
  {
   "cell_type": "code",
   "execution_count": null,
   "id": "0fb964d3-d5f8-4565-95bf-7a8049999a95",
   "metadata": {},
   "outputs": [],
   "source": []
  },
  {
   "cell_type": "code",
   "execution_count": null,
   "id": "1ded953c-f5d5-4f62-8f83-7b1b04f09b03",
   "metadata": {},
   "outputs": [],
   "source": []
  },
  {
   "cell_type": "code",
   "execution_count": null,
   "id": "3ac6ac64-50d8-43a6-8a63-06cc27db0793",
   "metadata": {},
   "outputs": [],
   "source": []
  },
  {
   "cell_type": "code",
   "execution_count": null,
   "id": "9fefacea-9f2b-4ab3-b72d-feb7a7497991",
   "metadata": {},
   "outputs": [],
   "source": []
  },
  {
   "cell_type": "code",
   "execution_count": null,
   "id": "c58845c2-e647-44b1-b5fc-ec6d5a8e3365",
   "metadata": {},
   "outputs": [],
   "source": []
  },
  {
   "cell_type": "code",
   "execution_count": null,
   "id": "15f91c20-9bae-42f4-81e5-ce076e1fc405",
   "metadata": {},
   "outputs": [],
   "source": []
  },
  {
   "cell_type": "code",
   "execution_count": null,
   "id": "471e5f81-575f-4712-952e-8251cb70d9ef",
   "metadata": {},
   "outputs": [],
   "source": []
  },
  {
   "cell_type": "code",
   "execution_count": null,
   "id": "beb5ecda-e0f9-4064-bac7-861dbf124da4",
   "metadata": {},
   "outputs": [],
   "source": []
  },
  {
   "cell_type": "code",
   "execution_count": null,
   "id": "4d778188-1f3b-4fce-afe0-a27a378ff906",
   "metadata": {},
   "outputs": [],
   "source": []
  },
  {
   "cell_type": "code",
   "execution_count": null,
   "id": "b6944344-9fec-48be-9128-523a11aaa434",
   "metadata": {},
   "outputs": [],
   "source": []
  },
  {
   "cell_type": "code",
   "execution_count": null,
   "id": "b1195d86-25bc-485f-90eb-31e41c982b63",
   "metadata": {},
   "outputs": [],
   "source": []
  },
  {
   "cell_type": "code",
   "execution_count": null,
   "id": "444161d0-cf0f-483c-b229-ebb539134e36",
   "metadata": {},
   "outputs": [],
   "source": []
  },
  {
   "cell_type": "code",
   "execution_count": null,
   "id": "ddcc6801-a6e7-491b-9a6e-1a6dbf7f1ff3",
   "metadata": {},
   "outputs": [],
   "source": []
  },
  {
   "cell_type": "code",
   "execution_count": null,
   "id": "5b13fac8-9930-4714-a2ed-6b7e96007bdd",
   "metadata": {},
   "outputs": [],
   "source": []
  },
  {
   "cell_type": "code",
   "execution_count": null,
   "id": "53f68753-ea51-4ac7-885a-7f8d72cf426c",
   "metadata": {},
   "outputs": [],
   "source": []
  },
  {
   "cell_type": "code",
   "execution_count": null,
   "id": "1b72a6bc-ea4c-46b9-9264-ddb9176626d5",
   "metadata": {},
   "outputs": [],
   "source": []
  },
  {
   "cell_type": "code",
   "execution_count": null,
   "id": "bcec074e-99cc-44a9-a789-951e3d1f1096",
   "metadata": {},
   "outputs": [],
   "source": []
  },
  {
   "cell_type": "code",
   "execution_count": null,
   "id": "5dc6f7ef-b304-4455-a71c-6eb0e6917eee",
   "metadata": {},
   "outputs": [],
   "source": [
    "dim(sale_records)"
   ]
  },
  {
   "cell_type": "code",
   "execution_count": null,
   "id": "f6b72dc6-17f5-4b5e-b780-4283f70f2122",
   "metadata": {},
   "outputs": [],
   "source": []
  },
  {
   "cell_type": "markdown",
   "id": "5af8547e-56ed-433c-8ab9-f582710678ce",
   "metadata": {},
   "source": [
    "## <font color = yellow> Proof of Concept above. Make it loop 2 x."
   ]
  },
  {
   "cell_type": "code",
   "execution_count": null,
   "id": "beeb8a5b-1dd6-43e6-8db6-e3b03fd388ca",
   "metadata": {},
   "outputs": [],
   "source": []
  },
  {
   "cell_type": "markdown",
   "id": "fe9a4eff-5362-471b-b888-4713a200ffdb",
   "metadata": {},
   "source": [
    "#### <font color = yellow>1. Create data & dfs"
   ]
  },
  {
   "cell_type": "code",
   "execution_count": null,
   "id": "c707802d-aed2-4ce8-be9a-aedda0ec9b12",
   "metadata": {},
   "outputs": [],
   "source": [
    "# create_data <- function () {   \n",
    "   \n",
    "#     df <- read.csv(\"fifo_new.csv\", header = TRUE, sep = \",\")\n",
    "#     df$date <- as.Date(df$date, origin = \"1899-12-30\")\n",
    " \n",
    "#     df$flag <- FALSE\n",
    "#     df$true_false <- FALSE\n",
    "    \n",
    "#     sale_records <- data.frame() \n",
    "\n",
    "#     # create dfs from filtered df\n",
    "#     buys <- df[df$type == 'Buy', ]  # Filter buys\n",
    "#     sells <- df[df$type == 'Sell', ]  # Filter sells\n",
    "#     b <- buys[1,]\n",
    "#     s <- sells[1,]\n",
    "    \n",
    "    \n",
    "#     # Assign variables to the global environment\n",
    "#     assign(\"df\", df, envir = .GlobalEnv)\n",
    "#     assign(\"buys\", buys, envir = .GlobalEnv)\n",
    "#     assign(\"sells\", sells, envir = .GlobalEnv)\n",
    "#     assign(\"b\", b, envir = .GlobalEnv)\n",
    "#     assign(\"s\", s, envir = .GlobalEnv)\n",
    "    \n",
    "#     }\n",
    "\n",
    "#  create_data()"
   ]
  },
  {
   "cell_type": "code",
   "execution_count": null,
   "id": "3b152a3e-c7de-4314-8ddc-cf6c5d876ace",
   "metadata": {},
   "outputs": [],
   "source": [
    "# fct call   ... in loop 2, only need new b and s\n",
    "b <- buys[1,]\n",
    "s <- sells[1,]"
   ]
  },
  {
   "cell_type": "markdown",
   "id": "31f51e3d-191f-452b-b4d0-9a9cab7ba55c",
   "metadata": {},
   "source": [
    "### <font color = yellow>2. Update b - the variable that records each buy/sell transaction (w/in loop)\n",
    "    \n",
    "#### b>s, b<s, b==s,"
   ]
  },
  {
   "cell_type": "code",
   "execution_count": null,
   "id": "b9477fb0-de01-4d4e-865a-b05786c7b4fd",
   "metadata": {},
   "outputs": [],
   "source": [
    "b"
   ]
  },
  {
   "cell_type": "code",
   "execution_count": null,
   "id": "e1d3fcc7-1095-4939-bfec-9c251362215a",
   "metadata": {},
   "outputs": [],
   "source": [
    "# # update b based upon the Sale Type: b>s, b<s, b==s \n",
    "\n",
    "update_b <- function() {\n",
    "\n",
    "\n",
    "        # ( b > s ) ,  Buy C/F \n",
    "    \n",
    "        if ( b$quan > s$quan) { \n",
    "            \n",
    "            b$sale_quan  <- s$quan    \n",
    "            b$buy_quan <- s$quan\n",
    "            b$buy_pps <-  b$pps\n",
    "            b$buy_basis <-  b$buy_quan * b$pps\n",
    "\n",
    "            b$sell_quan <- s$quan    \n",
    "            b$sell_pps <- s$pps\n",
    "            b$sell_basis <- s$quan * s$pps\n",
    "\n",
    "            b$sold_cf_quan <- (b$quan - s$quan)        \n",
    "            b$sold_cf_pps <- b$pps\n",
    "            b$sold_cf_basis <- b$sold_cf_quan * b$pps \n",
    "            b$profit_loss <- b$sell_basis - b$buy_basis\n",
    "            \n",
    "            # Has buy c/f \n",
    "            b$flag <- TRUE         \n",
    "    \n",
    "       # ( s > b ), has sell carryforward\n",
    " \n",
    "        }else if(b$quan < s$quan) {\n",
    "            \n",
    "            b$basis <-  b$quan * b$pps\n",
    "            b$sale_quan <- b$quan\n",
    "           \n",
    "            b$buy_quan <- b$quan\n",
    "            b$buy_pps <-  b$pps\n",
    "            b$buy_basis <- b$basis\n",
    "         \n",
    "            # Sell c/f\n",
    "            sold_cf_quan <- s$quan - b$quan           \n",
    "            b$sold_cf_quan <- sold_cf_quan\n",
    "            b$sold_cf_pps <- s$pps\n",
    "            b$sold_cf_basis <- sold_cf_quan * s$pps\n",
    "                   \n",
    "            b$sell_quan <- b$quan\n",
    "            b$sell_pps <- s$pps\n",
    "            b$sell_basis <- b$quan * s$pps\n",
    "            b$profit_loss <- b$sell_basis - b$buy_basis\n",
    "            \n",
    "            # Has sell c/f \n",
    "            b$true_false <- TRUE\n",
    "           \n",
    " #  s$type <- \"SELL-CF\"   \n",
    "            \n",
    "        }else if (b$quan == s$quan) {            \n",
    "                  \n",
    "            b$buy_quan <- s$quan\n",
    "            b$buy_pps <-  b$pps\n",
    "            b$buy_basis <- b$buy_quan * b$pps\n",
    "\n",
    "            b$sell_quan <- s$quan    \n",
    "            b$sell_pps <- s$pps\n",
    "            b$sell_basis <- s$quan * s$pps\n",
    "            b$profit_loss <- b$sell_basis - b$buy_basis\n",
    "          \n",
    " #           s$type <- \"SOLD\"            \n",
    "            }\n",
    "            \n",
    "        return(b)   \n",
    "}  # fct\n",
    "\n",
    "updated_b <- update_b()\n",
    "updated_b  \n",
    "    \n",
    "    "
   ]
  },
  {
   "cell_type": "code",
   "execution_count": null,
   "id": "1d0caada-f7c8-4822-94f8-7719839eb506",
   "metadata": {
    "tags": []
   },
   "outputs": [],
   "source": [
    "# print(t(updated_b))"
   ]
  },
  {
   "cell_type": "code",
   "execution_count": null,
   "id": "5c8b3a1a-442c-483e-b932-40aabc91f49a",
   "metadata": {},
   "outputs": [],
   "source": []
  },
  {
   "cell_type": "markdown",
   "id": "90c7b050-17e0-4b5b-9659-7cb6ebdecc6c",
   "metadata": {},
   "source": [
    "### <font color = yellow>3. Create a new variable from buys/sells row 1, then delete row 1 from buys and sells\n",
    "    \n",
    "#### issues ... cannot snip the previous addition of c/f data"
   ]
  },
  {
   "cell_type": "code",
   "execution_count": null,
   "id": "628e4586-0428-4f0f-b9e5-4fec7164818e",
   "metadata": {},
   "outputs": [],
   "source": [
    "buys[1, ]\n",
    "sells[1, ]"
   ]
  },
  {
   "cell_type": "code",
   "execution_count": null,
   "id": "e382888c-8c83-4dde-a223-dce1488bab6f",
   "metadata": {},
   "outputs": [],
   "source": []
  },
  {
   "cell_type": "code",
   "execution_count": null,
   "id": "e2b2765b-df84-4fe1-bff8-0eef3aa480f0",
   "metadata": {},
   "outputs": [],
   "source": [
    "#  save_sell_one <- data.frame()   #  keep for c/f >> Sell[1, ]\n",
    "copy_snip <- function (buys, sells) {\n",
    "   \n",
    "    b1 <- buys [1, ]\n",
    "    s1 <- sells [1, ]\n",
    "    dim(s1)\n",
    "    # save_buy_one <- buys[-1,]\n",
    "    \n",
    "    if(buys$flag == FALSE ) {\n",
    "        cat(\"There is NO c/f ... t/f snip buys \", \"\\n\")\n",
    "         buys <- buys[-1, ]\n",
    "      \n",
    "    } else{\n",
    "        cat(\"There is c/f ... t/f do NOT snip buys \", \"\\n\")\n",
    "         \n",
    "    }\n",
    "     if(sells$true_false == TRUE ) {   \n",
    "        cat(\"There is c/f ... t/f, do NOT snip sells \", \"\\n\")\n",
    "    } else {\n",
    "          sells <- sells[-1, ]\n",
    "         }\n",
    "    \n",
    "    return(list(b1, s1, buys, sells))\n",
    "        }\n",
    "\n",
    "copy_snip_list <- copy_snip(buys, sells) \n",
    "\n",
    "b1 <- copy_snip_list[[1]]\n",
    "s1 <- copy_snip_list[[2]]\n",
    "buys <- copy_snip_list[[3]]\n",
    "sells <- copy_snip_list[[4]]\n",
    "\n",
    "# after\n",
    "dim(buys)\n",
    "dim(sells)\n",
    "b1\n",
    "s1"
   ]
  },
  {
   "cell_type": "code",
   "execution_count": null,
   "id": "df1ff18b-0908-413b-a54d-f5372a818696",
   "metadata": {},
   "outputs": [],
   "source": []
  },
  {
   "cell_type": "code",
   "execution_count": null,
   "id": "c6d87bab-60ee-4ed3-b834-c18d863dfc86",
   "metadata": {},
   "outputs": [],
   "source": []
  },
  {
   "cell_type": "code",
   "execution_count": null,
   "id": "c8c38b9c-8ca9-401d-8203-dbff36e4408c",
   "metadata": {},
   "outputs": [],
   "source": [
    "df_name <- \"sale_records\"\n",
    "tryCatch(is.data.frame(get(df_name)), error = function(cond) FALSE)"
   ]
  },
  {
   "cell_type": "markdown",
   "id": "9154257b-1029-43f7-874b-2e738d1e0da5",
   "metadata": {},
   "source": [
    "### <font color = yellow>4. Update the sales_records (rbind) with updated_b for each transaction (loop)"
   ]
  },
  {
   "cell_type": "code",
   "execution_count": null,
   "id": "e54c64f2-e095-4e6c-bf76-d3e352ee6d11",
   "metadata": {},
   "outputs": [],
   "source": [
    "# sale_records <- data.frame()\n",
    "# sale_records <- rbind(sale_records, updated_b)\n",
    "sale_records\n",
    "                      "
   ]
  },
  {
   "cell_type": "code",
   "execution_count": null,
   "id": "0e728103-35b2-41f1-8751-fe49b086f5a4",
   "metadata": {},
   "outputs": [],
   "source": [
    "if (exists(\"sale_records\") && is.data.frame(get(\"sale_records\"))) {\n",
    "  # Data frame exists and is a valid data frame\n",
    "  # Your code here...\n",
    "    cat(\"sale_records exists:     \", \"\\n\")\n",
    "    sale_records <- rbind(sale_records, updated_b)    \n",
    "} else {\n",
    "  # Data frame does not exist or is not a valid data frame\n",
    "  # Handle the case where the data frame is missing...\n",
    "   \n",
    "    # cat(\"Newly created sale_records with updated_b data. \", \"\\n\")\n",
    "    # sale_records <- data.frame()\n",
    "    \n",
    "}\n",
    "sale_records"
   ]
  },
  {
   "cell_type": "code",
   "execution_count": null,
   "id": "1c33f4d0-dc23-489d-baef-19695916dac6",
   "metadata": {},
   "outputs": [],
   "source": []
  },
  {
   "cell_type": "markdown",
   "id": "67d75cad-ad8a-4fce-8d19-fc25b2dc32a2",
   "metadata": {},
   "source": [
    "### <font color = yellow> 5. Update buys or sells with a new row (add_row) - whenever a transaction (loop) includes  c/f\n",
    "    \n",
    "###### Uses add_row () to transform any existing carryforward (buy or sell type) into the next element that will be processed for next (loop) buy/sell transaction"
   ]
  },
  {
   "cell_type": "code",
   "execution_count": null,
   "id": "e7ade1f6-069e-4478-840c-89303fc551b6",
   "metadata": {},
   "outputs": [],
   "source": [
    "dim(buys)\n",
    "dim(sells)"
   ]
  },
  {
   "cell_type": "code",
   "execution_count": null,
   "id": "2f1c0513-3c40-4291-a88c-6e71907afd5c",
   "metadata": {},
   "outputs": [],
   "source": [
    "# Evaluate the type of carryforward, then update buys or sells w/cf to prepare for next transaction (loop)\n",
    "\n",
    "update_withcf <- function(buys, sells) {\n",
    "\n",
    "    last_row <- tail(sale_records, n = 1)\n",
    "    \n",
    "    # b == s (no c/f)\n",
    "    if(last_row$flag == FALSE && last_row$true_false == FALSE) {\n",
    "         cat(\"\\n\", \"The buy == sell, t/f No update to buys or sells.  NO carryforward. \", last_row$buy_cf_quan, \"\\n\")\n",
    "      }  \n",
    "        \n",
    "    \n",
    "    #  b > s  ... buy c/f\n",
    "    if (last_row$flag == TRUE && last_row$true_false == FALSE ) {\n",
    "        cat(\"\\n\", \"There is Buy carryforward. Update buys \", last_row$sold_cf_quan, \"\\n\")\n",
    "\n",
    "        last_row$co <- \"c/f\"\n",
    "        b1 <- last_row\n",
    "       \n",
    "        b1$type <- \"Buy CF\"\n",
    "        b1$quan <- b1$sold_cf_quan\n",
    "        b1$pps <- b1$sold_cf_pps\n",
    "        b1$basis <- b1$sold_cf_basis\n",
    "        b1$sale_quan <- 0\n",
    "        b1[ , 10:ncol(b1)] <- 0\n",
    "\n",
    "        test <- buys\n",
    "        test <- test %>% add_row(b1, .before = 1)\n",
    "        buys <- test\n",
    "\n",
    "       \n",
    "    } else if (last_row$flag == FALSE && last_row$true_false == TRUE ) {\n",
    "       \n",
    "        cat(\"\\n\", \"There is Sold carryforward. Update sells \", last_row$sold_cf_quan, \"\\n\")\n",
    "            cat(\"dim(s1) : \", dim(s1), \"\\n\")\n",
    "         \n",
    "        last_row$co <- \"c/f\"\n",
    "        b1 <- last_row\n",
    "       \n",
    "        b1$type <- \"Sell CF\"\n",
    "        b1$quan <- b1$sold_cf_quan\n",
    "        b1$pps <- b1$sold_cf_pps\n",
    "        b1$basis <- b1$sold_cf_basis\n",
    "        b1$sale_quan <- 0\n",
    "        b1[ , 10:ncol(b1)] <- 0\n",
    "\n",
    "        test <- sells\n",
    "        test <- test %>% add_row(b1, .before = 1)\n",
    "        sells <- test\n",
    "                      \n",
    "        }\n",
    "\n",
    "    # print by type of c/f  ( buy or sell ) \n",
    "        if(last_row$flag == TRUE) {\n",
    "            cat(\"printing updated buys[1 ] w/ sold c/f \", \"\\n\")\n",
    "            b1\n",
    "            #buys[1, ]\n",
    "        }else if (last_row$true_false == TRUE) {\n",
    "            cat(\"printing: s1 ... Sells c/f \", \"\\n\")\n",
    "            s1\n",
    "        }else {\n",
    "            cat(\"If msg here, there is no CF and potential issue exists in fct update_withcf. \", \"\\n\")\n",
    "            }\n",
    "    \n",
    "    return(list(buys, sells))\n",
    "     \n",
    "  }  # fct\n",
    "\n",
    "# fct call\n",
    "return_list <- update_withcf(buys, sells)\n",
    "buys <- return_list[[1]]\n",
    "sells <- return_list[[2]]\n",
    "\n",
    "dim(buys)\n",
    "dim(sells)\n"
   ]
  },
  {
   "cell_type": "code",
   "execution_count": null,
   "id": "86e7f67a-61d6-495f-b301-7e6b97332dfa",
   "metadata": {},
   "outputs": [],
   "source": [
    "buys[1:2,]\n",
    "sells[1:2,]"
   ]
  },
  {
   "cell_type": "code",
   "execution_count": null,
   "id": "3eb1c195-84fe-4a4a-853e-0417df271b7d",
   "metadata": {},
   "outputs": [],
   "source": []
  },
  {
   "cell_type": "code",
   "execution_count": null,
   "id": "c11a969f-c060-445a-bc63-f3e5efcbb7dc",
   "metadata": {},
   "outputs": [],
   "source": []
  },
  {
   "cell_type": "markdown",
   "id": "6b5dd27c-8fd8-4c1a-85a7-d5c641d579dd",
   "metadata": {},
   "source": [
    "#### <font color = lime> QC: review buys-sells for updated carryforward\n",
    "    \n",
    "#### When c/f exists, that c/f (type) must be inserted into the next row of either buys or sells"
   ]
  },
  {
   "cell_type": "code",
   "execution_count": null,
   "id": "11994b08-8f12-4dda-8a01-fb7a3ab44196",
   "metadata": {},
   "outputs": [],
   "source": [
    "head(sells, 2)"
   ]
  },
  {
   "cell_type": "code",
   "execution_count": null,
   "id": "371397c7-3572-4060-9b05-be871dc5674f",
   "metadata": {},
   "outputs": [],
   "source": [
    "head(buys, 2)"
   ]
  },
  {
   "cell_type": "code",
   "execution_count": null,
   "id": "8b0ff2e0-d906-411e-9e2c-04d4ec2dbdbc",
   "metadata": {},
   "outputs": [],
   "source": []
  },
  {
   "cell_type": "code",
   "execution_count": null,
   "id": "9e026000-05d8-4e8d-8775-3bd049bfd287",
   "metadata": {},
   "outputs": [],
   "source": []
  },
  {
   "cell_type": "code",
   "execution_count": null,
   "id": "486936d4-30a5-47b4-b2b4-2dab2a16ebcd",
   "metadata": {},
   "outputs": [],
   "source": [
    "sale_records"
   ]
  },
  {
   "cell_type": "code",
   "execution_count": null,
   "id": "abf5ae4f-151e-4ded-9eb5-25a0af082e65",
   "metadata": {},
   "outputs": [],
   "source": []
  },
  {
   "cell_type": "code",
   "execution_count": null,
   "id": "042235f2-bae2-47c5-8755-ddcfa2786dc9",
   "metadata": {},
   "outputs": [],
   "source": [
    "stopps"
   ]
  },
  {
   "cell_type": "markdown",
   "id": "6a2f0c28-8e6e-4d7f-8eab-d61d52f5e06c",
   "metadata": {},
   "source": [
    "### <font color = lime > 1.  b and s"
   ]
  },
  {
   "cell_type": "code",
   "execution_count": null,
   "id": "65f80156-9425-4a69-8fb6-e65c6c39302d",
   "metadata": {},
   "outputs": [],
   "source": [
    "b <- buys[1,]\n",
    "s <- sells[1,]\n",
    "b\n",
    "s"
   ]
  },
  {
   "cell_type": "markdown",
   "id": "f0eac6d5-eaf2-4a50-b8a2-4612ef9ee4d1",
   "metadata": {},
   "source": [
    "### <font color = lime> 2.  updated_b  <-  b"
   ]
  },
  {
   "cell_type": "code",
   "execution_count": null,
   "id": "cf79e4a1-9a38-4dac-bf05-7c2821dbedc2",
   "metadata": {},
   "outputs": [],
   "source": [
    "# update b based on Sale Type: \n",
    "\n",
    "update_b <- function(b) {\n",
    "    \n",
    "     cat(\"Inside update_b, test for: $quan < s$quan && b$type == 'Buy CF': \", \"\\n\")\n",
    "    \n",
    "        if(b$quan < s$quan && b$type == 'Buy CF') {\n",
    "            cat(\"True\", \"\\n\")\n",
    "            }\n",
    "\n",
    "        sale <- s$quan\n",
    "        bs_ratio <- b$quan / s$quan\n",
    "        sold_cf_quan <-  b$quan - s$quan\n",
    "\n",
    "        # assign the cf values - if they exist\n",
    "         #  b > s ... restricted to Buy only\n",
    "        if ( b$quan > s$quan && b$type == \"Buy\") {  \n",
    "            \n",
    "            # b$sale_quan <- b$quan\n",
    "            b$buy_quan <- s$quan\n",
    "            b$buy_pps <-  b$pps\n",
    "            b$buy_basis <-  b$buy_quan * b$pps\n",
    "\n",
    "\n",
    "            b$sell_quan <- s$quan    # cannot sell more than the buy_quan\n",
    "           # b$sell_quan <- b$quan\n",
    "            b$sell_pps <- s$pps\n",
    "            b$sell_basis <- s$quan * s$pps\n",
    "\n",
    "            b$sold_cf_quan <- (b$quan - s$quan)        \n",
    "            b$cf_pps <- b$pps\n",
    "            b$cf_basis <- cf_quan * b$pps           \n",
    "\n",
    "            b$profit_loss <- b$sell_basis - b$buy_basis\n",
    "            # b$sale <- sale\n",
    "\n",
    "            s$type <- \"Buy-CF\"           \n",
    "        \n",
    "            \n",
    "        }else if( b$quan < s$quan && b$type == 'Buy CF') {    \n",
    "\n",
    "                # protect b from errors\n",
    "            temp <- b  \n",
    "\n",
    "            temp$type <- \"Buy-2xCF\"           \n",
    "            temp$sell_quan <- temp$quan\n",
    "            temp$sell_pps <- sale_records$sell_pps[1]\n",
    "            temp$sell_basis <- temp$sell_quan * sale_records$sell_pps\n",
    "            temp$profit_loss <- temp$sell_basis - temp$basis\n",
    "\n",
    "            temp$Sell_cf  <-  sale_records$sell_quan - sale_records$sold_cf_quan \n",
    "            temp$Sell_cf_pps   <- sale_records$sell_pps\n",
    "            # update b with temp\n",
    "            b <- temp\n",
    "            s$type <- \"Buy-2xCF\"       \n",
    "\n",
    "\n",
    "               # ( s > b ), has sell carryforward\n",
    "        }else if(s$quan > b$quan) {            \n",
    "            \n",
    "            b$sale_quan <- b$quan\n",
    "           # b$buy_quan <- s$quan \n",
    "            b$buy_quan <- b$quan\n",
    "            b$buy_pps <-  b$pps\n",
    "            b$buy_basis <-  b$buy_quan * b$pps\n",
    "        \n",
    "            # Sell c/f\n",
    "            S_cf_quan <- s$quan - b$quan           \n",
    "            b$Sell_cf <-S_cf_quan\n",
    "            b$Sell_cf_pps <- s$pps\n",
    "            b$Sell_cf_basis <- S_cf_quan * s$pps\n",
    "            \n",
    "     \n",
    "            b$sell_quan <- b$quan\n",
    "            b$sell_pps <- s$pps\n",
    "            b$sell_basis <- b$quan * s$pps\n",
    "\n",
    "            b$profit_loss <- b$sell_basis - b$buy_basis          \n",
    "            s$type <- \"SELL-CF\"   \n",
    "            \n",
    "        }else if (s$quan == b$quan) {            \n",
    "           \n",
    "             # b$sale_quan <- b$quan\n",
    "            b$buy_quan <- s$quan\n",
    "            b$buy_pps <-  b$pps\n",
    "            b$buy_basis <-  b$buy_quan * b$pps\n",
    "\n",
    "            b$sell_quan <- s$quan    # cannot sell more than the buy_quan\n",
    "           # b$sell_quan <- b$quan\n",
    "            b$sell_pps <- s$pps\n",
    "            b$sell_basis <- s$quan * s$pps\n",
    "\n",
    "            b$profit_loss <- b$sell_basis - b$buy_basis\n",
    "           # b$sale <- \"sale1\"\n",
    "            s$type <- \"SOLD\"\n",
    "            \n",
    "            }\n",
    "    \n",
    "        return(b)   \n",
    "}  # fct\n",
    "\n",
    "updated_b <- update_b(b)\n",
    "updated_b  \n",
    "    "
   ]
  },
  {
   "cell_type": "code",
   "execution_count": null,
   "id": "445d0f8d-8310-44ee-919f-91d5edac9c06",
   "metadata": {},
   "outputs": [],
   "source": []
  },
  {
   "cell_type": "code",
   "execution_count": null,
   "id": "fd14716b-08bc-4e22-a0bc-67b7102848e3",
   "metadata": {},
   "outputs": [],
   "source": []
  },
  {
   "cell_type": "markdown",
   "id": "7f95eaa4-a986-4155-9519-7a5e07c5ef93",
   "metadata": {},
   "source": [
    "### <font color = lime>3.  buys <- buy[-1, ], sells <- sells[-1, ]\n",
    "    \n",
    "##### Nec to start loop at the first (unprocessed rows in buys / sells at the top of the loop"
   ]
  },
  {
   "cell_type": "code",
   "execution_count": null,
   "id": "69bee614-20d5-4429-b4d7-5830c0a37453",
   "metadata": {},
   "outputs": [],
   "source": [
    "save_sell_one <- data.frame()   #  keep for c/f >> Sell[1, ]\n",
    "\n",
    "nrow(buys)\n",
    "\n",
    "save_sell_one <- sells [1, ]\n",
    "save_buy_one <- buys[-1,]\n",
    "\n",
    "buys <- buys[-1, ]\n",
    "sells <- sells[-1, ]\n",
    "\n",
    "# nrow(buys)"
   ]
  },
  {
   "cell_type": "code",
   "execution_count": null,
   "id": "9937dea1-f445-44ec-808f-b708bb74b6bd",
   "metadata": {},
   "outputs": [],
   "source": []
  },
  {
   "cell_type": "markdown",
   "id": "f404a837-6284-418f-87e3-2c1ea1df0d10",
   "metadata": {},
   "source": [
    "### <font color = lime> 4. sale_records <- rbind(sale_records, updated_b)"
   ]
  },
  {
   "cell_type": "code",
   "execution_count": null,
   "id": "d10b4e8c-efa4-4a9b-a82b-e1cf6905221c",
   "metadata": {},
   "outputs": [],
   "source": [
    "sale_records <- rbind(sale_records, updated_b)\n",
    "sale_records"
   ]
  },
  {
   "cell_type": "code",
   "execution_count": null,
   "id": "427616b1-b244-481e-913b-9ef9af1d7933",
   "metadata": {},
   "outputs": [],
   "source": []
  }
 ],
 "metadata": {
  "kernelspec": {
   "display_name": "R",
   "language": "R",
   "name": "ir"
  },
  "language_info": {
   "codemirror_mode": "r",
   "file_extension": ".r",
   "mimetype": "text/x-r-source",
   "name": "R",
   "pygments_lexer": "r",
   "version": "4.3.0"
  }
 },
 "nbformat": 4,
 "nbformat_minor": 5
}
